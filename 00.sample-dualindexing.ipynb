{
 "cells": [
  {
   "cell_type": "markdown",
   "id": "5adb7940-b891-4208-a8c6-4eb0a18df81f",
   "metadata": {},
   "source": [
    "## Dual Indexing-Sample Layout "
   ]
  },
  {
   "cell_type": "code",
   "execution_count": 1,
   "id": "1b74f807-1cc4-4b55-a65c-c1d35090291f",
   "metadata": {
    "tags": []
   },
   "outputs": [],
   "source": [
    "import pandas as pd\n",
    "import math\n",
    "from datetime import  datetime"
   ]
  },
  {
   "cell_type": "code",
   "execution_count": 2,
   "id": "09325937-a57e-4fa0-88c9-d8759d58d79a",
   "metadata": {},
   "outputs": [],
   "source": [
    "dt = datetime.today().strftime(format='%d-%m-%Y')"
   ]
  },
  {
   "cell_type": "markdown",
   "id": "44c01462-e623-49f0-bd8b-34036abc0eb8",
   "metadata": {},
   "source": [
    "### Load seq cheat sheet sample layout"
   ]
  },
  {
   "cell_type": "markdown",
   "id": "b3dc96e7-485d-46e0-b52c-90ff84d4e526",
   "metadata": {},
   "source": [
    "***Samples must be in multiple of 96 per plate, if not extrapolate arbitrarily to fill (a) plate(s)***\n",
    "\n",
    "***The columns for sample `name/id` and `plate-position` must be provided***"
   ]
  },
  {
   "cell_type": "code",
   "execution_count": 3,
   "id": "d2d5834c-7824-4a95-9889-31e5c5577858",
   "metadata": {},
   "outputs": [],
   "source": [
    "parent_dir = '/home/kibet/bioinformatics/github/covid/data/SarsGenomics/SARS-CoV-2/SeqSampleSheets'\n",
    "seq = 'seq53'\n",
    "df_seqcheat = (pd.read_excel(f'{parent_dir}/seq53_sampleSheet_JJ.xlsx', \n",
    "                usecols=['s_num', 'idx_plt_pos'], header=0).\n",
    "               dropna())"
   ]
  },
  {
   "cell_type": "code",
   "execution_count": 4,
   "id": "2631a121-63a8-4ed1-91c3-b4894c93f331",
   "metadata": {
    "tags": []
   },
   "outputs": [],
   "source": [
    "samp_list = list(df_seqcheat['s_num'])"
   ]
  },
  {
   "cell_type": "code",
   "execution_count": 5,
   "id": "703a0b5e-a4fa-476d-86b7-79556d5aea06",
   "metadata": {},
   "outputs": [
    {
     "data": {
      "text/plain": [
       "96"
      ]
     },
     "execution_count": 5,
     "metadata": {},
     "output_type": "execute_result"
    }
   ],
   "source": [
    "len(samp_list)"
   ]
  },
  {
   "cell_type": "code",
   "execution_count": 6,
   "id": "be677046-2e9c-4141-bdd2-9a0c6f8167ec",
   "metadata": {},
   "outputs": [],
   "source": [
    "count = 0\n",
    "plates = []\n",
    "plate = {'col1': [], 'col2': [], 'col3': [], 'col4': [], 'col5': [], 'col6': [],\n",
    "         'col7': [], 'col8': [], 'col9': [], 'col10': [], 'col11': [], 'col12': []}\n",
    "if len(samp_list) == 384:\n",
    "    nrows = 32\n",
    "elif len(samp_list) == 96:\n",
    "    nrows = 8\n",
    "else: \n",
    "    print('The number of samples is not 96 or 384\\nSamples must be in multiple of 96 per plate, if not extrapolate arbitrarily to fill (a) plate(s)')\n",
    "for r in range(nrows):\n",
    "    row = samp_list[count:count+12]\n",
    "    plate['col1'].append(row[0])\n",
    "    plate['col2'].append(row[1])\n",
    "    plate['col3'].append(row[2])\n",
    "    plate['col4'].append(row[3])\n",
    "    plate['col5'].append(row[4])\n",
    "    plate['col6'].append(row[5])\n",
    "    plate['col7'].append(row[6])\n",
    "    plate['col8'].append(row[7])\n",
    "    plate['col9'].append(row[8])\n",
    "    plate['col10'].append(row[9])\n",
    "    plate['col11'].append(row[10])\n",
    "    plate['col12'].append(row[11])\n",
    "    count += 12\n",
    "\n",
    "a = 8\n",
    "plt1=[]; plt2=[]; plt3=[]; plt4=[]\n",
    "for n in list(plate.values()):\n",
    "    if nrows == 8:\n",
    "        plt1 += n[:a]\n",
    "        all_plates = plt1\n",
    "    elif nrows == 32:\n",
    "        plt1 += n[:a]\n",
    "        plt2 += n[a:a*2]\n",
    "        plt3 += n[a*2:a*3]\n",
    "        plt4 += n[a*3:]\n",
    "        all_plates = plt1 + plt2 + plt3 + plt4\n",
    "    else: print('The number of plates is not 1 or 4')"
   ]
  },
  {
   "cell_type": "code",
   "execution_count": 7,
   "id": "71160397-a373-4d53-9d75-d162ecd9d179",
   "metadata": {},
   "outputs": [
    {
     "data": {
      "text/plain": [
       "96"
      ]
     },
     "execution_count": 7,
     "metadata": {},
     "output_type": "execute_result"
    }
   ],
   "source": [
    "sr_index = pd.Series(all_plates, name='indexing')\n",
    "len(sr_index)"
   ]
  },
  {
   "cell_type": "code",
   "execution_count": 8,
   "id": "33d927cd-3189-4277-b38a-4a02df32a46f",
   "metadata": {},
   "outputs": [],
   "source": [
    "df_index = sr_index.to_frame().merge(df_seqcheat, how='inner', left_on='indexing', right_on='s_num')"
   ]
  },
  {
   "cell_type": "code",
   "execution_count": 9,
   "id": "d997ac22-1af2-465c-b3bd-4e8ce3a30911",
   "metadata": {},
   "outputs": [
    {
     "data": {
      "text/html": [
       "<div>\n",
       "<style scoped>\n",
       "    .dataframe tbody tr th:only-of-type {\n",
       "        vertical-align: middle;\n",
       "    }\n",
       "\n",
       "    .dataframe tbody tr th {\n",
       "        vertical-align: top;\n",
       "    }\n",
       "\n",
       "    .dataframe thead th {\n",
       "        text-align: right;\n",
       "    }\n",
       "</style>\n",
       "<table border=\"1\" class=\"dataframe\">\n",
       "  <thead>\n",
       "    <tr style=\"text-align: right;\">\n",
       "      <th></th>\n",
       "      <th>indexing</th>\n",
       "      <th>s_num</th>\n",
       "      <th>idx_plt_pos</th>\n",
       "    </tr>\n",
       "  </thead>\n",
       "  <tbody>\n",
       "    <tr>\n",
       "      <th>0</th>\n",
       "      <td>NA001</td>\n",
       "      <td>NA001</td>\n",
       "      <td>A1</td>\n",
       "    </tr>\n",
       "    <tr>\n",
       "      <th>1</th>\n",
       "      <td>NA013</td>\n",
       "      <td>NA013</td>\n",
       "      <td>B1</td>\n",
       "    </tr>\n",
       "    <tr>\n",
       "      <th>2</th>\n",
       "      <td>NA025</td>\n",
       "      <td>NA025</td>\n",
       "      <td>C1</td>\n",
       "    </tr>\n",
       "    <tr>\n",
       "      <th>3</th>\n",
       "      <td>DVS-356-NC</td>\n",
       "      <td>DVS-356-NC</td>\n",
       "      <td>D1</td>\n",
       "    </tr>\n",
       "    <tr>\n",
       "      <th>4</th>\n",
       "      <td>JN-B1-C</td>\n",
       "      <td>JN-B1-C</td>\n",
       "      <td>E1</td>\n",
       "    </tr>\n",
       "    <tr>\n",
       "      <th>...</th>\n",
       "      <td>...</td>\n",
       "      <td>...</td>\n",
       "      <td>...</td>\n",
       "    </tr>\n",
       "    <tr>\n",
       "      <th>91</th>\n",
       "      <td>R10-SN-C</td>\n",
       "      <td>R10-SN-C</td>\n",
       "      <td>D12</td>\n",
       "    </tr>\n",
       "    <tr>\n",
       "      <th>92</th>\n",
       "      <td>NA045</td>\n",
       "      <td>NA045</td>\n",
       "      <td>POS45</td>\n",
       "    </tr>\n",
       "    <tr>\n",
       "      <th>93</th>\n",
       "      <td>NA057</td>\n",
       "      <td>NA057</td>\n",
       "      <td>POS57</td>\n",
       "    </tr>\n",
       "    <tr>\n",
       "      <th>94</th>\n",
       "      <td>NA069</td>\n",
       "      <td>NA069</td>\n",
       "      <td>POS69</td>\n",
       "    </tr>\n",
       "    <tr>\n",
       "      <th>95</th>\n",
       "      <td>NA081</td>\n",
       "      <td>NA081</td>\n",
       "      <td>POS81</td>\n",
       "    </tr>\n",
       "  </tbody>\n",
       "</table>\n",
       "<p>96 rows × 3 columns</p>\n",
       "</div>"
      ],
      "text/plain": [
       "      indexing       s_num idx_plt_pos\n",
       "0        NA001       NA001          A1\n",
       "1        NA013       NA013          B1\n",
       "2        NA025       NA025          C1\n",
       "3   DVS-356-NC  DVS-356-NC          D1\n",
       "4      JN-B1-C     JN-B1-C          E1\n",
       "..         ...         ...         ...\n",
       "91    R10-SN-C    R10-SN-C         D12\n",
       "92       NA045       NA045       POS45\n",
       "93       NA057       NA057       POS57\n",
       "94       NA069       NA069       POS69\n",
       "95       NA081       NA081       POS81\n",
       "\n",
       "[96 rows x 3 columns]"
      ]
     },
     "execution_count": 9,
     "metadata": {},
     "output_type": "execute_result"
    }
   ],
   "source": [
    "df_index"
   ]
  },
  {
   "cell_type": "code",
   "execution_count": 10,
   "id": "295bf1cf-c018-418d-bfe6-021a72b3758e",
   "metadata": {},
   "outputs": [],
   "source": [
    "df_index.to_excel(f'{parent_dir}/index_cheat_sheet_{seq}.xlsx', index=False)"
   ]
  },
  {
   "cell_type": "code",
   "execution_count": null,
   "id": "14770acb-1b51-4c9c-ab05-415414e631f1",
   "metadata": {},
   "outputs": [],
   "source": []
  }
 ],
 "metadata": {
  "kernelspec": {
   "display_name": "Python 3",
   "language": "python",
   "name": "python3"
  },
  "language_info": {
   "codemirror_mode": {
    "name": "ipython",
    "version": 3
   },
   "file_extension": ".py",
   "mimetype": "text/x-python",
   "name": "python",
   "nbconvert_exporter": "python",
   "pygments_lexer": "ipython3",
   "version": "3.10.5"
  }
 },
 "nbformat": 4,
 "nbformat_minor": 5
}
