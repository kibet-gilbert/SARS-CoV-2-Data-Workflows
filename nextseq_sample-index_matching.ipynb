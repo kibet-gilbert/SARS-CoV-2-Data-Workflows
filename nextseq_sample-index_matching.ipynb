{
 "cells": [
  {
   "cell_type": "markdown",
   "id": "5adb7940-b891-4208-a8c6-4eb0a18df81f",
   "metadata": {},
   "source": [
    "## 384 Indexing-Sample Layout "
   ]
  },
  {
   "cell_type": "code",
   "execution_count": 1,
   "id": "1b74f807-1cc4-4b55-a65c-c1d35090291f",
   "metadata": {},
   "outputs": [],
   "source": [
    "import pandas as pd"
   ]
  },
  {
   "cell_type": "markdown",
   "id": "44c01462-e623-49f0-bd8b-34036abc0eb8",
   "metadata": {},
   "source": [
    "### Load seq cheat sheet sample layout"
   ]
  },
  {
   "cell_type": "code",
   "execution_count": 2,
   "id": "d2d5834c-7824-4a95-9889-31e5c5577858",
   "metadata": {},
   "outputs": [],
   "source": [
    "parent_dir = '/home/douso/Documents/SarsGenomics'\n",
    "df_seqcheat = (pd.read_excel(f'{parent_dir}/sequencing_cheat_sheet_seq13.xlsx', \n",
    "                sheet_name='ngul2nM', usecols=['sample name', 'plate pos'], header=1).\n",
    "               dropna())"
   ]
  },
  {
   "cell_type": "code",
   "execution_count": 3,
   "id": "2631a121-63a8-4ed1-91c3-b4894c93f331",
   "metadata": {},
   "outputs": [],
   "source": [
    "samp_list = list(df_seqcheat['sample name'])"
   ]
  },
  {
   "cell_type": "code",
   "execution_count": 4,
   "id": "62f8a34f-f7bd-49f3-b300-4c0071f1eb87",
   "metadata": {},
   "outputs": [
    {
     "data": {
      "text/plain": [
       "384"
      ]
     },
     "execution_count": 4,
     "metadata": {},
     "output_type": "execute_result"
    }
   ],
   "source": [
    "len(samp_list)"
   ]
  },
  {
   "cell_type": "code",
   "execution_count": 5,
   "id": "be677046-2e9c-4141-bdd2-9a0c6f8167ec",
   "metadata": {},
   "outputs": [],
   "source": [
    "count = 0\n",
    "plates = []\n",
    "plate = {'col1': [], 'col2': [], 'col3': [], 'col4': [], 'col5': [], 'col6': [],\n",
    "         'col7': [], 'col8': [], 'col9': [], 'col10': [], 'col11': [], 'col12': []}\n",
    "for r in range(32):\n",
    "    row = samp_list[count:count+12]\n",
    "    plate['col1'].append(row[0])\n",
    "    plate['col2'].append(row[1])\n",
    "    plate['col3'].append(row[2])\n",
    "    plate['col4'].append(row[3])\n",
    "    plate['col5'].append(row[4])\n",
    "    plate['col6'].append(row[5])\n",
    "    plate['col7'].append(row[6])\n",
    "    plate['col8'].append(row[7])\n",
    "    plate['col9'].append(row[8])\n",
    "    plate['col10'].append(row[9])\n",
    "    plate['col11'].append(row[10])\n",
    "    plate['col12'].append(row[11])\n",
    "    count += 12\n",
    "\n",
    "a = 8\n",
    "plt1=[]; plt2=[]; plt3=[]; plt4=[]\n",
    "for n in list(plate.values()):#.astype(list)\n",
    "    plt1 += n[:a]\n",
    "    plt2 += n[a:a*2]\n",
    "    plt3 += n[a*2:a*3]\n",
    "    plt4 += n[a*3:]\n",
    "all_plates = plt1 + plt2 + plt3 + plt4"
   ]
  },
  {
   "cell_type": "code",
   "execution_count": 6,
   "id": "71160397-a373-4d53-9d75-d162ecd9d179",
   "metadata": {},
   "outputs": [
    {
     "data": {
      "text/plain": [
       "384"
      ]
     },
     "execution_count": 6,
     "metadata": {},
     "output_type": "execute_result"
    }
   ],
   "source": [
    "sr_index = pd.Series(all_plates, name='indexing')\n",
    "len(sr_index)"
   ]
  },
  {
   "cell_type": "code",
   "execution_count": 7,
   "id": "33d927cd-3189-4277-b38a-4a02df32a46f",
   "metadata": {},
   "outputs": [],
   "source": [
    "df_index = sr_index.to_frame().merge(df_seqcheat, how='inner', left_on='indexing', right_on='sample name')"
   ]
  },
  {
   "cell_type": "code",
   "execution_count": 8,
   "id": "d997ac22-1af2-465c-b3bd-4e8ce3a30911",
   "metadata": {},
   "outputs": [
    {
     "data": {
      "text/html": [
       "<div>\n",
       "<style scoped>\n",
       "    .dataframe tbody tr th:only-of-type {\n",
       "        vertical-align: middle;\n",
       "    }\n",
       "\n",
       "    .dataframe tbody tr th {\n",
       "        vertical-align: top;\n",
       "    }\n",
       "\n",
       "    .dataframe thead th {\n",
       "        text-align: right;\n",
       "    }\n",
       "</style>\n",
       "<table border=\"1\" class=\"dataframe\">\n",
       "  <thead>\n",
       "    <tr style=\"text-align: right;\">\n",
       "      <th></th>\n",
       "      <th>indexing</th>\n",
       "      <th>sample name</th>\n",
       "      <th>plate pos</th>\n",
       "    </tr>\n",
       "  </thead>\n",
       "  <tbody>\n",
       "    <tr>\n",
       "      <th>0</th>\n",
       "      <td>COVC23886</td>\n",
       "      <td>COVC23886</td>\n",
       "      <td>A1</td>\n",
       "    </tr>\n",
       "    <tr>\n",
       "      <th>1</th>\n",
       "      <td>COVC23936</td>\n",
       "      <td>COVC23936</td>\n",
       "      <td>B1</td>\n",
       "    </tr>\n",
       "    <tr>\n",
       "      <th>2</th>\n",
       "      <td>COVC23669</td>\n",
       "      <td>COVC23669</td>\n",
       "      <td>C1</td>\n",
       "    </tr>\n",
       "    <tr>\n",
       "      <th>3</th>\n",
       "      <td>COVC23643</td>\n",
       "      <td>COVC23643</td>\n",
       "      <td>D1</td>\n",
       "    </tr>\n",
       "    <tr>\n",
       "      <th>4</th>\n",
       "      <td>COVC23552</td>\n",
       "      <td>COVC23552</td>\n",
       "      <td>E1</td>\n",
       "    </tr>\n",
       "    <tr>\n",
       "      <th>...</th>\n",
       "      <td>...</td>\n",
       "      <td>...</td>\n",
       "      <td>...</td>\n",
       "    </tr>\n",
       "    <tr>\n",
       "      <th>379</th>\n",
       "      <td>COVC20624</td>\n",
       "      <td>COVC20624</td>\n",
       "      <td>D12</td>\n",
       "    </tr>\n",
       "    <tr>\n",
       "      <th>380</th>\n",
       "      <td>COVC20783</td>\n",
       "      <td>COVC20783</td>\n",
       "      <td>E12</td>\n",
       "    </tr>\n",
       "    <tr>\n",
       "      <th>381</th>\n",
       "      <td>COVC21328</td>\n",
       "      <td>COVC21328</td>\n",
       "      <td>F12</td>\n",
       "    </tr>\n",
       "    <tr>\n",
       "      <th>382</th>\n",
       "      <td>COVC21457</td>\n",
       "      <td>COVC21457</td>\n",
       "      <td>G12</td>\n",
       "    </tr>\n",
       "    <tr>\n",
       "      <th>383</th>\n",
       "      <td>COVG028</td>\n",
       "      <td>COVG028</td>\n",
       "      <td>H12</td>\n",
       "    </tr>\n",
       "  </tbody>\n",
       "</table>\n",
       "<p>384 rows × 3 columns</p>\n",
       "</div>"
      ],
      "text/plain": [
       "      indexing sample name plate pos\n",
       "0    COVC23886   COVC23886        A1\n",
       "1    COVC23936   COVC23936        B1\n",
       "2    COVC23669   COVC23669        C1\n",
       "3    COVC23643   COVC23643        D1\n",
       "4    COVC23552   COVC23552        E1\n",
       "..         ...         ...       ...\n",
       "379  COVC20624   COVC20624       D12\n",
       "380  COVC20783   COVC20783       E12\n",
       "381  COVC21328   COVC21328       F12\n",
       "382  COVC21457   COVC21457       G12\n",
       "383    COVG028     COVG028       H12\n",
       "\n",
       "[384 rows x 3 columns]"
      ]
     },
     "execution_count": 8,
     "metadata": {},
     "output_type": "execute_result"
    }
   ],
   "source": [
    "df_index"
   ]
  },
  {
   "cell_type": "code",
   "execution_count": 18,
   "id": "295bf1cf-c018-418d-bfe6-021a72b3758e",
   "metadata": {},
   "outputs": [],
   "source": [
    "df_index.to_excel(f'{parent_dir}/index_cheat_sheet_seq13.xlsx', index=False)"
   ]
  },
  {
   "cell_type": "markdown",
   "id": "fb1bb190-52ef-47af-ab56-1403c4d2929b",
   "metadata": {},
   "source": [
    "### Cts-Genome Coverage Plots"
   ]
  },
  {
   "cell_type": "code",
   "execution_count": 9,
   "id": "2f6be290-c3bd-434b-9f3f-483f71c9de5d",
   "metadata": {},
   "outputs": [],
   "source": [
    "home_dir = '/home/douso/SarsGenomics/Processed'\n",
    "df_cov = pd.DataFrame(columns=['S_NUM', 'G_COV'])\n",
    "for i in range(1, 6):\n",
    "    df_cov = df_cov.append(pd.read_excel(f'{home_dir}/metadata-seq-MS00{i}.xlsx', usecols=['S_NUM', 'G_COV']))"
   ]
  },
  {
   "cell_type": "code",
   "execution_count": 10,
   "id": "6955faff-8298-447b-80bb-ab69d84b4fef",
   "metadata": {},
   "outputs": [
    {
     "data": {
      "text/html": [
       "<div>\n",
       "<style scoped>\n",
       "    .dataframe tbody tr th:only-of-type {\n",
       "        vertical-align: middle;\n",
       "    }\n",
       "\n",
       "    .dataframe tbody tr th {\n",
       "        vertical-align: top;\n",
       "    }\n",
       "\n",
       "    .dataframe thead th {\n",
       "        text-align: right;\n",
       "    }\n",
       "</style>\n",
       "<table border=\"1\" class=\"dataframe\">\n",
       "  <thead>\n",
       "    <tr style=\"text-align: right;\">\n",
       "      <th></th>\n",
       "      <th>S_NUM</th>\n",
       "      <th>G_COV</th>\n",
       "    </tr>\n",
       "  </thead>\n",
       "  <tbody>\n",
       "    <tr>\n",
       "      <th>0</th>\n",
       "      <td>COVC21058</td>\n",
       "      <td>100.0</td>\n",
       "    </tr>\n",
       "    <tr>\n",
       "      <th>1</th>\n",
       "      <td>COVC21059</td>\n",
       "      <td>100.0</td>\n",
       "    </tr>\n",
       "    <tr>\n",
       "      <th>2</th>\n",
       "      <td>COVC21060</td>\n",
       "      <td>100.0</td>\n",
       "    </tr>\n",
       "    <tr>\n",
       "      <th>3</th>\n",
       "      <td>COVC21062</td>\n",
       "      <td>100.0</td>\n",
       "    </tr>\n",
       "    <tr>\n",
       "      <th>4</th>\n",
       "      <td>COVC23001</td>\n",
       "      <td>100.0</td>\n",
       "    </tr>\n",
       "    <tr>\n",
       "      <th>...</th>\n",
       "      <td>...</td>\n",
       "      <td>...</td>\n",
       "    </tr>\n",
       "    <tr>\n",
       "      <th>132</th>\n",
       "      <td>NHRL-S028</td>\n",
       "      <td>90.1</td>\n",
       "    </tr>\n",
       "    <tr>\n",
       "      <th>133</th>\n",
       "      <td>NHRL-S029</td>\n",
       "      <td>93.8</td>\n",
       "    </tr>\n",
       "    <tr>\n",
       "      <th>134</th>\n",
       "      <td>NHRL-S032</td>\n",
       "      <td>93.7</td>\n",
       "    </tr>\n",
       "    <tr>\n",
       "      <th>135</th>\n",
       "      <td>NHRL-S035</td>\n",
       "      <td>90.6</td>\n",
       "    </tr>\n",
       "    <tr>\n",
       "      <th>136</th>\n",
       "      <td>NHRL-S037</td>\n",
       "      <td>91.4</td>\n",
       "    </tr>\n",
       "  </tbody>\n",
       "</table>\n",
       "<p>320 rows × 2 columns</p>\n",
       "</div>"
      ],
      "text/plain": [
       "         S_NUM  G_COV\n",
       "0    COVC21058  100.0\n",
       "1    COVC21059  100.0\n",
       "2    COVC21060  100.0\n",
       "3    COVC21062  100.0\n",
       "4    COVC23001  100.0\n",
       "..         ...    ...\n",
       "132  NHRL-S028   90.1\n",
       "133  NHRL-S029   93.8\n",
       "134  NHRL-S032   93.7\n",
       "135  NHRL-S035   90.6\n",
       "136  NHRL-S037   91.4\n",
       "\n",
       "[320 rows x 2 columns]"
      ]
     },
     "execution_count": 10,
     "metadata": {},
     "output_type": "execute_result"
    }
   ],
   "source": [
    "df_cov"
   ]
  },
  {
   "cell_type": "code",
   "execution_count": 11,
   "id": "58a2ea91-1282-463b-9171-63233f5e76d7",
   "metadata": {},
   "outputs": [],
   "source": [
    "samp_names = list(df_cov['S_NUM'])"
   ]
  },
  {
   "cell_type": "code",
   "execution_count": 12,
   "id": "899de374-615d-4aca-8b23-78e17cc3a134",
   "metadata": {},
   "outputs": [],
   "source": [
    "df_Cts = pd.read_excel('/home/douso/Documents/RunSheets/Cts/runsheet-cts.xlsx')[['Sample_Name', 'Ct_Mean']]\n",
    "# df_nhrl_Cts = pd.read_excel('/home/douso/Documents/RunSheets/Cts/NHRL-cts.xlsx')\n",
    "# df_Cts = df_covc_Cts.append(df_nhrl_Cts)"
   ]
  },
  {
   "cell_type": "code",
   "execution_count": 13,
   "id": "d2c33467-aac2-4d91-8d37-0006e7401f2e",
   "metadata": {},
   "outputs": [],
   "source": [
    "df_ct_cov = (df_Cts.merge(df_cov, how='inner', left_on='Sample_Name', \n",
    "            right_on='S_NUM').drop('S_NUM',axis=1).sort_values('Ct_Mean').dropna())#[df_Cts['Sample_Name'].isin(samp_names)]"
   ]
  },
  {
   "cell_type": "code",
   "execution_count": 14,
   "id": "027b0fff-c44c-4a5a-92ba-859853e54304",
   "metadata": {},
   "outputs": [],
   "source": [
    "df_ct_cov.to_excel('/home/douso/Documents/RunSheets/Cts/cts-cov.xlsx', index=False, float_format='%.0f')"
   ]
  },
  {
   "cell_type": "code",
   "execution_count": 15,
   "id": "efeb7001-95ea-4592-af00-a6726d28ba65",
   "metadata": {},
   "outputs": [],
   "source": [
    "import numpy as np"
   ]
  },
  {
   "cell_type": "code",
   "execution_count": 16,
   "id": "3c0dc7d6-1473-4606-ae8d-784add567b4b",
   "metadata": {},
   "outputs": [
    {
     "data": {
      "image/png": "[encoded data removed]",
      "text/plain": [
       "<Figure size 432x288 with 1 Axes>"
      ]
     },
     "metadata": {
      "needs_background": "light"
     },
     "output_type": "display_data"
    }
   ],
   "source": [
    "import matplotlib.pyplot as plt, numpy as np\n",
    "from sklearn.linear_model import LinearRegression\n",
    "from sklearn.metrics import mean_squared_error, r2_score\n",
    "\n",
    "lr = LinearRegression()\n",
    "lr.fit(np.array(df_ct_cov['Ct_Mean']).reshape(-1, 1), df_ct_cov['G_COV'])\n",
    "\n",
    "y_predicted = lr.predict(np.array(df_ct_cov['Ct_Mean']).reshape(-1, 1))\n",
    "\n",
    "plt.plot(df_ct_cov['Ct_Mean'], y_predicted, color='orange')\n",
    "\n",
    "plt.scatter(df_ct_cov['Ct_Mean'], df_ct_cov['G_COV'], c=np.logspace(0.1, 1, len(df_ct_cov['Ct_Mean'])), cmap='viridis')\n",
    "plt.xlabel('Ct')\n",
    "plt.ylabel('% Genome coverage')\n",
    "plt.show()"
   ]
  }
 ],
 "metadata": {
  "kernelspec": {
   "display_name": "Python 3",
   "language": "python",
   "name": "python3"
  },
  "language_info": {
   "codemirror_mode": {
    "name": "ipython",
    "version": 3
   },
   "file_extension": ".py",
   "mimetype": "text/x-python",
   "name": "python",
   "nbconvert_exporter": "python",
   "pygments_lexer": "ipython3",
   "version": "3.8.10"
  }
 },
 "nbformat": 4,
 "nbformat_minor": 5
}
