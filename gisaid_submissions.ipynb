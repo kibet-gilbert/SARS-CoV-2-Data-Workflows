{
 "cells": [
  {
   "cell_type": "markdown",
   "id": "5adb7940-b891-4208-a8c6-4eb0a18df81f",
   "metadata": {},
   "source": [
    "## **GISAID Submission Metadata Preparation**"
   ]
  },
  {
   "cell_type": "code",
   "execution_count": 1,
   "id": "1b74f807-1cc4-4b55-a65c-c1d35090291f",
   "metadata": {},
   "outputs": [],
   "source": [
    "import pandas as pd\n",
    "import numpy as np\n",
    "import glob, os, re\n",
    "from datetime import  datetime"
   ]
  },
  {
   "cell_type": "markdown",
   "id": "56db1da8-1475-4bd6-8cda-87fc3f98f00f",
   "metadata": {},
   "source": [
    "### **Preliminary variables**"
   ]
  },
  {
   "cell_type": "code",
   "execution_count": 2,
   "id": "190f6714-2276-4f6c-a30f-da7959d8e8fb",
   "metadata": {},
   "outputs": [],
   "source": [
    "#uniqueness in directory and file names is assumed for all analyses\n",
    "sars_dir = \"SARS-CoV-2\"\n",
    "home_dir = os.getenv('HOME')\n",
    "parent_dir = glob.glob(f'{home_dir}/**/{sars_dir}', recursive=True)[0]"
   ]
  },
  {
   "cell_type": "markdown",
   "id": "44c01462-e623-49f0-bd8b-34036abc0eb8",
   "metadata": {},
   "source": [
    "### **Load submission form**"
   ]
  },
  {
   "cell_type": "code",
   "execution_count": 3,
   "id": "d2d5834c-7824-4a95-9889-31e5c5577858",
   "metadata": {},
   "outputs": [],
   "source": [
    "df_gisaid = pd.read_excel(glob.glob(f'{parent_dir}/**/20210222_EpiCoV.xls', recursive=True)[0], 'Submissions')"
   ]
  },
  {
   "cell_type": "code",
   "execution_count": 4,
   "id": "2631a121-63a8-4ed1-91c3-b4894c93f331",
   "metadata": {},
   "outputs": [],
   "source": [
    "# df_gisaid.head()"
   ]
  },
  {
   "cell_type": "code",
   "execution_count": 5,
   "id": "add87ddc-4248-49e2-ab8d-8fc6a5cef984",
   "metadata": {},
   "outputs": [],
   "source": [
    "gisaid_header = ['submitter', 'fn', 'covv_virus_name', 'covv_type', 'covv_passage', 'DT_SAM_COLL', \n",
    " 'DT_SAM_RECEP', 'CASE_ID', 'covv_location', 'covv_add_location','covv_host', 'covv_add_host_info', 'covv_sampling_strategy',\n",
    " 'GEND', 'AGE_YRS', 'covv_patient_status', 'covv_specimen', 'covv_outbreak', \n",
    " 'covv_last_vaccinated', 'covv_treatment', 'covv_seq_technology', 'covv_assembly_method', 'covv_coverage', \n",
    " 'covv_orig_lab', 'covv_orig_lab_addr', 'S_NUM', 'covv_subm_lab', 'covv_subm_lab_addr', \n",
    " 'covv_subm_sample_id', 'covv_authors', 'covv_comment', 'comment_type']"
   ]
  },
  {
   "cell_type": "markdown",
   "id": "a60d7623-a786-40a0-b215-f31384fcb03b",
   "metadata": {},
   "source": [
    "### **Pull-in the metadata**"
   ]
  },
  {
   "cell_type": "code",
   "execution_count": 6,
   "id": "078b3e42-a876-46d2-bd08-a30640931b84",
   "metadata": {},
   "outputs": [],
   "source": [
    "# get the necessary columns \n",
    "df_metadata = pd.read_excel(glob.glob(f'{parent_dir}/**/COVID19-resultsCts-merged-cln.xlsx', recursive=True)[0])[['CASE_ID', 'S_NUM', 'AGE_YRS', 'GEND', 'NAT', \n",
    "           'COUNT_RES', 'SAMP_TYPE', 'DT_SAM_COLL', 'DT_SAM_RECEP']]"
   ]
  },
  {
   "cell_type": "code",
   "execution_count": 7,
   "id": "763c25ee-2696-41b0-b29a-610835f7be78",
   "metadata": {
    "tags": []
   },
   "outputs": [],
   "source": [
    "dt = datetime.today().strftime(format='%d-%m-%Y')\n",
    "ref = 'seq39-41'\n",
    "ref_fasta = 'gisaid_all_7.fasta'"
   ]
  },
  {
   "cell_type": "markdown",
   "id": "9422ebfc-b13a-4285-bf67-ca2c6c4d5075",
   "metadata": {},
   "source": [
    "### **Be sure the next input is update**"
   ]
  },
  {
   "cell_type": "code",
   "execution_count": 8,
   "id": "645a6934-8ce2-4adc-992c-580481e2ff09",
   "metadata": {},
   "outputs": [
    {
     "data": {
      "text/plain": [
       "(391, 12)"
      ]
     },
     "execution_count": 8,
     "metadata": {},
     "output_type": "execute_result"
    }
   ],
   "source": [
    "# import sequence summary data\n",
    "df_seq_summ = pd.read_excel(glob.glob(f'{parent_dir}/**/seq-summary-metadata-seq39-41_21-04-2022.xlsx')[0])\n",
    "df_seq_summ.shape"
   ]
  },
  {
   "cell_type": "code",
   "execution_count": 9,
   "id": "68339ffe-c367-4cb6-84a7-3d75cca4bf77",
   "metadata": {},
   "outputs": [
    {
     "data": {
      "text/html": [
       "<div>\n",
       "<style scoped>\n",
       "    .dataframe tbody tr th:only-of-type {\n",
       "        vertical-align: middle;\n",
       "    }\n",
       "\n",
       "    .dataframe tbody tr th {\n",
       "        vertical-align: top;\n",
       "    }\n",
       "\n",
       "    .dataframe thead th {\n",
       "        text-align: right;\n",
       "    }\n",
       "</style>\n",
       "<table border=\"1\" class=\"dataframe\">\n",
       "  <thead>\n",
       "    <tr style=\"text-align: right;\">\n",
       "      <th></th>\n",
       "      <th>case_id</th>\n",
       "      <th>sequence_name</th>\n",
       "      <th>genome_coverage</th>\n",
       "      <th>lineage</th>\n",
       "      <th>clade</th>\n",
       "      <th>run_num</th>\n",
       "      <th>tech</th>\n",
       "      <th>seq_dt</th>\n",
       "      <th>lib_prep</th>\n",
       "      <th>primer_set</th>\n",
       "      <th>analysis_pipeline</th>\n",
       "      <th>sno.</th>\n",
       "    </tr>\n",
       "  </thead>\n",
       "  <tbody>\n",
       "  </tbody>\n",
       "</table>\n",
       "</div>"
      ],
      "text/plain": [
       "Empty DataFrame\n",
       "Columns: [case_id, sequence_name, genome_coverage, lineage, clade, run_num, tech, seq_dt, lib_prep, primer_set, analysis_pipeline, sno.]\n",
       "Index: []"
      ]
     },
     "execution_count": 9,
     "metadata": {},
     "output_type": "execute_result"
    }
   ],
   "source": [
    "# mark duplicate\n",
    "df_seq_summ[df_seq_summ.sequence_name.duplicated(keep='first') == True]"
   ]
  },
  {
   "cell_type": "code",
   "execution_count": 10,
   "id": "1b2f89cb-80d2-4551-ab5e-a2e68c74b1c5",
   "metadata": {},
   "outputs": [
    {
     "data": {
      "text/plain": [
       "(391, 12)"
      ]
     },
     "execution_count": 10,
     "metadata": {},
     "output_type": "execute_result"
    }
   ],
   "source": [
    "# filter duplicate\n",
    "df_seq_dedup = df_seq_summ.sort_values(['sequence_name', 'genome_coverage']).drop_duplicates('sequence_name', keep='last')\n",
    "df_seq_dedup.shape#.head()"
   ]
  },
  {
   "cell_type": "code",
   "execution_count": 12,
   "id": "f259cbf0-cce3-4825-9482-75cd23ea304a",
   "metadata": {},
   "outputs": [
    {
     "data": {
      "text/plain": [
       "(360, 12)"
      ]
     },
     "execution_count": 12,
     "metadata": {},
     "output_type": "execute_result"
    }
   ],
   "source": [
    "# filter genome coverage/fraction\n",
    "df_seq_cutoff = df_seq_dedup[df_seq_dedup.genome_coverage >= 80.0]\n",
    "df_seq_cutoff.shape#.head()"
   ]
  },
  {
   "cell_type": "code",
   "execution_count": 13,
   "id": "cda56965-002a-4d11-ac43-b7f752fadf33",
   "metadata": {},
   "outputs": [],
   "source": [
    "# filter sample metadata to sequence metadata\n",
    "metadata = df_metadata[df_metadata.S_NUM.isin(df_seq_cutoff.sequence_name)].rename(columns={'S_NUM': 'sequence_name'})"
   ]
  },
  {
   "cell_type": "code",
   "execution_count": 14,
   "id": "cc8522cf-f321-4326-b8c2-2eb0ab5ea867",
   "metadata": {},
   "outputs": [
    {
     "data": {
      "text/html": [
       "<div>\n",
       "<style scoped>\n",
       "    .dataframe tbody tr th:only-of-type {\n",
       "        vertical-align: middle;\n",
       "    }\n",
       "\n",
       "    .dataframe tbody tr th {\n",
       "        vertical-align: top;\n",
       "    }\n",
       "\n",
       "    .dataframe thead th {\n",
       "        text-align: right;\n",
       "    }\n",
       "</style>\n",
       "<table border=\"1\" class=\"dataframe\">\n",
       "  <thead>\n",
       "    <tr style=\"text-align: right;\">\n",
       "      <th></th>\n",
       "      <th>CASE_ID</th>\n",
       "      <th>sequence_name</th>\n",
       "      <th>AGE_YRS</th>\n",
       "      <th>GEND</th>\n",
       "      <th>NAT</th>\n",
       "      <th>COUNT_RES</th>\n",
       "      <th>SAMP_TYPE</th>\n",
       "      <th>DT_SAM_COLL</th>\n",
       "      <th>DT_SAM_RECEP</th>\n",
       "    </tr>\n",
       "  </thead>\n",
       "  <tbody>\n",
       "  </tbody>\n",
       "</table>\n",
       "</div>"
      ],
      "text/plain": [
       "Empty DataFrame\n",
       "Columns: [CASE_ID, sequence_name, AGE_YRS, GEND, NAT, COUNT_RES, SAMP_TYPE, DT_SAM_COLL, DT_SAM_RECEP]\n",
       "Index: []"
      ]
     },
     "execution_count": 14,
     "metadata": {},
     "output_type": "execute_result"
    }
   ],
   "source": [
    "# mark duplicate\n",
    "metadata[metadata.sequence_name.duplicated(keep=False) == True]"
   ]
  },
  {
   "cell_type": "markdown",
   "id": "98c2dc4e-2b95-4046-a13e-054c8261aec6",
   "metadata": {},
   "source": [
    "### **Merge metadata with seq summary data**"
   ]
  },
  {
   "cell_type": "code",
   "execution_count": 15,
   "id": "a58d4d4a-9540-42ab-8f52-13ae068ef4ca",
   "metadata": {},
   "outputs": [
    {
     "data": {
      "text/plain": [
       "(360, 20)"
      ]
     },
     "execution_count": 15,
     "metadata": {},
     "output_type": "execute_result"
    }
   ],
   "source": [
    "# Merge metadata with seq summary data\n",
    "df_seq_meta = metadata.merge(df_seq_cutoff, how='right', on='sequence_name')\n",
    "df_seq_meta.shape"
   ]
  },
  {
   "cell_type": "code",
   "execution_count": 16,
   "id": "0dbaaf6a-2967-427b-a913-7d56811754db",
   "metadata": {},
   "outputs": [
    {
     "data": {
      "text/html": [
       "<div>\n",
       "<style scoped>\n",
       "    .dataframe tbody tr th:only-of-type {\n",
       "        vertical-align: middle;\n",
       "    }\n",
       "\n",
       "    .dataframe tbody tr th {\n",
       "        vertical-align: top;\n",
       "    }\n",
       "\n",
       "    .dataframe thead th {\n",
       "        text-align: right;\n",
       "    }\n",
       "</style>\n",
       "<table border=\"1\" class=\"dataframe\">\n",
       "  <thead>\n",
       "    <tr style=\"text-align: right;\">\n",
       "      <th></th>\n",
       "      <th>CASE_ID</th>\n",
       "      <th>sequence_name</th>\n",
       "      <th>AGE_YRS</th>\n",
       "      <th>GEND</th>\n",
       "      <th>NAT</th>\n",
       "      <th>COUNT_RES</th>\n",
       "      <th>SAMP_TYPE</th>\n",
       "      <th>DT_SAM_COLL</th>\n",
       "      <th>DT_SAM_RECEP</th>\n",
       "      <th>case_id</th>\n",
       "      <th>genome_coverage</th>\n",
       "      <th>lineage</th>\n",
       "      <th>clade</th>\n",
       "      <th>run_num</th>\n",
       "      <th>tech</th>\n",
       "      <th>seq_dt</th>\n",
       "      <th>lib_prep</th>\n",
       "      <th>primer_set</th>\n",
       "      <th>analysis_pipeline</th>\n",
       "      <th>sno.</th>\n",
       "    </tr>\n",
       "  </thead>\n",
       "  <tbody>\n",
       "  </tbody>\n",
       "</table>\n",
       "</div>"
      ],
      "text/plain": [
       "Empty DataFrame\n",
       "Columns: [CASE_ID, sequence_name, AGE_YRS, GEND, NAT, COUNT_RES, SAMP_TYPE, DT_SAM_COLL, DT_SAM_RECEP, case_id, genome_coverage, lineage, clade, run_num, tech, seq_dt, lib_prep, primer_set, analysis_pipeline, sno.]\n",
       "Index: []"
      ]
     },
     "execution_count": 16,
     "metadata": {},
     "output_type": "execute_result"
    }
   ],
   "source": [
    "# mark duplicate\n",
    "df_seq_meta[df_seq_meta.sequence_name.duplicated(keep=False) == True]"
   ]
  },
  {
   "cell_type": "markdown",
   "id": "6fe56465-4e7e-47e4-82d9-bff5152e660f",
   "metadata": {},
   "source": [
    "### **Filter non-GISAID samples**"
   ]
  },
  {
   "cell_type": "code",
   "execution_count": 17,
   "id": "40df5146-86a4-414a-812b-7fac239cb6f4",
   "metadata": {},
   "outputs": [
    {
     "data": {
      "text/plain": [
       "360"
      ]
     },
     "execution_count": 17,
     "metadata": {},
     "output_type": "execute_result"
    }
   ],
   "source": [
    "# Filter service samples; remain with internals only\n",
    "df_seq_filtered1 = df_seq_meta[df_seq_meta.sequence_name.str.contains('COVS') == False]#.head()\n",
    "\n",
    "# df_seq_filtered2 = df_seq_filtered1[df_seq_filtered1.CASE_ID.str.contains('DRC02') == False]\n",
    "df_seq_filtered3 = df_seq_filtered1[df_seq_filtered1.sequence_name.str.contains('SSEQ') == False]\n",
    "df_seq_filtered = df_seq_filtered3  # [df_seq_filtered1.lineage.str.contains('B.1.1.529') == False]\n",
    "df_seq_filtered.shape[0]"
   ]
  },
  {
   "cell_type": "code",
   "execution_count": 18,
   "id": "0243d699-c28a-4277-883d-c2f0e69ff15b",
   "metadata": {},
   "outputs": [],
   "source": [
    "# df_seq_filtered.head()"
   ]
  },
  {
   "cell_type": "code",
   "execution_count": 19,
   "id": "4b2b7ebe-31b1-4f4c-b134-9c01cef1a54d",
   "metadata": {},
   "outputs": [],
   "source": [
    "# update columns\n",
    "df_gisaid1 = df_seq_filtered.assign(covv_location = 'Africa / ' + df_seq_filtered['NAT'] + ' / ' + df_seq_filtered['COUNT_RES'])\n",
    "df_gisaid2 = df_gisaid1.assign(GEND = df_gisaid1.GEND.replace(['M', 'F'], ['Male', 'Female']))\n",
    "df_gisaid3 = df_gisaid2.assign(covv_virus_name = df_gisaid2.sequence_name.map(lambda x: f'hCoV-19/Kenya/ILRI_{x}/'))\n",
    "df_gisaid4 = df_gisaid3.assign(covv_subm_sample_id = df_gisaid3['sequence_name'])\n",
    "df_gisaid5 = df_gisaid4.rename(columns={'AGE_YRS': 'covv_patient_age', 'tech': 'covv_seq_technology', \n",
    "                                        'sequence_name': 'covv_provider_sample_id', 'GEND': 'covv_gender', \n",
    "                                        'SAMP_TYPE': 'covv_specimen', 'DT_SAM_COLL': 'covv_collection_date'})\n"
   ]
  },
  {
   "cell_type": "code",
   "execution_count": 20,
   "id": "8466a86c-ebfe-48b7-9031-3d859d4a4d09",
   "metadata": {},
   "outputs": [
    {
     "data": {
      "text/plain": [
       "Index(['CASE_ID', 'covv_provider_sample_id', 'covv_patient_age', 'covv_gender',\n",
       "       'NAT', 'COUNT_RES', 'covv_specimen', 'covv_collection_date',\n",
       "       'DT_SAM_RECEP', 'case_id', 'genome_coverage', 'lineage', 'clade',\n",
       "       'run_num', 'covv_seq_technology', 'seq_dt', 'lib_prep', 'primer_set',\n",
       "       'analysis_pipeline', 'sno.', 'covv_location', 'covv_virus_name',\n",
       "       'covv_subm_sample_id'],\n",
       "      dtype='object')"
      ]
     },
     "execution_count": 20,
     "metadata": {},
     "output_type": "execute_result"
    }
   ],
   "source": [
    "df_gisaid5.columns"
   ]
  },
  {
   "cell_type": "code",
   "execution_count": 21,
   "id": "62673a27-403d-45ee-89fa-b677ff6e8ad3",
   "metadata": {},
   "outputs": [],
   "source": [
    "df_subf = df_gisaid5"
   ]
  },
  {
   "cell_type": "code",
   "execution_count": 22,
   "id": "fea31994-94f2-4797-ab76-4fd369ddba00",
   "metadata": {},
   "outputs": [],
   "source": [
    "# assign metada variables\n",
    "submitter = 'soyola'\n",
    "fn = ref_fasta\n",
    "# cvn = 'hCoV-19/Kenya/ILRI_'\n",
    "vt = 'betacoronavirus'\n",
    "cp = 'Original'\n",
    "cal = 'unknown'\n",
    "ch = 'Human'\n",
    "cahi = 'unknown'\n",
    "css = 'Surveillance'\n",
    "cps = 'unknown'\n",
    "cps = 'unknown'\n",
    "# cs = 'NP Swab'\n",
    "co = 'unknown'\n",
    "clv = 'unknown'\n",
    "ct = 'unknown'\n",
    "# cst = 'Illumina'\n",
    "cam = 'Consensus'\n",
    "cc = 'unknown'\n",
    "col = 'International Livestock Research Institute'\n",
    "cola = 'Uthiru, Naivasha road, Nairobi-Kenya'\n",
    "# cpsi = 'ILRI'\n",
    "csl = 'International Livestock Research Institute'\n",
    "csla = 'Uthiru, Naivasha road, Nairobi-Kenya'\n",
    "# cssi = df_subf.index.tolist()\n",
    "ca = 'Samuel O. Oyola, Daniel Ouso, Gilbert Kibet, Shebbar Osiany, Edward Kiritu, Paul Dobi, Collins Muli, Patrick Amoth, Vishvanath Nene, Sonal P. Henson, Edward O. Abworo'\n",
    "ccomm = ''\n",
    "ct = ''"
   ]
  },
  {
   "cell_type": "code",
   "execution_count": 23,
   "id": "7c9ad181-a917-4949-a1ba-2936d46ae01e",
   "metadata": {},
   "outputs": [
    {
     "data": {
      "text/plain": [
       "(360, 44)"
      ]
     },
     "execution_count": 23,
     "metadata": {},
     "output_type": "execute_result"
    }
   ],
   "source": [
    "# update gisaid columns\n",
    "df_subf['submitter'] = submitter\n",
    "df_subf['fn'] = fn\n",
    "# df_subf['covv_virus_name'] = cvn\n",
    "df_subf['covv_type'] = vt\n",
    "df_subf['covv_passage'] = cp\n",
    "df_subf['covv_add_location'] = cal\n",
    "df_subf['covv_host'] = ch\n",
    "df_subf['covv_add_host_info'] = cahi\n",
    "df_subf['covv_sampling_strategy'] = css\n",
    "df_subf['covv_patient_status'] = cps\n",
    "# df_subf['covv_specimen'] = cs\n",
    "df_subf['covv_outbreak'] = co\n",
    "df_subf['covv_last_vaccinated'] = clv\n",
    "df_subf['covv_treatment'] = ct\n",
    "# df_subf['covv_seq_technology'] = cst\n",
    "df_subf['covv_assembly_method'] = cam\n",
    "df_subf['covv_coverage'] = cc\n",
    "df_subf['covv_orig_lab'] = col\n",
    "df_subf['covv_orig_lab_addr'] = cola\n",
    "# df_subf['covv_provider_sample_id'] = cpsi\n",
    "df_subf['covv_subm_lab'] = csl\n",
    "df_subf['covv_subm_lab_addr'] = csla\n",
    "# df_subf['covv_subm_sample_id'] = cssi\n",
    "df_subf['covv_authors'] = ca\n",
    "df_subf['covv_comment'] = ccomm\n",
    "df_subf['comment_type'] = ct\n",
    "df_subf.shape"
   ]
  },
  {
   "cell_type": "code",
   "execution_count": 24,
   "id": "3e677241-8fd5-45e0-8012-4035dbb79a2e",
   "metadata": {},
   "outputs": [
    {
     "data": {
      "text/plain": [
       "(360, 33)"
      ]
     },
     "execution_count": 24,
     "metadata": {},
     "output_type": "execute_result"
    }
   ],
   "source": [
    "# drop supplimentary columns\n",
    "df_sub_draft1 = df_subf.drop(['NAT', 'COUNT_RES', 'genome_coverage', 'clade', 'lineage', 'run_num', 'seq_dt', 'lib_prep', 'primer_set',\n",
    "       'analysis_pipeline', 'sno.'], axis=1)\n",
    "df_sub_draft1.shape"
   ]
  },
  {
   "cell_type": "code",
   "execution_count": 25,
   "id": "3a531530-53f2-4b68-b3bc-67a9b633f5e2",
   "metadata": {},
   "outputs": [],
   "source": [
    "# df_sub_draft1.head()"
   ]
  },
  {
   "cell_type": "code",
   "execution_count": 26,
   "id": "20349c92-fe05-4cce-836f-ee41cdbf5fb3",
   "metadata": {},
   "outputs": [],
   "source": [
    "# reorder columns according to gisaid template\n",
    "gisaid_cols = ['submitter', 'fn', 'covv_virus_name', 'covv_type', 'covv_passage',\n",
    "       'covv_collection_date', 'DT_SAM_RECEP', 'CASE_ID', 'covv_location', 'covv_add_location',\n",
    "       'covv_host', 'covv_add_host_info', 'covv_sampling_strategy',\n",
    "       'covv_gender', 'covv_patient_age', 'covv_patient_status',\n",
    "       'covv_specimen', 'covv_outbreak', 'covv_last_vaccinated',\n",
    "       'covv_treatment', 'covv_seq_technology', 'covv_assembly_method',\n",
    "       'covv_coverage', 'covv_orig_lab', 'covv_orig_lab_addr',\n",
    "       'covv_provider_sample_id', 'covv_subm_lab', 'covv_subm_lab_addr',\n",
    "       'covv_subm_sample_id', 'covv_authors', 'covv_comment', 'comment_type']\n"
   ]
  },
  {
   "cell_type": "markdown",
   "id": "d1820ac7-2d17-4e8b-acca-95bfb49b72ed",
   "metadata": {},
   "source": [
    "### **Format Dates**"
   ]
  },
  {
   "cell_type": "code",
   "execution_count": 27,
   "id": "c545bfb5-7f44-4350-b321-2aff798e2a19",
   "metadata": {},
   "outputs": [],
   "source": [
    "# partition df to with(out) sample collection dates and fortmat dates to strings\n",
    "df_dt = df_sub_draft1[df_sub_draft1['covv_collection_date'].isna() == False]\n",
    "df_dt_fmt = df_dt.assign(covv_collection_date=df_dt['covv_collection_date'].dt.strftime('%Y-%m-%d'))\n",
    "df_missing_dt = df_sub_draft1[df_sub_draft1['covv_collection_date'].isna() == True]"
   ]
  },
  {
   "cell_type": "code",
   "execution_count": 28,
   "id": "cf4bb6fa-3b08-4e5f-90db-06a153f45dce",
   "metadata": {},
   "outputs": [],
   "source": [
    "# add short/approx. dates for where sample collection dates are missing\n",
    "df_missing_dt_corr = df_missing_dt.assign(covv_collection_date=df_missing_dt['DT_SAM_RECEP'].apply(lambda x: pd.Timestamp(x).strftime('%Y-%m') if (isinstance(x, pd.Timestamp)) else x.replace(x, pd.NaT)))"
   ]
  },
  {
   "cell_type": "code",
   "execution_count": 29,
   "id": "7b5a9fc6-82b3-4b1b-b9d2-19935cb3e9ab",
   "metadata": {},
   "outputs": [
    {
     "data": {
      "text/plain": [
       "(360, 33)"
      ]
     },
     "execution_count": 29,
     "metadata": {},
     "output_type": "execute_result"
    }
   ],
   "source": [
    "# merge approx. dates df to the string-formated dates df\n",
    "df_sub_draft2 = df_dt_fmt.append(df_missing_dt_corr)\n",
    "df_sub_draft2.shape"
   ]
  },
  {
   "cell_type": "code",
   "execution_count": 30,
   "id": "33dc9aa9-f7b1-4877-afc3-877f70f5a37a",
   "metadata": {},
   "outputs": [],
   "source": [
    "# re-assign the date column with the updated dates column\n",
    "df_sub_draft2['covv_virus_name'] = df_sub_draft2.covv_virus_name.map(str) + df_sub_draft2.covv_collection_date.map(lambda x: str(x).split('-')[0])"
   ]
  },
  {
   "cell_type": "markdown",
   "id": "63602d2a-179a-4879-bf8e-a3ad6a5caf53",
   "metadata": {},
   "source": [
    "### **Previous Submissions**"
   ]
  },
  {
   "cell_type": "code",
   "execution_count": 31,
   "id": "5cb78a72-d698-45e5-ae83-4a851b9116f3",
   "metadata": {},
   "outputs": [],
   "source": [
    "# import previous submissions to filter submitted samples\n",
    "df_prev_sub1 = pd.read_excel(glob.glob(f'{parent_dir}/**/Submissions/20210914_ILRI_gisaid_submission_metadata.xls')[0], sheet_name='Submissions', usecols=['covv_provider_sample_id'])\n",
    "df_prev_sub2 = pd.read_excel(glob.glob(f'{parent_dir}/**/Submissions/20211102_ILRI_gisaid_submission_metadata.xls')[0], sheet_name='Submissions', usecols=['covv_provider_sample_id'])\n",
    "df_prev_sub3 = pd.read_excel(glob.glob(f'{parent_dir}/**/Submissions/20211214_ILRI_gisaid_submission_metadata.xls')[0], sheet_name='Submissions', usecols=['covv_provider_sample_id'])\n",
    "df_prev_sub4 = pd.read_excel(glob.glob(f'{parent_dir}/**/Submissions/20220110_ILRI_gisaid_submission_metadata.xls')[0], sheet_name='Submissions', usecols=['covv_provider_sample_id'])\n",
    "df_prev_sub5 = pd.read_excel(glob.glob(f'{parent_dir}/**/Submissions/20220204_ILRI_gisaid_submission_metadata.xls')[0], sheet_name='Submissions', usecols=['covv_provider_sample_id'])\n",
    "df_prev_sub6 = pd.read_excel(glob.glob(f'{parent_dir}/**/Submissions/20220318_ILRI_gisaid_submission_metadata.xls')[0], sheet_name='Submissions', usecols=['covv_provider_sample_id'])\n",
    "df_prev_sub7 = pd.read_excel(glob.glob(f'{parent_dir}/**/Submissions/20220321_ILRI_gisaid_submission_metadata.xls')[0], sheet_name='Submissions', usecols=['covv_provider_sample_id'])\n",
    "\n",
    "# merge all the previous submissions\n",
    "df_prev_sub = df_prev_sub1.append([df_prev_sub2, df_prev_sub3, df_prev_sub4, df_prev_sub5, df_prev_sub6, df_prev_sub7])"
   ]
  },
  {
   "cell_type": "code",
   "execution_count": 32,
   "id": "787cb0c6-38a1-446c-b847-58fc2c6a8287",
   "metadata": {},
   "outputs": [
    {
     "data": {
      "text/plain": [
       "(360, 32)"
      ]
     },
     "execution_count": 32,
     "metadata": {},
     "output_type": "execute_result"
    }
   ],
   "source": [
    "# filter previously submitted sample\n",
    "df_sub_draft = df_sub_draft2[df_sub_draft2['covv_provider_sample_id'].isin(df_prev_sub.covv_provider_sample_id) == False].fillna('unknown').sort_values('covv_provider_sample_id')[gisaid_cols] \n",
    "\n",
    "# export finalised submission form\n",
    "df_sub_draft.to_excel(f\"{glob.glob(f'{parent_dir}/Gisaid')[0]}/gisaid_data_{ref}_{dt}.xlsx\", index=False)\n",
    "\n",
    "# export sample IDs for retreieving and renaming fasta files\n",
    "df_sub_draft[['covv_provider_sample_id', 'covv_virus_name', 'CASE_ID']].to_csv(f\"{glob.glob(f'{parent_dir}/Gisaid')[0]}/gisaid_IDs-Names_{ref}_{dt}.csv\", index=False, header=False)\n",
    "\n",
    "df_sub_draft.shape"
   ]
  },
  {
   "cell_type": "code",
   "execution_count": 33,
   "id": "19b7aa02-37c3-4699-8dc4-2c6439e15c8d",
   "metadata": {},
   "outputs": [
    {
     "data": {
      "text/plain": [
       "NextSeq    197\n",
       "MiSeq       95\n",
       "MinION      68\n",
       "Name: covv_seq_technology, dtype: int64"
      ]
     },
     "execution_count": 33,
     "metadata": {},
     "output_type": "execute_result"
    }
   ],
   "source": [
    "# df_final_feedB = pd.read_excel(glob.glob(f'{parent_dir}/**/Submissions/20210914_ILRI_gisaid_submission_metadata_curated.xls')[0], sheet_name='Submissions')\n",
    "df_sub_draft['covv_seq_technology'].value_counts()"
   ]
  },
  {
   "cell_type": "code",
   "execution_count": 34,
   "id": "9c8e30ab-2d05-4277-9d5f-f3ee6361761c",
   "metadata": {},
   "outputs": [
    {
     "name": "stdout",
     "output_type": "stream",
     "text": [
      "<class 'pandas.core.frame.DataFrame'>\n",
      "Int64Index: 360 entries, 0 to 359\n",
      "Data columns (total 32 columns):\n",
      " #   Column                   Non-Null Count  Dtype \n",
      "---  ------                   --------------  ----- \n",
      " 0   submitter                360 non-null    object\n",
      " 1   fn                       360 non-null    object\n",
      " 2   covv_virus_name          360 non-null    object\n",
      " 3   covv_type                360 non-null    object\n",
      " 4   covv_passage             360 non-null    object\n",
      " 5   covv_collection_date     360 non-null    object\n",
      " 6   DT_SAM_RECEP             360 non-null    object\n",
      " 7   CASE_ID                  360 non-null    object\n",
      " 8   covv_location            360 non-null    object\n",
      " 9   covv_add_location        360 non-null    object\n",
      " 10  covv_host                360 non-null    object\n",
      " 11  covv_add_host_info       360 non-null    object\n",
      " 12  covv_sampling_strategy   360 non-null    object\n",
      " 13  covv_gender              360 non-null    object\n",
      " 14  covv_patient_age         360 non-null    object\n",
      " 15  covv_patient_status      360 non-null    object\n",
      " 16  covv_specimen            360 non-null    object\n",
      " 17  covv_outbreak            360 non-null    object\n",
      " 18  covv_last_vaccinated     360 non-null    object\n",
      " 19  covv_treatment           360 non-null    object\n",
      " 20  covv_seq_technology      360 non-null    object\n",
      " 21  covv_assembly_method     360 non-null    object\n",
      " 22  covv_coverage            360 non-null    object\n",
      " 23  covv_orig_lab            360 non-null    object\n",
      " 24  covv_orig_lab_addr       360 non-null    object\n",
      " 25  covv_provider_sample_id  360 non-null    object\n",
      " 26  covv_subm_lab            360 non-null    object\n",
      " 27  covv_subm_lab_addr       360 non-null    object\n",
      " 28  covv_subm_sample_id      360 non-null    object\n",
      " 29  covv_authors             360 non-null    object\n",
      " 30  covv_comment             360 non-null    object\n",
      " 31  comment_type             360 non-null    object\n",
      "dtypes: object(32)\n",
      "memory usage: 92.8+ KB\n"
     ]
    }
   ],
   "source": [
    "df_sub_draft.info()"
   ]
  }
 ],
 "metadata": {
  "kernelspec": {
   "display_name": "Python 3",
   "language": "python",
   "name": "python3"
  },
  "language_info": {
   "codemirror_mode": {
    "name": "ipython",
    "version": 3
   },
   "file_extension": ".py",
   "mimetype": "text/x-python",
   "name": "python",
   "nbconvert_exporter": "python",
   "pygments_lexer": "ipython3",
   "version": "3.8.10"
  }
 },
 "nbformat": 4,
 "nbformat_minor": 5
}
