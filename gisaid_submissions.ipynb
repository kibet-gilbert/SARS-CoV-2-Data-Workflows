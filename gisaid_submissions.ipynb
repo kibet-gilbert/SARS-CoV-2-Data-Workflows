{
 "cells": [
  {
   "cell_type": "markdown",
   "id": "5adb7940-b891-4208-a8c6-4eb0a18df81f",
   "metadata": {},
   "source": [
    "## GISAID Metadata preparation"
   ]
  },
  {
   "cell_type": "code",
   "execution_count": 1,
   "id": "1b74f807-1cc4-4b55-a65c-c1d35090291f",
   "metadata": {},
   "outputs": [],
   "source": [
    "import pandas as pd\n",
    "import numpy as np\n",
    "from datetime import  datetime"
   ]
  },
  {
   "cell_type": "code",
   "execution_count": 2,
   "id": "763c25ee-2696-41b0-b29a-610835f7be78",
   "metadata": {},
   "outputs": [],
   "source": [
    "dt = datetime.today().strftime(format='%d-%m-%Y')"
   ]
  },
  {
   "cell_type": "markdown",
   "id": "44c01462-e623-49f0-bd8b-34036abc0eb8",
   "metadata": {},
   "source": [
    "### Load submission form"
   ]
  },
  {
   "cell_type": "code",
   "execution_count": 3,
   "id": "d2d5834c-7824-4a95-9889-31e5c5577858",
   "metadata": {},
   "outputs": [],
   "source": [
    "parent_dir = '/home/douso/SarsGenomics/Gisaid'\n",
    "df_gisaid = pd.read_excel(f'{parent_dir}/20210222_EpiCoV.xls', 'Submissions')"
   ]
  },
  {
   "cell_type": "code",
   "execution_count": 4,
   "id": "2631a121-63a8-4ed1-91c3-b4894c93f331",
   "metadata": {},
   "outputs": [
    {
     "data": {
      "text/html": [
       "<div>\n",
       "<style scoped>\n",
       "    .dataframe tbody tr th:only-of-type {\n",
       "        vertical-align: middle;\n",
       "    }\n",
       "\n",
       "    .dataframe tbody tr th {\n",
       "        vertical-align: top;\n",
       "    }\n",
       "\n",
       "    .dataframe thead th {\n",
       "        text-align: right;\n",
       "    }\n",
       "</style>\n",
       "<table border=\"1\" class=\"dataframe\">\n",
       "  <thead>\n",
       "    <tr style=\"text-align: right;\">\n",
       "      <th></th>\n",
       "      <th>submitter</th>\n",
       "      <th>fn</th>\n",
       "      <th>covv_virus_name</th>\n",
       "      <th>covv_type</th>\n",
       "      <th>covv_passage</th>\n",
       "      <th>covv_collection_date</th>\n",
       "      <th>covv_location</th>\n",
       "      <th>covv_add_location</th>\n",
       "      <th>covv_host</th>\n",
       "      <th>covv_add_host_info</th>\n",
       "      <th>...</th>\n",
       "      <th>covv_coverage</th>\n",
       "      <th>covv_orig_lab</th>\n",
       "      <th>covv_orig_lab_addr</th>\n",
       "      <th>covv_provider_sample_id</th>\n",
       "      <th>covv_subm_lab</th>\n",
       "      <th>covv_subm_lab_addr</th>\n",
       "      <th>covv_subm_sample_id</th>\n",
       "      <th>covv_authors</th>\n",
       "      <th>covv_comment</th>\n",
       "      <th>comment_type</th>\n",
       "    </tr>\n",
       "  </thead>\n",
       "  <tbody>\n",
       "    <tr>\n",
       "      <th>0</th>\n",
       "      <td>Submitter</td>\n",
       "      <td>FASTA filename</td>\n",
       "      <td>Virus name</td>\n",
       "      <td>Type</td>\n",
       "      <td>Passage details/history</td>\n",
       "      <td>Collection date</td>\n",
       "      <td>Location</td>\n",
       "      <td>Additional location information</td>\n",
       "      <td>Host</td>\n",
       "      <td>Additional host information</td>\n",
       "      <td>...</td>\n",
       "      <td>Coverage</td>\n",
       "      <td>Originating lab</td>\n",
       "      <td>Address</td>\n",
       "      <td>Sample ID given by originating laboratory</td>\n",
       "      <td>Submitting lab</td>\n",
       "      <td>Address</td>\n",
       "      <td>Sample ID given by the submitting laboratory</td>\n",
       "      <td>Authors</td>\n",
       "      <td>Comment</td>\n",
       "      <td>Comment Icon</td>\n",
       "    </tr>\n",
       "    <tr>\n",
       "      <th>1</th>\n",
       "      <td>GISAID username</td>\n",
       "      <td>all_sequences.fasta</td>\n",
       "      <td>hCoV-19/Country/Identifier/2020</td>\n",
       "      <td>betacoronavirus</td>\n",
       "      <td>e.g. Original, Vero</td>\n",
       "      <td>2020-03-02</td>\n",
       "      <td>e.g. Continent / Country / Region</td>\n",
       "      <td>e.g. Cruise Ship, Convention, Live animal market</td>\n",
       "      <td>e.g. Human, Animal, Environment, Laboratory de...</td>\n",
       "      <td>e.g. Patient infected while traveling in ….</td>\n",
       "      <td>...</td>\n",
       "      <td>e.g. 70x, 1,000x, 10,000x (average)</td>\n",
       "      <td>Where the clinical specimen or virus isolate w...</td>\n",
       "      <td>NaN</td>\n",
       "      <td>NaN</td>\n",
       "      <td>Where sequence data have been generated and su...</td>\n",
       "      <td>NaN</td>\n",
       "      <td>NaN</td>\n",
       "      <td>e.g. Jane Doe, John Doe</td>\n",
       "      <td>NaN</td>\n",
       "      <td>NaN</td>\n",
       "    </tr>\n",
       "  </tbody>\n",
       "</table>\n",
       "<p>2 rows × 30 columns</p>\n",
       "</div>"
      ],
      "text/plain": [
       "         submitter                   fn                  covv_virus_name  \\\n",
       "0        Submitter       FASTA filename                       Virus name   \n",
       "1  GISAID username  all_sequences.fasta  hCoV-19/Country/Identifier/2020   \n",
       "\n",
       "         covv_type             covv_passage covv_collection_date  \\\n",
       "0             Type  Passage details/history      Collection date   \n",
       "1  betacoronavirus      e.g. Original, Vero           2020-03-02   \n",
       "\n",
       "                       covv_location  \\\n",
       "0                           Location   \n",
       "1  e.g. Continent / Country / Region   \n",
       "\n",
       "                                  covv_add_location  \\\n",
       "0                   Additional location information   \n",
       "1  e.g. Cruise Ship, Convention, Live animal market   \n",
       "\n",
       "                                           covv_host  \\\n",
       "0                                               Host   \n",
       "1  e.g. Human, Animal, Environment, Laboratory de...   \n",
       "\n",
       "                              covv_add_host_info  ...  \\\n",
       "0                    Additional host information  ...   \n",
       "1  e.g. Patient infected while traveling in ….    ...   \n",
       "\n",
       "                         covv_coverage  \\\n",
       "0                             Coverage   \n",
       "1  e.g. 70x, 1,000x, 10,000x (average)   \n",
       "\n",
       "                                       covv_orig_lab covv_orig_lab_addr  \\\n",
       "0                                    Originating lab            Address   \n",
       "1  Where the clinical specimen or virus isolate w...                NaN   \n",
       "\n",
       "                     covv_provider_sample_id  \\\n",
       "0  Sample ID given by originating laboratory   \n",
       "1                                        NaN   \n",
       "\n",
       "                                       covv_subm_lab covv_subm_lab_addr  \\\n",
       "0                                     Submitting lab            Address   \n",
       "1  Where sequence data have been generated and su...                NaN   \n",
       "\n",
       "                            covv_subm_sample_id             covv_authors  \\\n",
       "0  Sample ID given by the submitting laboratory                  Authors   \n",
       "1                                           NaN  e.g. Jane Doe, John Doe   \n",
       "\n",
       "  covv_comment  comment_type  \n",
       "0      Comment  Comment Icon  \n",
       "1          NaN           NaN  \n",
       "\n",
       "[2 rows x 30 columns]"
      ]
     },
     "execution_count": 4,
     "metadata": {},
     "output_type": "execute_result"
    }
   ],
   "source": [
    "df_gisaid.head()"
   ]
  },
  {
   "cell_type": "code",
   "execution_count": 5,
   "id": "be677046-2e9c-4141-bdd2-9a0c6f8167ec",
   "metadata": {},
   "outputs": [
    {
     "data": {
      "text/plain": [
       "Index(['submitter', 'fn', 'covv_virus_name', 'covv_type', 'covv_passage',\n",
       "       'covv_collection_date', 'covv_location', 'covv_add_location',\n",
       "       'covv_host', 'covv_add_host_info', 'covv_sampling_strategy',\n",
       "       'covv_gender', 'covv_patient_age', 'covv_patient_status',\n",
       "       'covv_specimen', 'covv_outbreak', 'covv_last_vaccinated',\n",
       "       'covv_treatment', 'covv_seq_technology', 'covv_assembly_method',\n",
       "       'covv_coverage', 'covv_orig_lab', 'covv_orig_lab_addr',\n",
       "       'covv_provider_sample_id', 'covv_subm_lab', 'covv_subm_lab_addr',\n",
       "       'covv_subm_sample_id', 'covv_authors', 'covv_comment', 'comment_type'],\n",
       "      dtype='object')"
      ]
     },
     "execution_count": 5,
     "metadata": {},
     "output_type": "execute_result"
    }
   ],
   "source": [
    "df_gisaid.columns"
   ]
  },
  {
   "cell_type": "code",
   "execution_count": 6,
   "id": "add87ddc-4248-49e2-ab8d-8fc6a5cef984",
   "metadata": {},
   "outputs": [],
   "source": [
    "gisaid_header = ['submitter', 'fn', 'covv_virus_name', 'covv_type', 'covv_passage', 'DT_SAM_COLL', \n",
    " 'DT_SAM_RECEP', 'covv_location', 'covv_add_location','covv_host', 'covv_add_host_info', 'covv_sampling_strategy',\n",
    " 'GEND', 'AGE_YRS', 'covv_patient_status', 'covv_specimen', 'covv_outbreak', \n",
    " 'covv_last_vaccinated', 'covv_treatment', 'covv_seq_technology', 'covv_assembly_method', 'covv_coverage', \n",
    " 'covv_orig_lab', 'covv_orig_lab_addr', 'S_NUM', 'covv_subm_lab', 'covv_subm_lab_addr', \n",
    " 'covv_subm_sample_id', 'covv_authors', 'covv_comment', 'comment_type']"
   ]
  },
  {
   "cell_type": "markdown",
   "id": "965c6b61-e3fc-4327-808a-7767aef66841",
   "metadata": {},
   "source": [
    "### **Pull-in the metadata**"
   ]
  },
  {
   "cell_type": "code",
   "execution_count": 7,
   "id": "3a4a2933-65c5-4d82-a37f-ab6877e38cc7",
   "metadata": {},
   "outputs": [],
   "source": [
    "df_metadata = pd.read_excel('/home/douso/Documents/TrendData/Results/ResultsMerged/COVID19-results-merged-cln-pos.xlsx')"
   ]
  },
  {
   "cell_type": "code",
   "execution_count": 8,
   "id": "ea19887c-c8c2-4530-b937-c4b5eb0f3231",
   "metadata": {},
   "outputs": [],
   "source": [
    "#get the columns necessary\n",
    "df_headers = df_metadata[['S_NUM', 'AGE_YRS', 'GEND', 'NAT', \n",
    "           'COUNT_RES',  \n",
    "           'DT_SAM_COLL', \n",
    "           'DT_SAM_RECEP']]"
   ]
  },
  {
   "cell_type": "markdown",
   "id": "9422ebfc-b13a-4285-bf67-ca2c6c4d5075",
   "metadata": {},
   "source": [
    "### **Be sure the next input is update**"
   ]
  },
  {
   "cell_type": "code",
   "execution_count": 9,
   "id": "645a6934-8ce2-4adc-992c-580481e2ff09",
   "metadata": {},
   "outputs": [],
   "source": [
    "df_seq_summ = pd.read_excel('/home/douso/Documents/TrendData/Results/ResultsMerged/seq-summary-metadata_07-09-2021.xlsx')"
   ]
  },
  {
   "cell_type": "code",
   "execution_count": 10,
   "id": "1b2f89cb-80d2-4551-ab5e-a2e68c74b1c5",
   "metadata": {},
   "outputs": [
    {
     "data": {
      "text/html": [
       "<div>\n",
       "<style scoped>\n",
       "    .dataframe tbody tr th:only-of-type {\n",
       "        vertical-align: middle;\n",
       "    }\n",
       "\n",
       "    .dataframe tbody tr th {\n",
       "        vertical-align: top;\n",
       "    }\n",
       "\n",
       "    .dataframe thead th {\n",
       "        text-align: right;\n",
       "    }\n",
       "</style>\n",
       "<table border=\"1\" class=\"dataframe\">\n",
       "  <thead>\n",
       "    <tr style=\"text-align: right;\">\n",
       "      <th></th>\n",
       "      <th>sequence_name</th>\n",
       "      <th>clade</th>\n",
       "      <th>lineage</th>\n",
       "      <th>genome_coverage</th>\n",
       "      <th>run_num</th>\n",
       "      <th>seq_dt</th>\n",
       "      <th>lib_prep</th>\n",
       "      <th>primer_set</th>\n",
       "    </tr>\n",
       "  </thead>\n",
       "  <tbody>\n",
       "    <tr>\n",
       "      <th>0</th>\n",
       "      <td>COVC11310</td>\n",
       "      <td>20C</td>\n",
       "      <td>B.1</td>\n",
       "      <td>59.3</td>\n",
       "      <td>Run1</td>\n",
       "      <td>09-02-2021</td>\n",
       "      <td>Nextera_XT</td>\n",
       "      <td>ARTIC_V1</td>\n",
       "    </tr>\n",
       "    <tr>\n",
       "      <th>1</th>\n",
       "      <td>COVC00854</td>\n",
       "      <td>20C</td>\n",
       "      <td>B.1</td>\n",
       "      <td>94.9</td>\n",
       "      <td>Run7</td>\n",
       "      <td>18-05-2021</td>\n",
       "      <td>Run7</td>\n",
       "      <td>ARTIC_V3</td>\n",
       "    </tr>\n",
       "    <tr>\n",
       "      <th>2</th>\n",
       "      <td>COVC00867</td>\n",
       "      <td>20C</td>\n",
       "      <td>B.1.446</td>\n",
       "      <td>68.2</td>\n",
       "      <td>Run7</td>\n",
       "      <td>18-05-2021</td>\n",
       "      <td>Run7</td>\n",
       "      <td>ARTIC_V3</td>\n",
       "    </tr>\n",
       "    <tr>\n",
       "      <th>3</th>\n",
       "      <td>COVC00893</td>\n",
       "      <td>20C</td>\n",
       "      <td>B.1.446</td>\n",
       "      <td>84.1</td>\n",
       "      <td>Run7</td>\n",
       "      <td>18-05-2021</td>\n",
       "      <td>Run7</td>\n",
       "      <td>ARTIC_V3</td>\n",
       "    </tr>\n",
       "    <tr>\n",
       "      <th>4</th>\n",
       "      <td>COVC00915</td>\n",
       "      <td>NaN</td>\n",
       "      <td>Failed</td>\n",
       "      <td>0.0</td>\n",
       "      <td>Run7</td>\n",
       "      <td>18-05-2021</td>\n",
       "      <td>Run7</td>\n",
       "      <td>ARTIC_V3</td>\n",
       "    </tr>\n",
       "  </tbody>\n",
       "</table>\n",
       "</div>"
      ],
      "text/plain": [
       "  sequence_name clade  lineage  genome_coverage run_num      seq_dt  \\\n",
       "0     COVC11310   20C      B.1             59.3    Run1  09-02-2021   \n",
       "1     COVC00854   20C      B.1             94.9    Run7  18-05-2021   \n",
       "2     COVC00867   20C  B.1.446             68.2    Run7  18-05-2021   \n",
       "3     COVC00893   20C  B.1.446             84.1    Run7  18-05-2021   \n",
       "4     COVC00915   NaN   Failed              0.0    Run7  18-05-2021   \n",
       "\n",
       "     lib_prep primer_set  \n",
       "0  Nextera_XT   ARTIC_V1  \n",
       "1        Run7   ARTIC_V3  \n",
       "2        Run7   ARTIC_V3  \n",
       "3        Run7   ARTIC_V3  \n",
       "4        Run7   ARTIC_V3  "
      ]
     },
     "execution_count": 10,
     "metadata": {},
     "output_type": "execute_result"
    }
   ],
   "source": [
    "df_seq_summ.head()"
   ]
  },
  {
   "cell_type": "code",
   "execution_count": 11,
   "id": "9df0587f-48b1-46ba-bc2e-7bc149ad7f5f",
   "metadata": {},
   "outputs": [],
   "source": [
    "#Filter service samples; remain with internals only\n",
    "df_seqd_int = df_seq_summ[df_seq_summ['sequence_name'].str.contains('KEM') == False]#.head()"
   ]
  },
  {
   "cell_type": "code",
   "execution_count": 12,
   "id": "e3828e43-9c97-4a17-b8be-61dedd7d287e",
   "metadata": {},
   "outputs": [
    {
     "data": {
      "text/plain": [
       "(933, 8)"
      ]
     },
     "execution_count": 12,
     "metadata": {},
     "output_type": "execute_result"
    }
   ],
   "source": [
    "df_seqd_int.shape"
   ]
  },
  {
   "cell_type": "code",
   "execution_count": 13,
   "id": "82492899-35ea-43ff-b461-a64de3e581e1",
   "metadata": {},
   "outputs": [],
   "source": [
    "#Merge metadata with seq summary data\n",
    "df_seq_meta = df_seqd_int.set_index('sequence_name').merge(df_headers.set_index('S_NUM'), how='left', left_index=True, right_index=True)"
   ]
  },
  {
   "cell_type": "code",
   "execution_count": 14,
   "id": "e89ff604-af23-449a-9509-bae1abe170ab",
   "metadata": {},
   "outputs": [],
   "source": [
    "def get_seq_tech(x):\n",
    "    if 'ONT' in x:\n",
    "        return x.replace(x, 'Minion')\n",
    "    elif '_NS' in x:\n",
    "        return x.replace(x, 'NextSeq')\n",
    "    return x.replace(x, 'MiSeq')\n",
    "        "
   ]
  },
  {
   "cell_type": "code",
   "execution_count": 15,
   "id": "da2fba7b-6e16-4b95-bdba-45e7367a9431",
   "metadata": {},
   "outputs": [],
   "source": [
    "df_seq_meta2 = df_seq_meta.assign(covv_seq_technology = df_seq_meta['run_num']\n",
    "                                  .apply(lambda x: get_seq_tech(x)))"
   ]
  },
  {
   "cell_type": "code",
   "execution_count": 16,
   "id": "d5e4d2d1-e0ec-439c-a6cf-a69e28d9b978",
   "metadata": {},
   "outputs": [
    {
     "data": {
      "text/html": [
       "<div>\n",
       "<style scoped>\n",
       "    .dataframe tbody tr th:only-of-type {\n",
       "        vertical-align: middle;\n",
       "    }\n",
       "\n",
       "    .dataframe tbody tr th {\n",
       "        vertical-align: top;\n",
       "    }\n",
       "\n",
       "    .dataframe thead th {\n",
       "        text-align: right;\n",
       "    }\n",
       "</style>\n",
       "<table border=\"1\" class=\"dataframe\">\n",
       "  <thead>\n",
       "    <tr style=\"text-align: right;\">\n",
       "      <th></th>\n",
       "      <th>clade</th>\n",
       "      <th>lineage</th>\n",
       "      <th>genome_coverage</th>\n",
       "      <th>run_num</th>\n",
       "      <th>seq_dt</th>\n",
       "      <th>lib_prep</th>\n",
       "      <th>primer_set</th>\n",
       "      <th>AGE_YRS</th>\n",
       "      <th>GEND</th>\n",
       "      <th>NAT</th>\n",
       "      <th>COUNT_RES</th>\n",
       "      <th>DT_SAM_COLL</th>\n",
       "      <th>DT_SAM_RECEP</th>\n",
       "      <th>covv_seq_technology</th>\n",
       "    </tr>\n",
       "  </thead>\n",
       "  <tbody>\n",
       "    <tr>\n",
       "      <th>COVC00854</th>\n",
       "      <td>20C</td>\n",
       "      <td>B.1</td>\n",
       "      <td>94.9</td>\n",
       "      <td>Run7</td>\n",
       "      <td>18-05-2021</td>\n",
       "      <td>Run7</td>\n",
       "      <td>ARTIC_V3</td>\n",
       "      <td>23.0</td>\n",
       "      <td>F</td>\n",
       "      <td>Kenya</td>\n",
       "      <td>Nairobi</td>\n",
       "      <td>2020-06-11</td>\n",
       "      <td>NaT</td>\n",
       "      <td>MiSeq</td>\n",
       "    </tr>\n",
       "    <tr>\n",
       "      <th>COVC00867</th>\n",
       "      <td>20C</td>\n",
       "      <td>B.1.446</td>\n",
       "      <td>68.2</td>\n",
       "      <td>Run7</td>\n",
       "      <td>18-05-2021</td>\n",
       "      <td>Run7</td>\n",
       "      <td>ARTIC_V3</td>\n",
       "      <td>32.0</td>\n",
       "      <td>F</td>\n",
       "      <td>Kenya</td>\n",
       "      <td>Nairobi</td>\n",
       "      <td>2020-06-10</td>\n",
       "      <td>NaT</td>\n",
       "      <td>MiSeq</td>\n",
       "    </tr>\n",
       "    <tr>\n",
       "      <th>COVC00893</th>\n",
       "      <td>20C</td>\n",
       "      <td>B.1.446</td>\n",
       "      <td>84.1</td>\n",
       "      <td>Run7</td>\n",
       "      <td>18-05-2021</td>\n",
       "      <td>Run7</td>\n",
       "      <td>ARTIC_V3</td>\n",
       "      <td>31.0</td>\n",
       "      <td>M</td>\n",
       "      <td>Kenya</td>\n",
       "      <td>Nairobi</td>\n",
       "      <td>2020-06-10</td>\n",
       "      <td>NaT</td>\n",
       "      <td>MiSeq</td>\n",
       "    </tr>\n",
       "    <tr>\n",
       "      <th>COVC00915</th>\n",
       "      <td>NaN</td>\n",
       "      <td>Failed</td>\n",
       "      <td>0.0</td>\n",
       "      <td>Run7</td>\n",
       "      <td>18-05-2021</td>\n",
       "      <td>Run7</td>\n",
       "      <td>ARTIC_V3</td>\n",
       "      <td>22.0</td>\n",
       "      <td>M</td>\n",
       "      <td>Kenya</td>\n",
       "      <td>Nairobi</td>\n",
       "      <td>2020-06-10</td>\n",
       "      <td>NaT</td>\n",
       "      <td>MiSeq</td>\n",
       "    </tr>\n",
       "    <tr>\n",
       "      <th>COVC00962</th>\n",
       "      <td>20A</td>\n",
       "      <td>B.1</td>\n",
       "      <td>92.9</td>\n",
       "      <td>Run7</td>\n",
       "      <td>18-05-2021</td>\n",
       "      <td>Run7</td>\n",
       "      <td>ARTIC_V3</td>\n",
       "      <td>31.0</td>\n",
       "      <td>M</td>\n",
       "      <td>Kenya</td>\n",
       "      <td>Nairobi</td>\n",
       "      <td>2020-06-08</td>\n",
       "      <td>2020-06-14</td>\n",
       "      <td>MiSeq</td>\n",
       "    </tr>\n",
       "  </tbody>\n",
       "</table>\n",
       "</div>"
      ],
      "text/plain": [
       "          clade  lineage  genome_coverage run_num      seq_dt lib_prep  \\\n",
       "COVC00854   20C      B.1             94.9    Run7  18-05-2021     Run7   \n",
       "COVC00867   20C  B.1.446             68.2    Run7  18-05-2021     Run7   \n",
       "COVC00893   20C  B.1.446             84.1    Run7  18-05-2021     Run7   \n",
       "COVC00915   NaN   Failed              0.0    Run7  18-05-2021     Run7   \n",
       "COVC00962   20A      B.1             92.9    Run7  18-05-2021     Run7   \n",
       "\n",
       "          primer_set  AGE_YRS GEND    NAT COUNT_RES DT_SAM_COLL DT_SAM_RECEP  \\\n",
       "COVC00854   ARTIC_V3     23.0    F  Kenya   Nairobi  2020-06-11          NaT   \n",
       "COVC00867   ARTIC_V3     32.0    F  Kenya   Nairobi  2020-06-10          NaT   \n",
       "COVC00893   ARTIC_V3     31.0    M  Kenya   Nairobi  2020-06-10          NaT   \n",
       "COVC00915   ARTIC_V3     22.0    M  Kenya   Nairobi  2020-06-10          NaT   \n",
       "COVC00962   ARTIC_V3     31.0    M  Kenya   Nairobi  2020-06-08   2020-06-14   \n",
       "\n",
       "          covv_seq_technology  \n",
       "COVC00854               MiSeq  \n",
       "COVC00867               MiSeq  \n",
       "COVC00893               MiSeq  \n",
       "COVC00915               MiSeq  \n",
       "COVC00962               MiSeq  "
      ]
     },
     "execution_count": 16,
     "metadata": {},
     "output_type": "execute_result"
    }
   ],
   "source": [
    "df_seq_meta2.head()"
   ]
  },
  {
   "cell_type": "code",
   "execution_count": 17,
   "id": "4b2b7ebe-31b1-4f4c-b134-9c01cef1a54d",
   "metadata": {},
   "outputs": [],
   "source": [
    "df_seq_meta3 = df_seq_meta2.assign(covv_location = 'Africa/' + df_seq_meta2['NAT'] + '/' + df_seq_meta2['COUNT_RES'])"
   ]
  },
  {
   "cell_type": "code",
   "execution_count": 18,
   "id": "62673a27-403d-45ee-89fa-b677ff6e8ad3",
   "metadata": {},
   "outputs": [],
   "source": [
    "df_subf = df_seq_meta3"
   ]
  },
  {
   "cell_type": "code",
   "execution_count": 19,
   "id": "fea31994-94f2-4797-ab76-4fd369ddba00",
   "metadata": {},
   "outputs": [],
   "source": [
    "submitter = ''\n",
    "fn = ''\n",
    "cvn = 'hCoV-19'\n",
    "vt = 'betacoronavirus'\n",
    "cp = 'Original'\n",
    "cal = 'Unkown'\n",
    "ch = 'Human'\n",
    "cahi = 'Unkown'\n",
    "css = 'Surveillance'\n",
    "cps = ''\n",
    "cps = 'Unkown'\n",
    "cs = 'NP Swab'\n",
    "co = 'Unkown'\n",
    "clv = 'Unkown'\n",
    "ct = 'Unkown'\n",
    "# cst = 'Illumina'\n",
    "cam = 'Consensus'\n",
    "cc = ''\n",
    "col = 'International Livestock Research Institute'\n",
    "cola = 'Uthiru, Naivasha road, Nairobi-Kenya'\n",
    "# cpsi = 'ILRI'\n",
    "csl = 'International Livestock Research Institute'\n",
    "csla = 'Uthiru, Naivasha road, Nairobi-Kenya'\n",
    "cssi = df_subf.index.tolist()\n",
    "ca = ''\n",
    "ccomm = ''\n",
    "ct = ''"
   ]
  },
  {
   "cell_type": "code",
   "execution_count": 20,
   "id": "7c9ad181-a917-4949-a1ba-2936d46ae01e",
   "metadata": {},
   "outputs": [
    {
     "data": {
      "text/plain": [
       "(933, 39)"
      ]
     },
     "execution_count": 20,
     "metadata": {},
     "output_type": "execute_result"
    }
   ],
   "source": [
    "df_subf['submitter'] = submitter\n",
    "df_subf['fn'] = fn\n",
    "df_subf['covv_virus_name'] = cvn\n",
    "df_subf['covv_type'] = vt\n",
    "df_subf['covv_passage'] = cp\n",
    "df_subf['covv_add_location'] = cal\n",
    "df_subf['covv_host'] = ch\n",
    "df_subf['covv_add_host_info'] = cahi\n",
    "df_subf['covv_sampling_strategy'] = css\n",
    "df_subf['covv_patient_status'] = cps\n",
    "df_subf['covv_specimen'] = cs\n",
    "df_subf['covv_outbreak'] = co\n",
    "df_subf['covv_last_vaccinated'] = clv\n",
    "df_subf['covv_treatment'] = ct\n",
    "# df_subf['covv_seq_technology'] = cst\n",
    "df_subf['covv_assembly_method'] = cam\n",
    "df_subf['covv_coverage'] = cc\n",
    "df_subf['covv_orig_lab'] = col\n",
    "df_subf['covv_orig_lab_addr'] = cola\n",
    "# df_subf['covv_provider_sample_id'] = cpsi\n",
    "df_subf['covv_subm_lab'] = csl\n",
    "df_subf['covv_subm_lab_addr'] = csla\n",
    "df_subf['covv_subm_sample_id'] = cssi\n",
    "df_subf['covv_authors'] = ca\n",
    "df_subf['covv_comment'] = ccomm\n",
    "df_subf['comment_type'] = ct\n",
    "df_subf.shape"
   ]
  },
  {
   "cell_type": "code",
   "execution_count": 21,
   "id": "0f5d90f8-10af-462d-bb2e-19e39c18b5aa",
   "metadata": {},
   "outputs": [
    {
     "data": {
      "text/plain": [
       "Index(['clade', 'lineage', 'genome_coverage', 'run_num', 'seq_dt', 'lib_prep',\n",
       "       'primer_set', 'AGE_YRS', 'GEND', 'NAT', 'COUNT_RES', 'DT_SAM_COLL',\n",
       "       'DT_SAM_RECEP', 'covv_seq_technology', 'covv_location', 'submitter',\n",
       "       'fn', 'covv_virus_name', 'covv_type', 'covv_passage',\n",
       "       'covv_add_location', 'covv_host', 'covv_add_host_info',\n",
       "       'covv_sampling_strategy', 'covv_patient_status', 'covv_specimen',\n",
       "       'covv_outbreak', 'covv_last_vaccinated', 'covv_treatment',\n",
       "       'covv_assembly_method', 'covv_coverage', 'covv_orig_lab',\n",
       "       'covv_orig_lab_addr', 'covv_subm_lab', 'covv_subm_lab_addr',\n",
       "       'covv_subm_sample_id', 'covv_authors', 'covv_comment', 'comment_type'],\n",
       "      dtype='object')"
      ]
     },
     "execution_count": 21,
     "metadata": {},
     "output_type": "execute_result"
    }
   ],
   "source": [
    "df_subf.columns"
   ]
  },
  {
   "cell_type": "code",
   "execution_count": 22,
   "id": "3e677241-8fd5-45e0-8012-4035dbb79a2e",
   "metadata": {},
   "outputs": [],
   "source": [
    "df_subf1 = df_subf.drop(['NAT', 'COUNT_RES'], axis=1)"
   ]
  },
  {
   "cell_type": "code",
   "execution_count": 23,
   "id": "93a5538d-348d-4e29-80ed-b6b2664cf395",
   "metadata": {},
   "outputs": [],
   "source": [
    "df_filter80 = df_subf1[df_subf1['genome_coverage'] >= 80.0]#.fillna('Unkown')"
   ]
  },
  {
   "cell_type": "code",
   "execution_count": 24,
   "id": "b13b998f-5d37-4108-9383-e55f1ca3b709",
   "metadata": {},
   "outputs": [
    {
     "data": {
      "text/plain": [
       "Index(['clade', 'lineage', 'genome_coverage', 'run_num', 'seq_dt', 'lib_prep',\n",
       "       'primer_set', 'AGE_YRS', 'GEND', 'DT_SAM_COLL', 'DT_SAM_RECEP',\n",
       "       'covv_seq_technology', 'covv_location', 'submitter', 'fn',\n",
       "       'covv_virus_name', 'covv_type', 'covv_passage', 'covv_add_location',\n",
       "       'covv_host', 'covv_add_host_info', 'covv_sampling_strategy',\n",
       "       'covv_patient_status', 'covv_specimen', 'covv_outbreak',\n",
       "       'covv_last_vaccinated', 'covv_treatment', 'covv_assembly_method',\n",
       "       'covv_coverage', 'covv_orig_lab', 'covv_orig_lab_addr', 'covv_subm_lab',\n",
       "       'covv_subm_lab_addr', 'covv_subm_sample_id', 'covv_authors',\n",
       "       'covv_comment', 'comment_type'],\n",
       "      dtype='object')"
      ]
     },
     "execution_count": 24,
     "metadata": {},
     "output_type": "execute_result"
    }
   ],
   "source": [
    "df_filter80.columns"
   ]
  },
  {
   "cell_type": "code",
   "execution_count": 25,
   "id": "9e19be56-6068-4d9e-b430-d0b3a03db344",
   "metadata": {},
   "outputs": [],
   "source": [
    "df_gisaid_sub = df_filter80.reset_index().rename(columns={'index': 'S_NUM'})[gisaid_header] #.drop('DT_SAM_COLL', axis=1)"
   ]
  },
  {
   "cell_type": "code",
   "execution_count": 26,
   "id": "3a531530-53f2-4b68-b3bc-67a9b633f5e2",
   "metadata": {},
   "outputs": [
    {
     "data": {
      "text/html": [
       "<div>\n",
       "<style scoped>\n",
       "    .dataframe tbody tr th:only-of-type {\n",
       "        vertical-align: middle;\n",
       "    }\n",
       "\n",
       "    .dataframe tbody tr th {\n",
       "        vertical-align: top;\n",
       "    }\n",
       "\n",
       "    .dataframe thead th {\n",
       "        text-align: right;\n",
       "    }\n",
       "</style>\n",
       "<table border=\"1\" class=\"dataframe\">\n",
       "  <thead>\n",
       "    <tr style=\"text-align: right;\">\n",
       "      <th></th>\n",
       "      <th>submitter</th>\n",
       "      <th>fn</th>\n",
       "      <th>covv_virus_name</th>\n",
       "      <th>covv_type</th>\n",
       "      <th>covv_passage</th>\n",
       "      <th>DT_SAM_COLL</th>\n",
       "      <th>DT_SAM_RECEP</th>\n",
       "      <th>covv_location</th>\n",
       "      <th>covv_add_location</th>\n",
       "      <th>covv_host</th>\n",
       "      <th>...</th>\n",
       "      <th>covv_coverage</th>\n",
       "      <th>covv_orig_lab</th>\n",
       "      <th>covv_orig_lab_addr</th>\n",
       "      <th>S_NUM</th>\n",
       "      <th>covv_subm_lab</th>\n",
       "      <th>covv_subm_lab_addr</th>\n",
       "      <th>covv_subm_sample_id</th>\n",
       "      <th>covv_authors</th>\n",
       "      <th>covv_comment</th>\n",
       "      <th>comment_type</th>\n",
       "    </tr>\n",
       "  </thead>\n",
       "  <tbody>\n",
       "    <tr>\n",
       "      <th>0</th>\n",
       "      <td></td>\n",
       "      <td></td>\n",
       "      <td>hCoV-19</td>\n",
       "      <td>betacoronavirus</td>\n",
       "      <td>Original</td>\n",
       "      <td>2020-06-11</td>\n",
       "      <td>NaT</td>\n",
       "      <td>Africa/Kenya/Nairobi</td>\n",
       "      <td>Unkown</td>\n",
       "      <td>Human</td>\n",
       "      <td>...</td>\n",
       "      <td></td>\n",
       "      <td>International Livestock Research Institute</td>\n",
       "      <td>Uthiru, Naivasha road, Nairobi-Kenya</td>\n",
       "      <td>COVC00854</td>\n",
       "      <td>International Livestock Research Institute</td>\n",
       "      <td>Uthiru, Naivasha road, Nairobi-Kenya</td>\n",
       "      <td>COVC00854</td>\n",
       "      <td></td>\n",
       "      <td></td>\n",
       "      <td></td>\n",
       "    </tr>\n",
       "    <tr>\n",
       "      <th>1</th>\n",
       "      <td></td>\n",
       "      <td></td>\n",
       "      <td>hCoV-19</td>\n",
       "      <td>betacoronavirus</td>\n",
       "      <td>Original</td>\n",
       "      <td>2020-06-10</td>\n",
       "      <td>NaT</td>\n",
       "      <td>Africa/Kenya/Nairobi</td>\n",
       "      <td>Unkown</td>\n",
       "      <td>Human</td>\n",
       "      <td>...</td>\n",
       "      <td></td>\n",
       "      <td>International Livestock Research Institute</td>\n",
       "      <td>Uthiru, Naivasha road, Nairobi-Kenya</td>\n",
       "      <td>COVC00893</td>\n",
       "      <td>International Livestock Research Institute</td>\n",
       "      <td>Uthiru, Naivasha road, Nairobi-Kenya</td>\n",
       "      <td>COVC00893</td>\n",
       "      <td></td>\n",
       "      <td></td>\n",
       "      <td></td>\n",
       "    </tr>\n",
       "    <tr>\n",
       "      <th>2</th>\n",
       "      <td></td>\n",
       "      <td></td>\n",
       "      <td>hCoV-19</td>\n",
       "      <td>betacoronavirus</td>\n",
       "      <td>Original</td>\n",
       "      <td>2020-06-08</td>\n",
       "      <td>2020-06-14</td>\n",
       "      <td>Africa/Kenya/Nairobi</td>\n",
       "      <td>Unkown</td>\n",
       "      <td>Human</td>\n",
       "      <td>...</td>\n",
       "      <td></td>\n",
       "      <td>International Livestock Research Institute</td>\n",
       "      <td>Uthiru, Naivasha road, Nairobi-Kenya</td>\n",
       "      <td>COVC00962</td>\n",
       "      <td>International Livestock Research Institute</td>\n",
       "      <td>Uthiru, Naivasha road, Nairobi-Kenya</td>\n",
       "      <td>COVC00962</td>\n",
       "      <td></td>\n",
       "      <td></td>\n",
       "      <td></td>\n",
       "    </tr>\n",
       "    <tr>\n",
       "      <th>3</th>\n",
       "      <td></td>\n",
       "      <td></td>\n",
       "      <td>hCoV-19</td>\n",
       "      <td>betacoronavirus</td>\n",
       "      <td>Original</td>\n",
       "      <td>2020-06-08</td>\n",
       "      <td>2020-06-14</td>\n",
       "      <td>Africa/Kenya/Nairobi</td>\n",
       "      <td>Unkown</td>\n",
       "      <td>Human</td>\n",
       "      <td>...</td>\n",
       "      <td></td>\n",
       "      <td>International Livestock Research Institute</td>\n",
       "      <td>Uthiru, Naivasha road, Nairobi-Kenya</td>\n",
       "      <td>COVC00987</td>\n",
       "      <td>International Livestock Research Institute</td>\n",
       "      <td>Uthiru, Naivasha road, Nairobi-Kenya</td>\n",
       "      <td>COVC00987</td>\n",
       "      <td></td>\n",
       "      <td></td>\n",
       "      <td></td>\n",
       "    </tr>\n",
       "    <tr>\n",
       "      <th>4</th>\n",
       "      <td></td>\n",
       "      <td></td>\n",
       "      <td>hCoV-19</td>\n",
       "      <td>betacoronavirus</td>\n",
       "      <td>Original</td>\n",
       "      <td>2020-06-08</td>\n",
       "      <td>2020-06-14</td>\n",
       "      <td>Africa/Kenya/Nairobi</td>\n",
       "      <td>Unkown</td>\n",
       "      <td>Human</td>\n",
       "      <td>...</td>\n",
       "      <td></td>\n",
       "      <td>International Livestock Research Institute</td>\n",
       "      <td>Uthiru, Naivasha road, Nairobi-Kenya</td>\n",
       "      <td>COVC00998</td>\n",
       "      <td>International Livestock Research Institute</td>\n",
       "      <td>Uthiru, Naivasha road, Nairobi-Kenya</td>\n",
       "      <td>COVC00998</td>\n",
       "      <td></td>\n",
       "      <td></td>\n",
       "      <td></td>\n",
       "    </tr>\n",
       "  </tbody>\n",
       "</table>\n",
       "<p>5 rows × 31 columns</p>\n",
       "</div>"
      ],
      "text/plain": [
       "  submitter fn covv_virus_name        covv_type covv_passage DT_SAM_COLL  \\\n",
       "0                      hCoV-19  betacoronavirus     Original  2020-06-11   \n",
       "1                      hCoV-19  betacoronavirus     Original  2020-06-10   \n",
       "2                      hCoV-19  betacoronavirus     Original  2020-06-08   \n",
       "3                      hCoV-19  betacoronavirus     Original  2020-06-08   \n",
       "4                      hCoV-19  betacoronavirus     Original  2020-06-08   \n",
       "\n",
       "  DT_SAM_RECEP         covv_location covv_add_location covv_host  ...  \\\n",
       "0          NaT  Africa/Kenya/Nairobi            Unkown     Human  ...   \n",
       "1          NaT  Africa/Kenya/Nairobi            Unkown     Human  ...   \n",
       "2   2020-06-14  Africa/Kenya/Nairobi            Unkown     Human  ...   \n",
       "3   2020-06-14  Africa/Kenya/Nairobi            Unkown     Human  ...   \n",
       "4   2020-06-14  Africa/Kenya/Nairobi            Unkown     Human  ...   \n",
       "\n",
       "  covv_coverage                               covv_orig_lab  \\\n",
       "0                International Livestock Research Institute   \n",
       "1                International Livestock Research Institute   \n",
       "2                International Livestock Research Institute   \n",
       "3                International Livestock Research Institute   \n",
       "4                International Livestock Research Institute   \n",
       "\n",
       "                     covv_orig_lab_addr      S_NUM  \\\n",
       "0  Uthiru, Naivasha road, Nairobi-Kenya  COVC00854   \n",
       "1  Uthiru, Naivasha road, Nairobi-Kenya  COVC00893   \n",
       "2  Uthiru, Naivasha road, Nairobi-Kenya  COVC00962   \n",
       "3  Uthiru, Naivasha road, Nairobi-Kenya  COVC00987   \n",
       "4  Uthiru, Naivasha road, Nairobi-Kenya  COVC00998   \n",
       "\n",
       "                                covv_subm_lab  \\\n",
       "0  International Livestock Research Institute   \n",
       "1  International Livestock Research Institute   \n",
       "2  International Livestock Research Institute   \n",
       "3  International Livestock Research Institute   \n",
       "4  International Livestock Research Institute   \n",
       "\n",
       "                     covv_subm_lab_addr covv_subm_sample_id covv_authors  \\\n",
       "0  Uthiru, Naivasha road, Nairobi-Kenya           COVC00854                \n",
       "1  Uthiru, Naivasha road, Nairobi-Kenya           COVC00893                \n",
       "2  Uthiru, Naivasha road, Nairobi-Kenya           COVC00962                \n",
       "3  Uthiru, Naivasha road, Nairobi-Kenya           COVC00987                \n",
       "4  Uthiru, Naivasha road, Nairobi-Kenya           COVC00998                \n",
       "\n",
       "  covv_comment comment_type  \n",
       "0                            \n",
       "1                            \n",
       "2                            \n",
       "3                            \n",
       "4                            \n",
       "\n",
       "[5 rows x 31 columns]"
      ]
     },
     "execution_count": 26,
     "metadata": {},
     "output_type": "execute_result"
    }
   ],
   "source": [
    "df_gisaid_sub.head()"
   ]
  },
  {
   "cell_type": "code",
   "execution_count": 27,
   "id": "6d25c529-8b1f-4c9b-82a0-d30bb74806d1",
   "metadata": {},
   "outputs": [],
   "source": [
    "# df_gisaid_sub_srt = df_gisaid_sub.assign(DT_SAM_COLL=df_gisaid_sub.sort_values('DT_SAM_COLL')['DT_SAM_COLL'].map(lambda x: x.strftime('%Y-%m-%d')))"
   ]
  },
  {
   "cell_type": "code",
   "execution_count": 28,
   "id": "eb3f0719-e0d6-42a7-868e-57a900d0e5ae",
   "metadata": {},
   "outputs": [
    {
     "data": {
      "text/plain": [
       "Index(['submitter', 'fn', 'covv_virus_name', 'covv_type', 'covv_passage',\n",
       "       'DT_SAM_COLL', 'DT_SAM_RECEP', 'covv_location', 'covv_add_location',\n",
       "       'covv_host', 'covv_add_host_info', 'covv_sampling_strategy', 'GEND',\n",
       "       'AGE_YRS', 'covv_patient_status', 'covv_specimen', 'covv_outbreak',\n",
       "       'covv_last_vaccinated', 'covv_treatment', 'covv_seq_technology',\n",
       "       'covv_assembly_method', 'covv_coverage', 'covv_orig_lab',\n",
       "       'covv_orig_lab_addr', 'S_NUM', 'covv_subm_lab', 'covv_subm_lab_addr',\n",
       "       'covv_subm_sample_id', 'covv_authors', 'covv_comment', 'comment_type'],\n",
       "      dtype='object')"
      ]
     },
     "execution_count": 28,
     "metadata": {},
     "output_type": "execute_result"
    }
   ],
   "source": [
    "df_gisaid_sub.columns"
   ]
  },
  {
   "cell_type": "markdown",
   "id": "b1d54144-c9d3-483d-ae22-544a15290e13",
   "metadata": {},
   "source": [
    "### **Confirm the following input file is update**"
   ]
  },
  {
   "cell_type": "raw",
   "id": "67372372-70bb-4b91-a476-c0e25ae44b26",
   "metadata": {},
   "source": [
    "df_brief_ids = pd.read_excel('/home/douso/Documents/TrendData/Results/ResultsMerged/all-brief-samples-IDs_07-09-2021.xlsx')[['SAMPLE']]"
   ]
  },
  {
   "cell_type": "raw",
   "id": "72371c52-8f50-49a5-b8dc-97af258cdd25",
   "metadata": {},
   "source": [
    "brief_id_list = list(df_brief_ids[df_brief_ids['SAMPLE'].str.contains('KEM') == False]['SAMPLE'])"
   ]
  },
  {
   "cell_type": "code",
   "execution_count": 29,
   "id": "20349c92-fe05-4cce-836f-ee41cdbf5fb3",
   "metadata": {},
   "outputs": [],
   "source": [
    "#DT_SAM_RECEP\n",
    "gisaid_cols = ['submitter', 'fn', 'covv_virus_name', 'covv_type', 'covv_passage',\n",
    "       'covv_collection_date', 'DT_SAM_RECEP','covv_location', 'covv_add_location',\n",
    "       'covv_host', 'covv_add_host_info', 'covv_sampling_strategy',\n",
    "       'covv_gender', 'covv_patient_age', 'covv_patient_status',\n",
    "       'covv_specimen', 'covv_outbreak', 'covv_last_vaccinated',\n",
    "       'covv_treatment', 'covv_seq_technology', 'covv_assembly_method',\n",
    "       'covv_coverage', 'covv_orig_lab', 'covv_orig_lab_addr',\n",
    "       'covv_provider_sample_id', 'covv_subm_lab', 'covv_subm_lab_addr',\n",
    "       'covv_subm_sample_id', 'covv_authors', 'covv_comment', 'comment_type']\n"
   ]
  },
  {
   "cell_type": "code",
   "execution_count": 30,
   "id": "792de874-8fdd-4291-ac0b-455e34d3e516",
   "metadata": {},
   "outputs": [],
   "source": [
    "df_gisaid_sub.columns = gisaid_cols"
   ]
  },
  {
   "cell_type": "code",
   "execution_count": 31,
   "id": "c545bfb5-7f44-4350-b321-2aff798e2a19",
   "metadata": {},
   "outputs": [],
   "source": [
    "df_dt = df_gisaid_sub[df_gisaid_sub['covv_collection_date'].isna() == False]\n",
    "df_missing_dt = df_gisaid_sub[df_gisaid_sub['covv_collection_date'].isna() == True]"
   ]
  },
  {
   "cell_type": "code",
   "execution_count": 32,
   "id": "cf4bb6fa-3b08-4e5f-90db-06a153f45dce",
   "metadata": {},
   "outputs": [],
   "source": [
    "df_missing_dt_corr = df_missing_dt.assign(covv_collection_date=df_missing_dt['DT_SAM_RECEP'].apply(lambda x: pd.Timestamp(x).strftime('%Y') if (isinstance(x, pd.Timestamp)) else x.replace(x, pd.NaT)))"
   ]
  },
  {
   "cell_type": "code",
   "execution_count": 33,
   "id": "7b5a9fc6-82b3-4b1b-b9d2-19935cb3e9ab",
   "metadata": {},
   "outputs": [],
   "source": [
    "df_gisaid_fin = df_dt.append(df_missing_dt_corr)"
   ]
  },
  {
   "cell_type": "raw",
   "id": "dcd99b87-ca58-486f-a11e-334956097bdc",
   "metadata": {},
   "source": [
    "def my_date_parser(x):\n",
    "    try:\n",
    "        if type(x) == pd.Timestamp:\n",
    "            x = x#.strftime('%d-%m-%Y')\n",
    "        if type(x) != pd.Timestamp and type(x) != (int, float, pd.NaT):\n",
    "            x = pd.to_datetime(x, errors='ignore', dayfirst=True)#.strftime('%d-%m-%Y')\n",
    "        if x in ['None indicated', 'NIL', 'Not indicated on form ',\n",
    "                    'Nil', 'None indicated', 'Leaked Sample - Empty', 'nan']:\n",
    "            x = pd.NaT\n",
    "    except (ValueError, AttributeError):\n",
    "        x = pd.NaT\n",
    "    return x"
   ]
  },
  {
   "cell_type": "raw",
   "id": "76627775-556b-425a-a712-4f59c12e0c66",
   "metadata": {},
   "source": [
    "df_gisaid_fin = df_gisaid_fin.assign(covv_collection_date=df_gisaid_fin['covv_collection_date'].apply(lambda x: my_date_parser(x)))"
   ]
  },
  {
   "cell_type": "code",
   "execution_count": 34,
   "id": "787cb0c6-38a1-446c-b847-58fc2c6a8287",
   "metadata": {},
   "outputs": [],
   "source": [
    "df_gisaid_fin.fillna('Unkown').to_excel(f'/home/douso/Documents/TrendData/Results/ResultsMerged/gisaid_data_{dt}.xlsx', index=False)"
   ]
  },
  {
   "cell_type": "code",
   "execution_count": 35,
   "id": "5ccf87d1-1a4e-427c-8648-2b026a87df22",
   "metadata": {},
   "outputs": [
    {
     "name": "stdout",
     "output_type": "stream",
     "text": [
      "<class 'pandas.core.frame.DataFrame'>\n",
      "Int64Index: 608 entries, 0 to 607\n",
      "Data columns (total 31 columns):\n",
      " #   Column                   Non-Null Count  Dtype         \n",
      "---  ------                   --------------  -----         \n",
      " 0   submitter                608 non-null    object        \n",
      " 1   fn                       608 non-null    object        \n",
      " 2   covv_virus_name          608 non-null    object        \n",
      " 3   covv_type                608 non-null    object        \n",
      " 4   covv_passage             608 non-null    object        \n",
      " 5   covv_collection_date     603 non-null    object        \n",
      " 6   DT_SAM_RECEP             523 non-null    datetime64[ns]\n",
      " 7   covv_location            597 non-null    object        \n",
      " 8   covv_add_location        608 non-null    object        \n",
      " 9   covv_host                608 non-null    object        \n",
      " 10  covv_add_host_info       608 non-null    object        \n",
      " 11  covv_sampling_strategy   608 non-null    object        \n",
      " 12  covv_gender              598 non-null    object        \n",
      " 13  covv_patient_age         577 non-null    float64       \n",
      " 14  covv_patient_status      608 non-null    object        \n",
      " 15  covv_specimen            608 non-null    object        \n",
      " 16  covv_outbreak            608 non-null    object        \n",
      " 17  covv_last_vaccinated     608 non-null    object        \n",
      " 18  covv_treatment           608 non-null    object        \n",
      " 19  covv_seq_technology      608 non-null    object        \n",
      " 20  covv_assembly_method     608 non-null    object        \n",
      " 21  covv_coverage            608 non-null    object        \n",
      " 22  covv_orig_lab            608 non-null    object        \n",
      " 23  covv_orig_lab_addr       608 non-null    object        \n",
      " 24  covv_provider_sample_id  608 non-null    object        \n",
      " 25  covv_subm_lab            608 non-null    object        \n",
      " 26  covv_subm_lab_addr       608 non-null    object        \n",
      " 27  covv_subm_sample_id      608 non-null    object        \n",
      " 28  covv_authors             608 non-null    object        \n",
      " 29  covv_comment             608 non-null    object        \n",
      " 30  comment_type             608 non-null    object        \n",
      "dtypes: datetime64[ns](1), float64(1), object(29)\n",
      "memory usage: 152.0+ KB\n"
     ]
    }
   ],
   "source": [
    "df_gisaid_fin.info()"
   ]
  },
  {
   "cell_type": "raw",
   "id": "416a6c0d-e290-46ff-9b4f-566cc4c57f20",
   "metadata": {},
   "source": [
    "sbatch -p batch -J sra_dwnld -n 30 --qos vip --mail-user=d.ouso@cgiar.org --mail-user=zeusfranck07yahoo.com --mail-type=BEGIN --mail-type=END -w compute05 sra.sh"
   ]
  }
 ],
 "metadata": {
  "kernelspec": {
   "display_name": "Python 3",
   "language": "python",
   "name": "python3"
  },
  "language_info": {
   "codemirror_mode": {
    "name": "ipython",
    "version": 3
   },
   "file_extension": ".py",
   "mimetype": "text/x-python",
   "name": "python",
   "nbconvert_exporter": "python",
   "pygments_lexer": "ipython3",
   "version": "3.8.10"
  }
 },
 "nbformat": 4,
 "nbformat_minor": 5
}
