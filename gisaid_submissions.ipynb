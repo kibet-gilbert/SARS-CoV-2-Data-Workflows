{
 "cells": [
  {
   "cell_type": "markdown",
   "id": "5adb7940-b891-4208-a8c6-4eb0a18df81f",
   "metadata": {},
   "source": [
    "## GISAID Metadata preparation"
   ]
  },
  {
   "cell_type": "code",
   "execution_count": 1,
   "id": "1b74f807-1cc4-4b55-a65c-c1d35090291f",
   "metadata": {},
   "outputs": [],
   "source": [
    "import pandas as pd\n",
    "import numpy as np\n",
    "from datetime import  datetime\n",
    "import re"
   ]
  },
  {
   "cell_type": "code",
   "execution_count": 2,
   "id": "763c25ee-2696-41b0-b29a-610835f7be78",
   "metadata": {},
   "outputs": [],
   "source": [
    "dt = datetime.today().strftime(format='%d-%m-%Y')"
   ]
  },
  {
   "cell_type": "markdown",
   "id": "44c01462-e623-49f0-bd8b-34036abc0eb8",
   "metadata": {},
   "source": [
    "### Load submission form"
   ]
  },
  {
   "cell_type": "code",
   "execution_count": 3,
   "id": "d2d5834c-7824-4a95-9889-31e5c5577858",
   "metadata": {},
   "outputs": [],
   "source": [
    "parent_dir = '/home/douso/SarsGenomics/Gisaid'\n",
    "df_gisaid = pd.read_excel(f'{parent_dir}/20210222_EpiCoV.xls', 'Submissions')"
   ]
  },
  {
   "cell_type": "code",
   "execution_count": 4,
   "id": "2631a121-63a8-4ed1-91c3-b4894c93f331",
   "metadata": {},
   "outputs": [
    {
     "data": {
      "text/html": [
       "<div>\n",
       "<style scoped>\n",
       "    .dataframe tbody tr th:only-of-type {\n",
       "        vertical-align: middle;\n",
       "    }\n",
       "\n",
       "    .dataframe tbody tr th {\n",
       "        vertical-align: top;\n",
       "    }\n",
       "\n",
       "    .dataframe thead th {\n",
       "        text-align: right;\n",
       "    }\n",
       "</style>\n",
       "<table border=\"1\" class=\"dataframe\">\n",
       "  <thead>\n",
       "    <tr style=\"text-align: right;\">\n",
       "      <th></th>\n",
       "      <th>submitter</th>\n",
       "      <th>fn</th>\n",
       "      <th>covv_virus_name</th>\n",
       "      <th>covv_type</th>\n",
       "      <th>covv_passage</th>\n",
       "      <th>covv_collection_date</th>\n",
       "      <th>covv_location</th>\n",
       "      <th>covv_add_location</th>\n",
       "      <th>covv_host</th>\n",
       "      <th>covv_add_host_info</th>\n",
       "      <th>...</th>\n",
       "      <th>covv_coverage</th>\n",
       "      <th>covv_orig_lab</th>\n",
       "      <th>covv_orig_lab_addr</th>\n",
       "      <th>covv_provider_sample_id</th>\n",
       "      <th>covv_subm_lab</th>\n",
       "      <th>covv_subm_lab_addr</th>\n",
       "      <th>covv_subm_sample_id</th>\n",
       "      <th>covv_authors</th>\n",
       "      <th>covv_comment</th>\n",
       "      <th>comment_type</th>\n",
       "    </tr>\n",
       "  </thead>\n",
       "  <tbody>\n",
       "    <tr>\n",
       "      <th>0</th>\n",
       "      <td>Submitter</td>\n",
       "      <td>FASTA filename</td>\n",
       "      <td>Virus name</td>\n",
       "      <td>Type</td>\n",
       "      <td>Passage details/history</td>\n",
       "      <td>Collection date</td>\n",
       "      <td>Location</td>\n",
       "      <td>Additional location information</td>\n",
       "      <td>Host</td>\n",
       "      <td>Additional host information</td>\n",
       "      <td>...</td>\n",
       "      <td>Coverage</td>\n",
       "      <td>Originating lab</td>\n",
       "      <td>Address</td>\n",
       "      <td>Sample ID given by originating laboratory</td>\n",
       "      <td>Submitting lab</td>\n",
       "      <td>Address</td>\n",
       "      <td>Sample ID given by the submitting laboratory</td>\n",
       "      <td>Authors</td>\n",
       "      <td>Comment</td>\n",
       "      <td>Comment Icon</td>\n",
       "    </tr>\n",
       "  </tbody>\n",
       "</table>\n",
       "<p>1 rows × 30 columns</p>\n",
       "</div>"
      ],
      "text/plain": [
       "   submitter              fn covv_virus_name covv_type  \\\n",
       "0  Submitter  FASTA filename      Virus name      Type   \n",
       "\n",
       "              covv_passage covv_collection_date covv_location  \\\n",
       "0  Passage details/history      Collection date      Location   \n",
       "\n",
       "                 covv_add_location covv_host           covv_add_host_info  \\\n",
       "0  Additional location information      Host  Additional host information   \n",
       "\n",
       "   ... covv_coverage    covv_orig_lab covv_orig_lab_addr  \\\n",
       "0  ...      Coverage  Originating lab            Address   \n",
       "\n",
       "                     covv_provider_sample_id   covv_subm_lab  \\\n",
       "0  Sample ID given by originating laboratory  Submitting lab   \n",
       "\n",
       "  covv_subm_lab_addr                           covv_subm_sample_id  \\\n",
       "0            Address  Sample ID given by the submitting laboratory   \n",
       "\n",
       "  covv_authors covv_comment  comment_type  \n",
       "0      Authors      Comment  Comment Icon  \n",
       "\n",
       "[1 rows x 30 columns]"
      ]
     },
     "execution_count": 4,
     "metadata": {},
     "output_type": "execute_result"
    }
   ],
   "source": [
    "df_gisaid.head()"
   ]
  },
  {
   "cell_type": "code",
   "execution_count": 5,
   "id": "be677046-2e9c-4141-bdd2-9a0c6f8167ec",
   "metadata": {},
   "outputs": [
    {
     "data": {
      "text/plain": [
       "Index(['submitter', 'fn', 'covv_virus_name', 'covv_type', 'covv_passage',\n",
       "       'covv_collection_date', 'covv_location', 'covv_add_location',\n",
       "       'covv_host', 'covv_add_host_info', 'covv_sampling_strategy',\n",
       "       'covv_gender', 'covv_patient_age', 'covv_patient_status',\n",
       "       'covv_specimen', 'covv_outbreak', 'covv_last_vaccinated',\n",
       "       'covv_treatment', 'covv_seq_technology', 'covv_assembly_method',\n",
       "       'covv_coverage', 'covv_orig_lab', 'covv_orig_lab_addr',\n",
       "       'covv_provider_sample_id', 'covv_subm_lab', 'covv_subm_lab_addr',\n",
       "       'covv_subm_sample_id', 'covv_authors', 'covv_comment', 'comment_type'],\n",
       "      dtype='object')"
      ]
     },
     "execution_count": 5,
     "metadata": {},
     "output_type": "execute_result"
    }
   ],
   "source": [
    "df_gisaid.columns"
   ]
  },
  {
   "cell_type": "code",
   "execution_count": 6,
   "id": "add87ddc-4248-49e2-ab8d-8fc6a5cef984",
   "metadata": {},
   "outputs": [],
   "source": [
    "gisaid_header = ['submitter', 'fn', 'covv_virus_name', 'covv_type', 'covv_passage', 'DT_SAM_COLL', \n",
    " 'DT_SAM_RECEP', 'covv_location', 'covv_add_location','covv_host', 'covv_add_host_info', 'covv_sampling_strategy',\n",
    " 'GEND', 'AGE_YRS', 'covv_patient_status', 'covv_specimen', 'covv_outbreak', \n",
    " 'covv_last_vaccinated', 'covv_treatment', 'covv_seq_technology', 'covv_assembly_method', 'covv_coverage', \n",
    " 'covv_orig_lab', 'covv_orig_lab_addr', 'S_NUM', 'covv_subm_lab', 'covv_subm_lab_addr', \n",
    " 'covv_subm_sample_id', 'covv_authors', 'covv_comment', 'comment_type']"
   ]
  },
  {
   "cell_type": "markdown",
   "id": "965c6b61-e3fc-4327-808a-7767aef66841",
   "metadata": {},
   "source": [
    "### **Pull-in the metadata**"
   ]
  },
  {
   "cell_type": "code",
   "execution_count": 7,
   "id": "3a4a2933-65c5-4d82-a37f-ab6877e38cc7",
   "metadata": {},
   "outputs": [],
   "source": [
    "df_metadata = pd.read_excel('/home/douso/Documents/TrendData/Results/ResultsMerged/COVID19-resultsCts-merged-cln.xlsx')"
   ]
  },
  {
   "cell_type": "code",
   "execution_count": 8,
   "id": "ea19887c-c8c2-4530-b937-c4b5eb0f3231",
   "metadata": {},
   "outputs": [],
   "source": [
    "#get the columns necessary\n",
    "df_headers = df_metadata[['S_NUM', 'AGE_YRS', 'GEND', 'NAT', \n",
    "           'COUNT_RES',  \n",
    "           'DT_SAM_COLL', \n",
    "           'DT_SAM_RECEP']]"
   ]
  },
  {
   "cell_type": "code",
   "execution_count": 9,
   "id": "aed68e4b-47f9-4917-87ce-a953545165c7",
   "metadata": {},
   "outputs": [],
   "source": [
    "df_gisaid_all = pd.read_excel('/home/douso/Gisaid/over80_id_all_nodup-2.xlsx')"
   ]
  },
  {
   "cell_type": "code",
   "execution_count": 10,
   "id": "1d19ba8b-cd16-477c-863d-c9f11562628e",
   "metadata": {},
   "outputs": [
    {
     "data": {
      "text/plain": [
       "<bound method NDFrame.head of      sample_id  genome_cov\n",
       "0    COVC03617        98.6\n",
       "1    COVC03665        98.0\n",
       "2    COVC03696        98.7\n",
       "3    COVC03723        99.2\n",
       "4    COVC03813        97.9\n",
       "..         ...         ...\n",
       "726  NHRL-S021        95.4\n",
       "727  NHRL-S022        89.5\n",
       "728  NHRL-S024        93.3\n",
       "729  NHRL-S031        95.7\n",
       "730  NHRL-S036        93.9\n",
       "\n",
       "[731 rows x 2 columns]>"
      ]
     },
     "execution_count": 10,
     "metadata": {},
     "output_type": "execute_result"
    }
   ],
   "source": [
    "df_gisaid_all.head"
   ]
  },
  {
   "cell_type": "code",
   "execution_count": 11,
   "id": "9c110032-3b9c-4608-83c0-4622e400970f",
   "metadata": {},
   "outputs": [
    {
     "data": {
      "text/plain": [
       "(731, 8)"
      ]
     },
     "execution_count": 11,
     "metadata": {},
     "output_type": "execute_result"
    }
   ],
   "source": [
    "df_mrgl = df_gisaid_all.merge(df_headers, how='left', left_on='sample_id', right_on='S_NUM').drop('sample_id', axis=1)\n",
    "df_mrgl.shape"
   ]
  },
  {
   "cell_type": "raw",
   "id": "b9c4b156-1f9f-4f54-8f43-d4887ce24e59",
   "metadata": {},
   "source": [
    "df_mrgi = df_gisaid_all.merge(df_headers, how='inner', left_on='sample_id', right_on='S_NUM')"
   ]
  },
  {
   "cell_type": "raw",
   "id": "515b6b62-fb59-4550-bfaf-c50b35262a29",
   "metadata": {},
   "source": [
    "set(df_mrgl['sample_id']) - set(df_mrgi['sample_id'])#.shape#head()"
   ]
  },
  {
   "cell_type": "raw",
   "id": "b78a56b1-00ba-4119-bea0-6314e7953a42",
   "metadata": {},
   "source": [
    "{'COVC28286',\n",
    " 'MoH-Cov-1',\n",
    " 'MoH-Cov-2',\n",
    " 'MoH-Cov-3',\n",
    " 'MoH-Cov-4',\n",
    " 'MoH-Cov-5',\n",
    " 'NHRL-N003',\n",
    " 'NHRL-N004',\n",
    " 'NHRL-N007',\n",
    " 'NHRL-N009',\n",
    " 'NHRL-N012',\n",
    " 'NHRL-N021',\n",
    " 'NHRL-N022',\n",
    " 'NHRL-N024',\n",
    " 'NHRL-N031',\n",
    " 'NHRL-N036'}\n",
    "sed -i -e 's/>COVC28286/>COVC23286/' -e 's/MoH-Cov/MOH-COV/g' gisaid_all.fasta"
   ]
  },
  {
   "cell_type": "code",
   "execution_count": 12,
   "id": "492d6080-e420-4424-b109-2d3be3ffe940",
   "metadata": {},
   "outputs": [
    {
     "data": {
      "text/html": [
       "<div>\n",
       "<style scoped>\n",
       "    .dataframe tbody tr th:only-of-type {\n",
       "        vertical-align: middle;\n",
       "    }\n",
       "\n",
       "    .dataframe tbody tr th {\n",
       "        vertical-align: top;\n",
       "    }\n",
       "\n",
       "    .dataframe thead th {\n",
       "        text-align: right;\n",
       "    }\n",
       "</style>\n",
       "<table border=\"1\" class=\"dataframe\">\n",
       "  <thead>\n",
       "    <tr style=\"text-align: right;\">\n",
       "      <th></th>\n",
       "      <th>genome_cov</th>\n",
       "      <th>S_NUM</th>\n",
       "      <th>AGE_YRS</th>\n",
       "      <th>GEND</th>\n",
       "      <th>NAT</th>\n",
       "      <th>COUNT_RES</th>\n",
       "      <th>DT_SAM_COLL</th>\n",
       "      <th>DT_SAM_RECEP</th>\n",
       "    </tr>\n",
       "  </thead>\n",
       "  <tbody>\n",
       "    <tr>\n",
       "      <th>0</th>\n",
       "      <td>98.6</td>\n",
       "      <td>COVC03617</td>\n",
       "      <td>55.0</td>\n",
       "      <td>F</td>\n",
       "      <td>Kenya</td>\n",
       "      <td>Nairobi</td>\n",
       "      <td>2020-07-06</td>\n",
       "      <td>NaT</td>\n",
       "    </tr>\n",
       "    <tr>\n",
       "      <th>1</th>\n",
       "      <td>98.0</td>\n",
       "      <td>COVC03665</td>\n",
       "      <td>23.0</td>\n",
       "      <td>M</td>\n",
       "      <td>Kenya</td>\n",
       "      <td>Nairobi</td>\n",
       "      <td>2020-07-06</td>\n",
       "      <td>NaT</td>\n",
       "    </tr>\n",
       "    <tr>\n",
       "      <th>2</th>\n",
       "      <td>98.7</td>\n",
       "      <td>COVC03696</td>\n",
       "      <td>24.0</td>\n",
       "      <td>M</td>\n",
       "      <td>Kenya</td>\n",
       "      <td>Nairobi</td>\n",
       "      <td>2020-07-06</td>\n",
       "      <td>NaT</td>\n",
       "    </tr>\n",
       "    <tr>\n",
       "      <th>3</th>\n",
       "      <td>99.2</td>\n",
       "      <td>COVC03723</td>\n",
       "      <td>36.0</td>\n",
       "      <td>M</td>\n",
       "      <td>Kenya</td>\n",
       "      <td>Nairobi</td>\n",
       "      <td>2020-07-06</td>\n",
       "      <td>NaT</td>\n",
       "    </tr>\n",
       "    <tr>\n",
       "      <th>4</th>\n",
       "      <td>97.9</td>\n",
       "      <td>COVC03813</td>\n",
       "      <td>59.0</td>\n",
       "      <td>M</td>\n",
       "      <td>Kenya</td>\n",
       "      <td>Nairobi</td>\n",
       "      <td>2020-07-10</td>\n",
       "      <td>NaT</td>\n",
       "    </tr>\n",
       "  </tbody>\n",
       "</table>\n",
       "</div>"
      ],
      "text/plain": [
       "   genome_cov      S_NUM  AGE_YRS GEND    NAT COUNT_RES DT_SAM_COLL  \\\n",
       "0        98.6  COVC03617     55.0    F  Kenya   Nairobi  2020-07-06   \n",
       "1        98.0  COVC03665     23.0    M  Kenya   Nairobi  2020-07-06   \n",
       "2        98.7  COVC03696     24.0    M  Kenya   Nairobi  2020-07-06   \n",
       "3        99.2  COVC03723     36.0    M  Kenya   Nairobi  2020-07-06   \n",
       "4        97.9  COVC03813     59.0    M  Kenya   Nairobi  2020-07-10   \n",
       "\n",
       "  DT_SAM_RECEP  \n",
       "0          NaT  \n",
       "1          NaT  \n",
       "2          NaT  \n",
       "3          NaT  \n",
       "4          NaT  "
      ]
     },
     "execution_count": 12,
     "metadata": {},
     "output_type": "execute_result"
    }
   ],
   "source": [
    "df_mrgl.head()"
   ]
  },
  {
   "cell_type": "markdown",
   "id": "9422ebfc-b13a-4285-bf67-ca2c6c4d5075",
   "metadata": {},
   "source": [
    "### **Be sure the next input is update**"
   ]
  },
  {
   "cell_type": "code",
   "execution_count": 13,
   "id": "645a6934-8ce2-4adc-992c-580481e2ff09",
   "metadata": {},
   "outputs": [
    {
     "data": {
      "text/plain": [
       "(1170, 8)"
      ]
     },
     "execution_count": 13,
     "metadata": {},
     "output_type": "execute_result"
    }
   ],
   "source": [
    "df_seq_summ = pd.read_excel('/home/douso/Documents/TrendData/Results/ResultsMerged/seq-summary-metadata_07-09-2021.xlsx')\n",
    "df_seq_summ.shape"
   ]
  },
  {
   "cell_type": "code",
   "execution_count": 14,
   "id": "1b2f89cb-80d2-4551-ab5e-a2e68c74b1c5",
   "metadata": {},
   "outputs": [
    {
     "data": {
      "text/plain": [
       "(1136, 8)"
      ]
     },
     "execution_count": 14,
     "metadata": {},
     "output_type": "execute_result"
    }
   ],
   "source": [
    "df_seqd_int = df_seq_summ.sort_values(['sequence_name', 'genome_coverage']).drop_duplicates('sequence_name', keep='last')\n",
    "df_seqd_int.shape#.head()"
   ]
  },
  {
   "cell_type": "raw",
   "id": "df156e9d-ca2e-44c1-a314-92352f83c4a7",
   "metadata": {},
   "source": [
    "#Filter service samples; remain with internals only\n",
    "df_seqd_int = df_seq_summ[df_seq_summ['sequence_name'].str.contains('KEM') == False]#.head()"
   ]
  },
  {
   "cell_type": "code",
   "execution_count": 16,
   "id": "e3828e43-9c97-4a17-b8be-61dedd7d287e",
   "metadata": {},
   "outputs": [
    {
     "data": {
      "text/plain": [
       "(1136, 8)"
      ]
     },
     "execution_count": 16,
     "metadata": {},
     "output_type": "execute_result"
    }
   ],
   "source": [
    "df_seqd_int.shape"
   ]
  },
  {
   "cell_type": "code",
   "execution_count": 15,
   "id": "e49ae6c0-f10b-4cc4-a1e7-21752dc97205",
   "metadata": {},
   "outputs": [
    {
     "data": {
      "text/html": [
       "<div>\n",
       "<style scoped>\n",
       "    .dataframe tbody tr th:only-of-type {\n",
       "        vertical-align: middle;\n",
       "    }\n",
       "\n",
       "    .dataframe tbody tr th {\n",
       "        vertical-align: top;\n",
       "    }\n",
       "\n",
       "    .dataframe thead th {\n",
       "        text-align: right;\n",
       "    }\n",
       "</style>\n",
       "<table border=\"1\" class=\"dataframe\">\n",
       "  <thead>\n",
       "    <tr style=\"text-align: right;\">\n",
       "      <th></th>\n",
       "      <th>sequence_name</th>\n",
       "      <th>clade</th>\n",
       "      <th>lineage</th>\n",
       "      <th>genome_coverage</th>\n",
       "      <th>run_num</th>\n",
       "      <th>seq_dt</th>\n",
       "      <th>lib_prep</th>\n",
       "      <th>primer_set</th>\n",
       "    </tr>\n",
       "  </thead>\n",
       "  <tbody>\n",
       "    <tr>\n",
       "      <th>1</th>\n",
       "      <td>COVC00854</td>\n",
       "      <td>20C</td>\n",
       "      <td>B.1</td>\n",
       "      <td>94.9</td>\n",
       "      <td>Run7</td>\n",
       "      <td>18-05-2021</td>\n",
       "      <td>Run7</td>\n",
       "      <td>ARTIC_V3</td>\n",
       "    </tr>\n",
       "    <tr>\n",
       "      <th>2</th>\n",
       "      <td>COVC00867</td>\n",
       "      <td>20C</td>\n",
       "      <td>B.1.446</td>\n",
       "      <td>68.2</td>\n",
       "      <td>Run7</td>\n",
       "      <td>18-05-2021</td>\n",
       "      <td>Run7</td>\n",
       "      <td>ARTIC_V3</td>\n",
       "    </tr>\n",
       "    <tr>\n",
       "      <th>3</th>\n",
       "      <td>COVC00893</td>\n",
       "      <td>20C</td>\n",
       "      <td>B.1.446</td>\n",
       "      <td>84.1</td>\n",
       "      <td>Run7</td>\n",
       "      <td>18-05-2021</td>\n",
       "      <td>Run7</td>\n",
       "      <td>ARTIC_V3</td>\n",
       "    </tr>\n",
       "    <tr>\n",
       "      <th>4</th>\n",
       "      <td>COVC00915</td>\n",
       "      <td>NaN</td>\n",
       "      <td>Failed</td>\n",
       "      <td>0.0</td>\n",
       "      <td>Run7</td>\n",
       "      <td>18-05-2021</td>\n",
       "      <td>Run7</td>\n",
       "      <td>ARTIC_V3</td>\n",
       "    </tr>\n",
       "    <tr>\n",
       "      <th>5</th>\n",
       "      <td>COVC00962</td>\n",
       "      <td>20A</td>\n",
       "      <td>B.1</td>\n",
       "      <td>92.9</td>\n",
       "      <td>Run7</td>\n",
       "      <td>18-05-2021</td>\n",
       "      <td>Run7</td>\n",
       "      <td>ARTIC_V3</td>\n",
       "    </tr>\n",
       "  </tbody>\n",
       "</table>\n",
       "</div>"
      ],
      "text/plain": [
       "  sequence_name clade  lineage  genome_coverage run_num      seq_dt lib_prep  \\\n",
       "1     COVC00854   20C      B.1             94.9    Run7  18-05-2021     Run7   \n",
       "2     COVC00867   20C  B.1.446             68.2    Run7  18-05-2021     Run7   \n",
       "3     COVC00893   20C  B.1.446             84.1    Run7  18-05-2021     Run7   \n",
       "4     COVC00915   NaN   Failed              0.0    Run7  18-05-2021     Run7   \n",
       "5     COVC00962   20A      B.1             92.9    Run7  18-05-2021     Run7   \n",
       "\n",
       "  primer_set  \n",
       "1   ARTIC_V3  \n",
       "2   ARTIC_V3  \n",
       "3   ARTIC_V3  \n",
       "4   ARTIC_V3  \n",
       "5   ARTIC_V3  "
      ]
     },
     "execution_count": 15,
     "metadata": {},
     "output_type": "execute_result"
    }
   ],
   "source": [
    "df_seqd_int.head()"
   ]
  },
  {
   "cell_type": "raw",
   "id": "041788b3-f2d0-4111-b771-b44892af9ad7",
   "metadata": {},
   "source": [
    "#Merge metadata with seq summary data\n",
    "df_seq_metar = df_seqd_int.set_index('sequence_name').merge(df_mrgl.set_index('S_NUM'), how='right', left_index=True, right_index=True)\n",
    "df_seq_metar.shape"
   ]
  },
  {
   "cell_type": "code",
   "execution_count": 16,
   "id": "a58d4d4a-9540-42ab-8f52-13ae068ef4ca",
   "metadata": {},
   "outputs": [
    {
     "data": {
      "text/plain": [
       "(731, 16)"
      ]
     },
     "execution_count": 16,
     "metadata": {},
     "output_type": "execute_result"
    }
   ],
   "source": [
    "#Merge metadata with seq summary data\n",
    "df_seq_meta_on = df_mrgl.merge(df_seqd_int, how='left', left_on='S_NUM', right_on='sequence_name')\n",
    "df_seq_meta_on.shape"
   ]
  },
  {
   "cell_type": "code",
   "execution_count": 17,
   "id": "4299c59a-7359-42c6-8fc8-e3607a819d8e",
   "metadata": {},
   "outputs": [
    {
     "data": {
      "text/html": [
       "<div>\n",
       "<style scoped>\n",
       "    .dataframe tbody tr th:only-of-type {\n",
       "        vertical-align: middle;\n",
       "    }\n",
       "\n",
       "    .dataframe tbody tr th {\n",
       "        vertical-align: top;\n",
       "    }\n",
       "\n",
       "    .dataframe thead th {\n",
       "        text-align: right;\n",
       "    }\n",
       "</style>\n",
       "<table border=\"1\" class=\"dataframe\">\n",
       "  <thead>\n",
       "    <tr style=\"text-align: right;\">\n",
       "      <th></th>\n",
       "      <th>genome_cov</th>\n",
       "      <th>S_NUM</th>\n",
       "      <th>AGE_YRS</th>\n",
       "      <th>GEND</th>\n",
       "      <th>NAT</th>\n",
       "      <th>COUNT_RES</th>\n",
       "      <th>DT_SAM_COLL</th>\n",
       "      <th>DT_SAM_RECEP</th>\n",
       "      <th>sequence_name</th>\n",
       "      <th>clade</th>\n",
       "      <th>lineage</th>\n",
       "      <th>genome_coverage</th>\n",
       "      <th>run_num</th>\n",
       "      <th>seq_dt</th>\n",
       "      <th>lib_prep</th>\n",
       "      <th>primer_set</th>\n",
       "    </tr>\n",
       "  </thead>\n",
       "  <tbody>\n",
       "  </tbody>\n",
       "</table>\n",
       "</div>"
      ],
      "text/plain": [
       "Empty DataFrame\n",
       "Columns: [genome_cov, S_NUM, AGE_YRS, GEND, NAT, COUNT_RES, DT_SAM_COLL, DT_SAM_RECEP, sequence_name, clade, lineage, genome_coverage, run_num, seq_dt, lib_prep, primer_set]\n",
       "Index: []"
      ]
     },
     "execution_count": 17,
     "metadata": {},
     "output_type": "execute_result"
    }
   ],
   "source": [
    "mask = df_seq_meta_on.duplicated('sequence_name', keep=False)\n",
    "df_seq_meta_on[mask == True]"
   ]
  },
  {
   "cell_type": "code",
   "execution_count": 19,
   "id": "0243d699-c28a-4277-883d-c2f0e69ff15b",
   "metadata": {},
   "outputs": [
    {
     "data": {
      "text/html": [
       "<div>\n",
       "<style scoped>\n",
       "    .dataframe tbody tr th:only-of-type {\n",
       "        vertical-align: middle;\n",
       "    }\n",
       "\n",
       "    .dataframe tbody tr th {\n",
       "        vertical-align: top;\n",
       "    }\n",
       "\n",
       "    .dataframe thead th {\n",
       "        text-align: right;\n",
       "    }\n",
       "</style>\n",
       "<table border=\"1\" class=\"dataframe\">\n",
       "  <thead>\n",
       "    <tr style=\"text-align: right;\">\n",
       "      <th></th>\n",
       "      <th>genome_cov</th>\n",
       "      <th>S_NUM</th>\n",
       "      <th>AGE_YRS</th>\n",
       "      <th>GEND</th>\n",
       "      <th>NAT</th>\n",
       "      <th>COUNT_RES</th>\n",
       "      <th>DT_SAM_COLL</th>\n",
       "      <th>DT_SAM_RECEP</th>\n",
       "      <th>sequence_name</th>\n",
       "      <th>clade</th>\n",
       "      <th>lineage</th>\n",
       "      <th>genome_coverage</th>\n",
       "      <th>run_num</th>\n",
       "      <th>seq_dt</th>\n",
       "      <th>lib_prep</th>\n",
       "      <th>primer_set</th>\n",
       "    </tr>\n",
       "  </thead>\n",
       "  <tbody>\n",
       "    <tr>\n",
       "      <th>0</th>\n",
       "      <td>98.6</td>\n",
       "      <td>COVC03617</td>\n",
       "      <td>55.0</td>\n",
       "      <td>F</td>\n",
       "      <td>Kenya</td>\n",
       "      <td>Nairobi</td>\n",
       "      <td>2020-07-06</td>\n",
       "      <td>NaT</td>\n",
       "      <td>COVC03617</td>\n",
       "      <td>20C</td>\n",
       "      <td>B.1</td>\n",
       "      <td>98.4</td>\n",
       "      <td>Run8</td>\n",
       "      <td>25-05-2021</td>\n",
       "      <td>Run8</td>\n",
       "      <td>ARTIC_V3</td>\n",
       "    </tr>\n",
       "    <tr>\n",
       "      <th>1</th>\n",
       "      <td>98.0</td>\n",
       "      <td>COVC03665</td>\n",
       "      <td>23.0</td>\n",
       "      <td>M</td>\n",
       "      <td>Kenya</td>\n",
       "      <td>Nairobi</td>\n",
       "      <td>2020-07-06</td>\n",
       "      <td>NaT</td>\n",
       "      <td>COVC03665</td>\n",
       "      <td>20C</td>\n",
       "      <td>B.1</td>\n",
       "      <td>95.5</td>\n",
       "      <td>Run8</td>\n",
       "      <td>25-05-2021</td>\n",
       "      <td>Run8</td>\n",
       "      <td>ARTIC_V3</td>\n",
       "    </tr>\n",
       "    <tr>\n",
       "      <th>2</th>\n",
       "      <td>98.7</td>\n",
       "      <td>COVC03696</td>\n",
       "      <td>24.0</td>\n",
       "      <td>M</td>\n",
       "      <td>Kenya</td>\n",
       "      <td>Nairobi</td>\n",
       "      <td>2020-07-06</td>\n",
       "      <td>NaT</td>\n",
       "      <td>COVC03696</td>\n",
       "      <td>20C</td>\n",
       "      <td>B.1.349</td>\n",
       "      <td>98.4</td>\n",
       "      <td>Run8</td>\n",
       "      <td>25-05-2021</td>\n",
       "      <td>Run8</td>\n",
       "      <td>ARTIC_V3</td>\n",
       "    </tr>\n",
       "    <tr>\n",
       "      <th>3</th>\n",
       "      <td>99.2</td>\n",
       "      <td>COVC03723</td>\n",
       "      <td>36.0</td>\n",
       "      <td>M</td>\n",
       "      <td>Kenya</td>\n",
       "      <td>Nairobi</td>\n",
       "      <td>2020-07-06</td>\n",
       "      <td>NaT</td>\n",
       "      <td>COVC03723</td>\n",
       "      <td>20C</td>\n",
       "      <td>B.1</td>\n",
       "      <td>98.9</td>\n",
       "      <td>Run8</td>\n",
       "      <td>25-05-2021</td>\n",
       "      <td>Run8</td>\n",
       "      <td>ARTIC_V3</td>\n",
       "    </tr>\n",
       "    <tr>\n",
       "      <th>4</th>\n",
       "      <td>97.9</td>\n",
       "      <td>COVC03813</td>\n",
       "      <td>59.0</td>\n",
       "      <td>M</td>\n",
       "      <td>Kenya</td>\n",
       "      <td>Nairobi</td>\n",
       "      <td>2020-07-10</td>\n",
       "      <td>NaT</td>\n",
       "      <td>COVC03813</td>\n",
       "      <td>20C</td>\n",
       "      <td>B.1</td>\n",
       "      <td>97.1</td>\n",
       "      <td>Run8</td>\n",
       "      <td>25-05-2021</td>\n",
       "      <td>Run8</td>\n",
       "      <td>ARTIC_V3</td>\n",
       "    </tr>\n",
       "  </tbody>\n",
       "</table>\n",
       "</div>"
      ],
      "text/plain": [
       "   genome_cov      S_NUM  AGE_YRS GEND    NAT COUNT_RES DT_SAM_COLL  \\\n",
       "0        98.6  COVC03617     55.0    F  Kenya   Nairobi  2020-07-06   \n",
       "1        98.0  COVC03665     23.0    M  Kenya   Nairobi  2020-07-06   \n",
       "2        98.7  COVC03696     24.0    M  Kenya   Nairobi  2020-07-06   \n",
       "3        99.2  COVC03723     36.0    M  Kenya   Nairobi  2020-07-06   \n",
       "4        97.9  COVC03813     59.0    M  Kenya   Nairobi  2020-07-10   \n",
       "\n",
       "  DT_SAM_RECEP sequence_name clade  lineage  genome_coverage run_num  \\\n",
       "0          NaT     COVC03617   20C      B.1             98.4    Run8   \n",
       "1          NaT     COVC03665   20C      B.1             95.5    Run8   \n",
       "2          NaT     COVC03696   20C  B.1.349             98.4    Run8   \n",
       "3          NaT     COVC03723   20C      B.1             98.9    Run8   \n",
       "4          NaT     COVC03813   20C      B.1             97.1    Run8   \n",
       "\n",
       "       seq_dt lib_prep primer_set  \n",
       "0  25-05-2021     Run8   ARTIC_V3  \n",
       "1  25-05-2021     Run8   ARTIC_V3  \n",
       "2  25-05-2021     Run8   ARTIC_V3  \n",
       "3  25-05-2021     Run8   ARTIC_V3  \n",
       "4  25-05-2021     Run8   ARTIC_V3  "
      ]
     },
     "execution_count": 19,
     "metadata": {},
     "output_type": "execute_result"
    }
   ],
   "source": [
    "df_seq_meta_on.head()"
   ]
  },
  {
   "cell_type": "code",
   "execution_count": 22,
   "id": "6038ed28-d5ac-4c0e-84f7-ffc13c3b22ab",
   "metadata": {},
   "outputs": [
    {
     "data": {
      "text/plain": [
       "(731, 14)"
      ]
     },
     "execution_count": 22,
     "metadata": {},
     "output_type": "execute_result"
    }
   ],
   "source": [
    "#Merge metadata with seq summary data\n",
    "df_seq_metal = df_mrgl.set_index('S_NUM').merge(df_seqd_int.set_index('sequence_name'), how='left', left_index=True, right_index=True)\n",
    "df_seq_metal.shape"
   ]
  },
  {
   "cell_type": "raw",
   "id": "df7a5a06-dabe-4d11-95a4-3d313681db39",
   "metadata": {},
   "source": [
    "len(set(df_seq_metal.index) & set(df_seq_metai.index))#.shape#head()"
   ]
  },
  {
   "cell_type": "code",
   "execution_count": 21,
   "id": "e89ff604-af23-449a-9509-bae1abe170ab",
   "metadata": {},
   "outputs": [],
   "source": [
    "def get_seq_tech(x):\n",
    "    x = str(x)\n",
    "    if 'ONT' in x:\n",
    "        return x.replace(x, 'Minion')\n",
    "    elif '_NS' in x:\n",
    "        return x.replace(x, 'NextSeq')\n",
    "    return x.replace(x, 'MiSeq')\n",
    "        "
   ]
  },
  {
   "cell_type": "code",
   "execution_count": 23,
   "id": "da2fba7b-6e16-4b95-bdba-45e7367a9431",
   "metadata": {},
   "outputs": [],
   "source": [
    "df_seq_meta2 = df_seq_metal.assign(covv_seq_technology = df_seq_metal['run_num']\n",
    "                                  .apply(lambda x: get_seq_tech(x)))"
   ]
  },
  {
   "cell_type": "code",
   "execution_count": 24,
   "id": "d10421e6-dcc7-4329-a073-a319fcf59795",
   "metadata": {},
   "outputs": [
    {
     "data": {
      "text/plain": [
       "(731, 15)"
      ]
     },
     "execution_count": 24,
     "metadata": {},
     "output_type": "execute_result"
    }
   ],
   "source": [
    "df_seq_meta2.shape"
   ]
  },
  {
   "cell_type": "code",
   "execution_count": 25,
   "id": "d5e4d2d1-e0ec-439c-a6cf-a69e28d9b978",
   "metadata": {},
   "outputs": [
    {
     "data": {
      "text/html": [
       "<div>\n",
       "<style scoped>\n",
       "    .dataframe tbody tr th:only-of-type {\n",
       "        vertical-align: middle;\n",
       "    }\n",
       "\n",
       "    .dataframe tbody tr th {\n",
       "        vertical-align: top;\n",
       "    }\n",
       "\n",
       "    .dataframe thead th {\n",
       "        text-align: right;\n",
       "    }\n",
       "</style>\n",
       "<table border=\"1\" class=\"dataframe\">\n",
       "  <thead>\n",
       "    <tr style=\"text-align: right;\">\n",
       "      <th></th>\n",
       "      <th>genome_cov</th>\n",
       "      <th>AGE_YRS</th>\n",
       "      <th>GEND</th>\n",
       "      <th>NAT</th>\n",
       "      <th>COUNT_RES</th>\n",
       "      <th>DT_SAM_COLL</th>\n",
       "      <th>DT_SAM_RECEP</th>\n",
       "      <th>clade</th>\n",
       "      <th>lineage</th>\n",
       "      <th>genome_coverage</th>\n",
       "      <th>run_num</th>\n",
       "      <th>seq_dt</th>\n",
       "      <th>lib_prep</th>\n",
       "      <th>primer_set</th>\n",
       "      <th>covv_seq_technology</th>\n",
       "    </tr>\n",
       "    <tr>\n",
       "      <th>S_NUM</th>\n",
       "      <th></th>\n",
       "      <th></th>\n",
       "      <th></th>\n",
       "      <th></th>\n",
       "      <th></th>\n",
       "      <th></th>\n",
       "      <th></th>\n",
       "      <th></th>\n",
       "      <th></th>\n",
       "      <th></th>\n",
       "      <th></th>\n",
       "      <th></th>\n",
       "      <th></th>\n",
       "      <th></th>\n",
       "      <th></th>\n",
       "    </tr>\n",
       "  </thead>\n",
       "  <tbody>\n",
       "    <tr>\n",
       "      <th>COVC03617</th>\n",
       "      <td>98.6</td>\n",
       "      <td>55.0</td>\n",
       "      <td>F</td>\n",
       "      <td>Kenya</td>\n",
       "      <td>Nairobi</td>\n",
       "      <td>2020-07-06</td>\n",
       "      <td>NaT</td>\n",
       "      <td>20C</td>\n",
       "      <td>B.1</td>\n",
       "      <td>98.4</td>\n",
       "      <td>Run8</td>\n",
       "      <td>25-05-2021</td>\n",
       "      <td>Run8</td>\n",
       "      <td>ARTIC_V3</td>\n",
       "      <td>MiSeq</td>\n",
       "    </tr>\n",
       "    <tr>\n",
       "      <th>COVC03665</th>\n",
       "      <td>98.0</td>\n",
       "      <td>23.0</td>\n",
       "      <td>M</td>\n",
       "      <td>Kenya</td>\n",
       "      <td>Nairobi</td>\n",
       "      <td>2020-07-06</td>\n",
       "      <td>NaT</td>\n",
       "      <td>20C</td>\n",
       "      <td>B.1</td>\n",
       "      <td>95.5</td>\n",
       "      <td>Run8</td>\n",
       "      <td>25-05-2021</td>\n",
       "      <td>Run8</td>\n",
       "      <td>ARTIC_V3</td>\n",
       "      <td>MiSeq</td>\n",
       "    </tr>\n",
       "    <tr>\n",
       "      <th>COVC03696</th>\n",
       "      <td>98.7</td>\n",
       "      <td>24.0</td>\n",
       "      <td>M</td>\n",
       "      <td>Kenya</td>\n",
       "      <td>Nairobi</td>\n",
       "      <td>2020-07-06</td>\n",
       "      <td>NaT</td>\n",
       "      <td>20C</td>\n",
       "      <td>B.1.349</td>\n",
       "      <td>98.4</td>\n",
       "      <td>Run8</td>\n",
       "      <td>25-05-2021</td>\n",
       "      <td>Run8</td>\n",
       "      <td>ARTIC_V3</td>\n",
       "      <td>MiSeq</td>\n",
       "    </tr>\n",
       "    <tr>\n",
       "      <th>COVC03723</th>\n",
       "      <td>99.2</td>\n",
       "      <td>36.0</td>\n",
       "      <td>M</td>\n",
       "      <td>Kenya</td>\n",
       "      <td>Nairobi</td>\n",
       "      <td>2020-07-06</td>\n",
       "      <td>NaT</td>\n",
       "      <td>20C</td>\n",
       "      <td>B.1</td>\n",
       "      <td>98.9</td>\n",
       "      <td>Run8</td>\n",
       "      <td>25-05-2021</td>\n",
       "      <td>Run8</td>\n",
       "      <td>ARTIC_V3</td>\n",
       "      <td>MiSeq</td>\n",
       "    </tr>\n",
       "    <tr>\n",
       "      <th>COVC03813</th>\n",
       "      <td>97.9</td>\n",
       "      <td>59.0</td>\n",
       "      <td>M</td>\n",
       "      <td>Kenya</td>\n",
       "      <td>Nairobi</td>\n",
       "      <td>2020-07-10</td>\n",
       "      <td>NaT</td>\n",
       "      <td>20C</td>\n",
       "      <td>B.1</td>\n",
       "      <td>97.1</td>\n",
       "      <td>Run8</td>\n",
       "      <td>25-05-2021</td>\n",
       "      <td>Run8</td>\n",
       "      <td>ARTIC_V3</td>\n",
       "      <td>MiSeq</td>\n",
       "    </tr>\n",
       "  </tbody>\n",
       "</table>\n",
       "</div>"
      ],
      "text/plain": [
       "           genome_cov  AGE_YRS GEND    NAT COUNT_RES DT_SAM_COLL DT_SAM_RECEP  \\\n",
       "S_NUM                                                                           \n",
       "COVC03617        98.6     55.0    F  Kenya   Nairobi  2020-07-06          NaT   \n",
       "COVC03665        98.0     23.0    M  Kenya   Nairobi  2020-07-06          NaT   \n",
       "COVC03696        98.7     24.0    M  Kenya   Nairobi  2020-07-06          NaT   \n",
       "COVC03723        99.2     36.0    M  Kenya   Nairobi  2020-07-06          NaT   \n",
       "COVC03813        97.9     59.0    M  Kenya   Nairobi  2020-07-10          NaT   \n",
       "\n",
       "          clade  lineage  genome_coverage run_num      seq_dt lib_prep  \\\n",
       "S_NUM                                                                    \n",
       "COVC03617   20C      B.1             98.4    Run8  25-05-2021     Run8   \n",
       "COVC03665   20C      B.1             95.5    Run8  25-05-2021     Run8   \n",
       "COVC03696   20C  B.1.349             98.4    Run8  25-05-2021     Run8   \n",
       "COVC03723   20C      B.1             98.9    Run8  25-05-2021     Run8   \n",
       "COVC03813   20C      B.1             97.1    Run8  25-05-2021     Run8   \n",
       "\n",
       "          primer_set covv_seq_technology  \n",
       "S_NUM                                     \n",
       "COVC03617   ARTIC_V3               MiSeq  \n",
       "COVC03665   ARTIC_V3               MiSeq  \n",
       "COVC03696   ARTIC_V3               MiSeq  \n",
       "COVC03723   ARTIC_V3               MiSeq  \n",
       "COVC03813   ARTIC_V3               MiSeq  "
      ]
     },
     "execution_count": 25,
     "metadata": {},
     "output_type": "execute_result"
    }
   ],
   "source": [
    "df_seq_meta2.head()"
   ]
  },
  {
   "cell_type": "code",
   "execution_count": 26,
   "id": "4b2b7ebe-31b1-4f4c-b134-9c01cef1a54d",
   "metadata": {},
   "outputs": [],
   "source": [
    "df_seq_meta3 = df_seq_meta2.assign(covv_location = 'Africa / ' + df_seq_meta2['NAT'] + ' / ' + df_seq_meta2['COUNT_RES'])"
   ]
  },
  {
   "cell_type": "code",
   "execution_count": 27,
   "id": "141cdf47-498b-487e-8775-ca45504417a0",
   "metadata": {},
   "outputs": [
    {
     "data": {
      "text/plain": [
       "(731, 16)"
      ]
     },
     "execution_count": 27,
     "metadata": {},
     "output_type": "execute_result"
    }
   ],
   "source": [
    "df_seq_meta3.shape"
   ]
  },
  {
   "cell_type": "code",
   "execution_count": 28,
   "id": "62673a27-403d-45ee-89fa-b677ff6e8ad3",
   "metadata": {},
   "outputs": [],
   "source": [
    "df_subf = df_seq_meta3"
   ]
  },
  {
   "cell_type": "code",
   "execution_count": 29,
   "id": "fea31994-94f2-4797-ab76-4fd369ddba00",
   "metadata": {},
   "outputs": [],
   "source": [
    "submitter = 'Soyola'\n",
    "fn = 'gisaid_all.fasta'\n",
    "cvn = 'hCoV-19'\n",
    "vt = 'betacoronavirus'\n",
    "cp = 'Original'\n",
    "cal = 'unkown'\n",
    "ch = 'Human'\n",
    "cahi = 'unkown'\n",
    "css = 'Surveillance'\n",
    "cps = 'unkwon'\n",
    "cps = 'unkown'\n",
    "cs = 'NP Swab'\n",
    "co = 'unkown'\n",
    "clv = 'unkown'\n",
    "ct = 'unkown'\n",
    "# cst = 'Illumina'\n",
    "cam = 'Consensus'\n",
    "cc = 'unkown'\n",
    "col = 'International Livestock Research Institute'\n",
    "cola = 'Uthiru, Naivasha road, Nairobi-Kenya'\n",
    "# cpsi = 'ILRI'\n",
    "csl = 'International Livestock Research Institute'\n",
    "csla = 'Uthiru, Naivasha road, Nairobi-Kenya'\n",
    "cssi = df_subf.index.tolist()\n",
    "ca = 'Samuel O. Oyola, Gilbert Kibet, Daniel Ouso, Shebbar Osiany, Edward Kiritu, Paul Dobi, Collins Muli, Patrick Amoth, Vishvanath Nene, Sonal P. Henson, Edward O. Abworo.'\n",
    "ccomm = ''\n",
    "ct = ''"
   ]
  },
  {
   "cell_type": "code",
   "execution_count": 30,
   "id": "7c9ad181-a917-4949-a1ba-2936d46ae01e",
   "metadata": {},
   "outputs": [
    {
     "data": {
      "text/plain": [
       "(731, 40)"
      ]
     },
     "execution_count": 30,
     "metadata": {},
     "output_type": "execute_result"
    }
   ],
   "source": [
    "df_subf['submitter'] = submitter\n",
    "df_subf['fn'] = fn\n",
    "df_subf['covv_virus_name'] = cvn\n",
    "df_subf['covv_type'] = vt\n",
    "df_subf['covv_passage'] = cp\n",
    "df_subf['covv_add_location'] = cal\n",
    "df_subf['covv_host'] = ch\n",
    "df_subf['covv_add_host_info'] = cahi\n",
    "df_subf['covv_sampling_strategy'] = css\n",
    "df_subf['covv_patient_status'] = cps\n",
    "df_subf['covv_specimen'] = cs\n",
    "df_subf['covv_outbreak'] = co\n",
    "df_subf['covv_last_vaccinated'] = clv\n",
    "df_subf['covv_treatment'] = ct\n",
    "# df_subf['covv_seq_technology'] = cst\n",
    "df_subf['covv_assembly_method'] = cam\n",
    "df_subf['covv_coverage'] = cc\n",
    "df_subf['covv_orig_lab'] = col\n",
    "df_subf['covv_orig_lab_addr'] = cola\n",
    "# df_subf['covv_provider_sample_id'] = cpsi\n",
    "df_subf['covv_subm_lab'] = csl\n",
    "df_subf['covv_subm_lab_addr'] = csla\n",
    "df_subf['covv_subm_sample_id'] = cssi\n",
    "df_subf['covv_authors'] = ca\n",
    "df_subf['covv_comment'] = ccomm\n",
    "df_subf['comment_type'] = ct\n",
    "df_subf.shape"
   ]
  },
  {
   "cell_type": "code",
   "execution_count": 31,
   "id": "0f5d90f8-10af-462d-bb2e-19e39c18b5aa",
   "metadata": {},
   "outputs": [
    {
     "data": {
      "text/plain": [
       "Index(['genome_cov', 'AGE_YRS', 'GEND', 'NAT', 'COUNT_RES', 'DT_SAM_COLL',\n",
       "       'DT_SAM_RECEP', 'clade', 'lineage', 'genome_coverage', 'run_num',\n",
       "       'seq_dt', 'lib_prep', 'primer_set', 'covv_seq_technology',\n",
       "       'covv_location', 'submitter', 'fn', 'covv_virus_name', 'covv_type',\n",
       "       'covv_passage', 'covv_add_location', 'covv_host', 'covv_add_host_info',\n",
       "       'covv_sampling_strategy', 'covv_patient_status', 'covv_specimen',\n",
       "       'covv_outbreak', 'covv_last_vaccinated', 'covv_treatment',\n",
       "       'covv_assembly_method', 'covv_coverage', 'covv_orig_lab',\n",
       "       'covv_orig_lab_addr', 'covv_subm_lab', 'covv_subm_lab_addr',\n",
       "       'covv_subm_sample_id', 'covv_authors', 'covv_comment', 'comment_type'],\n",
       "      dtype='object')"
      ]
     },
     "execution_count": 31,
     "metadata": {},
     "output_type": "execute_result"
    }
   ],
   "source": [
    "df_subf.columns"
   ]
  },
  {
   "cell_type": "code",
   "execution_count": 32,
   "id": "3e677241-8fd5-45e0-8012-4035dbb79a2e",
   "metadata": {},
   "outputs": [],
   "source": [
    "df_subf1 = df_subf.drop(['NAT', 'COUNT_RES'], axis=1)"
   ]
  },
  {
   "cell_type": "code",
   "execution_count": 33,
   "id": "93a5538d-348d-4e29-80ed-b6b2664cf395",
   "metadata": {},
   "outputs": [],
   "source": [
    "df_filter80 = df_subf1[df_subf1['genome_cov'] >= 80.0]#.fillna('Unkown')"
   ]
  },
  {
   "cell_type": "code",
   "execution_count": 34,
   "id": "5f6f53c4-5835-4530-a320-25bd13fa3219",
   "metadata": {},
   "outputs": [
    {
     "data": {
      "text/plain": [
       "(731, 38)"
      ]
     },
     "execution_count": 34,
     "metadata": {},
     "output_type": "execute_result"
    }
   ],
   "source": [
    "df_filter80.shape"
   ]
  },
  {
   "cell_type": "code",
   "execution_count": 35,
   "id": "b13b998f-5d37-4108-9383-e55f1ca3b709",
   "metadata": {},
   "outputs": [
    {
     "data": {
      "text/plain": [
       "Index(['genome_cov', 'AGE_YRS', 'GEND', 'DT_SAM_COLL', 'DT_SAM_RECEP', 'clade',\n",
       "       'lineage', 'genome_coverage', 'run_num', 'seq_dt', 'lib_prep',\n",
       "       'primer_set', 'covv_seq_technology', 'covv_location', 'submitter', 'fn',\n",
       "       'covv_virus_name', 'covv_type', 'covv_passage', 'covv_add_location',\n",
       "       'covv_host', 'covv_add_host_info', 'covv_sampling_strategy',\n",
       "       'covv_patient_status', 'covv_specimen', 'covv_outbreak',\n",
       "       'covv_last_vaccinated', 'covv_treatment', 'covv_assembly_method',\n",
       "       'covv_coverage', 'covv_orig_lab', 'covv_orig_lab_addr', 'covv_subm_lab',\n",
       "       'covv_subm_lab_addr', 'covv_subm_sample_id', 'covv_authors',\n",
       "       'covv_comment', 'comment_type'],\n",
       "      dtype='object')"
      ]
     },
     "execution_count": 35,
     "metadata": {},
     "output_type": "execute_result"
    }
   ],
   "source": [
    "df_filter80.columns"
   ]
  },
  {
   "cell_type": "code",
   "execution_count": 36,
   "id": "9e19be56-6068-4d9e-b430-d0b3a03db344",
   "metadata": {},
   "outputs": [],
   "source": [
    "df_gisaid_sub = df_filter80.reset_index().rename(columns={'index': 'S_NUM'})[gisaid_header] #.drop('DT_SAM_COLL', axis=1)"
   ]
  },
  {
   "cell_type": "code",
   "execution_count": 37,
   "id": "3a531530-53f2-4b68-b3bc-67a9b633f5e2",
   "metadata": {},
   "outputs": [
    {
     "data": {
      "text/html": [
       "<div>\n",
       "<style scoped>\n",
       "    .dataframe tbody tr th:only-of-type {\n",
       "        vertical-align: middle;\n",
       "    }\n",
       "\n",
       "    .dataframe tbody tr th {\n",
       "        vertical-align: top;\n",
       "    }\n",
       "\n",
       "    .dataframe thead th {\n",
       "        text-align: right;\n",
       "    }\n",
       "</style>\n",
       "<table border=\"1\" class=\"dataframe\">\n",
       "  <thead>\n",
       "    <tr style=\"text-align: right;\">\n",
       "      <th></th>\n",
       "      <th>submitter</th>\n",
       "      <th>fn</th>\n",
       "      <th>covv_virus_name</th>\n",
       "      <th>covv_type</th>\n",
       "      <th>covv_passage</th>\n",
       "      <th>DT_SAM_COLL</th>\n",
       "      <th>DT_SAM_RECEP</th>\n",
       "      <th>covv_location</th>\n",
       "      <th>covv_add_location</th>\n",
       "      <th>covv_host</th>\n",
       "      <th>...</th>\n",
       "      <th>covv_coverage</th>\n",
       "      <th>covv_orig_lab</th>\n",
       "      <th>covv_orig_lab_addr</th>\n",
       "      <th>S_NUM</th>\n",
       "      <th>covv_subm_lab</th>\n",
       "      <th>covv_subm_lab_addr</th>\n",
       "      <th>covv_subm_sample_id</th>\n",
       "      <th>covv_authors</th>\n",
       "      <th>covv_comment</th>\n",
       "      <th>comment_type</th>\n",
       "    </tr>\n",
       "  </thead>\n",
       "  <tbody>\n",
       "    <tr>\n",
       "      <th>0</th>\n",
       "      <td>Soyola</td>\n",
       "      <td>gisaid_all.fasta</td>\n",
       "      <td>hCoV-19</td>\n",
       "      <td>betacoronavirus</td>\n",
       "      <td>Original</td>\n",
       "      <td>2020-07-06</td>\n",
       "      <td>NaT</td>\n",
       "      <td>Africa / Kenya / Nairobi</td>\n",
       "      <td>unkown</td>\n",
       "      <td>Human</td>\n",
       "      <td>...</td>\n",
       "      <td>unkown</td>\n",
       "      <td>International Livestock Research Institute</td>\n",
       "      <td>Uthiru, Naivasha road, Nairobi-Kenya</td>\n",
       "      <td>COVC03617</td>\n",
       "      <td>International Livestock Research Institute</td>\n",
       "      <td>Uthiru, Naivasha road, Nairobi-Kenya</td>\n",
       "      <td>COVC03617</td>\n",
       "      <td>Samuel O. Oyola, Gilbert Kibet, Daniel Ouso, S...</td>\n",
       "      <td></td>\n",
       "      <td></td>\n",
       "    </tr>\n",
       "    <tr>\n",
       "      <th>1</th>\n",
       "      <td>Soyola</td>\n",
       "      <td>gisaid_all.fasta</td>\n",
       "      <td>hCoV-19</td>\n",
       "      <td>betacoronavirus</td>\n",
       "      <td>Original</td>\n",
       "      <td>2020-07-06</td>\n",
       "      <td>NaT</td>\n",
       "      <td>Africa / Kenya / Nairobi</td>\n",
       "      <td>unkown</td>\n",
       "      <td>Human</td>\n",
       "      <td>...</td>\n",
       "      <td>unkown</td>\n",
       "      <td>International Livestock Research Institute</td>\n",
       "      <td>Uthiru, Naivasha road, Nairobi-Kenya</td>\n",
       "      <td>COVC03665</td>\n",
       "      <td>International Livestock Research Institute</td>\n",
       "      <td>Uthiru, Naivasha road, Nairobi-Kenya</td>\n",
       "      <td>COVC03665</td>\n",
       "      <td>Samuel O. Oyola, Gilbert Kibet, Daniel Ouso, S...</td>\n",
       "      <td></td>\n",
       "      <td></td>\n",
       "    </tr>\n",
       "    <tr>\n",
       "      <th>2</th>\n",
       "      <td>Soyola</td>\n",
       "      <td>gisaid_all.fasta</td>\n",
       "      <td>hCoV-19</td>\n",
       "      <td>betacoronavirus</td>\n",
       "      <td>Original</td>\n",
       "      <td>2020-07-06</td>\n",
       "      <td>NaT</td>\n",
       "      <td>Africa / Kenya / Nairobi</td>\n",
       "      <td>unkown</td>\n",
       "      <td>Human</td>\n",
       "      <td>...</td>\n",
       "      <td>unkown</td>\n",
       "      <td>International Livestock Research Institute</td>\n",
       "      <td>Uthiru, Naivasha road, Nairobi-Kenya</td>\n",
       "      <td>COVC03696</td>\n",
       "      <td>International Livestock Research Institute</td>\n",
       "      <td>Uthiru, Naivasha road, Nairobi-Kenya</td>\n",
       "      <td>COVC03696</td>\n",
       "      <td>Samuel O. Oyola, Gilbert Kibet, Daniel Ouso, S...</td>\n",
       "      <td></td>\n",
       "      <td></td>\n",
       "    </tr>\n",
       "    <tr>\n",
       "      <th>3</th>\n",
       "      <td>Soyola</td>\n",
       "      <td>gisaid_all.fasta</td>\n",
       "      <td>hCoV-19</td>\n",
       "      <td>betacoronavirus</td>\n",
       "      <td>Original</td>\n",
       "      <td>2020-07-06</td>\n",
       "      <td>NaT</td>\n",
       "      <td>Africa / Kenya / Nairobi</td>\n",
       "      <td>unkown</td>\n",
       "      <td>Human</td>\n",
       "      <td>...</td>\n",
       "      <td>unkown</td>\n",
       "      <td>International Livestock Research Institute</td>\n",
       "      <td>Uthiru, Naivasha road, Nairobi-Kenya</td>\n",
       "      <td>COVC03723</td>\n",
       "      <td>International Livestock Research Institute</td>\n",
       "      <td>Uthiru, Naivasha road, Nairobi-Kenya</td>\n",
       "      <td>COVC03723</td>\n",
       "      <td>Samuel O. Oyola, Gilbert Kibet, Daniel Ouso, S...</td>\n",
       "      <td></td>\n",
       "      <td></td>\n",
       "    </tr>\n",
       "    <tr>\n",
       "      <th>4</th>\n",
       "      <td>Soyola</td>\n",
       "      <td>gisaid_all.fasta</td>\n",
       "      <td>hCoV-19</td>\n",
       "      <td>betacoronavirus</td>\n",
       "      <td>Original</td>\n",
       "      <td>2020-07-10</td>\n",
       "      <td>NaT</td>\n",
       "      <td>Africa / Kenya / Nairobi</td>\n",
       "      <td>unkown</td>\n",
       "      <td>Human</td>\n",
       "      <td>...</td>\n",
       "      <td>unkown</td>\n",
       "      <td>International Livestock Research Institute</td>\n",
       "      <td>Uthiru, Naivasha road, Nairobi-Kenya</td>\n",
       "      <td>COVC03813</td>\n",
       "      <td>International Livestock Research Institute</td>\n",
       "      <td>Uthiru, Naivasha road, Nairobi-Kenya</td>\n",
       "      <td>COVC03813</td>\n",
       "      <td>Samuel O. Oyola, Gilbert Kibet, Daniel Ouso, S...</td>\n",
       "      <td></td>\n",
       "      <td></td>\n",
       "    </tr>\n",
       "  </tbody>\n",
       "</table>\n",
       "<p>5 rows × 31 columns</p>\n",
       "</div>"
      ],
      "text/plain": [
       "  submitter                fn covv_virus_name        covv_type covv_passage  \\\n",
       "0    Soyola  gisaid_all.fasta         hCoV-19  betacoronavirus     Original   \n",
       "1    Soyola  gisaid_all.fasta         hCoV-19  betacoronavirus     Original   \n",
       "2    Soyola  gisaid_all.fasta         hCoV-19  betacoronavirus     Original   \n",
       "3    Soyola  gisaid_all.fasta         hCoV-19  betacoronavirus     Original   \n",
       "4    Soyola  gisaid_all.fasta         hCoV-19  betacoronavirus     Original   \n",
       "\n",
       "  DT_SAM_COLL DT_SAM_RECEP             covv_location covv_add_location  \\\n",
       "0  2020-07-06          NaT  Africa / Kenya / Nairobi            unkown   \n",
       "1  2020-07-06          NaT  Africa / Kenya / Nairobi            unkown   \n",
       "2  2020-07-06          NaT  Africa / Kenya / Nairobi            unkown   \n",
       "3  2020-07-06          NaT  Africa / Kenya / Nairobi            unkown   \n",
       "4  2020-07-10          NaT  Africa / Kenya / Nairobi            unkown   \n",
       "\n",
       "  covv_host  ... covv_coverage                               covv_orig_lab  \\\n",
       "0     Human  ...        unkown  International Livestock Research Institute   \n",
       "1     Human  ...        unkown  International Livestock Research Institute   \n",
       "2     Human  ...        unkown  International Livestock Research Institute   \n",
       "3     Human  ...        unkown  International Livestock Research Institute   \n",
       "4     Human  ...        unkown  International Livestock Research Institute   \n",
       "\n",
       "                     covv_orig_lab_addr      S_NUM  \\\n",
       "0  Uthiru, Naivasha road, Nairobi-Kenya  COVC03617   \n",
       "1  Uthiru, Naivasha road, Nairobi-Kenya  COVC03665   \n",
       "2  Uthiru, Naivasha road, Nairobi-Kenya  COVC03696   \n",
       "3  Uthiru, Naivasha road, Nairobi-Kenya  COVC03723   \n",
       "4  Uthiru, Naivasha road, Nairobi-Kenya  COVC03813   \n",
       "\n",
       "                                covv_subm_lab  \\\n",
       "0  International Livestock Research Institute   \n",
       "1  International Livestock Research Institute   \n",
       "2  International Livestock Research Institute   \n",
       "3  International Livestock Research Institute   \n",
       "4  International Livestock Research Institute   \n",
       "\n",
       "                     covv_subm_lab_addr covv_subm_sample_id  \\\n",
       "0  Uthiru, Naivasha road, Nairobi-Kenya           COVC03617   \n",
       "1  Uthiru, Naivasha road, Nairobi-Kenya           COVC03665   \n",
       "2  Uthiru, Naivasha road, Nairobi-Kenya           COVC03696   \n",
       "3  Uthiru, Naivasha road, Nairobi-Kenya           COVC03723   \n",
       "4  Uthiru, Naivasha road, Nairobi-Kenya           COVC03813   \n",
       "\n",
       "                                        covv_authors covv_comment comment_type  \n",
       "0  Samuel O. Oyola, Gilbert Kibet, Daniel Ouso, S...                            \n",
       "1  Samuel O. Oyola, Gilbert Kibet, Daniel Ouso, S...                            \n",
       "2  Samuel O. Oyola, Gilbert Kibet, Daniel Ouso, S...                            \n",
       "3  Samuel O. Oyola, Gilbert Kibet, Daniel Ouso, S...                            \n",
       "4  Samuel O. Oyola, Gilbert Kibet, Daniel Ouso, S...                            \n",
       "\n",
       "[5 rows x 31 columns]"
      ]
     },
     "execution_count": 37,
     "metadata": {},
     "output_type": "execute_result"
    }
   ],
   "source": [
    "df_gisaid_sub.head()"
   ]
  },
  {
   "cell_type": "code",
   "execution_count": 39,
   "id": "6d25c529-8b1f-4c9b-82a0-d30bb74806d1",
   "metadata": {},
   "outputs": [],
   "source": [
    "# df_gisaid_sub_srt = df_gisaid_sub.assign(DT_SAM_COLL=df_gisaid_sub.sort_values('DT_SAM_COLL')['DT_SAM_COLL'].map(lambda x: x.strftime('%Y-%m-%d')))"
   ]
  },
  {
   "cell_type": "code",
   "execution_count": 38,
   "id": "eb3f0719-e0d6-42a7-868e-57a900d0e5ae",
   "metadata": {},
   "outputs": [
    {
     "data": {
      "text/plain": [
       "Index(['submitter', 'fn', 'covv_virus_name', 'covv_type', 'covv_passage',\n",
       "       'DT_SAM_COLL', 'DT_SAM_RECEP', 'covv_location', 'covv_add_location',\n",
       "       'covv_host', 'covv_add_host_info', 'covv_sampling_strategy', 'GEND',\n",
       "       'AGE_YRS', 'covv_patient_status', 'covv_specimen', 'covv_outbreak',\n",
       "       'covv_last_vaccinated', 'covv_treatment', 'covv_seq_technology',\n",
       "       'covv_assembly_method', 'covv_coverage', 'covv_orig_lab',\n",
       "       'covv_orig_lab_addr', 'S_NUM', 'covv_subm_lab', 'covv_subm_lab_addr',\n",
       "       'covv_subm_sample_id', 'covv_authors', 'covv_comment', 'comment_type'],\n",
       "      dtype='object')"
      ]
     },
     "execution_count": 38,
     "metadata": {},
     "output_type": "execute_result"
    }
   ],
   "source": [
    "df_gisaid_sub.columns"
   ]
  },
  {
   "cell_type": "markdown",
   "id": "b1d54144-c9d3-483d-ae22-544a15290e13",
   "metadata": {},
   "source": [
    "### **Confirm the following input file is update**"
   ]
  },
  {
   "cell_type": "raw",
   "id": "67372372-70bb-4b91-a476-c0e25ae44b26",
   "metadata": {},
   "source": [
    "df_brief_ids = pd.read_excel('/home/douso/Documents/TrendData/Results/ResultsMerged/all-brief-samples-IDs_07-09-2021.xlsx')[['SAMPLE']]"
   ]
  },
  {
   "cell_type": "raw",
   "id": "72371c52-8f50-49a5-b8dc-97af258cdd25",
   "metadata": {},
   "source": [
    "brief_id_list = list(df_brief_ids[df_brief_ids['SAMPLE'].str.contains('KEM') == False]['SAMPLE'])"
   ]
  },
  {
   "cell_type": "code",
   "execution_count": 39,
   "id": "20349c92-fe05-4cce-836f-ee41cdbf5fb3",
   "metadata": {},
   "outputs": [],
   "source": [
    "#DT_SAM_RECEP\n",
    "gisaid_cols = ['submitter', 'fn', 'covv_virus_name', 'covv_type', 'covv_passage',\n",
    "       'covv_collection_date', 'DT_SAM_RECEP','covv_location', 'covv_add_location',\n",
    "       'covv_host', 'covv_add_host_info', 'covv_sampling_strategy',\n",
    "       'covv_gender', 'covv_patient_age', 'covv_patient_status',\n",
    "       'covv_specimen', 'covv_outbreak', 'covv_last_vaccinated',\n",
    "       'covv_treatment', 'covv_seq_technology', 'covv_assembly_method',\n",
    "       'covv_coverage', 'covv_orig_lab', 'covv_orig_lab_addr',\n",
    "       'covv_provider_sample_id', 'covv_subm_lab', 'covv_subm_lab_addr',\n",
    "       'covv_subm_sample_id', 'covv_authors', 'covv_comment', 'comment_type']\n"
   ]
  },
  {
   "cell_type": "code",
   "execution_count": 40,
   "id": "792de874-8fdd-4291-ac0b-455e34d3e516",
   "metadata": {},
   "outputs": [],
   "source": [
    "df_gisaid_sub.columns = gisaid_cols"
   ]
  },
  {
   "cell_type": "code",
   "execution_count": 41,
   "id": "c545bfb5-7f44-4350-b321-2aff798e2a19",
   "metadata": {},
   "outputs": [],
   "source": [
    "df_dt = df_gisaid_sub[df_gisaid_sub['covv_collection_date'].isna() == False]\n",
    "df_missing_dt = df_gisaid_sub[df_gisaid_sub['covv_collection_date'].isna() == True]"
   ]
  },
  {
   "cell_type": "code",
   "execution_count": 42,
   "id": "cf4bb6fa-3b08-4e5f-90db-06a153f45dce",
   "metadata": {},
   "outputs": [],
   "source": [
    "df_missing_dt_corr = df_missing_dt.assign(covv_collection_date=df_missing_dt['DT_SAM_RECEP'].apply(lambda x: pd.Timestamp(x).strftime('%Y-%m') if (isinstance(x, pd.Timestamp)) else x.replace(x, pd.NaT)))"
   ]
  },
  {
   "cell_type": "code",
   "execution_count": 43,
   "id": "7b5a9fc6-82b3-4b1b-b9d2-19935cb3e9ab",
   "metadata": {},
   "outputs": [],
   "source": [
    "df_gisaid_fin = df_dt.append(df_missing_dt_corr)"
   ]
  },
  {
   "cell_type": "code",
   "execution_count": 44,
   "id": "5542e8bc-239c-4007-8208-cfb461be3ab4",
   "metadata": {},
   "outputs": [
    {
     "data": {
      "text/plain": [
       "(731, 31)"
      ]
     },
     "execution_count": 44,
     "metadata": {},
     "output_type": "execute_result"
    }
   ],
   "source": [
    "df_gisaid_fin.shape"
   ]
  },
  {
   "cell_type": "raw",
   "id": "dcd99b87-ca58-486f-a11e-334956097bdc",
   "metadata": {},
   "source": [
    "def my_date_parser(x):\n",
    "    try:\n",
    "        if type(x) == pd.Timestamp:\n",
    "            x = x#.strftime('%d-%m-%Y')\n",
    "        if type(x) != pd.Timestamp and type(x) != (int, float, pd.NaT):\n",
    "            x = pd.to_datetime(x, errors='ignore', dayfirst=True)#.strftime('%d-%m-%Y')\n",
    "        if x in ['None indicated', 'NIL', 'Not indicated on form ',\n",
    "                    'Nil', 'None indicated', 'Leaked Sample - Empty', 'nan']:\n",
    "            x = pd.NaT\n",
    "    except (ValueError, AttributeError):\n",
    "        x = pd.NaT\n",
    "    return x"
   ]
  },
  {
   "cell_type": "raw",
   "id": "76627775-556b-425a-a712-4f59c12e0c66",
   "metadata": {},
   "source": [
    "df_gisaid_fin = df_gisaid_fin.assign(covv_collection_date=df_gisaid_fin['covv_collection_date'].apply(lambda x: my_date_parser(x)))"
   ]
  },
  {
   "cell_type": "code",
   "execution_count": 75,
   "id": "787cb0c6-38a1-446c-b847-58fc2c6a8287",
   "metadata": {},
   "outputs": [],
   "source": [
    "df_gisaid_fin.fillna('unkown').to_excel(f'/home/douso/Documents/TrendData/Results/ResultsMerged/gisaid_data_{dt}.xlsx', index=False)"
   ]
  },
  {
   "cell_type": "code",
   "execution_count": 90,
   "id": "ed2c33a2-bca0-4589-80f7-e622f349500e",
   "metadata": {},
   "outputs": [
    {
     "data": {
      "text/plain": [
       "MiSeq                    400\n",
       "NextSeq                  263\n",
       "Minion                    68\n",
       "Sequencing technology      1\n",
       "Name: covv_seq_technology, dtype: int64"
      ]
     },
     "execution_count": 90,
     "metadata": {},
     "output_type": "execute_result"
    }
   ],
   "source": [
    "final = pd.read_excel('/home/douso/SarsGenomics/Gisaid/20210914_ILRI_gisaid_submission_metadata.xls', sheet_name='Submissions')\n",
    "# final.columns\n",
    "final['covv_seq_technology'].value_counts()"
   ]
  },
  {
   "cell_type": "code",
   "execution_count": 91,
   "id": "4c5f6d23-9128-4795-b591-09c8fff87657",
   "metadata": {},
   "outputs": [
    {
     "ename": "AttributeError",
     "evalue": "'str' object has no attribute 'strftime'",
     "output_type": "error",
     "traceback": [
      "\u001b[0;31m---------------------------------------------------------------------------\u001b[0m",
      "\u001b[0;31mAttributeError\u001b[0m                            Traceback (most recent call last)",
      "\u001b[0;32m<ipython-input-91-e8ee7ed6751a>\u001b[0m in \u001b[0;36m<module>\u001b[0;34m\u001b[0m\n\u001b[0;32m----> 1\u001b[0;31m \u001b[0mfinal\u001b[0m\u001b[0;34m[\u001b[0m\u001b[0;34m'covv_collection_date'\u001b[0m\u001b[0;34m]\u001b[0m\u001b[0;34m.\u001b[0m\u001b[0mapply\u001b[0m\u001b[0;34m(\u001b[0m\u001b[0;32mlambda\u001b[0m \u001b[0mx\u001b[0m\u001b[0;34m:\u001b[0m \u001b[0mx\u001b[0m\u001b[0;34m.\u001b[0m\u001b[0mstrftime\u001b[0m\u001b[0;34m(\u001b[0m\u001b[0;34m'%Y-%m-%d'\u001b[0m\u001b[0;34m)\u001b[0m\u001b[0;34m)\u001b[0m\u001b[0;34m\u001b[0m\u001b[0;34m\u001b[0m\u001b[0m\n\u001b[0m",
      "\u001b[0;32m~/.local/lib/python3.8/site-packages/pandas/core/series.py\u001b[0m in \u001b[0;36mapply\u001b[0;34m(self, func, convert_dtype, args, **kwds)\u001b[0m\n\u001b[1;32m   4136\u001b[0m             \u001b[0;32melse\u001b[0m\u001b[0;34m:\u001b[0m\u001b[0;34m\u001b[0m\u001b[0;34m\u001b[0m\u001b[0m\n\u001b[1;32m   4137\u001b[0m                 \u001b[0mvalues\u001b[0m \u001b[0;34m=\u001b[0m \u001b[0mself\u001b[0m\u001b[0;34m.\u001b[0m\u001b[0mastype\u001b[0m\u001b[0;34m(\u001b[0m\u001b[0mobject\u001b[0m\u001b[0;34m)\u001b[0m\u001b[0;34m.\u001b[0m\u001b[0m_values\u001b[0m\u001b[0;34m\u001b[0m\u001b[0;34m\u001b[0m\u001b[0m\n\u001b[0;32m-> 4138\u001b[0;31m                 \u001b[0mmapped\u001b[0m \u001b[0;34m=\u001b[0m \u001b[0mlib\u001b[0m\u001b[0;34m.\u001b[0m\u001b[0mmap_infer\u001b[0m\u001b[0;34m(\u001b[0m\u001b[0mvalues\u001b[0m\u001b[0;34m,\u001b[0m \u001b[0mf\u001b[0m\u001b[0;34m,\u001b[0m \u001b[0mconvert\u001b[0m\u001b[0;34m=\u001b[0m\u001b[0mconvert_dtype\u001b[0m\u001b[0;34m)\u001b[0m\u001b[0;34m\u001b[0m\u001b[0;34m\u001b[0m\u001b[0m\n\u001b[0m\u001b[1;32m   4139\u001b[0m \u001b[0;34m\u001b[0m\u001b[0m\n\u001b[1;32m   4140\u001b[0m         \u001b[0;32mif\u001b[0m \u001b[0mlen\u001b[0m\u001b[0;34m(\u001b[0m\u001b[0mmapped\u001b[0m\u001b[0;34m)\u001b[0m \u001b[0;32mand\u001b[0m \u001b[0misinstance\u001b[0m\u001b[0;34m(\u001b[0m\u001b[0mmapped\u001b[0m\u001b[0;34m[\u001b[0m\u001b[0;36m0\u001b[0m\u001b[0;34m]\u001b[0m\u001b[0;34m,\u001b[0m \u001b[0mSeries\u001b[0m\u001b[0;34m)\u001b[0m\u001b[0;34m:\u001b[0m\u001b[0;34m\u001b[0m\u001b[0;34m\u001b[0m\u001b[0m\n",
      "\u001b[0;32mpandas/_libs/lib.pyx\u001b[0m in \u001b[0;36mpandas._libs.lib.map_infer\u001b[0;34m()\u001b[0m\n",
      "\u001b[0;32m<ipython-input-91-e8ee7ed6751a>\u001b[0m in \u001b[0;36m<lambda>\u001b[0;34m(x)\u001b[0m\n\u001b[0;32m----> 1\u001b[0;31m \u001b[0mfinal\u001b[0m\u001b[0;34m[\u001b[0m\u001b[0;34m'covv_collection_date'\u001b[0m\u001b[0;34m]\u001b[0m\u001b[0;34m.\u001b[0m\u001b[0mapply\u001b[0m\u001b[0;34m(\u001b[0m\u001b[0;32mlambda\u001b[0m \u001b[0mx\u001b[0m\u001b[0;34m:\u001b[0m \u001b[0mx\u001b[0m\u001b[0;34m.\u001b[0m\u001b[0mstrftime\u001b[0m\u001b[0;34m(\u001b[0m\u001b[0;34m'%Y-%m-%d'\u001b[0m\u001b[0;34m)\u001b[0m\u001b[0;34m)\u001b[0m\u001b[0;34m\u001b[0m\u001b[0;34m\u001b[0m\u001b[0m\n\u001b[0m",
      "\u001b[0;31mAttributeError\u001b[0m: 'str' object has no attribute 'strftime'"
     ]
    }
   ],
   "source": [
    "# final['covv_collection_date'].apply(lambda x: x.strftime('%Y-%m-%d'))"
   ]
  },
  {
   "cell_type": "code",
   "execution_count": 89,
   "id": "9c8e30ab-2d05-4277-9d5f-f3ee6361761c",
   "metadata": {},
   "outputs": [
    {
     "name": "stdout",
     "output_type": "stream",
     "text": [
      "<class 'pandas.core.frame.DataFrame'>\n",
      "RangeIndex: 732 entries, 0 to 731\n",
      "Data columns (total 30 columns):\n",
      " #   Column                   Non-Null Count  Dtype \n",
      "---  ------                   --------------  ----- \n",
      " 0   submitter                732 non-null    object\n",
      " 1   fn                       732 non-null    object\n",
      " 2   covv_virus_name          732 non-null    object\n",
      " 3   covv_type                732 non-null    object\n",
      " 4   covv_passage             732 non-null    object\n",
      " 5   covv_collection_date     732 non-null    object\n",
      " 6   covv_location            732 non-null    object\n",
      " 7   covv_add_location        732 non-null    object\n",
      " 8   covv_host                732 non-null    object\n",
      " 9   covv_add_host_info       732 non-null    object\n",
      " 10  covv_sampling_strategy   732 non-null    object\n",
      " 11  covv_gender              732 non-null    object\n",
      " 12  covv_patient_age         732 non-null    object\n",
      " 13  covv_patient_status      732 non-null    object\n",
      " 14  covv_specimen            732 non-null    object\n",
      " 15  covv_outbreak            732 non-null    object\n",
      " 16  covv_last_vaccinated     732 non-null    object\n",
      " 17  covv_treatment           1 non-null      object\n",
      " 18  covv_seq_technology      732 non-null    object\n",
      " 19  covv_assembly_method     732 non-null    object\n",
      " 20  covv_coverage            732 non-null    object\n",
      " 21  covv_orig_lab            732 non-null    object\n",
      " 22  covv_orig_lab_addr       732 non-null    object\n",
      " 23  covv_provider_sample_id  732 non-null    object\n",
      " 24  covv_subm_lab            732 non-null    object\n",
      " 25  covv_subm_lab_addr       732 non-null    object\n",
      " 26  covv_subm_sample_id      732 non-null    object\n",
      " 27  covv_authors             732 non-null    object\n",
      " 28  covv_comment             1 non-null      object\n",
      " 29  comment_type             1 non-null      object\n",
      "dtypes: object(30)\n",
      "memory usage: 171.7+ KB\n"
     ]
    }
   ],
   "source": [
    "final.info()"
   ]
  },
  {
   "cell_type": "code",
   "execution_count": 64,
   "id": "d8daddc2-1883-4f3f-ac7c-701a43a131a1",
   "metadata": {},
   "outputs": [
    {
     "data": {
      "text/html": [
       "<div>\n",
       "<style scoped>\n",
       "    .dataframe tbody tr th:only-of-type {\n",
       "        vertical-align: middle;\n",
       "    }\n",
       "\n",
       "    .dataframe tbody tr th {\n",
       "        vertical-align: top;\n",
       "    }\n",
       "\n",
       "    .dataframe thead th {\n",
       "        text-align: right;\n",
       "    }\n",
       "</style>\n",
       "<table border=\"1\" class=\"dataframe\">\n",
       "  <thead>\n",
       "    <tr style=\"text-align: right;\">\n",
       "      <th></th>\n",
       "      <th>sample_id</th>\n",
       "    </tr>\n",
       "  </thead>\n",
       "  <tbody>\n",
       "    <tr>\n",
       "      <th>0</th>\n",
       "      <td>COVC03617</td>\n",
       "    </tr>\n",
       "    <tr>\n",
       "      <th>1</th>\n",
       "      <td>COVC03665</td>\n",
       "    </tr>\n",
       "    <tr>\n",
       "      <th>2</th>\n",
       "      <td>COVC03696</td>\n",
       "    </tr>\n",
       "    <tr>\n",
       "      <th>3</th>\n",
       "      <td>COVC03723</td>\n",
       "    </tr>\n",
       "    <tr>\n",
       "      <th>4</th>\n",
       "      <td>COVC03813</td>\n",
       "    </tr>\n",
       "  </tbody>\n",
       "</table>\n",
       "</div>"
      ],
      "text/plain": [
       "   sample_id\n",
       "0  COVC03617\n",
       "1  COVC03665\n",
       "2  COVC03696\n",
       "3  COVC03723\n",
       "4  COVC03813"
      ]
     },
     "execution_count": 64,
     "metadata": {},
     "output_type": "execute_result"
    }
   ],
   "source": [
    "ill = pd.read_csv('/home/douso/Gisaid/over80_id_ill_nodup.csv', names=['sample_id'])\n",
    "ill.head()"
   ]
  },
  {
   "cell_type": "code",
   "execution_count": 65,
   "id": "024bc5d3-288a-4cce-a66a-25f0e7ee21c9",
   "metadata": {
    "tags": []
   },
   "outputs": [
    {
     "data": {
      "text/plain": [
       "(650, 1)"
      ]
     },
     "execution_count": 65,
     "metadata": {},
     "output_type": "execute_result"
    }
   ],
   "source": [
    "ill.shape"
   ]
  },
  {
   "cell_type": "code",
   "execution_count": 66,
   "id": "d96a56ea-75b3-493b-ab53-ac34511c89f9",
   "metadata": {},
   "outputs": [
    {
     "data": {
      "text/html": [
       "<div>\n",
       "<style scoped>\n",
       "    .dataframe tbody tr th:only-of-type {\n",
       "        vertical-align: middle;\n",
       "    }\n",
       "\n",
       "    .dataframe tbody tr th {\n",
       "        vertical-align: top;\n",
       "    }\n",
       "\n",
       "    .dataframe thead th {\n",
       "        text-align: right;\n",
       "    }\n",
       "</style>\n",
       "<table border=\"1\" class=\"dataframe\">\n",
       "  <thead>\n",
       "    <tr style=\"text-align: right;\">\n",
       "      <th></th>\n",
       "      <th>submitter</th>\n",
       "      <th>fn</th>\n",
       "      <th>covv_virus_name</th>\n",
       "      <th>covv_type</th>\n",
       "      <th>covv_passage</th>\n",
       "      <th>covv_collection_date</th>\n",
       "      <th>DT_SAM_RECEP</th>\n",
       "      <th>covv_location</th>\n",
       "      <th>covv_add_location</th>\n",
       "      <th>covv_host</th>\n",
       "      <th>...</th>\n",
       "      <th>covv_orig_lab</th>\n",
       "      <th>covv_orig_lab_addr</th>\n",
       "      <th>covv_provider_sample_id</th>\n",
       "      <th>covv_subm_lab</th>\n",
       "      <th>covv_subm_lab_addr</th>\n",
       "      <th>covv_subm_sample_id</th>\n",
       "      <th>covv_authors</th>\n",
       "      <th>covv_comment</th>\n",
       "      <th>comment_type</th>\n",
       "      <th>sample_id</th>\n",
       "    </tr>\n",
       "  </thead>\n",
       "  <tbody>\n",
       "    <tr>\n",
       "      <th>0</th>\n",
       "      <td>Soyola</td>\n",
       "      <td>gisaid_all.fasta</td>\n",
       "      <td>hCoV-19</td>\n",
       "      <td>betacoronavirus</td>\n",
       "      <td>Original</td>\n",
       "      <td>2020-07-06 00:00:00</td>\n",
       "      <td>NaT</td>\n",
       "      <td>Africa/Kenya/Nairobi</td>\n",
       "      <td>Unkown</td>\n",
       "      <td>Human</td>\n",
       "      <td>...</td>\n",
       "      <td>International Livestock Research Institute</td>\n",
       "      <td>Uthiru, Naivasha road, Nairobi-Kenya</td>\n",
       "      <td>COVC03617</td>\n",
       "      <td>International Livestock Research Institute</td>\n",
       "      <td>Uthiru, Naivasha road, Nairobi-Kenya</td>\n",
       "      <td>COVC03617</td>\n",
       "      <td>Samuel O. Oyola, Gilbert Kibet, Daniel Ouso, S...</td>\n",
       "      <td></td>\n",
       "      <td></td>\n",
       "      <td>COVC03617</td>\n",
       "    </tr>\n",
       "    <tr>\n",
       "      <th>1</th>\n",
       "      <td>Soyola</td>\n",
       "      <td>gisaid_all.fasta</td>\n",
       "      <td>hCoV-19</td>\n",
       "      <td>betacoronavirus</td>\n",
       "      <td>Original</td>\n",
       "      <td>2020-07-06 00:00:00</td>\n",
       "      <td>NaT</td>\n",
       "      <td>Africa/Kenya/Nairobi</td>\n",
       "      <td>Unkown</td>\n",
       "      <td>Human</td>\n",
       "      <td>...</td>\n",
       "      <td>International Livestock Research Institute</td>\n",
       "      <td>Uthiru, Naivasha road, Nairobi-Kenya</td>\n",
       "      <td>COVC03665</td>\n",
       "      <td>International Livestock Research Institute</td>\n",
       "      <td>Uthiru, Naivasha road, Nairobi-Kenya</td>\n",
       "      <td>COVC03665</td>\n",
       "      <td>Samuel O. Oyola, Gilbert Kibet, Daniel Ouso, S...</td>\n",
       "      <td></td>\n",
       "      <td></td>\n",
       "      <td>COVC03665</td>\n",
       "    </tr>\n",
       "    <tr>\n",
       "      <th>2</th>\n",
       "      <td>Soyola</td>\n",
       "      <td>gisaid_all.fasta</td>\n",
       "      <td>hCoV-19</td>\n",
       "      <td>betacoronavirus</td>\n",
       "      <td>Original</td>\n",
       "      <td>2020-07-06 00:00:00</td>\n",
       "      <td>NaT</td>\n",
       "      <td>Africa/Kenya/Nairobi</td>\n",
       "      <td>Unkown</td>\n",
       "      <td>Human</td>\n",
       "      <td>...</td>\n",
       "      <td>International Livestock Research Institute</td>\n",
       "      <td>Uthiru, Naivasha road, Nairobi-Kenya</td>\n",
       "      <td>COVC03696</td>\n",
       "      <td>International Livestock Research Institute</td>\n",
       "      <td>Uthiru, Naivasha road, Nairobi-Kenya</td>\n",
       "      <td>COVC03696</td>\n",
       "      <td>Samuel O. Oyola, Gilbert Kibet, Daniel Ouso, S...</td>\n",
       "      <td></td>\n",
       "      <td></td>\n",
       "      <td>COVC03696</td>\n",
       "    </tr>\n",
       "    <tr>\n",
       "      <th>3</th>\n",
       "      <td>Soyola</td>\n",
       "      <td>gisaid_all.fasta</td>\n",
       "      <td>hCoV-19</td>\n",
       "      <td>betacoronavirus</td>\n",
       "      <td>Original</td>\n",
       "      <td>2020-07-06 00:00:00</td>\n",
       "      <td>NaT</td>\n",
       "      <td>Africa/Kenya/Nairobi</td>\n",
       "      <td>Unkown</td>\n",
       "      <td>Human</td>\n",
       "      <td>...</td>\n",
       "      <td>International Livestock Research Institute</td>\n",
       "      <td>Uthiru, Naivasha road, Nairobi-Kenya</td>\n",
       "      <td>COVC03723</td>\n",
       "      <td>International Livestock Research Institute</td>\n",
       "      <td>Uthiru, Naivasha road, Nairobi-Kenya</td>\n",
       "      <td>COVC03723</td>\n",
       "      <td>Samuel O. Oyola, Gilbert Kibet, Daniel Ouso, S...</td>\n",
       "      <td></td>\n",
       "      <td></td>\n",
       "      <td>COVC03723</td>\n",
       "    </tr>\n",
       "    <tr>\n",
       "      <th>4</th>\n",
       "      <td>Soyola</td>\n",
       "      <td>gisaid_all.fasta</td>\n",
       "      <td>hCoV-19</td>\n",
       "      <td>betacoronavirus</td>\n",
       "      <td>Original</td>\n",
       "      <td>2020-07-10 00:00:00</td>\n",
       "      <td>NaT</td>\n",
       "      <td>Africa/Kenya/Nairobi</td>\n",
       "      <td>Unkown</td>\n",
       "      <td>Human</td>\n",
       "      <td>...</td>\n",
       "      <td>International Livestock Research Institute</td>\n",
       "      <td>Uthiru, Naivasha road, Nairobi-Kenya</td>\n",
       "      <td>COVC03813</td>\n",
       "      <td>International Livestock Research Institute</td>\n",
       "      <td>Uthiru, Naivasha road, Nairobi-Kenya</td>\n",
       "      <td>COVC03813</td>\n",
       "      <td>Samuel O. Oyola, Gilbert Kibet, Daniel Ouso, S...</td>\n",
       "      <td></td>\n",
       "      <td></td>\n",
       "      <td>COVC03813</td>\n",
       "    </tr>\n",
       "    <tr>\n",
       "      <th>...</th>\n",
       "      <td>...</td>\n",
       "      <td>...</td>\n",
       "      <td>...</td>\n",
       "      <td>...</td>\n",
       "      <td>...</td>\n",
       "      <td>...</td>\n",
       "      <td>...</td>\n",
       "      <td>...</td>\n",
       "      <td>...</td>\n",
       "      <td>...</td>\n",
       "      <td>...</td>\n",
       "      <td>...</td>\n",
       "      <td>...</td>\n",
       "      <td>...</td>\n",
       "      <td>...</td>\n",
       "      <td>...</td>\n",
       "      <td>...</td>\n",
       "      <td>...</td>\n",
       "      <td>...</td>\n",
       "      <td>...</td>\n",
       "      <td>...</td>\n",
       "    </tr>\n",
       "    <tr>\n",
       "      <th>645</th>\n",
       "      <td>Soyola</td>\n",
       "      <td>gisaid_all.fasta</td>\n",
       "      <td>hCoV-19</td>\n",
       "      <td>betacoronavirus</td>\n",
       "      <td>Original</td>\n",
       "      <td>2021-04</td>\n",
       "      <td>2021-04-07</td>\n",
       "      <td>NaN</td>\n",
       "      <td>Unkown</td>\n",
       "      <td>Human</td>\n",
       "      <td>...</td>\n",
       "      <td>International Livestock Research Institute</td>\n",
       "      <td>Uthiru, Naivasha road, Nairobi-Kenya</td>\n",
       "      <td>NPHL-12773</td>\n",
       "      <td>International Livestock Research Institute</td>\n",
       "      <td>Uthiru, Naivasha road, Nairobi-Kenya</td>\n",
       "      <td>NPHL-12773</td>\n",
       "      <td>Samuel O. Oyola, Gilbert Kibet, Daniel Ouso, S...</td>\n",
       "      <td></td>\n",
       "      <td></td>\n",
       "      <td>NPHL-12773</td>\n",
       "    </tr>\n",
       "    <tr>\n",
       "      <th>646</th>\n",
       "      <td>Soyola</td>\n",
       "      <td>gisaid_all.fasta</td>\n",
       "      <td>hCoV-19</td>\n",
       "      <td>betacoronavirus</td>\n",
       "      <td>Original</td>\n",
       "      <td>2021-04</td>\n",
       "      <td>2021-04-07</td>\n",
       "      <td>NaN</td>\n",
       "      <td>Unkown</td>\n",
       "      <td>Human</td>\n",
       "      <td>...</td>\n",
       "      <td>International Livestock Research Institute</td>\n",
       "      <td>Uthiru, Naivasha road, Nairobi-Kenya</td>\n",
       "      <td>NPHL1</td>\n",
       "      <td>International Livestock Research Institute</td>\n",
       "      <td>Uthiru, Naivasha road, Nairobi-Kenya</td>\n",
       "      <td>NPHL1</td>\n",
       "      <td>Samuel O. Oyola, Gilbert Kibet, Daniel Ouso, S...</td>\n",
       "      <td></td>\n",
       "      <td></td>\n",
       "      <td>NPHL1</td>\n",
       "    </tr>\n",
       "    <tr>\n",
       "      <th>647</th>\n",
       "      <td>Soyola</td>\n",
       "      <td>gisaid_all.fasta</td>\n",
       "      <td>hCoV-19</td>\n",
       "      <td>betacoronavirus</td>\n",
       "      <td>Original</td>\n",
       "      <td>2021-04</td>\n",
       "      <td>2021-04-07</td>\n",
       "      <td>NaN</td>\n",
       "      <td>Unkown</td>\n",
       "      <td>Human</td>\n",
       "      <td>...</td>\n",
       "      <td>International Livestock Research Institute</td>\n",
       "      <td>Uthiru, Naivasha road, Nairobi-Kenya</td>\n",
       "      <td>NPHL2</td>\n",
       "      <td>International Livestock Research Institute</td>\n",
       "      <td>Uthiru, Naivasha road, Nairobi-Kenya</td>\n",
       "      <td>NPHL2</td>\n",
       "      <td>Samuel O. Oyola, Gilbert Kibet, Daniel Ouso, S...</td>\n",
       "      <td></td>\n",
       "      <td></td>\n",
       "      <td>NPHL2</td>\n",
       "    </tr>\n",
       "    <tr>\n",
       "      <th>648</th>\n",
       "      <td>Soyola</td>\n",
       "      <td>gisaid_all.fasta</td>\n",
       "      <td>hCoV-19</td>\n",
       "      <td>betacoronavirus</td>\n",
       "      <td>Original</td>\n",
       "      <td>2021-04</td>\n",
       "      <td>2021-04-07</td>\n",
       "      <td>NaN</td>\n",
       "      <td>Unkown</td>\n",
       "      <td>Human</td>\n",
       "      <td>...</td>\n",
       "      <td>International Livestock Research Institute</td>\n",
       "      <td>Uthiru, Naivasha road, Nairobi-Kenya</td>\n",
       "      <td>NPHL3</td>\n",
       "      <td>International Livestock Research Institute</td>\n",
       "      <td>Uthiru, Naivasha road, Nairobi-Kenya</td>\n",
       "      <td>NPHL3</td>\n",
       "      <td>Samuel O. Oyola, Gilbert Kibet, Daniel Ouso, S...</td>\n",
       "      <td></td>\n",
       "      <td></td>\n",
       "      <td>NPHL3</td>\n",
       "    </tr>\n",
       "    <tr>\n",
       "      <th>649</th>\n",
       "      <td>Soyola</td>\n",
       "      <td>gisaid_all.fasta</td>\n",
       "      <td>hCoV-19</td>\n",
       "      <td>betacoronavirus</td>\n",
       "      <td>Original</td>\n",
       "      <td>2021-04</td>\n",
       "      <td>2021-04-07</td>\n",
       "      <td>NaN</td>\n",
       "      <td>Unkown</td>\n",
       "      <td>Human</td>\n",
       "      <td>...</td>\n",
       "      <td>International Livestock Research Institute</td>\n",
       "      <td>Uthiru, Naivasha road, Nairobi-Kenya</td>\n",
       "      <td>NPHL4</td>\n",
       "      <td>International Livestock Research Institute</td>\n",
       "      <td>Uthiru, Naivasha road, Nairobi-Kenya</td>\n",
       "      <td>NPHL4</td>\n",
       "      <td>Samuel O. Oyola, Gilbert Kibet, Daniel Ouso, S...</td>\n",
       "      <td></td>\n",
       "      <td></td>\n",
       "      <td>NPHL4</td>\n",
       "    </tr>\n",
       "  </tbody>\n",
       "</table>\n",
       "<p>650 rows × 32 columns</p>\n",
       "</div>"
      ],
      "text/plain": [
       "    submitter                fn covv_virus_name        covv_type covv_passage  \\\n",
       "0      Soyola  gisaid_all.fasta         hCoV-19  betacoronavirus     Original   \n",
       "1      Soyola  gisaid_all.fasta         hCoV-19  betacoronavirus     Original   \n",
       "2      Soyola  gisaid_all.fasta         hCoV-19  betacoronavirus     Original   \n",
       "3      Soyola  gisaid_all.fasta         hCoV-19  betacoronavirus     Original   \n",
       "4      Soyola  gisaid_all.fasta         hCoV-19  betacoronavirus     Original   \n",
       "..        ...               ...             ...              ...          ...   \n",
       "645    Soyola  gisaid_all.fasta         hCoV-19  betacoronavirus     Original   \n",
       "646    Soyola  gisaid_all.fasta         hCoV-19  betacoronavirus     Original   \n",
       "647    Soyola  gisaid_all.fasta         hCoV-19  betacoronavirus     Original   \n",
       "648    Soyola  gisaid_all.fasta         hCoV-19  betacoronavirus     Original   \n",
       "649    Soyola  gisaid_all.fasta         hCoV-19  betacoronavirus     Original   \n",
       "\n",
       "    covv_collection_date DT_SAM_RECEP         covv_location covv_add_location  \\\n",
       "0    2020-07-06 00:00:00          NaT  Africa/Kenya/Nairobi            Unkown   \n",
       "1    2020-07-06 00:00:00          NaT  Africa/Kenya/Nairobi            Unkown   \n",
       "2    2020-07-06 00:00:00          NaT  Africa/Kenya/Nairobi            Unkown   \n",
       "3    2020-07-06 00:00:00          NaT  Africa/Kenya/Nairobi            Unkown   \n",
       "4    2020-07-10 00:00:00          NaT  Africa/Kenya/Nairobi            Unkown   \n",
       "..                   ...          ...                   ...               ...   \n",
       "645              2021-04   2021-04-07                   NaN            Unkown   \n",
       "646              2021-04   2021-04-07                   NaN            Unkown   \n",
       "647              2021-04   2021-04-07                   NaN            Unkown   \n",
       "648              2021-04   2021-04-07                   NaN            Unkown   \n",
       "649              2021-04   2021-04-07                   NaN            Unkown   \n",
       "\n",
       "    covv_host  ...                               covv_orig_lab  \\\n",
       "0       Human  ...  International Livestock Research Institute   \n",
       "1       Human  ...  International Livestock Research Institute   \n",
       "2       Human  ...  International Livestock Research Institute   \n",
       "3       Human  ...  International Livestock Research Institute   \n",
       "4       Human  ...  International Livestock Research Institute   \n",
       "..        ...  ...                                         ...   \n",
       "645     Human  ...  International Livestock Research Institute   \n",
       "646     Human  ...  International Livestock Research Institute   \n",
       "647     Human  ...  International Livestock Research Institute   \n",
       "648     Human  ...  International Livestock Research Institute   \n",
       "649     Human  ...  International Livestock Research Institute   \n",
       "\n",
       "                       covv_orig_lab_addr covv_provider_sample_id  \\\n",
       "0    Uthiru, Naivasha road, Nairobi-Kenya               COVC03617   \n",
       "1    Uthiru, Naivasha road, Nairobi-Kenya               COVC03665   \n",
       "2    Uthiru, Naivasha road, Nairobi-Kenya               COVC03696   \n",
       "3    Uthiru, Naivasha road, Nairobi-Kenya               COVC03723   \n",
       "4    Uthiru, Naivasha road, Nairobi-Kenya               COVC03813   \n",
       "..                                    ...                     ...   \n",
       "645  Uthiru, Naivasha road, Nairobi-Kenya              NPHL-12773   \n",
       "646  Uthiru, Naivasha road, Nairobi-Kenya                   NPHL1   \n",
       "647  Uthiru, Naivasha road, Nairobi-Kenya                   NPHL2   \n",
       "648  Uthiru, Naivasha road, Nairobi-Kenya                   NPHL3   \n",
       "649  Uthiru, Naivasha road, Nairobi-Kenya                   NPHL4   \n",
       "\n",
       "                                  covv_subm_lab  \\\n",
       "0    International Livestock Research Institute   \n",
       "1    International Livestock Research Institute   \n",
       "2    International Livestock Research Institute   \n",
       "3    International Livestock Research Institute   \n",
       "4    International Livestock Research Institute   \n",
       "..                                          ...   \n",
       "645  International Livestock Research Institute   \n",
       "646  International Livestock Research Institute   \n",
       "647  International Livestock Research Institute   \n",
       "648  International Livestock Research Institute   \n",
       "649  International Livestock Research Institute   \n",
       "\n",
       "                       covv_subm_lab_addr covv_subm_sample_id  \\\n",
       "0    Uthiru, Naivasha road, Nairobi-Kenya           COVC03617   \n",
       "1    Uthiru, Naivasha road, Nairobi-Kenya           COVC03665   \n",
       "2    Uthiru, Naivasha road, Nairobi-Kenya           COVC03696   \n",
       "3    Uthiru, Naivasha road, Nairobi-Kenya           COVC03723   \n",
       "4    Uthiru, Naivasha road, Nairobi-Kenya           COVC03813   \n",
       "..                                    ...                 ...   \n",
       "645  Uthiru, Naivasha road, Nairobi-Kenya          NPHL-12773   \n",
       "646  Uthiru, Naivasha road, Nairobi-Kenya               NPHL1   \n",
       "647  Uthiru, Naivasha road, Nairobi-Kenya               NPHL2   \n",
       "648  Uthiru, Naivasha road, Nairobi-Kenya               NPHL3   \n",
       "649  Uthiru, Naivasha road, Nairobi-Kenya               NPHL4   \n",
       "\n",
       "                                          covv_authors covv_comment  \\\n",
       "0    Samuel O. Oyola, Gilbert Kibet, Daniel Ouso, S...                \n",
       "1    Samuel O. Oyola, Gilbert Kibet, Daniel Ouso, S...                \n",
       "2    Samuel O. Oyola, Gilbert Kibet, Daniel Ouso, S...                \n",
       "3    Samuel O. Oyola, Gilbert Kibet, Daniel Ouso, S...                \n",
       "4    Samuel O. Oyola, Gilbert Kibet, Daniel Ouso, S...                \n",
       "..                                                 ...          ...   \n",
       "645  Samuel O. Oyola, Gilbert Kibet, Daniel Ouso, S...                \n",
       "646  Samuel O. Oyola, Gilbert Kibet, Daniel Ouso, S...                \n",
       "647  Samuel O. Oyola, Gilbert Kibet, Daniel Ouso, S...                \n",
       "648  Samuel O. Oyola, Gilbert Kibet, Daniel Ouso, S...                \n",
       "649  Samuel O. Oyola, Gilbert Kibet, Daniel Ouso, S...                \n",
       "\n",
       "    comment_type   sample_id  \n",
       "0                  COVC03617  \n",
       "1                  COVC03665  \n",
       "2                  COVC03696  \n",
       "3                  COVC03723  \n",
       "4                  COVC03813  \n",
       "..           ...         ...  \n",
       "645               NPHL-12773  \n",
       "646                    NPHL1  \n",
       "647                    NPHL2  \n",
       "648                    NPHL3  \n",
       "649                    NPHL4  \n",
       "\n",
       "[650 rows x 32 columns]"
      ]
     },
     "execution_count": 66,
     "metadata": {},
     "output_type": "execute_result"
    }
   ],
   "source": [
    "df_gisaid_fin.merge(ill, how='inner', left_on='covv_provider_sample_id', right_on='sample_id')#.shape"
   ]
  },
  {
   "cell_type": "code",
   "execution_count": 56,
   "id": "3abda11b-e023-4bb8-8f1b-ad981a631032",
   "metadata": {},
   "outputs": [
    {
     "data": {
      "text/html": [
       "<div>\n",
       "<style scoped>\n",
       "    .dataframe tbody tr th:only-of-type {\n",
       "        vertical-align: middle;\n",
       "    }\n",
       "\n",
       "    .dataframe tbody tr th {\n",
       "        vertical-align: top;\n",
       "    }\n",
       "\n",
       "    .dataframe thead th {\n",
       "        text-align: right;\n",
       "    }\n",
       "</style>\n",
       "<table border=\"1\" class=\"dataframe\">\n",
       "  <thead>\n",
       "    <tr style=\"text-align: right;\">\n",
       "      <th></th>\n",
       "      <th>sample_id</th>\n",
       "    </tr>\n",
       "  </thead>\n",
       "  <tbody>\n",
       "    <tr>\n",
       "      <th>0</th>\n",
       "      <td>COVC14674</td>\n",
       "    </tr>\n",
       "    <tr>\n",
       "      <th>1</th>\n",
       "      <td>COVC14676</td>\n",
       "    </tr>\n",
       "    <tr>\n",
       "      <th>2</th>\n",
       "      <td>COVC14699</td>\n",
       "    </tr>\n",
       "    <tr>\n",
       "      <th>3</th>\n",
       "      <td>COVC14753</td>\n",
       "    </tr>\n",
       "    <tr>\n",
       "      <th>4</th>\n",
       "      <td>COVC14784</td>\n",
       "    </tr>\n",
       "  </tbody>\n",
       "</table>\n",
       "</div>"
      ],
      "text/plain": [
       "   sample_id\n",
       "0  COVC14674\n",
       "1  COVC14676\n",
       "2  COVC14699\n",
       "3  COVC14753\n",
       "4  COVC14784"
      ]
     },
     "execution_count": 56,
     "metadata": {},
     "output_type": "execute_result"
    }
   ],
   "source": [
    "ont = pd.read_csv('/home/douso/Gisaid/over80_id_ont_nodup.csv', names=['sample_id'])\n",
    "ont.headd()"
   ]
  },
  {
   "cell_type": "code",
   "execution_count": 58,
   "id": "e8c7913b-79f8-4b68-9ef1-ed9f06b8b452",
   "metadata": {
    "tags": []
   },
   "outputs": [
    {
     "data": {
      "text/plain": [
       "(66, 1)"
      ]
     },
     "execution_count": 58,
     "metadata": {},
     "output_type": "execute_result"
    }
   ],
   "source": [
    "ont.shape"
   ]
  },
  {
   "cell_type": "code",
   "execution_count": null,
   "id": "c00fd226-769b-4c7b-92a9-35a52548b139",
   "metadata": {},
   "outputs": [],
   "source": [
    "df_gisaid_fin.merge(ont, how='left', left_on='covv_provider_sample_id', right_on='sample_id')"
   ]
  },
  {
   "cell_type": "code",
   "execution_count": null,
   "id": "822ee448-5a08-4dee-8d5f-31e3c8f6b4fd",
   "metadata": {},
   "outputs": [],
   "source": []
  },
  {
   "cell_type": "code",
   "execution_count": 49,
   "id": "70e0f725-0832-46fd-ad84-391ed9caabbe",
   "metadata": {},
   "outputs": [
    {
     "data": {
      "text/plain": [
       "(716, 31)"
      ]
     },
     "execution_count": 49,
     "metadata": {},
     "output_type": "execute_result"
    }
   ],
   "source": [
    "l =list(df_mrgl['S_NUM'])\n",
    "df_filter = df_gisaid_fin[df_gisaid_fin['covv_subm_sample_id'].isin(l) == True]\n",
    "df_filter.shape"
   ]
  },
  {
   "cell_type": "raw",
   "id": "416a6c0d-e290-46ff-9b4f-566cc4c57f20",
   "metadata": {},
   "source": [
    "sbatch -p batch -J sra_dwnld -n 30 --qos vip --mail-user=d.ouso@cgiar.org --mail-user=zeusfranck07yahoo.com --mail-type=BEGIN --mail-type=END -w compute05 sra.sh"
   ]
  },
  {
   "cell_type": "code",
   "execution_count": 67,
   "id": "8f5498df-ee09-4d7c-97ae-a7104b904a0d",
   "metadata": {},
   "outputs": [],
   "source": [
    "df_nxt_ill = pd.read_csv('/home/douso/Gisaid/Illumina/transposed_report.tsv', sep='\\t')"
   ]
  },
  {
   "cell_type": "code",
   "execution_count": 68,
   "id": "d938c480-9e84-46b6-9f0b-961be16f8d8e",
   "metadata": {},
   "outputs": [
    {
     "data": {
      "text/html": [
       "<div>\n",
       "<style scoped>\n",
       "    .dataframe tbody tr th:only-of-type {\n",
       "        vertical-align: middle;\n",
       "    }\n",
       "\n",
       "    .dataframe tbody tr th {\n",
       "        vertical-align: top;\n",
       "    }\n",
       "\n",
       "    .dataframe thead th {\n",
       "        text-align: right;\n",
       "    }\n",
       "</style>\n",
       "<table border=\"1\" class=\"dataframe\">\n",
       "  <thead>\n",
       "    <tr style=\"text-align: right;\">\n",
       "      <th></th>\n",
       "      <th>Assembly</th>\n",
       "      <th># contigs (&gt;= 0 bp)</th>\n",
       "      <th># contigs (&gt;= 1000 bp)</th>\n",
       "      <th># contigs (&gt;= 5000 bp)</th>\n",
       "      <th># contigs (&gt;= 10000 bp)</th>\n",
       "      <th># contigs (&gt;= 25000 bp)</th>\n",
       "      <th># contigs (&gt;= 50000 bp)</th>\n",
       "      <th>Total length (&gt;= 0 bp)</th>\n",
       "      <th>Total length (&gt;= 1000 bp)</th>\n",
       "      <th>Total length (&gt;= 5000 bp)</th>\n",
       "      <th>...</th>\n",
       "      <th>Largest alignment</th>\n",
       "      <th>Total aligned length</th>\n",
       "      <th>NA50</th>\n",
       "      <th>NGA50</th>\n",
       "      <th>NA75</th>\n",
       "      <th>NGA75</th>\n",
       "      <th>LA50</th>\n",
       "      <th>LGA50</th>\n",
       "      <th>LA75</th>\n",
       "      <th>LGA75</th>\n",
       "    </tr>\n",
       "  </thead>\n",
       "  <tbody>\n",
       "    <tr>\n",
       "      <th>0</th>\n",
       "      <td>COCV11310_S6.consensus</td>\n",
       "      <td>1</td>\n",
       "      <td>1</td>\n",
       "      <td>1</td>\n",
       "      <td>1</td>\n",
       "      <td>1</td>\n",
       "      <td>0</td>\n",
       "      <td>29903</td>\n",
       "      <td>29903</td>\n",
       "      <td>29903</td>\n",
       "      <td>...</td>\n",
       "      <td>17906</td>\n",
       "      <td>17906</td>\n",
       "      <td>17906</td>\n",
       "      <td>17906</td>\n",
       "      <td>-</td>\n",
       "      <td>-</td>\n",
       "      <td>1</td>\n",
       "      <td>1</td>\n",
       "      <td>-</td>\n",
       "      <td>-</td>\n",
       "    </tr>\n",
       "    <tr>\n",
       "      <th>1</th>\n",
       "      <td>COVC03617_S74.consensus</td>\n",
       "      <td>1</td>\n",
       "      <td>1</td>\n",
       "      <td>1</td>\n",
       "      <td>1</td>\n",
       "      <td>1</td>\n",
       "      <td>0</td>\n",
       "      <td>29903</td>\n",
       "      <td>29903</td>\n",
       "      <td>29903</td>\n",
       "      <td>...</td>\n",
       "      <td>29487</td>\n",
       "      <td>29487</td>\n",
       "      <td>29487</td>\n",
       "      <td>29487</td>\n",
       "      <td>29487</td>\n",
       "      <td>29487</td>\n",
       "      <td>1</td>\n",
       "      <td>1</td>\n",
       "      <td>1</td>\n",
       "      <td>1</td>\n",
       "    </tr>\n",
       "    <tr>\n",
       "      <th>2</th>\n",
       "      <td>COVC03665_S75.consensus</td>\n",
       "      <td>1</td>\n",
       "      <td>1</td>\n",
       "      <td>1</td>\n",
       "      <td>1</td>\n",
       "      <td>1</td>\n",
       "      <td>0</td>\n",
       "      <td>29903</td>\n",
       "      <td>29903</td>\n",
       "      <td>29903</td>\n",
       "      <td>...</td>\n",
       "      <td>29300</td>\n",
       "      <td>29300</td>\n",
       "      <td>29300</td>\n",
       "      <td>29300</td>\n",
       "      <td>29300</td>\n",
       "      <td>29300</td>\n",
       "      <td>1</td>\n",
       "      <td>1</td>\n",
       "      <td>1</td>\n",
       "      <td>1</td>\n",
       "    </tr>\n",
       "    <tr>\n",
       "      <th>3</th>\n",
       "      <td>COVC03696_S76.consensus</td>\n",
       "      <td>1</td>\n",
       "      <td>1</td>\n",
       "      <td>1</td>\n",
       "      <td>1</td>\n",
       "      <td>1</td>\n",
       "      <td>0</td>\n",
       "      <td>29903</td>\n",
       "      <td>29903</td>\n",
       "      <td>29903</td>\n",
       "      <td>...</td>\n",
       "      <td>29511</td>\n",
       "      <td>29511</td>\n",
       "      <td>29511</td>\n",
       "      <td>29511</td>\n",
       "      <td>29511</td>\n",
       "      <td>29511</td>\n",
       "      <td>1</td>\n",
       "      <td>1</td>\n",
       "      <td>1</td>\n",
       "      <td>1</td>\n",
       "    </tr>\n",
       "    <tr>\n",
       "      <th>4</th>\n",
       "      <td>COVC03723_S77.consensus</td>\n",
       "      <td>1</td>\n",
       "      <td>1</td>\n",
       "      <td>1</td>\n",
       "      <td>1</td>\n",
       "      <td>1</td>\n",
       "      <td>0</td>\n",
       "      <td>29903</td>\n",
       "      <td>29903</td>\n",
       "      <td>29903</td>\n",
       "      <td>...</td>\n",
       "      <td>29667</td>\n",
       "      <td>29667</td>\n",
       "      <td>29667</td>\n",
       "      <td>29667</td>\n",
       "      <td>29667</td>\n",
       "      <td>29667</td>\n",
       "      <td>1</td>\n",
       "      <td>1</td>\n",
       "      <td>1</td>\n",
       "      <td>1</td>\n",
       "    </tr>\n",
       "    <tr>\n",
       "      <th>5</th>\n",
       "      <td>COVC03813_S78.consensus</td>\n",
       "      <td>1</td>\n",
       "      <td>1</td>\n",
       "      <td>1</td>\n",
       "      <td>1</td>\n",
       "      <td>1</td>\n",
       "      <td>0</td>\n",
       "      <td>29903</td>\n",
       "      <td>29903</td>\n",
       "      <td>29903</td>\n",
       "      <td>...</td>\n",
       "      <td>29275</td>\n",
       "      <td>29275</td>\n",
       "      <td>29275</td>\n",
       "      <td>29275</td>\n",
       "      <td>29275</td>\n",
       "      <td>29275</td>\n",
       "      <td>1</td>\n",
       "      <td>1</td>\n",
       "      <td>1</td>\n",
       "      <td>1</td>\n",
       "    </tr>\n",
       "    <tr>\n",
       "      <th>6</th>\n",
       "      <td>COVC03955_S79.consensus</td>\n",
       "      <td>1</td>\n",
       "      <td>1</td>\n",
       "      <td>1</td>\n",
       "      <td>1</td>\n",
       "      <td>1</td>\n",
       "      <td>0</td>\n",
       "      <td>29903</td>\n",
       "      <td>29903</td>\n",
       "      <td>29903</td>\n",
       "      <td>...</td>\n",
       "      <td>29487</td>\n",
       "      <td>29487</td>\n",
       "      <td>29487</td>\n",
       "      <td>29487</td>\n",
       "      <td>29487</td>\n",
       "      <td>29487</td>\n",
       "      <td>1</td>\n",
       "      <td>1</td>\n",
       "      <td>1</td>\n",
       "      <td>1</td>\n",
       "    </tr>\n",
       "    <tr>\n",
       "      <th>7</th>\n",
       "      <td>COVC03960_S80.consensus</td>\n",
       "      <td>1</td>\n",
       "      <td>1</td>\n",
       "      <td>1</td>\n",
       "      <td>1</td>\n",
       "      <td>1</td>\n",
       "      <td>0</td>\n",
       "      <td>29903</td>\n",
       "      <td>29903</td>\n",
       "      <td>29903</td>\n",
       "      <td>...</td>\n",
       "      <td>29487</td>\n",
       "      <td>29487</td>\n",
       "      <td>29487</td>\n",
       "      <td>29487</td>\n",
       "      <td>29487</td>\n",
       "      <td>29487</td>\n",
       "      <td>1</td>\n",
       "      <td>1</td>\n",
       "      <td>1</td>\n",
       "      <td>1</td>\n",
       "    </tr>\n",
       "    <tr>\n",
       "      <th>8</th>\n",
       "      <td>COVC03965_S81.consensus</td>\n",
       "      <td>1</td>\n",
       "      <td>1</td>\n",
       "      <td>1</td>\n",
       "      <td>1</td>\n",
       "      <td>1</td>\n",
       "      <td>0</td>\n",
       "      <td>29903</td>\n",
       "      <td>29903</td>\n",
       "      <td>29903</td>\n",
       "      <td>...</td>\n",
       "      <td>29275</td>\n",
       "      <td>29275</td>\n",
       "      <td>29275</td>\n",
       "      <td>29275</td>\n",
       "      <td>29275</td>\n",
       "      <td>29275</td>\n",
       "      <td>1</td>\n",
       "      <td>1</td>\n",
       "      <td>1</td>\n",
       "      <td>1</td>\n",
       "    </tr>\n",
       "    <tr>\n",
       "      <th>9</th>\n",
       "      <td>COVC03977_S82.consensus</td>\n",
       "      <td>1</td>\n",
       "      <td>1</td>\n",
       "      <td>1</td>\n",
       "      <td>1</td>\n",
       "      <td>1</td>\n",
       "      <td>0</td>\n",
       "      <td>29903</td>\n",
       "      <td>29903</td>\n",
       "      <td>29903</td>\n",
       "      <td>...</td>\n",
       "      <td>29487</td>\n",
       "      <td>29487</td>\n",
       "      <td>29487</td>\n",
       "      <td>29487</td>\n",
       "      <td>29487</td>\n",
       "      <td>29487</td>\n",
       "      <td>1</td>\n",
       "      <td>1</td>\n",
       "      <td>1</td>\n",
       "      <td>1</td>\n",
       "    </tr>\n",
       "    <tr>\n",
       "      <th>10</th>\n",
       "      <td>COVC03982_S83.consensus</td>\n",
       "      <td>1</td>\n",
       "      <td>1</td>\n",
       "      <td>1</td>\n",
       "      <td>1</td>\n",
       "      <td>1</td>\n",
       "      <td>0</td>\n",
       "      <td>29903</td>\n",
       "      <td>29903</td>\n",
       "      <td>29903</td>\n",
       "      <td>...</td>\n",
       "      <td>29275</td>\n",
       "      <td>29275</td>\n",
       "      <td>29275</td>\n",
       "      <td>29275</td>\n",
       "      <td>29275</td>\n",
       "      <td>29275</td>\n",
       "      <td>1</td>\n",
       "      <td>1</td>\n",
       "      <td>1</td>\n",
       "      <td>1</td>\n",
       "    </tr>\n",
       "    <tr>\n",
       "      <th>11</th>\n",
       "      <td>COVC03989_S84.consensus</td>\n",
       "      <td>1</td>\n",
       "      <td>1</td>\n",
       "      <td>1</td>\n",
       "      <td>1</td>\n",
       "      <td>1</td>\n",
       "      <td>0</td>\n",
       "      <td>29903</td>\n",
       "      <td>29903</td>\n",
       "      <td>29903</td>\n",
       "      <td>...</td>\n",
       "      <td>29259</td>\n",
       "      <td>29259</td>\n",
       "      <td>29259</td>\n",
       "      <td>29259</td>\n",
       "      <td>29259</td>\n",
       "      <td>29259</td>\n",
       "      <td>1</td>\n",
       "      <td>1</td>\n",
       "      <td>1</td>\n",
       "      <td>1</td>\n",
       "    </tr>\n",
       "  </tbody>\n",
       "</table>\n",
       "<p>12 rows × 52 columns</p>\n",
       "</div>"
      ],
      "text/plain": [
       "                   Assembly  # contigs (>= 0 bp)  # contigs (>= 1000 bp)  \\\n",
       "0    COCV11310_S6.consensus                    1                       1   \n",
       "1   COVC03617_S74.consensus                    1                       1   \n",
       "2   COVC03665_S75.consensus                    1                       1   \n",
       "3   COVC03696_S76.consensus                    1                       1   \n",
       "4   COVC03723_S77.consensus                    1                       1   \n",
       "5   COVC03813_S78.consensus                    1                       1   \n",
       "6   COVC03955_S79.consensus                    1                       1   \n",
       "7   COVC03960_S80.consensus                    1                       1   \n",
       "8   COVC03965_S81.consensus                    1                       1   \n",
       "9   COVC03977_S82.consensus                    1                       1   \n",
       "10  COVC03982_S83.consensus                    1                       1   \n",
       "11  COVC03989_S84.consensus                    1                       1   \n",
       "\n",
       "    # contigs (>= 5000 bp)  # contigs (>= 10000 bp)  # contigs (>= 25000 bp)  \\\n",
       "0                        1                        1                        1   \n",
       "1                        1                        1                        1   \n",
       "2                        1                        1                        1   \n",
       "3                        1                        1                        1   \n",
       "4                        1                        1                        1   \n",
       "5                        1                        1                        1   \n",
       "6                        1                        1                        1   \n",
       "7                        1                        1                        1   \n",
       "8                        1                        1                        1   \n",
       "9                        1                        1                        1   \n",
       "10                       1                        1                        1   \n",
       "11                       1                        1                        1   \n",
       "\n",
       "    # contigs (>= 50000 bp)  Total length (>= 0 bp)  \\\n",
       "0                         0                   29903   \n",
       "1                         0                   29903   \n",
       "2                         0                   29903   \n",
       "3                         0                   29903   \n",
       "4                         0                   29903   \n",
       "5                         0                   29903   \n",
       "6                         0                   29903   \n",
       "7                         0                   29903   \n",
       "8                         0                   29903   \n",
       "9                         0                   29903   \n",
       "10                        0                   29903   \n",
       "11                        0                   29903   \n",
       "\n",
       "    Total length (>= 1000 bp)  Total length (>= 5000 bp)  ...  \\\n",
       "0                       29903                      29903  ...   \n",
       "1                       29903                      29903  ...   \n",
       "2                       29903                      29903  ...   \n",
       "3                       29903                      29903  ...   \n",
       "4                       29903                      29903  ...   \n",
       "5                       29903                      29903  ...   \n",
       "6                       29903                      29903  ...   \n",
       "7                       29903                      29903  ...   \n",
       "8                       29903                      29903  ...   \n",
       "9                       29903                      29903  ...   \n",
       "10                      29903                      29903  ...   \n",
       "11                      29903                      29903  ...   \n",
       "\n",
       "    Largest alignment  Total aligned length   NA50  NGA50   NA75  NGA75  LA50  \\\n",
       "0               17906                 17906  17906  17906      -      -     1   \n",
       "1               29487                 29487  29487  29487  29487  29487     1   \n",
       "2               29300                 29300  29300  29300  29300  29300     1   \n",
       "3               29511                 29511  29511  29511  29511  29511     1   \n",
       "4               29667                 29667  29667  29667  29667  29667     1   \n",
       "5               29275                 29275  29275  29275  29275  29275     1   \n",
       "6               29487                 29487  29487  29487  29487  29487     1   \n",
       "7               29487                 29487  29487  29487  29487  29487     1   \n",
       "8               29275                 29275  29275  29275  29275  29275     1   \n",
       "9               29487                 29487  29487  29487  29487  29487     1   \n",
       "10              29275                 29275  29275  29275  29275  29275     1   \n",
       "11              29259                 29259  29259  29259  29259  29259     1   \n",
       "\n",
       "    LGA50  LA75  LGA75  \n",
       "0       1     -      -  \n",
       "1       1     1      1  \n",
       "2       1     1      1  \n",
       "3       1     1      1  \n",
       "4       1     1      1  \n",
       "5       1     1      1  \n",
       "6       1     1      1  \n",
       "7       1     1      1  \n",
       "8       1     1      1  \n",
       "9       1     1      1  \n",
       "10      1     1      1  \n",
       "11      1     1      1  \n",
       "\n",
       "[12 rows x 52 columns]"
      ]
     },
     "execution_count": 68,
     "metadata": {},
     "output_type": "execute_result"
    }
   ],
   "source": [
    "df_nxt_ill.head(12)"
   ]
  },
  {
   "cell_type": "code",
   "execution_count": 69,
   "id": "92155b13-48ea-4faa-8f5f-2352ff679d3e",
   "metadata": {},
   "outputs": [
    {
     "data": {
      "text/plain": [
       "Index(['Assembly', '# contigs (>= 0 bp)', '# contigs (>= 1000 bp)',\n",
       "       '# contigs (>= 5000 bp)', '# contigs (>= 10000 bp)',\n",
       "       '# contigs (>= 25000 bp)', '# contigs (>= 50000 bp)',\n",
       "       'Total length (>= 0 bp)', 'Total length (>= 1000 bp)',\n",
       "       'Total length (>= 5000 bp)', 'Total length (>= 10000 bp)',\n",
       "       'Total length (>= 25000 bp)', 'Total length (>= 50000 bp)', '# contigs',\n",
       "       'Largest contig', 'Total length', 'Reference length', 'GC (%)',\n",
       "       'Reference GC (%)', 'N50', 'NG50', 'N75', 'NG75', 'L50', 'LG50', 'L75',\n",
       "       'LG75', '# misassemblies', '# misassembled contigs',\n",
       "       'Misassembled contigs length', '# local misassemblies',\n",
       "       '# scaffold gap ext. mis.', '# scaffold gap loc. mis.',\n",
       "       '# unaligned mis. contigs', '# unaligned contigs', 'Unaligned length',\n",
       "       'Genome fraction (%)', 'Duplication ratio', '# N's per 100 kbp',\n",
       "       '# mismatches per 100 kbp', '# indels per 100 kbp',\n",
       "       '# genomic features', 'Largest alignment', 'Total aligned length',\n",
       "       'NA50', 'NGA50', 'NA75', 'NGA75', 'LA50', 'LGA50', 'LA75', 'LGA75'],\n",
       "      dtype='object')"
      ]
     },
     "execution_count": 69,
     "metadata": {},
     "output_type": "execute_result"
    }
   ],
   "source": [
    "df_nxt_ill.columns"
   ]
  },
  {
   "cell_type": "code",
   "execution_count": 70,
   "id": "7a7a9ca0-e2d0-4051-80ae-587791f98131",
   "metadata": {},
   "outputs": [],
   "source": [
    "df_nxt_ill_cov = df_nxt_ill[['Assembly', 'Genome fraction (%)']]"
   ]
  },
  {
   "cell_type": "code",
   "execution_count": 71,
   "id": "f39bf3c0-9fb8-406f-beb3-9600df4c5853",
   "metadata": {},
   "outputs": [
    {
     "name": "stdout",
     "output_type": "stream",
     "text": [
      "<class 'pandas.core.frame.DataFrame'>\n",
      "RangeIndex: 952 entries, 0 to 951\n",
      "Data columns (total 2 columns):\n",
      " #   Column               Non-Null Count  Dtype \n",
      "---  ------               --------------  ----- \n",
      " 0   Assembly             952 non-null    object\n",
      " 1   Genome fraction (%)  952 non-null    object\n",
      "dtypes: object(2)\n",
      "memory usage: 15.0+ KB\n"
     ]
    }
   ],
   "source": [
    "df_nxt_ill_cov.info()"
   ]
  },
  {
   "cell_type": "code",
   "execution_count": 72,
   "id": "8a5f91e0-1762-463a-a677-0b12059088dd",
   "metadata": {},
   "outputs": [],
   "source": [
    "df_nxt_ill_cov.to_excel('/home/douso/Gisaid/df_nxt_ill_cov.xlsx')"
   ]
  },
  {
   "cell_type": "code",
   "execution_count": 198,
   "id": "77a18f48-dfb2-42de-844e-c29f932ae6c9",
   "metadata": {},
   "outputs": [],
   "source": [
    "def cov_names(x):\n",
    "    x = x.upper().replace(' ', '')\n",
    "    if len(x) == 8:\n",
    "        x = x.replace('COVC', 'COVC0')\n",
    "    elif len(x) == 7:\n",
    "        x = x.replace('COVC', 'COVC00')\n",
    "    elif len(x) == 6:\n",
    "        x = x.replace('COVC', 'COVC000')\n",
    "    elif len(x) == 5:\n",
    "        x = x.replace('COVC', 'COVC0000')\n",
    "    return x"
   ]
  },
  {
   "cell_type": "code",
   "execution_count": 73,
   "id": "5069ab53-427c-412d-a376-678c500d60f0",
   "metadata": {},
   "outputs": [],
   "source": [
    "def clean(x):\n",
    "    if float(x) and x != '-':\n",
    "        return round(float(x), 1)\n",
    "    else:\n",
    "        return np.NaN"
   ]
  },
  {
   "cell_type": "code",
   "execution_count": 76,
   "id": "f51df784-e7f0-44fe-9278-ab978080e74d",
   "metadata": {},
   "outputs": [],
   "source": [
    "p = re.compile(\"_S[1-9]{0,3}\\w.*\")\n",
    "new_ass = df_nxt_ill_cov['Assembly'].apply(lambda x: p.sub('', x))\n",
    "new_gen_cov = df_nxt_ill_cov['Genome fraction (%)'].replace('-', np.NaN).apply(lambda x: clean(x))\n",
    "\n",
    "# p.findall('NPHL1_S29_S13_S27_S30.consensus')"
   ]
  },
  {
   "cell_type": "code",
   "execution_count": 77,
   "id": "11f9ce10-882d-4215-80b0-740b9824de29",
   "metadata": {
    "tags": []
   },
   "outputs": [
    {
     "data": {
      "text/plain": [
       "0       COCV11310\n",
       "1       COVC03617\n",
       "2       COVC03665\n",
       "3       COVC03696\n",
       "4       COVC03723\n",
       "          ...    \n",
       "947    NPHL_12780\n",
       "948         NPHL1\n",
       "949         NPHL2\n",
       "950         NPHL3\n",
       "951         NPHL4\n",
       "Name: Assembly, Length: 952, dtype: object"
      ]
     },
     "execution_count": 77,
     "metadata": {},
     "output_type": "execute_result"
    }
   ],
   "source": [
    "new_ass"
   ]
  },
  {
   "cell_type": "code",
   "execution_count": 78,
   "id": "dd75a0f7-994c-4825-8b67-53b305db9d6c",
   "metadata": {},
   "outputs": [
    {
     "data": {
      "text/plain": [
       "0      59.9\n",
       "1      98.6\n",
       "2      98.0\n",
       "3      98.7\n",
       "4      99.2\n",
       "       ... \n",
       "947    26.9\n",
       "948    99.0\n",
       "949    74.7\n",
       "950    98.1\n",
       "951    61.0\n",
       "Name: Genome fraction (%), Length: 952, dtype: float64"
      ]
     },
     "execution_count": 78,
     "metadata": {},
     "output_type": "execute_result"
    }
   ],
   "source": [
    "new_gen_cov"
   ]
  },
  {
   "cell_type": "code",
   "execution_count": 79,
   "id": "407e2c5e-134a-4d8b-a006-fecde0a6587f",
   "metadata": {},
   "outputs": [],
   "source": [
    "df_nxt_new = pd.DataFrame({'sample_id': new_ass, 'genome_cov': new_gen_cov})"
   ]
  },
  {
   "cell_type": "code",
   "execution_count": 80,
   "id": "9d3983c9-451d-4299-9a69-932662b41f92",
   "metadata": {},
   "outputs": [],
   "source": [
    "df_nxt_new[df_nxt_new['genome_cov'] >= 80.0].to_excel('/home/douso/Gisaid/Illumina/over80_id_ill-2.xlsx')"
   ]
  },
  {
   "cell_type": "code",
   "execution_count": 81,
   "id": "3bb41560-e30f-4335-a04c-82364c19ea54",
   "metadata": {},
   "outputs": [],
   "source": [
    "df_nxt_ont = pd.read_csv('/home/douso/Gisaid/ONT/transposed_report.tsv', sep='\\t')"
   ]
  },
  {
   "cell_type": "code",
   "execution_count": 89,
   "id": "12f27434-0ece-4efb-88e8-eba3b891ef93",
   "metadata": {},
   "outputs": [],
   "source": [
    "df_nxt_ont_cov = df_nxt_ont[['Assembly', 'Genome fraction (%)']]"
   ]
  },
  {
   "cell_type": "code",
   "execution_count": 90,
   "id": "db969d64-47f8-475b-baa8-3cc8c5c1fbe0",
   "metadata": {},
   "outputs": [],
   "source": [
    "p = re.compile(\"_S[1-9]{0,3}\\w.*\")\n",
    "new_ass = df_nxt_ont_cov['Assembly'].apply(lambda x: p.sub('', x))\n",
    "new_gen_cov = df_nxt_ont_cov['Genome fraction (%)'].replace('-', np.NaN).apply(lambda x: clean(x))\n",
    "\n",
    "# p.findall('NPHL1_S29_S13_S27_S30.consensus')"
   ]
  },
  {
   "cell_type": "code",
   "execution_count": 91,
   "id": "ccc4d782-cd1c-4340-94aa-f9d10ba4c5fc",
   "metadata": {
    "tags": []
   },
   "outputs": [
    {
     "data": {
      "text/plain": [
       "0     COVC14674.consensus\n",
       "1     COVC14676.consensus\n",
       "2     COVC14699.consensus\n",
       "3     COVC14753.consensus\n",
       "4     COVC14784.consensus\n",
       "             ...         \n",
       "91    NHRL_N030.consensus\n",
       "92    NHRL_N031.consensus\n",
       "93    NHRL_N033.consensus\n",
       "94    NHRL_N034.consensus\n",
       "95    NHRL_N036.consensus\n",
       "Name: Assembly, Length: 96, dtype: object"
      ]
     },
     "execution_count": 91,
     "metadata": {},
     "output_type": "execute_result"
    }
   ],
   "source": [
    "new_ass"
   ]
  },
  {
   "cell_type": "code",
   "execution_count": 92,
   "id": "1d3c26be-8200-4cde-93ab-c26257e22196",
   "metadata": {},
   "outputs": [
    {
     "data": {
      "text/plain": [
       "0     96.1\n",
       "1     96.1\n",
       "2     95.3\n",
       "3     80.2\n",
       "4     94.6\n",
       "      ... \n",
       "91    15.6\n",
       "92    95.7\n",
       "93    11.8\n",
       "94    16.4\n",
       "95    93.9\n",
       "Name: Genome fraction (%), Length: 96, dtype: float64"
      ]
     },
     "execution_count": 92,
     "metadata": {},
     "output_type": "execute_result"
    }
   ],
   "source": [
    "new_gen_cov"
   ]
  },
  {
   "cell_type": "code",
   "execution_count": 93,
   "id": "6c28480d-0d06-43a3-8c8b-8a272a643080",
   "metadata": {},
   "outputs": [],
   "source": [
    "df_nxt_new = pd.DataFrame({'sample_id': new_ass, 'genome_cov': new_gen_cov})"
   ]
  },
  {
   "cell_type": "code",
   "execution_count": 94,
   "id": "89ed4218-dd6a-46f3-a9fb-5f9a58af4d1d",
   "metadata": {},
   "outputs": [],
   "source": [
    "df_nxt_new[df_nxt_new['genome_cov'] >= 80.0].to_excel('/home/douso/Gisaid/ONT/over80_id_ont-2.xlsx')"
   ]
  },
  {
   "cell_type": "code",
   "execution_count": null,
   "id": "f15e320b-2598-4402-9170-bbb26eee1803",
   "metadata": {},
   "outputs": [],
   "source": []
  }
 ],
 "metadata": {
  "kernelspec": {
   "display_name": "Python 3",
   "language": "python",
   "name": "python3"
  },
  "language_info": {
   "codemirror_mode": {
    "name": "ipython",
    "version": 3
   },
   "file_extension": ".py",
   "mimetype": "text/x-python",
   "name": "python",
   "nbconvert_exporter": "python",
   "pygments_lexer": "ipython3",
   "version": "3.8.10"
  }
 },
 "nbformat": 4,
 "nbformat_minor": 5
}
