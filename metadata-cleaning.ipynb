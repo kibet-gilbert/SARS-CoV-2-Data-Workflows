{
 "cells": [
  {
   "cell_type": "markdown",
   "metadata": {},
   "source": [
    "$15^{th}$ Jul 2021"
   ]
  },
  {
   "cell_type": "code",
   "execution_count": 1,
   "metadata": {},
   "outputs": [],
   "source": [
    "import pandas as pd\n",
    "import seaborn as sns\n",
    "import numpy as np\n",
    "import glob, os, re\n",
    "import warnings\n",
    "import matplotlib.pyplot as plt\n",
    "from datetime import  datetime\n",
    "from ipywidgets import widgets, interactive"
   ]
  },
  {
   "cell_type": "code",
   "execution_count": 2,
   "metadata": {
    "tags": []
   },
   "outputs": [],
   "source": [
    "dt = datetime.today().strftime(format='%d-%m-%Y')"
   ]
  },
  {
   "cell_type": "markdown",
   "metadata": {},
   "source": [
    "### **Functions**"
   ]
  },
  {
   "cell_type": "code",
   "execution_count": 3,
   "metadata": {},
   "outputs": [],
   "source": [
    "def replace(string, substitutions):\n",
    "    substrings = sorted(substitutions, key=len, reverse=True)\n",
    "    regex = re.compile('|'.join(map(re.escape, substrings)))\n",
    "    return regex.sub(lambda match: substitutions[match.group(0)], string)"
   ]
  },
  {
   "cell_type": "code",
   "execution_count": 4,
   "metadata": {},
   "outputs": [],
   "source": [
    "def rename_cols_subset_df(df, cols):\n",
    "    df_new = df.copy()\n",
    "    df_new.columns = list(map(lambda x: x.split('(')[0].strip(' _'), [col.replace(' ', '_').replace('\\n', '_').upper() for col in df.columns]))\n",
    "    df_cln = df_new[df_new['SAMPLE_NUMBER'].notna()]\n",
    "    return df_cln[cols]"
   ]
  },
  {
   "cell_type": "code",
   "execution_count": 5,
   "metadata": {},
   "outputs": [],
   "source": [
    "def cov_names(x):\n",
    "    x = x.upper().replace(' ', '')\n",
    "    if len(x) == 8:\n",
    "        x = x.replace('COVC', 'COVC0')\n",
    "    elif len(x) == 7:\n",
    "        x = x.replace('COVC', 'COVC00')\n",
    "    elif len(x) == 6:\n",
    "        x = x.replace('COVC', 'COVC000')\n",
    "    elif len(x) == 5:\n",
    "        x = x.replace('COVC', 'COVC0000')\n",
    "    return x"
   ]
  },
  {
   "cell_type": "code",
   "execution_count": 6,
   "metadata": {},
   "outputs": [],
   "source": [
    "def my_date_parser(x):\n",
    "    try:\n",
    "        if type(x) == pd.Timestamp:\n",
    "            return x#.strftime('%d-%m-%Y')\n",
    "        if type(x) != pd.Timestamp and type(x) != (int, float, pd.NaT):\n",
    "            return pd.to_datetime(x, errors='coerce', dayfirst=True)#.strftime('%d-%m-%Y')\n",
    "        if x in ['None indicated', 'NIL', 'Not indicated on form ',\n",
    "                    'Nil', 'None indicated', 'Leaked Sample - Empty', 'nan']:\n",
    "            return pd.NaT\n",
    "    except (ValueError, AttributeError):\n",
    "        return pd.NaT"
   ]
  },
  {
   "cell_type": "code",
   "execution_count": 7,
   "metadata": {},
   "outputs": [],
   "source": [
    "def cln_results(x):\n",
    "    if isinstance(x, str):\n",
    "        x = x.strip().lower()\n",
    "        if 'neg' in x:\n",
    "            x = x.replace(x, 'Negative')\n",
    "        elif 'pos' in x:\n",
    "            x = x.replace(x, 'Positive')\n",
    "        elif x == 'inconclusive':\n",
    "            x = x.replace(x, 'Negative')\n",
    "    return x\n",
    "        "
   ]
  },
  {
   "cell_type": "markdown",
   "metadata": {},
   "source": [
    "### **Establish parent directory**"
   ]
  },
  {
   "cell_type": "code",
   "execution_count": 8,
   "metadata": {},
   "outputs": [],
   "source": [
    "# uniqueness in directory and file names is assumed for all analyses\n",
    "sars_dir = \"SARS-CoV-2\"\n",
    "home_dir = os.getenv('HOME')\n",
    "parent_dir = glob.glob(f'{home_dir}/**/{sars_dir}', recursive=True)[0]"
   ]
  },
  {
   "cell_type": "code",
   "execution_count": 9,
   "metadata": {},
   "outputs": [],
   "source": [
    "cols_of_interest = ['CASE_ID','SAMPLE_NUMBER', 'NAME', 'AGE', 'AGE_UNIT', 'GENDER', 'OCCUPATION', 'NATIONALITY'\n",
    "           , 'COUNTY_OF_RESIDENCE', 'SUB_COUNTY_OF_RESIDENCE', 'HAS_TRAVEL_HOSTORY', 'TRAVEL_FROM'\n",
    "           , 'QUARANTINE_FACILITY/HOSPITAL/HOMESTEAD', 'SYMTOMS_SHOWN', 'SAMPLE_TYPE', 'DATE_OF_SAMPLE_COLLECTION'\n",
    "           , 'DATE_SAMPLE_RECEIVED_IN_THE_LAB', 'RESULT', 'LAB_CONFIRMATION_DATE', 'VACCINATION_STATUS_Y/N'\n",
    "           , 'DOSAGE_C/NC']"
   ]
  },
  {
   "cell_type": "code",
   "execution_count": 10,
   "metadata": {
    "tags": []
   },
   "outputs": [],
   "source": [
    "files = os.listdir(glob.glob(f'{parent_dir}/**/ResultsDBCurated', recursive=True)[0])\n",
    "files = sorted(files)"
   ]
  },
  {
   "cell_type": "code",
   "execution_count": 11,
   "metadata": {},
   "outputs": [],
   "source": [
    "# keyerrors = []\n",
    "# df_raw = pd.DataFrame()\n",
    "# count = 0\n",
    "# for file in files:\n",
    "#     try:\n",
    "#         df_file = pd.read_excel(f'{data_dir}/{file}', header=1)\n",
    "#         df_data = rename_cols_subset_df(df_file, 'DATE_SAMPLE_RECEIVED_IN_THE_LAB')\n",
    "# #         df_raw = df_raw.append(df_data)\n",
    "#         count += 1\n",
    "#     except: \n",
    "#         if KeyError:\n",
    "#             keyerrors.append(file)\n",
    "#         elif ValueError:\n",
    "#             print(f'ValueError: {file}')\n",
    "#     finally: pass\n",
    "# print(len(keyerrors))\n",
    "# sorted(keyerrors)"
   ]
  },
  {
   "cell_type": "code",
   "execution_count": 12,
   "metadata": {},
   "outputs": [],
   "source": [
    "# files = ['COVID-19-Test_result_Reporting_01_07_2020-A.xlsx',\n",
    "#  'COVID-19-Test_result_Reporting_01_07_2020-B.xlsx',\n",
    "#  'COVID-19-Test_result_Reporting_05_09_2020-A.xlsx',\n",
    "#  'COVID-19-Test_result_Reporting_05_09_2020-B.xlsx',\n",
    "#  'COVID-19-Test_result_Reporting_08_09_2020.xlsx',\n",
    "#  'COVID-19-Test_result_Reporting_15_07_2020.xlsx',\n",
    "#  'COVID-19-Test_result_Reporting_18_06_2020.xlsx',\n",
    "#  'COVID-19-Test_result_Reporting_31_07_2020-A.xlsx',\n",
    "#  'COVID-19-Test_result_Reporting_31_07_2020-B.xlsx']"
   ]
  },
  {
   "cell_type": "code",
   "execution_count": 13,
   "metadata": {},
   "outputs": [],
   "source": [
    "# for file in files:\n",
    "#     df = pd.read_excel(f'{data_dir}/{file}', header=1)\n",
    "#     try:\n",
    "#         df.insert(27, 'DATE SAMPLE RECEIVED IN THE LAB', pd.NaT)\n",
    "#         df.to_excel(f'/home/douso/Documents/TrendData/Results/add_col/{file}', index=False, startrow=1)\n",
    "#     except:\n",
    "#         raise\n",
    "#         print (f'Error: {file}')\n",
    "#     finally: pass"
   ]
  },
  {
   "cell_type": "code",
   "execution_count": 14,
   "metadata": {},
   "outputs": [],
   "source": [
    "# keyerrors = []\n",
    "# df_raw = pd.DataFrame()\n",
    "# count = 0\n",
    "# for file in files:\n",
    "#     try:\n",
    "#         df_file = pd.read_excel(f'{data_dir}/{file}', header=1)\n",
    "#         df_data = rename_cols_subset_df(df_file, cols_of_interest)\n",
    "#         df_raw = df_raw.append(df_data)\n",
    "#         count += 1\n",
    "#     except: \n",
    "#         if KeyError:\n",
    "#             keyerrors.append(file)\n",
    "#         elif ValueError:\n",
    "#             print(f'ValueError: {file}')\n",
    "#     finally: pass\n",
    "# print(len(keyerrors))\n",
    "# sorted(keyerrors)"
   ]
  },
  {
   "cell_type": "code",
   "execution_count": 15,
   "metadata": {},
   "outputs": [],
   "source": [
    "headers = ['TESTING LAB', 'CASE ID', 'TYPE OF CASE'\n",
    "       , 'SAMPLE NUMBER', 'NAME', 'ID/PASSPORT NUMBER', 'AGE'\n",
    "       , 'AGE UNIT', 'GENDER', 'PHONE NUMBER'\n",
    "       , 'OCCUPATION', 'NATIONALITY', 'COUNTY OF RESIDENCE'\n",
    "       , 'SUB COUNTY OF RESIDENCE', 'VILLAGE/ESTATE OF RESIDENCE', 'WARD'\n",
    "       , 'COUNTY OF DIAGNOSIS', 'HAS TRAVEL HOSTORY'\n",
    "       , 'TRAVEL FROM', 'CONTACT WITH CASE Y/N', 'CONFIRMED CASE NAME'\n",
    "       , 'QUARANTINE FACILITY/HOSPITAL/HOMESTEAD', 'HAVE SYMPTOMS Y/N'\n",
    "       , 'DATE OF ONSET OF SYMPTOMS', 'SYMTOMS SHOWN'\n",
    "       , 'SAMPLE TYPE', 'DATE OF SAMPLE COLLECTION', 'DATE SAMPLE RECEIVED IN THE LAB'\n",
    "       , 'RESULT', 'LAB CONFIRMATION DATE', 'VACCINATION STATUS Y/N', 'DOSAGE C/NC']"
   ]
  },
  {
   "cell_type": "code",
   "execution_count": 16,
   "metadata": {},
   "outputs": [],
   "source": [
    "id_headers = ['SAMPLE_NUMBER', 'NAME', 'ID/PASSPORT_NUMBER', 'AGE',\n",
    "       'AGE_UNIT', 'GENDER', 'PHONE_NUMBER', 'RESULT',\n",
    "       'LAB_CONFIRMATION_DATE']"
   ]
  },
  {
   "cell_type": "code",
   "execution_count": 17,
   "metadata": {},
   "outputs": [],
   "source": [
    "# for file in keyerrors[:-1]:\n",
    "#     df_file = pd.read_excel(f'{data_dir}/{file}', header=1)\n",
    "#     df_file.columns = headers\n",
    "#     df_file.to_excel(f'{data_dir}/add_col2/{file}', startrow=1)"
   ]
  },
  {
   "cell_type": "markdown",
   "metadata": {},
   "source": [
    "The following 60 sheets, besides some June sheets (manually fixed earlier), lacked the `DATE_SAMPLE_RECEIVED_IN_THE_LAB` column, it was added for uniformity:\n",
    "\n",
    "- 'COVID-19-Test_result_Reporting_01_07_2020.xlsx'\n",
    "- 'COVID-19-Test_result_Reporting_01_09_2020.xlsx'\n",
    "- 'COVID-19-Test_result_Reporting_02_09_2020.xlsx'\n",
    "- 'COVID-19-Test_result_Reporting_03_07_2020.xlsx'\n",
    "- 'COVID-19-Test_result_Reporting_03_08_2020.xlsx'\n",
    "- 'COVID-19-Test_result_Reporting_03_09_2020.xlsx'\n",
    "- 'COVID-19-Test_result_Reporting_04_07_2020.xlsx'\n",
    "- 'COVID-19-Test_result_Reporting_04_08_2020.xlsx'\n",
    "- 'COVID-19-Test_result_Reporting_04_09_2020.xlsx'\n",
    "- 'COVID-19-Test_result_Reporting_05_07_2020.xlsx'\n",
    "- 'COVID-19-Test_result_Reporting_05_08_2020.xlsx'\n",
    "- 'COVID-19-Test_result_Reporting_05_09_2020.xlsx'\n",
    "- 'COVID-19-Test_result_Reporting_06_07_2020.xlsx'\n",
    "- 'COVID-19-Test_result_Reporting_06_08_2020.xlsx'\n",
    "- 'COVID-19-Test_result_Reporting_07_07_2020.xlsx'\n",
    "- 'COVID-19-Test_result_Reporting_07_08_2020.xlsx'\n",
    "- 'COVID-19-Test_result_Reporting_07_09_2020.xlsx'\n",
    "- 'COVID-19-Test_result_Reporting_08_07_2020.xlsx'\n",
    "- 'COVID-19-Test_result_Reporting_08_08_2020.xlsx'\n",
    "- 'COVID-19-Test_result_Reporting_09_07_2020.xlsx'\n",
    "- 'COVID-19-Test_result_Reporting_09_08_2020.xlsx'\n",
    "- 'COVID-19-Test_result_Reporting_10_08_2020.xlsx'\n",
    "- 'COVID-19-Test_result_Reporting_11_08_2020.xlsx'\n",
    "- 'COVID-19-Test_result_Reporting_12_08_2020.xlsx'\n",
    "- 'COVID-19-Test_result_Reporting_13_07_2020.xlsx'\n",
    "- 'COVID-19-Test_result_Reporting_13_08_2020.xlsx'\n",
    "- 'COVID-19-Test_result_Reporting_14_07_2020.xlsx'\n",
    "- 'COVID-19-Test_result_Reporting_14_08_2020.xlsx'\n",
    "- 'COVID-19-Test_result_Reporting_15_08_2020-A.xlsx'\n",
    "- 'COVID-19-Test_result_Reporting_15_08_2020-B.xlsx'\n",
    "- 'COVID-19-Test_result_Reporting_16_06_2020.xlsx'\n",
    "- 'COVID-19-Test_result_Reporting_16_10_2020 (1).xlsx'\n",
    "- 'COVID-19-Test_result_Reporting_17_07_2020.xlsx'\n",
    "- 'COVID-19-Test_result_Reporting_17_08_2020.xlsx'\n",
    "- 'COVID-19-Test_result_Reporting_18_07_2020.xlsx'\n",
    "- 'COVID-19-Test_result_Reporting_18_08_2020.xlsx'\n",
    "- 'COVID-19-Test_result_Reporting_19_06_2020.xlsx'\n",
    "- 'COVID-19-Test_result_Reporting_19_08_2020.xlsx'\n",
    "- 'COVID-19-Test_result_Reporting_20_06_2020.xlsx'\n",
    "- 'COVID-19-Test_result_Reporting_20_08_2020.xlsx'\n",
    "- 'COVID-19-Test_result_Reporting_21_06_2020.xlsx'\n",
    "- 'COVID-19-Test_result_Reporting_21_07_2020.xlsx'\n",
    "- 'COVID-19-Test_result_Reporting_21_08_2020.xlsx'\n",
    "- 'COVID-19-Test_result_Reporting_22_08_2020.xlsx'\n",
    "- 'COVID-19-Test_result_Reporting_23_07_2020.xlsx'\n",
    "- 'COVID-19-Test_result_Reporting_24_06_2020.xlsx'\n",
    "- 'COVID-19-Test_result_Reporting_24_07_2020.xlsx'\n",
    "- 'COVID-19-Test_result_Reporting_24_08_2020-A.xlsx'\n",
    "- 'COVID-19-Test_result_Reporting_24_08_2020-B.xlsx'\n",
    "- 'COVID-19-Test_result_Reporting_25_06_2020.xlsx'\n",
    "- 'COVID-19-Test_result_Reporting_25_08_2020.xlsx'\n",
    "- 'COVID-19-Test_result_Reporting_27_06_2020.xlsx'\n",
    "- 'COVID-19-Test_result_Reporting_27_07_2020.xlsx'\n",
    "- 'COVID-19-Test_result_Reporting_27_08_2020.xlsx'\n",
    "- 'COVID-19-Test_result_Reporting_28_06_2020.xlsx'\n",
    "- 'COVID-19-Test_result_Reporting_28_07_2020.xlsx'\n",
    "- 'COVID-19-Test_result_Reporting_28_08_2020.xlsx'\n",
    "- 'COVID-19-Test_result_Reporting_29_06_2020.xlsx'\n",
    "- 'COVID-19-Test_result_Reporting_29_07_2020.xlsx'\n",
    "- 'COVID-19-Test_result_Reporting_29_08_2020.xlsx'"
   ]
  },
  {
   "cell_type": "code",
   "execution_count": 18,
   "metadata": {},
   "outputs": [],
   "source": [
    "# for file in files:\n",
    "#     df = pd.read_excel(f'{data_dir}/{file}', header=1)\n",
    "#     try:\n",
    "#         df.insert(27, 'DATE SAMPLE RECEIVED IN THE LAB', np.nan)\n",
    "#         df.to_excel(f'{data_dir}/add_col/{file}', index=False, startrow=1)\n",
    "#     except:\n",
    "#         raise\n",
    "#         print (f'Error: {file}')\n",
    "#     finally: pass"
   ]
  },
  {
   "cell_type": "markdown",
   "metadata": {},
   "source": [
    "The follwing sheets have missing values for the `RESULT` column:\n",
    "- 'COVID-19-Test_result_Reporting_20_06_2020.xlsx'\n",
    "- 'COVID-19-Test_result_Reporting_16_06_2020.xlsx'"
   ]
  },
  {
   "cell_type": "markdown",
   "metadata": {},
   "source": [
    "Updated column names of some of the Jun files ['GENDER_(M/F)', 'LAB_CONFIRMATION_DATE', 'RESULT']"
   ]
  },
  {
   "cell_type": "code",
   "execution_count": 19,
   "metadata": {},
   "outputs": [],
   "source": [
    "# df_raw = pd.DataFrame()\n",
    "# count = 0\n",
    "# for file in files:\n",
    "#     if file.endswith('.xlsx'):\n",
    "#         try:\n",
    "#             df_file = pd.read_excel(f'{data_dir}/{file}', header=1)\n",
    "#             df_data = rename_cols_subset_df(df_file, cols_of_interest)\n",
    "#             df_raw = df_raw.append(df_data)\n",
    "#             count += 1\n",
    "#         except: \n",
    "#             if KeyError:\n",
    "# #                 raise\n",
    "#                 print(f'KeyError: {file}')\n",
    "#             elif ValueError:\n",
    "#                 print(f'ValueError: {file}')\n",
    "#         finally: pass\n",
    "#     pass\n",
    "# print(f'Files processed: {count}')\n",
    "# print(f'Files in the folder: {len(files)}')"
   ]
  },
  {
   "cell_type": "markdown",
   "metadata": {},
   "source": [
    "### Travel History Missing - the HOSTORY misspelling\n",
    "\n",
    "- COVID-19-Test_result_Reporting_09_09_2020.xlsx\n",
    "- COVID-19-Test_result_Reporting_11_09_2020.xlsx\n",
    "- COVID-19-Test_result_Reporting_12_09_2020.xlsx\n",
    "- COVID-19-Test_result_Reporting_14_09_2020.xlsx\n",
    "- COVID-19-Test_result_Reporting_15_09_2020.xlsx\n",
    "- COVID-19-Test_result_Reporting_18_10_2020.xlsx\n",
    "- Files processed: 249\n",
    "- Files in the folder: 256"
   ]
  },
  {
   "cell_type": "code",
   "execution_count": 20,
   "metadata": {},
   "outputs": [],
   "source": [
    "# keyerrors = []\n",
    "# # df_raw = pd.DataFrame()\n",
    "# count = 0\n",
    "# for file in files:\n",
    "#     try:\n",
    "#         df_file = pd.read_excel(f'{data_dir}/{file}', header=1)\n",
    "#         df_data = rename_cols_subset_df(df_file, cols_of_interest)\n",
    "# #         df_raw = df_raw.append(df_data)\n",
    "#         count += 1\n",
    "#     except: \n",
    "#         if KeyError:\n",
    "#             keyerrors.append(file)\n",
    "#         elif ValueError:\n",
    "#             print(f'ValueError: {file}')\n",
    "#     finally: pass\n",
    "# print(len(keyerrors))\n",
    "# sorted(keyerrors)"
   ]
  },
  {
   "cell_type": "code",
   "execution_count": 21,
   "metadata": {},
   "outputs": [],
   "source": [
    "# files = ['COVID-19-Test_result_Reporting_09_09_2020.xlsx',\n",
    "#  'COVID-19-Test_result_Reporting_11_09_2020.xlsx',\n",
    "#  'COVID-19-Test_result_Reporting_12_09_2020.xlsx',\n",
    "#  'COVID-19-Test_result_Reporting_14_09_2020.xlsx',\n",
    "#  'COVID-19-Test_result_Reporting_15_09-2020.xlsx',\n",
    "#  'COVID-19-Test_result_Reporting_18_10_2020.xlsx']"
   ]
  },
  {
   "cell_type": "code",
   "execution_count": 22,
   "metadata": {},
   "outputs": [],
   "source": [
    "# for file in files:\n",
    "#     df_file = pd.read_excel(f'{data_dir}/{file}', header=1)\n",
    "#     (df_file.rename(columns={'HAS TRAVEL HISTORY(LAST 14 DAYS) Y/N': 'HAS TRAVEL HOSTORY(LAST 14 DAYS) Y/N'}, errors='raise').\n",
    "#     to_excel(f'{data_dir}/rename_col/{file}', index=False, startrow=1))"
   ]
  },
  {
   "cell_type": "markdown",
   "metadata": {},
   "source": [
    "### Start of find repeat tests"
   ]
  },
  {
   "cell_type": "raw",
   "metadata": {},
   "source": [
    "sorted(list(set(map(lambda x: x.replace('_', ' '), id_headers)) & set(headers))) == sorted(list(map(lambda x: x.replace('_', ' '), id_headers)))"
   ]
  },
  {
   "cell_type": "raw",
   "metadata": {},
   "source": [
    "df_raw_ids = pd.DataFrame()\n",
    "count = 0\n",
    "for file in files:\n",
    "    if file.endswith('.xlsx'):\n",
    "        try:\n",
    "            df_file = pd.read_excel(f'{data_dir}/{file}', header=1)\n",
    "            if (sorted(list(set(map(lambda x: x.replace('_', ' '), \n",
    "                id_headers)) & set(headers))) == sorted(list(map(lambda x: \n",
    "                x.replace('_', ' '), id_headers)))):\n",
    "                df_data = rename_cols_subset_df(df_file, id_headers)\n",
    "                df_raw_ids = df_raw_ids.append(df_data)\n",
    "                count += 1\n",
    "            \n",
    "        except: \n",
    "            if KeyError:\n",
    "                print(f'KeyError: {file}')\n",
    "                raise\n",
    "                print(f'KeyError: {file}')\n",
    "            elif ValueError:\n",
    "                print(f'ValueError: {file}')\n",
    "        finally: pass\n",
    "    pass\n",
    "print(f'Files processed: {count}')\n",
    "print(f'Files in the folder: {len(files)}')"
   ]
  },
  {
   "cell_type": "raw",
   "metadata": {},
   "source": [
    "df_raw_ids['LAB_CONFIRMATION_DATE'] = df_raw_ids['LAB_CONFIRMATION_DATE'].apply(lambda x: pd.to_datetime(x, errors='coerce'))"
   ]
  },
  {
   "cell_type": "raw",
   "metadata": {},
   "source": [
    "df_raw_ids.info()#pd.to_datetime('2021-01-01 00:00:00', errors='coerce')"
   ]
  },
  {
   "cell_type": "raw",
   "metadata": {},
   "source": [
    "df_2021 = df_raw_ids[df_raw_ids['LAB_CONFIRMATION_DATE'] > pd.to_datetime('2021-01-01')]# & df_raw_ids['LAB_CONFIRMATION_DATE'] < pd.to_datetime(datetime.now())]\n",
    "df_2021.shape"
   ]
  },
  {
   "cell_type": "raw",
   "metadata": {},
   "source": [
    "df_2021['ID/PASSPORT_NUMBER']=df_2021['ID/PASSPORT_NUMBER'].astype(str).apply(lambda x: x.replace('.0', ''))"
   ]
  },
  {
   "cell_type": "raw",
   "metadata": {},
   "source": [
    "df_2021[df_2021.sort_values('ID/PASSPORT_NUMBER', ignore_index=True).duplicated(['ID/PASSPORT_NUMBER'], False)==True].sort_values('ID/PASSPORT_NUMBER').drop_duplicates(keep=False).sort_values('ID/PASSPORT_NUMBER').to_excel('../SomeFIle.xlsx')#dropna(subset=['ID/PASSPORT_NUMBER'])"
   ]
  },
  {
   "cell_type": "raw",
   "metadata": {},
   "source": [
    "pd.to_datetime(datetime.now())"
   ]
  },
  {
   "cell_type": "raw",
   "metadata": {},
   "source": [
    "df_raw_ids['PHONE_NUMBER']=df_raw_ids['PHONE_NUMBER'].apply(lambda x: str(x).lstrip('0').replace('.0', ''))"
   ]
  },
  {
   "cell_type": "raw",
   "metadata": {},
   "source": [
    "df_ids_phone = df_raw_ids[(df_raw_ids\n",
    "             .sort_values('PHONE_NUMBER', ignore_index=True)#, key=lambda col: col.astype(str))\n",
    "            .duplicated(['PHONE_NUMBER'], keep=False)) == True]\n",
    "df_ids_phone.shape"
   ]
  },
  {
   "cell_type": "raw",
   "metadata": {},
   "source": [
    "phones = df_ids_phone.dropna(subset=['PHONE_NUMBER'])\n",
    "phones.shape"
   ]
  },
  {
   "cell_type": "raw",
   "metadata": {},
   "source": [
    "phones = df_ids_phone[df_ids_phone['PHONE_NUMBER'].isna() == False].sort_values('PHONE_NUMBER', key=lambda col: col.astype(str))\n",
    "phones.shape"
   ]
  },
  {
   "cell_type": "raw",
   "metadata": {},
   "source": [
    "phones.head()#['PHONE_NUMBER']=phones['PHONE_NUMBER'].astype(str).apply(lambda x: x.rstrip('.0'))"
   ]
  },
  {
   "cell_type": "raw",
   "metadata": {},
   "source": [
    "phones2 = phones.sort_values('PHONE_NUMBER').drop_duplicates('PHONE_NUMBER', False)\n",
    "phones2.shape"
   ]
  },
  {
   "cell_type": "raw",
   "metadata": {},
   "source": [
    "phones2_list = list(phones2['PHONE_NUMBER'])"
   ]
  },
  {
   "cell_type": "raw",
   "metadata": {},
   "source": [
    "df_phones_rep = phones[phones['PHONE_NUMBER'].isin(phones2_list) == False].sort_values('SAMPLE_NUMBER').drop_duplicates(['SAMPLE_NUMBER'], False).sort_values('PHONE_NUMBER')\n",
    "df_phones_rep = df_phones_rep[df_phones_rep.duplicated('PHONE_NUMBER', False) == True]\n",
    "df_phones_rep.shape"
   ]
  },
  {
   "cell_type": "raw",
   "metadata": {},
   "source": [
    "df_phones_rep1 = df_phones_rep.drop(df_phones_rep[df_phones_rep['PHONE_NUMBER'].str.contains('ndicat')].index)"
   ]
  },
  {
   "cell_type": "raw",
   "metadata": {},
   "source": [
    "df_phones_rep2 = df_phones_rep1.drop(df_phones_rep1[df_phones_rep1['PHONE_NUMBER'].str.contains('il')].index)\n",
    "df_phones_rep2.head()"
   ]
  },
  {
   "cell_type": "raw",
   "metadata": {},
   "source": [
    "df_phones_rep3 = df_phones_rep1.drop(df_phones_rep1[df_phones_rep1['PHONE_NUMBER'].str.contains('nan')].index)\n",
    "df_phones_rep3"
   ]
  },
  {
   "cell_type": "raw",
   "metadata": {},
   "source": [
    "df_ids_id = df_raw_ids[(df_raw_ids\n",
    "             .sort_values(['ID/PASSPORT_NUMBER'], ignore_index=True, key=lambda col: col.astype(str))\n",
    "            .duplicated(['ID/PASSPORT_NUMBER'], keep=False)) == True]"
   ]
  },
  {
   "cell_type": "raw",
   "metadata": {},
   "source": [
    "ids = df_ids_id[df_ids_id['ID/PASSPORT_NUMBER'].isna() == False].sort_values('ID/PASSPORT_NUMBER', key=lambda col: col.astype(str))"
   ]
  },
  {
   "cell_type": "raw",
   "metadata": {},
   "source": [
    "ids['ID/PASSPORT_NUMBER']=ids['ID/PASSPORT_NUMBER'].astype(str).apply(lambda x: x.rstrip('.0'))"
   ]
  },
  {
   "cell_type": "raw",
   "metadata": {},
   "source": [
    "ids.head()"
   ]
  },
  {
   "cell_type": "raw",
   "metadata": {},
   "source": [
    "COVM01626\tNPHL04/JKIA35539/2021\t29\tM\tNA\tSouth Africa\tNairobi\tNan\tNo\tNA\tNA\tNA\tNP & OP Swab\tNA\t2021-11-29 00:00:00\tNA\t2021-11-29 00:00:00\tNA\tNA\tNA\tNA\tNA\n",
    "ids2 = ids.sort_values('ID/PASSPORT_NUMBER').drop_duplicates('ID/PASSPORT_NUMBER', False)"
   ]
  },
  {
   "cell_type": "raw",
   "metadata": {},
   "source": [
    "ids2_list = list(ids2['ID/PASSPORT_NUMBER'])"
   ]
  },
  {
   "cell_type": "raw",
   "metadata": {},
   "source": [
    "df_ids_rep = ids[ids['ID/PASSPORT_NUMBER'].isin(ids2_list) == False].drop_duplicates(['SAMPLE_NUMBER'], False).sort_values('ID/PASSPORT_NUMBER')\n",
    "df_ids_rep = df_ids_rep[df_ids_rep.duplicated('ID/PASSPORT_NUMBER', False) == True]"
   ]
  },
  {
   "cell_type": "raw",
   "metadata": {},
   "source": [
    "df_ids_rep1 = df_ids_rep.drop(df_ids_rep[df_ids_rep['ID/PASSPORT_NUMBER'].str.contains('ndicat')].index)"
   ]
  },
  {
   "cell_type": "raw",
   "metadata": {},
   "source": [
    "df_ids_rep2 = df_ids_rep1.drop(df_ids_rep1[df_ids_rep1['ID/PASSPORT_NUMBER'].str.contains('il')].index)\n",
    "df_ids_rep2.sort_values(['ID/PASSPORT_NUMBER'])\n",
    "print(df_ids_rep2.shape)\n",
    "df_ids_rep2.head()"
   ]
  },
  {
   "cell_type": "markdown",
   "metadata": {},
   "source": [
    "### End of find repeat tests"
   ]
  },
  {
   "cell_type": "code",
   "execution_count": 23,
   "metadata": {},
   "outputs": [],
   "source": [
    "id_headers = ['SAMPLE_NUMBER', 'NAME', 'AGE',\n",
    "       'AGE_UNIT', 'GENDER', 'RESULT',\n",
    "       'LAB_CONFIRMATION_DATE']"
   ]
  },
  {
   "cell_type": "code",
   "execution_count": 24,
   "metadata": {},
   "outputs": [],
   "source": [
    "warnings.filterwarnings('ignore', module='openpyxl')"
   ]
  },
  {
   "cell_type": "code",
   "execution_count": 25,
   "metadata": {},
   "outputs": [
    {
     "name": "stdout",
     "output_type": "stream",
     "text": [
      "Files processed: 356\n",
      "Files in the folder: 357\n"
     ]
    }
   ],
   "source": [
    "df_raw = pd.DataFrame()\n",
    "count = 0\n",
    "for file in files:\n",
    "    if file.endswith('.xlsx'):\n",
    "        try:\n",
    "            df_file = pd.read_excel(f\"{glob.glob(f'{parent_dir}/**/ResultsDBCurated', recursive=True)[0]}/{file}\", header=1)\n",
    "            if 'VACCINATION STATUS Y/N' not in df_file.columns:\n",
    "                df_file[['VACCINATION_STATUS_Y/N', 'DOSAGE_C/NC']] = [pd.NA, pd.NA]\n",
    "            df_data = rename_cols_subset_df(df_file, cols_of_interest)\n",
    "            df_raw = pd.concat([df_raw,df_data])\n",
    "            count += 1\n",
    "        except:\n",
    "            if KeyError:\n",
    "                print(f'KeyError: {file}')\n",
    "                raise\n",
    "                print(f'KeyError: {file}')\n",
    "            if ValueError:\n",
    "                print(f'ValueError: {file}')\n",
    "#                 raise\n",
    "        finally: pass\n",
    "    pass\n",
    "print(f'Files processed: {count}')\n",
    "print(f'Files in the folder: {len(files)}')"
   ]
  },
  {
   "cell_type": "raw",
   "metadata": {},
   "source": [
    "KeyError: COVID19_Reporting_06-10-2020.xlsx\n",
    "KeyError: COVID19_Reporting_16-09-2020.xlsx\n",
    "KeyError: COVID19_Reporting_17-09-2020.xlsx\n",
    "KeyError: COVID19_Reporting_18-09-2020.xlsx\n",
    "KeyError: COVID19_Reporting_19-09-2020.xlsx\n",
    "KeyError: COVID19_Reporting_25-10-2020-A.xlsx\n",
    "Files processed: 273\n",
    "Files in the folder: 281"
   ]
  },
  {
   "cell_type": "raw",
   "metadata": {},
   "source": [
    "KeyError: COVID-19-Test_result_Reporting_06_10_2020.xlsx\n",
    "KeyError: COVID-19-Test_result_Reporting_16_09_2020.xlsx\n",
    "KeyError: COVID-19-Test_result_Reporting_17_09_2020.xlsx\n",
    "KeyError: COVID-19-Test_result_Reporting_18_09_2020.xlsx\n",
    "KeyError: COVID-19-Test_result_Reporting_19_09_2020.xlsx\n",
    "KeyError: COVID-19-Test_result_Reporting_25_10_2020-B.xlsx\n",
    "KeyError: COVID19_Reporting_06-10-2020.xlsx\n",
    "KeyError: COVID19_Reporting_16-09-2020.xlsx\n",
    "KeyError: COVID19_Reporting_17-09-2020.xlsx\n",
    "KeyError: COVID19_Reporting_18-09-2020.xlsx\n",
    "KeyError: COVID19_Reporting_19-09-2020.xlsx\n",
    "KeyError: COVID19_Reporting_24-10-2020-A.xlsx\n",
    "KeyError: COVID19_Reporting_25-10-2020-A.xlsx\n",
    "KeyError: COVID19_Reporting_27-10-2020.xlsx\n",
    "Files processed: 265\n",
    "Files in the folder: 281"
   ]
  },
  {
   "cell_type": "code",
   "execution_count": 26,
   "metadata": {},
   "outputs": [],
   "source": [
    "# df_raw.head()"
   ]
  },
  {
   "cell_type": "markdown",
   "metadata": {},
   "source": [
    "### **Clean Headers**"
   ]
  },
  {
   "cell_type": "code",
   "execution_count": 27,
   "metadata": {},
   "outputs": [],
   "source": [
    "cols_rename = ['CASE_ID', 'S_NUM', 'AGE', 'AGE_UNIT', 'GEND', 'OCCU', 'NAT', 'COUNT_RES', 'S_COUNT_RES', 'TRAV_HIST', \n",
    "                    'TRAV_FROM', 'QUAR_PLACE', 'SYMPS', 'SAMP_TYPE', 'DT_SAM_COLL', 'DT_SAM_RECEP', 'RESULT', 'DT_CONF', 'VACC_STATUS', 'VACC_DOS']"
   ]
  },
  {
   "cell_type": "code",
   "execution_count": 28,
   "metadata": {},
   "outputs": [],
   "source": [
    "# df_raw.columns = cols_rename"
   ]
  },
  {
   "cell_type": "markdown",
   "metadata": {},
   "source": [
    "### **Clean Sample Numbers**"
   ]
  },
  {
   "cell_type": "code",
   "execution_count": 29,
   "metadata": {},
   "outputs": [],
   "source": [
    "cols_of_interest2 = ['CASE_ID', 'S_NUM', 'NAME', 'AGE', 'AGE_UNIT', 'GEND', 'OCCU', 'NAT', 'COUNT_RES', 'S_COUNT_RES', 'TRAV_HIST', \n",
    "                    'TRAV_FROM', 'QUAR_PLACE', 'SYMPS', 'SAMP_TYPE', 'DT_SAM_COLL', 'DT_SAM_RECEP', 'RESULT', 'DT_CONF', 'VACC_STATUS', 'VACC_DOS']"
   ]
  },
  {
   "cell_type": "code",
   "execution_count": 30,
   "metadata": {},
   "outputs": [],
   "source": [
    "df_raw.to_excel(f\"{glob.glob(f'{parent_dir}/**/Outputs', recursive=True)[0]}/COVID19-results-merged.xlsx\", \n",
    "              index=False, header=cols_of_interest2)"
   ]
  },
  {
   "cell_type": "code",
   "execution_count": 31,
   "metadata": {},
   "outputs": [],
   "source": [
    "df_mrg_mtdata = pd.read_excel(f\"{glob.glob(f'{parent_dir}/**/Outputs', recursive=True)[0]}/COVID19-results-merged.xlsx\", usecols=cols_rename)"
   ]
  },
  {
   "cell_type": "markdown",
   "metadata": {},
   "source": [
    "### **Clean Sample Name**"
   ]
  },
  {
   "cell_type": "code",
   "execution_count": 32,
   "metadata": {},
   "outputs": [],
   "source": [
    "df_name = df_mrg_mtdata.assign(S_NUM=df_mrg_mtdata['S_NUM'].apply(lambda x: cov_names(x)).fillna('NA'))"
   ]
  },
  {
   "cell_type": "code",
   "execution_count": 33,
   "metadata": {},
   "outputs": [],
   "source": [
    "#df_name[df_name['S_NUM'].str.len() < 8]"
   ]
  },
  {
   "cell_type": "code",
   "execution_count": 34,
   "metadata": {},
   "outputs": [],
   "source": [
    "#df_name[df_name['S_NUM'].str.contains('COVC') == False]"
   ]
  },
  {
   "cell_type": "markdown",
   "metadata": {},
   "source": [
    "### **Clean Age**"
   ]
  },
  {
   "cell_type": "code",
   "execution_count": 35,
   "metadata": {
    "tags": []
   },
   "outputs": [],
   "source": [
    "#df_name[df_name['AGE_UNIT'] == 'Days']"
   ]
  },
  {
   "cell_type": "code",
   "execution_count": 36,
   "metadata": {
    "tags": []
   },
   "outputs": [],
   "source": [
    "df_months = df_name[df_name['AGE_UNIT'] == 'Months']"
   ]
  },
  {
   "cell_type": "code",
   "execution_count": 37,
   "metadata": {
    "tags": []
   },
   "outputs": [],
   "source": [
    "#df_months.head()"
   ]
  },
  {
   "cell_type": "code",
   "execution_count": 38,
   "metadata": {
    "tags": []
   },
   "outputs": [],
   "source": [
    "df_mn2yrs = df_months.assign(AGE=df_months['AGE'].map(lambda x: round(x / 12, 1))).replace('Months', 'Years')"
   ]
  },
  {
   "cell_type": "code",
   "execution_count": 39,
   "metadata": {},
   "outputs": [],
   "source": [
    "#df_mn2yrs.head()"
   ]
  },
  {
   "cell_type": "code",
   "execution_count": 40,
   "metadata": {},
   "outputs": [],
   "source": [
    "#df_name[df_name['AGE_UNIT'] == 'Days']#.AGE_UNIT.unique()"
   ]
  },
  {
   "cell_type": "code",
   "execution_count": 41,
   "metadata": {},
   "outputs": [],
   "source": [
    "df_not_months = df_name[df_name['AGE_UNIT'] != 'Months']"
   ]
  },
  {
   "cell_type": "code",
   "execution_count": 42,
   "metadata": {},
   "outputs": [
    {
     "data": {
      "text/plain": [
       "(30131, 20)"
      ]
     },
     "execution_count": 42,
     "metadata": {},
     "output_type": "execute_result"
    }
   ],
   "source": [
    "df_not_months.shape"
   ]
  },
  {
   "cell_type": "code",
   "execution_count": 43,
   "metadata": {},
   "outputs": [
    {
     "data": {
      "text/plain": [
       "(78, 20)"
      ]
     },
     "execution_count": 43,
     "metadata": {},
     "output_type": "execute_result"
    }
   ],
   "source": [
    "df_mn2yrs.shape"
   ]
  },
  {
   "cell_type": "code",
   "execution_count": 44,
   "metadata": {},
   "outputs": [],
   "source": [
    "df_years = pd.concat([df_not_months, df_mn2yrs])"
   ]
  },
  {
   "cell_type": "code",
   "execution_count": 45,
   "metadata": {},
   "outputs": [
    {
     "data": {
      "text/plain": [
       "(30209, 20)"
      ]
     },
     "execution_count": 45,
     "metadata": {},
     "output_type": "execute_result"
    }
   ],
   "source": [
    "df_years.shape"
   ]
  },
  {
   "cell_type": "code",
   "execution_count": 46,
   "metadata": {},
   "outputs": [
    {
     "data": {
      "text/plain": [
       "array(['Years', nan, 'YEARS', 'years', 'Nil', 'Days'], dtype=object)"
      ]
     },
     "execution_count": 46,
     "metadata": {},
     "output_type": "execute_result"
    }
   ],
   "source": [
    "df_years['AGE_UNIT'].unique()"
   ]
  },
  {
   "cell_type": "code",
   "execution_count": 47,
   "metadata": {},
   "outputs": [],
   "source": [
    "#df_years[df_years['AGE_UNIT'] == 'NO PATIENT DATASHEET']"
   ]
  },
  {
   "cell_type": "code",
   "execution_count": 48,
   "metadata": {},
   "outputs": [],
   "source": [
    "#df_years[df_years['AGE_UNIT'].str.contains('M', 'F') == True]"
   ]
  },
  {
   "cell_type": "code",
   "execution_count": 49,
   "metadata": {},
   "outputs": [],
   "source": [
    "#df_years[df_years['AGE_UNIT'] == 'Nil']"
   ]
  },
  {
   "cell_type": "code",
   "execution_count": 50,
   "metadata": {},
   "outputs": [],
   "source": [
    "df_years_drop_age_unit = df_years.drop('AGE_UNIT', axis=1)"
   ]
  },
  {
   "cell_type": "code",
   "execution_count": 51,
   "metadata": {},
   "outputs": [],
   "source": [
    "df_years_rencol = df_years_drop_age_unit.rename(columns={'AGE': 'AGE_YRS'})"
   ]
  },
  {
   "cell_type": "code",
   "execution_count": 52,
   "metadata": {},
   "outputs": [],
   "source": [
    "#df_years_rencol.head()"
   ]
  },
  {
   "cell_type": "code",
   "execution_count": 53,
   "metadata": {},
   "outputs": [
    {
     "data": {
      "text/plain": [
       "array([80, 43, 69, 82, 29, 78, 2, 48, 77, 87, 66, 36, 25, 63, 65, 70, 19,\n",
       "       22, 23, 81, 42, 68, 54, 73, 28, 13, 72, 76, 89, 75, 85, 60, 37, 11,\n",
       "       64, 38, 9, 27, 40, 24, 30, 4, 26, 20, 61, 46, 58, 21, 34, 14, 39,\n",
       "       33, 52, nan, 55, 50, 41, 1, 47, 31, 45, 6, 5, 15, 10, 35, 67, 44,\n",
       "       17, 51, 57, 49, 32, 16, 59, 56, 18, 79, 83, 12, 74, 53, 71, 86, 62,\n",
       "       7, 8, 84, 312, 88, 3, 3.6, 1.5, 2.42, 'None indicated', 6.5, 2.5,\n",
       "       97, 'Nil', 96, 'Not indicated', 743, 'None', 9.5, 'nil', 98,\n",
       "       'none indicated', 90, 91, 100, 101, 92, 'not_indicated', 5.5,\n",
       "       'Not Indicated', '37', '36', '40', '38', '29', 94, 105, 0.5,\n",
       "       'not Indicated', '30', '44', '33', '27', '26', '51', '28',\n",
       "       'None Indicated', 0.8, 46.7, 0, 0.9, 0.1, 1.6, 1.1, 2.9, 3.7, 0.2,\n",
       "       1.7, 0.3, 2.8, 0.7, 1.2, 2.1, 0.4, 4.5, 1.8, 0.6], dtype=object)"
      ]
     },
     "execution_count": 53,
     "metadata": {},
     "output_type": "execute_result"
    }
   ],
   "source": [
    "df_years_rencol['AGE_YRS'].unique()"
   ]
  },
  {
   "cell_type": "code",
   "execution_count": 54,
   "metadata": {},
   "outputs": [],
   "source": [
    "# [x for x in df_years_rencol['AGE_YRS'].unique() if isinstance(x, str)]"
   ]
  },
  {
   "cell_type": "code",
   "execution_count": 55,
   "metadata": {},
   "outputs": [],
   "source": [
    "to_rep = ['None indicated',\n",
    " 'Nil',\n",
    " 'Not indicated',\n",
    " 'None',\n",
    " 'nil',\n",
    " 'none indicated',\n",
    " 'not_indicated',\n",
    " 'Not Indicated',\n",
    " 'not Indicated',\n",
    " 'None Indicated',\n",
    " 'NO PATIENT DATASHEET',\n",
    " 'ad', 'AD'\n",
    "]"
   ]
  },
  {
   "cell_type": "code",
   "execution_count": 56,
   "metadata": {},
   "outputs": [],
   "source": [
    "df_years_repnan2float = df_years_rencol.assign(AGE_YRS=df_years_rencol['AGE_YRS'].replace(to_rep, np.nan).astype(float).fillna(np.nan))"
   ]
  },
  {
   "cell_type": "code",
   "execution_count": 57,
   "metadata": {},
   "outputs": [],
   "source": [
    "#df_years_repnan2float"
   ]
  },
  {
   "cell_type": "markdown",
   "metadata": {},
   "source": [
    "### **Clean Gender**"
   ]
  },
  {
   "cell_type": "code",
   "execution_count": 58,
   "metadata": {},
   "outputs": [
    {
     "data": {
      "text/plain": [
       "array(['M', 'F', nan, 'f', 'Female', 'Male', 'F`', 'MALE ', 'MALE', 'Nil',\n",
       "       'T', 'm', 'FF', 'MM', 'F '], dtype=object)"
      ]
     },
     "execution_count": 58,
     "metadata": {},
     "output_type": "execute_result"
    }
   ],
   "source": [
    "df_years_repnan2float['GEND'].unique()"
   ]
  },
  {
   "cell_type": "code",
   "execution_count": 59,
   "metadata": {},
   "outputs": [],
   "source": [
    "#df_years_repnan2float[df_years_repnan2float['GEND'].isna()].sort_values('S_NUM')"
   ]
  },
  {
   "cell_type": "code",
   "execution_count": 60,
   "metadata": {},
   "outputs": [],
   "source": [
    "#df_years_repnan2float[df_years_repnan2float['GEND'] == 'Nil']"
   ]
  },
  {
   "cell_type": "markdown",
   "metadata": {},
   "source": [
    "COVEs:\n",
    "- COVC13844\n",
    "- COVC13845\n",
    "- COVC13846\n",
    "- COVC13847\n",
    "- COVC13848\n",
    "- COVC13849\n",
    "- COVC13850\n",
    "- COVC13851\n",
    "- COVC13852\n",
    "- COVC13853\n",
    "- COVC16256\n",
    "- COVC16257"
   ]
  },
  {
   "cell_type": "code",
   "execution_count": 61,
   "metadata": {},
   "outputs": [],
   "source": [
    "df_years_repgender = df_years_repnan2float.assign(GEND=df_years_repnan2float['GEND'].replace(['f', 'Female', 'F`', 'T'], 'F')\n",
    "                                                 .replace(['Male', 'MALE ', 'MALE', 'm'], 'M'))"
   ]
  },
  {
   "cell_type": "code",
   "execution_count": 62,
   "metadata": {},
   "outputs": [
    {
     "data": {
      "text/plain": [
       "array(['M', 'F', nan, 'Nil', 'FF', 'MM', 'F '], dtype=object)"
      ]
     },
     "execution_count": 62,
     "metadata": {},
     "output_type": "execute_result"
    }
   ],
   "source": [
    "df_years_repgender['GEND'].unique()"
   ]
  },
  {
   "cell_type": "code",
   "execution_count": 63,
   "metadata": {},
   "outputs": [],
   "source": [
    "df_years_repgender2 = df_years_repgender.assign(GEND=df_years_repgender['GEND'].replace('Nil', pd.NA).fillna('NA'))"
   ]
  },
  {
   "cell_type": "code",
   "execution_count": 64,
   "metadata": {},
   "outputs": [],
   "source": [
    "# df_years_repgender2['GEND'].unique()"
   ]
  },
  {
   "cell_type": "markdown",
   "metadata": {},
   "source": [
    "### **Clean Occupation**"
   ]
  },
  {
   "cell_type": "code",
   "execution_count": 65,
   "metadata": {},
   "outputs": [],
   "source": [
    "# df_years_repgender2['OCCU'].unique()"
   ]
  },
  {
   "cell_type": "code",
   "execution_count": 66,
   "metadata": {},
   "outputs": [],
   "source": [
    "# df_years_repgender2['OCCU'] = df_years_repgender2['OCCU'].replace(['Nil','nil'], pd.NA)"
   ]
  },
  {
   "cell_type": "code",
   "execution_count": 67,
   "metadata": {},
   "outputs": [
    {
     "data": {
      "text/plain": [
       "1359"
      ]
     },
     "execution_count": 67,
     "metadata": {},
     "output_type": "execute_result"
    }
   ],
   "source": [
    "df_years_repgender2['OCCU'].str.lower().str.strip().nunique()"
   ]
  },
  {
   "cell_type": "code",
   "execution_count": 68,
   "metadata": {},
   "outputs": [
    {
     "data": {
      "text/plain": [
       "1581"
      ]
     },
     "execution_count": 68,
     "metadata": {},
     "output_type": "execute_result"
    }
   ],
   "source": [
    "occu = (df_years_repgender2['OCCU'].str.strip().\n",
    "     apply(lambda x: str(x).replace(str(x), 'NA') if ('nil' == str(x).lower()) else x).\n",
    "     replace('nan', 'NA').fillna('NA'))\n",
    "occu.nunique()"
   ]
  },
  {
   "cell_type": "code",
   "execution_count": 69,
   "metadata": {
    "tags": []
   },
   "outputs": [],
   "source": [
    "df_occu = df_years_repgender2.assign(OCCU=occu)"
   ]
  },
  {
   "cell_type": "markdown",
   "metadata": {},
   "source": [
    "### **Clean Nationality**"
   ]
  },
  {
   "cell_type": "code",
   "execution_count": 70,
   "metadata": {},
   "outputs": [
    {
     "data": {
      "text/plain": [
       "array(['Kenya', 'Zimbabwe', 'Tanzania', 'South Africa',\n",
       "       'United Kingdom (UK)', 'Botswana',\n",
       "       'United States of America (USA)', 'Uganda', 'Netherlands',\n",
       "       'Congo, Democratic Republic of the', 'Burundi', 'Kenyan',\n",
       "       'South Sudan', nan, 'India', 'Canada', 'France', 'Ethiopia',\n",
       "       'Somalia', 'Zambia', 'Germany', 'Sudan', 'Lebanon', 'Sweden',\n",
       "       'Nigeria', 'Benin', 'Cuba', 'Indian', 'Ghana', 'Rwanda',\n",
       "       'Mauritania', 'Denmark', 'Pakistan', 'Brazil', 'Tanzanian',\n",
       "       'Italy', 'Australia', 'Colombia', 'Antigua and Barbuda', 'Hungary',\n",
       "       'Djibouti', 'Finland', 'Senegal', 'kenya', 'Yemen', 'China',\n",
       "       'Turkey', 'Philippines', 'Japan', 'Ireland', 'Tunisia',\n",
       "       'Switzerland', 'Togo', 'Cameroon', 'Spain', 'Burkina Faso',\n",
       "       'Portugal', 'Bangladesh', 'Madagascar', \"Cote d'Ivoire\", 'Egypt',\n",
       "       'KENYAN', 'Greece', 'Bulgaria', 'Nil', 'Mozambique', 'Mali',\n",
       "       'Eritrea', 'Austria', 'Malawi', 'Namibia',\n",
       "       'Congo, Republic of the', 'Sri Lanka', 'United States', 'Jordan',\n",
       "       'Angola', 'Democratic Republic of the Congo', 'ethiopia',\n",
       "       'Mauritius', 'Eswatini'], dtype=object)"
      ]
     },
     "execution_count": 70,
     "metadata": {},
     "output_type": "execute_result"
    }
   ],
   "source": [
    "df_occu['NAT'].unique()"
   ]
  },
  {
   "cell_type": "code",
   "execution_count": 71,
   "metadata": {},
   "outputs": [],
   "source": [
    "df_years_repnat = df_occu.assign(NAT=df_occu['NAT'].replace('Nil', 'Unknown')\n",
    "                                            .replace(['United States', 'Indian'\n",
    "                                                      , 'Congo, Democratic Republic of the'\n",
    "                                                     , 'Congo, Republic of the'] \n",
    "                                                     , ['United States of America (USA)','India'\n",
    "                                                        , 'Democratic Republic of the Congo',\n",
    "                                                       'Republic of the Congo'])\n",
    "                                            .apply(lambda x: str(x).replace(x, 'Kenya') if ('enya' in str(x).lower()) else x).fillna('NA'))"
   ]
  },
  {
   "cell_type": "code",
   "execution_count": 72,
   "metadata": {},
   "outputs": [],
   "source": [
    "# df_years_repnat['NAT'].unique()"
   ]
  },
  {
   "cell_type": "markdown",
   "metadata": {},
   "source": [
    "### **Clean County of Res**"
   ]
  },
  {
   "cell_type": "code",
   "execution_count": 73,
   "metadata": {},
   "outputs": [],
   "source": [
    "#df_years_repnat.head()"
   ]
  },
  {
   "cell_type": "code",
   "execution_count": 74,
   "metadata": {},
   "outputs": [],
   "source": [
    "counties = (df_years_repnat['COUNT_RES']\n",
    "                   .replace(['Nil', 'nan', '', 'Nan', 'Muranga ', 'Murang`a ', 'Niarobi']\n",
    "                            , [pd.NA, pd.NA, pd.NA, pd.NA, \"Murang'a\", \"Murang'a\", 'Nairobi'])\n",
    "                   .apply(lambda x: str(x).strip().capitalize() if (isinstance(x, str)) else x)).fillna('NA')"
   ]
  },
  {
   "cell_type": "code",
   "execution_count": 75,
   "metadata": {},
   "outputs": [],
   "source": [
    "df_years_county = (df_years_repnat.assign(COUNT_RES=counties))#.assign(S_COUNT_RES=s_counties)"
   ]
  },
  {
   "cell_type": "code",
   "execution_count": 76,
   "metadata": {},
   "outputs": [],
   "source": [
    "# df_years_county['COUNT_RES'].unique()"
   ]
  },
  {
   "cell_type": "markdown",
   "metadata": {},
   "source": [
    "### **Clean Subcounty of Res**"
   ]
  },
  {
   "cell_type": "code",
   "execution_count": 77,
   "metadata": {},
   "outputs": [
    {
     "data": {
      "text/plain": [
       "1057"
      ]
     },
     "execution_count": 77,
     "metadata": {},
     "output_type": "execute_result"
    }
   ],
   "source": [
    "df_years_repnat['S_COUNT_RES'].str.lower().nunique()"
   ]
  },
  {
   "cell_type": "code",
   "execution_count": 78,
   "metadata": {},
   "outputs": [
    {
     "data": {
      "text/plain": [
       "975"
      ]
     },
     "execution_count": 78,
     "metadata": {},
     "output_type": "execute_result"
    }
   ],
   "source": [
    "len((df_years_repnat['S_COUNT_RES'].fillna('NA')\n",
    "     .replace(['Nil', 'Nil ', 'Muranga ', 'Murang`a ']\n",
    "                            , [pd.NA, pd.NA, \"Murang'a\", \"Murang'a\"])\n",
    "                   .apply(lambda x: str(x).strip().capitalize())\n",
    "     .unique()))"
   ]
  },
  {
   "cell_type": "code",
   "execution_count": 79,
   "metadata": {},
   "outputs": [],
   "source": [
    "s_counties = (df_years_repnat['S_COUNT_RES'].str.strip().str.capitalize().\n",
    "    replace(['Nil', 'Muranga', 'Murang`a'],\n",
    "    ['NA', \"Murang'a\", \"Murang'a\"]).\n",
    "    apply(lambda x: str(x).replace(str(x), 'NA') if ('indicate' in str(x)) else x))"
   ]
  },
  {
   "cell_type": "code",
   "execution_count": 80,
   "metadata": {},
   "outputs": [],
   "source": [
    "# sorted([s for s in s_counties.unique()])"
   ]
  },
  {
   "cell_type": "code",
   "execution_count": 81,
   "metadata": {},
   "outputs": [],
   "source": [
    "df_years_scounty = df_years_county.assign(S_COUNT_RES=s_counties)"
   ]
  },
  {
   "cell_type": "markdown",
   "metadata": {},
   "source": [
    "### **Clean Travel History**"
   ]
  },
  {
   "cell_type": "code",
   "execution_count": 82,
   "metadata": {},
   "outputs": [],
   "source": [
    "#df_years_scounty.head()"
   ]
  },
  {
   "cell_type": "code",
   "execution_count": 83,
   "metadata": {},
   "outputs": [
    {
     "data": {
      "text/plain": [
       "array(['No', 'Yes', nan, 'Y', 'N', 'JH', 'no', 'NO ', 'Nil', 'YES',\n",
       "       'NONE ', 'NONE', 'y', 'yes', 15.93], dtype=object)"
      ]
     },
     "execution_count": 83,
     "metadata": {},
     "output_type": "execute_result"
    }
   ],
   "source": [
    "df_years_scounty['TRAV_HIST'].unique()"
   ]
  },
  {
   "cell_type": "code",
   "execution_count": 84,
   "metadata": {},
   "outputs": [],
   "source": [
    "df_travl = df_years_scounty.assign(TRAV_HIST=df_years_scounty['TRAV_HIST'].replace([pd.NA, 'N', 'no', 'NO', 'Nil', 'NONE ', 'NONE'], 'No')\n",
    "           .replace(['YES', 'Y', 'y', 'yes'], 'Yes'))\n"
   ]
  },
  {
   "cell_type": "code",
   "execution_count": 85,
   "metadata": {},
   "outputs": [
    {
     "data": {
      "text/plain": [
       "array([nan, 'Nairobi', 'South Africa', 'Eldoret', 'Busia',\n",
       "       'Kisumu;Garissa', 'Kisii', 'Kitale', 'Homabay', 'Eldama-Ravine',\n",
       "       'KITUI;NAIROBI', 'KISUMU', 'UGANDA', 'KISUMU;KITUI', 'NAIROBI',\n",
       "       'NAKURU;TURKANA', 'CANADA', 'FRANCE', 'SAUDI ARABIA',\n",
       "       'ITEN-KENDUR', 'BUNGOMA', 'EMBU', 'cuba', 'ELDORET', 'NANDI HILLS',\n",
       "       'KERICHO', 'KAKAMEGA', 'KAPENGURIA', 'NAIROBI;NAKURU;ELDORET',\n",
       "       'BUSIA;NAKURU', 'SIAYA', 'TANZANIA', 'Nyamira',\n",
       "       'Kendu-Bay;Kisii;Kisumu;Homabay;Oyugis', 'Mumias, Oyugis, Homabay',\n",
       "       'NAIVASHA', 'NAIROBI;NYERI;NANYUKI', 'NIL', 'Ruaka', 'Ngoingwa',\n",
       "       'Limuru', 'Thika', 'Embakasi', 'Uganda', 'Dubai', 'Nil',\n",
       "       'Not indicated on form ', 'TORORO UGANDA', 'AWASI', 'KIGALI',\n",
       "       'ENTEBE', 'JINJA', 'KAMPALA', 'KASESE', 'KILIFI COUNTY',\n",
       "       'KWALE COUNTY', 'Mwanza', 'Mombasa', 'Geita', 'Isebania',\n",
       "       'Kilimanjaro', 'Migori', 'KENDU BAY', 'KISUMU, KITALE', 'HOMABAY',\n",
       "       'KISII, KISUMU', 'HOMABAY, KISII', 'NYAHURURU; NANYUKI', 'TORORO',\n",
       "       'KAMPALA UGANDA', 'RWANDA', 'JINJA UGANDA', 'KAJIADO',\n",
       "       'NOT APPLICABLE ', 'SOUTH SUDAN ', 'NYERI', 'NAIROBI,KISUMU,AWASI',\n",
       "       'OYUGIS', 'KWALE;KILIFI', 'KWALE', 'Malindi', 'Uasin Gishu', 'N',\n",
       "       'Machakos', 'No', 'KILIFI/NAIROBI', 'NANYUKI SAGANA',\n",
       "       'THARAKA NITHI', 'SHIMBA HILLS', 'KILIFI', 'MACHAKOS',\n",
       "       'Netherlands', 'MIGORI', 'Nairobi;USA', 'USA',\n",
       "       'Homa-Bay;Kisumu;Nairobi;Kerugoya-Kutus', 'Tanzania',\n",
       "       'KIMILILI, Maragua', 'TAVETA', 'KIAMBU', 'KEROKA', 'ISABENIA',\n",
       "       'MWANZA', 'BUNDA', 'MOMBASA',\n",
       "       'Mombasa (Stayed in Mtwapa for 4 days)', 'Kericho',\n",
       "       'KINANGO MSAMBWENI', 'MERU', 'THIKA', 'MUHONIA', 'KASESE UGANDA',\n",
       "       'NA ', 'KIRINYAGA', 'KISII,DARAJA SUNEKA',\n",
       "       'NYAMIRA ,KIJAURI KISII', 'KISII SUNEKA KEROKA',\n",
       "       'KISII KEROKA KERICHO', 'SUNEKA KISII ', 'KISII.SUNEKA',\n",
       "       'OGEMBO KISII', 'KISII,MIGORI', 'KISII,JOGOO',\n",
       "       'KISII KENDUBAY ,JOGOO', 'KISII,SUNEKA,KEROKA', 'KISII,SUNEKA',\n",
       "       'KEUMBU KEROKA ,KISII', 'GESONSO,SUNEKA KISII',\n",
       "       'KISII,JOGOO,SUNEKA', 'Zambia;Sindo', 'Mwanza;Nairobi',\n",
       "       'Mombasa;Mwanza', 'Nairobi;Mwanza', 'Zambia;Kisumu',\n",
       "       'Mwanza;Mombasa', 'Dar;Kisumu', 'Kisumu;Nairobi', 'Mwanza;Eldoret',\n",
       "       'Shinyanga;Nakuru', 'DAR ES SAALAM', 'Kisii;Nyamira', 'Narok',\n",
       "       'Molo', 'Keroka', 'Bomet', 'Bungoma', 'Kisumu', 'Nakuru', 'Sirare',\n",
       "       'Kakamega', 'KISII', 'KISII,KEROKA', 'KISII, SUNEKA',\n",
       "       'KISII.KRK.SUNEKA', 'GESONSO SUNEKA', 'KISII MWEMBE',\n",
       "       'NYAMATARO KISII', 'KISII  KEUMBU', 'MARANI KISII', 'NYAMIRA',\n",
       "       'NYANCHWA KISII', 'ISANA', 'KISII.KEROKA', 'KISII, KEROKA ',\n",
       "       'KEROKA KISII', 'TAITA TAVETA', 'not_indicated', 'ETHIOPIA',\n",
       "       'Nyeri town', 'MALABA', 'NAKURU', 'Within Kenya', 'Tharakanithi',\n",
       "       'Nyahururu', 'Nairobi and Kisumu', 'Meru', 'Nairobi, Nyahururu',\n",
       "       'Nakuru, Meru', 'Nanyuki', 'Not applicable', 'Not indicated',\n",
       "       'Kiambu', 'EMALI - MAKUENI', 'MAZERAS - KILIFI', 'Ngong', 'Tarbo',\n",
       "       'Embu town', 'Nairobi and Busia', 'Mogadishu', 'AM'], dtype=object)"
      ]
     },
     "execution_count": 85,
     "metadata": {},
     "output_type": "execute_result"
    }
   ],
   "source": [
    "df_travl['TRAV_FROM'].unique()"
   ]
  },
  {
   "cell_type": "code",
   "execution_count": 86,
   "metadata": {},
   "outputs": [],
   "source": [
    "df_travl2 = (df_travl.assign(TRAV_FROM=df_travl['TRAV_FROM'].str.strip().replace(['nan','NIL', 'Nil', 'Not indicated on form '\n",
    "                  , 'NOT APPLICABLE ', 'N', 'N', 'No', 'not_indicated', 'Not applicable', 'Not indicated'],pd.NA)\n",
    "                    .replace(['Mombasa (stayed in mtwapa for 4 days)', 'KINANGO MSAMBWENI', 'Nan'\n",
    "                              , 'Mombasa (Stayed in Mtwapa for 4 days)'], \n",
    "                    ['Mtwapa', 'Kinangop;Msambweni', pd.NA, 'Mtwapa'])\n",
    "                    .apply(lambda x: str(x).replace('/', ';')\n",
    "                    .replace(' and ', ';')\n",
    "                    .replace('-', ';')\n",
    "                    .replace(',', ';')\n",
    "                    .replace(' ; ', ';')\n",
    "                    .replace('; ', ';')\n",
    "                    .strip().capitalize() if (isinstance(x, str)) else x)).fillna('NA'))"
   ]
  },
  {
   "cell_type": "code",
   "execution_count": 87,
   "metadata": {},
   "outputs": [],
   "source": [
    "# df_travl2['TRAV_FROM'].unique()\n",
    "\n"
   ]
  },
  {
   "cell_type": "code",
   "execution_count": 88,
   "metadata": {},
   "outputs": [
    {
     "data": {
      "text/html": [
       "<div>\n",
       "<style scoped>\n",
       "    .dataframe tbody tr th:only-of-type {\n",
       "        vertical-align: middle;\n",
       "    }\n",
       "\n",
       "    .dataframe tbody tr th {\n",
       "        vertical-align: top;\n",
       "    }\n",
       "\n",
       "    .dataframe thead th {\n",
       "        text-align: right;\n",
       "    }\n",
       "</style>\n",
       "<table border=\"1\" class=\"dataframe\">\n",
       "  <thead>\n",
       "    <tr style=\"text-align: right;\">\n",
       "      <th></th>\n",
       "      <th>CASE_ID</th>\n",
       "      <th>S_NUM</th>\n",
       "      <th>AGE_YRS</th>\n",
       "      <th>GEND</th>\n",
       "      <th>OCCU</th>\n",
       "      <th>NAT</th>\n",
       "      <th>COUNT_RES</th>\n",
       "      <th>S_COUNT_RES</th>\n",
       "      <th>TRAV_HIST</th>\n",
       "      <th>TRAV_FROM</th>\n",
       "      <th>QUAR_PLACE</th>\n",
       "      <th>SYMPS</th>\n",
       "      <th>SAMP_TYPE</th>\n",
       "      <th>DT_SAM_COLL</th>\n",
       "      <th>DT_SAM_RECEP</th>\n",
       "      <th>RESULT</th>\n",
       "      <th>DT_CONF</th>\n",
       "      <th>VACC_STATUS</th>\n",
       "      <th>VACC_DOS</th>\n",
       "    </tr>\n",
       "  </thead>\n",
       "  <tbody>\n",
       "    <tr>\n",
       "      <th>0</th>\n",
       "      <td>SIAYA/COV1911621/2021</td>\n",
       "      <td>COVM02985</td>\n",
       "      <td>80.0</td>\n",
       "      <td>M</td>\n",
       "      <td>NA</td>\n",
       "      <td>Kenya</td>\n",
       "      <td>Siaya</td>\n",
       "      <td>NA</td>\n",
       "      <td>No</td>\n",
       "      <td>NA</td>\n",
       "      <td>NA</td>\n",
       "      <td>CO</td>\n",
       "      <td>NP Swab</td>\n",
       "      <td>18/08/2021</td>\n",
       "      <td>09/03/2022</td>\n",
       "      <td>NA</td>\n",
       "      <td>2022-03-16 00:00:00</td>\n",
       "      <td>N</td>\n",
       "      <td>NC</td>\n",
       "    </tr>\n",
       "  </tbody>\n",
       "</table>\n",
       "</div>"
      ],
      "text/plain": [
       "                 CASE_ID      S_NUM AGE_YRS GEND OCCU    NAT COUNT_RES  \\\n",
       "0  SIAYA/COV1911621/2021  COVM02985    80.0    M   NA  Kenya     Siaya   \n",
       "\n",
       "  S_COUNT_RES TRAV_HIST TRAV_FROM QUAR_PLACE SYMPS SAMP_TYPE DT_SAM_COLL  \\\n",
       "0          NA        No        NA         NA    CO   NP Swab  18/08/2021   \n",
       "\n",
       "  DT_SAM_RECEP RESULT              DT_CONF VACC_STATUS VACC_DOS  \n",
       "0   09/03/2022     NA  2022-03-16 00:00:00           N       NC  "
      ]
     },
     "execution_count": 88,
     "metadata": {},
     "output_type": "execute_result"
    }
   ],
   "source": [
    "df_travl2.head(1)"
   ]
  },
  {
   "cell_type": "markdown",
   "metadata": {},
   "source": [
    "### **Clean Quarentine Place**"
   ]
  },
  {
   "cell_type": "code",
   "execution_count": 89,
   "metadata": {},
   "outputs": [
    {
     "data": {
      "text/plain": [
       "150"
      ]
     },
     "execution_count": 89,
     "metadata": {},
     "output_type": "execute_result"
    }
   ],
   "source": [
    "df_travl2['QUAR_PLACE'].str.lower().str.strip().nunique()"
   ]
  },
  {
   "cell_type": "code",
   "execution_count": 90,
   "metadata": {},
   "outputs": [
    {
     "data": {
      "text/plain": [
       "154"
      ]
     },
     "execution_count": 90,
     "metadata": {},
     "output_type": "execute_result"
    }
   ],
   "source": [
    "quar_pl = (df_travl2['QUAR_PLACE'].str.strip().\n",
    "     apply(lambda x: str(x).replace(str(x), 'NA') if ('nil' == str(x).lower()) else x).\n",
    "     apply(lambda x: str(x).replace(str(x), 'NA') if ('indicate' in str(x).lower()) else x).\n",
    "     apply(lambda x: str(x).replace(str(x), 'NA') if ('applic' in str(x).lower()) else x).\n",
    "     apply(lambda x: str(x).replace(str(x), 'NA') if ('n/a' in str(x).lower()) else x).      \n",
    "     fillna('NA'))\n",
    "quar_pl.nunique()"
   ]
  },
  {
   "cell_type": "code",
   "execution_count": 91,
   "metadata": {
    "tags": []
   },
   "outputs": [],
   "source": [
    "df_quar = df_travl2.assign(QUAR_PLACE=quar_pl)"
   ]
  },
  {
   "cell_type": "markdown",
   "metadata": {},
   "source": [
    "### **Clean Symptoms**"
   ]
  },
  {
   "cell_type": "markdown",
   "metadata": {},
   "source": [
    "Symptoms legend\n",
    "- GW: General (body) weakness/fatigue/malaise\n",
    "- FC: Fever/Chills\n",
    "- CO: Cough\n",
    "- ST: Sore throat\n",
    "- RN: Runny nose\n",
    "- SB: Shortness of breath/Difficulty in breathing\n",
    "- D: Diarrhoea\n",
    "- NV: Nausea/Vomiting\n",
    "- H: Headache\n",
    "- IC: Irritability/Confusion\n",
    "- P: Pain\n",
    "- LS: Loss of smell\n",
    "- LT: Loss of taste/appetite\n",
    "- P-M: Muscular pain\n",
    "- P-A: Abdominal pain\n",
    "- P-B: Back pain\n",
    "- P-C: Chest pain\n",
    "- P-J: Joint pain\n",
    "- BA: Body aches\n",
    "- SZ: Sneezing\n",
    "- HP: Hypertension\n",
    "- TN: Tonsillitis\n",
    "- DZ: Dizziness\n",
    "- NS: Night sweats\n",
    "- SG: Swollen gland"
   ]
  },
  {
   "cell_type": "markdown",
   "metadata": {},
   "source": [
    "**Symptoms table**"
   ]
  },
  {
   "cell_type": "code",
   "execution_count": 92,
   "metadata": {},
   "outputs": [
    {
     "data": {
      "text/html": [
       "<div>\n",
       "<style scoped>\n",
       "    .dataframe tbody tr th:only-of-type {\n",
       "        vertical-align: middle;\n",
       "    }\n",
       "\n",
       "    .dataframe tbody tr th {\n",
       "        vertical-align: top;\n",
       "    }\n",
       "\n",
       "    .dataframe thead tr th {\n",
       "        text-align: left;\n",
       "    }\n",
       "</style>\n",
       "<table border=\"1\" class=\"dataframe\">\n",
       "  <thead>\n",
       "    <tr>\n",
       "      <th>abbr</th>\n",
       "      <th>SYMP_CODE</th>\n",
       "      <th>SC_MEANING</th>\n",
       "    </tr>\n",
       "    <tr>\n",
       "      <th>desc</th>\n",
       "      <th>Symptom code</th>\n",
       "      <th>Code meaning</th>\n",
       "    </tr>\n",
       "  </thead>\n",
       "  <tbody>\n",
       "    <tr>\n",
       "      <th>0</th>\n",
       "      <td>GW</td>\n",
       "      <td>General (body) weakness/fatigue/malaise</td>\n",
       "    </tr>\n",
       "    <tr>\n",
       "      <th>1</th>\n",
       "      <td>FC</td>\n",
       "      <td>Fever/Chills</td>\n",
       "    </tr>\n",
       "    <tr>\n",
       "      <th>2</th>\n",
       "      <td>CO</td>\n",
       "      <td>Cough</td>\n",
       "    </tr>\n",
       "    <tr>\n",
       "      <th>3</th>\n",
       "      <td>ST</td>\n",
       "      <td>Sore throat</td>\n",
       "    </tr>\n",
       "    <tr>\n",
       "      <th>4</th>\n",
       "      <td>RN</td>\n",
       "      <td>Runny nose</td>\n",
       "    </tr>\n",
       "  </tbody>\n",
       "</table>\n",
       "</div>"
      ],
      "text/plain": [
       "abbr    SYMP_CODE                               SC_MEANING\n",
       "desc Symptom code                             Code meaning\n",
       "0              GW  General (body) weakness/fatigue/malaise\n",
       "1              FC                             Fever/Chills\n",
       "2              CO                                    Cough\n",
       "3              ST                              Sore throat\n",
       "4              RN                               Runny nose"
      ]
     },
     "execution_count": 92,
     "metadata": {},
     "output_type": "execute_result"
    }
   ],
   "source": [
    "abbr = ['GW','FC','CO','ST','RN','SB','D','NV','H',\n",
    "        'IC','P','LS','LT','P-M','P-A','P-B','P-C',\n",
    "        'P-J','BA','SZ','HP','TN','DZ','NS', 'SG']\n",
    "symp = ['General (body) weakness/fatigue/malaise','Fever/Chills',\n",
    "        'Cough','Sore throat','Runny nose','Shortness of breath/Difficulty in breathing',\n",
    "        'Diarrhoea','Nausea/Vomiting','Headache','Irritability/Confusion','Pain','Loss of smell',\n",
    "        'Loss of taste/appetite','Muscular pain','Abdominal pain','Back pain','Chest pain',\n",
    "        'Joint pain','Body aches','Sneezing','Hypertension','Tonsillitis','Dizziness','Night sweats', 'Swollen glands']\n",
    "symp_header = pd.MultiIndex.from_arrays([['SYMP_CODE', 'SC_MEANING'], \n",
    "             ['Symptom code', 'Code meaning']], names=['abbr', 'desc'])\n",
    "symptoms = pd.DataFrame({'a': abbr, 'b': symp})\n",
    "symptoms.columns=symp_header\n",
    "symptoms.head()"
   ]
  },
  {
   "cell_type": "code",
   "execution_count": 93,
   "metadata": {},
   "outputs": [],
   "source": [
    "df_quar['SYMPS'] = (df_quar['SYMPS'].apply(lambda x: str(x).replace(str(x), 'NA') if ('symtom' in str(x)) else str(x).replace('F/C', 'FC'))\n",
    "                      .replace(['[=]','nan'], 'NA'))\n",
    "pd.Series(df_quar['SYMPS']).to_excel(f\"{glob.glob(f'{parent_dir}/**/Outputs', recursive=True)[0]}/COVID19-results-merged-symptoms.xlsx\", index=False)\n",
    "df_symp = pd.read_excel(f\"{glob.glob(f'{parent_dir}/**/Outputs', recursive=True)[0]}/COVID19-results-merged-symptoms_curation.xlsx\")\n",
    "symp_dict = {str(k): str(v) for k,v in zip(df_symp['STRING'], df_symp['REPLACE'])}\n",
    "\n",
    "symp_cln = (df_quar['SYMPS'].replace((symp_dict)).replace(['nan'], ['NA']).str.strip().\n",
    "replace(['; ', ',', '.'], ';').replace(';;', ';').apply(lambda x: ';'.join(sorted(x.split(';')))))\n",
    "\n",
    "df_symps = df_quar.assign(SYMPS=symp_cln.fillna('NA'))"
   ]
  },
  {
   "cell_type": "markdown",
   "metadata": {},
   "source": [
    "### **Clean Sample Type**"
   ]
  },
  {
   "cell_type": "code",
   "execution_count": 94,
   "metadata": {},
   "outputs": [],
   "source": [
    "df_symps.SAMP_TYPE.unique()\n",
    "df_samp_ty = df_symps.assign(SAMP_TYPE=df_symps['SAMP_TYPE'].replace(['NP and OP', 'NP-OP +AB2:AL2Swab',\n",
    "       'NP-OP Swab', 'nP Swab', 'NP OP Swab', 'NP&OP'], ['NP & OP Swab', 'NP & OP Swab', 'NP & OP Swab', 'NP Swab', 'NP & OP Swab', 'NP & OP Swab']).fillna('NA'))"
   ]
  },
  {
   "cell_type": "markdown",
   "metadata": {},
   "source": [
    "### **Clean Dates**"
   ]
  },
  {
   "cell_type": "code",
   "execution_count": 95,
   "metadata": {},
   "outputs": [],
   "source": [
    "df_dt1 = df_samp_ty.assign(DT_SAM_COLL=df_samp_ty['DT_SAM_COLL'].apply(lambda x: my_date_parser(x)))"
   ]
  },
  {
   "cell_type": "code",
   "execution_count": 96,
   "metadata": {},
   "outputs": [],
   "source": [
    "df_dt2 = df_dt1.assign(DT_SAM_RECEP=df_dt1['DT_SAM_RECEP'].apply(lambda x: my_date_parser(x)))"
   ]
  },
  {
   "cell_type": "code",
   "execution_count": 97,
   "metadata": {},
   "outputs": [],
   "source": [
    "df_dts_cln = df_dt2.assign(DT_CONF=df_dt2['DT_CONF'].apply(lambda x: my_date_parser(x)))"
   ]
  },
  {
   "cell_type": "code",
   "execution_count": 98,
   "metadata": {},
   "outputs": [],
   "source": [
    "#df_dts_cln.head()"
   ]
  },
  {
   "cell_type": "markdown",
   "metadata": {},
   "source": [
    "### **Clean Results**"
   ]
  },
  {
   "cell_type": "code",
   "execution_count": 99,
   "metadata": {},
   "outputs": [
    {
     "data": {
      "text/plain": [
       "array(['NA', 'Positive', 'Ag Positive', 'POSITIVE', 'Negative',\n",
       "       'positive', 'neg', 'pos', 'ms', 'negative', 'Neg', 'Pos', 'MS',\n",
       "       'Positve', 'Positive ', 'M2000'], dtype=object)"
      ]
     },
     "execution_count": 99,
     "metadata": {},
     "output_type": "execute_result"
    }
   ],
   "source": [
    "df_dts_cln['RESULT'].unique()"
   ]
  },
  {
   "cell_type": "code",
   "execution_count": 100,
   "metadata": {},
   "outputs": [
    {
     "data": {
      "text/plain": [
       "array(['na', 'positive', 'ag positive', 'negative', 'neg', 'pos', 'ms',\n",
       "       'positve', 'm2000'], dtype=object)"
      ]
     },
     "execution_count": 100,
     "metadata": {},
     "output_type": "execute_result"
    }
   ],
   "source": [
    "df_dts_cln['RESULT'].map(lambda x: x.strip().lower() if (isinstance(x, str)) else x).unique()"
   ]
  },
  {
   "cell_type": "code",
   "execution_count": 101,
   "metadata": {},
   "outputs": [],
   "source": [
    "df_dts_cln['RESULT'] = df_dts_cln['RESULT'].map(lambda x: cln_results(x)).fillna('NA').replace('na', 'NA')"
   ]
  },
  {
   "cell_type": "code",
   "execution_count": 102,
   "metadata": {},
   "outputs": [
    {
     "data": {
      "text/plain": [
       "array(['NA', 'Positive', 'Negative', 'ms', 'm2000'], dtype=object)"
      ]
     },
     "execution_count": 102,
     "metadata": {},
     "output_type": "execute_result"
    }
   ],
   "source": [
    "df_dts_cln['RESULT'].unique()"
   ]
  },
  {
   "cell_type": "code",
   "execution_count": 103,
   "metadata": {},
   "outputs": [
    {
     "data": {
      "text/html": [
       "<div>\n",
       "<style scoped>\n",
       "    .dataframe tbody tr th:only-of-type {\n",
       "        vertical-align: middle;\n",
       "    }\n",
       "\n",
       "    .dataframe tbody tr th {\n",
       "        vertical-align: top;\n",
       "    }\n",
       "\n",
       "    .dataframe thead th {\n",
       "        text-align: right;\n",
       "    }\n",
       "</style>\n",
       "<table border=\"1\" class=\"dataframe\">\n",
       "  <thead>\n",
       "    <tr style=\"text-align: right;\">\n",
       "      <th></th>\n",
       "      <th>CASE_ID</th>\n",
       "      <th>S_NUM</th>\n",
       "      <th>AGE_YRS</th>\n",
       "      <th>GEND</th>\n",
       "      <th>OCCU</th>\n",
       "      <th>NAT</th>\n",
       "      <th>COUNT_RES</th>\n",
       "      <th>S_COUNT_RES</th>\n",
       "      <th>TRAV_HIST</th>\n",
       "      <th>TRAV_FROM</th>\n",
       "      <th>QUAR_PLACE</th>\n",
       "      <th>SYMPS</th>\n",
       "      <th>SAMP_TYPE</th>\n",
       "      <th>DT_SAM_COLL</th>\n",
       "      <th>DT_SAM_RECEP</th>\n",
       "      <th>RESULT</th>\n",
       "      <th>DT_CONF</th>\n",
       "      <th>VACC_STATUS</th>\n",
       "      <th>VACC_DOS</th>\n",
       "    </tr>\n",
       "  </thead>\n",
       "  <tbody>\n",
       "    <tr>\n",
       "      <th>13132</th>\n",
       "      <td>NA</td>\n",
       "      <td>COVC00708</td>\n",
       "      <td>35.0</td>\n",
       "      <td>F</td>\n",
       "      <td>NA</td>\n",
       "      <td>Kenya</td>\n",
       "      <td>Laikipia</td>\n",
       "      <td>Laikipia east</td>\n",
       "      <td>No</td>\n",
       "      <td>NA</td>\n",
       "      <td>Nanyuki Teaching and Referral Hospital</td>\n",
       "      <td>NA</td>\n",
       "      <td>NP &amp; OP Swab</td>\n",
       "      <td>2020-06-09</td>\n",
       "      <td>2020-06-11</td>\n",
       "      <td>Negative</td>\n",
       "      <td>2020-06-12</td>\n",
       "      <td>NA</td>\n",
       "      <td>NA</td>\n",
       "    </tr>\n",
       "    <tr>\n",
       "      <th>11500</th>\n",
       "      <td>NA</td>\n",
       "      <td>COVC00708</td>\n",
       "      <td>35.0</td>\n",
       "      <td>F</td>\n",
       "      <td>NA</td>\n",
       "      <td>Kenya</td>\n",
       "      <td>Laikipia</td>\n",
       "      <td>Laikipia east</td>\n",
       "      <td>No</td>\n",
       "      <td>NA</td>\n",
       "      <td>Nanyuki Teaching and Referral Hospital</td>\n",
       "      <td>NA</td>\n",
       "      <td>NP &amp; OP Swab</td>\n",
       "      <td>2020-06-09</td>\n",
       "      <td>2020-06-11</td>\n",
       "      <td>Negative</td>\n",
       "      <td>2020-06-12</td>\n",
       "      <td>NA</td>\n",
       "      <td>NA</td>\n",
       "    </tr>\n",
       "    <tr>\n",
       "      <th>11501</th>\n",
       "      <td>NA</td>\n",
       "      <td>COVC00709</td>\n",
       "      <td>32.0</td>\n",
       "      <td>F</td>\n",
       "      <td>NA</td>\n",
       "      <td>Kenya</td>\n",
       "      <td>Laikipia</td>\n",
       "      <td>Laikipia east</td>\n",
       "      <td>No</td>\n",
       "      <td>NA</td>\n",
       "      <td>Nanyuki Teaching and Referral Hospital</td>\n",
       "      <td>NA</td>\n",
       "      <td>NP &amp; OP Swab</td>\n",
       "      <td>2020-06-09</td>\n",
       "      <td>2020-06-11</td>\n",
       "      <td>Negative</td>\n",
       "      <td>2020-06-12</td>\n",
       "      <td>NA</td>\n",
       "      <td>NA</td>\n",
       "    </tr>\n",
       "    <tr>\n",
       "      <th>13133</th>\n",
       "      <td>NA</td>\n",
       "      <td>COVC00709</td>\n",
       "      <td>32.0</td>\n",
       "      <td>F</td>\n",
       "      <td>NA</td>\n",
       "      <td>Kenya</td>\n",
       "      <td>Laikipia</td>\n",
       "      <td>Laikipia east</td>\n",
       "      <td>No</td>\n",
       "      <td>NA</td>\n",
       "      <td>Nanyuki Teaching and Referral Hospital</td>\n",
       "      <td>NA</td>\n",
       "      <td>NP &amp; OP Swab</td>\n",
       "      <td>2020-06-09</td>\n",
       "      <td>2020-06-11</td>\n",
       "      <td>Negative</td>\n",
       "      <td>2020-06-12</td>\n",
       "      <td>NA</td>\n",
       "      <td>NA</td>\n",
       "    </tr>\n",
       "    <tr>\n",
       "      <th>11502</th>\n",
       "      <td>NA</td>\n",
       "      <td>COVC00710</td>\n",
       "      <td>45.0</td>\n",
       "      <td>M</td>\n",
       "      <td>NA</td>\n",
       "      <td>Kenya</td>\n",
       "      <td>Laikipia</td>\n",
       "      <td>Laikipia east</td>\n",
       "      <td>No</td>\n",
       "      <td>NA</td>\n",
       "      <td>Nanyuki Teaching and Referral Hospital</td>\n",
       "      <td>NA</td>\n",
       "      <td>NP &amp; OP Swab</td>\n",
       "      <td>2020-06-09</td>\n",
       "      <td>2020-06-11</td>\n",
       "      <td>Negative</td>\n",
       "      <td>2020-06-12</td>\n",
       "      <td>NA</td>\n",
       "      <td>NA</td>\n",
       "    </tr>\n",
       "    <tr>\n",
       "      <th>...</th>\n",
       "      <td>...</td>\n",
       "      <td>...</td>\n",
       "      <td>...</td>\n",
       "      <td>...</td>\n",
       "      <td>...</td>\n",
       "      <td>...</td>\n",
       "      <td>...</td>\n",
       "      <td>...</td>\n",
       "      <td>...</td>\n",
       "      <td>...</td>\n",
       "      <td>...</td>\n",
       "      <td>...</td>\n",
       "      <td>...</td>\n",
       "      <td>...</td>\n",
       "      <td>...</td>\n",
       "      <td>...</td>\n",
       "      <td>...</td>\n",
       "      <td>...</td>\n",
       "      <td>...</td>\n",
       "    </tr>\n",
       "    <tr>\n",
       "      <th>29800</th>\n",
       "      <td>NPHL04/35613/2021</td>\n",
       "      <td>COVM01632</td>\n",
       "      <td>32.0</td>\n",
       "      <td>F</td>\n",
       "      <td>Consultant</td>\n",
       "      <td>Kenya</td>\n",
       "      <td>Nairobi</td>\n",
       "      <td>NA</td>\n",
       "      <td>Yes</td>\n",
       "      <td>NA</td>\n",
       "      <td>NA</td>\n",
       "      <td>NA</td>\n",
       "      <td>NP &amp; OP Swab</td>\n",
       "      <td>2021-11-29</td>\n",
       "      <td>2021-12-01</td>\n",
       "      <td>NA</td>\n",
       "      <td>2021-12-01</td>\n",
       "      <td>Y</td>\n",
       "      <td>C</td>\n",
       "    </tr>\n",
       "    <tr>\n",
       "      <th>29801</th>\n",
       "      <td>NPHL04/35614/2021</td>\n",
       "      <td>COVM01633</td>\n",
       "      <td>36.0</td>\n",
       "      <td>M</td>\n",
       "      <td>Engineer</td>\n",
       "      <td>South Africa</td>\n",
       "      <td>Nairobi</td>\n",
       "      <td>NA</td>\n",
       "      <td>Yes</td>\n",
       "      <td>NA</td>\n",
       "      <td>NA</td>\n",
       "      <td>NA</td>\n",
       "      <td>NP &amp; OP Swab</td>\n",
       "      <td>2021-11-29</td>\n",
       "      <td>2021-12-01</td>\n",
       "      <td>NA</td>\n",
       "      <td>2021-12-01</td>\n",
       "      <td>Y</td>\n",
       "      <td>C</td>\n",
       "    </tr>\n",
       "    <tr>\n",
       "      <th>473</th>\n",
       "      <td>NPHL04/35614/2021</td>\n",
       "      <td>COVM01633</td>\n",
       "      <td>36.0</td>\n",
       "      <td>M</td>\n",
       "      <td>Engineer</td>\n",
       "      <td>South Africa</td>\n",
       "      <td>Nairobi</td>\n",
       "      <td>NA</td>\n",
       "      <td>Yes</td>\n",
       "      <td>NA</td>\n",
       "      <td>NA</td>\n",
       "      <td>NA</td>\n",
       "      <td>NP &amp; OP Swab</td>\n",
       "      <td>2021-11-29</td>\n",
       "      <td>2021-12-01</td>\n",
       "      <td>NA</td>\n",
       "      <td>2021-12-01</td>\n",
       "      <td>Y</td>\n",
       "      <td>C</td>\n",
       "    </tr>\n",
       "    <tr>\n",
       "      <th>474</th>\n",
       "      <td>NPHL04/JKIA35615-0843/2021</td>\n",
       "      <td>COVM01634</td>\n",
       "      <td>33.0</td>\n",
       "      <td>M</td>\n",
       "      <td>NA</td>\n",
       "      <td>Kenya</td>\n",
       "      <td>Nairobi</td>\n",
       "      <td>NA</td>\n",
       "      <td>Yes</td>\n",
       "      <td>NA</td>\n",
       "      <td>NA</td>\n",
       "      <td>NA</td>\n",
       "      <td>NP &amp; OP Swab</td>\n",
       "      <td>2021-11-29</td>\n",
       "      <td>2021-12-01</td>\n",
       "      <td>NA</td>\n",
       "      <td>2021-12-01</td>\n",
       "      <td>NA</td>\n",
       "      <td>NA</td>\n",
       "    </tr>\n",
       "    <tr>\n",
       "      <th>29802</th>\n",
       "      <td>NPHL04/JKIA35615-0843/2021</td>\n",
       "      <td>COVM01634</td>\n",
       "      <td>33.0</td>\n",
       "      <td>M</td>\n",
       "      <td>NA</td>\n",
       "      <td>Kenya</td>\n",
       "      <td>Nairobi</td>\n",
       "      <td>NA</td>\n",
       "      <td>Yes</td>\n",
       "      <td>NA</td>\n",
       "      <td>NA</td>\n",
       "      <td>NA</td>\n",
       "      <td>NP &amp; OP Swab</td>\n",
       "      <td>2021-11-29</td>\n",
       "      <td>2021-12-01</td>\n",
       "      <td>NA</td>\n",
       "      <td>2021-12-01</td>\n",
       "      <td>NA</td>\n",
       "      <td>NA</td>\n",
       "    </tr>\n",
       "  </tbody>\n",
       "</table>\n",
       "<p>770 rows × 19 columns</p>\n",
       "</div>"
      ],
      "text/plain": [
       "                          CASE_ID      S_NUM AGE_YRS GEND        OCCU  \\\n",
       "13132                          NA  COVC00708    35.0    F          NA   \n",
       "11500                          NA  COVC00708    35.0    F          NA   \n",
       "11501                          NA  COVC00709    32.0    F          NA   \n",
       "13133                          NA  COVC00709    32.0    F          NA   \n",
       "11502                          NA  COVC00710    45.0    M          NA   \n",
       "...                           ...        ...     ...  ...         ...   \n",
       "29800           NPHL04/35613/2021  COVM01632    32.0    F  Consultant   \n",
       "29801           NPHL04/35614/2021  COVM01633    36.0    M    Engineer   \n",
       "473             NPHL04/35614/2021  COVM01633    36.0    M    Engineer   \n",
       "474    NPHL04/JKIA35615-0843/2021  COVM01634    33.0    M          NA   \n",
       "29802  NPHL04/JKIA35615-0843/2021  COVM01634    33.0    M          NA   \n",
       "\n",
       "                NAT COUNT_RES    S_COUNT_RES TRAV_HIST TRAV_FROM  \\\n",
       "13132         Kenya  Laikipia  Laikipia east        No        NA   \n",
       "11500         Kenya  Laikipia  Laikipia east        No        NA   \n",
       "11501         Kenya  Laikipia  Laikipia east        No        NA   \n",
       "13133         Kenya  Laikipia  Laikipia east        No        NA   \n",
       "11502         Kenya  Laikipia  Laikipia east        No        NA   \n",
       "...             ...       ...            ...       ...       ...   \n",
       "29800         Kenya   Nairobi             NA       Yes        NA   \n",
       "29801  South Africa   Nairobi             NA       Yes        NA   \n",
       "473    South Africa   Nairobi             NA       Yes        NA   \n",
       "474           Kenya   Nairobi             NA       Yes        NA   \n",
       "29802         Kenya   Nairobi             NA       Yes        NA   \n",
       "\n",
       "                                   QUAR_PLACE SYMPS     SAMP_TYPE DT_SAM_COLL  \\\n",
       "13132  Nanyuki Teaching and Referral Hospital    NA  NP & OP Swab  2020-06-09   \n",
       "11500  Nanyuki Teaching and Referral Hospital    NA  NP & OP Swab  2020-06-09   \n",
       "11501  Nanyuki Teaching and Referral Hospital    NA  NP & OP Swab  2020-06-09   \n",
       "13133  Nanyuki Teaching and Referral Hospital    NA  NP & OP Swab  2020-06-09   \n",
       "11502  Nanyuki Teaching and Referral Hospital    NA  NP & OP Swab  2020-06-09   \n",
       "...                                       ...   ...           ...         ...   \n",
       "29800                                      NA    NA  NP & OP Swab  2021-11-29   \n",
       "29801                                      NA    NA  NP & OP Swab  2021-11-29   \n",
       "473                                        NA    NA  NP & OP Swab  2021-11-29   \n",
       "474                                        NA    NA  NP & OP Swab  2021-11-29   \n",
       "29802                                      NA    NA  NP & OP Swab  2021-11-29   \n",
       "\n",
       "      DT_SAM_RECEP    RESULT    DT_CONF VACC_STATUS VACC_DOS  \n",
       "13132   2020-06-11  Negative 2020-06-12          NA       NA  \n",
       "11500   2020-06-11  Negative 2020-06-12          NA       NA  \n",
       "11501   2020-06-11  Negative 2020-06-12          NA       NA  \n",
       "13133   2020-06-11  Negative 2020-06-12          NA       NA  \n",
       "11502   2020-06-11  Negative 2020-06-12          NA       NA  \n",
       "...            ...       ...        ...         ...      ...  \n",
       "29800   2021-12-01        NA 2021-12-01           Y        C  \n",
       "29801   2021-12-01        NA 2021-12-01           Y        C  \n",
       "473     2021-12-01        NA 2021-12-01           Y        C  \n",
       "474     2021-12-01        NA 2021-12-01          NA       NA  \n",
       "29802   2021-12-01        NA 2021-12-01          NA       NA  \n",
       "\n",
       "[770 rows x 19 columns]"
      ]
     },
     "execution_count": 103,
     "metadata": {},
     "output_type": "execute_result"
    }
   ],
   "source": [
    "df_dts_cln[df_dts_cln.duplicated(keep=False) == True].sort_values('S_NUM')"
   ]
  },
  {
   "cell_type": "markdown",
   "metadata": {},
   "source": [
    "### **Remove/QC Duplicates**"
   ]
  },
  {
   "cell_type": "code",
   "execution_count": 104,
   "metadata": {},
   "outputs": [],
   "source": [
    "df_cln_srt = df_dts_cln.sort_values(['S_NUM', 'DT_CONF'])"
   ]
  },
  {
   "cell_type": "code",
   "execution_count": 105,
   "metadata": {},
   "outputs": [],
   "source": [
    "#df_cln_srt[df_cln_srt.duplicated(['S_NUM', 'DT_CONF'], keep=False) == True]"
   ]
  },
  {
   "cell_type": "code",
   "execution_count": 106,
   "metadata": {},
   "outputs": [],
   "source": [
    "#df_cln_srt[df_cln_srt.duplicated(keep=False) == True]"
   ]
  },
  {
   "cell_type": "code",
   "execution_count": 107,
   "metadata": {},
   "outputs": [],
   "source": [
    "df_dedud0 = df_cln_srt.drop_duplicates(['S_NUM'], keep='last')#['COUNT_RES'].fillna('Unknown', inplace=True)\n",
    "df_dedud = df_dedud0.assign(CASE_ID=df_dedud0.CASE_ID.apply(lambda x: str(x)))"
   ]
  },
  {
   "cell_type": "code",
   "execution_count": 108,
   "metadata": {},
   "outputs": [
    {
     "name": "stderr",
     "output_type": "stream",
     "text": [
      "<ipython-input-108-a230d94dd803>:3: UserWarning: Boolean Series key will be reindexed to match DataFrame index.\n",
      "  df_dedud.sort_values(['DT_CONF','CASE_ID'])[mask1 == True & mask2].tail(10)\n"
     ]
    },
    {
     "data": {
      "text/html": [
       "<div>\n",
       "<style scoped>\n",
       "    .dataframe tbody tr th:only-of-type {\n",
       "        vertical-align: middle;\n",
       "    }\n",
       "\n",
       "    .dataframe tbody tr th {\n",
       "        vertical-align: top;\n",
       "    }\n",
       "\n",
       "    .dataframe thead th {\n",
       "        text-align: right;\n",
       "    }\n",
       "</style>\n",
       "<table border=\"1\" class=\"dataframe\">\n",
       "  <thead>\n",
       "    <tr style=\"text-align: right;\">\n",
       "      <th></th>\n",
       "      <th>CASE_ID</th>\n",
       "      <th>S_NUM</th>\n",
       "      <th>AGE_YRS</th>\n",
       "      <th>GEND</th>\n",
       "      <th>OCCU</th>\n",
       "      <th>NAT</th>\n",
       "      <th>COUNT_RES</th>\n",
       "      <th>S_COUNT_RES</th>\n",
       "      <th>TRAV_HIST</th>\n",
       "      <th>TRAV_FROM</th>\n",
       "      <th>QUAR_PLACE</th>\n",
       "      <th>SYMPS</th>\n",
       "      <th>SAMP_TYPE</th>\n",
       "      <th>DT_SAM_COLL</th>\n",
       "      <th>DT_SAM_RECEP</th>\n",
       "      <th>RESULT</th>\n",
       "      <th>DT_CONF</th>\n",
       "      <th>VACC_STATUS</th>\n",
       "      <th>VACC_DOS</th>\n",
       "    </tr>\n",
       "  </thead>\n",
       "  <tbody>\n",
       "    <tr>\n",
       "      <th>172</th>\n",
       "      <td>MCRH/MIG19579/2021</td>\n",
       "      <td>COVM02366</td>\n",
       "      <td>27.0</td>\n",
       "      <td>F</td>\n",
       "      <td>CHW</td>\n",
       "      <td>Kenya</td>\n",
       "      <td>Migori</td>\n",
       "      <td>NA</td>\n",
       "      <td>No</td>\n",
       "      <td>NA</td>\n",
       "      <td>NA</td>\n",
       "      <td>NA</td>\n",
       "      <td>NP Swab</td>\n",
       "      <td>NaT</td>\n",
       "      <td>NaT</td>\n",
       "      <td>Positive</td>\n",
       "      <td>2022-01-05</td>\n",
       "      <td>Y</td>\n",
       "      <td>NA</td>\n",
       "    </tr>\n",
       "    <tr>\n",
       "      <th>541</th>\n",
       "      <td>BCRH/16/2021</td>\n",
       "      <td>COVM02669</td>\n",
       "      <td>16.0</td>\n",
       "      <td>M</td>\n",
       "      <td>NA</td>\n",
       "      <td>Kenya</td>\n",
       "      <td>Bungoma</td>\n",
       "      <td>NA</td>\n",
       "      <td>No</td>\n",
       "      <td>NA</td>\n",
       "      <td>NA</td>\n",
       "      <td>NA</td>\n",
       "      <td>NP &amp; OP Swab</td>\n",
       "      <td>2021-12-30</td>\n",
       "      <td>2022-01-13</td>\n",
       "      <td>Positive</td>\n",
       "      <td>2022-01-18</td>\n",
       "      <td>N</td>\n",
       "      <td>NA</td>\n",
       "    </tr>\n",
       "    <tr>\n",
       "      <th>28303</th>\n",
       "      <td>ETH/S03271221059/2021</td>\n",
       "      <td>COVM02887</td>\n",
       "      <td>31.0</td>\n",
       "      <td>F</td>\n",
       "      <td>NA</td>\n",
       "      <td>Ethiopia</td>\n",
       "      <td>Addis ababa</td>\n",
       "      <td>Bole</td>\n",
       "      <td>No</td>\n",
       "      <td>NA</td>\n",
       "      <td>NA</td>\n",
       "      <td>NA</td>\n",
       "      <td>OP Swab</td>\n",
       "      <td>2021-12-27</td>\n",
       "      <td>2022-03-08</td>\n",
       "      <td>Positive</td>\n",
       "      <td>2022-03-09</td>\n",
       "      <td>NA</td>\n",
       "      <td>NA</td>\n",
       "    </tr>\n",
       "    <tr>\n",
       "      <th>28304</th>\n",
       "      <td>ETH/S03271221059/2021</td>\n",
       "      <td>COVM02888</td>\n",
       "      <td>39.0</td>\n",
       "      <td>M</td>\n",
       "      <td>NA</td>\n",
       "      <td>Ethiopia</td>\n",
       "      <td>Addis ababa</td>\n",
       "      <td>Gulele</td>\n",
       "      <td>No</td>\n",
       "      <td>NA</td>\n",
       "      <td>NA</td>\n",
       "      <td>NA</td>\n",
       "      <td>OP Swab</td>\n",
       "      <td>2021-12-27</td>\n",
       "      <td>2022-03-08</td>\n",
       "      <td>Positive</td>\n",
       "      <td>2022-03-09</td>\n",
       "      <td>NA</td>\n",
       "      <td>NA</td>\n",
       "    </tr>\n",
       "    <tr>\n",
       "      <th>326</th>\n",
       "      <td>MCRH/MIG19736/2021</td>\n",
       "      <td>COVM02520</td>\n",
       "      <td>37.0</td>\n",
       "      <td>F</td>\n",
       "      <td>CHW</td>\n",
       "      <td>Kenya</td>\n",
       "      <td>Migori</td>\n",
       "      <td>Suna west</td>\n",
       "      <td>No</td>\n",
       "      <td>NA</td>\n",
       "      <td>Homestead</td>\n",
       "      <td>NA</td>\n",
       "      <td>NP &amp; OP Swab</td>\n",
       "      <td>2021-12-27</td>\n",
       "      <td>NaT</td>\n",
       "      <td>Positive</td>\n",
       "      <td>NaT</td>\n",
       "      <td>Y</td>\n",
       "      <td>C</td>\n",
       "    </tr>\n",
       "    <tr>\n",
       "      <th>364</th>\n",
       "      <td>MCRH/MIG19736/2021</td>\n",
       "      <td>COVM02558</td>\n",
       "      <td>37.0</td>\n",
       "      <td>F</td>\n",
       "      <td>CHW</td>\n",
       "      <td>Kenya</td>\n",
       "      <td>Migori</td>\n",
       "      <td>Suna west</td>\n",
       "      <td>No</td>\n",
       "      <td>NA</td>\n",
       "      <td>Homestead</td>\n",
       "      <td>NA</td>\n",
       "      <td>NP &amp; OP Swab</td>\n",
       "      <td>2021-12-27</td>\n",
       "      <td>NaT</td>\n",
       "      <td>Positive</td>\n",
       "      <td>NaT</td>\n",
       "      <td>Y</td>\n",
       "      <td>C</td>\n",
       "    </tr>\n",
       "    <tr>\n",
       "      <th>29521</th>\n",
       "      <td>NPHL03/KPC7/32</td>\n",
       "      <td>COVM01152</td>\n",
       "      <td>NA</td>\n",
       "      <td>NA</td>\n",
       "      <td>NA</td>\n",
       "      <td>NA</td>\n",
       "      <td>Nairobi</td>\n",
       "      <td>NA</td>\n",
       "      <td>No</td>\n",
       "      <td>NA</td>\n",
       "      <td>NA</td>\n",
       "      <td>NA</td>\n",
       "      <td>NP &amp; OP Swab</td>\n",
       "      <td>NaT</td>\n",
       "      <td>2021-09-15</td>\n",
       "      <td>Positive</td>\n",
       "      <td>NaT</td>\n",
       "      <td>NA</td>\n",
       "      <td>NA</td>\n",
       "    </tr>\n",
       "    <tr>\n",
       "      <th>29529</th>\n",
       "      <td>NPHL03/KPC7/32</td>\n",
       "      <td>COVM01160</td>\n",
       "      <td>NA</td>\n",
       "      <td>NA</td>\n",
       "      <td>NA</td>\n",
       "      <td>NA</td>\n",
       "      <td>Nairobi</td>\n",
       "      <td>NA</td>\n",
       "      <td>No</td>\n",
       "      <td>NA</td>\n",
       "      <td>NA</td>\n",
       "      <td>NA</td>\n",
       "      <td>NP &amp; OP Swab</td>\n",
       "      <td>NaT</td>\n",
       "      <td>2021-09-15</td>\n",
       "      <td>Positive</td>\n",
       "      <td>NaT</td>\n",
       "      <td>NA</td>\n",
       "      <td>NA</td>\n",
       "    </tr>\n",
       "    <tr>\n",
       "      <th>30044</th>\n",
       "      <td>SWZ/23287/2022</td>\n",
       "      <td>COVM03273</td>\n",
       "      <td>28.0</td>\n",
       "      <td>M</td>\n",
       "      <td>NA</td>\n",
       "      <td>Eswatini</td>\n",
       "      <td>Hhohho</td>\n",
       "      <td>Mbabane</td>\n",
       "      <td>No</td>\n",
       "      <td>NA</td>\n",
       "      <td>NA</td>\n",
       "      <td>NA</td>\n",
       "      <td>NP Swab</td>\n",
       "      <td>2022-04-29</td>\n",
       "      <td>2022-05-18</td>\n",
       "      <td>NA</td>\n",
       "      <td>NaT</td>\n",
       "      <td>NA</td>\n",
       "      <td>NA</td>\n",
       "    </tr>\n",
       "    <tr>\n",
       "      <th>30053</th>\n",
       "      <td>SWZ/23287/2022</td>\n",
       "      <td>COVM03282</td>\n",
       "      <td>27.0</td>\n",
       "      <td>M</td>\n",
       "      <td>NA</td>\n",
       "      <td>Eswatini</td>\n",
       "      <td>Hhohho</td>\n",
       "      <td>Mbabane</td>\n",
       "      <td>No</td>\n",
       "      <td>NA</td>\n",
       "      <td>NA</td>\n",
       "      <td>NA</td>\n",
       "      <td>NP Swab</td>\n",
       "      <td>2022-04-29</td>\n",
       "      <td>2022-05-18</td>\n",
       "      <td>NA</td>\n",
       "      <td>NaT</td>\n",
       "      <td>NA</td>\n",
       "      <td>NA</td>\n",
       "    </tr>\n",
       "  </tbody>\n",
       "</table>\n",
       "</div>"
      ],
      "text/plain": [
       "                     CASE_ID      S_NUM AGE_YRS GEND OCCU       NAT  \\\n",
       "172       MCRH/MIG19579/2021  COVM02366    27.0    F  CHW     Kenya   \n",
       "541             BCRH/16/2021  COVM02669    16.0    M   NA     Kenya   \n",
       "28303  ETH/S03271221059/2021  COVM02887    31.0   F    NA  Ethiopia   \n",
       "28304  ETH/S03271221059/2021  COVM02888    39.0    M   NA  Ethiopia   \n",
       "326       MCRH/MIG19736/2021  COVM02520    37.0    F  CHW     Kenya   \n",
       "364       MCRH/MIG19736/2021  COVM02558    37.0    F  CHW     Kenya   \n",
       "29521         NPHL03/KPC7/32  COVM01152      NA   NA   NA        NA   \n",
       "29529         NPHL03/KPC7/32  COVM01160      NA   NA   NA        NA   \n",
       "30044         SWZ/23287/2022  COVM03273    28.0    M   NA  Eswatini   \n",
       "30053         SWZ/23287/2022  COVM03282    27.0    M   NA  Eswatini   \n",
       "\n",
       "         COUNT_RES S_COUNT_RES TRAV_HIST TRAV_FROM QUAR_PLACE SYMPS  \\\n",
       "172         Migori          NA        No        NA         NA    NA   \n",
       "541        Bungoma          NA        No        NA         NA    NA   \n",
       "28303  Addis ababa        Bole        No        NA         NA    NA   \n",
       "28304  Addis ababa      Gulele        No        NA         NA    NA   \n",
       "326         Migori   Suna west        No        NA  Homestead    NA   \n",
       "364         Migori   Suna west        No        NA  Homestead    NA   \n",
       "29521      Nairobi          NA        No        NA         NA    NA   \n",
       "29529      Nairobi          NA        No        NA         NA    NA   \n",
       "30044       Hhohho     Mbabane        No        NA         NA    NA   \n",
       "30053       Hhohho     Mbabane        No        NA         NA    NA   \n",
       "\n",
       "          SAMP_TYPE DT_SAM_COLL DT_SAM_RECEP    RESULT    DT_CONF VACC_STATUS  \\\n",
       "172         NP Swab         NaT          NaT  Positive 2022-01-05           Y   \n",
       "541    NP & OP Swab  2021-12-30   2022-01-13  Positive 2022-01-18           N   \n",
       "28303       OP Swab  2021-12-27   2022-03-08  Positive 2022-03-09          NA   \n",
       "28304       OP Swab  2021-12-27   2022-03-08  Positive 2022-03-09          NA   \n",
       "326    NP & OP Swab  2021-12-27          NaT  Positive        NaT           Y   \n",
       "364    NP & OP Swab  2021-12-27          NaT  Positive        NaT           Y   \n",
       "29521  NP & OP Swab         NaT   2021-09-15  Positive        NaT          NA   \n",
       "29529  NP & OP Swab         NaT   2021-09-15  Positive        NaT          NA   \n",
       "30044       NP Swab  2022-04-29   2022-05-18        NA        NaT          NA   \n",
       "30053       NP Swab  2022-04-29   2022-05-18        NA        NaT          NA   \n",
       "\n",
       "      VACC_DOS  \n",
       "172         NA  \n",
       "541         NA  \n",
       "28303       NA  \n",
       "28304       NA  \n",
       "326          C  \n",
       "364          C  \n",
       "29521       NA  \n",
       "29529       NA  \n",
       "30044       NA  \n",
       "30053       NA  "
      ]
     },
     "execution_count": 108,
     "metadata": {},
     "output_type": "execute_result"
    }
   ],
   "source": [
    "mask1 = df_dedud.duplicated(['CASE_ID'], keep=False)\n",
    "mask2 = df_dedud.CASE_ID != 'NA'\n",
    "df_dedud.sort_values(['DT_CONF','CASE_ID'])[mask1 == True & mask2].tail(10)"
   ]
  },
  {
   "cell_type": "code",
   "execution_count": 109,
   "metadata": {},
   "outputs": [
    {
     "data": {
      "text/html": [
       "<div>\n",
       "<style scoped>\n",
       "    .dataframe tbody tr th:only-of-type {\n",
       "        vertical-align: middle;\n",
       "    }\n",
       "\n",
       "    .dataframe tbody tr th {\n",
       "        vertical-align: top;\n",
       "    }\n",
       "\n",
       "    .dataframe thead th {\n",
       "        text-align: right;\n",
       "    }\n",
       "</style>\n",
       "<table border=\"1\" class=\"dataframe\">\n",
       "  <thead>\n",
       "    <tr style=\"text-align: right;\">\n",
       "      <th></th>\n",
       "      <th>CASE_ID</th>\n",
       "      <th>S_NUM</th>\n",
       "      <th>AGE_YRS</th>\n",
       "      <th>GEND</th>\n",
       "      <th>OCCU</th>\n",
       "      <th>NAT</th>\n",
       "      <th>COUNT_RES</th>\n",
       "      <th>S_COUNT_RES</th>\n",
       "      <th>TRAV_HIST</th>\n",
       "      <th>TRAV_FROM</th>\n",
       "      <th>QUAR_PLACE</th>\n",
       "      <th>SYMPS</th>\n",
       "      <th>SAMP_TYPE</th>\n",
       "      <th>DT_SAM_COLL</th>\n",
       "      <th>DT_SAM_RECEP</th>\n",
       "      <th>RESULT</th>\n",
       "      <th>DT_CONF</th>\n",
       "      <th>VACC_STATUS</th>\n",
       "      <th>VACC_DOS</th>\n",
       "    </tr>\n",
       "  </thead>\n",
       "  <tbody>\n",
       "  </tbody>\n",
       "</table>\n",
       "</div>"
      ],
      "text/plain": [
       "Empty DataFrame\n",
       "Columns: [CASE_ID, S_NUM, AGE_YRS, GEND, OCCU, NAT, COUNT_RES, S_COUNT_RES, TRAV_HIST, TRAV_FROM, QUAR_PLACE, SYMPS, SAMP_TYPE, DT_SAM_COLL, DT_SAM_RECEP, RESULT, DT_CONF, VACC_STATUS, VACC_DOS]\n",
       "Index: []"
      ]
     },
     "execution_count": 109,
     "metadata": {},
     "output_type": "execute_result"
    }
   ],
   "source": [
    "df_dedud[df_dedud.duplicated(['S_NUM'], keep=False) == True]"
   ]
  },
  {
   "cell_type": "markdown",
   "metadata": {},
   "source": [
    "### **QC Dates**"
   ]
  },
  {
   "cell_type": "code",
   "execution_count": 110,
   "metadata": {},
   "outputs": [],
   "source": [
    "sr_date_diff = df_dedud['DT_CONF'] - df_dedud['DT_SAM_COLL']"
   ]
  },
  {
   "cell_type": "code",
   "execution_count": 111,
   "metadata": {},
   "outputs": [
    {
     "name": "stderr",
     "output_type": "stream",
     "text": [
      "/home/douso/.local/lib/python3.8/site-packages/pandas/core/arraylike.py:56: UserWarning: Parsing '19-06-2022' in DD/MM/YYYY format. Provide format or specify infer_datetime_format=True for consistent parsing.\n",
      "  return self._cmp_method(other, operator.gt)\n"
     ]
    }
   ],
   "source": [
    "mask3 = sr_date_diff >= '60D'\n",
    "mask4 = sr_date_diff != pd.NaT\n",
    "mask5 = df_dedud['DT_SAM_COLL'] > df_dedud['DT_CONF']\n",
    "mask6 = df_dedud['DT_SAM_COLL'] > dt\n",
    "mask7 = df_dedud['DT_CONF'] > dt\n",
    "# mask3 = df_dedud['DT_CONF']"
   ]
  },
  {
   "cell_type": "code",
   "execution_count": 112,
   "metadata": {},
   "outputs": [
    {
     "data": {
      "text/html": [
       "<div>\n",
       "<style scoped>\n",
       "    .dataframe tbody tr th:only-of-type {\n",
       "        vertical-align: middle;\n",
       "    }\n",
       "\n",
       "    .dataframe tbody tr th {\n",
       "        vertical-align: top;\n",
       "    }\n",
       "\n",
       "    .dataframe thead th {\n",
       "        text-align: right;\n",
       "    }\n",
       "</style>\n",
       "<table border=\"1\" class=\"dataframe\">\n",
       "  <thead>\n",
       "    <tr style=\"text-align: right;\">\n",
       "      <th></th>\n",
       "      <th>CASE_ID</th>\n",
       "      <th>S_NUM</th>\n",
       "      <th>AGE_YRS</th>\n",
       "      <th>GEND</th>\n",
       "      <th>OCCU</th>\n",
       "      <th>NAT</th>\n",
       "      <th>COUNT_RES</th>\n",
       "      <th>S_COUNT_RES</th>\n",
       "      <th>TRAV_HIST</th>\n",
       "      <th>TRAV_FROM</th>\n",
       "      <th>QUAR_PLACE</th>\n",
       "      <th>SYMPS</th>\n",
       "      <th>SAMP_TYPE</th>\n",
       "      <th>DT_SAM_COLL</th>\n",
       "      <th>DT_SAM_RECEP</th>\n",
       "      <th>RESULT</th>\n",
       "      <th>DT_CONF</th>\n",
       "      <th>VACC_STATUS</th>\n",
       "      <th>VACC_DOS</th>\n",
       "    </tr>\n",
       "  </thead>\n",
       "  <tbody>\n",
       "    <tr>\n",
       "      <th>28566</th>\n",
       "      <td>KEM-21-02-93781</td>\n",
       "      <td>COVM00193</td>\n",
       "      <td>46.0</td>\n",
       "      <td>M</td>\n",
       "      <td>NA</td>\n",
       "      <td>Kenya</td>\n",
       "      <td>Nairobi</td>\n",
       "      <td>Roysambu</td>\n",
       "      <td>No</td>\n",
       "      <td>NA</td>\n",
       "      <td>NA</td>\n",
       "      <td>NA</td>\n",
       "      <td>NP &amp; OP Swab</td>\n",
       "      <td>2021-02-26</td>\n",
       "      <td>2021-07-30</td>\n",
       "      <td>Positive</td>\n",
       "      <td>2021-02-03</td>\n",
       "      <td>NA</td>\n",
       "      <td>NA</td>\n",
       "    </tr>\n",
       "    <tr>\n",
       "      <th>28569</th>\n",
       "      <td>KEM-21-02-93550</td>\n",
       "      <td>COVM00196</td>\n",
       "      <td>14.0</td>\n",
       "      <td>F</td>\n",
       "      <td>NA</td>\n",
       "      <td>Kenya</td>\n",
       "      <td>Kiambu</td>\n",
       "      <td>Limuru</td>\n",
       "      <td>No</td>\n",
       "      <td>NA</td>\n",
       "      <td>NA</td>\n",
       "      <td>CO;GW;H</td>\n",
       "      <td>NP &amp; OP Swab</td>\n",
       "      <td>2021-02-23</td>\n",
       "      <td>2021-07-30</td>\n",
       "      <td>Positive</td>\n",
       "      <td>2021-02-03</td>\n",
       "      <td>NA</td>\n",
       "      <td>NA</td>\n",
       "    </tr>\n",
       "    <tr>\n",
       "      <th>28602</th>\n",
       "      <td>KEM-21-03-93782</td>\n",
       "      <td>COVM00229</td>\n",
       "      <td>28.0</td>\n",
       "      <td>M</td>\n",
       "      <td>NA</td>\n",
       "      <td>Kenya</td>\n",
       "      <td>Makueni</td>\n",
       "      <td>Kilome</td>\n",
       "      <td>Yes</td>\n",
       "      <td>NA</td>\n",
       "      <td>NA</td>\n",
       "      <td>GW;LS;LT</td>\n",
       "      <td>NP &amp; OP Swab</td>\n",
       "      <td>2021-02-25</td>\n",
       "      <td>2021-07-30</td>\n",
       "      <td>Positive</td>\n",
       "      <td>2021-02-03</td>\n",
       "      <td>NA</td>\n",
       "      <td>NA</td>\n",
       "    </tr>\n",
       "    <tr>\n",
       "      <th>28603</th>\n",
       "      <td>KEM-21-02-93544</td>\n",
       "      <td>COVM00230</td>\n",
       "      <td>15.0</td>\n",
       "      <td>F</td>\n",
       "      <td>NA</td>\n",
       "      <td>Kenya</td>\n",
       "      <td>Kiambu</td>\n",
       "      <td>Limuru</td>\n",
       "      <td>No</td>\n",
       "      <td>NA</td>\n",
       "      <td>NA</td>\n",
       "      <td>NA</td>\n",
       "      <td>NP &amp; OP Swab</td>\n",
       "      <td>2021-02-23</td>\n",
       "      <td>2021-07-30</td>\n",
       "      <td>Positive</td>\n",
       "      <td>2021-02-03</td>\n",
       "      <td>NA</td>\n",
       "      <td>NA</td>\n",
       "    </tr>\n",
       "    <tr>\n",
       "      <th>28627</th>\n",
       "      <td>KEM-21-02-93645</td>\n",
       "      <td>COVM00254</td>\n",
       "      <td>37.0</td>\n",
       "      <td>F</td>\n",
       "      <td>NA</td>\n",
       "      <td>Kenya</td>\n",
       "      <td>Kiambu</td>\n",
       "      <td>Githunguri</td>\n",
       "      <td>No</td>\n",
       "      <td>NA</td>\n",
       "      <td>NA</td>\n",
       "      <td>CO;FC;LS;LT;P-C;RN;ST</td>\n",
       "      <td>NP &amp; OP Swab</td>\n",
       "      <td>2021-02-25</td>\n",
       "      <td>2021-07-30</td>\n",
       "      <td>Positive</td>\n",
       "      <td>2021-02-03</td>\n",
       "      <td>NA</td>\n",
       "      <td>NA</td>\n",
       "    </tr>\n",
       "    <tr>\n",
       "      <th>28644</th>\n",
       "      <td>KEM-21-02-92432</td>\n",
       "      <td>COVM00271</td>\n",
       "      <td>22.0</td>\n",
       "      <td>M</td>\n",
       "      <td>NA</td>\n",
       "      <td>Kenya</td>\n",
       "      <td>Murang'a</td>\n",
       "      <td>Kangema</td>\n",
       "      <td>No</td>\n",
       "      <td>NA</td>\n",
       "      <td>NA</td>\n",
       "      <td>NA</td>\n",
       "      <td>NP &amp; OP Swab</td>\n",
       "      <td>2021-11-02</td>\n",
       "      <td>2021-07-30</td>\n",
       "      <td>Positive</td>\n",
       "      <td>2021-02-16</td>\n",
       "      <td>NA</td>\n",
       "      <td>NA</td>\n",
       "    </tr>\n",
       "    <tr>\n",
       "      <th>545</th>\n",
       "      <td>BCRH/20/2022</td>\n",
       "      <td>COVM02673</td>\n",
       "      <td>62.0</td>\n",
       "      <td>M</td>\n",
       "      <td>NA</td>\n",
       "      <td>Kenya</td>\n",
       "      <td>Bungoma</td>\n",
       "      <td>Bumula</td>\n",
       "      <td>No</td>\n",
       "      <td>NA</td>\n",
       "      <td>NA</td>\n",
       "      <td>CO;GW;H;P-J;SB</td>\n",
       "      <td>NP &amp; OP Swab</td>\n",
       "      <td>2022-10-03</td>\n",
       "      <td>2022-01-13</td>\n",
       "      <td>Positive</td>\n",
       "      <td>2022-01-18</td>\n",
       "      <td>Y</td>\n",
       "      <td>NA</td>\n",
       "    </tr>\n",
       "    <tr>\n",
       "      <th>560</th>\n",
       "      <td>BCRH/35/2022</td>\n",
       "      <td>COVM02688</td>\n",
       "      <td>24.0</td>\n",
       "      <td>F</td>\n",
       "      <td>Education Academic</td>\n",
       "      <td>Kenya</td>\n",
       "      <td>Bungoma</td>\n",
       "      <td>Bungoma central</td>\n",
       "      <td>Yes</td>\n",
       "      <td>Homabay</td>\n",
       "      <td>NA</td>\n",
       "      <td>CO;FC;H;P-C;ST</td>\n",
       "      <td>NP &amp; OP Swab</td>\n",
       "      <td>2022-12-06</td>\n",
       "      <td>2022-01-13</td>\n",
       "      <td>Positive</td>\n",
       "      <td>2022-01-18</td>\n",
       "      <td>Y</td>\n",
       "      <td>NA</td>\n",
       "    </tr>\n",
       "    <tr>\n",
       "      <th>561</th>\n",
       "      <td>BCRH/36/2022</td>\n",
       "      <td>COVM02689</td>\n",
       "      <td>23.0</td>\n",
       "      <td>F</td>\n",
       "      <td>Education Academic</td>\n",
       "      <td>Kenya</td>\n",
       "      <td>Bungoma</td>\n",
       "      <td>Bungoma central</td>\n",
       "      <td>Yes</td>\n",
       "      <td>Eldama;ravine</td>\n",
       "      <td>NA</td>\n",
       "      <td>NA</td>\n",
       "      <td>NP &amp; OP Swab</td>\n",
       "      <td>2022-12-06</td>\n",
       "      <td>2022-01-13</td>\n",
       "      <td>Positive</td>\n",
       "      <td>2022-01-18</td>\n",
       "      <td>Y</td>\n",
       "      <td>NA</td>\n",
       "    </tr>\n",
       "    <tr>\n",
       "      <th>29816</th>\n",
       "      <td>SDN/NP4087/2021</td>\n",
       "      <td>COVM03045</td>\n",
       "      <td>45.0</td>\n",
       "      <td>F</td>\n",
       "      <td>NA</td>\n",
       "      <td>Sudan</td>\n",
       "      <td>Khartoum</td>\n",
       "      <td>NA</td>\n",
       "      <td>No</td>\n",
       "      <td>NA</td>\n",
       "      <td>NA</td>\n",
       "      <td>NA</td>\n",
       "      <td>NP Swab</td>\n",
       "      <td>2121-10-10</td>\n",
       "      <td>2022-04-07</td>\n",
       "      <td>Positive</td>\n",
       "      <td>NaT</td>\n",
       "      <td>NA</td>\n",
       "      <td>NA</td>\n",
       "    </tr>\n",
       "    <tr>\n",
       "      <th>29818</th>\n",
       "      <td>SDN/VM4987/2021</td>\n",
       "      <td>COVM03047</td>\n",
       "      <td>22.0</td>\n",
       "      <td>F</td>\n",
       "      <td>NA</td>\n",
       "      <td>Sudan</td>\n",
       "      <td>Omdorman</td>\n",
       "      <td>NA</td>\n",
       "      <td>No</td>\n",
       "      <td>NA</td>\n",
       "      <td>NA</td>\n",
       "      <td>NA</td>\n",
       "      <td>NP Swab</td>\n",
       "      <td>2121-10-10</td>\n",
       "      <td>2022-04-07</td>\n",
       "      <td>Positive</td>\n",
       "      <td>NaT</td>\n",
       "      <td>NA</td>\n",
       "      <td>NA</td>\n",
       "    </tr>\n",
       "  </tbody>\n",
       "</table>\n",
       "</div>"
      ],
      "text/plain": [
       "               CASE_ID      S_NUM AGE_YRS GEND                OCCU    NAT  \\\n",
       "28566  KEM-21-02-93781  COVM00193    46.0    M                  NA  Kenya   \n",
       "28569  KEM-21-02-93550  COVM00196    14.0    F                  NA  Kenya   \n",
       "28602  KEM-21-03-93782  COVM00229    28.0    M                  NA  Kenya   \n",
       "28603  KEM-21-02-93544  COVM00230    15.0    F                  NA  Kenya   \n",
       "28627  KEM-21-02-93645  COVM00254    37.0    F                  NA  Kenya   \n",
       "28644  KEM-21-02-92432  COVM00271    22.0    M                  NA  Kenya   \n",
       "545       BCRH/20/2022  COVM02673    62.0    M                  NA  Kenya   \n",
       "560       BCRH/35/2022  COVM02688    24.0    F  Education Academic  Kenya   \n",
       "561       BCRH/36/2022  COVM02689    23.0    F  Education Academic  Kenya   \n",
       "29816  SDN/NP4087/2021  COVM03045    45.0    F                  NA  Sudan   \n",
       "29818  SDN/VM4987/2021  COVM03047    22.0    F                  NA  Sudan   \n",
       "\n",
       "      COUNT_RES      S_COUNT_RES TRAV_HIST      TRAV_FROM QUAR_PLACE  \\\n",
       "28566   Nairobi         Roysambu        No             NA         NA   \n",
       "28569    Kiambu           Limuru        No             NA         NA   \n",
       "28602   Makueni           Kilome       Yes             NA         NA   \n",
       "28603    Kiambu           Limuru        No             NA         NA   \n",
       "28627    Kiambu       Githunguri        No             NA         NA   \n",
       "28644  Murang'a          Kangema        No             NA         NA   \n",
       "545     Bungoma           Bumula        No             NA         NA   \n",
       "560     Bungoma  Bungoma central       Yes        Homabay         NA   \n",
       "561     Bungoma  Bungoma central       Yes  Eldama;ravine         NA   \n",
       "29816  Khartoum               NA        No             NA         NA   \n",
       "29818  Omdorman               NA        No             NA         NA   \n",
       "\n",
       "                       SYMPS     SAMP_TYPE DT_SAM_COLL DT_SAM_RECEP    RESULT  \\\n",
       "28566                     NA  NP & OP Swab  2021-02-26   2021-07-30  Positive   \n",
       "28569                CO;GW;H  NP & OP Swab  2021-02-23   2021-07-30  Positive   \n",
       "28602               GW;LS;LT  NP & OP Swab  2021-02-25   2021-07-30  Positive   \n",
       "28603                     NA  NP & OP Swab  2021-02-23   2021-07-30  Positive   \n",
       "28627  CO;FC;LS;LT;P-C;RN;ST  NP & OP Swab  2021-02-25   2021-07-30  Positive   \n",
       "28644                     NA  NP & OP Swab  2021-11-02   2021-07-30  Positive   \n",
       "545           CO;GW;H;P-J;SB  NP & OP Swab  2022-10-03   2022-01-13  Positive   \n",
       "560           CO;FC;H;P-C;ST  NP & OP Swab  2022-12-06   2022-01-13  Positive   \n",
       "561                       NA  NP & OP Swab  2022-12-06   2022-01-13  Positive   \n",
       "29816                     NA       NP Swab  2121-10-10   2022-04-07  Positive   \n",
       "29818                     NA       NP Swab  2121-10-10   2022-04-07  Positive   \n",
       "\n",
       "         DT_CONF VACC_STATUS VACC_DOS  \n",
       "28566 2021-02-03          NA       NA  \n",
       "28569 2021-02-03          NA       NA  \n",
       "28602 2021-02-03          NA       NA  \n",
       "28603 2021-02-03          NA       NA  \n",
       "28627 2021-02-03          NA       NA  \n",
       "28644 2021-02-16          NA       NA  \n",
       "545   2022-01-18           Y       NA  \n",
       "560   2022-01-18           Y       NA  \n",
       "561   2022-01-18           Y       NA  \n",
       "29816        NaT          NA       NA  \n",
       "29818        NaT          NA       NA  "
      ]
     },
     "execution_count": 112,
     "metadata": {},
     "output_type": "execute_result"
    }
   ],
   "source": [
    "df_dedud[mask5 | mask6 | mask7 == True]"
   ]
  },
  {
   "cell_type": "markdown",
   "metadata": {},
   "source": [
    "### **Export Cleaned Data**"
   ]
  },
  {
   "cell_type": "code",
   "execution_count": 113,
   "metadata": {},
   "outputs": [],
   "source": [
    "header_des1 = pd.MultiIndex.from_arrays([['CASE_ID', 'S_NUM', 'AGE_YRS', \n",
    "               'GEND', 'OCCU', 'NAT', 'COUNT_RES', 'S_COUNT_RES', 'TRAV_HIST', \n",
    "               'TRAV_FROM', 'QUAR_PLACE', 'SYMPS', 'SAMP_TYPE', 'DT_SAM_COLL', \n",
    "               'DT_SAM_RECEP', 'RESULT', 'DT_CONF', 'VACC_STATUS', 'VACC_DOS'], \n",
    "               ['Source sample ID', 'Unique lab ID', 'Age in years', 'Gender', \n",
    "               'Occupation', 'Nationality', 'County of residence', 'Sub-county of residence', \n",
    "               'Travel history', 'Place travelled', 'Place of quarantine', \n",
    "               'Symptoms', 'Sample type', 'Date of sample collection', \n",
    "               'Date of sample lab reception', 'RT-PCR results', 'Date of RT-PCR', \n",
    "               'Vaccination status', 'Vaccine dosage']], names=('abbr', 'desc'))"
   ]
  },
  {
   "cell_type": "code",
   "execution_count": 114,
   "metadata": {},
   "outputs": [],
   "source": [
    "df_dedud.columns = header_des1"
   ]
  },
  {
   "cell_type": "code",
   "execution_count": 115,
   "metadata": {},
   "outputs": [],
   "source": [
    "df_dedud.to_excel(f\"{glob.glob(f'{parent_dir}/**/Outputs', recursive=True)[0]}/COVID19-results-merged-cln.xlsx\", index=True)"
   ]
  },
  {
   "cell_type": "code",
   "execution_count": 116,
   "metadata": {},
   "outputs": [],
   "source": [
    "df_dedud[df_dedud['RESULT'] == 'Positive'].to_excel(f\"{glob.glob(f'{parent_dir}/**/Outputs', recursive=True)[0]}/COVID19-results-merged-cln-pos.xlsx\", header=header_des1, index=True)"
   ]
  },
  {
   "cell_type": "code",
   "execution_count": 117,
   "metadata": {},
   "outputs": [],
   "source": [
    "#df_dedud[df_dedud['S_NUM'].str.contains('COVC') == False]"
   ]
  },
  {
   "cell_type": "code",
   "execution_count": 118,
   "metadata": {},
   "outputs": [],
   "source": [
    "#df_dedud[df_dedud['S_NUM'].str.contains('COVC') == False]"
   ]
  },
  {
   "cell_type": "markdown",
   "metadata": {},
   "source": [
    "df_symps11-09-2020\n",
    "\n",
    "COVC9774\n",
    "COVC9775\n",
    "COVE20\n",
    "COVE21\n",
    "COVC9776\n",
    "COVC9777\n"
   ]
  },
  {
   "cell_type": "markdown",
   "metadata": {},
   "source": [
    "### **ID Misssing Data**"
   ]
  },
  {
   "cell_type": "code",
   "execution_count": 119,
   "metadata": {},
   "outputs": [],
   "source": [
    "start = 0\n",
    "start2 = 0\n",
    "df_missing = pd.DataFrame(columns=cols_rename)\n",
    "df_missing2 = pd.DataFrame(columns=cols_rename)\n",
    "for num in df_dedud[('S_NUM','Unique lab ID') ].sort_values():\n",
    "#     curr_row = df_dts_cln[df_dts_cln['S_NUM']]\n",
    "    try:\n",
    "        curr = int(num.lstrip('COVC').lstrip('0'))\n",
    "        curr2 = int(num.lstrip('COVM').lstrip('0'))\n",
    "        \n",
    "        if curr - start > 1:\n",
    "            start_id = f'COVC{start}'\n",
    "            start_id2 = f'COVM{start}'\n",
    "            cov_id = f'COVC{curr}'\n",
    "            cov_id2 = f'COVM{curr2}'\n",
    "            df_missing = pd.concat([df_missing, df_dts_cln[df_dts_cln['S_NUM'] == cov_names(start_id)]])\n",
    "            df_missing2 = pd.concat([df_missing, df_dts_cln[df_dts_cln['S_NUM'] == start_id2]])\n",
    "            df_missing = pd.concat([df_missing, df_dts_cln[df_dts_cln['S_NUM'] == cov_names(cov_id)]])\n",
    "            df_missing2 = pd.concat([df_missing, df_dts_cln[df_dts_cln['S_NUM'] == cov_id2]])\n",
    "        start = curr\n",
    "        start2 = curr2\n",
    "    except ValueError:\n",
    "#         print(f'ValueError: {num}')\n",
    "        pass"
   ]
  },
  {
   "cell_type": "code",
   "execution_count": 120,
   "metadata": {},
   "outputs": [],
   "source": [
    "#df_missing.head()"
   ]
  },
  {
   "cell_type": "code",
   "execution_count": 121,
   "metadata": {},
   "outputs": [],
   "source": [
    "(df_missing[['S_NUM', 'DT_SAM_COLL', 'DT_SAM_RECEP', 'DT_CONF']]\n",
    " .sort_values(['S_NUM', 'DT_CONF'])\n",
    " .drop_duplicates('S_NUM', keep='last')\n",
    " .to_excel(f\"{glob.glob(f'{parent_dir}/**/Outputs', recursive=True)[0]}/COVID19-results-merged-missing.xlsx\", index=False))"
   ]
  },
  {
   "cell_type": "markdown",
   "metadata": {},
   "source": [
    "### **ID Missing Results**"
   ]
  },
  {
   "cell_type": "code",
   "execution_count": 122,
   "metadata": {},
   "outputs": [],
   "source": [
    "(df_dts_cln[df_dts_cln['RESULT'].isin(['Positive', 'Negative']) == \n",
    "            False][['S_NUM', 'DT_SAM_COLL', 'DT_SAM_RECEP', 'DT_CONF', 'RESULT']]\n",
    ".to_excel(f\"{glob.glob(f'{parent_dir}/**/Outputs', recursive=True)[0]}/COVID19-results-merged-results-missing.xlsx\", index=False))"
   ]
  },
  {
   "cell_type": "code",
   "execution_count": 123,
   "metadata": {},
   "outputs": [],
   "source": [
    "# plt.style.available"
   ]
  },
  {
   "cell_type": "markdown",
   "metadata": {},
   "source": [
    "### **Metadata + Cts**"
   ]
  },
  {
   "cell_type": "code",
   "execution_count": 124,
   "metadata": {},
   "outputs": [],
   "source": [
    "df_Cts = pd.read_excel(f\"{glob.glob(f'{parent_dir}/**/Outputs', recursive=True)[0]}/runsheet-cts.xlsx\")[['Sample_Name', 'Well_Position', 'Ct_Mean', 'Dt_Run']]"
   ]
  },
  {
   "cell_type": "code",
   "execution_count": 125,
   "metadata": {},
   "outputs": [],
   "source": [
    "header_des2 = pd.MultiIndex.from_arrays([['S_NUM', 'RTPCR_POS', 'AVG_Ct', 'DT_RUN'], \n",
    "               ['Unique lab ID', 'RT-PCR Well position', 'Detection genes average Ct', 'RT-PCR run date']])"
   ]
  },
  {
   "cell_type": "code",
   "execution_count": 126,
   "metadata": {},
   "outputs": [],
   "source": [
    "df_Cts.columns = header_des2"
   ]
  },
  {
   "cell_type": "code",
   "execution_count": 127,
   "metadata": {},
   "outputs": [],
   "source": [
    "df_metCts = df_dedud.set_index(('S_NUM', 'Unique lab ID')).merge(df_Cts.set_index(('S_NUM', 'Unique lab ID')), how='left', left_index=True, right_index=True).reset_index().fillna('NA')#.rename(columns={'index': 'S_NUM', 'Ct_Mean': 'AVG_Ct'})"
   ]
  },
  {
   "cell_type": "code",
   "execution_count": 128,
   "metadata": {},
   "outputs": [],
   "source": [
    "writer = pd.ExcelWriter(f\"{glob.glob(f'{parent_dir}/**/Outputs', recursive=True)[0]}/COVID19-resultsCts-merged-cln.xlsx\")\n",
    "df_metCts.to_excel(writer, sheet_name='Metadata', index=True, na_rep='NA', float_format='%.1f')\n",
    "symptoms.to_excel(writer, sheet_name='symptomsDictionary', index=True, na_rep='NA', float_format='%.1f')\n",
    "writer.close()"
   ]
  },
  {
   "cell_type": "code",
   "execution_count": 129,
   "metadata": {},
   "outputs": [
    {
     "data": {
      "text/plain": [
       "(29809, 22)"
      ]
     },
     "execution_count": 129,
     "metadata": {},
     "output_type": "execute_result"
    }
   ],
   "source": [
    "df_metCts.shape"
   ]
  },
  {
   "cell_type": "code",
   "execution_count": 130,
   "metadata": {},
   "outputs": [],
   "source": [
    "df_metCts[df_metCts['RESULT'] == 'Positive'].to_excel(f\"{glob.glob(f'{parent_dir}/**/Outputs', recursive=True)[0]}/COVID19-resultsCts-merged-cln-pos.xlsx\", index=True)"
   ]
  },
  {
   "cell_type": "markdown",
   "metadata": {},
   "source": [
    "#### **Confirm updated file in the following cell**"
   ]
  },
  {
   "cell_type": "code",
   "execution_count": 131,
   "metadata": {},
   "outputs": [],
   "source": [
    "df_sequenced_samples = pd.read_excel(f\"{glob.glob(f'{parent_dir}/**/Outputs', recursive=True)[0]}/all-sequenced-samples-IDs_20-04-2022.xlsx\")\n",
    "seqd_list = list(df_sequenced_samples['SAMPLE'])"
   ]
  },
  {
   "cell_type": "code",
   "execution_count": 132,
   "metadata": {},
   "outputs": [],
   "source": [
    "df_dedud_pos = df_metCts[df_metCts['RESULT'] == 'Positive']\n",
    "df_dedud_pos_unseq = df_dedud_pos[df_dedud_pos['S_NUM'].isin(seqd_list) == False]\n",
    "df_dedud_pos_unseq.to_excel(f\"{glob.glob(f'{parent_dir}/**/Outputs', recursive=True)[0]}/all-unsequenced-pos-samples_{dt}.xlsx\", index=True)"
   ]
  },
  {
   "cell_type": "code",
   "execution_count": 133,
   "metadata": {},
   "outputs": [],
   "source": [
    "#df_dedud_pos_unseq"
   ]
  },
  {
   "cell_type": "code",
   "execution_count": 134,
   "metadata": {},
   "outputs": [],
   "source": [
    "df_dedud_pos = df_metCts[df_metCts['RESULT'] == 'Positive']\n",
    "df_dedud_pos_seq = df_dedud_pos[df_dedud_pos['S_NUM'].isin(seqd_list) == True]\n",
    "df_dedud_pos_seq.to_excel(f\"{glob.glob(f'{parent_dir}/**/Outputs', recursive=True)[0]}/all-sequenced-pos-samples_{dt}.xlsx\", index=True)"
   ]
  },
  {
   "cell_type": "markdown",
   "metadata": {},
   "source": [
    "### Positives 2021 - Unsequenced"
   ]
  },
  {
   "cell_type": "code",
   "execution_count": 135,
   "metadata": {},
   "outputs": [],
   "source": [
    "df_dedud_pos_unseq_21 = df_dedud_pos_unseq[df_dedud_pos_unseq['DT_CONF'] >= pd.to_datetime('2021-01-01 00:00:00')]\n",
    "df_dedud_pos_unseq_21.to_excel(f\"{glob.glob(f'{parent_dir}/**/Outputs', recursive=True)[0]}/all-unsequenced-pos-samples-2021_{dt}.xlsx\", index=True)"
   ]
  }
 ],
 "metadata": {
  "kernelspec": {
   "display_name": "Python 3",
   "language": "python",
   "name": "python3"
  },
  "language_info": {
   "codemirror_mode": {
    "name": "ipython",
    "version": 3
   },
   "file_extension": ".py",
   "mimetype": "text/x-python",
   "name": "python",
   "nbconvert_exporter": "python",
   "pygments_lexer": "ipython3",
   "version": "3.8.10"
  }
 },
 "nbformat": 4,
 "nbformat_minor": 4
}
