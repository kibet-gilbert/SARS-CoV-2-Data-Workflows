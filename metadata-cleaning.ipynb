{
 "cells": [
  {
   "cell_type": "markdown",
   "metadata": {},
   "source": [
    "$15^{th}$ Jul 2021"
   ]
  },
  {
   "cell_type": "code",
   "execution_count": 1,
   "metadata": {},
   "outputs": [],
   "source": [
    "import pandas as pd\n",
    "import seaborn as sns\n",
    "import numpy as np\n",
    "import glob, os, re\n",
    "import matplotlib.pyplot as plt\n",
    "from datetime import  datetime\n",
    "from ipywidgets import widgets, interactive"
   ]
  },
  {
   "cell_type": "code",
   "execution_count": 2,
   "metadata": {
    "tags": []
   },
   "outputs": [],
   "source": [
    "dt = datetime.today().strftime(format='%d-%m-%Y')"
   ]
  },
  {
   "cell_type": "markdown",
   "metadata": {},
   "source": [
    "### *Functions*"
   ]
  },
  {
   "cell_type": "code",
   "execution_count": 3,
   "metadata": {},
   "outputs": [],
   "source": [
    "def replace(string, substitutions):\n",
    "\n",
    "    substrings = sorted(substitutions, key=len, reverse=True)\n",
    "    regex = re.compile('|'.join(map(re.escape, substrings)))\n",
    "    return regex.sub(lambda match: substitutions[match.group(0)], string)"
   ]
  },
  {
   "cell_type": "code",
   "execution_count": 4,
   "metadata": {},
   "outputs": [],
   "source": [
    "def rename_cols_subset_df(df, cols):\n",
    "    df_new = df.copy()\n",
    "    df_new.columns = list(map(lambda x: x.split('(')[0].strip(' _'), [col.replace(' ', '_').replace('\\n', '_').upper() for col in df.columns]))\n",
    "    df_cln = df_new[df_new['SAMPLE_NUMBER'].notna()]\n",
    "    return df_cln[cols]"
   ]
  },
  {
   "cell_type": "code",
   "execution_count": 5,
   "metadata": {},
   "outputs": [],
   "source": [
    "def my_date_parser(x):\n",
    "    try:\n",
    "        if type(x) == pd.Timestamp:\n",
    "            x = x#.strftime('%d-%m-%Y')\n",
    "        if type(x) != pd.Timestamp and type(x) != (int, float, pd.NaT):\n",
    "            x = pd.to_datetime(x, errors='ignore', dayfirst=True)#.strftime('%d-%m-%Y')\n",
    "        if x in ['None indicated', 'NIL', 'Not indicated on form ',\n",
    "                    'Nil', 'None indicated', 'Leaked Sample - Empty', 'nan']:\n",
    "            x = pd.NaT\n",
    "    except (ValueError, AttributeError):\n",
    "        x = pd.NaT\n",
    "    return x"
   ]
  },
  {
   "cell_type": "markdown",
   "metadata": {},
   "source": [
    "### **Establish parent directory**"
   ]
  },
  {
   "cell_type": "code",
   "execution_count": 6,
   "metadata": {},
   "outputs": [],
   "source": [
    "#uniqueness in directory and file names is assumed for all analyses\n",
    "sars_dir = \"SARS-CoV-2\"\n",
    "home_dir = os.getenv('HOME')\n",
    "parent_dir = glob.glob(f'{home_dir}/**/{sars_dir}', recursive=True)[0]"
   ]
  },
  {
   "cell_type": "code",
   "execution_count": 7,
   "metadata": {},
   "outputs": [],
   "source": [
    "cols_of_interest = ['CASE_ID','SAMPLE_NUMBER', 'NAME', 'AGE', 'AGE_UNIT', 'GENDER', 'OCCUPATION', 'NATIONALITY'\n",
    "           , 'COUNTY_OF_RESIDENCE', 'SUB_COUNTY_OF_RESIDENCE', 'HAS_TRAVEL_HOSTORY', 'TRAVEL_FROM'\n",
    "           , 'QUARANTINE_FACILITY/HOSPITAL/HOMESTEAD', 'SYMTOMS_SHOWN', 'SAMPLE_TYPE', 'DATE_OF_SAMPLE_COLLECTION'\n",
    "           , 'DATE_SAMPLE_RECEIVED_IN_THE_LAB', 'RESULT', 'LAB_CONFIRMATION_DATE', 'VACCINATION_STATUS_Y/N'\n",
    "           , 'DOSAGE_C/NC']"
   ]
  },
  {
   "cell_type": "code",
   "execution_count": 8,
   "metadata": {
    "tags": []
   },
   "outputs": [],
   "source": [
    "files = os.listdir(glob.glob(f'{parent_dir}/**/ResultsDBCurated', recursive=True)[0])\n",
    "files = sorted(files)"
   ]
  },
  {
   "cell_type": "code",
   "execution_count": 9,
   "metadata": {},
   "outputs": [],
   "source": [
    "# keyerrors = []\n",
    "# df_raw = pd.DataFrame()\n",
    "# count = 0\n",
    "# for file in files:\n",
    "#     try:\n",
    "#         df_file = pd.read_excel(f'{data_dir}/{file}', header=1)\n",
    "#         df_data = rename_cols_subset_df(df_file, 'DATE_SAMPLE_RECEIVED_IN_THE_LAB')\n",
    "# #         df_raw = df_raw.append(df_data)\n",
    "#         count += 1\n",
    "#     except: \n",
    "#         if KeyError:\n",
    "#             keyerrors.append(file)\n",
    "#         elif ValueError:\n",
    "#             print(f'ValueError: {file}')\n",
    "#     finally: pass\n",
    "# print(len(keyerrors))\n",
    "# sorted(keyerrors)"
   ]
  },
  {
   "cell_type": "code",
   "execution_count": 10,
   "metadata": {},
   "outputs": [],
   "source": [
    "# files = ['COVID-19-Test_result_Reporting_01_07_2020-A.xlsx',\n",
    "#  'COVID-19-Test_result_Reporting_01_07_2020-B.xlsx',\n",
    "#  'COVID-19-Test_result_Reporting_05_09_2020-A.xlsx',\n",
    "#  'COVID-19-Test_result_Reporting_05_09_2020-B.xlsx',\n",
    "#  'COVID-19-Test_result_Reporting_08_09_2020.xlsx',\n",
    "#  'COVID-19-Test_result_Reporting_15_07_2020.xlsx',\n",
    "#  'COVID-19-Test_result_Reporting_18_06_2020.xlsx',\n",
    "#  'COVID-19-Test_result_Reporting_31_07_2020-A.xlsx',\n",
    "#  'COVID-19-Test_result_Reporting_31_07_2020-B.xlsx']"
   ]
  },
  {
   "cell_type": "code",
   "execution_count": 11,
   "metadata": {},
   "outputs": [],
   "source": [
    "# for file in files:\n",
    "#     df = pd.read_excel(f'{data_dir}/{file}', header=1)\n",
    "#     try:\n",
    "#         df.insert(27, 'DATE SAMPLE RECEIVED IN THE LAB', pd.NaT)\n",
    "#         df.to_excel(f'/home/douso/Documents/TrendData/Results/add_col/{file}', index=False, startrow=1)\n",
    "#     except:\n",
    "#         raise\n",
    "#         print (f'Error: {file}')\n",
    "#     finally: pass"
   ]
  },
  {
   "cell_type": "code",
   "execution_count": 12,
   "metadata": {},
   "outputs": [],
   "source": [
    "# keyerrors = []\n",
    "# df_raw = pd.DataFrame()\n",
    "# count = 0\n",
    "# for file in files:\n",
    "#     try:\n",
    "#         df_file = pd.read_excel(f'{data_dir}/{file}', header=1)\n",
    "#         df_data = rename_cols_subset_df(df_file, cols_of_interest)\n",
    "#         df_raw = df_raw.append(df_data)\n",
    "#         count += 1\n",
    "#     except: \n",
    "#         if KeyError:\n",
    "#             keyerrors.append(file)\n",
    "#         elif ValueError:\n",
    "#             print(f'ValueError: {file}')\n",
    "#     finally: pass\n",
    "# print(len(keyerrors))\n",
    "# sorted(keyerrors)"
   ]
  },
  {
   "cell_type": "code",
   "execution_count": 13,
   "metadata": {},
   "outputs": [],
   "source": [
    "headers = ['TESTING LAB', 'CASE ID', 'TYPE OF CASE'\n",
    "       , 'SAMPLE NUMBER', 'NAME', 'ID/PASSPORT NUMBER', 'AGE'\n",
    "       , 'AGE UNIT', 'GENDER', 'PHONE NUMBER'\n",
    "       , 'OCCUPATION', 'NATIONALITY', 'COUNTY OF RESIDENCE'\n",
    "       , 'SUB COUNTY OF RESIDENCE', 'VILLAGE/ESTATE OF RESIDENCE', 'WARD'\n",
    "       , 'COUNTY OF DIAGNOSIS', 'HAS TRAVEL HOSTORY'\n",
    "       , 'TRAVEL FROM', 'CONTACT WITH CASE Y/N', 'CONFIRMED CASE NAME'\n",
    "       , 'QUARANTINE FACILITY/HOSPITAL/HOMESTEAD', 'HAVE SYMPTOMS Y/N'\n",
    "       , 'DATE OF ONSET OF SYMPTOMS', 'SYMTOMS SHOWN'\n",
    "       , 'SAMPLE TYPE', 'DATE OF SAMPLE COLLECTION', 'DATE SAMPLE RECEIVED IN THE LAB'\n",
    "       , 'RESULT', 'LAB CONFIRMATION DATE', 'VACCINATION STATUS Y/N', 'DOSAGE C/NC']"
   ]
  },
  {
   "cell_type": "code",
   "execution_count": 14,
   "metadata": {},
   "outputs": [],
   "source": [
    "id_headers = ['SAMPLE_NUMBER', 'NAME', 'ID/PASSPORT_NUMBER', 'AGE',\n",
    "       'AGE_UNIT', 'GENDER', 'PHONE_NUMBER', 'RESULT',\n",
    "       'LAB_CONFIRMATION_DATE']"
   ]
  },
  {
   "cell_type": "code",
   "execution_count": 15,
   "metadata": {},
   "outputs": [],
   "source": [
    "# for file in keyerrors[:-1]:\n",
    "#     df_file = pd.read_excel(f'{data_dir}/{file}', header=1)\n",
    "#     df_file.columns = headers\n",
    "#     df_file.to_excel(f'{data_dir}/add_col2/{file}', startrow=1)"
   ]
  },
  {
   "cell_type": "markdown",
   "metadata": {},
   "source": [
    "The following 60 sheets, besides some June sheets (manually fixed earlier), lacked the `DATE_SAMPLE_RECEIVED_IN_THE_LAB` column, it was added for uniformity:\n",
    "\n",
    "- 'COVID-19-Test_result_Reporting_01_07_2020.xlsx'\n",
    "- 'COVID-19-Test_result_Reporting_01_09_2020.xlsx'\n",
    "- 'COVID-19-Test_result_Reporting_02_09_2020.xlsx'\n",
    "- 'COVID-19-Test_result_Reporting_03_07_2020.xlsx'\n",
    "- 'COVID-19-Test_result_Reporting_03_08_2020.xlsx'\n",
    "- 'COVID-19-Test_result_Reporting_03_09_2020.xlsx'\n",
    "- 'COVID-19-Test_result_Reporting_04_07_2020.xlsx'\n",
    "- 'COVID-19-Test_result_Reporting_04_08_2020.xlsx'\n",
    "- 'COVID-19-Test_result_Reporting_04_09_2020.xlsx'\n",
    "- 'COVID-19-Test_result_Reporting_05_07_2020.xlsx'\n",
    "- 'COVID-19-Test_result_Reporting_05_08_2020.xlsx'\n",
    "- 'COVID-19-Test_result_Reporting_05_09_2020.xlsx'\n",
    "- 'COVID-19-Test_result_Reporting_06_07_2020.xlsx'\n",
    "- 'COVID-19-Test_result_Reporting_06_08_2020.xlsx'\n",
    "- 'COVID-19-Test_result_Reporting_07_07_2020.xlsx'\n",
    "- 'COVID-19-Test_result_Reporting_07_08_2020.xlsx'\n",
    "- 'COVID-19-Test_result_Reporting_07_09_2020.xlsx'\n",
    "- 'COVID-19-Test_result_Reporting_08_07_2020.xlsx'\n",
    "- 'COVID-19-Test_result_Reporting_08_08_2020.xlsx'\n",
    "- 'COVID-19-Test_result_Reporting_09_07_2020.xlsx'\n",
    "- 'COVID-19-Test_result_Reporting_09_08_2020.xlsx'\n",
    "- 'COVID-19-Test_result_Reporting_10_08_2020.xlsx'\n",
    "- 'COVID-19-Test_result_Reporting_11_08_2020.xlsx'\n",
    "- 'COVID-19-Test_result_Reporting_12_08_2020.xlsx'\n",
    "- 'COVID-19-Test_result_Reporting_13_07_2020.xlsx'\n",
    "- 'COVID-19-Test_result_Reporting_13_08_2020.xlsx'\n",
    "- 'COVID-19-Test_result_Reporting_14_07_2020.xlsx'\n",
    "- 'COVID-19-Test_result_Reporting_14_08_2020.xlsx'\n",
    "- 'COVID-19-Test_result_Reporting_15_08_2020-A.xlsx'\n",
    "- 'COVID-19-Test_result_Reporting_15_08_2020-B.xlsx'\n",
    "- 'COVID-19-Test_result_Reporting_16_06_2020.xlsx'\n",
    "- 'COVID-19-Test_result_Reporting_16_10_2020 (1).xlsx'\n",
    "- 'COVID-19-Test_result_Reporting_17_07_2020.xlsx'\n",
    "- 'COVID-19-Test_result_Reporting_17_08_2020.xlsx'\n",
    "- 'COVID-19-Test_result_Reporting_18_07_2020.xlsx'\n",
    "- 'COVID-19-Test_result_Reporting_18_08_2020.xlsx'\n",
    "- 'COVID-19-Test_result_Reporting_19_06_2020.xlsx'\n",
    "- 'COVID-19-Test_result_Reporting_19_08_2020.xlsx'\n",
    "- 'COVID-19-Test_result_Reporting_20_06_2020.xlsx'\n",
    "- 'COVID-19-Test_result_Reporting_20_08_2020.xlsx'\n",
    "- 'COVID-19-Test_result_Reporting_21_06_2020.xlsx'\n",
    "- 'COVID-19-Test_result_Reporting_21_07_2020.xlsx'\n",
    "- 'COVID-19-Test_result_Reporting_21_08_2020.xlsx'\n",
    "- 'COVID-19-Test_result_Reporting_22_08_2020.xlsx'\n",
    "- 'COVID-19-Test_result_Reporting_23_07_2020.xlsx'\n",
    "- 'COVID-19-Test_result_Reporting_24_06_2020.xlsx'\n",
    "- 'COVID-19-Test_result_Reporting_24_07_2020.xlsx'\n",
    "- 'COVID-19-Test_result_Reporting_24_08_2020-A.xlsx'\n",
    "- 'COVID-19-Test_result_Reporting_24_08_2020-B.xlsx'\n",
    "- 'COVID-19-Test_result_Reporting_25_06_2020.xlsx'\n",
    "- 'COVID-19-Test_result_Reporting_25_08_2020.xlsx'\n",
    "- 'COVID-19-Test_result_Reporting_27_06_2020.xlsx'\n",
    "- 'COVID-19-Test_result_Reporting_27_07_2020.xlsx'\n",
    "- 'COVID-19-Test_result_Reporting_27_08_2020.xlsx'\n",
    "- 'COVID-19-Test_result_Reporting_28_06_2020.xlsx'\n",
    "- 'COVID-19-Test_result_Reporting_28_07_2020.xlsx'\n",
    "- 'COVID-19-Test_result_Reporting_28_08_2020.xlsx'\n",
    "- 'COVID-19-Test_result_Reporting_29_06_2020.xlsx'\n",
    "- 'COVID-19-Test_result_Reporting_29_07_2020.xlsx'\n",
    "- 'COVID-19-Test_result_Reporting_29_08_2020.xlsx'"
   ]
  },
  {
   "cell_type": "code",
   "execution_count": 16,
   "metadata": {},
   "outputs": [],
   "source": [
    "# for file in files:\n",
    "#     df = pd.read_excel(f'{data_dir}/{file}', header=1)\n",
    "#     try:\n",
    "#         df.insert(27, 'DATE SAMPLE RECEIVED IN THE LAB', np.nan)\n",
    "#         df.to_excel(f'{data_dir}/add_col/{file}', index=False, startrow=1)\n",
    "#     except:\n",
    "#         raise\n",
    "#         print (f'Error: {file}')\n",
    "#     finally: pass"
   ]
  },
  {
   "cell_type": "markdown",
   "metadata": {},
   "source": [
    "The follwing sheets have missing values for the `RESULT` column:\n",
    "- 'COVID-19-Test_result_Reporting_20_06_2020.xlsx'\n",
    "- 'COVID-19-Test_result_Reporting_16_06_2020.xlsx'"
   ]
  },
  {
   "cell_type": "markdown",
   "metadata": {},
   "source": [
    "Updated column names of some of the Jun files ['GENDER_(M/F)', 'LAB_CONFIRMATION_DATE', 'RESULT']"
   ]
  },
  {
   "cell_type": "code",
   "execution_count": 17,
   "metadata": {},
   "outputs": [],
   "source": [
    "# df_raw = pd.DataFrame()\n",
    "# count = 0\n",
    "# for file in files:\n",
    "#     if file.endswith('.xlsx'):\n",
    "#         try:\n",
    "#             df_file = pd.read_excel(f'{data_dir}/{file}', header=1)\n",
    "#             df_data = rename_cols_subset_df(df_file, cols_of_interest)\n",
    "#             df_raw = df_raw.append(df_data)\n",
    "#             count += 1\n",
    "#         except: \n",
    "#             if KeyError:\n",
    "# #                 raise\n",
    "#                 print(f'KeyError: {file}')\n",
    "#             elif ValueError:\n",
    "#                 print(f'ValueError: {file}')\n",
    "#         finally: pass\n",
    "#     pass\n",
    "# print(f'Files processed: {count}')\n",
    "# print(f'Files in the folder: {len(files)}')"
   ]
  },
  {
   "cell_type": "markdown",
   "metadata": {},
   "source": [
    "### Travel History Missing - the HOSTORY misspelling\n",
    "\n",
    "- COVID-19-Test_result_Reporting_09_09_2020.xlsx\n",
    "- COVID-19-Test_result_Reporting_11_09_2020.xlsx\n",
    "- COVID-19-Test_result_Reporting_12_09_2020.xlsx\n",
    "- COVID-19-Test_result_Reporting_14_09_2020.xlsx\n",
    "- COVID-19-Test_result_Reporting_15_09_2020.xlsx\n",
    "- COVID-19-Test_result_Reporting_18_10_2020.xlsx\n",
    "- Files processed: 249\n",
    "- Files in the folder: 256"
   ]
  },
  {
   "cell_type": "code",
   "execution_count": 18,
   "metadata": {},
   "outputs": [],
   "source": [
    "# keyerrors = []\n",
    "# # df_raw = pd.DataFrame()\n",
    "# count = 0\n",
    "# for file in files:\n",
    "#     try:\n",
    "#         df_file = pd.read_excel(f'{data_dir}/{file}', header=1)\n",
    "#         df_data = rename_cols_subset_df(df_file, cols_of_interest)\n",
    "# #         df_raw = df_raw.append(df_data)\n",
    "#         count += 1\n",
    "#     except: \n",
    "#         if KeyError:\n",
    "#             keyerrors.append(file)\n",
    "#         elif ValueError:\n",
    "#             print(f'ValueError: {file}')\n",
    "#     finally: pass\n",
    "# print(len(keyerrors))\n",
    "# sorted(keyerrors)"
   ]
  },
  {
   "cell_type": "code",
   "execution_count": 19,
   "metadata": {},
   "outputs": [],
   "source": [
    "# files = ['COVID-19-Test_result_Reporting_09_09_2020.xlsx',\n",
    "#  'COVID-19-Test_result_Reporting_11_09_2020.xlsx',\n",
    "#  'COVID-19-Test_result_Reporting_12_09_2020.xlsx',\n",
    "#  'COVID-19-Test_result_Reporting_14_09_2020.xlsx',\n",
    "#  'COVID-19-Test_result_Reporting_15_09-2020.xlsx',\n",
    "#  'COVID-19-Test_result_Reporting_18_10_2020.xlsx']"
   ]
  },
  {
   "cell_type": "code",
   "execution_count": 20,
   "metadata": {},
   "outputs": [],
   "source": [
    "# for file in files:\n",
    "#     df_file = pd.read_excel(f'{data_dir}/{file}', header=1)\n",
    "#     (df_file.rename(columns={'HAS TRAVEL HISTORY(LAST 14 DAYS) Y/N': 'HAS TRAVEL HOSTORY(LAST 14 DAYS) Y/N'}, errors='raise').\n",
    "#     to_excel(f'{data_dir}/rename_col/{file}', index=False, startrow=1))"
   ]
  },
  {
   "cell_type": "markdown",
   "metadata": {},
   "source": [
    "### Start of find repeat tests"
   ]
  },
  {
   "cell_type": "raw",
   "metadata": {},
   "source": [
    "sorted(list(set(map(lambda x: x.replace('_', ' '), id_headers)) & set(headers))) == sorted(list(map(lambda x: x.replace('_', ' '), id_headers)))"
   ]
  },
  {
   "cell_type": "raw",
   "metadata": {},
   "source": [
    "df_raw_ids = pd.DataFrame()\n",
    "count = 0\n",
    "for file in files:\n",
    "    if file.endswith('.xlsx'):\n",
    "        try:\n",
    "            df_file = pd.read_excel(f'{data_dir}/{file}', header=1)\n",
    "            if (sorted(list(set(map(lambda x: x.replace('_', ' '), \n",
    "                id_headers)) & set(headers))) == sorted(list(map(lambda x: \n",
    "                x.replace('_', ' '), id_headers)))):\n",
    "                df_data = rename_cols_subset_df(df_file, id_headers)\n",
    "                df_raw_ids = df_raw_ids.append(df_data)\n",
    "                count += 1\n",
    "            \n",
    "        except: \n",
    "            if KeyError:\n",
    "                print(f'KeyError: {file}')\n",
    "                raise\n",
    "                print(f'KeyError: {file}')\n",
    "            elif ValueError:\n",
    "                print(f'ValueError: {file}')\n",
    "        finally: pass\n",
    "    pass\n",
    "print(f'Files processed: {count}')\n",
    "print(f'Files in the folder: {len(files)}')"
   ]
  },
  {
   "cell_type": "raw",
   "metadata": {},
   "source": [
    "df_raw_ids['LAB_CONFIRMATION_DATE'] = df_raw_ids['LAB_CONFIRMATION_DATE'].apply(lambda x: pd.to_datetime(x, errors='coerce'))"
   ]
  },
  {
   "cell_type": "raw",
   "metadata": {},
   "source": [
    "df_raw_ids.info()#pd.to_datetime('2021-01-01 00:00:00', errors='coerce')"
   ]
  },
  {
   "cell_type": "raw",
   "metadata": {},
   "source": [
    "df_2021 = df_raw_ids[df_raw_ids['LAB_CONFIRMATION_DATE'] > pd.to_datetime('2021-01-01')]# & df_raw_ids['LAB_CONFIRMATION_DATE'] < pd.to_datetime(datetime.now())]\n",
    "df_2021.shape"
   ]
  },
  {
   "cell_type": "raw",
   "metadata": {},
   "source": [
    "df_2021['ID/PASSPORT_NUMBER']=df_2021['ID/PASSPORT_NUMBER'].astype(str).apply(lambda x: x.replace('.0', ''))"
   ]
  },
  {
   "cell_type": "raw",
   "metadata": {},
   "source": [
    "df_2021[df_2021.sort_values('ID/PASSPORT_NUMBER', ignore_index=True).duplicated(['ID/PASSPORT_NUMBER'], False)==True].sort_values('ID/PASSPORT_NUMBER').drop_duplicates(keep=False).sort_values('ID/PASSPORT_NUMBER').to_excel('../SomeFIle.xlsx')#dropna(subset=['ID/PASSPORT_NUMBER'])"
   ]
  },
  {
   "cell_type": "raw",
   "metadata": {},
   "source": [
    "pd.to_datetime(datetime.now())"
   ]
  },
  {
   "cell_type": "raw",
   "metadata": {},
   "source": [
    "df_raw_ids['PHONE_NUMBER']=df_raw_ids['PHONE_NUMBER'].apply(lambda x: str(x).lstrip('0').replace('.0', ''))"
   ]
  },
  {
   "cell_type": "raw",
   "metadata": {},
   "source": [
    "df_ids_phone = df_raw_ids[(df_raw_ids\n",
    "             .sort_values('PHONE_NUMBER', ignore_index=True)#, key=lambda col: col.astype(str))\n",
    "            .duplicated(['PHONE_NUMBER'], keep=False)) == True]\n",
    "df_ids_phone.shape"
   ]
  },
  {
   "cell_type": "raw",
   "metadata": {},
   "source": [
    "phones = df_ids_phone.dropna(subset=['PHONE_NUMBER'])\n",
    "phones.shape"
   ]
  },
  {
   "cell_type": "raw",
   "metadata": {},
   "source": [
    "phones = df_ids_phone[df_ids_phone['PHONE_NUMBER'].isna() == False].sort_values('PHONE_NUMBER', key=lambda col: col.astype(str))\n",
    "phones.shape"
   ]
  },
  {
   "cell_type": "raw",
   "metadata": {},
   "source": [
    "phones.head()#['PHONE_NUMBER']=phones['PHONE_NUMBER'].astype(str).apply(lambda x: x.rstrip('.0'))"
   ]
  },
  {
   "cell_type": "raw",
   "metadata": {},
   "source": [
    "phones2 = phones.sort_values('PHONE_NUMBER').drop_duplicates('PHONE_NUMBER', False)\n",
    "phones2.shape"
   ]
  },
  {
   "cell_type": "raw",
   "metadata": {},
   "source": [
    "phones2_list = list(phones2['PHONE_NUMBER'])"
   ]
  },
  {
   "cell_type": "raw",
   "metadata": {},
   "source": [
    "df_phones_rep = phones[phones['PHONE_NUMBER'].isin(phones2_list) == False].sort_values('SAMPLE_NUMBER').drop_duplicates(['SAMPLE_NUMBER'], False).sort_values('PHONE_NUMBER')\n",
    "df_phones_rep = df_phones_rep[df_phones_rep.duplicated('PHONE_NUMBER', False) == True]\n",
    "df_phones_rep.shape"
   ]
  },
  {
   "cell_type": "raw",
   "metadata": {},
   "source": [
    "df_phones_rep1 = df_phones_rep.drop(df_phones_rep[df_phones_rep['PHONE_NUMBER'].str.contains('ndicat')].index)"
   ]
  },
  {
   "cell_type": "raw",
   "metadata": {},
   "source": [
    "df_phones_rep2 = df_phones_rep1.drop(df_phones_rep1[df_phones_rep1['PHONE_NUMBER'].str.contains('il')].index)\n",
    "df_phones_rep2.head()"
   ]
  },
  {
   "cell_type": "raw",
   "metadata": {},
   "source": [
    "df_phones_rep3 = df_phones_rep1.drop(df_phones_rep1[df_phones_rep1['PHONE_NUMBER'].str.contains('nan')].index)\n",
    "df_phones_rep3"
   ]
  },
  {
   "cell_type": "raw",
   "metadata": {},
   "source": [
    "df_ids_id = df_raw_ids[(df_raw_ids\n",
    "             .sort_values(['ID/PASSPORT_NUMBER'], ignore_index=True, key=lambda col: col.astype(str))\n",
    "            .duplicated(['ID/PASSPORT_NUMBER'], keep=False)) == True]"
   ]
  },
  {
   "cell_type": "raw",
   "metadata": {},
   "source": [
    "ids = df_ids_id[df_ids_id['ID/PASSPORT_NUMBER'].isna() == False].sort_values('ID/PASSPORT_NUMBER', key=lambda col: col.astype(str))"
   ]
  },
  {
   "cell_type": "raw",
   "metadata": {},
   "source": [
    "ids['ID/PASSPORT_NUMBER']=ids['ID/PASSPORT_NUMBER'].astype(str).apply(lambda x: x.rstrip('.0'))"
   ]
  },
  {
   "cell_type": "raw",
   "metadata": {},
   "source": [
    "ids.head()"
   ]
  },
  {
   "cell_type": "raw",
   "metadata": {},
   "source": [
    "ids2 = ids.sort_values('ID/PASSPORT_NUMBER').drop_duplicates('ID/PASSPORT_NUMBER', False)"
   ]
  },
  {
   "cell_type": "raw",
   "metadata": {},
   "source": [
    "ids2_list = list(ids2['ID/PASSPORT_NUMBER'])"
   ]
  },
  {
   "cell_type": "raw",
   "metadata": {},
   "source": [
    "df_ids_rep = ids[ids['ID/PASSPORT_NUMBER'].isin(ids2_list) == False].drop_duplicates(['SAMPLE_NUMBER'], False).sort_values('ID/PASSPORT_NUMBER')\n",
    "df_ids_rep = df_ids_rep[df_ids_rep.duplicated('ID/PASSPORT_NUMBER', False) == True]"
   ]
  },
  {
   "cell_type": "raw",
   "metadata": {},
   "source": [
    "df_ids_rep1 = df_ids_rep.drop(df_ids_rep[df_ids_rep['ID/PASSPORT_NUMBER'].str.contains('ndicat')].index)"
   ]
  },
  {
   "cell_type": "raw",
   "metadata": {},
   "source": [
    "df_ids_rep2 = df_ids_rep1.drop(df_ids_rep1[df_ids_rep1['ID/PASSPORT_NUMBER'].str.contains('il')].index)\n",
    "df_ids_rep2.sort_values(['ID/PASSPORT_NUMBER'])\n",
    "print(df_ids_rep2.shape)\n",
    "df_ids_rep2.head()"
   ]
  },
  {
   "cell_type": "markdown",
   "metadata": {},
   "source": [
    "### End of find repeat tests"
   ]
  },
  {
   "cell_type": "code",
   "execution_count": 21,
   "metadata": {},
   "outputs": [],
   "source": [
    "id_headers = ['SAMPLE_NUMBER', 'NAME', 'AGE',\n",
    "       'AGE_UNIT', 'GENDER', 'RESULT',\n",
    "       'LAB_CONFIRMATION_DATE']"
   ]
  },
  {
   "cell_type": "code",
   "execution_count": 22,
   "metadata": {},
   "outputs": [
    {
     "name": "stderr",
     "output_type": "stream",
     "text": [
      "/home/douso/.local/lib/python3.8/site-packages/openpyxl/worksheet/_reader.py:312: UserWarning: Data Validation extension is not supported and will be removed\n",
      "  warn(msg)\n"
     ]
    },
    {
     "name": "stdout",
     "output_type": "stream",
     "text": [
      "Files processed: 329\n",
      "Files in the folder: 329\n"
     ]
    }
   ],
   "source": [
    "df_raw = pd.DataFrame()\n",
    "count = 0\n",
    "for file in files:\n",
    "    if file.endswith('.xlsx'):\n",
    "        try:\n",
    "            df_file = pd.read_excel(f\"{glob.glob(f'{parent_dir}/**/ResultsDBCurated', recursive=True)[0]}/{file}\", header=1)\n",
    "            if 'VACCINATION STATUS Y/N' not in df_file.columns:\n",
    "                df_file[['VACCINATION_STATUS_Y/N', 'DOSAGE_C/NC']] = [pd.NA, pd.NA]\n",
    "            df_data = rename_cols_subset_df(df_file, cols_of_interest)\n",
    "            df_raw = df_raw.append(df_data)\n",
    "            count += 1\n",
    "        except:\n",
    "            if KeyError:\n",
    "                print(f'KeyError: {file}')\n",
    "                raise\n",
    "                print(f'KeyError: {file}')\n",
    "            if ValueError:\n",
    "                print(f'ValueError: {file}')\n",
    "#                 raise\n",
    "        finally: pass\n",
    "    pass\n",
    "print(f'Files processed: {count}')\n",
    "print(f'Files in the folder: {len(files)}')"
   ]
  },
  {
   "cell_type": "raw",
   "metadata": {},
   "source": [
    "KeyError: COVID19_Reporting_06-10-2020.xlsx\n",
    "KeyError: COVID19_Reporting_16-09-2020.xlsx\n",
    "KeyError: COVID19_Reporting_17-09-2020.xlsx\n",
    "KeyError: COVID19_Reporting_18-09-2020.xlsx\n",
    "KeyError: COVID19_Reporting_19-09-2020.xlsx\n",
    "KeyError: COVID19_Reporting_25-10-2020-A.xlsx\n",
    "Files processed: 273\n",
    "Files in the folder: 281"
   ]
  },
  {
   "cell_type": "raw",
   "metadata": {},
   "source": [
    "KeyError: COVID-19-Test_result_Reporting_06_10_2020.xlsx\n",
    "KeyError: COVID-19-Test_result_Reporting_16_09_2020.xlsx\n",
    "KeyError: COVID-19-Test_result_Reporting_17_09_2020.xlsx\n",
    "KeyError: COVID-19-Test_result_Reporting_18_09_2020.xlsx\n",
    "KeyError: COVID-19-Test_result_Reporting_19_09_2020.xlsx\n",
    "KeyError: COVID-19-Test_result_Reporting_25_10_2020-B.xlsx\n",
    "KeyError: COVID19_Reporting_06-10-2020.xlsx\n",
    "KeyError: COVID19_Reporting_16-09-2020.xlsx\n",
    "KeyError: COVID19_Reporting_17-09-2020.xlsx\n",
    "KeyError: COVID19_Reporting_18-09-2020.xlsx\n",
    "KeyError: COVID19_Reporting_19-09-2020.xlsx\n",
    "KeyError: COVID19_Reporting_24-10-2020-A.xlsx\n",
    "KeyError: COVID19_Reporting_25-10-2020-A.xlsx\n",
    "KeyError: COVID19_Reporting_27-10-2020.xlsx\n",
    "Files processed: 265\n",
    "Files in the folder: 281"
   ]
  },
  {
   "cell_type": "code",
   "execution_count": 23,
   "metadata": {},
   "outputs": [],
   "source": [
    "# df_raw.head()"
   ]
  },
  {
   "cell_type": "markdown",
   "metadata": {},
   "source": [
    "### **Clean Headers**"
   ]
  },
  {
   "cell_type": "code",
   "execution_count": 24,
   "metadata": {},
   "outputs": [],
   "source": [
    "cols_rename = ['CASE_ID', 'S_NUM', 'AGE', 'AGE_UNIT', 'GEND', 'OCCU', 'NAT', 'COUNT_RES', 'S_COUNT_RES', 'TRAV_HIST', \n",
    "                    'TRAV_FROM', 'QUAR_PLACE', 'SYMPS', 'SAMP_TYPE', 'DT_SAM_COLL', 'DT_SAM_RECEP', 'RESULT', 'DT_CONF', 'VACC_STATUS', 'VACC_DOS']"
   ]
  },
  {
   "cell_type": "code",
   "execution_count": 25,
   "metadata": {},
   "outputs": [],
   "source": [
    "# df_raw.columns = cols_rename"
   ]
  },
  {
   "cell_type": "markdown",
   "metadata": {},
   "source": [
    "### **Clean Sample Numbers**"
   ]
  },
  {
   "cell_type": "code",
   "execution_count": 26,
   "metadata": {},
   "outputs": [],
   "source": [
    "def cov_names(x):\n",
    "    x = x.upper().replace(' ', '')\n",
    "    if len(x) == 8:\n",
    "        x = x.replace('COVC', 'COVC0')\n",
    "    elif len(x) == 7:\n",
    "        x = x.replace('COVC', 'COVC00')\n",
    "    elif len(x) == 6:\n",
    "        x = x.replace('COVC', 'COVC000')\n",
    "    elif len(x) == 5:\n",
    "        x = x.replace('COVC', 'COVC0000')\n",
    "    return x"
   ]
  },
  {
   "cell_type": "code",
   "execution_count": 27,
   "metadata": {},
   "outputs": [],
   "source": [
    "cols_of_interest2 = ['CASE_ID', 'S_NUM', 'NAME', 'AGE', 'AGE_UNIT', 'GEND', 'OCCU', 'NAT', 'COUNT_RES', 'S_COUNT_RES', 'TRAV_HIST', \n",
    "                    'TRAV_FROM', 'QUAR_PLACE', 'SYMPS', 'SAMP_TYPE', 'DT_SAM_COLL', 'DT_SAM_RECEP', 'RESULT', 'DT_CONF', 'VACC_STATUS', 'VACC_DOS']"
   ]
  },
  {
   "cell_type": "code",
   "execution_count": 28,
   "metadata": {},
   "outputs": [],
   "source": [
    "df_raw.to_excel(f\"{glob.glob(f'{parent_dir}/**/Outputs', recursive=True)[0]}/COVID19-results-merged.xlsx\", \n",
    "              index=False, header=cols_of_interest2)"
   ]
  },
  {
   "cell_type": "code",
   "execution_count": 29,
   "metadata": {},
   "outputs": [],
   "source": [
    "df_mrg_mtdata = pd.read_excel(f\"{glob.glob(f'{parent_dir}/**/Outputs', recursive=True)[0]}/COVID19-results-merged.xlsx\", usecols=cols_rename)"
   ]
  },
  {
   "cell_type": "markdown",
   "metadata": {},
   "source": [
    "### **Clean Sample Name**"
   ]
  },
  {
   "cell_type": "code",
   "execution_count": 30,
   "metadata": {},
   "outputs": [],
   "source": [
    "df_name = df_mrg_mtdata.assign(S_NUM=df_mrg_mtdata['S_NUM'].apply(lambda x: cov_names(x)))"
   ]
  },
  {
   "cell_type": "code",
   "execution_count": 31,
   "metadata": {},
   "outputs": [],
   "source": [
    "#df_name[df_name['S_NUM'].str.len() < 8]"
   ]
  },
  {
   "cell_type": "code",
   "execution_count": 32,
   "metadata": {},
   "outputs": [],
   "source": [
    "#df_name[df_name['S_NUM'].str.contains('COVC') == False]"
   ]
  },
  {
   "cell_type": "markdown",
   "metadata": {},
   "source": [
    "### **Clean Age**"
   ]
  },
  {
   "cell_type": "code",
   "execution_count": 33,
   "metadata": {
    "tags": []
   },
   "outputs": [],
   "source": [
    "#df_name[df_name['AGE_UNIT'] == 'Days']"
   ]
  },
  {
   "cell_type": "code",
   "execution_count": 34,
   "metadata": {
    "tags": []
   },
   "outputs": [],
   "source": [
    "df_months = df_name[df_name['AGE_UNIT'] == 'Months']"
   ]
  },
  {
   "cell_type": "code",
   "execution_count": 35,
   "metadata": {
    "tags": []
   },
   "outputs": [],
   "source": [
    "#df_months.head()"
   ]
  },
  {
   "cell_type": "code",
   "execution_count": 36,
   "metadata": {
    "tags": []
   },
   "outputs": [],
   "source": [
    "df_mn2yrs = df_months.assign(AGE=df_months['AGE'].map(lambda x: round(x / 12, 1))).replace('Months', 'Years')"
   ]
  },
  {
   "cell_type": "code",
   "execution_count": 37,
   "metadata": {},
   "outputs": [],
   "source": [
    "#df_mn2yrs.head()"
   ]
  },
  {
   "cell_type": "code",
   "execution_count": 38,
   "metadata": {},
   "outputs": [],
   "source": [
    "#df_name[df_name['AGE_UNIT'] == 'Days']#.AGE_UNIT.unique()"
   ]
  },
  {
   "cell_type": "code",
   "execution_count": 39,
   "metadata": {},
   "outputs": [],
   "source": [
    "df_not_months = df_name[df_name['AGE_UNIT'] != 'Months']"
   ]
  },
  {
   "cell_type": "code",
   "execution_count": 40,
   "metadata": {},
   "outputs": [
    {
     "data": {
      "text/plain": [
       "(28461, 20)"
      ]
     },
     "execution_count": 40,
     "metadata": {},
     "output_type": "execute_result"
    }
   ],
   "source": [
    "df_not_months.shape"
   ]
  },
  {
   "cell_type": "code",
   "execution_count": 41,
   "metadata": {},
   "outputs": [
    {
     "data": {
      "text/plain": [
       "(77, 20)"
      ]
     },
     "execution_count": 41,
     "metadata": {},
     "output_type": "execute_result"
    }
   ],
   "source": [
    "df_mn2yrs.shape"
   ]
  },
  {
   "cell_type": "code",
   "execution_count": 42,
   "metadata": {},
   "outputs": [],
   "source": [
    "df_years = df_not_months.append(df_mn2yrs)"
   ]
  },
  {
   "cell_type": "code",
   "execution_count": 43,
   "metadata": {},
   "outputs": [
    {
     "data": {
      "text/plain": [
       "(28538, 20)"
      ]
     },
     "execution_count": 43,
     "metadata": {},
     "output_type": "execute_result"
    }
   ],
   "source": [
    "df_years.shape"
   ]
  },
  {
   "cell_type": "code",
   "execution_count": 44,
   "metadata": {},
   "outputs": [
    {
     "data": {
      "text/plain": [
       "array(['Years', nan, 'YEARS', 'years', 'Nil', 'Days'], dtype=object)"
      ]
     },
     "execution_count": 44,
     "metadata": {},
     "output_type": "execute_result"
    }
   ],
   "source": [
    "df_years['AGE_UNIT'].unique()"
   ]
  },
  {
   "cell_type": "code",
   "execution_count": 45,
   "metadata": {},
   "outputs": [],
   "source": [
    "#df_years[df_years['AGE_UNIT'] == 'NO PATIENT DATASHEET']"
   ]
  },
  {
   "cell_type": "code",
   "execution_count": 46,
   "metadata": {},
   "outputs": [],
   "source": [
    "#df_years[df_years['AGE_UNIT'].str.contains('M', 'F') == True]"
   ]
  },
  {
   "cell_type": "code",
   "execution_count": 47,
   "metadata": {},
   "outputs": [],
   "source": [
    "#df_years[df_years['AGE_UNIT'] == 'Nil']"
   ]
  },
  {
   "cell_type": "code",
   "execution_count": 48,
   "metadata": {},
   "outputs": [],
   "source": [
    "df_years_drop_age_unit = df_years.drop('AGE_UNIT', axis=1)"
   ]
  },
  {
   "cell_type": "code",
   "execution_count": 49,
   "metadata": {},
   "outputs": [],
   "source": [
    "df_years_rencol = df_years_drop_age_unit.rename(columns={'AGE': 'AGE_YRS'})"
   ]
  },
  {
   "cell_type": "code",
   "execution_count": 50,
   "metadata": {},
   "outputs": [],
   "source": [
    "#df_years_rencol.head()"
   ]
  },
  {
   "cell_type": "code",
   "execution_count": 51,
   "metadata": {},
   "outputs": [
    {
     "data": {
      "text/plain": [
       "array([38, 48, 34, 29, 46, 33, 36, 52, 50, 32, 45, 55, 22, 42, 37, 26, 18,\n",
       "       53, nan, 28, 41, 67, 89, 72, 63, 76, 59, 58, 82, 57, 65, 49, 14,\n",
       "       27, 35, 54, 61, 25, 23, 40, 7, 43, 64, 31, 24, 39, 20, 68, 30, 13,\n",
       "       51, 21, 47, 17, 73, 44, 8, 19, 66, 16, 60, 10, 9, 6, 56, 15, 5, 12,\n",
       "       84, 62, 312, 69, 79, 70, 2, 86, 80, 11, 88, 3, 4, 74, 87, 3.6, 1,\n",
       "       1.5, 2.42, 'None indicated', 6.5, 2.5, 75, 97, 'Nil', 71, 96, 77,\n",
       "       'Not indicated', 743, 78, 'None', 9.5, 83, 'nil', 81, 98,\n",
       "       'none indicated', 90, 85, 91, 100, 101, 92, 'not_indicated', 5.5,\n",
       "       'Not Indicated', '37', '36', '40', '38', '29', 94, 105, 0.5,\n",
       "       'not Indicated', '30', '44', '33', '27', '26', '51', '28',\n",
       "       'None Indicated', 542, 0.8, 0.9, 0.1, 1.6, 1.1, 2.9, 3.7, 0.2, 1.7,\n",
       "       0.3, 2.8, 0.7, 1.2, 2.1, 0.4, 4.5, 1.8, 0.6], dtype=object)"
      ]
     },
     "execution_count": 51,
     "metadata": {},
     "output_type": "execute_result"
    }
   ],
   "source": [
    "df_years_rencol['AGE_YRS'].unique()"
   ]
  },
  {
   "cell_type": "code",
   "execution_count": 52,
   "metadata": {},
   "outputs": [
    {
     "data": {
      "text/plain": [
       "['None indicated',\n",
       " 'Nil',\n",
       " 'Not indicated',\n",
       " 'None',\n",
       " 'nil',\n",
       " 'none indicated',\n",
       " 'not_indicated',\n",
       " 'Not Indicated',\n",
       " '37',\n",
       " '36',\n",
       " '40',\n",
       " '38',\n",
       " '29',\n",
       " 'not Indicated',\n",
       " '30',\n",
       " '44',\n",
       " '33',\n",
       " '27',\n",
       " '26',\n",
       " '51',\n",
       " '28',\n",
       " 'None Indicated']"
      ]
     },
     "execution_count": 52,
     "metadata": {},
     "output_type": "execute_result"
    }
   ],
   "source": [
    "[x for x in df_years_rencol['AGE_YRS'].unique() if isinstance(x, str)]"
   ]
  },
  {
   "cell_type": "code",
   "execution_count": 53,
   "metadata": {},
   "outputs": [],
   "source": [
    "to_rep = ['None indicated',\n",
    " 'Nil',\n",
    " 'Not indicated',\n",
    " 'None',\n",
    " 'nil',\n",
    " 'none indicated',\n",
    " 'not_indicated',\n",
    " 'Not Indicated',\n",
    " 'not Indicated',\n",
    " 'None Indicated',\n",
    " 'NO PATIENT DATASHEET'\n",
    "]"
   ]
  },
  {
   "cell_type": "code",
   "execution_count": 54,
   "metadata": {},
   "outputs": [],
   "source": [
    "df_years_repnan2float = df_years_rencol.assign(AGE_YRS=df_years_rencol['AGE_YRS'].replace(to_rep, np.nan).astype(float))"
   ]
  },
  {
   "cell_type": "code",
   "execution_count": 55,
   "metadata": {},
   "outputs": [],
   "source": [
    "#df_years_repnan2float"
   ]
  },
  {
   "cell_type": "markdown",
   "metadata": {},
   "source": [
    "### **Clean Gender**"
   ]
  },
  {
   "cell_type": "code",
   "execution_count": 56,
   "metadata": {},
   "outputs": [
    {
     "data": {
      "text/plain": [
       "array(['M', 'F', nan, 'f', 'Female', 'Male', 'F`', 'MALE ', 'MALE', 'Nil',\n",
       "       'T', 'm'], dtype=object)"
      ]
     },
     "execution_count": 56,
     "metadata": {},
     "output_type": "execute_result"
    }
   ],
   "source": [
    "df_years_repnan2float['GEND'].unique()"
   ]
  },
  {
   "cell_type": "code",
   "execution_count": 57,
   "metadata": {},
   "outputs": [],
   "source": [
    "#df_years_repnan2float[df_years_repnan2float['GEND'].isna()].sort_values('S_NUM')"
   ]
  },
  {
   "cell_type": "code",
   "execution_count": 58,
   "metadata": {},
   "outputs": [],
   "source": [
    "#df_years_repnan2float[df_years_repnan2float['GEND'] == 'Nil']"
   ]
  },
  {
   "cell_type": "markdown",
   "metadata": {},
   "source": [
    "COVEs:\n",
    "- COVC13844\n",
    "- COVC13845\n",
    "- COVC13846\n",
    "- COVC13847\n",
    "- COVC13848\n",
    "- COVC13849\n",
    "- COVC13850\n",
    "- COVC13851\n",
    "- COVC13852\n",
    "- COVC13853\n",
    "- COVC16256\n",
    "- COVC16257"
   ]
  },
  {
   "cell_type": "code",
   "execution_count": 59,
   "metadata": {},
   "outputs": [],
   "source": [
    "df_years_repgender = df_years_repnan2float.assign(GEND=df_years_repnan2float['GEND'].replace(['f', 'Female', 'F`', 'T'], 'F')\n",
    "                                                 .replace(['Male', 'MALE ', 'MALE'], 'M'))"
   ]
  },
  {
   "cell_type": "code",
   "execution_count": 60,
   "metadata": {},
   "outputs": [
    {
     "data": {
      "text/plain": [
       "array(['M', 'F', nan, 'Nil', 'm'], dtype=object)"
      ]
     },
     "execution_count": 60,
     "metadata": {},
     "output_type": "execute_result"
    }
   ],
   "source": [
    "df_years_repgender['GEND'].unique()"
   ]
  },
  {
   "cell_type": "code",
   "execution_count": 61,
   "metadata": {},
   "outputs": [],
   "source": [
    "df_years_repgender['GEND'].replace('Nil', pd.NA, inplace=True)"
   ]
  },
  {
   "cell_type": "code",
   "execution_count": 62,
   "metadata": {},
   "outputs": [
    {
     "data": {
      "text/plain": [
       "array(['M', 'F', nan, <NA>, 'm'], dtype=object)"
      ]
     },
     "execution_count": 62,
     "metadata": {},
     "output_type": "execute_result"
    }
   ],
   "source": [
    "df_years_repgender['GEND'].unique()"
   ]
  },
  {
   "cell_type": "markdown",
   "metadata": {},
   "source": [
    "### **Clean Occupation**"
   ]
  },
  {
   "cell_type": "code",
   "execution_count": 63,
   "metadata": {},
   "outputs": [
    {
     "data": {
      "text/plain": [
       "array(['Business', nan, 'Banker', ..., 'Logistician', 'Hotel',\n",
       "       'Child accompanying inmate mothe'], dtype=object)"
      ]
     },
     "execution_count": 63,
     "metadata": {},
     "output_type": "execute_result"
    }
   ],
   "source": [
    "df_years_repgender['OCCU'].unique()"
   ]
  },
  {
   "cell_type": "code",
   "execution_count": 64,
   "metadata": {},
   "outputs": [],
   "source": [
    "df_years_repgender['OCCU'] = df_years_repgender['OCCU'].replace(['Nil','nil'], pd.NA)"
   ]
  },
  {
   "cell_type": "raw",
   "metadata": {},
   "source": [
    "occu_dict = {'intial': 'ouso'}\n",
    "occu_dict2 = occu_dict.copy()\n",
    "for o in df_years_repgender['OCCU'].str.lower():\n",
    "    print(o)\n",
    "    keys = occu_dict.keys()\n",
    "    if o not in keys:\n",
    "        keys = occu_dict.keys()\n",
    "        for k in keys:\n",
    "            if len(set(k.split()) & set(str(o).split()))/len(str(o)) >= 0.5:\n",
    "                occu_dict2[k]=[]\n",
    "                occu_dict2[k].append(o)\n",
    "            else:\n",
    "                occu_dict2[o] = []\n",
    "    else: pass        "
   ]
  },
  {
   "cell_type": "raw",
   "metadata": {},
   "source": [
    "','.join(list('ouso')).split(',')"
   ]
  },
  {
   "cell_type": "raw",
   "metadata": {},
   "source": [
    "pd.Series(df_years_repgender['OCCU'].unique()).str.strip().str.lower().apply(lambda x: ','.join(list(str(x))).split(','))"
   ]
  },
  {
   "cell_type": "code",
   "execution_count": 65,
   "metadata": {},
   "outputs": [],
   "source": [
    "# series = pd.Series(df_years_repgender['OCCU'].str.strip().str.lower().unique()).to_excel(f\"{glob.glob(f'{parent_dir}/**/Outputs', recursive=True)[0]}/COVID19-results-merged-occupations.xlsx\", index=False)\n",
    "# series"
   ]
  },
  {
   "cell_type": "markdown",
   "metadata": {},
   "source": [
    "### **Clean Nationality**"
   ]
  },
  {
   "cell_type": "code",
   "execution_count": 66,
   "metadata": {},
   "outputs": [
    {
     "data": {
      "text/plain": [
       "array(['Zimbabwe', 'Kenya', 'Tanzania', 'South Africa',\n",
       "       'United Kingdom (UK)', 'Botswana',\n",
       "       'United States of America (USA)', 'Uganda', 'Netherlands',\n",
       "       'Congo, Democratic Republic of the', 'Burundi', 'Kenyan',\n",
       "       'South Sudan', nan, 'India', 'Italy', 'China', 'Cameroon',\n",
       "       'Ethiopia', 'Somalia', 'Canada', 'Zambia', 'Germany', 'Sudan',\n",
       "       'Lebanon', 'Sweden', 'Nigeria', 'Benin', 'Cuba', 'Indian', 'Ghana',\n",
       "       'Rwanda', 'Mauritania', 'Denmark', 'Pakistan', 'Brazil',\n",
       "       'Tanzanian', 'Australia', 'Colombia', 'Hungary', 'Djibouti',\n",
       "       'Finland', 'Senegal', 'kenya', 'Yemen', 'Turkey', 'Philippines',\n",
       "       'Japan', 'Ireland', 'Tunisia', 'Switzerland', 'Togo',\n",
       "       'Burkina Faso', 'Portugal', 'Bangladesh', 'Madagascar',\n",
       "       \"Cote d'Ivoire\", 'Egypt', 'KENYAN', 'Greece', 'Bulgaria', 'Nil',\n",
       "       'Mozambique', 'Mali', 'Eritrea', 'Austria', 'Malawi', 'France',\n",
       "       'Namibia', 'Congo, Republic of the', 'Spain', 'Sri Lanka',\n",
       "       'United States', 'Jordan', 'Democratic Republic of the Congo'],\n",
       "      dtype=object)"
      ]
     },
     "execution_count": 66,
     "metadata": {},
     "output_type": "execute_result"
    }
   ],
   "source": [
    "df_years_repgender['NAT'].unique()"
   ]
  },
  {
   "cell_type": "code",
   "execution_count": 67,
   "metadata": {},
   "outputs": [],
   "source": [
    "df_years_repnat = df_years_repgender.assign(NAT=df_years_repgender['NAT'].replace('Nil', 'Unknown')\n",
    "                                            .replace(['United States', 'Indian'\n",
    "                                                      , 'Congo, Democratic Republic of the'\n",
    "                                                     , 'Congo, Republic of the'] \n",
    "                                                     , ['United States of America (USA)','India'\n",
    "                                                        , 'Democratic Republic of the Congo',\n",
    "                                                       'Republic of the Congo'])\n",
    "                                            .map(lambda x: str(x).replace(x, 'Kenya') if ('enya' in str(x).lower()) else x))"
   ]
  },
  {
   "cell_type": "code",
   "execution_count": 68,
   "metadata": {},
   "outputs": [
    {
     "data": {
      "text/plain": [
       "array(['Zimbabwe', 'Kenya', 'Tanzania', 'South Africa',\n",
       "       'United Kingdom (UK)', 'Botswana',\n",
       "       'United States of America (USA)', 'Uganda', 'Netherlands',\n",
       "       'Democratic Republic of the Congo', 'Burundi', 'South Sudan', nan,\n",
       "       'India', 'Italy', 'China', 'Cameroon', 'Ethiopia', 'Somalia',\n",
       "       'Canada', 'Zambia', 'Germany', 'Sudan', 'Lebanon', 'Sweden',\n",
       "       'Nigeria', 'Benin', 'Cuba', 'Ghana', 'Rwanda', 'Mauritania',\n",
       "       'Denmark', 'Pakistan', 'Brazil', 'Tanzanian', 'Australia',\n",
       "       'Colombia', 'Hungary', 'Djibouti', 'Finland', 'Senegal', 'Yemen',\n",
       "       'Turkey', 'Philippines', 'Japan', 'Ireland', 'Tunisia',\n",
       "       'Switzerland', 'Togo', 'Burkina Faso', 'Portugal', 'Bangladesh',\n",
       "       'Madagascar', \"Cote d'Ivoire\", 'Egypt', 'Greece', 'Bulgaria',\n",
       "       'Unknown', 'Mozambique', 'Mali', 'Eritrea', 'Austria', 'Malawi',\n",
       "       'France', 'Namibia', 'Republic of the Congo', 'Spain', 'Sri Lanka',\n",
       "       'Jordan'], dtype=object)"
      ]
     },
     "execution_count": 68,
     "metadata": {},
     "output_type": "execute_result"
    }
   ],
   "source": [
    "df_years_repnat['NAT'].unique()"
   ]
  },
  {
   "cell_type": "markdown",
   "metadata": {},
   "source": [
    "### **Clean County of Res**"
   ]
  },
  {
   "cell_type": "code",
   "execution_count": 69,
   "metadata": {},
   "outputs": [],
   "source": [
    "#df_years_repnat.head()"
   ]
  },
  {
   "cell_type": "code",
   "execution_count": 70,
   "metadata": {},
   "outputs": [],
   "source": [
    "counties = (df_years_repnat['COUNT_RES']\n",
    "                   .replace(['Nil', 'nan', '', 'Nan', 'Muranga ', 'Murang`a ', 'Niarobi']\n",
    "                            , [pd.NA, pd.NA, pd.NA, pd.NA, \"Murang'a\", \"Murang'a\", 'Nairobi'])\n",
    "                   .apply(lambda x: str(x).strip().capitalize() if (isinstance(x, str)) else x)).fillna(pd.NA)"
   ]
  },
  {
   "cell_type": "code",
   "execution_count": 71,
   "metadata": {},
   "outputs": [],
   "source": [
    "df_years_county = (df_years_repnat.assign(COUNT_RES=counties))#.assign(S_COUNT_RES=s_counties)"
   ]
  },
  {
   "cell_type": "code",
   "execution_count": 72,
   "metadata": {},
   "outputs": [
    {
     "data": {
      "text/plain": [
       "array(['Nairobi', 'Kirinyaga', 'Kakamega', 'Vihiga', 'Siaya', 'Kajiado',\n",
       "       'Mombasa', 'Migori', <NA>, 'Nakuru', 'Kiambu', 'Bungoma',\n",
       "       'West pokot', 'Trans nzoia', \"Murang'a\", 'Busia', 'Kisii',\n",
       "       'Kilifi', 'Machakos', 'Laikipia', 'Marsabit', 'Makueni', 'Isiolo',\n",
       "       'Mwanza', 'Zambia', 'Burundi', 'Bukoba', 'Tanzania', 'Nyamira',\n",
       "       'Garissa', 'Homabay', 'Samburu', 'Nyeri', 'Tana river', 'Kitui',\n",
       "       'Wajir', 'Nyandarua', 'Meru', 'Uasin gishu', 'Nandi', 'Kwale',\n",
       "       'Uganda', 'Mandera', 'Kampala', 'Kisumu', 'Badiere', 'Embu',\n",
       "       'Kigali', 'Mukono/uganda', 'Congo', 'Narok', 'Kericho',\n",
       "       'Elgeyo marakwet', 'Taita taveta', 'Bomet', 'Bukavu', 'Thika',\n",
       "       'Tharakanithi'], dtype=object)"
      ]
     },
     "execution_count": 72,
     "metadata": {},
     "output_type": "execute_result"
    }
   ],
   "source": [
    "df_years_county['COUNT_RES'].unique()"
   ]
  },
  {
   "cell_type": "markdown",
   "metadata": {},
   "source": [
    "### **Clean Subcounty of Res**"
   ]
  },
  {
   "cell_type": "code",
   "execution_count": 73,
   "metadata": {},
   "outputs": [
    {
     "data": {
      "text/plain": [
       "976"
      ]
     },
     "execution_count": 73,
     "metadata": {},
     "output_type": "execute_result"
    }
   ],
   "source": [
    "df_years_repnat['S_COUNT_RES'].str.lower().nunique()"
   ]
  },
  {
   "cell_type": "code",
   "execution_count": 74,
   "metadata": {},
   "outputs": [
    {
     "data": {
      "text/plain": [
       "898"
      ]
     },
     "execution_count": 74,
     "metadata": {},
     "output_type": "execute_result"
    }
   ],
   "source": [
    "len((df_years_repnat['S_COUNT_RES'].fillna('NA')\n",
    "     .replace(['Nil', 'Nil ', 'Muranga ', 'Murang`a ']\n",
    "                            , [pd.NA, pd.NA, \"Murang'a\", \"Murang'a\"])\n",
    "                   .apply(lambda x: str(x).strip().capitalize())\n",
    "     .unique()))"
   ]
  },
  {
   "cell_type": "code",
   "execution_count": 75,
   "metadata": {},
   "outputs": [],
   "source": [
    "s_counties = (df_years_repnat['S_COUNT_RES']\n",
    "     .replace(['Nil', 'Nil ', 'Muranga ', 'Murang`a ']\n",
    "                            , [pd.NA, pd.NA, \"Murang'a\", \"Murang'a\"])\n",
    "                   .apply(lambda x: str(x).replace(str(x), 'NA') if ('indicate' in str(x)) else str(x).strip().capitalize())\n",
    "              .fillna(pd.NA))"
   ]
  },
  {
   "cell_type": "code",
   "execution_count": 76,
   "metadata": {},
   "outputs": [],
   "source": [
    "# sorted([s for s in s_counties.unique()])"
   ]
  },
  {
   "cell_type": "code",
   "execution_count": 77,
   "metadata": {},
   "outputs": [],
   "source": [
    "df_years_scounty = df_years_county.assign(S_COUNT_RES=s_counties)"
   ]
  },
  {
   "cell_type": "markdown",
   "metadata": {},
   "source": [
    "### **Clean Travel History**"
   ]
  },
  {
   "cell_type": "code",
   "execution_count": 78,
   "metadata": {},
   "outputs": [],
   "source": [
    "#df_years_scounty.head()"
   ]
  },
  {
   "cell_type": "code",
   "execution_count": 79,
   "metadata": {},
   "outputs": [
    {
     "data": {
      "text/plain": [
       "array(['No', 'Yes', nan, 'Y', 'N', 'JH', 'no', 'NO ', 'Nil', 'YES',\n",
       "       'NONE ', 'NONE', 'y', 'yes', 15.93], dtype=object)"
      ]
     },
     "execution_count": 79,
     "metadata": {},
     "output_type": "execute_result"
    }
   ],
   "source": [
    "df_years_scounty['TRAV_HIST'].unique()"
   ]
  },
  {
   "cell_type": "code",
   "execution_count": 80,
   "metadata": {},
   "outputs": [],
   "source": [
    "df_travl = df_years_scounty.assign(TRAV_HIST=df_years_scounty['TRAV_HIST'].replace([pd.NA, 'N', 'no', 'NO', 'Nil', 'NONE ', 'NONE'], 'No')\n",
    "           .replace(['YES', 'Y', 'y', 'yes'], 'Yes'))\n"
   ]
  },
  {
   "cell_type": "code",
   "execution_count": 81,
   "metadata": {},
   "outputs": [
    {
     "data": {
      "text/plain": [
       "array([nan, 'South Africa', 'KITUI;NAIROBI', 'KISUMU', 'UGANDA',\n",
       "       'KISUMU;KITUI', 'NAIROBI', 'NAKURU;TURKANA', 'SAUDI ARABIA',\n",
       "       'ITEN-KENDUR', 'BUNGOMA', 'EMBU', 'cuba', 'ELDORET', 'TANZANIA',\n",
       "       'Kisii', 'Nyamira', 'Nairobi',\n",
       "       'Kendu-Bay;Kisii;Kisumu;Homabay;Oyugis', 'Mumias, Oyugis, Homabay',\n",
       "       'NAIVASHA', 'NAIROBI;NYERI;NANYUKI', 'NIL', 'Ruaka', 'Ngoingwa',\n",
       "       'Limuru', 'Thika', 'Embakasi', 'Uganda', 'Dubai', 'Nil',\n",
       "       'Not indicated on form ', 'TORORO UGANDA', 'AWASI', 'KIGALI',\n",
       "       'ENTEBE', 'JINJA', 'KAMPALA', 'KASESE', 'KILIFI COUNTY',\n",
       "       'KWALE COUNTY', 'Mwanza', 'Mombasa', 'Geita', 'Isebania',\n",
       "       'Kilimanjaro', 'Migori', 'KENDU BAY', 'KISUMU, KITALE', 'HOMABAY',\n",
       "       'KISII, KISUMU', 'HOMABAY, KISII', 'NYAHURURU; NANYUKI', 'TORORO',\n",
       "       'KAMPALA UGANDA', 'RWANDA', 'JINJA UGANDA', 'KAJIADO',\n",
       "       'NOT APPLICABLE ', 'SOUTH SUDAN ', 'NYERI', 'NAIROBI,KISUMU,AWASI',\n",
       "       'OYUGIS', 'KWALE;KILIFI', 'KAKAMEGA', 'KWALE', 'Eldoret',\n",
       "       'Malindi', 'Uasin Gishu', 'N', 'Machakos', 'No', 'KILIFI/NAIROBI',\n",
       "       'NANYUKI SAGANA', 'THARAKA NITHI', 'SHIMBA HILLS', 'KILIFI',\n",
       "       'MACHAKOS', 'Netherlands', 'MIGORI', 'Nairobi;USA', 'USA',\n",
       "       'Homa-Bay;Kisumu;Nairobi;Kerugoya-Kutus', 'Tanzania',\n",
       "       'KIMILILI, Maragua', 'TAVETA', 'KIAMBU', 'KEROKA', 'ISABENIA',\n",
       "       'MWANZA', 'BUNDA', 'MOMBASA',\n",
       "       'Mombasa (Stayed in Mtwapa for 4 days)', 'Kericho',\n",
       "       'KINANGO MSAMBWENI', 'Homabay', 'MERU', 'THIKA', 'MUHONIA',\n",
       "       'KASESE UGANDA', 'NA ', 'KIRINYAGA', 'KISII,DARAJA SUNEKA',\n",
       "       'NYAMIRA ,KIJAURI KISII', 'KISII SUNEKA KEROKA',\n",
       "       'KISII KEROKA KERICHO', 'SUNEKA KISII ', 'KISII.SUNEKA',\n",
       "       'OGEMBO KISII', 'KISII,MIGORI', 'KISII,JOGOO',\n",
       "       'KISII KENDUBAY ,JOGOO', 'KISII,SUNEKA,KEROKA', 'KISII,SUNEKA',\n",
       "       'KEUMBU KEROKA ,KISII', 'GESONSO,SUNEKA KISII',\n",
       "       'KISII,JOGOO,SUNEKA', 'Zambia;Sindo', 'Mwanza;Nairobi',\n",
       "       'Mombasa;Mwanza', 'Nairobi;Mwanza', 'Zambia;Kisumu',\n",
       "       'Mwanza;Mombasa', 'Dar;Kisumu', 'Kisumu;Nairobi', 'Mwanza;Eldoret',\n",
       "       'Shinyanga;Nakuru', 'DAR ES SAALAM', 'Kisii;Nyamira', 'Narok',\n",
       "       'Molo', 'Keroka', 'Bomet', 'Bungoma', 'Kisumu', 'Nakuru', 'Sirare',\n",
       "       'Kakamega', 'Busia', 'KERICHO', 'KISII', 'KISII,KEROKA',\n",
       "       'KISII, SUNEKA', 'KISII.KRK.SUNEKA', 'GESONSO SUNEKA',\n",
       "       'KISII MWEMBE', 'NYAMATARO KISII', 'KISII  KEUMBU', 'MARANI KISII',\n",
       "       'NYAMIRA', 'NYANCHWA KISII', 'ISANA', 'KISII.KEROKA',\n",
       "       'KISII, KEROKA ', 'KEROKA KISII', 'TAITA TAVETA', 'not_indicated',\n",
       "       'ETHIOPIA', 'Nyeri town', 'MALABA', 'NAKURU', 'Within Kenya',\n",
       "       'Tharakanithi', 'Nyahururu', 'Nairobi and Kisumu', 'Meru',\n",
       "       'Nairobi, Nyahururu', 'Nakuru, Meru', 'Nanyuki', 'Not applicable',\n",
       "       'Not indicated', 'Kiambu', 'EMALI - MAKUENI', 'MAZERAS - KILIFI',\n",
       "       'Ngong', 'Tarbo', 'Embu town', 'Nairobi and Busia', 'Mogadishu',\n",
       "       'AM'], dtype=object)"
      ]
     },
     "execution_count": 81,
     "metadata": {},
     "output_type": "execute_result"
    }
   ],
   "source": [
    "df_travl['TRAV_FROM'].unique()"
   ]
  },
  {
   "cell_type": "code",
   "execution_count": 82,
   "metadata": {},
   "outputs": [],
   "source": [
    "df_travl2 = (df_travl.assign(TRAV_FROM=df_travl['TRAV_FROM'].replace(['nan','NIL', 'Nil', 'Not indicated on form '\n",
    "                  , 'NOT APPLICABLE ', 'N', 'N', 'No', 'not_indicated', 'Not applicable', 'Not indicated'],pd.NA)\n",
    "                    .replace(['Mombasa (stayed in mtwapa for 4 days)', 'KINANGO MSAMBWENI', 'Nan'\n",
    "                              , 'Mombasa (Stayed in Mtwapa for 4 days)'], \n",
    "                    ['Mtwapa', 'Kinangop;Msambweni', pd.NA, 'Mtwapa'])\n",
    "                    .apply(lambda x: str(x).replace('/', ';')\n",
    "                    .replace(' and ', ';')\n",
    "                    .replace('-', ';')\n",
    "                    .replace(',', ';')\n",
    "                    .replace(' ; ', ';')\n",
    "                    .replace('; ', ';')\n",
    "                    .strip().capitalize() if (isinstance(x, str)) else x)))"
   ]
  },
  {
   "cell_type": "code",
   "execution_count": 83,
   "metadata": {},
   "outputs": [
    {
     "data": {
      "text/plain": [
       "array([nan, 'South africa', 'Kitui;nairobi', 'Kisumu', 'Uganda',\n",
       "       'Kisumu;kitui', 'Nairobi', 'Nakuru;turkana', 'Saudi arabia',\n",
       "       'Iten;kendur', 'Bungoma', 'Embu', 'Cuba', 'Eldoret', 'Tanzania',\n",
       "       'Kisii', 'Nyamira', 'Kendu;bay;kisii;kisumu;homabay;oyugis',\n",
       "       'Mumias;oyugis;homabay', 'Naivasha', 'Nairobi;nyeri;nanyuki', <NA>,\n",
       "       'Ruaka', 'Ngoingwa', 'Limuru', 'Thika', 'Embakasi', 'Dubai',\n",
       "       'Tororo uganda', 'Awasi', 'Kigali', 'Entebe', 'Jinja', 'Kampala',\n",
       "       'Kasese', 'Kilifi county', 'Kwale county', 'Mwanza', 'Mombasa',\n",
       "       'Geita', 'Isebania', 'Kilimanjaro', 'Migori', 'Kendu bay',\n",
       "       'Kisumu;kitale', 'Homabay', 'Kisii;kisumu', 'Homabay;kisii',\n",
       "       'Nyahururu;nanyuki', 'Tororo', 'Kampala uganda', 'Rwanda',\n",
       "       'Jinja uganda', 'Kajiado', 'South sudan', 'Nyeri',\n",
       "       'Nairobi;kisumu;awasi', 'Oyugis', 'Kwale;kilifi', 'Kakamega',\n",
       "       'Kwale', 'Malindi', 'Uasin gishu', 'Machakos', 'Kilifi;nairobi',\n",
       "       'Nanyuki sagana', 'Tharaka nithi', 'Shimba hills', 'Kilifi',\n",
       "       'Netherlands', 'Nairobi;usa', 'Usa',\n",
       "       'Homa;bay;kisumu;nairobi;kerugoya;kutus', 'Kimilili;maragua',\n",
       "       'Taveta', 'Kiambu', 'Keroka', 'Isabenia', 'Bunda', 'Mtwapa',\n",
       "       'Kericho', 'Kinangop;msambweni', 'Meru', 'Muhonia',\n",
       "       'Kasese uganda', 'Na', 'Kirinyaga', 'Kisii;daraja suneka',\n",
       "       'Nyamira ;kijauri kisii', 'Kisii suneka keroka',\n",
       "       'Kisii keroka kericho', 'Suneka kisii', 'Kisii.suneka',\n",
       "       'Ogembo kisii', 'Kisii;migori', 'Kisii;jogoo',\n",
       "       'Kisii kendubay ;jogoo', 'Kisii;suneka;keroka', 'Kisii;suneka',\n",
       "       'Keumbu keroka ;kisii', 'Gesonso;suneka kisii',\n",
       "       'Kisii;jogoo;suneka', 'Zambia;sindo', 'Mwanza;nairobi',\n",
       "       'Mombasa;mwanza', 'Nairobi;mwanza', 'Zambia;kisumu',\n",
       "       'Mwanza;mombasa', 'Dar;kisumu', 'Kisumu;nairobi', 'Mwanza;eldoret',\n",
       "       'Shinyanga;nakuru', 'Dar es saalam', 'Kisii;nyamira', 'Narok',\n",
       "       'Molo', 'Bomet', 'Nakuru', 'Sirare', 'Busia', 'Kisii;keroka',\n",
       "       'Kisii.krk.suneka', 'Gesonso suneka', 'Kisii mwembe',\n",
       "       'Nyamataro kisii', 'Kisii  keumbu', 'Marani kisii',\n",
       "       'Nyanchwa kisii', 'Isana', 'Kisii.keroka', 'Keroka kisii',\n",
       "       'Taita taveta', 'Ethiopia', 'Nyeri town', 'Malaba', 'Within kenya',\n",
       "       'Tharakanithi', 'Nyahururu', 'Nairobi;kisumu', 'Nairobi;nyahururu',\n",
       "       'Nakuru;meru', 'Nanyuki', 'Emali;makueni', 'Mazeras;kilifi',\n",
       "       'Ngong', 'Tarbo', 'Embu town', 'Nairobi;busia', 'Mogadishu', 'Am'],\n",
       "      dtype=object)"
      ]
     },
     "execution_count": 83,
     "metadata": {},
     "output_type": "execute_result"
    }
   ],
   "source": [
    "df_travl2['TRAV_FROM'].unique()\n",
    "\n"
   ]
  },
  {
   "cell_type": "code",
   "execution_count": 84,
   "metadata": {},
   "outputs": [],
   "source": [
    "#df_travl2.head()"
   ]
  },
  {
   "cell_type": "markdown",
   "metadata": {},
   "source": [
    "### **Clean Symptoms**"
   ]
  },
  {
   "cell_type": "markdown",
   "metadata": {},
   "source": [
    "Symptoms legend\n",
    "- GW: General (body) weakness/fatigue/malaise\n",
    "- FC: Fever/Chills\n",
    "- CO: Cough\n",
    "- ST: Sore throat\n",
    "- RN: Runny nose\n",
    "- SB: Shortness of breath/Difficulty in breathing\n",
    "- D: Diarrhoea\n",
    "- NV: Nausea/Vomiting\n",
    "- H: Headache\n",
    "- IC: Irritability/Confusion\n",
    "- P: Pain\n",
    "- LS: Loss of smell\n",
    "- LT: Loss of taste/appetite\n",
    "- P-M: Muscular pain\n",
    "- P-A: Abdominal pain\n",
    "- P-B: Back pain\n",
    "- P-C: Chest pain\n",
    "- P-J: Joint pain\n",
    "- BA: Body aches\n",
    "- SZ: Sneezing\n",
    "- HP: Hypertension\n",
    "- TN: Tonsillitis\n",
    "- DZ: Dizziness"
   ]
  },
  {
   "cell_type": "code",
   "execution_count": 85,
   "metadata": {},
   "outputs": [],
   "source": [
    "df_travl2['SYMPS'] = (df_travl2['SYMPS'].apply(lambda x: str(x).replace(str(x), 'NA') if ('symtom' in str(x)) else str(x).replace('F/C', 'FC'))\n",
    "                      .replace(['[=]','nan'], 'NA'))\n",
    "pd.Series(df_travl2['SYMPS']).to_excel(f\"{glob.glob(f'{parent_dir}/**/Outputs', recursive=True)[0]}/COVID19-results-merged-symptoms.xlsx\", index=False)\n",
    "df_symp = pd.read_excel(f\"{glob.glob(f'{parent_dir}/**/Outputs', recursive=True)[0]}/COVID19-results-merged-symptoms_curation.xlsx\")\n",
    "symp_dict = {str(k): str(v) for k,v in zip(df_symp['STRING'], df_symp['REPLACE'])}\n",
    "\n",
    "df_symps = df_travl2.assign(SYMPS=df_travl2['SYMPS'].apply(lambda x: replace(str(x), symp_dict)))"
   ]
  },
  {
   "cell_type": "markdown",
   "metadata": {},
   "source": [
    "### **Clean Sample Type**"
   ]
  },
  {
   "cell_type": "code",
   "execution_count": 86,
   "metadata": {},
   "outputs": [],
   "source": [
    "df_symps.SAMP_TYPE.unique()\n",
    "df_samp_ty = df_symps.assign(SAMP_TYPE=df_symps['SAMP_TYPE'].replace(['NP and OP', 'NP-OP +AB2:AL2Swab',\n",
    "       'NP-OP Swab', 'nP Swab', 'NP OP Swab', 'NP&OP'], ['NP & OP Swab', 'NP & OP Swab', 'NP & OP Swab', 'NP Swab', 'NP & OP Swab', 'NP & OP Swab']))"
   ]
  },
  {
   "cell_type": "markdown",
   "metadata": {},
   "source": [
    "### **Clean Dates**"
   ]
  },
  {
   "cell_type": "code",
   "execution_count": 87,
   "metadata": {},
   "outputs": [],
   "source": [
    "df_dt1 = df_samp_ty.assign(DT_SAM_COLL=df_samp_ty['DT_SAM_COLL'].apply(lambda x: my_date_parser(x)))"
   ]
  },
  {
   "cell_type": "code",
   "execution_count": 88,
   "metadata": {},
   "outputs": [],
   "source": [
    "df_dt2 = df_dt1.assign(DT_SAM_RECEP=df_dt1['DT_SAM_RECEP'].apply(lambda x: my_date_parser(x)))"
   ]
  },
  {
   "cell_type": "code",
   "execution_count": 89,
   "metadata": {},
   "outputs": [],
   "source": [
    "df_dts_cln = df_dt2.assign(DT_CONF=df_dt2['DT_CONF'].apply(lambda x: my_date_parser(x)))"
   ]
  },
  {
   "cell_type": "code",
   "execution_count": 90,
   "metadata": {},
   "outputs": [],
   "source": [
    "#df_dts_cln.head()"
   ]
  },
  {
   "cell_type": "markdown",
   "metadata": {},
   "source": [
    "### **Clean Results**"
   ]
  },
  {
   "cell_type": "code",
   "execution_count": 91,
   "metadata": {},
   "outputs": [
    {
     "data": {
      "text/plain": [
       "array([nan, 'Positive', 'POSITIVE', 'Ag Positive', 'Negative', 'positive',\n",
       "       'neg', 'pos', 'ms', 'negative', 'Neg', 'Pos', 'MS', 'Positve',\n",
       "       'Positive ', 'M2000'], dtype=object)"
      ]
     },
     "execution_count": 91,
     "metadata": {},
     "output_type": "execute_result"
    }
   ],
   "source": [
    "df_dts_cln['RESULT'].unique()"
   ]
  },
  {
   "cell_type": "code",
   "execution_count": 92,
   "metadata": {},
   "outputs": [
    {
     "data": {
      "text/plain": [
       "array([nan, 'positive', 'ag positive', 'negative', 'neg', 'pos', 'ms',\n",
       "       'positve', 'm2000'], dtype=object)"
      ]
     },
     "execution_count": 92,
     "metadata": {},
     "output_type": "execute_result"
    }
   ],
   "source": [
    "df_dts_cln['RESULT'].map(lambda x: x.strip().lower() if (isinstance(x, str)) else x).unique()"
   ]
  },
  {
   "cell_type": "code",
   "execution_count": 93,
   "metadata": {},
   "outputs": [],
   "source": [
    "def cln_results(x):\n",
    "    if isinstance(x, str):\n",
    "        x = x.strip().lower()\n",
    "        if 'neg' in x:\n",
    "            x = x.replace(x, 'Negative')\n",
    "        elif 'pos' in x:\n",
    "            x = x.replace(x, 'Positive')\n",
    "        elif x == 'inconclusive':\n",
    "            x = x.replace(x, 'Negative')\n",
    "    return x\n",
    "        "
   ]
  },
  {
   "cell_type": "code",
   "execution_count": 94,
   "metadata": {},
   "outputs": [],
   "source": [
    "df_dts_cln['RESULT'] = df_dts_cln['RESULT'].map(lambda x: cln_results(x))"
   ]
  },
  {
   "cell_type": "code",
   "execution_count": 95,
   "metadata": {},
   "outputs": [
    {
     "data": {
      "text/plain": [
       "array([nan, 'Positive', 'Negative', 'ms', 'm2000'], dtype=object)"
      ]
     },
     "execution_count": 95,
     "metadata": {},
     "output_type": "execute_result"
    }
   ],
   "source": [
    "df_dts_cln['RESULT'].unique()"
   ]
  },
  {
   "cell_type": "code",
   "execution_count": 96,
   "metadata": {},
   "outputs": [],
   "source": [
    "#df_dts_cln.head(2)"
   ]
  },
  {
   "cell_type": "markdown",
   "metadata": {},
   "source": [
    "### **Remove Duplicates**"
   ]
  },
  {
   "cell_type": "code",
   "execution_count": 97,
   "metadata": {},
   "outputs": [],
   "source": [
    "df_cln_srt = df_dts_cln.sort_values(['S_NUM', 'DT_CONF'])"
   ]
  },
  {
   "cell_type": "code",
   "execution_count": 98,
   "metadata": {},
   "outputs": [],
   "source": [
    "#df_cln_srt[df_cln_srt.duplicated(['S_NUM', 'DT_CONF'], keep=False) == True]"
   ]
  },
  {
   "cell_type": "code",
   "execution_count": 99,
   "metadata": {},
   "outputs": [],
   "source": [
    "#df_cln_srt[df_cln_srt.duplicated(keep=False) == True]"
   ]
  },
  {
   "cell_type": "code",
   "execution_count": 100,
   "metadata": {},
   "outputs": [],
   "source": [
    "df_dedud = df_cln_srt.drop_duplicates(['S_NUM', 'DT_CONF'], keep='first')#['COUNT_RES'].fillna('Unknown', inplace=True)"
   ]
  },
  {
   "cell_type": "markdown",
   "metadata": {},
   "source": [
    "### **QC Dates**"
   ]
  },
  {
   "cell_type": "code",
   "execution_count": 101,
   "metadata": {},
   "outputs": [],
   "source": [
    "sr_date_diff = df_dedud['DT_CONF'] - df_dedud['DT_SAM_COLL']"
   ]
  },
  {
   "cell_type": "code",
   "execution_count": 102,
   "metadata": {},
   "outputs": [],
   "source": [
    "mask1 = sr_date_diff >= '60D'\n",
    "mask2 = sr_date_diff != pd.NaT\n",
    "mask3 = df_dedud['DT_SAM_COLL'] > df_dedud['DT_CONF']\n",
    "# mask3 = df_dedud['DT_CONF']"
   ]
  },
  {
   "cell_type": "code",
   "execution_count": 103,
   "metadata": {},
   "outputs": [
    {
     "data": {
      "text/html": [
       "<div>\n",
       "<style scoped>\n",
       "    .dataframe tbody tr th:only-of-type {\n",
       "        vertical-align: middle;\n",
       "    }\n",
       "\n",
       "    .dataframe tbody tr th {\n",
       "        vertical-align: top;\n",
       "    }\n",
       "\n",
       "    .dataframe thead th {\n",
       "        text-align: right;\n",
       "    }\n",
       "</style>\n",
       "<table border=\"1\" class=\"dataframe\">\n",
       "  <thead>\n",
       "    <tr style=\"text-align: right;\">\n",
       "      <th></th>\n",
       "      <th>CASE_ID</th>\n",
       "      <th>S_NUM</th>\n",
       "      <th>AGE_YRS</th>\n",
       "      <th>GEND</th>\n",
       "      <th>OCCU</th>\n",
       "      <th>NAT</th>\n",
       "      <th>COUNT_RES</th>\n",
       "      <th>S_COUNT_RES</th>\n",
       "      <th>TRAV_HIST</th>\n",
       "      <th>TRAV_FROM</th>\n",
       "      <th>QUAR_PLACE</th>\n",
       "      <th>SYMPS</th>\n",
       "      <th>SAMP_TYPE</th>\n",
       "      <th>DT_SAM_COLL</th>\n",
       "      <th>DT_SAM_RECEP</th>\n",
       "      <th>RESULT</th>\n",
       "      <th>DT_CONF</th>\n",
       "      <th>VACC_STATUS</th>\n",
       "      <th>VACC_DOS</th>\n",
       "    </tr>\n",
       "  </thead>\n",
       "  <tbody>\n",
       "    <tr>\n",
       "      <th>11152</th>\n",
       "      <td>047/NTRH/005</td>\n",
       "      <td>COVC06893</td>\n",
       "      <td>50.0</td>\n",
       "      <td>F</td>\n",
       "      <td>Health Care Worker</td>\n",
       "      <td>Kenya</td>\n",
       "      <td>Nairobi</td>\n",
       "      <td>Mathare</td>\n",
       "      <td>No</td>\n",
       "      <td>NaN</td>\n",
       "      <td>None Indicated</td>\n",
       "      <td>NA</td>\n",
       "      <td>NP Swab</td>\n",
       "      <td>2020-05-10</td>\n",
       "      <td>NaT</td>\n",
       "      <td>Negative</td>\n",
       "      <td>2020-08-12</td>\n",
       "      <td>NaN</td>\n",
       "      <td>NaN</td>\n",
       "    </tr>\n",
       "    <tr>\n",
       "      <th>11440</th>\n",
       "      <td>NMS/EM/100-240</td>\n",
       "      <td>COVC09826</td>\n",
       "      <td>30.0</td>\n",
       "      <td>M</td>\n",
       "      <td>PLUMBER</td>\n",
       "      <td>Kenya</td>\n",
       "      <td>Kwale</td>\n",
       "      <td>Samburu</td>\n",
       "      <td>No</td>\n",
       "      <td>NaN</td>\n",
       "      <td>NaN</td>\n",
       "      <td>NA</td>\n",
       "      <td>NP Swab</td>\n",
       "      <td>2020-10-09</td>\n",
       "      <td>2020-11-09</td>\n",
       "      <td>Negative</td>\n",
       "      <td>2020-12-09</td>\n",
       "      <td>NaN</td>\n",
       "      <td>NaN</td>\n",
       "    </tr>\n",
       "    <tr>\n",
       "      <th>11441</th>\n",
       "      <td>NMS/EM/100-241</td>\n",
       "      <td>COVC09827</td>\n",
       "      <td>39.0</td>\n",
       "      <td>F</td>\n",
       "      <td>BUSSINESS</td>\n",
       "      <td>Kenya</td>\n",
       "      <td>Kiambu</td>\n",
       "      <td>Kabete</td>\n",
       "      <td>No</td>\n",
       "      <td>NaN</td>\n",
       "      <td>NaN</td>\n",
       "      <td>NA</td>\n",
       "      <td>NP Swab</td>\n",
       "      <td>2020-10-09</td>\n",
       "      <td>2020-11-09</td>\n",
       "      <td>Negative</td>\n",
       "      <td>2020-12-09</td>\n",
       "      <td>NaN</td>\n",
       "      <td>NaN</td>\n",
       "    </tr>\n",
       "    <tr>\n",
       "      <th>11442</th>\n",
       "      <td>NMS/EM/100-517</td>\n",
       "      <td>COVC09828</td>\n",
       "      <td>24.0</td>\n",
       "      <td>M</td>\n",
       "      <td>BUSSINESS</td>\n",
       "      <td>Kenya</td>\n",
       "      <td>Nairobi</td>\n",
       "      <td>Iindustrial area</td>\n",
       "      <td>No</td>\n",
       "      <td>NaN</td>\n",
       "      <td>NaN</td>\n",
       "      <td>NA</td>\n",
       "      <td>NP Swab</td>\n",
       "      <td>2020-10-09</td>\n",
       "      <td>2020-11-09</td>\n",
       "      <td>Negative</td>\n",
       "      <td>2020-12-09</td>\n",
       "      <td>NaN</td>\n",
       "      <td>NaN</td>\n",
       "    </tr>\n",
       "    <tr>\n",
       "      <th>11443</th>\n",
       "      <td>NMS/EM/100-516</td>\n",
       "      <td>COVC09829</td>\n",
       "      <td>25.0</td>\n",
       "      <td>M</td>\n",
       "      <td>BUSSINESS</td>\n",
       "      <td>Kenya</td>\n",
       "      <td>Nairobi</td>\n",
       "      <td>Kariobangi south</td>\n",
       "      <td>No</td>\n",
       "      <td>NaN</td>\n",
       "      <td>NaN</td>\n",
       "      <td>NA</td>\n",
       "      <td>NP Swab</td>\n",
       "      <td>2020-10-09</td>\n",
       "      <td>2020-11-09</td>\n",
       "      <td>Negative</td>\n",
       "      <td>2020-12-09</td>\n",
       "      <td>NaN</td>\n",
       "      <td>NaN</td>\n",
       "    </tr>\n",
       "    <tr>\n",
       "      <th>...</th>\n",
       "      <td>...</td>\n",
       "      <td>...</td>\n",
       "      <td>...</td>\n",
       "      <td>...</td>\n",
       "      <td>...</td>\n",
       "      <td>...</td>\n",
       "      <td>...</td>\n",
       "      <td>...</td>\n",
       "      <td>...</td>\n",
       "      <td>...</td>\n",
       "      <td>...</td>\n",
       "      <td>...</td>\n",
       "      <td>...</td>\n",
       "      <td>...</td>\n",
       "      <td>...</td>\n",
       "      <td>...</td>\n",
       "      <td>...</td>\n",
       "      <td>...</td>\n",
       "      <td>...</td>\n",
       "    </tr>\n",
       "    <tr>\n",
       "      <th>43</th>\n",
       "      <td>KCGH/4268/2021</td>\n",
       "      <td>COVM01663</td>\n",
       "      <td>82.0</td>\n",
       "      <td>M</td>\n",
       "      <td>Farmer</td>\n",
       "      <td>Kenya</td>\n",
       "      <td>Kakamega</td>\n",
       "      <td>Lurambi</td>\n",
       "      <td>No</td>\n",
       "      <td>NaN</td>\n",
       "      <td>NaN</td>\n",
       "      <td>CO;FC;P-C;LS;LT</td>\n",
       "      <td>NP Swab</td>\n",
       "      <td>2021-09-29</td>\n",
       "      <td>2021-12-08</td>\n",
       "      <td>Positive</td>\n",
       "      <td>2021-12-09</td>\n",
       "      <td>N</td>\n",
       "      <td>NC</td>\n",
       "    </tr>\n",
       "    <tr>\n",
       "      <th>44</th>\n",
       "      <td>KCGH/4293/2021</td>\n",
       "      <td>COVM01664</td>\n",
       "      <td>82.0</td>\n",
       "      <td>F</td>\n",
       "      <td>Farmer</td>\n",
       "      <td>Kenya</td>\n",
       "      <td>Vihiga</td>\n",
       "      <td>Hamisi</td>\n",
       "      <td>No</td>\n",
       "      <td>NaN</td>\n",
       "      <td>NaN</td>\n",
       "      <td>FC;CO;LS;LT</td>\n",
       "      <td>NP Swab</td>\n",
       "      <td>2021-09-30</td>\n",
       "      <td>2021-12-08</td>\n",
       "      <td>Positive</td>\n",
       "      <td>2021-12-09</td>\n",
       "      <td>N</td>\n",
       "      <td>NC</td>\n",
       "    </tr>\n",
       "    <tr>\n",
       "      <th>45</th>\n",
       "      <td>KCGH/4337/2021</td>\n",
       "      <td>COVM01665</td>\n",
       "      <td>57.0</td>\n",
       "      <td>F</td>\n",
       "      <td>HCW</td>\n",
       "      <td>Kenya</td>\n",
       "      <td>Kakamega</td>\n",
       "      <td>Lurambi</td>\n",
       "      <td>No</td>\n",
       "      <td>NaN</td>\n",
       "      <td>NaN</td>\n",
       "      <td>FC;CO;H;P-J;LS;LT</td>\n",
       "      <td>NP Swab</td>\n",
       "      <td>2021-10-04</td>\n",
       "      <td>2021-12-08</td>\n",
       "      <td>Positive</td>\n",
       "      <td>2021-12-09</td>\n",
       "      <td>N</td>\n",
       "      <td>NC</td>\n",
       "    </tr>\n",
       "    <tr>\n",
       "      <th>46</th>\n",
       "      <td>KCGH/4440/2021</td>\n",
       "      <td>COVM01666</td>\n",
       "      <td>65.0</td>\n",
       "      <td>M</td>\n",
       "      <td>Farmer</td>\n",
       "      <td>Kenya</td>\n",
       "      <td>Kakamega</td>\n",
       "      <td>Lurambi</td>\n",
       "      <td>No</td>\n",
       "      <td>NaN</td>\n",
       "      <td>NaN</td>\n",
       "      <td>CO;P-C;LS;LT</td>\n",
       "      <td>NP Swab</td>\n",
       "      <td>2021-10-07</td>\n",
       "      <td>2021-12-08</td>\n",
       "      <td>Positive</td>\n",
       "      <td>2021-12-09</td>\n",
       "      <td>N</td>\n",
       "      <td>NC</td>\n",
       "    </tr>\n",
       "    <tr>\n",
       "      <th>27474</th>\n",
       "      <td>KEM-21-02-91850</td>\n",
       "      <td>KEM-21-02-91850</td>\n",
       "      <td>25.0</td>\n",
       "      <td>M</td>\n",
       "      <td>NaN</td>\n",
       "      <td>Kenya</td>\n",
       "      <td>Kajiado</td>\n",
       "      <td>Ngoroi</td>\n",
       "      <td>No</td>\n",
       "      <td>NaN</td>\n",
       "      <td>NaN</td>\n",
       "      <td>NA</td>\n",
       "      <td>NP &amp; OP Swab</td>\n",
       "      <td>2021-02-08</td>\n",
       "      <td>2021-07-30</td>\n",
       "      <td>Positive</td>\n",
       "      <td>2021-09-02</td>\n",
       "      <td>NaN</td>\n",
       "      <td>NaN</td>\n",
       "    </tr>\n",
       "  </tbody>\n",
       "</table>\n",
       "<p>72 rows × 19 columns</p>\n",
       "</div>"
      ],
      "text/plain": [
       "               CASE_ID            S_NUM  AGE_YRS GEND                OCCU  \\\n",
       "11152     047/NTRH/005        COVC06893     50.0    F  Health Care Worker   \n",
       "11440   NMS/EM/100-240        COVC09826     30.0    M             PLUMBER   \n",
       "11441   NMS/EM/100-241        COVC09827     39.0    F           BUSSINESS   \n",
       "11442   NMS/EM/100-517        COVC09828     24.0    M           BUSSINESS   \n",
       "11443   NMS/EM/100-516        COVC09829     25.0    M           BUSSINESS   \n",
       "...                ...              ...      ...  ...                 ...   \n",
       "43      KCGH/4268/2021        COVM01663     82.0    M              Farmer   \n",
       "44      KCGH/4293/2021        COVM01664     82.0    F              Farmer   \n",
       "45      KCGH/4337/2021        COVM01665     57.0    F                 HCW   \n",
       "46      KCGH/4440/2021        COVM01666     65.0    M              Farmer   \n",
       "27474  KEM-21-02-91850  KEM-21-02-91850     25.0    M                 NaN   \n",
       "\n",
       "         NAT COUNT_RES       S_COUNT_RES TRAV_HIST TRAV_FROM      QUAR_PLACE  \\\n",
       "11152  Kenya   Nairobi           Mathare        No       NaN  None Indicated   \n",
       "11440  Kenya     Kwale           Samburu        No       NaN             NaN   \n",
       "11441  Kenya    Kiambu            Kabete        No       NaN             NaN   \n",
       "11442  Kenya   Nairobi  Iindustrial area        No       NaN             NaN   \n",
       "11443  Kenya   Nairobi  Kariobangi south        No       NaN             NaN   \n",
       "...      ...       ...               ...       ...       ...             ...   \n",
       "43     Kenya  Kakamega           Lurambi        No       NaN             NaN   \n",
       "44     Kenya    Vihiga            Hamisi        No       NaN             NaN   \n",
       "45     Kenya  Kakamega           Lurambi        No       NaN             NaN   \n",
       "46     Kenya  Kakamega           Lurambi        No       NaN             NaN   \n",
       "27474  Kenya   Kajiado            Ngoroi        No       NaN             NaN   \n",
       "\n",
       "                   SYMPS     SAMP_TYPE DT_SAM_COLL DT_SAM_RECEP    RESULT  \\\n",
       "11152                 NA       NP Swab  2020-05-10          NaT  Negative   \n",
       "11440                 NA       NP Swab  2020-10-09   2020-11-09  Negative   \n",
       "11441                 NA       NP Swab  2020-10-09   2020-11-09  Negative   \n",
       "11442                 NA       NP Swab  2020-10-09   2020-11-09  Negative   \n",
       "11443                 NA       NP Swab  2020-10-09   2020-11-09  Negative   \n",
       "...                  ...           ...         ...          ...       ...   \n",
       "43       CO;FC;P-C;LS;LT       NP Swab  2021-09-29   2021-12-08  Positive   \n",
       "44           FC;CO;LS;LT       NP Swab  2021-09-30   2021-12-08  Positive   \n",
       "45     FC;CO;H;P-J;LS;LT       NP Swab  2021-10-04   2021-12-08  Positive   \n",
       "46          CO;P-C;LS;LT       NP Swab  2021-10-07   2021-12-08  Positive   \n",
       "27474                 NA  NP & OP Swab  2021-02-08   2021-07-30  Positive   \n",
       "\n",
       "         DT_CONF VACC_STATUS VACC_DOS  \n",
       "11152 2020-08-12         NaN      NaN  \n",
       "11440 2020-12-09         NaN      NaN  \n",
       "11441 2020-12-09         NaN      NaN  \n",
       "11442 2020-12-09         NaN      NaN  \n",
       "11443 2020-12-09         NaN      NaN  \n",
       "...          ...         ...      ...  \n",
       "43    2021-12-09           N       NC  \n",
       "44    2021-12-09           N       NC  \n",
       "45    2021-12-09           N       NC  \n",
       "46    2021-12-09           N       NC  \n",
       "27474 2021-09-02         NaN      NaN  \n",
       "\n",
       "[72 rows x 19 columns]"
      ]
     },
     "execution_count": 103,
     "metadata": {},
     "output_type": "execute_result"
    }
   ],
   "source": [
    "df_dedud[mask1 == True]"
   ]
  },
  {
   "cell_type": "markdown",
   "metadata": {},
   "source": [
    "### **Export Cleaned Data**"
   ]
  },
  {
   "cell_type": "code",
   "execution_count": 104,
   "metadata": {},
   "outputs": [],
   "source": [
    "df_dedud.to_excel(f\"{glob.glob(f'{parent_dir}/**/Outputs', recursive=True)[0]}/COVID19-results-merged-cln.xlsx\", index=False, na_rep='NA')"
   ]
  },
  {
   "cell_type": "code",
   "execution_count": 105,
   "metadata": {},
   "outputs": [],
   "source": [
    "df_dedud[df_dedud['RESULT'] == 'Positive'].to_excel(f\"{glob.glob(f'{parent_dir}/**/Outputs', recursive=True)[0]}/COVID19-results-merged-cln-pos.xlsx\", index=False, na_rep='NA')"
   ]
  },
  {
   "cell_type": "code",
   "execution_count": 106,
   "metadata": {},
   "outputs": [],
   "source": [
    "#df_dedud[df_dedud['S_NUM'].str.contains('COVC') == False]"
   ]
  },
  {
   "cell_type": "code",
   "execution_count": 107,
   "metadata": {},
   "outputs": [],
   "source": [
    "#df_dedud[df_dedud['S_NUM'].str.contains('COVC') == False]"
   ]
  },
  {
   "cell_type": "markdown",
   "metadata": {},
   "source": [
    "df_symps11-09-2020\n",
    "\n",
    "COVC9774\n",
    "COVC9775\n",
    "COVE20\n",
    "COVE21\n",
    "COVC9776\n",
    "COVC9777\n"
   ]
  },
  {
   "cell_type": "markdown",
   "metadata": {},
   "source": [
    "### **ID Misssing Data**"
   ]
  },
  {
   "cell_type": "code",
   "execution_count": 108,
   "metadata": {},
   "outputs": [],
   "source": [
    "start = 0\n",
    "df_missing = pd.DataFrame(columns=cols_rename)\n",
    "for num in df_dedud['S_NUM'].sort_values():\n",
    "#     curr_row = df_dts_cln[df_dts_cln['S_NUM']]\n",
    "    try:\n",
    "        curr = int(num.lstrip('COVC').lstrip('0'))\n",
    "        \n",
    "        if curr - start > 1:\n",
    "            start_id = f'COVC{start}'\n",
    "            cov_id = f'COVC{curr}'\n",
    "            df_missing = df_missing.append(df_dts_cln[df_dts_cln['S_NUM'] == cov_names(start_id)])\n",
    "            df_missing = df_missing.append(df_dts_cln[df_dts_cln['S_NUM'] == cov_names(cov_id)])\n",
    "        start = curr\n",
    "    except ValueError:\n",
    "#         print(f'ValueError: {num}')\n",
    "        pass"
   ]
  },
  {
   "cell_type": "code",
   "execution_count": 109,
   "metadata": {},
   "outputs": [],
   "source": [
    "#df_missing.head()"
   ]
  },
  {
   "cell_type": "code",
   "execution_count": 110,
   "metadata": {},
   "outputs": [],
   "source": [
    "(df_missing[['S_NUM', 'DT_SAM_COLL', 'DT_SAM_RECEP', 'DT_CONF']]\n",
    " .sort_values(['S_NUM', 'DT_CONF'])\n",
    " .drop_duplicates('S_NUM', keep='last')\n",
    " .to_excel(f\"{glob.glob(f'{parent_dir}/**/Outputs', recursive=True)[0]}/COVID19-results-merged-missing.xlsx\", index=False, na_rep='NA'))"
   ]
  },
  {
   "cell_type": "markdown",
   "metadata": {},
   "source": [
    "### **ID Missing Results**"
   ]
  },
  {
   "cell_type": "code",
   "execution_count": 111,
   "metadata": {},
   "outputs": [],
   "source": [
    "(df_dts_cln[df_dts_cln['RESULT'].isin(['Positive', 'Negative']) == \n",
    "            False][['S_NUM', 'DT_SAM_COLL', 'DT_SAM_RECEP', 'DT_CONF', 'RESULT']]\n",
    ".to_excel(f\"{glob.glob(f'{parent_dir}/**/Outputs', recursive=True)[0]}/COVID19-results-merged-results-missing.xlsx\", index=False, na_rep='NA'))"
   ]
  },
  {
   "cell_type": "code",
   "execution_count": 112,
   "metadata": {},
   "outputs": [],
   "source": [
    "# plt.style.available"
   ]
  },
  {
   "cell_type": "markdown",
   "metadata": {},
   "source": [
    "### **Metadata + Cts**"
   ]
  },
  {
   "cell_type": "code",
   "execution_count": 113,
   "metadata": {},
   "outputs": [],
   "source": [
    "df_Cts = pd.read_excel(f\"{glob.glob(f'{parent_dir}/**/Outputs', recursive=True)[0]}/runsheet-cts.xlsx\")[['Sample_Name', 'Well_Position', 'Ct_Mean', 'Dt_Run']]"
   ]
  },
  {
   "cell_type": "code",
   "execution_count": 114,
   "metadata": {},
   "outputs": [],
   "source": [
    "df_metCts = df_dedud.set_index('S_NUM').merge(df_Cts.set_index('Sample_Name'), how='left', left_index=True, right_index=True).reset_index().rename(columns={'index': 'S_NUM', 'Ct_Mean': 'AVG_Ct'})"
   ]
  },
  {
   "cell_type": "code",
   "execution_count": 115,
   "metadata": {},
   "outputs": [],
   "source": [
    "#df_metCts.head()"
   ]
  },
  {
   "cell_type": "code",
   "execution_count": 116,
   "metadata": {},
   "outputs": [],
   "source": [
    "df_metCts.to_excel(f\"{glob.glob(f'{parent_dir}/**/Outputs', recursive=True)[0]}/COVID19-resultsCts-merged-cln.xlsx\", index=False, na_rep='NA')"
   ]
  },
  {
   "cell_type": "code",
   "execution_count": 117,
   "metadata": {},
   "outputs": [
    {
     "data": {
      "text/plain": [
       "(28132, 22)"
      ]
     },
     "execution_count": 117,
     "metadata": {},
     "output_type": "execute_result"
    }
   ],
   "source": [
    "df_metCts.shape"
   ]
  },
  {
   "cell_type": "code",
   "execution_count": 118,
   "metadata": {},
   "outputs": [],
   "source": [
    "df_metCts[df_metCts['RESULT'] == 'Positive'].to_excel(f\"{glob.glob(f'{parent_dir}/**/Outputs', recursive=True)[0]}/COVID19-resultsCts-merged-cln-pos.xlsx\", index=False)"
   ]
  },
  {
   "cell_type": "markdown",
   "metadata": {},
   "source": [
    "#### **Confirm updated file in the following cell**"
   ]
  },
  {
   "cell_type": "code",
   "execution_count": 119,
   "metadata": {},
   "outputs": [],
   "source": [
    "df_sequenced_samples = pd.read_excel(f\"{glob.glob(f'{parent_dir}/**/Outputs', recursive=True)[0]}/all-sequenced-samples-IDs_01-11-2021.xlsx\")\n",
    "seqd_list = list(df_sequenced_samples['SAMPLE'])"
   ]
  },
  {
   "cell_type": "code",
   "execution_count": 120,
   "metadata": {},
   "outputs": [],
   "source": [
    "df_dedud_pos = df_metCts[df_metCts['RESULT'] == 'Positive']\n",
    "df_dedud_pos_unseq = df_dedud_pos[df_dedud_pos['S_NUM'].isin(seqd_list) == False]\n",
    "df_dedud_pos_unseq.to_excel(f\"{glob.glob(f'{parent_dir}/**/Outputs', recursive=True)[0]}/all-unsequenced-pos-samples_{dt}.xlsx\", index=False, na_rep='NA')"
   ]
  },
  {
   "cell_type": "code",
   "execution_count": 121,
   "metadata": {},
   "outputs": [],
   "source": [
    "#df_dedud_pos_unseq"
   ]
  },
  {
   "cell_type": "code",
   "execution_count": 122,
   "metadata": {},
   "outputs": [],
   "source": [
    "df_dedud_pos = df_metCts[df_metCts['RESULT'] == 'Positive']\n",
    "df_dedud_pos_seq = df_dedud_pos[df_dedud_pos['S_NUM'].isin(seqd_list) == True]\n",
    "df_dedud_pos_seq.to_excel(f\"{glob.glob(f'{parent_dir}/**/Outputs', recursive=True)[0]}/all-sequenced-pos-samples_{dt}.xlsx\", index=False, na_rep='NA')"
   ]
  },
  {
   "cell_type": "markdown",
   "metadata": {},
   "source": [
    "### Positives 2021 - Unsequenced"
   ]
  },
  {
   "cell_type": "code",
   "execution_count": 123,
   "metadata": {},
   "outputs": [],
   "source": [
    "df_dedud_pos_unseq_21 = df_dedud_pos_unseq[df_dedud_pos_unseq['DT_CONF'] >= pd.to_datetime('2021-01-01 00:00:00')]\n",
    "df_dedud_pos_unseq_21.to_excel(f\"{glob.glob(f'{parent_dir}/**/Outputs', recursive=True)[0]}/all-unsequenced-pos-samples-2021_{dt}.xlsx\", index=False, na_rep='NA')"
   ]
  }
 ],
 "metadata": {
  "kernelspec": {
   "display_name": "Python 3",
   "language": "python",
   "name": "python3"
  },
  "language_info": {
   "codemirror_mode": {
    "name": "ipython",
    "version": 3
   },
   "file_extension": ".py",
   "mimetype": "text/x-python",
   "name": "python",
   "nbconvert_exporter": "python",
   "pygments_lexer": "ipython3",
   "version": "3.8.10"
  }
 },
 "nbformat": 4,
 "nbformat_minor": 4
}
