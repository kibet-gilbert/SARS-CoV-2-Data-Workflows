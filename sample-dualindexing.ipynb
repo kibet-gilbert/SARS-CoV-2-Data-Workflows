{
 "cells": [
  {
   "cell_type": "markdown",
   "id": "5adb7940-b891-4208-a8c6-4eb0a18df81f",
   "metadata": {},
   "source": [
    "## Dual Indexing-Sample Layout "
   ]
  },
  {
   "cell_type": "code",
   "execution_count": 1,
   "id": "1b74f807-1cc4-4b55-a65c-c1d35090291f",
   "metadata": {},
   "outputs": [],
   "source": [
    "import pandas as pd\n",
    "import math\n",
    "from datetime import  datetime"
   ]
  },
  {
   "cell_type": "code",
   "execution_count": 2,
   "id": "09325937-a57e-4fa0-88c9-d8759d58d79a",
   "metadata": {},
   "outputs": [],
   "source": [
    "dt = datetime.today().strftime(format='%d-%m-%Y')"
   ]
  },
  {
   "cell_type": "markdown",
   "id": "44c01462-e623-49f0-bd8b-34036abc0eb8",
   "metadata": {},
   "source": [
    "### Load seq cheat sheet sample layout"
   ]
  },
  {
   "cell_type": "markdown",
   "id": "b3dc96e7-485d-46e0-b52c-90ff84d4e526",
   "metadata": {},
   "source": [
    "***Samples must be in multiple of 96 per plate, if not extrapolate arbitrarily to fill (a) plate(s)***\n",
    "\n",
    "***The columns for sample `name/id` and `plate-position` must be provided***"
   ]
  },
  {
   "cell_type": "code",
   "execution_count": 3,
   "id": "d2d5834c-7824-4a95-9889-31e5c5577858",
   "metadata": {},
   "outputs": [],
   "source": [
    "parent_dir = '/home/douso/SARS-CoV-2/SeqSampleSheets'\n",
    "seq = 'seq41'\n",
    "df_seqcheat = (pd.read_excel(f'{parent_dir}/Seq41_Samplesheet.xlsx', \n",
    "                usecols=['s_num', 'idx_plt_pos'], header=0).\n",
    "               dropna())"
   ]
  },
  {
   "cell_type": "code",
   "execution_count": 4,
   "id": "2631a121-63a8-4ed1-91c3-b4894c93f331",
   "metadata": {},
   "outputs": [],
   "source": [
    "samp_list = list(df_seqcheat['s_num'])"
   ]
  },
  {
   "cell_type": "code",
   "execution_count": 5,
   "id": "be677046-2e9c-4141-bdd2-9a0c6f8167ec",
   "metadata": {},
   "outputs": [],
   "source": [
    "count = 0\n",
    "plates = []\n",
    "plate = {'col1': [], 'col2': [], 'col3': [], 'col4': [], 'col5': [], 'col6': [],\n",
    "         'col7': [], 'col8': [], 'col9': [], 'col10': [], 'col11': [], 'col12': []}\n",
    "if len(samp_list) == 384:\n",
    "    nrows = 32\n",
    "elif len(samp_list) == 96:\n",
    "    nrows = 8\n",
    "else: \n",
    "    print('The number of samples is not 96 or 384\\nSamples must be in multiple of 96 per plate, if not extrapolate arbitrarily to fill (a) plate(s)')\n",
    "for r in range(nrows):\n",
    "    row = samp_list[count:count+12]\n",
    "    plate['col1'].append(row[0])\n",
    "    plate['col2'].append(row[1])\n",
    "    plate['col3'].append(row[2])\n",
    "    plate['col4'].append(row[3])\n",
    "    plate['col5'].append(row[4])\n",
    "    plate['col6'].append(row[5])\n",
    "    plate['col7'].append(row[6])\n",
    "    plate['col8'].append(row[7])\n",
    "    plate['col9'].append(row[8])\n",
    "    plate['col10'].append(row[9])\n",
    "    plate['col11'].append(row[10])\n",
    "    plate['col12'].append(row[11])\n",
    "    count += 12\n",
    "\n",
    "a = 8\n",
    "plt1=[]; plt2=[]; plt3=[]; plt4=[]\n",
    "for n in list(plate.values()):\n",
    "    if nrows == 8:\n",
    "        plt1 += n[:a]\n",
    "        all_plates = plt1\n",
    "    elif nrows == 32:\n",
    "        plt1 += n[:a]\n",
    "        plt2 += n[a:a*2]\n",
    "        plt3 += n[a*2:a*3]\n",
    "        plt4 += n[a*3:]\n",
    "        all_plates = plt1 + plt2 + plt3 + plt4\n",
    "    else: print('The number of plates is not 1 or 4')"
   ]
  },
  {
   "cell_type": "code",
   "execution_count": 6,
   "id": "71160397-a373-4d53-9d75-d162ecd9d179",
   "metadata": {},
   "outputs": [
    {
     "data": {
      "text/plain": [
       "384"
      ]
     },
     "execution_count": 6,
     "metadata": {},
     "output_type": "execute_result"
    }
   ],
   "source": [
    "sr_index = pd.Series(all_plates, name='indexing')\n",
    "len(sr_index)"
   ]
  },
  {
   "cell_type": "code",
   "execution_count": 7,
   "id": "33d927cd-3189-4277-b38a-4a02df32a46f",
   "metadata": {},
   "outputs": [],
   "source": [
    "df_index = sr_index.to_frame().merge(df_seqcheat, how='inner', left_on='indexing', right_on='s_num')"
   ]
  },
  {
   "cell_type": "code",
   "execution_count": 8,
   "id": "d997ac22-1af2-465c-b3bd-4e8ce3a30911",
   "metadata": {},
   "outputs": [
    {
     "data": {
      "text/html": [
       "<div>\n",
       "<style scoped>\n",
       "    .dataframe tbody tr th:only-of-type {\n",
       "        vertical-align: middle;\n",
       "    }\n",
       "\n",
       "    .dataframe tbody tr th {\n",
       "        vertical-align: top;\n",
       "    }\n",
       "\n",
       "    .dataframe thead th {\n",
       "        text-align: right;\n",
       "    }\n",
       "</style>\n",
       "<table border=\"1\" class=\"dataframe\">\n",
       "  <thead>\n",
       "    <tr style=\"text-align: right;\">\n",
       "      <th></th>\n",
       "      <th>indexing</th>\n",
       "      <th>s_num</th>\n",
       "      <th>idx_plt_pos</th>\n",
       "    </tr>\n",
       "  </thead>\n",
       "  <tbody>\n",
       "    <tr>\n",
       "      <th>0</th>\n",
       "      <td>COVM03032</td>\n",
       "      <td>COVM03032</td>\n",
       "      <td>A1</td>\n",
       "    </tr>\n",
       "    <tr>\n",
       "      <th>1</th>\n",
       "      <td>COVM03044</td>\n",
       "      <td>COVM03044</td>\n",
       "      <td>B1</td>\n",
       "    </tr>\n",
       "    <tr>\n",
       "      <th>2</th>\n",
       "      <td>COVM03056</td>\n",
       "      <td>COVM03056</td>\n",
       "      <td>C1</td>\n",
       "    </tr>\n",
       "    <tr>\n",
       "      <th>3</th>\n",
       "      <td>COVM03068</td>\n",
       "      <td>COVM03068</td>\n",
       "      <td>D1</td>\n",
       "    </tr>\n",
       "    <tr>\n",
       "      <th>4</th>\n",
       "      <td>COVM03080</td>\n",
       "      <td>COVM03080</td>\n",
       "      <td>E1</td>\n",
       "    </tr>\n",
       "    <tr>\n",
       "      <th>...</th>\n",
       "      <td>...</td>\n",
       "      <td>...</td>\n",
       "      <td>...</td>\n",
       "    </tr>\n",
       "    <tr>\n",
       "      <th>379</th>\n",
       "      <td>MA48</td>\n",
       "      <td>MA48</td>\n",
       "      <td>MA48</td>\n",
       "    </tr>\n",
       "    <tr>\n",
       "      <th>380</th>\n",
       "      <td>MA60</td>\n",
       "      <td>MA60</td>\n",
       "      <td>MA60</td>\n",
       "    </tr>\n",
       "    <tr>\n",
       "      <th>381</th>\n",
       "      <td>MA72</td>\n",
       "      <td>MA72</td>\n",
       "      <td>MA72</td>\n",
       "    </tr>\n",
       "    <tr>\n",
       "      <th>382</th>\n",
       "      <td>MA84</td>\n",
       "      <td>MA84</td>\n",
       "      <td>MA84</td>\n",
       "    </tr>\n",
       "    <tr>\n",
       "      <th>383</th>\n",
       "      <td>MA96</td>\n",
       "      <td>MA96</td>\n",
       "      <td>MA96</td>\n",
       "    </tr>\n",
       "  </tbody>\n",
       "</table>\n",
       "<p>384 rows × 3 columns</p>\n",
       "</div>"
      ],
      "text/plain": [
       "      indexing      s_num idx_plt_pos\n",
       "0    COVM03032  COVM03032          A1\n",
       "1    COVM03044  COVM03044          B1\n",
       "2    COVM03056  COVM03056          C1\n",
       "3    COVM03068  COVM03068          D1\n",
       "4    COVM03080  COVM03080          E1\n",
       "..         ...        ...         ...\n",
       "379       MA48       MA48        MA48\n",
       "380       MA60       MA60        MA60\n",
       "381       MA72       MA72        MA72\n",
       "382       MA84       MA84        MA84\n",
       "383       MA96       MA96        MA96\n",
       "\n",
       "[384 rows x 3 columns]"
      ]
     },
     "execution_count": 8,
     "metadata": {},
     "output_type": "execute_result"
    }
   ],
   "source": [
    "df_index"
   ]
  },
  {
   "cell_type": "code",
   "execution_count": 9,
   "id": "295bf1cf-c018-418d-bfe6-021a72b3758e",
   "metadata": {},
   "outputs": [],
   "source": [
    "df_index.to_excel(f'{parent_dir}/index_cheat_sheet_{seq}.xlsx', index=False)"
   ]
  }
 ],
 "metadata": {
  "kernelspec": {
   "display_name": "Python 3",
   "language": "python",
   "name": "python3"
  },
  "language_info": {
   "codemirror_mode": {
    "name": "ipython",
    "version": 3
   },
   "file_extension": ".py",
   "mimetype": "text/x-python",
   "name": "python",
   "nbconvert_exporter": "python",
   "pygments_lexer": "ipython3",
   "version": "3.8.10"
  }
 },
 "nbformat": 4,
 "nbformat_minor": 5
}
