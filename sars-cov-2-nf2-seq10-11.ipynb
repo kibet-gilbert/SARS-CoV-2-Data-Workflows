{
 "cells": [
  {
   "cell_type": "markdown",
   "metadata": {},
   "source": [
    "### Notebook for analysing nf pipeline output"
   ]
  },
  {
   "cell_type": "markdown",
   "metadata": {},
   "source": [
    "#### Sequencing batch 10 and 11"
   ]
  },
  {
   "cell_type": "markdown",
   "metadata": {},
   "source": [
    "## Packages"
   ]
  },
  {
   "cell_type": "code",
   "execution_count": 16,
   "metadata": {},
   "outputs": [],
   "source": [
    "import pandas as pd\n",
    "import matplotlib.pyplot as plt\n",
    "import regex as re\n",
    "import glob\n",
    "import numpy as np\n",
    "import os"
   ]
  },
  {
   "cell_type": "code",
   "execution_count": 2,
   "metadata": {},
   "outputs": [],
   "source": [
    "df_report_fnl = pd.read_excel('/home/douso/SarsGenomics/Processed/policy-brief-T005-6.xlsx')"
   ]
  },
  {
   "cell_type": "code",
   "execution_count": 3,
   "metadata": {},
   "outputs": [],
   "source": [
    "#clrs = pd.read_html('https://www.rapidtables.com/web/css/css-color.html')"
   ]
  },
  {
   "cell_type": "code",
   "execution_count": 4,
   "metadata": {},
   "outputs": [
    {
     "data": {
      "text/html": [
       "<div>\n",
       "<style scoped>\n",
       "    .dataframe tbody tr th:only-of-type {\n",
       "        vertical-align: middle;\n",
       "    }\n",
       "\n",
       "    .dataframe tbody tr th {\n",
       "        vertical-align: top;\n",
       "    }\n",
       "\n",
       "    .dataframe thead th {\n",
       "        text-align: right;\n",
       "    }\n",
       "</style>\n",
       "<table border=\"1\" class=\"dataframe\">\n",
       "  <thead>\n",
       "    <tr style=\"text-align: right;\">\n",
       "      <th></th>\n",
       "      <th>Sequence Name</th>\n",
       "      <th>coverage</th>\n",
       "      <th>Date Collection (dd-mm-yyyy)</th>\n",
       "      <th>Date Received (dd-mm-yyyy)</th>\n",
       "      <th>Pango Lineage Annotation</th>\n",
       "      <th>Next Clade Lineage Annotation</th>\n",
       "      <th>WHO Annotation</th>\n",
       "      <th>Sample County of Origin</th>\n",
       "      <th>Gender</th>\n",
       "      <th>Subject Country of Origin</th>\n",
       "      <th>MoC-S-Protein</th>\n",
       "    </tr>\n",
       "  </thead>\n",
       "  <tbody>\n",
       "    <tr>\n",
       "      <th>0</th>\n",
       "      <td>COVC03617</td>\n",
       "      <td>98.6</td>\n",
       "      <td>2020-07-06</td>\n",
       "      <td>NaT</td>\n",
       "      <td>B.1</td>\n",
       "      <td>20C</td>\n",
       "      <td>NaN</td>\n",
       "      <td>Nairobi</td>\n",
       "      <td>F</td>\n",
       "      <td>Kenya</td>\n",
       "      <td>NaN</td>\n",
       "    </tr>\n",
       "    <tr>\n",
       "      <th>1</th>\n",
       "      <td>COVC03665</td>\n",
       "      <td>95.9</td>\n",
       "      <td>2020-07-06</td>\n",
       "      <td>NaT</td>\n",
       "      <td>B.1</td>\n",
       "      <td>20C</td>\n",
       "      <td>NaN</td>\n",
       "      <td>Nairobi</td>\n",
       "      <td>M</td>\n",
       "      <td>Kenya</td>\n",
       "      <td>NaN</td>\n",
       "    </tr>\n",
       "    <tr>\n",
       "      <th>2</th>\n",
       "      <td>COVC03696</td>\n",
       "      <td>98.5</td>\n",
       "      <td>2020-07-06</td>\n",
       "      <td>NaT</td>\n",
       "      <td>B.1</td>\n",
       "      <td>20C</td>\n",
       "      <td>NaN</td>\n",
       "      <td>Nairobi</td>\n",
       "      <td>M</td>\n",
       "      <td>Kenya</td>\n",
       "      <td>NaN</td>\n",
       "    </tr>\n",
       "    <tr>\n",
       "      <th>3</th>\n",
       "      <td>COVC03723</td>\n",
       "      <td>99.2</td>\n",
       "      <td>2020-07-06</td>\n",
       "      <td>NaT</td>\n",
       "      <td>B.1</td>\n",
       "      <td>20C</td>\n",
       "      <td>NaN</td>\n",
       "      <td>Nairobi</td>\n",
       "      <td>M</td>\n",
       "      <td>Kenya</td>\n",
       "      <td>NaN</td>\n",
       "    </tr>\n",
       "    <tr>\n",
       "      <th>4</th>\n",
       "      <td>COVC03813</td>\n",
       "      <td>97.3</td>\n",
       "      <td>2020-07-10</td>\n",
       "      <td>NaT</td>\n",
       "      <td>B.1</td>\n",
       "      <td>20C</td>\n",
       "      <td>NaN</td>\n",
       "      <td>Nairobi</td>\n",
       "      <td>M</td>\n",
       "      <td>Kenya</td>\n",
       "      <td>NaN</td>\n",
       "    </tr>\n",
       "    <tr>\n",
       "      <th>...</th>\n",
       "      <td>...</td>\n",
       "      <td>...</td>\n",
       "      <td>...</td>\n",
       "      <td>...</td>\n",
       "      <td>...</td>\n",
       "      <td>...</td>\n",
       "      <td>...</td>\n",
       "      <td>...</td>\n",
       "      <td>...</td>\n",
       "      <td>...</td>\n",
       "      <td>...</td>\n",
       "    </tr>\n",
       "    <tr>\n",
       "      <th>99</th>\n",
       "      <td>NHRL-S020</td>\n",
       "      <td>86.0</td>\n",
       "      <td>NaT</td>\n",
       "      <td>NaT</td>\n",
       "      <td>B.1.1.7</td>\n",
       "      <td>20I/501Y.V1</td>\n",
       "      <td>Nan</td>\n",
       "      <td>M</td>\n",
       "      <td>Kenya</td>\n",
       "      <td>A570D</td>\n",
       "      <td>NaN</td>\n",
       "    </tr>\n",
       "    <tr>\n",
       "      <th>100</th>\n",
       "      <td>NHRL-S028</td>\n",
       "      <td>75.2</td>\n",
       "      <td>NaT</td>\n",
       "      <td>NaT</td>\n",
       "      <td>B.1.1.7</td>\n",
       "      <td>20I/501Y.V1</td>\n",
       "      <td>Nan</td>\n",
       "      <td>F</td>\n",
       "      <td>Kenya</td>\n",
       "      <td>A570D</td>\n",
       "      <td>NaN</td>\n",
       "    </tr>\n",
       "    <tr>\n",
       "      <th>101</th>\n",
       "      <td>NHRL-S029</td>\n",
       "      <td>78.0</td>\n",
       "      <td>NaT</td>\n",
       "      <td>NaT</td>\n",
       "      <td>B.1.1.7</td>\n",
       "      <td>20I/501Y.V1</td>\n",
       "      <td>Nan</td>\n",
       "      <td>M</td>\n",
       "      <td>Kenya</td>\n",
       "      <td>A570D</td>\n",
       "      <td>NaN</td>\n",
       "    </tr>\n",
       "    <tr>\n",
       "      <th>102</th>\n",
       "      <td>NHRL-S032</td>\n",
       "      <td>79.8</td>\n",
       "      <td>NaT</td>\n",
       "      <td>NaT</td>\n",
       "      <td>B.1</td>\n",
       "      <td>20C</td>\n",
       "      <td>Nan</td>\n",
       "      <td>NaN</td>\n",
       "      <td>Kenya</td>\n",
       "      <td>NaN</td>\n",
       "      <td>NaN</td>\n",
       "    </tr>\n",
       "    <tr>\n",
       "      <th>103</th>\n",
       "      <td>NHRL-S037</td>\n",
       "      <td>78.5</td>\n",
       "      <td>NaT</td>\n",
       "      <td>NaT</td>\n",
       "      <td>B.1.1.7</td>\n",
       "      <td>20I/501Y.V1</td>\n",
       "      <td>Nan</td>\n",
       "      <td>NaN</td>\n",
       "      <td>Kenya</td>\n",
       "      <td>A570D</td>\n",
       "      <td>NaN</td>\n",
       "    </tr>\n",
       "  </tbody>\n",
       "</table>\n",
       "<p>104 rows × 11 columns</p>\n",
       "</div>"
      ],
      "text/plain": [
       "    Sequence Name  coverage Date Collection (dd-mm-yyyy)  \\\n",
       "0       COVC03617      98.6                   2020-07-06   \n",
       "1       COVC03665      95.9                   2020-07-06   \n",
       "2       COVC03696      98.5                   2020-07-06   \n",
       "3       COVC03723      99.2                   2020-07-06   \n",
       "4       COVC03813      97.3                   2020-07-10   \n",
       "..            ...       ...                          ...   \n",
       "99      NHRL-S020      86.0                          NaT   \n",
       "100     NHRL-S028      75.2                          NaT   \n",
       "101     NHRL-S029      78.0                          NaT   \n",
       "102     NHRL-S032      79.8                          NaT   \n",
       "103     NHRL-S037      78.5                          NaT   \n",
       "\n",
       "    Date Received (dd-mm-yyyy) Pango Lineage Annotation  \\\n",
       "0                          NaT                      B.1   \n",
       "1                          NaT                      B.1   \n",
       "2                          NaT                      B.1   \n",
       "3                          NaT                      B.1   \n",
       "4                          NaT                      B.1   \n",
       "..                         ...                      ...   \n",
       "99                         NaT                  B.1.1.7   \n",
       "100                        NaT                  B.1.1.7   \n",
       "101                        NaT                  B.1.1.7   \n",
       "102                        NaT                      B.1   \n",
       "103                        NaT                  B.1.1.7   \n",
       "\n",
       "    Next Clade Lineage Annotation WHO Annotation Sample County of Origin  \\\n",
       "0                             20C            NaN                 Nairobi   \n",
       "1                             20C            NaN                 Nairobi   \n",
       "2                             20C            NaN                 Nairobi   \n",
       "3                             20C            NaN                 Nairobi   \n",
       "4                             20C            NaN                 Nairobi   \n",
       "..                            ...            ...                     ...   \n",
       "99                    20I/501Y.V1            Nan                       M   \n",
       "100                   20I/501Y.V1            Nan                       F   \n",
       "101                   20I/501Y.V1            Nan                       M   \n",
       "102                           20C            Nan                     NaN   \n",
       "103                   20I/501Y.V1            Nan                     NaN   \n",
       "\n",
       "    Gender Subject Country of Origin MoC-S-Protein  \n",
       "0        F                     Kenya           NaN  \n",
       "1        M                     Kenya           NaN  \n",
       "2        M                     Kenya           NaN  \n",
       "3        M                     Kenya           NaN  \n",
       "4        M                     Kenya           NaN  \n",
       "..     ...                       ...           ...  \n",
       "99   Kenya                     A570D           NaN  \n",
       "100  Kenya                     A570D           NaN  \n",
       "101  Kenya                     A570D           NaN  \n",
       "102  Kenya                       NaN           NaN  \n",
       "103  Kenya                     A570D           NaN  \n",
       "\n",
       "[104 rows x 11 columns]"
      ]
     },
     "execution_count": 4,
     "metadata": {},
     "output_type": "execute_result"
    }
   ],
   "source": [
    "df_report_fnl.sort_values('Date Collection (dd-mm-yyyy)')#.head()"
   ]
  },
  {
   "cell_type": "code",
   "execution_count": 5,
   "metadata": {},
   "outputs": [
    {
     "data": {
      "text/plain": [
       "Nairobi     30\n",
       "Kiambu      20\n",
       "Mombasa     20\n",
       "M           10\n",
       "Garissa      8\n",
       "Kajiado      6\n",
       "F            6\n",
       "Nakuru       1\n",
       "Machakos     1\n",
       "Name: Sample County of Origin, dtype: int64"
      ]
     },
     "execution_count": 5,
     "metadata": {},
     "output_type": "execute_result"
    }
   ],
   "source": [
    "(df_report_fnl['Sample County of Origin']\n",
    " .value_counts())"
   ]
  },
  {
   "cell_type": "code",
   "execution_count": 6,
   "metadata": {},
   "outputs": [],
   "source": [
    "clr_code = {'A.23': ('lime', '#00FF00'),\n",
    " 'A.23.1': ('gray', '#808080'),\n",
    " 'A.25': ('orangered', '#FF4500'),\n",
    " 'B.1': ('cyan', '#00FFFF'),\n",
    " 'B.1.1': ('chocolate', '#D2691E'),\n",
    " 'B.1.1.171': ('teal', '#008080'),\n",
    " 'B.1.1.406': ('slategray', '#708090'),\n",
    " 'B.1.1.7': ('orange', '#FFA500'),\n",
    " 'B.1.143': ('olive', '#808000'),\n",
    " 'B.1.214': ('gold', '#8FBC8F'),\n",
    " 'B.1.276': ('aquamarine', '#006400'),\n",
    " 'B.1.336': ('tan', '#D2B48C'),\n",
    " 'B.1.343': ('indigo', '#4B0082'),\n",
    " 'B.1.349': ('mediumpurple', '#9370DB'),\n",
    " 'B.1.351': ('blue', '#0000FF'),\n",
    " 'B.1.388': ('sienna', '#A0522D'),\n",
    " 'B.1.429': ('khaki', '#F0E68C'),\n",
    " 'B.1.446': ('palevioletred', '#DB7093'),\n",
    " 'B.1.525': ('green', '#008000'),\n",
    " 'B.1.530': ('red', '#AFEEEE'),\n",
    " 'B.1.549': ('brown', '#A52A2A'),\n",
    " 'B.1.596.1': ('magenta', '#FF00FF'),\n",
    " 'B.1.605': ('rosybrown', '#BC8F8F'),\n",
    " 'B.1.617.2': ('paleturquoise', '#FF0000'),\n",
    " 'B.1.517': ('yellow', '#FFFF00'),\n",
    " 'TBA5': ('darkkhaki', '#BDB76B'),\n",
    " 'TBA6': ('darkgreen', '#7FFFD4'),\n",
    " 'TBA7': ('yellowgreen', '#9ACD32'),\n",
    " 'TBA8': ('darkseagreen', '#FFD700'),\n",
    " 'TBA9': ('seagreen', '#2E8B57')}#BLUES NEXT B.1.361\n",
    "avail_clr = ['TBA5', 'TBA6', 'TBA7', 'TBA8', 'TBA9']"
   ]
  },
  {
   "cell_type": "code",
   "execution_count": 30,
   "metadata": {},
   "outputs": [],
   "source": [
    "grpby_lins = (df_report_fnl.groupby('Pango Lineage Annotation')\n",
    "        .count().sort_values('coverage', ascending=False))"
   ]
  },
  {
   "cell_type": "code",
   "execution_count": 31,
   "metadata": {},
   "outputs": [],
   "source": [
    "max_count = grpby_lins['Sequence Name'].max()"
   ]
  },
  {
   "cell_type": "code",
   "execution_count": 32,
   "metadata": {
    "tags": []
   },
   "outputs": [],
   "source": [
    "clr_code_keys = list(clr_code.keys())"
   ]
  },
  {
   "cell_type": "code",
   "execution_count": 33,
   "metadata": {
    "tags": []
   },
   "outputs": [],
   "source": [
    "lins = list(grpby_lins.index)"
   ]
  },
  {
   "cell_type": "code",
   "execution_count": 34,
   "metadata": {},
   "outputs": [
    {
     "data": {
      "text/plain": [
       "11"
      ]
     },
     "execution_count": 34,
     "metadata": {},
     "output_type": "execute_result"
    }
   ],
   "source": [
    "len(lins)"
   ]
  },
  {
   "cell_type": "code",
   "execution_count": 35,
   "metadata": {},
   "outputs": [
    {
     "data": {
      "text/plain": [
       "set()"
      ]
     },
     "execution_count": 35,
     "metadata": {},
     "output_type": "execute_result"
    }
   ],
   "source": [
    "lin_tba =  set(lins) - set(clr_code_keys)\n",
    "lin_tba"
   ]
  },
  {
   "cell_type": "code",
   "execution_count": 36,
   "metadata": {},
   "outputs": [],
   "source": [
    "import pprint\n",
    "for lin, clr in zip(lin_tba, avail_clr):\n",
    "    clr_code[lin] = clr_code.pop(clr)\n",
    "    avail_clr.remove(clr)"
   ]
  },
  {
   "cell_type": "code",
   "execution_count": 37,
   "metadata": {},
   "outputs": [
    {
     "name": "stdout",
     "output_type": "stream",
     "text": [
      "{'A.23': ('lime', '#00FF00'),\n",
      " 'A.23.1': ('gray', '#808080'),\n",
      " 'A.25': ('orangered', '#FF4500'),\n",
      " 'B.1': ('cyan', '#00FFFF'),\n",
      " 'B.1.1': ('chocolate', '#D2691E'),\n",
      " 'B.1.1.171': ('teal', '#008080'),\n",
      " 'B.1.1.406': ('slategray', '#708090'),\n",
      " 'B.1.1.7': ('orange', '#FFA500'),\n",
      " 'B.1.143': ('olive', '#808000'),\n",
      " 'B.1.214': ('gold', '#8FBC8F'),\n",
      " 'B.1.276': ('aquamarine', '#006400'),\n",
      " 'B.1.336': ('tan', '#D2B48C'),\n",
      " 'B.1.343': ('indigo', '#4B0082'),\n",
      " 'B.1.349': ('mediumpurple', '#9370DB'),\n",
      " 'B.1.351': ('blue', '#0000FF'),\n",
      " 'B.1.388': ('sienna', '#A0522D'),\n",
      " 'B.1.429': ('khaki', '#F0E68C'),\n",
      " 'B.1.446': ('palevioletred', '#DB7093'),\n",
      " 'B.1.517': ('yellow', '#FFFF00'),\n",
      " 'B.1.525': ('green', '#008000'),\n",
      " 'B.1.530': ('red', '#AFEEEE'),\n",
      " 'B.1.549': ('brown', '#A52A2A'),\n",
      " 'B.1.596.1': ('magenta', '#FF00FF'),\n",
      " 'B.1.605': ('rosybrown', '#BC8F8F'),\n",
      " 'B.1.617.2': ('paleturquoise', '#FF0000'),\n",
      " 'TBA5': ('darkkhaki', '#BDB76B'),\n",
      " 'TBA6': ('darkgreen', '#7FFFD4'),\n",
      " 'TBA7': ('yellowgreen', '#9ACD32'),\n",
      " 'TBA8': ('darkseagreen', '#FFD700'),\n",
      " 'TBA9': ('seagreen', '#2E8B57')}\n",
      "['TBA5', 'TBA6', 'TBA7', 'TBA8', 'TBA9']\n"
     ]
    }
   ],
   "source": [
    "pprint.pprint(clr_code)\n",
    "pprint.pprint(avail_clr)"
   ]
  },
  {
   "cell_type": "code",
   "execution_count": 38,
   "metadata": {},
   "outputs": [
    {
     "data": {
      "text/plain": [
       "{'A.23': ('lime', '#00FF00'),\n",
       " 'A.23.1': ('gray', '#808080'),\n",
       " 'A.25': ('orangered', '#FF4500'),\n",
       " 'B.1': ('cyan', '#00FFFF'),\n",
       " 'B.1.1': ('chocolate', '#D2691E'),\n",
       " 'B.1.1.171': ('teal', '#008080'),\n",
       " 'B.1.1.406': ('slategray', '#708090'),\n",
       " 'B.1.1.7': ('orange', '#FFA500'),\n",
       " 'B.1.143': ('olive', '#808000'),\n",
       " 'B.1.214': ('gold', '#8FBC8F'),\n",
       " 'B.1.276': ('aquamarine', '#006400'),\n",
       " 'B.1.336': ('tan', '#D2B48C'),\n",
       " 'B.1.343': ('indigo', '#4B0082'),\n",
       " 'B.1.349': ('mediumpurple', '#9370DB'),\n",
       " 'B.1.351': ('blue', '#0000FF'),\n",
       " 'B.1.388': ('sienna', '#A0522D'),\n",
       " 'B.1.429': ('khaki', '#F0E68C'),\n",
       " 'B.1.446': ('palevioletred', '#DB7093'),\n",
       " 'B.1.525': ('green', '#008000'),\n",
       " 'B.1.530': ('red', '#AFEEEE'),\n",
       " 'B.1.549': ('brown', '#A52A2A'),\n",
       " 'B.1.596.1': ('magenta', '#FF00FF'),\n",
       " 'B.1.605': ('rosybrown', '#BC8F8F'),\n",
       " 'B.1.617.2': ('paleturquoise', '#FF0000'),\n",
       " 'B.1.517': ('yellow', '#FFFF00'),\n",
       " 'TBA5': ('darkkhaki', '#BDB76B'),\n",
       " 'TBA6': ('darkgreen', '#7FFFD4'),\n",
       " 'TBA7': ('yellowgreen', '#9ACD32'),\n",
       " 'TBA8': ('darkseagreen', '#FFD700'),\n",
       " 'TBA9': ('seagreen', '#2E8B57')}"
      ]
     },
     "execution_count": 38,
     "metadata": {},
     "output_type": "execute_result"
    }
   ],
   "source": [
    "clr_code"
   ]
  },
  {
   "cell_type": "code",
   "execution_count": 39,
   "metadata": {},
   "outputs": [
    {
     "data": {
      "text/plain": [
       "array(['B.1', 'B.1.1', 'B.1.276', 'B.1.517', 'B.1.549', 'A.25', 'B.1.1.7',\n",
       "       'B.1.351', 'B.1.214', 'B.1.617.2', 'B.1.429'], dtype=object)"
      ]
     },
     "execution_count": 39,
     "metadata": {},
     "output_type": "execute_result"
    }
   ],
   "source": [
    "df_report_fnl['Pango Lineage Annotation'].unique()"
   ]
  },
  {
   "cell_type": "code",
   "execution_count": 40,
   "metadata": {
    "tags": []
   },
   "outputs": [],
   "source": [
    "lins = list(grpby_lins.index)"
   ]
  },
  {
   "cell_type": "code",
   "execution_count": 41,
   "metadata": {},
   "outputs": [
    {
     "data": {
      "text/plain": [
       "['B.1',\n",
       " 'B.1.1.7',\n",
       " 'B.1.549',\n",
       " 'B.1.1',\n",
       " 'B.1.276',\n",
       " 'A.25',\n",
       " 'B.1.214',\n",
       " 'B.1.351',\n",
       " 'B.1.429',\n",
       " 'B.1.517',\n",
       " 'B.1.617.2']"
      ]
     },
     "execution_count": 41,
     "metadata": {},
     "output_type": "execute_result"
    }
   ],
   "source": [
    "lins"
   ]
  },
  {
   "cell_type": "code",
   "execution_count": 49,
   "metadata": {},
   "outputs": [],
   "source": [
    "xlabels = ['B.1',\n",
    " 'B.1.1.7(Alpha)',\n",
    " 'B.1.549',\n",
    " 'B.1.1',\n",
    " 'B.1.276',\n",
    " 'A.25',\n",
    " 'B.1.214',\n",
    " 'B.1.351(Beta)',\n",
    " 'B.1.429',\n",
    " 'B.1.517',\n",
    " 'B.1.617.2(Delta)']\n",
    "\n",
    "# [\n",
    "#     'B.1',\n",
    "#  'B.1.549',\n",
    "#  'B.1.1.7(Alpha)',\n",
    "#  'B.1.276',\n",
    "#  'B.1.1',\n",
    "#  'B.1.351(Beta)',\n",
    "#  'A.25',\n",
    "#  'B.1.517'\n",
    "#  ]"
   ]
  },
  {
   "cell_type": "code",
   "execution_count": 50,
   "metadata": {},
   "outputs": [
    {
     "data": {
      "text/plain": [
       "B.1          69\n",
       "B.1.1.7      13\n",
       "B.1.549      12\n",
       "B.1.1         2\n",
       "B.1.276       2\n",
       "A.25          1\n",
       "B.1.214       1\n",
       "B.1.517       1\n",
       "B.1.429       1\n",
       "B.1.617.2     1\n",
       "B.1.351       1\n",
       "Name: Pango Lineage Annotation, dtype: int64"
      ]
     },
     "execution_count": 50,
     "metadata": {},
     "output_type": "execute_result"
    }
   ],
   "source": [
    "(df_report_fnl['Pango Lineage Annotation']\n",
    " .value_counts())"
   ]
  },
  {
   "cell_type": "code",
   "execution_count": 64,
   "metadata": {},
   "outputs": [
    {
     "data": {
      "image/png": "[encoded data removed]",
      "text/plain": [
       "<Figure size 432x288 with 1 Axes>"
      ]
     },
     "metadata": {
      "needs_background": "light"
     },
     "output_type": "display_data"
    }
   ],
   "source": [
    "import math\n",
    "# plot lineage frequencies\n",
    "colors = [clr_code[lin][1] for lin in lins]\n",
    "n = df_report_fnl['Pango Lineage Annotation'].count()\n",
    "yticks = np.arange(0, (math.ceil(max_count / 5) + 1) * 5, 5)\n",
    "fig, ax = plt.subplots()\n",
    "(df_report_fnl['Pango Lineage Annotation']\n",
    " .value_counts()\n",
    " .plot(kind='bar', ax=ax, color=colors))\n",
    "plt.title('Lineage frequencies')\n",
    "plt.xlabel('Lineages')\n",
    "# plt.yticks(yticks)\n",
    "# plt.xticks(ticks=range(len(lins)), rotation=45, labels=xlabels)\n",
    "plt.ylabel(f'No. of samples (n = {n})')\n",
    "plt.tight_layout()\n",
    "# fig.savefig('/home/douso/SarsGenomics/Processed/policy-brief-P005-6c.png', dpi=300.0)\n",
    "plt.show()"
   ]
  }
 ],
 "metadata": {
  "kernelspec": {
   "display_name": "Python 3",
   "language": "python",
   "name": "python3"
  },
  "language_info": {
   "codemirror_mode": {
    "name": "ipython",
    "version": 3
   },
   "file_extension": ".py",
   "mimetype": "text/x-python",
   "name": "python",
   "nbconvert_exporter": "python",
   "pygments_lexer": "ipython3",
   "version": "3.8.5"
  }
 },
 "nbformat": 4,
 "nbformat_minor": 4
}
