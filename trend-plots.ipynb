{
 "cells": [
  {
   "cell_type": "markdown",
   "metadata": {},
   "source": [
    "$13^{th}$ Aug 2021"
   ]
  },
  {
   "cell_type": "code",
   "execution_count": 355,
   "metadata": {},
   "outputs": [],
   "source": [
    "import pandas as pd\n",
    "import os, glob\n",
    "import matplotlib.pyplot as plt\n",
    "import numpy as np\n",
    "from datetime import datetime"
   ]
  },
  {
   "cell_type": "code",
   "execution_count": 356,
   "metadata": {},
   "outputs": [],
   "source": [
    "dt = datetime.today().strftime(format='%d-%m-%Y')"
   ]
  },
  {
   "cell_type": "code",
   "execution_count": 357,
   "metadata": {},
   "outputs": [],
   "source": [
    "def replace_with_who_lin(x):\n",
    "    if x == 'B.1.1.7':\n",
    "        return x.replace(x, 'B.1.1.7(Alpha)')\n",
    "    if x == 'B.1.617.2':\n",
    "        return x.replace(x, 'B.1.617.2(Delta)')\n",
    "    if x == 'B.1.351':\n",
    "        return x.replace(x, 'B.1.351(Beta)')\n",
    "    if x == 'B.1.525':\n",
    "        return x.replace(x, 'B.1.525(Eta)')\n",
    "    return x\n",
    "    "
   ]
  },
  {
   "cell_type": "code",
   "execution_count": 358,
   "metadata": {},
   "outputs": [
    {
     "data": {
      "text/plain": [
       "('sequence_name', 'clade', 'lineage', 'genome_coverage')"
      ]
     },
     "execution_count": 358,
     "metadata": {},
     "output_type": "execute_result"
    }
   ],
   "source": [
    "'sequence_name', 'clade', 'lineage', 'genome_coverage'\n"
   ]
  },
  {
   "cell_type": "code",
   "execution_count": 359,
   "metadata": {},
   "outputs": [],
   "source": [
    "df_seq_summ = pd.read_excel('/home/douso/SarsGenomics/QCstats.Analysis_OUSO_17-08-2021.xlsx', \n",
    "                   sheet_name='summary')#usecols=['sequence_name', 'clade', 'lineage', 'genome_coverage'], "
   ]
  },
  {
   "cell_type": "code",
   "execution_count": 360,
   "metadata": {},
   "outputs": [
    {
     "data": {
      "text/html": [
       "<div>\n",
       "<style scoped>\n",
       "    .dataframe tbody tr th:only-of-type {\n",
       "        vertical-align: middle;\n",
       "    }\n",
       "\n",
       "    .dataframe tbody tr th {\n",
       "        vertical-align: top;\n",
       "    }\n",
       "\n",
       "    .dataframe thead th {\n",
       "        text-align: right;\n",
       "    }\n",
       "</style>\n",
       "<table border=\"1\" class=\"dataframe\">\n",
       "  <thead>\n",
       "    <tr style=\"text-align: right;\">\n",
       "      <th></th>\n",
       "      <th>sequence_name</th>\n",
       "      <th>clade</th>\n",
       "      <th>lineage</th>\n",
       "      <th>genome_coverage</th>\n",
       "      <th>run_num</th>\n",
       "      <th>seq_dt</th>\n",
       "    </tr>\n",
       "  </thead>\n",
       "  <tbody>\n",
       "    <tr>\n",
       "      <th>0</th>\n",
       "      <td>COVC11310</td>\n",
       "      <td>20C</td>\n",
       "      <td>B.1</td>\n",
       "      <td>59.3</td>\n",
       "      <td>Run1</td>\n",
       "      <td>09-02-2021</td>\n",
       "    </tr>\n",
       "    <tr>\n",
       "      <th>1</th>\n",
       "      <td>COVC00854</td>\n",
       "      <td>20C</td>\n",
       "      <td>B.1</td>\n",
       "      <td>94.9</td>\n",
       "      <td>Run7</td>\n",
       "      <td>18-05-2021</td>\n",
       "    </tr>\n",
       "    <tr>\n",
       "      <th>2</th>\n",
       "      <td>COVC00867</td>\n",
       "      <td>20C</td>\n",
       "      <td>B.1.446</td>\n",
       "      <td>68.2</td>\n",
       "      <td>Run7</td>\n",
       "      <td>18-05-2021</td>\n",
       "    </tr>\n",
       "    <tr>\n",
       "      <th>3</th>\n",
       "      <td>COVC00893</td>\n",
       "      <td>20C</td>\n",
       "      <td>B.1.446</td>\n",
       "      <td>84.1</td>\n",
       "      <td>Run7</td>\n",
       "      <td>18-05-2021</td>\n",
       "    </tr>\n",
       "    <tr>\n",
       "      <th>4</th>\n",
       "      <td>COVC00915</td>\n",
       "      <td>NaN</td>\n",
       "      <td>Failed</td>\n",
       "      <td>0.0</td>\n",
       "      <td>Run7</td>\n",
       "      <td>18-05-2021</td>\n",
       "    </tr>\n",
       "  </tbody>\n",
       "</table>\n",
       "</div>"
      ],
      "text/plain": [
       "  sequence_name clade  lineage  genome_coverage run_num      seq_dt\n",
       "0     COVC11310   20C      B.1             59.3    Run1  09-02-2021\n",
       "1     COVC00854   20C      B.1             94.9    Run7  18-05-2021\n",
       "2     COVC00867   20C  B.1.446             68.2    Run7  18-05-2021\n",
       "3     COVC00893   20C  B.1.446             84.1    Run7  18-05-2021\n",
       "4     COVC00915   NaN   Failed              0.0    Run7  18-05-2021"
      ]
     },
     "execution_count": 360,
     "metadata": {},
     "output_type": "execute_result"
    }
   ],
   "source": [
    "df_seq_summ.head()"
   ]
  },
  {
   "cell_type": "code",
   "execution_count": 361,
   "metadata": {},
   "outputs": [],
   "source": [
    "voc_list = ['B.1.1.7', 'B.1.351', 'P.1', 'B.1.617.2', 'A23.1', 'B.1.525']"
   ]
  },
  {
   "cell_type": "code",
   "execution_count": 362,
   "metadata": {},
   "outputs": [
    {
     "data": {
      "text/plain": [
       "array(['B.1', 'B.1.446', 'Failed', 'Unkown', 'B.1.1', 'B.1.1.406',\n",
       "       'B.1.605', 'A', 'B.1.349', 'B.1.336', 'B.1.1.54', 'B.1.276',\n",
       "       'B.1.361', 'B.1.549', 'A.25', 'B.1.153', 'B.1.530', 'B.1.103',\n",
       "       'B.1.390', 'B.1.302', 'B.1.333', 'A.23', 'B.1.535', 'B.1.214',\n",
       "       'B.1.160', 'B.1.378', 'B.1.433', 'B.1.596.1', 'B.1.596', 'B.1.551',\n",
       "       'B.1.324', 'B.1.520', 'B.1.612', 'B.1.1.171', 'B.1.343',\n",
       "       'B.1.1.70', 'B.1.404', 'B.1.143', 'B', 'B.1.1.7', 'B.1.351',\n",
       "       'B.1.525', 'A.23.1', 'B.1.617.2', 'B.1.429', 'B.1.411', 'B.1.527',\n",
       "       'B.1.393', 'B.1.1.1', 'B.1.540', 'B.1.524', 'B.1.405', 'B.1.577',\n",
       "       'B.1.1.318', 'AY.4', 'AY.12'], dtype=object)"
      ]
     },
     "execution_count": 362,
     "metadata": {},
     "output_type": "execute_result"
    }
   ],
   "source": [
    "df_seq_summ['lineage'].unique()"
   ]
  },
  {
   "cell_type": "code",
   "execution_count": 363,
   "metadata": {},
   "outputs": [],
   "source": [
    "df_voc = df_seq_summ[df_seq_summ['lineage'].isin(voc_list)]"
   ]
  },
  {
   "cell_type": "code",
   "execution_count": 364,
   "metadata": {},
   "outputs": [],
   "source": [
    "df_voc_grp_lin = df_voc.groupby('lineage', dropna=False)['sequence_name'].count()"
   ]
  },
  {
   "cell_type": "code",
   "execution_count": 366,
   "metadata": {},
   "outputs": [],
   "source": [
    "fontdict = {'fontsize': 14,\n",
    "        'fontweight': 'normal',\n",
    "        'color': 'k',\n",
    "        'horizontalalignment': 'center'}"
   ]
  },
  {
   "cell_type": "code",
   "execution_count": 367,
   "metadata": {},
   "outputs": [
    {
     "data": {
      "image/png": "[encoded data removed]",
      "text/plain": [
       "<Figure size 576x396 with 1 Axes>"
      ]
     },
     "metadata": {},
     "output_type": "display_data"
    }
   ],
   "source": [
    "fig,ax = plt.subplots()\n",
    "y = df_voc_grp_lin\n",
    "yy = map(replace_with_who_lin, list(y.index))\n",
    "y.index = yy\n",
    "\n",
    "n = sum(y)\n",
    "g = plt.bar(y.index, y, color=['g', 'c', 'b', 'orange'])\n",
    "ax.bar_label(g, label_type='center', labels=list(y), color='w')\n",
    "plt.ylabel(f'Counts (N={n})')\n",
    "plt.xlabel('Lineages of concern/interest')\n",
    "plt.grid('major', axis='y', ls='-.')\n",
    "plt.title('VoC/VoI Lineage Frequencies', fontdict)\n",
    "# fig.savefig(f'/home/douso/SarsGenomics/Processed/report-voci_{dt}.png')\n",
    "plt.show()"
   ]
  },
  {
   "cell_type": "code",
   "execution_count": 368,
   "metadata": {},
   "outputs": [],
   "source": [
    "def assign_seq_platform(x):\n",
    "    x = str(x)\n",
    "    if 'ONT' in x: \n",
    "        return x.replace(x, 'ONT')\n",
    "    elif '_NS' in x:\n",
    "        return x.replace(x, 'NextSeq')\n",
    "    return x.replace(x, 'MiSeq')"
   ]
  },
  {
   "cell_type": "code",
   "execution_count": 369,
   "metadata": {},
   "outputs": [],
   "source": [
    "covv_seq_tech = (df_seq_summ.assign(covv_seq_tech=df_seq_summ['run_num'].\n",
    "                apply(lambda x: assign_seq_platform(x))))\n",
    "                #.replace('Failed', np.NaN)"
   ]
  },
  {
   "cell_type": "code",
   "execution_count": 370,
   "metadata": {},
   "outputs": [
    {
     "data": {
      "text/html": [
       "<div>\n",
       "<style scoped>\n",
       "    .dataframe tbody tr th:only-of-type {\n",
       "        vertical-align: middle;\n",
       "    }\n",
       "\n",
       "    .dataframe tbody tr th {\n",
       "        vertical-align: top;\n",
       "    }\n",
       "\n",
       "    .dataframe thead th {\n",
       "        text-align: right;\n",
       "    }\n",
       "</style>\n",
       "<table border=\"1\" class=\"dataframe\">\n",
       "  <thead>\n",
       "    <tr style=\"text-align: right;\">\n",
       "      <th></th>\n",
       "      <th>sequence_name</th>\n",
       "      <th>clade</th>\n",
       "      <th>lineage</th>\n",
       "      <th>genome_coverage</th>\n",
       "      <th>run_num</th>\n",
       "      <th>seq_dt</th>\n",
       "      <th>covv_seq_tech</th>\n",
       "    </tr>\n",
       "  </thead>\n",
       "  <tbody>\n",
       "    <tr>\n",
       "      <th>0</th>\n",
       "      <td>COVC11310</td>\n",
       "      <td>20C</td>\n",
       "      <td>B.1</td>\n",
       "      <td>59.3</td>\n",
       "      <td>Run1</td>\n",
       "      <td>09-02-2021</td>\n",
       "      <td>MiSeq</td>\n",
       "    </tr>\n",
       "    <tr>\n",
       "      <th>1</th>\n",
       "      <td>COVC00854</td>\n",
       "      <td>20C</td>\n",
       "      <td>B.1</td>\n",
       "      <td>94.9</td>\n",
       "      <td>Run7</td>\n",
       "      <td>18-05-2021</td>\n",
       "      <td>MiSeq</td>\n",
       "    </tr>\n",
       "    <tr>\n",
       "      <th>2</th>\n",
       "      <td>COVC00867</td>\n",
       "      <td>20C</td>\n",
       "      <td>B.1.446</td>\n",
       "      <td>68.2</td>\n",
       "      <td>Run7</td>\n",
       "      <td>18-05-2021</td>\n",
       "      <td>MiSeq</td>\n",
       "    </tr>\n",
       "    <tr>\n",
       "      <th>3</th>\n",
       "      <td>COVC00893</td>\n",
       "      <td>20C</td>\n",
       "      <td>B.1.446</td>\n",
       "      <td>84.1</td>\n",
       "      <td>Run7</td>\n",
       "      <td>18-05-2021</td>\n",
       "      <td>MiSeq</td>\n",
       "    </tr>\n",
       "    <tr>\n",
       "      <th>4</th>\n",
       "      <td>COVC00915</td>\n",
       "      <td>NaN</td>\n",
       "      <td>Failed</td>\n",
       "      <td>0.0</td>\n",
       "      <td>Run7</td>\n",
       "      <td>18-05-2021</td>\n",
       "      <td>MiSeq</td>\n",
       "    </tr>\n",
       "  </tbody>\n",
       "</table>\n",
       "</div>"
      ],
      "text/plain": [
       "  sequence_name clade  lineage  genome_coverage run_num      seq_dt  \\\n",
       "0     COVC11310   20C      B.1             59.3    Run1  09-02-2021   \n",
       "1     COVC00854   20C      B.1             94.9    Run7  18-05-2021   \n",
       "2     COVC00867   20C  B.1.446             68.2    Run7  18-05-2021   \n",
       "3     COVC00893   20C  B.1.446             84.1    Run7  18-05-2021   \n",
       "4     COVC00915   NaN   Failed              0.0    Run7  18-05-2021   \n",
       "\n",
       "  covv_seq_tech  \n",
       "0         MiSeq  \n",
       "1         MiSeq  \n",
       "2         MiSeq  \n",
       "3         MiSeq  \n",
       "4         MiSeq  "
      ]
     },
     "execution_count": 370,
     "metadata": {},
     "output_type": "execute_result"
    }
   ],
   "source": [
    "covv_seq_tech.head()"
   ]
  },
  {
   "cell_type": "code",
   "execution_count": null,
   "metadata": {},
   "outputs": [],
   "source": [
    "covv_seq_tech[covv_seq_tech['genome_coverage'] >= 60].shape"
   ]
  },
  {
   "cell_type": "code",
   "execution_count": null,
   "metadata": {},
   "outputs": [],
   "source": [
    "covv_seq_tech[covv_seq_tech['genome_coverage'] >= 50].shape"
   ]
  },
  {
   "cell_type": "code",
   "execution_count": 371,
   "metadata": {},
   "outputs": [
    {
     "data": {
      "image/png": "[encoded data removed]",
      "text/plain": [
       "<Figure size 576x396 with 1 Axes>"
      ]
     },
     "metadata": {},
     "output_type": "display_data"
    }
   ],
   "source": [
    "fig,ax = plt.subplots(1,1)\n",
    "plt.hist(covv_seq_tech['genome_coverage'])\n",
    "plt.xlabel('Genome coverage')\n",
    "plt.ylabel(f'Counts (N={covv_seq_tech.shape[0]-1})')\n",
    "plt.xticks(np.arange(0,105, 5), rotation=90)\n",
    "# plt.yticks(np.arange(0,375, 25))\n",
    "plt.grid('major', axis='y', ls='-.')\n",
    "plt.title('Distribution of Genome Coverage', fontdict)\n",
    "# ax.hlines(67, 2, 99, colors='orange', linestyles='--')\n",
    "# plt.annotate('80% coverage threshold', xy=(30, 80))\n",
    "# fig.savefig(f'/home/douso/SarsGenomics/Processed/report-coverage_{dt}.png')\n",
    "plt.show()\n",
    "\n"
   ]
  },
  {
   "cell_type": "code",
   "execution_count": 372,
   "metadata": {},
   "outputs": [
    {
     "data": {
      "text/plain": [
       "(1074, 6)"
      ]
     },
     "execution_count": 372,
     "metadata": {},
     "output_type": "execute_result"
    }
   ],
   "source": [
    "df_seq_summ.shape"
   ]
  },
  {
   "cell_type": "code",
   "execution_count": 373,
   "metadata": {},
   "outputs": [],
   "source": [
    "df_metadata = pd.read_excel('/home/douso/Documents/TrendData/Results/ResultsMerged/COVID19-results-merged-cln.xlsx')"
   ]
  },
  {
   "cell_type": "code",
   "execution_count": 374,
   "metadata": {},
   "outputs": [
    {
     "data": {
      "text/html": [
       "<div>\n",
       "<style scoped>\n",
       "    .dataframe tbody tr th:only-of-type {\n",
       "        vertical-align: middle;\n",
       "    }\n",
       "\n",
       "    .dataframe tbody tr th {\n",
       "        vertical-align: top;\n",
       "    }\n",
       "\n",
       "    .dataframe thead th {\n",
       "        text-align: right;\n",
       "    }\n",
       "</style>\n",
       "<table border=\"1\" class=\"dataframe\">\n",
       "  <thead>\n",
       "    <tr style=\"text-align: right;\">\n",
       "      <th></th>\n",
       "      <th>S_NUM</th>\n",
       "      <th>AGE_YRS</th>\n",
       "      <th>GEND</th>\n",
       "      <th>OCCU</th>\n",
       "      <th>NAT</th>\n",
       "      <th>COUNT_RES</th>\n",
       "      <th>S_COUNT_RES</th>\n",
       "      <th>TRAV_HIST</th>\n",
       "      <th>TRAV_FROM</th>\n",
       "      <th>QUAR_PLACE</th>\n",
       "      <th>SYMPS</th>\n",
       "      <th>DT_SAM_COLL</th>\n",
       "      <th>DT_SAM_RECEP</th>\n",
       "      <th>RESULT</th>\n",
       "      <th>DT_CONF</th>\n",
       "    </tr>\n",
       "  </thead>\n",
       "  <tbody>\n",
       "    <tr>\n",
       "      <th>0</th>\n",
       "      <td>COVC00001</td>\n",
       "      <td>35.0</td>\n",
       "      <td>F</td>\n",
       "      <td>Refugee</td>\n",
       "      <td>NaN</td>\n",
       "      <td>Garissa</td>\n",
       "      <td>Dadaab</td>\n",
       "      <td>No</td>\n",
       "      <td>NaN</td>\n",
       "      <td>NaN</td>\n",
       "      <td>NaN</td>\n",
       "      <td>NaT</td>\n",
       "      <td>NaT</td>\n",
       "      <td>Negative</td>\n",
       "      <td>2020-06-02</td>\n",
       "    </tr>\n",
       "    <tr>\n",
       "      <th>1</th>\n",
       "      <td>COVC00002</td>\n",
       "      <td>29.0</td>\n",
       "      <td>M</td>\n",
       "      <td>Refugee</td>\n",
       "      <td>NaN</td>\n",
       "      <td>Garissa</td>\n",
       "      <td>Dadaab</td>\n",
       "      <td>No</td>\n",
       "      <td>NaN</td>\n",
       "      <td>NaN</td>\n",
       "      <td>NaN</td>\n",
       "      <td>NaT</td>\n",
       "      <td>NaT</td>\n",
       "      <td>Negative</td>\n",
       "      <td>2020-06-02</td>\n",
       "    </tr>\n",
       "    <tr>\n",
       "      <th>2</th>\n",
       "      <td>COVC00003</td>\n",
       "      <td>50.0</td>\n",
       "      <td>M</td>\n",
       "      <td>Refugee</td>\n",
       "      <td>NaN</td>\n",
       "      <td>Garissa</td>\n",
       "      <td>Dadaab</td>\n",
       "      <td>No</td>\n",
       "      <td>NaN</td>\n",
       "      <td>NaN</td>\n",
       "      <td>NaN</td>\n",
       "      <td>NaT</td>\n",
       "      <td>NaT</td>\n",
       "      <td>Negative</td>\n",
       "      <td>2020-06-02</td>\n",
       "    </tr>\n",
       "    <tr>\n",
       "      <th>3</th>\n",
       "      <td>COVC00004</td>\n",
       "      <td>35.0</td>\n",
       "      <td>F</td>\n",
       "      <td>Casual</td>\n",
       "      <td>NaN</td>\n",
       "      <td>Garissa</td>\n",
       "      <td>Dadaab</td>\n",
       "      <td>No</td>\n",
       "      <td>NaN</td>\n",
       "      <td>NaN</td>\n",
       "      <td>NaN</td>\n",
       "      <td>NaT</td>\n",
       "      <td>NaT</td>\n",
       "      <td>Negative</td>\n",
       "      <td>2020-06-02</td>\n",
       "    </tr>\n",
       "    <tr>\n",
       "      <th>4</th>\n",
       "      <td>COVC00005</td>\n",
       "      <td>27.0</td>\n",
       "      <td>F</td>\n",
       "      <td>Refugee</td>\n",
       "      <td>NaN</td>\n",
       "      <td>Garissa</td>\n",
       "      <td>Dadaab</td>\n",
       "      <td>No</td>\n",
       "      <td>NaN</td>\n",
       "      <td>NaN</td>\n",
       "      <td>NaN</td>\n",
       "      <td>NaT</td>\n",
       "      <td>NaT</td>\n",
       "      <td>Negative</td>\n",
       "      <td>2020-06-02</td>\n",
       "    </tr>\n",
       "  </tbody>\n",
       "</table>\n",
       "</div>"
      ],
      "text/plain": [
       "       S_NUM  AGE_YRS GEND     OCCU  NAT COUNT_RES S_COUNT_RES TRAV_HIST  \\\n",
       "0  COVC00001     35.0    F  Refugee  NaN   Garissa      Dadaab        No   \n",
       "1  COVC00002     29.0    M  Refugee  NaN   Garissa      Dadaab        No   \n",
       "2  COVC00003     50.0    M  Refugee  NaN   Garissa      Dadaab        No   \n",
       "3  COVC00004     35.0    F   Casual  NaN   Garissa      Dadaab        No   \n",
       "4  COVC00005     27.0    F  Refugee  NaN   Garissa      Dadaab        No   \n",
       "\n",
       "  TRAV_FROM QUAR_PLACE SYMPS DT_SAM_COLL DT_SAM_RECEP    RESULT    DT_CONF  \n",
       "0       NaN        NaN   NaN         NaT          NaT  Negative 2020-06-02  \n",
       "1       NaN        NaN   NaN         NaT          NaT  Negative 2020-06-02  \n",
       "2       NaN        NaN   NaN         NaT          NaT  Negative 2020-06-02  \n",
       "3       NaN        NaN   NaN         NaT          NaT  Negative 2020-06-02  \n",
       "4       NaN        NaN   NaN         NaT          NaT  Negative 2020-06-02  "
      ]
     },
     "execution_count": 374,
     "metadata": {},
     "output_type": "execute_result"
    }
   ],
   "source": [
    "df_metadata.head()"
   ]
  },
  {
   "cell_type": "code",
   "execution_count": 375,
   "metadata": {},
   "outputs": [],
   "source": [
    "df_metadata_sub = df_metadata[df_metadata['S_NUM'].isin(list(df_seq_summ['sequence_name']))]"
   ]
  },
  {
   "cell_type": "code",
   "execution_count": 376,
   "metadata": {},
   "outputs": [
    {
     "data": {
      "text/plain": [
       "(1033, 15)"
      ]
     },
     "execution_count": 376,
     "metadata": {},
     "output_type": "execute_result"
    }
   ],
   "source": [
    "df_metadata_sub.shape"
   ]
  },
  {
   "cell_type": "code",
   "execution_count": null,
   "metadata": {},
   "outputs": [],
   "source": [
    "df_metadata_sub.sort_values('DT_CONF').to_excel(f'/home/douso/Documents/TrendData/Results/ResultsMerged/all-sequenced-samples_{dt}.xlsx', index=False)"
   ]
  },
  {
   "cell_type": "code",
   "execution_count": 377,
   "metadata": {},
   "outputs": [
    {
     "data": {
      "text/html": [
       "<div>\n",
       "<style scoped>\n",
       "    .dataframe tbody tr th:only-of-type {\n",
       "        vertical-align: middle;\n",
       "    }\n",
       "\n",
       "    .dataframe tbody tr th {\n",
       "        vertical-align: top;\n",
       "    }\n",
       "\n",
       "    .dataframe thead th {\n",
       "        text-align: right;\n",
       "    }\n",
       "</style>\n",
       "<table border=\"1\" class=\"dataframe\">\n",
       "  <thead>\n",
       "    <tr style=\"text-align: right;\">\n",
       "      <th></th>\n",
       "      <th>S_NUM</th>\n",
       "      <th>AGE_YRS</th>\n",
       "      <th>GEND</th>\n",
       "      <th>OCCU</th>\n",
       "      <th>NAT</th>\n",
       "      <th>COUNT_RES</th>\n",
       "      <th>S_COUNT_RES</th>\n",
       "      <th>TRAV_HIST</th>\n",
       "      <th>TRAV_FROM</th>\n",
       "      <th>QUAR_PLACE</th>\n",
       "      <th>SYMPS</th>\n",
       "      <th>DT_SAM_COLL</th>\n",
       "      <th>DT_SAM_RECEP</th>\n",
       "      <th>RESULT</th>\n",
       "      <th>DT_CONF</th>\n",
       "    </tr>\n",
       "  </thead>\n",
       "  <tbody>\n",
       "    <tr>\n",
       "      <th>24478</th>\n",
       "      <td>KEMRI_01_89431</td>\n",
       "      <td>44.0</td>\n",
       "      <td>M</td>\n",
       "      <td>NaN</td>\n",
       "      <td>Kenya</td>\n",
       "      <td>Kirinyaga</td>\n",
       "      <td>Mwea</td>\n",
       "      <td>No</td>\n",
       "      <td>NaN</td>\n",
       "      <td>NaN</td>\n",
       "      <td>NaN</td>\n",
       "      <td>2021-01-07</td>\n",
       "      <td>2021-07-30</td>\n",
       "      <td>Positive</td>\n",
       "      <td>2021-01-11</td>\n",
       "    </tr>\n",
       "    <tr>\n",
       "      <th>24479</th>\n",
       "      <td>KEMRI_01_89447</td>\n",
       "      <td>28.0</td>\n",
       "      <td>F</td>\n",
       "      <td>NaN</td>\n",
       "      <td>Kenya</td>\n",
       "      <td>Kirinyaga</td>\n",
       "      <td>Kirinyaga east</td>\n",
       "      <td>No</td>\n",
       "      <td>NaN</td>\n",
       "      <td>NaN</td>\n",
       "      <td>NaN</td>\n",
       "      <td>2020-12-24</td>\n",
       "      <td>2021-07-30</td>\n",
       "      <td>Positive</td>\n",
       "      <td>2021-01-11</td>\n",
       "    </tr>\n",
       "    <tr>\n",
       "      <th>24480</th>\n",
       "      <td>KEMRI_01_89476</td>\n",
       "      <td>41.0</td>\n",
       "      <td>M</td>\n",
       "      <td>NaN</td>\n",
       "      <td>Kenya</td>\n",
       "      <td>Nairobi</td>\n",
       "      <td>Kasarani</td>\n",
       "      <td>No</td>\n",
       "      <td>NaN</td>\n",
       "      <td>NaN</td>\n",
       "      <td>sore throat,cough,headache,fever</td>\n",
       "      <td>2021-01-08</td>\n",
       "      <td>2021-07-30</td>\n",
       "      <td>Positive</td>\n",
       "      <td>2021-01-11</td>\n",
       "    </tr>\n",
       "    <tr>\n",
       "      <th>24481</th>\n",
       "      <td>KEMRI_01_89487</td>\n",
       "      <td>57.0</td>\n",
       "      <td>M</td>\n",
       "      <td>NaN</td>\n",
       "      <td>Kenya</td>\n",
       "      <td>Kiambu</td>\n",
       "      <td>Githunguri</td>\n",
       "      <td>No</td>\n",
       "      <td>NaN</td>\n",
       "      <td>NaN</td>\n",
       "      <td>NaN</td>\n",
       "      <td>2021-01-07</td>\n",
       "      <td>2021-07-30</td>\n",
       "      <td>Positive</td>\n",
       "      <td>2021-01-11</td>\n",
       "    </tr>\n",
       "    <tr>\n",
       "      <th>24482</th>\n",
       "      <td>KEMRI_01_89581</td>\n",
       "      <td>53.0</td>\n",
       "      <td>F</td>\n",
       "      <td>NaN</td>\n",
       "      <td>Kenya</td>\n",
       "      <td>Kajiado</td>\n",
       "      <td>Ngong</td>\n",
       "      <td>No</td>\n",
       "      <td>NaN</td>\n",
       "      <td>NaN</td>\n",
       "      <td>NaN</td>\n",
       "      <td>2021-12-01</td>\n",
       "      <td>2021-07-30</td>\n",
       "      <td>Positive</td>\n",
       "      <td>2021-12-01</td>\n",
       "    </tr>\n",
       "    <tr>\n",
       "      <th>...</th>\n",
       "      <td>...</td>\n",
       "      <td>...</td>\n",
       "      <td>...</td>\n",
       "      <td>...</td>\n",
       "      <td>...</td>\n",
       "      <td>...</td>\n",
       "      <td>...</td>\n",
       "      <td>...</td>\n",
       "      <td>...</td>\n",
       "      <td>...</td>\n",
       "      <td>...</td>\n",
       "      <td>...</td>\n",
       "      <td>...</td>\n",
       "      <td>...</td>\n",
       "      <td>...</td>\n",
       "    </tr>\n",
       "    <tr>\n",
       "      <th>24557</th>\n",
       "      <td>KEMRI_02_93645</td>\n",
       "      <td>37.0</td>\n",
       "      <td>F</td>\n",
       "      <td>NaN</td>\n",
       "      <td>Kenya</td>\n",
       "      <td>Kiambu</td>\n",
       "      <td>Githunguri</td>\n",
       "      <td>No</td>\n",
       "      <td>NaN</td>\n",
       "      <td>NaN</td>\n",
       "      <td>Fever, Cough, Sore throat, Runny nose, Chest p...</td>\n",
       "      <td>2021-02-25</td>\n",
       "      <td>2021-07-30</td>\n",
       "      <td>Positive</td>\n",
       "      <td>2021-02-03</td>\n",
       "    </tr>\n",
       "    <tr>\n",
       "      <th>24558</th>\n",
       "      <td>KEMRI_02_93781</td>\n",
       "      <td>46.0</td>\n",
       "      <td>M</td>\n",
       "      <td>NaN</td>\n",
       "      <td>Kenya</td>\n",
       "      <td>Nairobi</td>\n",
       "      <td>Roysambu</td>\n",
       "      <td>No</td>\n",
       "      <td>NaN</td>\n",
       "      <td>NaN</td>\n",
       "      <td>Cough, Difficulty in breathing</td>\n",
       "      <td>2021-02-26</td>\n",
       "      <td>2021-07-30</td>\n",
       "      <td>Positive</td>\n",
       "      <td>2021-02-03</td>\n",
       "    </tr>\n",
       "    <tr>\n",
       "      <th>24559</th>\n",
       "      <td>KEMRI_02_93791</td>\n",
       "      <td>34.0</td>\n",
       "      <td>F</td>\n",
       "      <td>NaN</td>\n",
       "      <td>Kenya</td>\n",
       "      <td>Nairobi</td>\n",
       "      <td>Ruaraka</td>\n",
       "      <td>No</td>\n",
       "      <td>NaN</td>\n",
       "      <td>NaN</td>\n",
       "      <td>Cough, Sore throat, Confusion, Shortness of br...</td>\n",
       "      <td>2021-01-03</td>\n",
       "      <td>2021-07-30</td>\n",
       "      <td>Positive</td>\n",
       "      <td>2021-02-03</td>\n",
       "    </tr>\n",
       "    <tr>\n",
       "      <th>24560</th>\n",
       "      <td>KEMRI_02_93792</td>\n",
       "      <td>45.0</td>\n",
       "      <td>M</td>\n",
       "      <td>NaN</td>\n",
       "      <td>Kenya</td>\n",
       "      <td>Nairobi</td>\n",
       "      <td>Dagoretti south</td>\n",
       "      <td>No</td>\n",
       "      <td>NaN</td>\n",
       "      <td>NaN</td>\n",
       "      <td>NaN</td>\n",
       "      <td>2021-01-03</td>\n",
       "      <td>2021-07-30</td>\n",
       "      <td>Positive</td>\n",
       "      <td>2021-02-03</td>\n",
       "    </tr>\n",
       "    <tr>\n",
       "      <th>24561</th>\n",
       "      <td>KEMRI_02_93806</td>\n",
       "      <td>31.0</td>\n",
       "      <td>F</td>\n",
       "      <td>NaN</td>\n",
       "      <td>Kenya</td>\n",
       "      <td>Kiambu</td>\n",
       "      <td>Kiambaa</td>\n",
       "      <td>No</td>\n",
       "      <td>NaN</td>\n",
       "      <td>NaN</td>\n",
       "      <td>General weakness, Cough, Diarrhoea</td>\n",
       "      <td>2021-01-03</td>\n",
       "      <td>2021-07-30</td>\n",
       "      <td>Positive</td>\n",
       "      <td>2021-02-03</td>\n",
       "    </tr>\n",
       "  </tbody>\n",
       "</table>\n",
       "<p>84 rows × 15 columns</p>\n",
       "</div>"
      ],
      "text/plain": [
       "                S_NUM  AGE_YRS GEND OCCU    NAT  COUNT_RES      S_COUNT_RES  \\\n",
       "24478  KEMRI_01_89431     44.0    M  NaN  Kenya  Kirinyaga             Mwea   \n",
       "24479  KEMRI_01_89447     28.0    F  NaN  Kenya  Kirinyaga   Kirinyaga east   \n",
       "24480  KEMRI_01_89476     41.0    M  NaN  Kenya    Nairobi         Kasarani   \n",
       "24481  KEMRI_01_89487     57.0    M  NaN  Kenya     Kiambu       Githunguri   \n",
       "24482  KEMRI_01_89581     53.0    F  NaN  Kenya    Kajiado            Ngong   \n",
       "...               ...      ...  ...  ...    ...        ...              ...   \n",
       "24557  KEMRI_02_93645     37.0    F  NaN  Kenya     Kiambu       Githunguri   \n",
       "24558  KEMRI_02_93781     46.0    M  NaN  Kenya    Nairobi         Roysambu   \n",
       "24559  KEMRI_02_93791     34.0    F  NaN  Kenya    Nairobi          Ruaraka   \n",
       "24560  KEMRI_02_93792     45.0    M  NaN  Kenya    Nairobi  Dagoretti south   \n",
       "24561  KEMRI_02_93806     31.0    F  NaN  Kenya     Kiambu          Kiambaa   \n",
       "\n",
       "      TRAV_HIST TRAV_FROM QUAR_PLACE  \\\n",
       "24478        No       NaN        NaN   \n",
       "24479        No       NaN        NaN   \n",
       "24480        No       NaN        NaN   \n",
       "24481        No       NaN        NaN   \n",
       "24482        No       NaN        NaN   \n",
       "...         ...       ...        ...   \n",
       "24557        No       NaN        NaN   \n",
       "24558        No       NaN        NaN   \n",
       "24559        No       NaN        NaN   \n",
       "24560        No       NaN        NaN   \n",
       "24561        No       NaN        NaN   \n",
       "\n",
       "                                                   SYMPS DT_SAM_COLL  \\\n",
       "24478                                                NaN  2021-01-07   \n",
       "24479                                                NaN  2020-12-24   \n",
       "24480                   sore throat,cough,headache,fever  2021-01-08   \n",
       "24481                                                NaN  2021-01-07   \n",
       "24482                                                NaN  2021-12-01   \n",
       "...                                                  ...         ...   \n",
       "24557  Fever, Cough, Sore throat, Runny nose, Chest p...  2021-02-25   \n",
       "24558                    Cough, Difficulty in breathing   2021-02-26   \n",
       "24559  Cough, Sore throat, Confusion, Shortness of br...  2021-01-03   \n",
       "24560                                                NaN  2021-01-03   \n",
       "24561                 General weakness, Cough, Diarrhoea  2021-01-03   \n",
       "\n",
       "      DT_SAM_RECEP    RESULT    DT_CONF  \n",
       "24478   2021-07-30  Positive 2021-01-11  \n",
       "24479   2021-07-30  Positive 2021-01-11  \n",
       "24480   2021-07-30  Positive 2021-01-11  \n",
       "24481   2021-07-30  Positive 2021-01-11  \n",
       "24482   2021-07-30  Positive 2021-12-01  \n",
       "...            ...       ...        ...  \n",
       "24557   2021-07-30  Positive 2021-02-03  \n",
       "24558   2021-07-30  Positive 2021-02-03  \n",
       "24559   2021-07-30  Positive 2021-02-03  \n",
       "24560   2021-07-30  Positive 2021-02-03  \n",
       "24561   2021-07-30  Positive 2021-02-03  \n",
       "\n",
       "[84 rows x 15 columns]"
      ]
     },
     "execution_count": 377,
     "metadata": {},
     "output_type": "execute_result"
    }
   ],
   "source": [
    "df_metadata[df_metadata['S_NUM'].str.contains('_')]"
   ]
  },
  {
   "cell_type": "code",
   "execution_count": 378,
   "metadata": {},
   "outputs": [],
   "source": [
    "df_sub = df_seq_summ[df_seq_summ['sequence_name'].isin(list(df_metadata['S_NUM'])) == True]"
   ]
  },
  {
   "cell_type": "code",
   "execution_count": 379,
   "metadata": {},
   "outputs": [
    {
     "data": {
      "text/plain": [
       "1067"
      ]
     },
     "execution_count": 379,
     "metadata": {},
     "output_type": "execute_result"
    }
   ],
   "source": [
    "len(list(df_sub['sequence_name']))"
   ]
  },
  {
   "cell_type": "code",
   "execution_count": 380,
   "metadata": {},
   "outputs": [],
   "source": [
    "usecols=['S_NUM', 'AGE_YRS', 'COUNT_RES', 'DT_CONF']"
   ]
  },
  {
   "cell_type": "code",
   "execution_count": 381,
   "metadata": {},
   "outputs": [],
   "source": [
    "df_seq_meta = covv_seq_tech.merge(df_metadata[usecols], how='inner', left_on='sequence_name', right_on='S_NUM').drop('S_NUM', axis=1)"
   ]
  },
  {
   "cell_type": "code",
   "execution_count": 382,
   "metadata": {},
   "outputs": [
    {
     "data": {
      "text/html": [
       "<div>\n",
       "<style scoped>\n",
       "    .dataframe tbody tr th:only-of-type {\n",
       "        vertical-align: middle;\n",
       "    }\n",
       "\n",
       "    .dataframe tbody tr th {\n",
       "        vertical-align: top;\n",
       "    }\n",
       "\n",
       "    .dataframe thead th {\n",
       "        text-align: right;\n",
       "    }\n",
       "</style>\n",
       "<table border=\"1\" class=\"dataframe\">\n",
       "  <thead>\n",
       "    <tr style=\"text-align: right;\">\n",
       "      <th></th>\n",
       "      <th>sequence_name</th>\n",
       "      <th>clade</th>\n",
       "      <th>lineage</th>\n",
       "      <th>genome_coverage</th>\n",
       "      <th>run_num</th>\n",
       "      <th>seq_dt</th>\n",
       "      <th>covv_seq_tech</th>\n",
       "      <th>AGE_YRS</th>\n",
       "      <th>COUNT_RES</th>\n",
       "      <th>DT_CONF</th>\n",
       "    </tr>\n",
       "  </thead>\n",
       "  <tbody>\n",
       "    <tr>\n",
       "      <th>0</th>\n",
       "      <td>COVC11310</td>\n",
       "      <td>20C</td>\n",
       "      <td>B.1</td>\n",
       "      <td>59.3</td>\n",
       "      <td>Run1</td>\n",
       "      <td>09-02-2021</td>\n",
       "      <td>MiSeq</td>\n",
       "      <td>30.0</td>\n",
       "      <td>Garissa</td>\n",
       "      <td>2020-10-03</td>\n",
       "    </tr>\n",
       "    <tr>\n",
       "      <th>1</th>\n",
       "      <td>COVC11310</td>\n",
       "      <td>20C</td>\n",
       "      <td>B.1</td>\n",
       "      <td>97.0</td>\n",
       "      <td>Run8</td>\n",
       "      <td>25-05-2021</td>\n",
       "      <td>MiSeq</td>\n",
       "      <td>30.0</td>\n",
       "      <td>Garissa</td>\n",
       "      <td>2020-10-03</td>\n",
       "    </tr>\n",
       "    <tr>\n",
       "      <th>2</th>\n",
       "      <td>COVC00854</td>\n",
       "      <td>20C</td>\n",
       "      <td>B.1</td>\n",
       "      <td>94.9</td>\n",
       "      <td>Run7</td>\n",
       "      <td>18-05-2021</td>\n",
       "      <td>MiSeq</td>\n",
       "      <td>23.0</td>\n",
       "      <td>Nairobi</td>\n",
       "      <td>2020-06-13</td>\n",
       "    </tr>\n",
       "    <tr>\n",
       "      <th>3</th>\n",
       "      <td>COVC00867</td>\n",
       "      <td>20C</td>\n",
       "      <td>B.1.446</td>\n",
       "      <td>68.2</td>\n",
       "      <td>Run7</td>\n",
       "      <td>18-05-2021</td>\n",
       "      <td>MiSeq</td>\n",
       "      <td>32.0</td>\n",
       "      <td>Nairobi</td>\n",
       "      <td>2020-06-13</td>\n",
       "    </tr>\n",
       "    <tr>\n",
       "      <th>4</th>\n",
       "      <td>COVC00893</td>\n",
       "      <td>20C</td>\n",
       "      <td>B.1.446</td>\n",
       "      <td>84.1</td>\n",
       "      <td>Run7</td>\n",
       "      <td>18-05-2021</td>\n",
       "      <td>MiSeq</td>\n",
       "      <td>31.0</td>\n",
       "      <td>Nairobi</td>\n",
       "      <td>2020-06-13</td>\n",
       "    </tr>\n",
       "  </tbody>\n",
       "</table>\n",
       "</div>"
      ],
      "text/plain": [
       "  sequence_name clade  lineage  genome_coverage run_num      seq_dt  \\\n",
       "0     COVC11310   20C      B.1             59.3    Run1  09-02-2021   \n",
       "1     COVC11310   20C      B.1             97.0    Run8  25-05-2021   \n",
       "2     COVC00854   20C      B.1             94.9    Run7  18-05-2021   \n",
       "3     COVC00867   20C  B.1.446             68.2    Run7  18-05-2021   \n",
       "4     COVC00893   20C  B.1.446             84.1    Run7  18-05-2021   \n",
       "\n",
       "  covv_seq_tech  AGE_YRS COUNT_RES    DT_CONF  \n",
       "0         MiSeq     30.0   Garissa 2020-10-03  \n",
       "1         MiSeq     30.0   Garissa 2020-10-03  \n",
       "2         MiSeq     23.0   Nairobi 2020-06-13  \n",
       "3         MiSeq     32.0   Nairobi 2020-06-13  \n",
       "4         MiSeq     31.0   Nairobi 2020-06-13  "
      ]
     },
     "execution_count": 382,
     "metadata": {},
     "output_type": "execute_result"
    }
   ],
   "source": [
    "df_seq_meta.head()"
   ]
  },
  {
   "cell_type": "code",
   "execution_count": 383,
   "metadata": {},
   "outputs": [],
   "source": [
    "df_seq_meta.columns = ['sequence_name', 'clade', 'lineage', 'genome_coverage', 'run_num',\n",
    "       'seq_dt', 'seq_tech', 'age_yrs', 'county_res', 'dt_conf']"
   ]
  },
  {
   "cell_type": "code",
   "execution_count": 384,
   "metadata": {},
   "outputs": [
    {
     "data": {
      "text/html": [
       "<div>\n",
       "<style scoped>\n",
       "    .dataframe tbody tr th:only-of-type {\n",
       "        vertical-align: middle;\n",
       "    }\n",
       "\n",
       "    .dataframe tbody tr th {\n",
       "        vertical-align: top;\n",
       "    }\n",
       "\n",
       "    .dataframe thead th {\n",
       "        text-align: right;\n",
       "    }\n",
       "</style>\n",
       "<table border=\"1\" class=\"dataframe\">\n",
       "  <thead>\n",
       "    <tr style=\"text-align: right;\">\n",
       "      <th></th>\n",
       "      <th>sequence_name</th>\n",
       "      <th>clade</th>\n",
       "      <th>lineage</th>\n",
       "      <th>genome_coverage</th>\n",
       "      <th>run_num</th>\n",
       "      <th>seq_dt</th>\n",
       "      <th>seq_tech</th>\n",
       "      <th>age_yrs</th>\n",
       "      <th>county_res</th>\n",
       "      <th>dt_conf</th>\n",
       "    </tr>\n",
       "  </thead>\n",
       "  <tbody>\n",
       "    <tr>\n",
       "      <th>0</th>\n",
       "      <td>COVC11310</td>\n",
       "      <td>20C</td>\n",
       "      <td>B.1</td>\n",
       "      <td>59.3</td>\n",
       "      <td>Run1</td>\n",
       "      <td>09-02-2021</td>\n",
       "      <td>MiSeq</td>\n",
       "      <td>30.0</td>\n",
       "      <td>Garissa</td>\n",
       "      <td>2020-10-03</td>\n",
       "    </tr>\n",
       "    <tr>\n",
       "      <th>1</th>\n",
       "      <td>COVC11310</td>\n",
       "      <td>20C</td>\n",
       "      <td>B.1</td>\n",
       "      <td>97.0</td>\n",
       "      <td>Run8</td>\n",
       "      <td>25-05-2021</td>\n",
       "      <td>MiSeq</td>\n",
       "      <td>30.0</td>\n",
       "      <td>Garissa</td>\n",
       "      <td>2020-10-03</td>\n",
       "    </tr>\n",
       "    <tr>\n",
       "      <th>2</th>\n",
       "      <td>COVC00854</td>\n",
       "      <td>20C</td>\n",
       "      <td>B.1</td>\n",
       "      <td>94.9</td>\n",
       "      <td>Run7</td>\n",
       "      <td>18-05-2021</td>\n",
       "      <td>MiSeq</td>\n",
       "      <td>23.0</td>\n",
       "      <td>Nairobi</td>\n",
       "      <td>2020-06-13</td>\n",
       "    </tr>\n",
       "    <tr>\n",
       "      <th>3</th>\n",
       "      <td>COVC00867</td>\n",
       "      <td>20C</td>\n",
       "      <td>B.1.446</td>\n",
       "      <td>68.2</td>\n",
       "      <td>Run7</td>\n",
       "      <td>18-05-2021</td>\n",
       "      <td>MiSeq</td>\n",
       "      <td>32.0</td>\n",
       "      <td>Nairobi</td>\n",
       "      <td>2020-06-13</td>\n",
       "    </tr>\n",
       "    <tr>\n",
       "      <th>4</th>\n",
       "      <td>COVC00893</td>\n",
       "      <td>20C</td>\n",
       "      <td>B.1.446</td>\n",
       "      <td>84.1</td>\n",
       "      <td>Run7</td>\n",
       "      <td>18-05-2021</td>\n",
       "      <td>MiSeq</td>\n",
       "      <td>31.0</td>\n",
       "      <td>Nairobi</td>\n",
       "      <td>2020-06-13</td>\n",
       "    </tr>\n",
       "  </tbody>\n",
       "</table>\n",
       "</div>"
      ],
      "text/plain": [
       "  sequence_name clade  lineage  genome_coverage run_num      seq_dt seq_tech  \\\n",
       "0     COVC11310   20C      B.1             59.3    Run1  09-02-2021    MiSeq   \n",
       "1     COVC11310   20C      B.1             97.0    Run8  25-05-2021    MiSeq   \n",
       "2     COVC00854   20C      B.1             94.9    Run7  18-05-2021    MiSeq   \n",
       "3     COVC00867   20C  B.1.446             68.2    Run7  18-05-2021    MiSeq   \n",
       "4     COVC00893   20C  B.1.446             84.1    Run7  18-05-2021    MiSeq   \n",
       "\n",
       "   age_yrs county_res    dt_conf  \n",
       "0     30.0    Garissa 2020-10-03  \n",
       "1     30.0    Garissa 2020-10-03  \n",
       "2     23.0    Nairobi 2020-06-13  \n",
       "3     32.0    Nairobi 2020-06-13  \n",
       "4     31.0    Nairobi 2020-06-13  "
      ]
     },
     "execution_count": 384,
     "metadata": {},
     "output_type": "execute_result"
    }
   ],
   "source": [
    "df_seq_meta.head()"
   ]
  },
  {
   "cell_type": "code",
   "execution_count": 385,
   "metadata": {},
   "outputs": [
    {
     "name": "stdout",
     "output_type": "stream",
     "text": [
      "<class 'pandas.core.frame.DataFrame'>\n",
      "Int64Index: 1067 entries, 0 to 1066\n",
      "Data columns (total 10 columns):\n",
      " #   Column           Non-Null Count  Dtype         \n",
      "---  ------           --------------  -----         \n",
      " 0   sequence_name    1067 non-null   object        \n",
      " 1   clade            1037 non-null   object        \n",
      " 2   lineage          1067 non-null   object        \n",
      " 3   genome_coverage  1067 non-null   float64       \n",
      " 4   run_num          1067 non-null   object        \n",
      " 5   seq_dt           1067 non-null   object        \n",
      " 6   seq_tech         1067 non-null   object        \n",
      " 7   age_yrs          985 non-null    float64       \n",
      " 8   county_res       1039 non-null   object        \n",
      " 9   dt_conf          1067 non-null   datetime64[ns]\n",
      "dtypes: datetime64[ns](1), float64(2), object(7)\n",
      "memory usage: 91.7+ KB\n"
     ]
    }
   ],
   "source": [
    "df_seq_meta.info()"
   ]
  },
  {
   "cell_type": "code",
   "execution_count": 386,
   "metadata": {},
   "outputs": [],
   "source": [
    "df_gby_lin = df_seq_meta.groupby('lineage').count()#, as_index=False"
   ]
  },
  {
   "cell_type": "code",
   "execution_count": 470,
   "metadata": {},
   "outputs": [],
   "source": [
    "clr_code = {'A':('midnightblue','#191970'),\n",
    "'A.23':('lime','#00FF00'),\n",
    "'A.23.1':('gray','#808080'),\n",
    "'A.25':('orangered','#FF4500'),\n",
    "'AY.4':('mediumvioletred','#C71585'),\n",
    "'AY.12':('saddlebrown','#8B4513'),\n",
    "'B.1':('cyan','#00FFFF'),\n",
    "'B.1.1':('chocolate','#D2691E'),\n",
    "'B.1.1.1':('wheat','#F5DEB3'),\n",
    "'B.1.1.171':('teal','#008080'),\n",
    "'B.1.1.406':('slategray','#708090'),\n",
    "'B.1.1.7':('orange','#FFA500'),\n",
    "'B.1.103':('seagreen','#2E8B57'),\n",
    "'B.1.143':('olive','#808000'),\n",
    "'B.1.153':('taffy','#F96DDA'),\n",
    "'B.1.160':('honeydew','#FFD700'),\n",
    "'B.1.214':('gold','#8FBC8F'),\n",
    "'B.1.276':('aquamarine','#006400'),\n",
    "'B.1.302':('yellowgreen','#9ACD32'),\n",
    "'B.1.1.318':('slategray','#708090'),\n",
    "'B.1.336':('tan','#D2B48C'),\n",
    "'B.1.343':('indigo','#4B0082'),\n",
    "'B.1.349':('mediumpurple','#9370DB'),\n",
    "'B.1.351':('blue','#0000FF'),\n",
    "'B.1.378':('darkslateblue','#483D8B'),\n",
    "'B.1.388':('sienna','#A0522D'),\n",
    "'B.1.390':('darkkhaki','#BDB76B'),\n",
    "'B.1.393':('sapphire','#0F52BA'),\n",
    "'B.1.405':('royal','#7852A9'),\n",
    "'B.1.429':('khaki','#F0E68C'),\n",
    "'B.1.433':('dodgerblue','#1E90FF'),\n",
    "'B.1.446':('palevioletred','#DB7093'),\n",
    "'B.1.517':('yellow','#FFFF00'),\n",
    "'B.1.520':('cornflowerblue','#6495ED'),\n",
    "'B.1.524':('pink','#FFC0CB'),\n",
    "'B.1.525':('green','#008000'),\n",
    "'B.1.527':('maya','#73C2FB'),\n",
    "'B.1.530':('red','#AFEEEE'),\n",
    "'B.1.535':('purple','#800080'),\n",
    "'B.1.540':('slategray','#AF69EE'),\n",
    "'B.1.549':('brown','#A52A2A'),\n",
    "'B.1.551':('chocolate','#D2691E'),\n",
    "'B.1.577':('silver','#C0C0C0'),\n",
    "'B.1.596':('steelblue','#4682B4'),\n",
    "'B.1.596.1':('magenta','#FF00FF'),\n",
    "'B.1.605':('rosybrown','#BC8F8F'),\n",
    "'B.1.612':('goldenrod','#DAA520'),\n",
    "'B.1.617.2':('paleturquoise','#FF0000'),\n",
    "'TBA10':('lavender','#E6E6FA'),\n",
    "'TBA14':('seashell','#FFFAF0'),\n",
    "'TBA18':('black','#000000'),\n",
    "'TBA2':('cornflowerblue','#FFF5EE'),\n",
    "'TBA6':('darkgreen','#7FFFD4'),\n",
    "'TBA8':('darkseagreen','#F0FFF0'),\n",
    "'c': ('cyan', 'c'),\n",
    "'m': ('magenta', 'm'),\n",
    "'k': ('black', 'k')}\n",
    "avail_clr = ['TBA2', 'TBA6', 'TBA8', 'TBA10', 'TBA14', 'c', 'm', 'k']"
   ]
  },
  {
   "cell_type": "code",
   "execution_count": 388,
   "metadata": {
    "tags": []
   },
   "outputs": [],
   "source": [
    "clr_code_keys = list(clr_code.keys())"
   ]
  },
  {
   "cell_type": "code",
   "execution_count": 389,
   "metadata": {},
   "outputs": [],
   "source": [
    "lins = df_gby_lin.sequence_name.sort_values(ascending=False)#.index\n",
    "# lins"
   ]
  },
  {
   "cell_type": "code",
   "execution_count": 390,
   "metadata": {},
   "outputs": [],
   "source": [
    "lin_to_be_assinged =  set(lins.index) - set(clr_code_keys)\n",
    "# lin_to_be_assinged"
   ]
  },
  {
   "cell_type": "code",
   "execution_count": 391,
   "metadata": {},
   "outputs": [],
   "source": [
    "import pprint\n",
    "for lin, clr in zip(lin_to_be_assinged, avail_clr):\n",
    "#     print(lin, clr)\n",
    "    clr_code[lin] = clr_code.pop(clr)\n",
    "    avail_clr.remove(clr)"
   ]
  },
  {
   "cell_type": "code",
   "execution_count": 392,
   "metadata": {},
   "outputs": [
    {
     "name": "stdout",
     "output_type": "stream",
     "text": [
      "['TBA4', 'TBA8', 'TBA12', 'TBA16', 'TBA20', 'TBA22', 'c', 'k']\n"
     ]
    }
   ],
   "source": [
    "# pprint.pprint(clr_code)\n",
    "pprint.pprint(avail_clr)"
   ]
  },
  {
   "cell_type": "code",
   "execution_count": 393,
   "metadata": {},
   "outputs": [],
   "source": [
    "def replace_with_who_lin(x):\n",
    "    if x == 'B.1.1.7':\n",
    "        return x.replace(x, 'B.1.1.7(Alpha)')\n",
    "    if x == 'B.1.617.2':\n",
    "        return x.replace(x, 'B.1.617.2(Delta)')\n",
    "    if x == 'B.1.351':\n",
    "        return x.replace(x, 'B.1.351(Beta)')\n",
    "    if x == 'B.1.525':\n",
    "        return x.replace(x, 'B.1.525(Eta)')\n",
    "    return x\n",
    "    "
   ]
  },
  {
   "cell_type": "code",
   "execution_count": 394,
   "metadata": {
    "tags": []
   },
   "outputs": [],
   "source": [
    "ylabels = list(map(replace_with_who_lin,list(lins.index)))"
   ]
  },
  {
   "cell_type": "code",
   "execution_count": 395,
   "metadata": {},
   "outputs": [],
   "source": [
    "lins.index=ylabels"
   ]
  },
  {
   "cell_type": "code",
   "execution_count": 396,
   "metadata": {},
   "outputs": [
    {
     "data": {
      "text/plain": [
       "1067"
      ]
     },
     "execution_count": 396,
     "metadata": {},
     "output_type": "execute_result"
    }
   ],
   "source": [
    "lins.values.sum()"
   ]
  },
  {
   "cell_type": "code",
   "execution_count": 397,
   "metadata": {},
   "outputs": [
    {
     "data": {
      "text/plain": [
       "298"
      ]
     },
     "execution_count": 397,
     "metadata": {},
     "output_type": "execute_result"
    }
   ],
   "source": [
    "max_count = lins.max()\n",
    "max_count"
   ]
  },
  {
   "cell_type": "code",
   "execution_count": 398,
   "metadata": {},
   "outputs": [
    {
     "data": {
      "image/png": "[encoded data removed]",
      "text/plain": [
       "<Figure size 720x360 with 1 Axes>"
      ]
     },
     "metadata": {},
     "output_type": "display_data"
    }
   ],
   "source": [
    "import math\n",
    "width = lins.sort_values(ascending=True)\n",
    "\n",
    "# colors = [clr_code[lin.split('(')[0]][1] for lin in width.index]\n",
    "colors = [clr_code[lin][1] for lin in clr_code.keys()]\n",
    "n = len(lins) - 2\n",
    "m = sum(lins)\n",
    "xticks = np.arange(0, (math.ceil(max_count / 5) + 1) * 5, 10)\n",
    "fig, ax =plt.subplots(1, 1, figsize=(10,5))\n",
    "ax.set_facecolor(\"#E5E4E2\")##E5E4E2\n",
    "\n",
    "plt.barh(width.index, width, height=0.7, log=False, color=colors)#, logy=True\n",
    "plt.xticks(xticks, xticks, rotation=90)\n",
    "plt.yticks(width.index, fontsize=7)\n",
    "plt.grid(which='major', axis='x', ls='--', color='w')\n",
    "plt.ylabel(f'Lineages ({n})')\n",
    "plt.xlabel(f'Counts (N={m})')\n",
    "plt.title('Lineage Frequencies', fontdict)\n",
    "plt.tight_layout()\n",
    "# fig.savefig(f'/home/douso/SarsGenomics/Processed/report-lineages_{dt}600.png', dpi=600.0)\n",
    "plt.show()"
   ]
  },
  {
   "cell_type": "code",
   "execution_count": 50,
   "metadata": {},
   "outputs": [
    {
     "data": {
      "text/plain": [
       "24462"
      ]
     },
     "execution_count": 50,
     "metadata": {},
     "output_type": "execute_result"
    }
   ],
   "source": [
    "df_metadata.shape[0]-153"
   ]
  },
  {
   "cell_type": "code",
   "execution_count": 402,
   "metadata": {},
   "outputs": [],
   "source": [
    "df_1 = df_metadata[df_metadata['S_NUM'].str.contains('COV') == False]#.shape#.\\\n",
    "# to_excel('/home/douso/Downloads/fjjsfbfdbfb.xlsx')"
   ]
  },
  {
   "cell_type": "code",
   "execution_count": 52,
   "metadata": {},
   "outputs": [],
   "source": [
    "df_2 = df_metadata[df_metadata['S_NUM'].str.contains('COVC') == False]#.shape#.\\\n",
    "# to_excel('/home/douso/Downloads/fjjsfbfdbfb.xlsx')"
   ]
  },
  {
   "cell_type": "code",
   "execution_count": 53,
   "metadata": {},
   "outputs": [
    {
     "data": {
      "text/plain": [
       "{'COVE20',\n",
       " 'COVE21',\n",
       " 'MOH-COV-1',\n",
       " 'MOH-COV-2',\n",
       " 'MOH-COV-3',\n",
       " 'MOH-COV-4',\n",
       " 'MOH-COV-5',\n",
       " 'MOH-COV-6'}"
      ]
     },
     "execution_count": 53,
     "metadata": {},
     "output_type": "execute_result"
    }
   ],
   "source": [
    "set(df_2['S_NUM']) - set(df_1['S_NUM'])"
   ]
  },
  {
   "cell_type": "code",
   "execution_count": 403,
   "metadata": {},
   "outputs": [],
   "source": [
    "df_covs = df_metadata[df_metadata['S_NUM'].str.contains('COVC') == True]#.shape"
   ]
  },
  {
   "cell_type": "code",
   "execution_count": 404,
   "metadata": {},
   "outputs": [
    {
     "data": {
      "text/html": [
       "<div>\n",
       "<style scoped>\n",
       "    .dataframe tbody tr th:only-of-type {\n",
       "        vertical-align: middle;\n",
       "    }\n",
       "\n",
       "    .dataframe tbody tr th {\n",
       "        vertical-align: top;\n",
       "    }\n",
       "\n",
       "    .dataframe thead th {\n",
       "        text-align: right;\n",
       "    }\n",
       "</style>\n",
       "<table border=\"1\" class=\"dataframe\">\n",
       "  <thead>\n",
       "    <tr style=\"text-align: right;\">\n",
       "      <th></th>\n",
       "      <th>S_NUM</th>\n",
       "      <th>AGE_YRS</th>\n",
       "      <th>GEND</th>\n",
       "      <th>OCCU</th>\n",
       "      <th>NAT</th>\n",
       "      <th>COUNT_RES</th>\n",
       "      <th>S_COUNT_RES</th>\n",
       "      <th>TRAV_HIST</th>\n",
       "      <th>TRAV_FROM</th>\n",
       "      <th>QUAR_PLACE</th>\n",
       "      <th>SYMPS</th>\n",
       "      <th>DT_SAM_COLL</th>\n",
       "      <th>DT_SAM_RECEP</th>\n",
       "      <th>RESULT</th>\n",
       "      <th>DT_CONF</th>\n",
       "    </tr>\n",
       "  </thead>\n",
       "  <tbody>\n",
       "    <tr>\n",
       "      <th>0</th>\n",
       "      <td>COVC00001</td>\n",
       "      <td>35.0</td>\n",
       "      <td>F</td>\n",
       "      <td>Refugee</td>\n",
       "      <td>NaN</td>\n",
       "      <td>Garissa</td>\n",
       "      <td>Dadaab</td>\n",
       "      <td>No</td>\n",
       "      <td>NaN</td>\n",
       "      <td>NaN</td>\n",
       "      <td>NaN</td>\n",
       "      <td>NaT</td>\n",
       "      <td>NaT</td>\n",
       "      <td>Negative</td>\n",
       "      <td>2020-06-02</td>\n",
       "    </tr>\n",
       "    <tr>\n",
       "      <th>1</th>\n",
       "      <td>COVC00002</td>\n",
       "      <td>29.0</td>\n",
       "      <td>M</td>\n",
       "      <td>Refugee</td>\n",
       "      <td>NaN</td>\n",
       "      <td>Garissa</td>\n",
       "      <td>Dadaab</td>\n",
       "      <td>No</td>\n",
       "      <td>NaN</td>\n",
       "      <td>NaN</td>\n",
       "      <td>NaN</td>\n",
       "      <td>NaT</td>\n",
       "      <td>NaT</td>\n",
       "      <td>Negative</td>\n",
       "      <td>2020-06-02</td>\n",
       "    </tr>\n",
       "    <tr>\n",
       "      <th>2</th>\n",
       "      <td>COVC00003</td>\n",
       "      <td>50.0</td>\n",
       "      <td>M</td>\n",
       "      <td>Refugee</td>\n",
       "      <td>NaN</td>\n",
       "      <td>Garissa</td>\n",
       "      <td>Dadaab</td>\n",
       "      <td>No</td>\n",
       "      <td>NaN</td>\n",
       "      <td>NaN</td>\n",
       "      <td>NaN</td>\n",
       "      <td>NaT</td>\n",
       "      <td>NaT</td>\n",
       "      <td>Negative</td>\n",
       "      <td>2020-06-02</td>\n",
       "    </tr>\n",
       "    <tr>\n",
       "      <th>3</th>\n",
       "      <td>COVC00004</td>\n",
       "      <td>35.0</td>\n",
       "      <td>F</td>\n",
       "      <td>Casual</td>\n",
       "      <td>NaN</td>\n",
       "      <td>Garissa</td>\n",
       "      <td>Dadaab</td>\n",
       "      <td>No</td>\n",
       "      <td>NaN</td>\n",
       "      <td>NaN</td>\n",
       "      <td>NaN</td>\n",
       "      <td>NaT</td>\n",
       "      <td>NaT</td>\n",
       "      <td>Negative</td>\n",
       "      <td>2020-06-02</td>\n",
       "    </tr>\n",
       "    <tr>\n",
       "      <th>4</th>\n",
       "      <td>COVC00005</td>\n",
       "      <td>27.0</td>\n",
       "      <td>F</td>\n",
       "      <td>Refugee</td>\n",
       "      <td>NaN</td>\n",
       "      <td>Garissa</td>\n",
       "      <td>Dadaab</td>\n",
       "      <td>No</td>\n",
       "      <td>NaN</td>\n",
       "      <td>NaN</td>\n",
       "      <td>NaN</td>\n",
       "      <td>NaT</td>\n",
       "      <td>NaT</td>\n",
       "      <td>Negative</td>\n",
       "      <td>2020-06-02</td>\n",
       "    </tr>\n",
       "  </tbody>\n",
       "</table>\n",
       "</div>"
      ],
      "text/plain": [
       "       S_NUM  AGE_YRS GEND     OCCU  NAT COUNT_RES S_COUNT_RES TRAV_HIST  \\\n",
       "0  COVC00001     35.0    F  Refugee  NaN   Garissa      Dadaab        No   \n",
       "1  COVC00002     29.0    M  Refugee  NaN   Garissa      Dadaab        No   \n",
       "2  COVC00003     50.0    M  Refugee  NaN   Garissa      Dadaab        No   \n",
       "3  COVC00004     35.0    F   Casual  NaN   Garissa      Dadaab        No   \n",
       "4  COVC00005     27.0    F  Refugee  NaN   Garissa      Dadaab        No   \n",
       "\n",
       "  TRAV_FROM QUAR_PLACE SYMPS DT_SAM_COLL DT_SAM_RECEP    RESULT    DT_CONF  \n",
       "0       NaN        NaN   NaN         NaT          NaT  Negative 2020-06-02  \n",
       "1       NaN        NaN   NaN         NaT          NaT  Negative 2020-06-02  \n",
       "2       NaN        NaN   NaN         NaT          NaT  Negative 2020-06-02  \n",
       "3       NaN        NaN   NaN         NaT          NaT  Negative 2020-06-02  \n",
       "4       NaN        NaN   NaN         NaT          NaT  Negative 2020-06-02  "
      ]
     },
     "execution_count": 404,
     "metadata": {},
     "output_type": "execute_result"
    }
   ],
   "source": [
    "df_covs.head()#shape"
   ]
  },
  {
   "cell_type": "code",
   "execution_count": 406,
   "metadata": {},
   "outputs": [
    {
     "data": {
      "text/plain": [
       "Negative    20786\n",
       "Positive     3503\n",
       "ms              7\n",
       "Name: RESULT, dtype: int64"
      ]
     },
     "execution_count": 406,
     "metadata": {},
     "output_type": "execute_result"
    }
   ],
   "source": [
    "df_covs['RESULT'].value_counts(dropna=False)"
   ]
  },
  {
   "cell_type": "code",
   "execution_count": 407,
   "metadata": {},
   "outputs": [
    {
     "data": {
      "image/png": "[encoded data removed]",
      "text/plain": [
       "<Figure size 576x396 with 1 Axes>"
      ]
     },
     "metadata": {},
     "output_type": "display_data"
    }
   ],
   "source": [
    "import math\n",
    "width = df_covs['COUNT_RES'].value_counts()[:10].sort_values(ascending=True)\n",
    "\n",
    "max_count = max(width)\n",
    "# colors = [clr_code[lin.split('(')[0]][1] for lin in width.index]\n",
    "# n = len(lins) - 2\n",
    "m = sum(width)\n",
    "n = df_covs.shape[0]\n",
    "xticks = np.arange(0, (math.ceil(max_count / 500) + 1) * 500, 500)\n",
    "fig, ax =plt.subplots()\n",
    "# ax.set_facecolor(\"#E5E4E2\")##E5E4E2\n",
    "\n",
    "plt.barh(width.index, width, height=0.7, color=['purple', 'm', 'b',\n",
    "                                                'y', 'c', 'k',\n",
    "                                                'brown', 'gray',\n",
    "                                               'pink', 'g'])#, logy=True\n",
    "plt.xticks(xticks, xticks, rotation=90)\n",
    "plt.yticks(width.index, fontsize=7)\n",
    "plt.grid(which='major', axis='x', ls='--', color='lightgray')\n",
    "plt.ylabel('Counties')\n",
    "plt.xlabel(f'Counts (N={m};{round(m/n*100, 1)}%)')\n",
    "plt.title('Top 10 Counties Tested', fontdict)\n",
    "plt.tight_layout()\n",
    "# fig.savefig(f'/home/douso/SarsGenomics/Processed/report-top10Counties_{dt}.png')\n",
    "plt.show()"
   ]
  },
  {
   "cell_type": "code",
   "execution_count": 62,
   "metadata": {},
   "outputs": [
    {
     "data": {
      "text/plain": [
       "Negative    20788\n",
       "Positive     3509\n",
       "ms              7\n",
       "Name: RESULT, dtype: int64"
      ]
     },
     "execution_count": 62,
     "metadata": {},
     "output_type": "execute_result"
    }
   ],
   "source": [
    "df_covs['RESULT'].value_counts(dropna=True)#[2]"
   ]
  },
  {
   "cell_type": "code",
   "execution_count": 408,
   "metadata": {},
   "outputs": [
    {
     "data": {
      "image/png": "[encoded data removed]",
      "text/plain": [
       "<Figure size 576x396 with 1 Axes>"
      ]
     },
     "metadata": {},
     "output_type": "display_data"
    }
   ],
   "source": [
    "fig,ax = plt.subplots()\n",
    "\n",
    "data = df_covs['RESULT'].value_counts()[:3]\n",
    "pct = (np.array(data)/np.array(data).sum()*100).round(2)\n",
    "plt.pie(data, wedgeprops=dict(width=1), labels=[f'Neg ({pct[0]}%)', \n",
    "                      f'Pos ({pct[1]}%)', \n",
    "                      f'Emp ({pct[2]}%)'], labeldistance=1.02, radius=1.5)\n",
    "# ax.set_title('Proportions for Test Outcome', fontdict, pad=1.1)\n",
    "# fig.savefig(f'/home/douso/SarsGenomics/Processed/report-results_{dt}.png')\n",
    "plt.show()"
   ]
  },
  {
   "cell_type": "code",
   "execution_count": 674,
   "metadata": {},
   "outputs": [
    {
     "data": {
      "text/html": [
       "<div>\n",
       "<style scoped>\n",
       "    .dataframe tbody tr th:only-of-type {\n",
       "        vertical-align: middle;\n",
       "    }\n",
       "\n",
       "    .dataframe tbody tr th {\n",
       "        vertical-align: top;\n",
       "    }\n",
       "\n",
       "    .dataframe thead th {\n",
       "        text-align: right;\n",
       "    }\n",
       "</style>\n",
       "<table border=\"1\" class=\"dataframe\">\n",
       "  <thead>\n",
       "    <tr style=\"text-align: right;\">\n",
       "      <th></th>\n",
       "      <th>sequence_name</th>\n",
       "      <th>clade</th>\n",
       "      <th>lineage</th>\n",
       "      <th>genome_coverage</th>\n",
       "      <th>run_num</th>\n",
       "      <th>seq_dt</th>\n",
       "      <th>seq_tech</th>\n",
       "      <th>age_yrs</th>\n",
       "      <th>county_res</th>\n",
       "      <th>dt_conf</th>\n",
       "    </tr>\n",
       "  </thead>\n",
       "  <tbody>\n",
       "    <tr>\n",
       "      <th>0</th>\n",
       "      <td>COVC11310</td>\n",
       "      <td>20C</td>\n",
       "      <td>B.1</td>\n",
       "      <td>59.3</td>\n",
       "      <td>Run1</td>\n",
       "      <td>09-02-2021</td>\n",
       "      <td>MiSeq</td>\n",
       "      <td>30.0</td>\n",
       "      <td>Garissa</td>\n",
       "      <td>2020-10-03</td>\n",
       "    </tr>\n",
       "    <tr>\n",
       "      <th>1</th>\n",
       "      <td>COVC11310</td>\n",
       "      <td>20C</td>\n",
       "      <td>B.1</td>\n",
       "      <td>97.0</td>\n",
       "      <td>Run8</td>\n",
       "      <td>25-05-2021</td>\n",
       "      <td>MiSeq</td>\n",
       "      <td>30.0</td>\n",
       "      <td>Garissa</td>\n",
       "      <td>2020-10-03</td>\n",
       "    </tr>\n",
       "    <tr>\n",
       "      <th>2</th>\n",
       "      <td>COVC00854</td>\n",
       "      <td>20C</td>\n",
       "      <td>B.1</td>\n",
       "      <td>94.9</td>\n",
       "      <td>Run7</td>\n",
       "      <td>18-05-2021</td>\n",
       "      <td>MiSeq</td>\n",
       "      <td>23.0</td>\n",
       "      <td>Nairobi</td>\n",
       "      <td>2020-06-13</td>\n",
       "    </tr>\n",
       "    <tr>\n",
       "      <th>3</th>\n",
       "      <td>COVC00867</td>\n",
       "      <td>20C</td>\n",
       "      <td>B.1.446</td>\n",
       "      <td>68.2</td>\n",
       "      <td>Run7</td>\n",
       "      <td>18-05-2021</td>\n",
       "      <td>MiSeq</td>\n",
       "      <td>32.0</td>\n",
       "      <td>Nairobi</td>\n",
       "      <td>2020-06-13</td>\n",
       "    </tr>\n",
       "    <tr>\n",
       "      <th>4</th>\n",
       "      <td>COVC00893</td>\n",
       "      <td>20C</td>\n",
       "      <td>B.1.446</td>\n",
       "      <td>84.1</td>\n",
       "      <td>Run7</td>\n",
       "      <td>18-05-2021</td>\n",
       "      <td>MiSeq</td>\n",
       "      <td>31.0</td>\n",
       "      <td>Nairobi</td>\n",
       "      <td>2020-06-13</td>\n",
       "    </tr>\n",
       "  </tbody>\n",
       "</table>\n",
       "</div>"
      ],
      "text/plain": [
       "  sequence_name clade  lineage  genome_coverage run_num      seq_dt seq_tech  \\\n",
       "0     COVC11310   20C      B.1             59.3    Run1  09-02-2021    MiSeq   \n",
       "1     COVC11310   20C      B.1             97.0    Run8  25-05-2021    MiSeq   \n",
       "2     COVC00854   20C      B.1             94.9    Run7  18-05-2021    MiSeq   \n",
       "3     COVC00867   20C  B.1.446             68.2    Run7  18-05-2021    MiSeq   \n",
       "4     COVC00893   20C  B.1.446             84.1    Run7  18-05-2021    MiSeq   \n",
       "\n",
       "   age_yrs county_res    dt_conf  \n",
       "0     30.0    Garissa 2020-10-03  \n",
       "1     30.0    Garissa 2020-10-03  \n",
       "2     23.0    Nairobi 2020-06-13  \n",
       "3     32.0    Nairobi 2020-06-13  \n",
       "4     31.0    Nairobi 2020-06-13  "
      ]
     },
     "execution_count": 674,
     "metadata": {},
     "output_type": "execute_result"
    }
   ],
   "source": [
    "df_seq_meta.head()"
   ]
  },
  {
   "cell_type": "code",
   "execution_count": 776,
   "metadata": {},
   "outputs": [
    {
     "data": {
      "text/plain": [
       "['B.1',\n",
       " 'B.1.1.7',\n",
       " 'B.1.549',\n",
       " 'B.1.530',\n",
       " 'B.1.617.2',\n",
       " 'AY.4',\n",
       " 'A.23.1',\n",
       " 'B.1.596.1',\n",
       " 'B.1.1',\n",
       " 'B.1.446']"
      ]
     },
     "execution_count": 776,
     "metadata": {},
     "output_type": "execute_result"
    }
   ],
   "source": [
    "tops = df_seq_meta[df_seq_meta['lineage'].isin(['Failed', 'Unkown']) == False]['lineage'].value_counts().index[:10].tolist()#.head()\n",
    "tops"
   ]
  },
  {
   "cell_type": "code",
   "execution_count": 800,
   "metadata": {},
   "outputs": [
    {
     "data": {
      "image/png": "[encoded data removed]",
      "text/plain": [
       "<Figure size 1280x720 with 1 Axes>"
      ]
     },
     "metadata": {},
     "output_type": "display_data"
    }
   ],
   "source": [
    "# Prepare data\n",
    "df = df_seq_meta[df_seq_meta['lineage'].isin(['Failed', 'Unkown']) == False]\n",
    "\n",
    "x_var = 'dt_conf'\n",
    "groupby_var = 'lineage'\n",
    "df_agg = df[df['lineage'].isin(tops)].loc[:, [x_var, groupby_var]].groupby(groupby_var)\n",
    "vals = [df[x_var].values.tolist() for i, df in df_agg]\n",
    "\n",
    "colors = {i: lin_colors[i] for i, df in df_agg}\n",
    "# Draw\n",
    "plt.figure(figsize=(16,9), dpi= 80)\n",
    "# colors = [plt.cm.Spectral(i/float(len(vals)-1)) for i in range(len(vals))]\n",
    "n, bins, patches = plt.hist(vals, len(df_agg[x_var].unique()), stacked=True, density=False, color=colors.values(), ec='w')\n",
    "\n",
    "# Decoration\n",
    "plt.legend(colors, title='Lineages', ncol=5)\n",
    "plt.title(f\"Stacked Histogram of {x_var} colored by {groupby_var}\", fontsize=22)\n",
    "plt.xlabel('Date of confirmation')\n",
    "plt.ylabel(\"Frequency\")\n",
    "# plt.ylim(0, 40)\n",
    "plt.xticks(ticks=bins, labels=pd.to_datetime(bins).strftime('%Y-%m'), rotation=90, horizontalalignment='right')\n",
    "plt.show()"
   ]
  },
  {
   "cell_type": "code",
   "execution_count": 802,
   "metadata": {},
   "outputs": [
    {
     "data": {
      "text/plain": [
       "Timestamp('1970-01-01 00:00:00.000044381')"
      ]
     },
     "execution_count": 802,
     "metadata": {},
     "output_type": "execute_result"
    }
   ],
   "source": [
    "pd.Timestamp(44381)"
   ]
  },
  {
   "cell_type": "code",
   "execution_count": 697,
   "metadata": {},
   "outputs": [
    {
     "data": {
      "text/plain": [
       "Index(['2020 06', '2020 07', '2020 08', '2020 09', '2020 10', '2020 11',\n",
       "       '2020 11', '2020 12', '2021 01', '2021 02', '2021 03', '2021 04',\n",
       "       '2021 05', '2021 06', '2021 07', '2021 08', '2021 09', '2021 10',\n",
       "       '2021 11', '2021 12'],\n",
       "      dtype='object')"
      ]
     },
     "execution_count": 697,
     "metadata": {},
     "output_type": "execute_result"
    }
   ],
   "source": [
    "pd.to_datetime(bins).strftime('%Y %m')"
   ]
  },
  {
   "cell_type": "code",
   "execution_count": 409,
   "metadata": {},
   "outputs": [],
   "source": [
    "df_timeidx = df_seq_meta.set_index('dt_conf').sort_index()"
   ]
  },
  {
   "cell_type": "code",
   "execution_count": 410,
   "metadata": {},
   "outputs": [
    {
     "data": {
      "text/html": [
       "<div>\n",
       "<style scoped>\n",
       "    .dataframe tbody tr th:only-of-type {\n",
       "        vertical-align: middle;\n",
       "    }\n",
       "\n",
       "    .dataframe tbody tr th {\n",
       "        vertical-align: top;\n",
       "    }\n",
       "\n",
       "    .dataframe thead th {\n",
       "        text-align: right;\n",
       "    }\n",
       "</style>\n",
       "<table border=\"1\" class=\"dataframe\">\n",
       "  <thead>\n",
       "    <tr style=\"text-align: right;\">\n",
       "      <th></th>\n",
       "      <th>sequence_name</th>\n",
       "      <th>clade</th>\n",
       "      <th>lineage</th>\n",
       "      <th>genome_coverage</th>\n",
       "      <th>run_num</th>\n",
       "      <th>seq_dt</th>\n",
       "      <th>seq_tech</th>\n",
       "      <th>age_yrs</th>\n",
       "      <th>county_res</th>\n",
       "    </tr>\n",
       "    <tr>\n",
       "      <th>dt_conf</th>\n",
       "      <th></th>\n",
       "      <th></th>\n",
       "      <th></th>\n",
       "      <th></th>\n",
       "      <th></th>\n",
       "      <th></th>\n",
       "      <th></th>\n",
       "      <th></th>\n",
       "      <th></th>\n",
       "    </tr>\n",
       "  </thead>\n",
       "  <tbody>\n",
       "    <tr>\n",
       "      <th>2020-06-13</th>\n",
       "      <td>COVC00854</td>\n",
       "      <td>20C</td>\n",
       "      <td>B.1</td>\n",
       "      <td>94.9</td>\n",
       "      <td>Run7</td>\n",
       "      <td>18-05-2021</td>\n",
       "      <td>MiSeq</td>\n",
       "      <td>23.0</td>\n",
       "      <td>Nairobi</td>\n",
       "    </tr>\n",
       "    <tr>\n",
       "      <th>2020-06-13</th>\n",
       "      <td>COVC00867</td>\n",
       "      <td>20C</td>\n",
       "      <td>B.1.446</td>\n",
       "      <td>68.2</td>\n",
       "      <td>Run7</td>\n",
       "      <td>18-05-2021</td>\n",
       "      <td>MiSeq</td>\n",
       "      <td>32.0</td>\n",
       "      <td>Nairobi</td>\n",
       "    </tr>\n",
       "    <tr>\n",
       "      <th>2020-06-13</th>\n",
       "      <td>COVC00893</td>\n",
       "      <td>20C</td>\n",
       "      <td>B.1.446</td>\n",
       "      <td>84.1</td>\n",
       "      <td>Run7</td>\n",
       "      <td>18-05-2021</td>\n",
       "      <td>MiSeq</td>\n",
       "      <td>31.0</td>\n",
       "      <td>Nairobi</td>\n",
       "    </tr>\n",
       "    <tr>\n",
       "      <th>2020-06-13</th>\n",
       "      <td>COVC00915</td>\n",
       "      <td>NaN</td>\n",
       "      <td>Failed</td>\n",
       "      <td>0.0</td>\n",
       "      <td>Run7</td>\n",
       "      <td>18-05-2021</td>\n",
       "      <td>MiSeq</td>\n",
       "      <td>22.0</td>\n",
       "      <td>Nairobi</td>\n",
       "    </tr>\n",
       "    <tr>\n",
       "      <th>2020-06-14</th>\n",
       "      <td>COVC00962</td>\n",
       "      <td>20A</td>\n",
       "      <td>B.1</td>\n",
       "      <td>92.9</td>\n",
       "      <td>Run7</td>\n",
       "      <td>18-05-2021</td>\n",
       "      <td>MiSeq</td>\n",
       "      <td>31.0</td>\n",
       "      <td>Nairobi</td>\n",
       "    </tr>\n",
       "  </tbody>\n",
       "</table>\n",
       "</div>"
      ],
      "text/plain": [
       "           sequence_name clade  lineage  genome_coverage run_num      seq_dt  \\\n",
       "dt_conf                                                                        \n",
       "2020-06-13     COVC00854   20C      B.1             94.9    Run7  18-05-2021   \n",
       "2020-06-13     COVC00867   20C  B.1.446             68.2    Run7  18-05-2021   \n",
       "2020-06-13     COVC00893   20C  B.1.446             84.1    Run7  18-05-2021   \n",
       "2020-06-13     COVC00915   NaN   Failed              0.0    Run7  18-05-2021   \n",
       "2020-06-14     COVC00962   20A      B.1             92.9    Run7  18-05-2021   \n",
       "\n",
       "           seq_tech  age_yrs county_res  \n",
       "dt_conf                                  \n",
       "2020-06-13    MiSeq     23.0    Nairobi  \n",
       "2020-06-13    MiSeq     32.0    Nairobi  \n",
       "2020-06-13    MiSeq     31.0    Nairobi  \n",
       "2020-06-13    MiSeq     22.0    Nairobi  \n",
       "2020-06-14    MiSeq     31.0    Nairobi  "
      ]
     },
     "execution_count": 410,
     "metadata": {},
     "output_type": "execute_result"
    }
   ],
   "source": [
    "df_timeidx.head()"
   ]
  },
  {
   "cell_type": "code",
   "execution_count": 624,
   "metadata": {},
   "outputs": [],
   "source": [
    "df_ts = df_timeidx[df_timeidx['lineage'].isin(['Unkown', 'Failed']) == False]"
   ]
  },
  {
   "cell_type": "code",
   "execution_count": 625,
   "metadata": {},
   "outputs": [],
   "source": [
    "top10lins = df_ts['lineage'].value_counts()[:10].index"
   ]
  },
  {
   "cell_type": "code",
   "execution_count": 626,
   "metadata": {},
   "outputs": [],
   "source": [
    "df_ts2 = df_ts[df_ts['lineage'].isin(top10lins)]"
   ]
  },
  {
   "cell_type": "code",
   "execution_count": 627,
   "metadata": {},
   "outputs": [],
   "source": [
    "monthly = df_ts2.resample('W', closed='right')#['lineage'].value_counts()"
   ]
  },
  {
   "cell_type": "code",
   "execution_count": 628,
   "metadata": {},
   "outputs": [],
   "source": [
    "x = monthly['lineage'].value_counts()#.to_frame()#.T#.plot.hist(stacked=True)"
   ]
  },
  {
   "cell_type": "code",
   "execution_count": 629,
   "metadata": {},
   "outputs": [],
   "source": [
    "x_index = list(x.index)\n",
    "x_counts = list(x)"
   ]
  },
  {
   "cell_type": "code",
   "execution_count": 630,
   "metadata": {},
   "outputs": [],
   "source": [
    "dict_={}\n",
    "for idx,lin in zip(x_index, x_counts):\n",
    "    if idx[0] in dict_:\n",
    "        dict_[idx[0]][idx[1]] = lin\n",
    "    else:\n",
    "        dict_[idx[0]] = {}\n",
    "        dict_[idx[0]][idx[1]] = lin"
   ]
  },
  {
   "cell_type": "code",
   "execution_count": 645,
   "metadata": {},
   "outputs": [],
   "source": [
    "dt_lin_ts = pd.DataFrame(columns=set(x.index.get_level_values(1)))\n",
    "data = {l: 0 for l in set(x.index.get_level_values(1))}\n",
    "idx = []\n",
    "for k,v in dict_.items():\n",
    "    data.update(v)\n",
    "    dt_lin_ts = dt_lin_ts.append(data, ignore_index=True)\n",
    "    idx.append(k)#.strftime('%Y-%m-%d'))\n",
    "dt_lin_ts.index=idx\n",
    "# dt_lin_ts"
   ]
  },
  {
   "cell_type": "code",
   "execution_count": 644,
   "metadata": {},
   "outputs": [
    {
     "data": {
      "text/plain": [
       "B.1.596.1     4\n",
       "B.1.446       4\n",
       "B.1.1         4\n",
       "B.1.617.2     4\n",
       "A.23.1        4\n",
       "AY.4         13\n",
       "B.1.530      16\n",
       "B.1.549      22\n",
       "B.1.1.7      51\n",
       "B.1          65\n",
       "dtype: object"
      ]
     },
     "execution_count": 644,
     "metadata": {},
     "output_type": "execute_result"
    }
   ],
   "source": [
    "dt_lin_ts.max().sort_values()#plot()"
   ]
  },
  {
   "cell_type": "code",
   "execution_count": 649,
   "metadata": {},
   "outputs": [],
   "source": [
    "# plt.style.available\n",
    "lin_colors = {k: clr_code[k][1] for k,v in clr_code.items()}"
   ]
  },
  {
   "cell_type": "code",
   "execution_count": 684,
   "metadata": {},
   "outputs": [
    {
     "data": {
      "text/plain": [
       "<matplotlib.legend.Legend at 0x7fa332c6c4c0>"
      ]
     },
     "execution_count": 684,
     "metadata": {},
     "output_type": "execute_result"
    },
    {
     "data": {
      "image/png": "[encoded data removed]",
      "text/plain": [
       "<Figure size 720x288 with 1 Axes>"
      ]
     },
     "metadata": {},
     "output_type": "display_data"
    }
   ],
   "source": [
    "# plt.style.use('fivethirtyeight')\n",
    "plt.style.use('seaborn')\n",
    "# plt.style.use('ggplot')\n",
    "\n",
    "fig,ax = plt.subplots(figsize=(10,4))\n",
    "dt_lin_ts.plot.bar(stacked=True, ax=ax, color=lin_colors)\n",
    "plt.legend(title='Lineages', bbox_to_anchor = (1, 1), fancybox=True, ncol=2)"
   ]
  },
  {
   "cell_type": "code",
   "execution_count": 641,
   "metadata": {},
   "outputs": [],
   "source": [
    "import numpy as np\n",
    "from scipy.interpolate import interp1d, make_interp_spline\n",
    "import matplotlib.pyplot as plt\n",
    "from ipywidgets import widgets, interactive\n",
    "\n",
    "\n",
    "topX = list(top10lins) + ['All']\n",
    "lineage = widgets.Dropdown(options=topX, value='All', description='Lineages:')\n",
    "interp_points = widgets.IntSlider(value=500, min=100, max=2100, step=500, description='Number of data points:')\n",
    " \n",
    "def graph1(lineage, interp_points):\n",
    "    # Dataset\n",
    "    df = dt_lin_ts\n",
    "    n = df.shape[0]\n",
    "    \n",
    "    #Get x boundaries\n",
    "    start = pd.Timestamp(df.index[0])\n",
    "    end = pd.Timestamp(df.index[-1])\n",
    "    \n",
    "    #X-locators\n",
    "    dt_rng = pd.date_range(start, end, periods=n, normalize=True)\n",
    "    xticks = [pd.Timestamp(dt).value for dt in dt_rng]#dt_lin_ts.index\n",
    "    xlabel = [dt.strftime('%Y-%m') for dt in dt_rng]#dt_lin_ts.index\n",
    "    \n",
    "    #Plot canvas\n",
    "    fig,ax = plt.subplots()\n",
    "    \n",
    "    if lineage == 'All':\n",
    "        lins = df.columns\n",
    "    else:\n",
    "        lins = []; lins.append(lineage)\n",
    "    for lin in lins:\n",
    "#         df += 1\n",
    "        y=df[lin]\n",
    "        x_interp = np.linspace(start.value, end.value, len(y))\n",
    "    \n",
    "        #Train model\n",
    "#         cubic_interploation_model = interp1d(x_interp, y, kind = \"cubic\")\n",
    "        bspline_interp = make_interp_spline(x_interp, y, k=3)\n",
    " \n",
    "        # Plotting the Graph\n",
    "        X_=np.linspace(x_interp.min(), x_interp.max(), interp_points)\n",
    "#         Y_=cubic_interploation_model(X_)\n",
    "        Y_=bspline_interp(X_)\n",
    "\n",
    "        ax.plot(X_, Y_, label=lin, color=lin_colors[lin])\n",
    "        ax.legend()\n",
    "    plt.title('Lineages count over time')\n",
    "# ax.xaxis.set_major_locator(MultipleLocator(20))\n",
    "# ax.xaxis.set_minor_locator(MultipleLocator(4))\n",
    "    plt.xticks(xticks, labels=xlabel, rotation=90)\n",
    "    plt.xlabel(\"Months\")\n",
    "    plt.ylabel(\"Lineage Counts\")\n",
    "    plt.show()"
   ]
  },
  {
   "cell_type": "code",
   "execution_count": 642,
   "metadata": {},
   "outputs": [
    {
     "data": {
      "application/vnd.jupyter.widget-view+json": {
       "model_id": "638647aee9da47dfb556378bae1c45b3",
       "version_major": 2,
       "version_minor": 0
      },
      "text/plain": [
       "interactive(children=(Dropdown(description='Lineages:', index=10, options=('B.1', 'B.1.1.7', 'B.1.549', 'B.1.5…"
      ]
     },
     "metadata": {},
     "output_type": "display_data"
    }
   ],
   "source": [
    "interactive(graph1, lineage=lineage, interp_points=interp_points)"
   ]
  },
  {
   "cell_type": "code",
   "execution_count": 568,
   "metadata": {},
   "outputs": [],
   "source": [
    "from ipywidgets import widgets, interactive"
   ]
  },
  {
   "cell_type": "code",
   "execution_count": 127,
   "metadata": {},
   "outputs": [],
   "source": [
    "index = df_ts['lineage'].resample('M', closed='right').count().index"
   ]
  },
  {
   "cell_type": "code",
   "execution_count": 128,
   "metadata": {},
   "outputs": [],
   "source": [
    "ticks = [dt.value for dt in index]"
   ]
  },
  {
   "cell_type": "code",
   "execution_count": 195,
   "metadata": {},
   "outputs": [
    {
     "data": {
      "image/png": "[encoded data removed]",
      "text/plain": [
       "<Figure size 432x288 with 1 Axes>"
      ]
     },
     "metadata": {
      "needs_background": "light"
     },
     "output_type": "display_data"
    }
   ],
   "source": [
    "import numpy as np\n",
    "from scipy.interpolate import interp1d\n",
    "import matplotlib.pyplot as plt\n",
    " \n",
    "# Dataset\n",
    "n=df_ts.shape[0]\n",
    "x=np.arange(n)\n",
    "y=np.array(df_ts['lineage'].resample('W', closed='right').count())\n",
    "\n",
    "start = pd.Timestamp(df_ts.index[0])\n",
    "end = pd.Timestamp(df_ts.index[-1])\n",
    "\n",
    "t = np.linspace(start.value, end.value, len(y))\n",
    "\n",
    "cubic_interploation_model = interp1d(t, y, kind = \"cubic\")\n",
    " \n",
    "# Plotting the Graph\n",
    "X_=np.linspace(t.min(), t.max(), 5000)\n",
    "Y_=cubic_interploation_model(X_)\n",
    "\n",
    "fig,ax = plt.subplots()\n",
    "\n",
    "plt.plot(X_, Y_)\n",
    "plt.title(\"Plot Smooth Curve Using the scipy.interpolate.interp1d Class\")\n",
    "ax.xaxis.set_major_locator(MultipleLocator(20))\n",
    "ax.xaxis.set_minor_locator(MultipleLocator(4))\n",
    "plt.xticks(ticks, labels=index, rotation=90)\n",
    "plt.xlabel(\"Months\")\n",
    "plt.ylabel(\"Lineage Count\")\n",
    "plt.show()"
   ]
  },
  {
   "cell_type": "code",
   "execution_count": 68,
   "metadata": {},
   "outputs": [],
   "source": [
    "start = pd.Timestamp(df_ts.index[0])\n",
    "end = pd.Timestamp(df_ts.index[-1])"
   ]
  },
  {
   "cell_type": "code",
   "execution_count": 65,
   "metadata": {},
   "outputs": [
    {
     "data": {
      "image/png": "[encoded data removed]",
      "text/plain": [
       "<Figure size 720x360 with 1 Axes>"
      ]
     },
     "metadata": {
      "needs_background": "light"
     },
     "output_type": "display_data"
    }
   ],
   "source": [
    "import numpy as np\n",
    "from scipy.interpolate import interp1d\n",
    "\n",
    "fig, ax = plt.subplots(figsize=(10, 5))\n",
    "\n",
    "tests = df_ts['lineage'].resample('W').count()\n",
    "# pos = df_tseries0['RESULT'].resample('W').count()\n",
    "# neg = df_tseries1['RESULT'].resample('W').count()\n",
    "\n",
    "tests.plot(ax=ax, marker='o', linestyle='-', label='tests')\n",
    "# neg.plot(ax=ax, marker='o', linestyle='-', label='negaives')\n",
    "# pos.plot(ax=ax, marker='o', linestyle='-', label='positives')\n",
    "\n",
    "plt.xlabel('Weeks')\n",
    "plt.ylabel('Number of samples')\n",
    "# plt.legend()\n",
    "plt.tight_layout()\n",
    "# fig.savefig(f'/home/douso/Documents/TrendData/plots/draft_cov_trends_plot-line_{dt}.png')\n",
    "plt.show()"
   ]
  }
 ],
 "metadata": {
  "kernelspec": {
   "display_name": "Python 3",
   "language": "python",
   "name": "python3"
  },
  "language_info": {
   "codemirror_mode": {
    "name": "ipython",
    "version": 3
   },
   "file_extension": ".py",
   "mimetype": "text/x-python",
   "name": "python",
   "nbconvert_exporter": "python",
   "pygments_lexer": "ipython3",
   "version": "3.8.10"
  }
 },
 "nbformat": 4,
 "nbformat_minor": 4
}
