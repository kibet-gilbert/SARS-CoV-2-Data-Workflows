{
 "cells": [
  {
   "cell_type": "markdown",
   "metadata": {},
   "source": [
    "$13^{th}$ Aug 2021"
   ]
  },
  {
   "cell_type": "code",
   "execution_count": 1,
   "metadata": {},
   "outputs": [],
   "source": [
    "import pandas as pd\n",
    "import os, glob\n",
    "import matplotlib.pyplot as plt\n",
    "import numpy as np\n",
    "from datetime import datetime"
   ]
  },
  {
   "cell_type": "code",
   "execution_count": 2,
   "metadata": {},
   "outputs": [],
   "source": [
    "dt = datetime.today().strftime(format='%d-%m-%Y')"
   ]
  },
  {
   "cell_type": "code",
   "execution_count": 3,
   "metadata": {},
   "outputs": [],
   "source": [
    "def replace_with_who_lin(x):\n",
    "    if x == 'B.1.1.7':\n",
    "        return x.replace(x, 'B.1.1.7(Alpha)')\n",
    "    if x == 'B.1.617.2':\n",
    "        return x.replace(x, 'B.1.617.2(Delta)')\n",
    "    if x == 'B.1.351':\n",
    "        return x.replace(x, 'B.1.351(Beta)')\n",
    "    if x == 'B.1.525':\n",
    "        return x.replace(x, 'B.1.525(Eta)')\n",
    "    return x\n",
    "    "
   ]
  },
  {
   "cell_type": "code",
   "execution_count": 4,
   "metadata": {},
   "outputs": [
    {
     "data": {
      "text/plain": [
       "('sequence_name', 'clade', 'lineage', 'genome_coverage')"
      ]
     },
     "execution_count": 4,
     "metadata": {},
     "output_type": "execute_result"
    }
   ],
   "source": [
    "'sequence_name', 'clade', 'lineage', 'genome_coverage'\n"
   ]
  },
  {
   "cell_type": "code",
   "execution_count": 5,
   "metadata": {},
   "outputs": [],
   "source": [
    "df_seq_summ = pd.read_excel('/home/douso/SarsGenomics/QCstats.Analysis_OUSO_17-08-2021.xlsx', \n",
    "                   sheet_name='summary')#usecols=['sequence_name', 'clade', 'lineage', 'genome_coverage'], "
   ]
  },
  {
   "cell_type": "code",
   "execution_count": 6,
   "metadata": {},
   "outputs": [
    {
     "data": {
      "text/html": [
       "<div>\n",
       "<style scoped>\n",
       "    .dataframe tbody tr th:only-of-type {\n",
       "        vertical-align: middle;\n",
       "    }\n",
       "\n",
       "    .dataframe tbody tr th {\n",
       "        vertical-align: top;\n",
       "    }\n",
       "\n",
       "    .dataframe thead th {\n",
       "        text-align: right;\n",
       "    }\n",
       "</style>\n",
       "<table border=\"1\" class=\"dataframe\">\n",
       "  <thead>\n",
       "    <tr style=\"text-align: right;\">\n",
       "      <th></th>\n",
       "      <th>sequence_name</th>\n",
       "      <th>clade</th>\n",
       "      <th>lineage</th>\n",
       "      <th>genome_coverage</th>\n",
       "      <th>run_num</th>\n",
       "      <th>seq_dt</th>\n",
       "    </tr>\n",
       "  </thead>\n",
       "  <tbody>\n",
       "    <tr>\n",
       "      <th>0</th>\n",
       "      <td>COVC11310</td>\n",
       "      <td>20C</td>\n",
       "      <td>B.1</td>\n",
       "      <td>59.3</td>\n",
       "      <td>Run1</td>\n",
       "      <td>09-02-2021</td>\n",
       "    </tr>\n",
       "    <tr>\n",
       "      <th>1</th>\n",
       "      <td>COVC00854</td>\n",
       "      <td>20C</td>\n",
       "      <td>B.1</td>\n",
       "      <td>94.9</td>\n",
       "      <td>Run7</td>\n",
       "      <td>18-05-2021</td>\n",
       "    </tr>\n",
       "    <tr>\n",
       "      <th>2</th>\n",
       "      <td>COVC00867</td>\n",
       "      <td>20C</td>\n",
       "      <td>B.1.446</td>\n",
       "      <td>68.2</td>\n",
       "      <td>Run7</td>\n",
       "      <td>18-05-2021</td>\n",
       "    </tr>\n",
       "    <tr>\n",
       "      <th>3</th>\n",
       "      <td>COVC00893</td>\n",
       "      <td>20C</td>\n",
       "      <td>B.1.446</td>\n",
       "      <td>84.1</td>\n",
       "      <td>Run7</td>\n",
       "      <td>18-05-2021</td>\n",
       "    </tr>\n",
       "    <tr>\n",
       "      <th>4</th>\n",
       "      <td>COVC00915</td>\n",
       "      <td>NaN</td>\n",
       "      <td>Failed</td>\n",
       "      <td>0.0</td>\n",
       "      <td>Run7</td>\n",
       "      <td>18-05-2021</td>\n",
       "    </tr>\n",
       "  </tbody>\n",
       "</table>\n",
       "</div>"
      ],
      "text/plain": [
       "  sequence_name clade  lineage  genome_coverage run_num      seq_dt\n",
       "0     COVC11310   20C      B.1             59.3    Run1  09-02-2021\n",
       "1     COVC00854   20C      B.1             94.9    Run7  18-05-2021\n",
       "2     COVC00867   20C  B.1.446             68.2    Run7  18-05-2021\n",
       "3     COVC00893   20C  B.1.446             84.1    Run7  18-05-2021\n",
       "4     COVC00915   NaN   Failed              0.0    Run7  18-05-2021"
      ]
     },
     "execution_count": 6,
     "metadata": {},
     "output_type": "execute_result"
    }
   ],
   "source": [
    "df_seq_summ.head()"
   ]
  },
  {
   "cell_type": "code",
   "execution_count": 7,
   "metadata": {},
   "outputs": [],
   "source": [
    "voc_list = ['B.1.1.7', 'B.1.351', 'P.1', 'B.1.617.2', 'A23.1', 'B.1.525']"
   ]
  },
  {
   "cell_type": "code",
   "execution_count": 8,
   "metadata": {},
   "outputs": [
    {
     "data": {
      "text/plain": [
       "array(['B.1', 'B.1.446', 'Failed', 'Unkown', 'B.1.1', 'B.1.1.406',\n",
       "       'B.1.605', 'A', 'B.1.349', 'B.1.336', 'B.1.1.54', 'B.1.276',\n",
       "       'B.1.361', 'B.1.549', 'A.25', 'B.1.153', 'B.1.530', 'B.1.103',\n",
       "       'B.1.390', 'B.1.302', 'B.1.333', 'A.23', 'B.1.535', 'B.1.214',\n",
       "       'B.1.160', 'B.1.378', 'B.1.433', 'B.1.596.1', 'B.1.596', 'B.1.551',\n",
       "       'B.1.324', 'B.1.520', 'B.1.612', 'B.1.1.171', 'B.1.343',\n",
       "       'B.1.1.70', 'B.1.404', 'B.1.143', 'B', 'B.1.1.7', 'B.1.351',\n",
       "       'B.1.525', 'A.23.1', 'B.1.617.2', 'B.1.429', 'B.1.411', 'B.1.527',\n",
       "       'B.1.393', 'B.1.1.1', 'B.1.540', 'B.1.524', 'B.1.405', 'B.1.577',\n",
       "       'B.1.1.318', 'AY.4', 'AY.12'], dtype=object)"
      ]
     },
     "execution_count": 8,
     "metadata": {},
     "output_type": "execute_result"
    }
   ],
   "source": [
    "df_seq_summ['lineage'].unique()"
   ]
  },
  {
   "cell_type": "code",
   "execution_count": 9,
   "metadata": {},
   "outputs": [],
   "source": [
    "df_voc = df_seq_summ[df_seq_summ['lineage'].isin(voc_list)]"
   ]
  },
  {
   "cell_type": "code",
   "execution_count": 10,
   "metadata": {},
   "outputs": [],
   "source": [
    "df_voc_grp_lin = df_voc.groupby('lineage', dropna=False)['sequence_name'].count()"
   ]
  },
  {
   "cell_type": "code",
   "execution_count": 11,
   "metadata": {},
   "outputs": [
    {
     "data": {
      "text/plain": [
       "'large'"
      ]
     },
     "execution_count": 11,
     "metadata": {},
     "output_type": "execute_result"
    }
   ],
   "source": [
    "plt.rcParams['axes.titlesize'][:]"
   ]
  },
  {
   "cell_type": "code",
   "execution_count": 12,
   "metadata": {},
   "outputs": [],
   "source": [
    "fontdict = {'fontsize': 14,\n",
    "        'fontweight': 'bold',\n",
    "        'color': 'k',\n",
    "        'horizontalalignment': 'center'}"
   ]
  },
  {
   "cell_type": "code",
   "execution_count": 13,
   "metadata": {},
   "outputs": [
    {
     "data": {
      "image/png": "[encoded data removed]",
      "text/plain": [
       "<Figure size 432x288 with 1 Axes>"
      ]
     },
     "metadata": {
      "needs_background": "light"
     },
     "output_type": "display_data"
    }
   ],
   "source": [
    "fig,ax = plt.subplots()\n",
    "y = df_voc_grp_lin\n",
    "yy = map(replace_with_who_lin, list(y.index))\n",
    "y.index = yy\n",
    "\n",
    "n = sum(y)\n",
    "g = plt.bar(y.index, y, color=['r', 'm', 'b', 'y'])\n",
    "ax.bar_label(g, label_type='center', labels=list(y), color='w')\n",
    "plt.ylabel(f'Counts (N={n})')\n",
    "plt.xlabel('Lineages of concern/interest')\n",
    "plt.grid('major', axis='y', ls='-.')\n",
    "plt.title('VoC/VoI Lineage Frequencies', fontdict)\n",
    "fig.savefig(f'/home/douso/SarsGenomics/Processed/report-voci_{dt}.png', dpi=300.0)\n",
    "plt.show()"
   ]
  },
  {
   "cell_type": "code",
   "execution_count": 14,
   "metadata": {},
   "outputs": [],
   "source": [
    "covv_seq_tech = (df_seq_summ.assign(covv_seq_tech=df_seq_summ['run_num'].\n",
    "                map(lambda x: x.replace(x, 'ONT') if ('ONT' in x) else x.\n",
    "                replace(x, 'Illumina'))))#.replace('Failed', np.NaN)"
   ]
  },
  {
   "cell_type": "code",
   "execution_count": 15,
   "metadata": {},
   "outputs": [
    {
     "data": {
      "text/html": [
       "<div>\n",
       "<style scoped>\n",
       "    .dataframe tbody tr th:only-of-type {\n",
       "        vertical-align: middle;\n",
       "    }\n",
       "\n",
       "    .dataframe tbody tr th {\n",
       "        vertical-align: top;\n",
       "    }\n",
       "\n",
       "    .dataframe thead th {\n",
       "        text-align: right;\n",
       "    }\n",
       "</style>\n",
       "<table border=\"1\" class=\"dataframe\">\n",
       "  <thead>\n",
       "    <tr style=\"text-align: right;\">\n",
       "      <th></th>\n",
       "      <th>sequence_name</th>\n",
       "      <th>clade</th>\n",
       "      <th>lineage</th>\n",
       "      <th>genome_coverage</th>\n",
       "      <th>run_num</th>\n",
       "      <th>seq_dt</th>\n",
       "      <th>covv_seq_tech</th>\n",
       "    </tr>\n",
       "  </thead>\n",
       "  <tbody>\n",
       "    <tr>\n",
       "      <th>0</th>\n",
       "      <td>COVC11310</td>\n",
       "      <td>20C</td>\n",
       "      <td>B.1</td>\n",
       "      <td>59.3</td>\n",
       "      <td>Run1</td>\n",
       "      <td>09-02-2021</td>\n",
       "      <td>Illumina</td>\n",
       "    </tr>\n",
       "    <tr>\n",
       "      <th>1</th>\n",
       "      <td>COVC00854</td>\n",
       "      <td>20C</td>\n",
       "      <td>B.1</td>\n",
       "      <td>94.9</td>\n",
       "      <td>Run7</td>\n",
       "      <td>18-05-2021</td>\n",
       "      <td>Illumina</td>\n",
       "    </tr>\n",
       "    <tr>\n",
       "      <th>2</th>\n",
       "      <td>COVC00867</td>\n",
       "      <td>20C</td>\n",
       "      <td>B.1.446</td>\n",
       "      <td>68.2</td>\n",
       "      <td>Run7</td>\n",
       "      <td>18-05-2021</td>\n",
       "      <td>Illumina</td>\n",
       "    </tr>\n",
       "    <tr>\n",
       "      <th>3</th>\n",
       "      <td>COVC00893</td>\n",
       "      <td>20C</td>\n",
       "      <td>B.1.446</td>\n",
       "      <td>84.1</td>\n",
       "      <td>Run7</td>\n",
       "      <td>18-05-2021</td>\n",
       "      <td>Illumina</td>\n",
       "    </tr>\n",
       "    <tr>\n",
       "      <th>4</th>\n",
       "      <td>COVC00915</td>\n",
       "      <td>NaN</td>\n",
       "      <td>Failed</td>\n",
       "      <td>0.0</td>\n",
       "      <td>Run7</td>\n",
       "      <td>18-05-2021</td>\n",
       "      <td>Illumina</td>\n",
       "    </tr>\n",
       "  </tbody>\n",
       "</table>\n",
       "</div>"
      ],
      "text/plain": [
       "  sequence_name clade  lineage  genome_coverage run_num      seq_dt  \\\n",
       "0     COVC11310   20C      B.1             59.3    Run1  09-02-2021   \n",
       "1     COVC00854   20C      B.1             94.9    Run7  18-05-2021   \n",
       "2     COVC00867   20C  B.1.446             68.2    Run7  18-05-2021   \n",
       "3     COVC00893   20C  B.1.446             84.1    Run7  18-05-2021   \n",
       "4     COVC00915   NaN   Failed              0.0    Run7  18-05-2021   \n",
       "\n",
       "  covv_seq_tech  \n",
       "0      Illumina  \n",
       "1      Illumina  \n",
       "2      Illumina  \n",
       "3      Illumina  \n",
       "4      Illumina  "
      ]
     },
     "execution_count": 15,
     "metadata": {},
     "output_type": "execute_result"
    }
   ],
   "source": [
    "covv_seq_tech.head()"
   ]
  },
  {
   "cell_type": "code",
   "execution_count": 16,
   "metadata": {},
   "outputs": [
    {
     "data": {
      "text/html": [
       "<div>\n",
       "<style scoped>\n",
       "    .dataframe tbody tr th:only-of-type {\n",
       "        vertical-align: middle;\n",
       "    }\n",
       "\n",
       "    .dataframe tbody tr th {\n",
       "        vertical-align: top;\n",
       "    }\n",
       "\n",
       "    .dataframe thead th {\n",
       "        text-align: right;\n",
       "    }\n",
       "</style>\n",
       "<table border=\"1\" class=\"dataframe\">\n",
       "  <thead>\n",
       "    <tr style=\"text-align: right;\">\n",
       "      <th></th>\n",
       "      <th>sequence_name</th>\n",
       "      <th>clade</th>\n",
       "      <th>lineage</th>\n",
       "      <th>genome_coverage</th>\n",
       "      <th>run_num</th>\n",
       "      <th>seq_dt</th>\n",
       "      <th>covv_seq_tech</th>\n",
       "    </tr>\n",
       "  </thead>\n",
       "  <tbody>\n",
       "    <tr>\n",
       "      <th>630</th>\n",
       "      <td>KEMRI-3</td>\n",
       "      <td>20A</td>\n",
       "      <td>B.1.549</td>\n",
       "      <td>99.9</td>\n",
       "      <td>Run3_3b_4_6</td>\n",
       "      <td>30-04-2021</td>\n",
       "      <td>Illumina</td>\n",
       "    </tr>\n",
       "    <tr>\n",
       "      <th>923</th>\n",
       "      <td>COVC23639</td>\n",
       "      <td>19B</td>\n",
       "      <td>A.23.1</td>\n",
       "      <td>99.9</td>\n",
       "      <td>Run13_NS</td>\n",
       "      <td>10-08-2021</td>\n",
       "      <td>Illumina</td>\n",
       "    </tr>\n",
       "    <tr>\n",
       "      <th>625</th>\n",
       "      <td>KEMRI-1</td>\n",
       "      <td>19B</td>\n",
       "      <td>A.23.1</td>\n",
       "      <td>99.9</td>\n",
       "      <td>Run3_3b_4_6</td>\n",
       "      <td>30-04-2021</td>\n",
       "      <td>Illumina</td>\n",
       "    </tr>\n",
       "    <tr>\n",
       "      <th>356</th>\n",
       "      <td>COVC21060</td>\n",
       "      <td>20A</td>\n",
       "      <td>B.1.549</td>\n",
       "      <td>99.8</td>\n",
       "      <td>Run2</td>\n",
       "      <td>27-03-2021</td>\n",
       "      <td>Illumina</td>\n",
       "    </tr>\n",
       "    <tr>\n",
       "      <th>440</th>\n",
       "      <td>COVC23438</td>\n",
       "      <td>20I/501Y.V1</td>\n",
       "      <td>B.1.1.7</td>\n",
       "      <td>99.8</td>\n",
       "      <td>Run2</td>\n",
       "      <td>27-03-2021</td>\n",
       "      <td>Illumina</td>\n",
       "    </tr>\n",
       "    <tr>\n",
       "      <th>...</th>\n",
       "      <td>...</td>\n",
       "      <td>...</td>\n",
       "      <td>...</td>\n",
       "      <td>...</td>\n",
       "      <td>...</td>\n",
       "      <td>...</td>\n",
       "      <td>...</td>\n",
       "    </tr>\n",
       "    <tr>\n",
       "      <th>557</th>\n",
       "      <td>KEM-21-03-94708</td>\n",
       "      <td>NaN</td>\n",
       "      <td>Failed</td>\n",
       "      <td>0.0</td>\n",
       "      <td>Run4</td>\n",
       "      <td>19-04-2021</td>\n",
       "      <td>Illumina</td>\n",
       "    </tr>\n",
       "    <tr>\n",
       "      <th>638</th>\n",
       "      <td>MOH-COV-2</td>\n",
       "      <td>19A</td>\n",
       "      <td>Unkown</td>\n",
       "      <td>0.0</td>\n",
       "      <td>Run2</td>\n",
       "      <td>27-03-2021</td>\n",
       "      <td>Illumina</td>\n",
       "    </tr>\n",
       "    <tr>\n",
       "      <th>591</th>\n",
       "      <td>KEM-21-03-95542</td>\n",
       "      <td>19A</td>\n",
       "      <td>Unkown</td>\n",
       "      <td>0.0</td>\n",
       "      <td>Run4</td>\n",
       "      <td>19-04-2021</td>\n",
       "      <td>Illumina</td>\n",
       "    </tr>\n",
       "    <tr>\n",
       "      <th>637</th>\n",
       "      <td>MOH-COV-1</td>\n",
       "      <td>19A</td>\n",
       "      <td>Unkown</td>\n",
       "      <td>0.0</td>\n",
       "      <td>Run2</td>\n",
       "      <td>27-03-2021</td>\n",
       "      <td>Illumina</td>\n",
       "    </tr>\n",
       "    <tr>\n",
       "      <th>297</th>\n",
       "      <td>COVC20618</td>\n",
       "      <td>NaN</td>\n",
       "      <td>Failed</td>\n",
       "      <td>0.0</td>\n",
       "      <td>Run1</td>\n",
       "      <td>09-02-2021</td>\n",
       "      <td>Illumina</td>\n",
       "    </tr>\n",
       "  </tbody>\n",
       "</table>\n",
       "<p>1074 rows × 7 columns</p>\n",
       "</div>"
      ],
      "text/plain": [
       "       sequence_name        clade  lineage  genome_coverage      run_num  \\\n",
       "630          KEMRI-3          20A  B.1.549             99.9  Run3_3b_4_6   \n",
       "923        COVC23639          19B   A.23.1             99.9     Run13_NS   \n",
       "625          KEMRI-1          19B   A.23.1             99.9  Run3_3b_4_6   \n",
       "356        COVC21060          20A  B.1.549             99.8         Run2   \n",
       "440        COVC23438  20I/501Y.V1  B.1.1.7             99.8         Run2   \n",
       "..               ...          ...      ...              ...          ...   \n",
       "557  KEM-21-03-94708          NaN   Failed              0.0         Run4   \n",
       "638        MOH-COV-2          19A   Unkown              0.0         Run2   \n",
       "591  KEM-21-03-95542          19A   Unkown              0.0         Run4   \n",
       "637        MOH-COV-1          19A   Unkown              0.0         Run2   \n",
       "297        COVC20618          NaN   Failed              0.0         Run1   \n",
       "\n",
       "         seq_dt covv_seq_tech  \n",
       "630  30-04-2021      Illumina  \n",
       "923  10-08-2021      Illumina  \n",
       "625  30-04-2021      Illumina  \n",
       "356  27-03-2021      Illumina  \n",
       "440  27-03-2021      Illumina  \n",
       "..          ...           ...  \n",
       "557  19-04-2021      Illumina  \n",
       "638  27-03-2021      Illumina  \n",
       "591  19-04-2021      Illumina  \n",
       "637  27-03-2021      Illumina  \n",
       "297  09-02-2021      Illumina  \n",
       "\n",
       "[1074 rows x 7 columns]"
      ]
     },
     "execution_count": 16,
     "metadata": {},
     "output_type": "execute_result"
    }
   ],
   "source": [
    "covv_seq_tech.sort_values('genome_coverage', ascending=False)"
   ]
  },
  {
   "cell_type": "code",
   "execution_count": 17,
   "metadata": {},
   "outputs": [
    {
     "data": {
      "text/html": [
       "<div>\n",
       "<style scoped>\n",
       "    .dataframe tbody tr th:only-of-type {\n",
       "        vertical-align: middle;\n",
       "    }\n",
       "\n",
       "    .dataframe tbody tr th {\n",
       "        vertical-align: top;\n",
       "    }\n",
       "\n",
       "    .dataframe thead th {\n",
       "        text-align: right;\n",
       "    }\n",
       "</style>\n",
       "<table border=\"1\" class=\"dataframe\">\n",
       "  <thead>\n",
       "    <tr style=\"text-align: right;\">\n",
       "      <th></th>\n",
       "      <th>sequence_name</th>\n",
       "      <th>clade</th>\n",
       "      <th>lineage</th>\n",
       "      <th>genome_coverage</th>\n",
       "      <th>run_num</th>\n",
       "      <th>seq_dt</th>\n",
       "      <th>covv_seq_tech</th>\n",
       "    </tr>\n",
       "  </thead>\n",
       "  <tbody>\n",
       "    <tr>\n",
       "      <th>630</th>\n",
       "      <td>KEMRI-3</td>\n",
       "      <td>20A</td>\n",
       "      <td>B.1.549</td>\n",
       "      <td>99.9</td>\n",
       "      <td>Run3_3b_4_6</td>\n",
       "      <td>30-04-2021</td>\n",
       "      <td>Illumina</td>\n",
       "    </tr>\n",
       "    <tr>\n",
       "      <th>923</th>\n",
       "      <td>COVC23639</td>\n",
       "      <td>19B</td>\n",
       "      <td>A.23.1</td>\n",
       "      <td>99.9</td>\n",
       "      <td>Run13_NS</td>\n",
       "      <td>10-08-2021</td>\n",
       "      <td>Illumina</td>\n",
       "    </tr>\n",
       "    <tr>\n",
       "      <th>625</th>\n",
       "      <td>KEMRI-1</td>\n",
       "      <td>19B</td>\n",
       "      <td>A.23.1</td>\n",
       "      <td>99.9</td>\n",
       "      <td>Run3_3b_4_6</td>\n",
       "      <td>30-04-2021</td>\n",
       "      <td>Illumina</td>\n",
       "    </tr>\n",
       "    <tr>\n",
       "      <th>356</th>\n",
       "      <td>COVC21060</td>\n",
       "      <td>20A</td>\n",
       "      <td>B.1.549</td>\n",
       "      <td>99.8</td>\n",
       "      <td>Run2</td>\n",
       "      <td>27-03-2021</td>\n",
       "      <td>Illumina</td>\n",
       "    </tr>\n",
       "    <tr>\n",
       "      <th>440</th>\n",
       "      <td>COVC23438</td>\n",
       "      <td>20I/501Y.V1</td>\n",
       "      <td>B.1.1.7</td>\n",
       "      <td>99.8</td>\n",
       "      <td>Run2</td>\n",
       "      <td>27-03-2021</td>\n",
       "      <td>Illumina</td>\n",
       "    </tr>\n",
       "    <tr>\n",
       "      <th>...</th>\n",
       "      <td>...</td>\n",
       "      <td>...</td>\n",
       "      <td>...</td>\n",
       "      <td>...</td>\n",
       "      <td>...</td>\n",
       "      <td>...</td>\n",
       "      <td>...</td>\n",
       "    </tr>\n",
       "    <tr>\n",
       "      <th>557</th>\n",
       "      <td>KEM-21-03-94708</td>\n",
       "      <td>NaN</td>\n",
       "      <td>Failed</td>\n",
       "      <td>0.0</td>\n",
       "      <td>Run4</td>\n",
       "      <td>19-04-2021</td>\n",
       "      <td>Illumina</td>\n",
       "    </tr>\n",
       "    <tr>\n",
       "      <th>638</th>\n",
       "      <td>MOH-COV-2</td>\n",
       "      <td>19A</td>\n",
       "      <td>Unkown</td>\n",
       "      <td>0.0</td>\n",
       "      <td>Run2</td>\n",
       "      <td>27-03-2021</td>\n",
       "      <td>Illumina</td>\n",
       "    </tr>\n",
       "    <tr>\n",
       "      <th>591</th>\n",
       "      <td>KEM-21-03-95542</td>\n",
       "      <td>19A</td>\n",
       "      <td>Unkown</td>\n",
       "      <td>0.0</td>\n",
       "      <td>Run4</td>\n",
       "      <td>19-04-2021</td>\n",
       "      <td>Illumina</td>\n",
       "    </tr>\n",
       "    <tr>\n",
       "      <th>637</th>\n",
       "      <td>MOH-COV-1</td>\n",
       "      <td>19A</td>\n",
       "      <td>Unkown</td>\n",
       "      <td>0.0</td>\n",
       "      <td>Run2</td>\n",
       "      <td>27-03-2021</td>\n",
       "      <td>Illumina</td>\n",
       "    </tr>\n",
       "    <tr>\n",
       "      <th>297</th>\n",
       "      <td>COVC20618</td>\n",
       "      <td>NaN</td>\n",
       "      <td>Failed</td>\n",
       "      <td>0.0</td>\n",
       "      <td>Run1</td>\n",
       "      <td>09-02-2021</td>\n",
       "      <td>Illumina</td>\n",
       "    </tr>\n",
       "  </tbody>\n",
       "</table>\n",
       "<p>1074 rows × 7 columns</p>\n",
       "</div>"
      ],
      "text/plain": [
       "       sequence_name        clade  lineage  genome_coverage      run_num  \\\n",
       "630          KEMRI-3          20A  B.1.549             99.9  Run3_3b_4_6   \n",
       "923        COVC23639          19B   A.23.1             99.9     Run13_NS   \n",
       "625          KEMRI-1          19B   A.23.1             99.9  Run3_3b_4_6   \n",
       "356        COVC21060          20A  B.1.549             99.8         Run2   \n",
       "440        COVC23438  20I/501Y.V1  B.1.1.7             99.8         Run2   \n",
       "..               ...          ...      ...              ...          ...   \n",
       "557  KEM-21-03-94708          NaN   Failed              0.0         Run4   \n",
       "638        MOH-COV-2          19A   Unkown              0.0         Run2   \n",
       "591  KEM-21-03-95542          19A   Unkown              0.0         Run4   \n",
       "637        MOH-COV-1          19A   Unkown              0.0         Run2   \n",
       "297        COVC20618          NaN   Failed              0.0         Run1   \n",
       "\n",
       "         seq_dt covv_seq_tech  \n",
       "630  30-04-2021      Illumina  \n",
       "923  10-08-2021      Illumina  \n",
       "625  30-04-2021      Illumina  \n",
       "356  27-03-2021      Illumina  \n",
       "440  27-03-2021      Illumina  \n",
       "..          ...           ...  \n",
       "557  19-04-2021      Illumina  \n",
       "638  27-03-2021      Illumina  \n",
       "591  19-04-2021      Illumina  \n",
       "637  27-03-2021      Illumina  \n",
       "297  09-02-2021      Illumina  \n",
       "\n",
       "[1074 rows x 7 columns]"
      ]
     },
     "execution_count": 17,
     "metadata": {},
     "output_type": "execute_result"
    }
   ],
   "source": [
    "covv_seq_tech.sort_values('genome_coverage', ascending=False)"
   ]
  },
  {
   "cell_type": "code",
   "execution_count": 18,
   "metadata": {},
   "outputs": [
    {
     "data": {
      "text/plain": [
       "(800, 7)"
      ]
     },
     "execution_count": 18,
     "metadata": {},
     "output_type": "execute_result"
    }
   ],
   "source": [
    "covv_seq_tech[covv_seq_tech['genome_coverage'] >= 60].shape"
   ]
  },
  {
   "cell_type": "code",
   "execution_count": 19,
   "metadata": {},
   "outputs": [
    {
     "data": {
      "text/plain": [
       "(849, 7)"
      ]
     },
     "execution_count": 19,
     "metadata": {},
     "output_type": "execute_result"
    }
   ],
   "source": [
    "covv_seq_tech[covv_seq_tech['genome_coverage'] >= 50].shape"
   ]
  },
  {
   "cell_type": "code",
   "execution_count": 20,
   "metadata": {},
   "outputs": [
    {
     "data": {
      "image/png": "[encoded data removed]",
      "text/plain": [
       "<Figure size 432x288 with 1 Axes>"
      ]
     },
     "metadata": {
      "needs_background": "light"
     },
     "output_type": "display_data"
    }
   ],
   "source": [
    "fig,ax = plt.subplots(1,1)\n",
    "plt.hist(covv_seq_tech['genome_coverage'])\n",
    "plt.xlabel('Genome coverage')\n",
    "plt.ylabel(f'Counts (N={covv_seq_tech.shape[0]-1})')\n",
    "plt.xticks(np.arange(0,105, 5), rotation=90)\n",
    "# plt.yticks(np.arange(0,375, 25))\n",
    "plt.grid('major', axis='y', ls='-.')\n",
    "plt.title('Distribution of Genome Coverage', fontdict)\n",
    "# ax.hlines(67, 2, 99, colors='orange', linestyles='--')\n",
    "# plt.annotate('80% coverage threshold', xy=(30, 80))\n",
    "fig.savefig(f'/home/douso/SarsGenomics/Processed/report-coverage_{dt}.png', dpi=300.0)\n",
    "plt.show()\n",
    "\n"
   ]
  },
  {
   "cell_type": "code",
   "execution_count": 21,
   "metadata": {},
   "outputs": [
    {
     "data": {
      "text/plain": [
       "(1074, 6)"
      ]
     },
     "execution_count": 21,
     "metadata": {},
     "output_type": "execute_result"
    }
   ],
   "source": [
    "df_seq_summ.shape"
   ]
  },
  {
   "cell_type": "code",
   "execution_count": 22,
   "metadata": {},
   "outputs": [],
   "source": [
    "df_metadata = pd.read_excel('/home/douso/Documents/TrendData/Results/ResultsMerged/COVID19-results-merged-cln.xlsx')"
   ]
  },
  {
   "cell_type": "code",
   "execution_count": 23,
   "metadata": {},
   "outputs": [
    {
     "data": {
      "text/html": [
       "<div>\n",
       "<style scoped>\n",
       "    .dataframe tbody tr th:only-of-type {\n",
       "        vertical-align: middle;\n",
       "    }\n",
       "\n",
       "    .dataframe tbody tr th {\n",
       "        vertical-align: top;\n",
       "    }\n",
       "\n",
       "    .dataframe thead th {\n",
       "        text-align: right;\n",
       "    }\n",
       "</style>\n",
       "<table border=\"1\" class=\"dataframe\">\n",
       "  <thead>\n",
       "    <tr style=\"text-align: right;\">\n",
       "      <th></th>\n",
       "      <th>S_NUM</th>\n",
       "      <th>AGE_YRS</th>\n",
       "      <th>GEND</th>\n",
       "      <th>OCCU</th>\n",
       "      <th>NAT</th>\n",
       "      <th>COUNT_RES</th>\n",
       "      <th>S_COUNT_RES</th>\n",
       "      <th>TRAV_HIST</th>\n",
       "      <th>TRAV_FROM</th>\n",
       "      <th>QUAR_PLACE</th>\n",
       "      <th>SYMPS</th>\n",
       "      <th>DT_SAM_COLL</th>\n",
       "      <th>DT_SAM_RECEP</th>\n",
       "      <th>RESULT</th>\n",
       "      <th>DT_CONF</th>\n",
       "    </tr>\n",
       "  </thead>\n",
       "  <tbody>\n",
       "    <tr>\n",
       "      <th>0</th>\n",
       "      <td>COVC00001</td>\n",
       "      <td>35.0</td>\n",
       "      <td>F</td>\n",
       "      <td>Refugee</td>\n",
       "      <td>NaN</td>\n",
       "      <td>Garissa</td>\n",
       "      <td>Dadaab</td>\n",
       "      <td>No</td>\n",
       "      <td>NaN</td>\n",
       "      <td>NaN</td>\n",
       "      <td>NaN</td>\n",
       "      <td>NaT</td>\n",
       "      <td>NaT</td>\n",
       "      <td>Negative</td>\n",
       "      <td>2020-06-02</td>\n",
       "    </tr>\n",
       "    <tr>\n",
       "      <th>1</th>\n",
       "      <td>COVC00002</td>\n",
       "      <td>29.0</td>\n",
       "      <td>M</td>\n",
       "      <td>Refugee</td>\n",
       "      <td>NaN</td>\n",
       "      <td>Garissa</td>\n",
       "      <td>Dadaab</td>\n",
       "      <td>No</td>\n",
       "      <td>NaN</td>\n",
       "      <td>NaN</td>\n",
       "      <td>NaN</td>\n",
       "      <td>NaT</td>\n",
       "      <td>NaT</td>\n",
       "      <td>Negative</td>\n",
       "      <td>2020-06-02</td>\n",
       "    </tr>\n",
       "    <tr>\n",
       "      <th>2</th>\n",
       "      <td>COVC00003</td>\n",
       "      <td>50.0</td>\n",
       "      <td>M</td>\n",
       "      <td>Refugee</td>\n",
       "      <td>NaN</td>\n",
       "      <td>Garissa</td>\n",
       "      <td>Dadaab</td>\n",
       "      <td>No</td>\n",
       "      <td>NaN</td>\n",
       "      <td>NaN</td>\n",
       "      <td>NaN</td>\n",
       "      <td>NaT</td>\n",
       "      <td>NaT</td>\n",
       "      <td>Negative</td>\n",
       "      <td>2020-06-02</td>\n",
       "    </tr>\n",
       "    <tr>\n",
       "      <th>3</th>\n",
       "      <td>COVC00004</td>\n",
       "      <td>35.0</td>\n",
       "      <td>F</td>\n",
       "      <td>Casual</td>\n",
       "      <td>NaN</td>\n",
       "      <td>Garissa</td>\n",
       "      <td>Dadaab</td>\n",
       "      <td>No</td>\n",
       "      <td>NaN</td>\n",
       "      <td>NaN</td>\n",
       "      <td>NaN</td>\n",
       "      <td>NaT</td>\n",
       "      <td>NaT</td>\n",
       "      <td>Negative</td>\n",
       "      <td>2020-06-02</td>\n",
       "    </tr>\n",
       "    <tr>\n",
       "      <th>4</th>\n",
       "      <td>COVC00005</td>\n",
       "      <td>27.0</td>\n",
       "      <td>F</td>\n",
       "      <td>Refugee</td>\n",
       "      <td>NaN</td>\n",
       "      <td>Garissa</td>\n",
       "      <td>Dadaab</td>\n",
       "      <td>No</td>\n",
       "      <td>NaN</td>\n",
       "      <td>NaN</td>\n",
       "      <td>NaN</td>\n",
       "      <td>NaT</td>\n",
       "      <td>NaT</td>\n",
       "      <td>Negative</td>\n",
       "      <td>2020-06-02</td>\n",
       "    </tr>\n",
       "  </tbody>\n",
       "</table>\n",
       "</div>"
      ],
      "text/plain": [
       "       S_NUM  AGE_YRS GEND     OCCU  NAT COUNT_RES S_COUNT_RES TRAV_HIST  \\\n",
       "0  COVC00001     35.0    F  Refugee  NaN   Garissa      Dadaab        No   \n",
       "1  COVC00002     29.0    M  Refugee  NaN   Garissa      Dadaab        No   \n",
       "2  COVC00003     50.0    M  Refugee  NaN   Garissa      Dadaab        No   \n",
       "3  COVC00004     35.0    F   Casual  NaN   Garissa      Dadaab        No   \n",
       "4  COVC00005     27.0    F  Refugee  NaN   Garissa      Dadaab        No   \n",
       "\n",
       "  TRAV_FROM QUAR_PLACE SYMPS DT_SAM_COLL DT_SAM_RECEP    RESULT    DT_CONF  \n",
       "0       NaN        NaN   NaN         NaT          NaT  Negative 2020-06-02  \n",
       "1       NaN        NaN   NaN         NaT          NaT  Negative 2020-06-02  \n",
       "2       NaN        NaN   NaN         NaT          NaT  Negative 2020-06-02  \n",
       "3       NaN        NaN   NaN         NaT          NaT  Negative 2020-06-02  \n",
       "4       NaN        NaN   NaN         NaT          NaT  Negative 2020-06-02  "
      ]
     },
     "execution_count": 23,
     "metadata": {},
     "output_type": "execute_result"
    }
   ],
   "source": [
    "df_metadata.head()"
   ]
  },
  {
   "cell_type": "code",
   "execution_count": 24,
   "metadata": {},
   "outputs": [],
   "source": [
    "df_metadata_sub = df_metadata[df_metadata['S_NUM'].isin(list(df_seq_summ['sequence_name']))]"
   ]
  },
  {
   "cell_type": "code",
   "execution_count": 25,
   "metadata": {},
   "outputs": [
    {
     "data": {
      "text/plain": [
       "(949, 15)"
      ]
     },
     "execution_count": 25,
     "metadata": {},
     "output_type": "execute_result"
    }
   ],
   "source": [
    "df_metadata_sub.shape"
   ]
  },
  {
   "cell_type": "code",
   "execution_count": 26,
   "metadata": {},
   "outputs": [],
   "source": [
    "df_metadata_sub.sort_values('DT_CONF').to_excel(f'/home/douso/Documents/TrendData/Results/ResultsMerged/all-sequenced-samples_{dt}.xlsx', index=False)"
   ]
  },
  {
   "cell_type": "code",
   "execution_count": 27,
   "metadata": {},
   "outputs": [
    {
     "data": {
      "text/html": [
       "<div>\n",
       "<style scoped>\n",
       "    .dataframe tbody tr th:only-of-type {\n",
       "        vertical-align: middle;\n",
       "    }\n",
       "\n",
       "    .dataframe tbody tr th {\n",
       "        vertical-align: top;\n",
       "    }\n",
       "\n",
       "    .dataframe thead th {\n",
       "        text-align: right;\n",
       "    }\n",
       "</style>\n",
       "<table border=\"1\" class=\"dataframe\">\n",
       "  <thead>\n",
       "    <tr style=\"text-align: right;\">\n",
       "      <th></th>\n",
       "      <th>S_NUM</th>\n",
       "      <th>AGE_YRS</th>\n",
       "      <th>GEND</th>\n",
       "      <th>OCCU</th>\n",
       "      <th>NAT</th>\n",
       "      <th>COUNT_RES</th>\n",
       "      <th>S_COUNT_RES</th>\n",
       "      <th>TRAV_HIST</th>\n",
       "      <th>TRAV_FROM</th>\n",
       "      <th>QUAR_PLACE</th>\n",
       "      <th>SYMPS</th>\n",
       "      <th>DT_SAM_COLL</th>\n",
       "      <th>DT_SAM_RECEP</th>\n",
       "      <th>RESULT</th>\n",
       "      <th>DT_CONF</th>\n",
       "    </tr>\n",
       "  </thead>\n",
       "  <tbody>\n",
       "    <tr>\n",
       "      <th>24330</th>\n",
       "      <td>KEMRI_01_89431</td>\n",
       "      <td>44.0</td>\n",
       "      <td>M</td>\n",
       "      <td>NaN</td>\n",
       "      <td>Kenya</td>\n",
       "      <td>Kirinyaga</td>\n",
       "      <td>Mwea</td>\n",
       "      <td>No</td>\n",
       "      <td>NaN</td>\n",
       "      <td>NaN</td>\n",
       "      <td>NaN</td>\n",
       "      <td>2021-01-07</td>\n",
       "      <td>2021-07-30</td>\n",
       "      <td>Positive</td>\n",
       "      <td>2021-01-11</td>\n",
       "    </tr>\n",
       "    <tr>\n",
       "      <th>24331</th>\n",
       "      <td>KEMRI_01_89447</td>\n",
       "      <td>28.0</td>\n",
       "      <td>F</td>\n",
       "      <td>NaN</td>\n",
       "      <td>Kenya</td>\n",
       "      <td>Kirinyaga</td>\n",
       "      <td>Kirinyaga east</td>\n",
       "      <td>No</td>\n",
       "      <td>NaN</td>\n",
       "      <td>NaN</td>\n",
       "      <td>NaN</td>\n",
       "      <td>2020-12-24</td>\n",
       "      <td>2021-07-30</td>\n",
       "      <td>Positive</td>\n",
       "      <td>2021-01-11</td>\n",
       "    </tr>\n",
       "    <tr>\n",
       "      <th>24332</th>\n",
       "      <td>KEMRI_01_89476</td>\n",
       "      <td>41.0</td>\n",
       "      <td>M</td>\n",
       "      <td>NaN</td>\n",
       "      <td>Kenya</td>\n",
       "      <td>Nairobi</td>\n",
       "      <td>Kasarani</td>\n",
       "      <td>No</td>\n",
       "      <td>NaN</td>\n",
       "      <td>NaN</td>\n",
       "      <td>sore throat,cough,headache,fever</td>\n",
       "      <td>2021-01-08</td>\n",
       "      <td>2021-07-30</td>\n",
       "      <td>Positive</td>\n",
       "      <td>2021-01-11</td>\n",
       "    </tr>\n",
       "    <tr>\n",
       "      <th>24333</th>\n",
       "      <td>KEMRI_01_89487</td>\n",
       "      <td>57.0</td>\n",
       "      <td>M</td>\n",
       "      <td>NaN</td>\n",
       "      <td>Kenya</td>\n",
       "      <td>Kiambu</td>\n",
       "      <td>Githunguri</td>\n",
       "      <td>No</td>\n",
       "      <td>NaN</td>\n",
       "      <td>NaN</td>\n",
       "      <td>NaN</td>\n",
       "      <td>2021-01-07</td>\n",
       "      <td>2021-07-30</td>\n",
       "      <td>Positive</td>\n",
       "      <td>2021-01-11</td>\n",
       "    </tr>\n",
       "    <tr>\n",
       "      <th>24334</th>\n",
       "      <td>KEMRI_01_89581</td>\n",
       "      <td>53.0</td>\n",
       "      <td>F</td>\n",
       "      <td>NaN</td>\n",
       "      <td>Kenya</td>\n",
       "      <td>Kajiado</td>\n",
       "      <td>Ngong</td>\n",
       "      <td>No</td>\n",
       "      <td>NaN</td>\n",
       "      <td>NaN</td>\n",
       "      <td>NaN</td>\n",
       "      <td>2021-12-01</td>\n",
       "      <td>2021-07-30</td>\n",
       "      <td>Positive</td>\n",
       "      <td>2021-12-01</td>\n",
       "    </tr>\n",
       "    <tr>\n",
       "      <th>...</th>\n",
       "      <td>...</td>\n",
       "      <td>...</td>\n",
       "      <td>...</td>\n",
       "      <td>...</td>\n",
       "      <td>...</td>\n",
       "      <td>...</td>\n",
       "      <td>...</td>\n",
       "      <td>...</td>\n",
       "      <td>...</td>\n",
       "      <td>...</td>\n",
       "      <td>...</td>\n",
       "      <td>...</td>\n",
       "      <td>...</td>\n",
       "      <td>...</td>\n",
       "      <td>...</td>\n",
       "    </tr>\n",
       "    <tr>\n",
       "      <th>24409</th>\n",
       "      <td>KEMRI_02_93645</td>\n",
       "      <td>37.0</td>\n",
       "      <td>F</td>\n",
       "      <td>NaN</td>\n",
       "      <td>Kenya</td>\n",
       "      <td>Kiambu</td>\n",
       "      <td>Githunguri</td>\n",
       "      <td>No</td>\n",
       "      <td>NaN</td>\n",
       "      <td>NaN</td>\n",
       "      <td>Fever, Cough, Sore throat, Runny nose, Chest p...</td>\n",
       "      <td>2021-02-25</td>\n",
       "      <td>2021-07-30</td>\n",
       "      <td>Positive</td>\n",
       "      <td>2021-02-03</td>\n",
       "    </tr>\n",
       "    <tr>\n",
       "      <th>24410</th>\n",
       "      <td>KEMRI_02_93781</td>\n",
       "      <td>46.0</td>\n",
       "      <td>M</td>\n",
       "      <td>NaN</td>\n",
       "      <td>Kenya</td>\n",
       "      <td>Nairobi</td>\n",
       "      <td>Roysambu</td>\n",
       "      <td>No</td>\n",
       "      <td>NaN</td>\n",
       "      <td>NaN</td>\n",
       "      <td>Cough, Difficulty in breathing</td>\n",
       "      <td>2021-02-26</td>\n",
       "      <td>2021-07-30</td>\n",
       "      <td>Positive</td>\n",
       "      <td>2021-02-03</td>\n",
       "    </tr>\n",
       "    <tr>\n",
       "      <th>24411</th>\n",
       "      <td>KEMRI_02_93791</td>\n",
       "      <td>34.0</td>\n",
       "      <td>F</td>\n",
       "      <td>NaN</td>\n",
       "      <td>Kenya</td>\n",
       "      <td>Nairobi</td>\n",
       "      <td>Ruaraka</td>\n",
       "      <td>No</td>\n",
       "      <td>NaN</td>\n",
       "      <td>NaN</td>\n",
       "      <td>Cough, Sore throat, Confusion, Shortness of br...</td>\n",
       "      <td>2021-01-03</td>\n",
       "      <td>2021-07-30</td>\n",
       "      <td>Positive</td>\n",
       "      <td>2021-02-03</td>\n",
       "    </tr>\n",
       "    <tr>\n",
       "      <th>24412</th>\n",
       "      <td>KEMRI_02_93792</td>\n",
       "      <td>45.0</td>\n",
       "      <td>M</td>\n",
       "      <td>NaN</td>\n",
       "      <td>Kenya</td>\n",
       "      <td>Nairobi</td>\n",
       "      <td>Dagoretti south</td>\n",
       "      <td>No</td>\n",
       "      <td>NaN</td>\n",
       "      <td>NaN</td>\n",
       "      <td>NaN</td>\n",
       "      <td>2021-01-03</td>\n",
       "      <td>2021-07-30</td>\n",
       "      <td>Positive</td>\n",
       "      <td>2021-02-03</td>\n",
       "    </tr>\n",
       "    <tr>\n",
       "      <th>24413</th>\n",
       "      <td>KEMRI_02_93806</td>\n",
       "      <td>31.0</td>\n",
       "      <td>F</td>\n",
       "      <td>NaN</td>\n",
       "      <td>Kenya</td>\n",
       "      <td>Kiambu</td>\n",
       "      <td>Kiambaa</td>\n",
       "      <td>No</td>\n",
       "      <td>NaN</td>\n",
       "      <td>NaN</td>\n",
       "      <td>General weakness, Cough, Diarrhoea</td>\n",
       "      <td>2021-01-03</td>\n",
       "      <td>2021-07-30</td>\n",
       "      <td>Positive</td>\n",
       "      <td>2021-02-03</td>\n",
       "    </tr>\n",
       "  </tbody>\n",
       "</table>\n",
       "<p>84 rows × 15 columns</p>\n",
       "</div>"
      ],
      "text/plain": [
       "                S_NUM  AGE_YRS GEND OCCU    NAT  COUNT_RES      S_COUNT_RES  \\\n",
       "24330  KEMRI_01_89431     44.0    M  NaN  Kenya  Kirinyaga             Mwea   \n",
       "24331  KEMRI_01_89447     28.0    F  NaN  Kenya  Kirinyaga   Kirinyaga east   \n",
       "24332  KEMRI_01_89476     41.0    M  NaN  Kenya    Nairobi         Kasarani   \n",
       "24333  KEMRI_01_89487     57.0    M  NaN  Kenya     Kiambu       Githunguri   \n",
       "24334  KEMRI_01_89581     53.0    F  NaN  Kenya    Kajiado            Ngong   \n",
       "...               ...      ...  ...  ...    ...        ...              ...   \n",
       "24409  KEMRI_02_93645     37.0    F  NaN  Kenya     Kiambu       Githunguri   \n",
       "24410  KEMRI_02_93781     46.0    M  NaN  Kenya    Nairobi         Roysambu   \n",
       "24411  KEMRI_02_93791     34.0    F  NaN  Kenya    Nairobi          Ruaraka   \n",
       "24412  KEMRI_02_93792     45.0    M  NaN  Kenya    Nairobi  Dagoretti south   \n",
       "24413  KEMRI_02_93806     31.0    F  NaN  Kenya     Kiambu          Kiambaa   \n",
       "\n",
       "      TRAV_HIST TRAV_FROM QUAR_PLACE  \\\n",
       "24330        No       NaN        NaN   \n",
       "24331        No       NaN        NaN   \n",
       "24332        No       NaN        NaN   \n",
       "24333        No       NaN        NaN   \n",
       "24334        No       NaN        NaN   \n",
       "...         ...       ...        ...   \n",
       "24409        No       NaN        NaN   \n",
       "24410        No       NaN        NaN   \n",
       "24411        No       NaN        NaN   \n",
       "24412        No       NaN        NaN   \n",
       "24413        No       NaN        NaN   \n",
       "\n",
       "                                                   SYMPS DT_SAM_COLL  \\\n",
       "24330                                                NaN  2021-01-07   \n",
       "24331                                                NaN  2020-12-24   \n",
       "24332                   sore throat,cough,headache,fever  2021-01-08   \n",
       "24333                                                NaN  2021-01-07   \n",
       "24334                                                NaN  2021-12-01   \n",
       "...                                                  ...         ...   \n",
       "24409  Fever, Cough, Sore throat, Runny nose, Chest p...  2021-02-25   \n",
       "24410                    Cough, Difficulty in breathing   2021-02-26   \n",
       "24411  Cough, Sore throat, Confusion, Shortness of br...  2021-01-03   \n",
       "24412                                                NaN  2021-01-03   \n",
       "24413                 General weakness, Cough, Diarrhoea  2021-01-03   \n",
       "\n",
       "      DT_SAM_RECEP    RESULT    DT_CONF  \n",
       "24330   2021-07-30  Positive 2021-01-11  \n",
       "24331   2021-07-30  Positive 2021-01-11  \n",
       "24332   2021-07-30  Positive 2021-01-11  \n",
       "24333   2021-07-30  Positive 2021-01-11  \n",
       "24334   2021-07-30  Positive 2021-12-01  \n",
       "...            ...       ...        ...  \n",
       "24409   2021-07-30  Positive 2021-02-03  \n",
       "24410   2021-07-30  Positive 2021-02-03  \n",
       "24411   2021-07-30  Positive 2021-02-03  \n",
       "24412   2021-07-30  Positive 2021-02-03  \n",
       "24413   2021-07-30  Positive 2021-02-03  \n",
       "\n",
       "[84 rows x 15 columns]"
      ]
     },
     "execution_count": 27,
     "metadata": {},
     "output_type": "execute_result"
    }
   ],
   "source": [
    "df_metadata[df_metadata['S_NUM'].str.contains('_')]"
   ]
  },
  {
   "cell_type": "code",
   "execution_count": 28,
   "metadata": {},
   "outputs": [],
   "source": [
    "df_sub = df_seq_summ[df_seq_summ['sequence_name'].isin(list(df_metadata['S_NUM'])) == True]"
   ]
  },
  {
   "cell_type": "code",
   "execution_count": 29,
   "metadata": {},
   "outputs": [
    {
     "data": {
      "text/plain": [
       "983"
      ]
     },
     "execution_count": 29,
     "metadata": {},
     "output_type": "execute_result"
    }
   ],
   "source": [
    "len(list(df_sub['sequence_name']))"
   ]
  },
  {
   "cell_type": "code",
   "execution_count": 30,
   "metadata": {},
   "outputs": [],
   "source": [
    "usecols=['S_NUM', 'AGE_YRS', 'COUNT_RES', 'DT_CONF']"
   ]
  },
  {
   "cell_type": "code",
   "execution_count": 31,
   "metadata": {},
   "outputs": [],
   "source": [
    "df_seq_meta = covv_seq_tech.merge(df_metadata[usecols], how='inner', left_on='sequence_name', right_on='S_NUM').drop('S_NUM', axis=1)"
   ]
  },
  {
   "cell_type": "code",
   "execution_count": 32,
   "metadata": {},
   "outputs": [
    {
     "data": {
      "text/html": [
       "<div>\n",
       "<style scoped>\n",
       "    .dataframe tbody tr th:only-of-type {\n",
       "        vertical-align: middle;\n",
       "    }\n",
       "\n",
       "    .dataframe tbody tr th {\n",
       "        vertical-align: top;\n",
       "    }\n",
       "\n",
       "    .dataframe thead th {\n",
       "        text-align: right;\n",
       "    }\n",
       "</style>\n",
       "<table border=\"1\" class=\"dataframe\">\n",
       "  <thead>\n",
       "    <tr style=\"text-align: right;\">\n",
       "      <th></th>\n",
       "      <th>sequence_name</th>\n",
       "      <th>clade</th>\n",
       "      <th>lineage</th>\n",
       "      <th>genome_coverage</th>\n",
       "      <th>run_num</th>\n",
       "      <th>seq_dt</th>\n",
       "      <th>covv_seq_tech</th>\n",
       "      <th>AGE_YRS</th>\n",
       "      <th>COUNT_RES</th>\n",
       "      <th>DT_CONF</th>\n",
       "    </tr>\n",
       "  </thead>\n",
       "  <tbody>\n",
       "    <tr>\n",
       "      <th>0</th>\n",
       "      <td>COVC11310</td>\n",
       "      <td>20C</td>\n",
       "      <td>B.1</td>\n",
       "      <td>59.3</td>\n",
       "      <td>Run1</td>\n",
       "      <td>09-02-2021</td>\n",
       "      <td>Illumina</td>\n",
       "      <td>30.0</td>\n",
       "      <td>Garissa</td>\n",
       "      <td>2020-10-03</td>\n",
       "    </tr>\n",
       "    <tr>\n",
       "      <th>1</th>\n",
       "      <td>COVC11310</td>\n",
       "      <td>20C</td>\n",
       "      <td>B.1</td>\n",
       "      <td>97.0</td>\n",
       "      <td>Run8</td>\n",
       "      <td>25-05-2021</td>\n",
       "      <td>Illumina</td>\n",
       "      <td>30.0</td>\n",
       "      <td>Garissa</td>\n",
       "      <td>2020-10-03</td>\n",
       "    </tr>\n",
       "    <tr>\n",
       "      <th>2</th>\n",
       "      <td>COVC00854</td>\n",
       "      <td>20C</td>\n",
       "      <td>B.1</td>\n",
       "      <td>94.9</td>\n",
       "      <td>Run7</td>\n",
       "      <td>18-05-2021</td>\n",
       "      <td>Illumina</td>\n",
       "      <td>23.0</td>\n",
       "      <td>Nairobi</td>\n",
       "      <td>2020-06-13</td>\n",
       "    </tr>\n",
       "    <tr>\n",
       "      <th>3</th>\n",
       "      <td>COVC00867</td>\n",
       "      <td>20C</td>\n",
       "      <td>B.1.446</td>\n",
       "      <td>68.2</td>\n",
       "      <td>Run7</td>\n",
       "      <td>18-05-2021</td>\n",
       "      <td>Illumina</td>\n",
       "      <td>32.0</td>\n",
       "      <td>Nairobi</td>\n",
       "      <td>2020-06-13</td>\n",
       "    </tr>\n",
       "    <tr>\n",
       "      <th>4</th>\n",
       "      <td>COVC00893</td>\n",
       "      <td>20C</td>\n",
       "      <td>B.1.446</td>\n",
       "      <td>84.1</td>\n",
       "      <td>Run7</td>\n",
       "      <td>18-05-2021</td>\n",
       "      <td>Illumina</td>\n",
       "      <td>31.0</td>\n",
       "      <td>Nairobi</td>\n",
       "      <td>2020-06-13</td>\n",
       "    </tr>\n",
       "  </tbody>\n",
       "</table>\n",
       "</div>"
      ],
      "text/plain": [
       "  sequence_name clade  lineage  genome_coverage run_num      seq_dt  \\\n",
       "0     COVC11310   20C      B.1             59.3    Run1  09-02-2021   \n",
       "1     COVC11310   20C      B.1             97.0    Run8  25-05-2021   \n",
       "2     COVC00854   20C      B.1             94.9    Run7  18-05-2021   \n",
       "3     COVC00867   20C  B.1.446             68.2    Run7  18-05-2021   \n",
       "4     COVC00893   20C  B.1.446             84.1    Run7  18-05-2021   \n",
       "\n",
       "  covv_seq_tech  AGE_YRS COUNT_RES    DT_CONF  \n",
       "0      Illumina     30.0   Garissa 2020-10-03  \n",
       "1      Illumina     30.0   Garissa 2020-10-03  \n",
       "2      Illumina     23.0   Nairobi 2020-06-13  \n",
       "3      Illumina     32.0   Nairobi 2020-06-13  \n",
       "4      Illumina     31.0   Nairobi 2020-06-13  "
      ]
     },
     "execution_count": 32,
     "metadata": {},
     "output_type": "execute_result"
    }
   ],
   "source": [
    "df_seq_meta.head()"
   ]
  },
  {
   "cell_type": "code",
   "execution_count": 33,
   "metadata": {},
   "outputs": [],
   "source": [
    "df_seq_meta.columns = ['sequence_name', 'clade', 'lineage', 'genome_coverage', 'run_num',\n",
    "       'seq_dt', 'seq_tech', 'age_yrs', 'county_res', 'dt_conf']"
   ]
  },
  {
   "cell_type": "code",
   "execution_count": 34,
   "metadata": {},
   "outputs": [
    {
     "data": {
      "text/html": [
       "<div>\n",
       "<style scoped>\n",
       "    .dataframe tbody tr th:only-of-type {\n",
       "        vertical-align: middle;\n",
       "    }\n",
       "\n",
       "    .dataframe tbody tr th {\n",
       "        vertical-align: top;\n",
       "    }\n",
       "\n",
       "    .dataframe thead th {\n",
       "        text-align: right;\n",
       "    }\n",
       "</style>\n",
       "<table border=\"1\" class=\"dataframe\">\n",
       "  <thead>\n",
       "    <tr style=\"text-align: right;\">\n",
       "      <th></th>\n",
       "      <th>sequence_name</th>\n",
       "      <th>clade</th>\n",
       "      <th>lineage</th>\n",
       "      <th>genome_coverage</th>\n",
       "      <th>run_num</th>\n",
       "      <th>seq_dt</th>\n",
       "      <th>seq_tech</th>\n",
       "      <th>age_yrs</th>\n",
       "      <th>county_res</th>\n",
       "      <th>dt_conf</th>\n",
       "    </tr>\n",
       "  </thead>\n",
       "  <tbody>\n",
       "    <tr>\n",
       "      <th>0</th>\n",
       "      <td>COVC11310</td>\n",
       "      <td>20C</td>\n",
       "      <td>B.1</td>\n",
       "      <td>59.3</td>\n",
       "      <td>Run1</td>\n",
       "      <td>09-02-2021</td>\n",
       "      <td>Illumina</td>\n",
       "      <td>30.0</td>\n",
       "      <td>Garissa</td>\n",
       "      <td>2020-10-03</td>\n",
       "    </tr>\n",
       "    <tr>\n",
       "      <th>1</th>\n",
       "      <td>COVC11310</td>\n",
       "      <td>20C</td>\n",
       "      <td>B.1</td>\n",
       "      <td>97.0</td>\n",
       "      <td>Run8</td>\n",
       "      <td>25-05-2021</td>\n",
       "      <td>Illumina</td>\n",
       "      <td>30.0</td>\n",
       "      <td>Garissa</td>\n",
       "      <td>2020-10-03</td>\n",
       "    </tr>\n",
       "    <tr>\n",
       "      <th>2</th>\n",
       "      <td>COVC00854</td>\n",
       "      <td>20C</td>\n",
       "      <td>B.1</td>\n",
       "      <td>94.9</td>\n",
       "      <td>Run7</td>\n",
       "      <td>18-05-2021</td>\n",
       "      <td>Illumina</td>\n",
       "      <td>23.0</td>\n",
       "      <td>Nairobi</td>\n",
       "      <td>2020-06-13</td>\n",
       "    </tr>\n",
       "    <tr>\n",
       "      <th>3</th>\n",
       "      <td>COVC00867</td>\n",
       "      <td>20C</td>\n",
       "      <td>B.1.446</td>\n",
       "      <td>68.2</td>\n",
       "      <td>Run7</td>\n",
       "      <td>18-05-2021</td>\n",
       "      <td>Illumina</td>\n",
       "      <td>32.0</td>\n",
       "      <td>Nairobi</td>\n",
       "      <td>2020-06-13</td>\n",
       "    </tr>\n",
       "    <tr>\n",
       "      <th>4</th>\n",
       "      <td>COVC00893</td>\n",
       "      <td>20C</td>\n",
       "      <td>B.1.446</td>\n",
       "      <td>84.1</td>\n",
       "      <td>Run7</td>\n",
       "      <td>18-05-2021</td>\n",
       "      <td>Illumina</td>\n",
       "      <td>31.0</td>\n",
       "      <td>Nairobi</td>\n",
       "      <td>2020-06-13</td>\n",
       "    </tr>\n",
       "  </tbody>\n",
       "</table>\n",
       "</div>"
      ],
      "text/plain": [
       "  sequence_name clade  lineage  genome_coverage run_num      seq_dt  seq_tech  \\\n",
       "0     COVC11310   20C      B.1             59.3    Run1  09-02-2021  Illumina   \n",
       "1     COVC11310   20C      B.1             97.0    Run8  25-05-2021  Illumina   \n",
       "2     COVC00854   20C      B.1             94.9    Run7  18-05-2021  Illumina   \n",
       "3     COVC00867   20C  B.1.446             68.2    Run7  18-05-2021  Illumina   \n",
       "4     COVC00893   20C  B.1.446             84.1    Run7  18-05-2021  Illumina   \n",
       "\n",
       "   age_yrs county_res    dt_conf  \n",
       "0     30.0    Garissa 2020-10-03  \n",
       "1     30.0    Garissa 2020-10-03  \n",
       "2     23.0    Nairobi 2020-06-13  \n",
       "3     32.0    Nairobi 2020-06-13  \n",
       "4     31.0    Nairobi 2020-06-13  "
      ]
     },
     "execution_count": 34,
     "metadata": {},
     "output_type": "execute_result"
    }
   ],
   "source": [
    "df_seq_meta.head()"
   ]
  },
  {
   "cell_type": "code",
   "execution_count": 35,
   "metadata": {},
   "outputs": [
    {
     "name": "stdout",
     "output_type": "stream",
     "text": [
      "<class 'pandas.core.frame.DataFrame'>\n",
      "Int64Index: 983 entries, 0 to 982\n",
      "Data columns (total 10 columns):\n",
      " #   Column           Non-Null Count  Dtype         \n",
      "---  ------           --------------  -----         \n",
      " 0   sequence_name    983 non-null    object        \n",
      " 1   clade            955 non-null    object        \n",
      " 2   lineage          983 non-null    object        \n",
      " 3   genome_coverage  983 non-null    float64       \n",
      " 4   run_num          983 non-null    object        \n",
      " 5   seq_dt           983 non-null    object        \n",
      " 6   seq_tech         983 non-null    object        \n",
      " 7   age_yrs          901 non-null    float64       \n",
      " 8   county_res       955 non-null    object        \n",
      " 9   dt_conf          983 non-null    datetime64[ns]\n",
      "dtypes: datetime64[ns](1), float64(2), object(7)\n",
      "memory usage: 84.5+ KB\n"
     ]
    }
   ],
   "source": [
    "df_seq_meta.info()"
   ]
  },
  {
   "cell_type": "code",
   "execution_count": 36,
   "metadata": {},
   "outputs": [],
   "source": [
    "df_gby_lin = df_seq_meta.groupby('lineage').count()#, as_index=False"
   ]
  },
  {
   "cell_type": "code",
   "execution_count": 37,
   "metadata": {},
   "outputs": [],
   "source": [
    "clr_code = {'A.23': ('lime', '#00FF00'), 'A.23.1': ('gray', '#808080'), 'A.25': ('orangered', '#FF4500'),\n",
    " 'B.1': ('cyan', '#00FFFF'), 'B.1.1': ('chocolate', '#D2691E'), 'B.1.1.171': ('teal', '#008080'),\n",
    " 'B.1.1.406': ('slategray', '#708090'), 'B.1.1.7': ('orange', '#FFA500'), 'B.1.103': ('seagreen', '#2E8B57'),\n",
    " 'B.1.143': ('olive', '#808000'), 'B.1.160': ('honeydew', '#FFD700'), 'B.1.214': ('gold', '#8FBC8F'),\n",
    " 'B.1.276': ('aquamarine', '#006400'), 'B.1.302': ('yellowgreen', '#9ACD32'), 'B.1.336': ('tan', '#D2B48C'),\n",
    " 'B.1.343': ('indigo', '#4B0082'), 'B.1.349': ('mediumpurple', '#9370DB'), 'B.1.351': ('blue', '#0000FF'),\n",
    " 'B.1.378': ('darkslateblue', '#483D8B'), 'B.1.388': ('sienna', '#A0522D'), 'B.1.390': ('darkkhaki', '#BDB76B'),\n",
    " 'B.1.429': ('khaki', '#F0E68C'), 'B.1.433': ('dodgerblue', '#1E90FF'), 'B.1.446': ('palevioletred', '#DB7093'),\n",
    " 'B.1.517': ('yellow', '#FFFF00'), 'B.1.520': ('floralwhite', '#6495ED'), 'B.1.525': ('green', '#008000'),\n",
    " 'B.1.530': ('red', '#AFEEEE'), 'B.1.535': ('purple', '#800080'), 'B.1.549': ('brown', '#A52A2A'),\n",
    " 'B.1.551': ('chocolate', '#D2691E'), 'B.1.596': ('steelblue', '#4682B4'), 'B.1.596.1': ('magenta', '#FF00FF'),\n",
    " 'B.1.605': ('rosybrown', '#BC8F8F'), 'B.1.612': ('goldenrod', '#DAA520'), 'B.1.617.2': ('paleturquoise', '#FF0000'),\n",
    " 'TBA10': ('lavender', '#E6E6FA'),\n",
    "'TBA12': ('pink', '#FFC0CB'),\n",
    "'TBA14': ('seashell', '#FFFAF0'),\n",
    "'TBA16': ('mediumvioletred', '#C71585'),\n",
    "'TBA18': ('black', '#000000'),\n",
    "'TBA2': ('cornflowerblue', '#FFF5EE'),\n",
    "'TBA20': ('saddlebrown', '#8B4513'),\n",
    "'TBA21': ('wheat', '#F5DEB3'),\n",
    "'TBA22': ('slategray', '#708090'),\n",
    "'TBA23': ('silver', '#C0C0C0'),\n",
    "'TBA4': ('midnightblue', '#191970'),\n",
    "'TBA6': ('darkgreen', '#7FFFD4'),\n",
    "'TBA8': ('darkseagreen', '#F0FFF0'),\n",
    "'c': ('cyan', 'c'),\n",
    "'m': ('magenta', 'm'),\n",
    "'k': ('black', 'k')}\n",
    "avail_clr = ['TBA2', 'TBA4', 'TBA6', 'TBA8', 'TBA10', 'TBA12', 'TBA14', 'TBA16', 'TBA18', 'TBA20', 'TBA21',\n",
    " 'TBA22', 'TBA23', 'c', 'm', 'k']"
   ]
  },
  {
   "cell_type": "code",
   "execution_count": 38,
   "metadata": {
    "tags": []
   },
   "outputs": [],
   "source": [
    "clr_code_keys = list(clr_code.keys())"
   ]
  },
  {
   "cell_type": "code",
   "execution_count": 39,
   "metadata": {},
   "outputs": [],
   "source": [
    "lins = df_gby_lin.sequence_name.sort_values(ascending=False)#.index\n",
    "# lins"
   ]
  },
  {
   "cell_type": "code",
   "execution_count": 40,
   "metadata": {},
   "outputs": [],
   "source": [
    "lin_to_be_assinged =  set(lins.index) - set(clr_code_keys)\n",
    "# lin_to_be_assinged"
   ]
  },
  {
   "cell_type": "code",
   "execution_count": 41,
   "metadata": {},
   "outputs": [],
   "source": [
    "import pprint\n",
    "for lin, clr in zip(lin_to_be_assinged, avail_clr):\n",
    "#     print(lin, clr)\n",
    "    clr_code[lin] = clr_code.pop(clr)\n",
    "    avail_clr.remove(clr)"
   ]
  },
  {
   "cell_type": "code",
   "execution_count": 42,
   "metadata": {},
   "outputs": [
    {
     "name": "stdout",
     "output_type": "stream",
     "text": [
      "['TBA4', 'TBA8', 'TBA12', 'TBA16', 'TBA20', 'TBA22', 'c', 'k']\n"
     ]
    }
   ],
   "source": [
    "# pprint.pprint(clr_code)\n",
    "pprint.pprint(avail_clr)"
   ]
  },
  {
   "cell_type": "code",
   "execution_count": 43,
   "metadata": {},
   "outputs": [],
   "source": [
    "def replace_with_who_lin(x):\n",
    "    if x == 'B.1.1.7':\n",
    "        return x.replace(x, 'B.1.1.7(Alpha)')\n",
    "    if x == 'B.1.617.2':\n",
    "        return x.replace(x, 'B.1.617.2(Delta)')\n",
    "    if x == 'B.1.351':\n",
    "        return x.replace(x, 'B.1.351(Beta)')\n",
    "    if x == 'B.1.525':\n",
    "        return x.replace(x, 'B.1.525(Eta)')\n",
    "    return x\n",
    "    "
   ]
  },
  {
   "cell_type": "code",
   "execution_count": 44,
   "metadata": {
    "tags": []
   },
   "outputs": [],
   "source": [
    "ylabels = list(map(replace_with_who_lin,list(lins.index)))"
   ]
  },
  {
   "cell_type": "code",
   "execution_count": 45,
   "metadata": {},
   "outputs": [],
   "source": [
    "lins.index=ylabels"
   ]
  },
  {
   "cell_type": "code",
   "execution_count": 46,
   "metadata": {},
   "outputs": [
    {
     "data": {
      "text/plain": [
       "983"
      ]
     },
     "execution_count": 46,
     "metadata": {},
     "output_type": "execute_result"
    }
   ],
   "source": [
    "lins.values.sum()"
   ]
  },
  {
   "cell_type": "code",
   "execution_count": 47,
   "metadata": {},
   "outputs": [
    {
     "data": {
      "text/plain": [
       "292"
      ]
     },
     "execution_count": 47,
     "metadata": {},
     "output_type": "execute_result"
    }
   ],
   "source": [
    "max_count = lins.max()\n",
    "max_count"
   ]
  },
  {
   "cell_type": "code",
   "execution_count": 48,
   "metadata": {},
   "outputs": [
    {
     "data": {
      "image/png": "[encoded data removed]",
      "text/plain": [
       "<Figure size 720x360 with 1 Axes>"
      ]
     },
     "metadata": {
      "needs_background": "light"
     },
     "output_type": "display_data"
    }
   ],
   "source": [
    "import math\n",
    "width = lins.sort_values(ascending=True)\n",
    "\n",
    "# colors = [clr_code[lin.split('(')[0]][1] for lin in width.index]\n",
    "colors = [clr_code[lin][1] for lin in clr_code.keys()]\n",
    "n = len(lins) - 2\n",
    "m = sum(lins)\n",
    "xticks = np.arange(0, (math.ceil(max_count / 5) + 1) * 5, 5)\n",
    "fig, ax =plt.subplots(1, 1, figsize=(10,5))\n",
    "ax.set_facecolor(\"#E5E4E2\")##E5E4E2\n",
    "\n",
    "plt.barh(width.index, width, height=0.7, log=False, color=colors)#, logy=True\n",
    "plt.xticks(xticks, xticks, rotation=90)\n",
    "plt.yticks(width.index, fontsize=7)\n",
    "plt.grid(which='major', axis='x', ls='--', color='w')\n",
    "plt.ylabel(f'Lineages ({n})')\n",
    "plt.xlabel(f'Counts (N={m})')\n",
    "plt.title('Lineage Frequencies', fontdict)\n",
    "plt.tight_layout()\n",
    "fig.savefig(f'/home/douso/SarsGenomics/Processed/report-lineages_{dt}.png', dpi=300.0)\n",
    "plt.show()"
   ]
  },
  {
   "cell_type": "code",
   "execution_count": 49,
   "metadata": {},
   "outputs": [
    {
     "data": {
      "text/plain": [
       "24314"
      ]
     },
     "execution_count": 49,
     "metadata": {},
     "output_type": "execute_result"
    }
   ],
   "source": [
    "df_metadata.shape[0]-153"
   ]
  },
  {
   "cell_type": "code",
   "execution_count": 50,
   "metadata": {},
   "outputs": [],
   "source": [
    "df_1 = df_metadata[df_metadata['S_NUM'].str.contains('COV') == False]#.shape#.\\\n",
    "# to_excel('/home/douso/Downloads/fjjsfbfdbfb.xlsx')"
   ]
  },
  {
   "cell_type": "code",
   "execution_count": 51,
   "metadata": {},
   "outputs": [],
   "source": [
    "df_2 = df_metadata[df_metadata['S_NUM'].str.contains('COVC') == False]#.shape#.\\\n",
    "# to_excel('/home/douso/Downloads/fjjsfbfdbfb.xlsx')"
   ]
  },
  {
   "cell_type": "code",
   "execution_count": 52,
   "metadata": {},
   "outputs": [
    {
     "data": {
      "text/plain": [
       "{'COVE20',\n",
       " 'COVE21',\n",
       " 'MOH-COV-1',\n",
       " 'MOH-COV-2',\n",
       " 'MOH-COV-3',\n",
       " 'MOH-COV-4',\n",
       " 'MOH-COV-5',\n",
       " 'MOH-COV-6'}"
      ]
     },
     "execution_count": 52,
     "metadata": {},
     "output_type": "execute_result"
    }
   ],
   "source": [
    "set(df_2['S_NUM']) - set(df_1['S_NUM'])"
   ]
  },
  {
   "cell_type": "code",
   "execution_count": 69,
   "metadata": {},
   "outputs": [],
   "source": [
    "df_covs = df_metadata[df_metadata['S_NUM'].str.contains('COV') == True]#.shape"
   ]
  },
  {
   "cell_type": "code",
   "execution_count": 54,
   "metadata": {},
   "outputs": [
    {
     "data": {
      "text/html": [
       "<div>\n",
       "<style scoped>\n",
       "    .dataframe tbody tr th:only-of-type {\n",
       "        vertical-align: middle;\n",
       "    }\n",
       "\n",
       "    .dataframe tbody tr th {\n",
       "        vertical-align: top;\n",
       "    }\n",
       "\n",
       "    .dataframe thead th {\n",
       "        text-align: right;\n",
       "    }\n",
       "</style>\n",
       "<table border=\"1\" class=\"dataframe\">\n",
       "  <thead>\n",
       "    <tr style=\"text-align: right;\">\n",
       "      <th></th>\n",
       "      <th>S_NUM</th>\n",
       "      <th>AGE_YRS</th>\n",
       "      <th>GEND</th>\n",
       "      <th>OCCU</th>\n",
       "      <th>NAT</th>\n",
       "      <th>COUNT_RES</th>\n",
       "      <th>S_COUNT_RES</th>\n",
       "      <th>TRAV_HIST</th>\n",
       "      <th>TRAV_FROM</th>\n",
       "      <th>QUAR_PLACE</th>\n",
       "      <th>SYMPS</th>\n",
       "      <th>DT_SAM_COLL</th>\n",
       "      <th>DT_SAM_RECEP</th>\n",
       "      <th>RESULT</th>\n",
       "      <th>DT_CONF</th>\n",
       "    </tr>\n",
       "  </thead>\n",
       "  <tbody>\n",
       "    <tr>\n",
       "      <th>0</th>\n",
       "      <td>COVC00001</td>\n",
       "      <td>35.0</td>\n",
       "      <td>F</td>\n",
       "      <td>Refugee</td>\n",
       "      <td>NaN</td>\n",
       "      <td>Garissa</td>\n",
       "      <td>Dadaab</td>\n",
       "      <td>No</td>\n",
       "      <td>NaN</td>\n",
       "      <td>NaN</td>\n",
       "      <td>NaN</td>\n",
       "      <td>NaT</td>\n",
       "      <td>NaT</td>\n",
       "      <td>Negative</td>\n",
       "      <td>2020-06-02</td>\n",
       "    </tr>\n",
       "    <tr>\n",
       "      <th>1</th>\n",
       "      <td>COVC00002</td>\n",
       "      <td>29.0</td>\n",
       "      <td>M</td>\n",
       "      <td>Refugee</td>\n",
       "      <td>NaN</td>\n",
       "      <td>Garissa</td>\n",
       "      <td>Dadaab</td>\n",
       "      <td>No</td>\n",
       "      <td>NaN</td>\n",
       "      <td>NaN</td>\n",
       "      <td>NaN</td>\n",
       "      <td>NaT</td>\n",
       "      <td>NaT</td>\n",
       "      <td>Negative</td>\n",
       "      <td>2020-06-02</td>\n",
       "    </tr>\n",
       "    <tr>\n",
       "      <th>2</th>\n",
       "      <td>COVC00003</td>\n",
       "      <td>50.0</td>\n",
       "      <td>M</td>\n",
       "      <td>Refugee</td>\n",
       "      <td>NaN</td>\n",
       "      <td>Garissa</td>\n",
       "      <td>Dadaab</td>\n",
       "      <td>No</td>\n",
       "      <td>NaN</td>\n",
       "      <td>NaN</td>\n",
       "      <td>NaN</td>\n",
       "      <td>NaT</td>\n",
       "      <td>NaT</td>\n",
       "      <td>Negative</td>\n",
       "      <td>2020-06-02</td>\n",
       "    </tr>\n",
       "    <tr>\n",
       "      <th>3</th>\n",
       "      <td>COVC00004</td>\n",
       "      <td>35.0</td>\n",
       "      <td>F</td>\n",
       "      <td>Casual</td>\n",
       "      <td>NaN</td>\n",
       "      <td>Garissa</td>\n",
       "      <td>Dadaab</td>\n",
       "      <td>No</td>\n",
       "      <td>NaN</td>\n",
       "      <td>NaN</td>\n",
       "      <td>NaN</td>\n",
       "      <td>NaT</td>\n",
       "      <td>NaT</td>\n",
       "      <td>Negative</td>\n",
       "      <td>2020-06-02</td>\n",
       "    </tr>\n",
       "    <tr>\n",
       "      <th>4</th>\n",
       "      <td>COVC00005</td>\n",
       "      <td>27.0</td>\n",
       "      <td>F</td>\n",
       "      <td>Refugee</td>\n",
       "      <td>NaN</td>\n",
       "      <td>Garissa</td>\n",
       "      <td>Dadaab</td>\n",
       "      <td>No</td>\n",
       "      <td>NaN</td>\n",
       "      <td>NaN</td>\n",
       "      <td>NaN</td>\n",
       "      <td>NaT</td>\n",
       "      <td>NaT</td>\n",
       "      <td>Negative</td>\n",
       "      <td>2020-06-02</td>\n",
       "    </tr>\n",
       "  </tbody>\n",
       "</table>\n",
       "</div>"
      ],
      "text/plain": [
       "       S_NUM  AGE_YRS GEND     OCCU  NAT COUNT_RES S_COUNT_RES TRAV_HIST  \\\n",
       "0  COVC00001     35.0    F  Refugee  NaN   Garissa      Dadaab        No   \n",
       "1  COVC00002     29.0    M  Refugee  NaN   Garissa      Dadaab        No   \n",
       "2  COVC00003     50.0    M  Refugee  NaN   Garissa      Dadaab        No   \n",
       "3  COVC00004     35.0    F   Casual  NaN   Garissa      Dadaab        No   \n",
       "4  COVC00005     27.0    F  Refugee  NaN   Garissa      Dadaab        No   \n",
       "\n",
       "  TRAV_FROM QUAR_PLACE SYMPS DT_SAM_COLL DT_SAM_RECEP    RESULT    DT_CONF  \n",
       "0       NaN        NaN   NaN         NaT          NaT  Negative 2020-06-02  \n",
       "1       NaN        NaN   NaN         NaT          NaT  Negative 2020-06-02  \n",
       "2       NaN        NaN   NaN         NaT          NaT  Negative 2020-06-02  \n",
       "3       NaN        NaN   NaN         NaT          NaT  Negative 2020-06-02  \n",
       "4       NaN        NaN   NaN         NaT          NaT  Negative 2020-06-02  "
      ]
     },
     "execution_count": 54,
     "metadata": {},
     "output_type": "execute_result"
    }
   ],
   "source": [
    "df_covs.head()#shape"
   ]
  },
  {
   "cell_type": "code",
   "execution_count": 55,
   "metadata": {},
   "outputs": [
    {
     "data": {
      "text/plain": [
       "Negative    20708\n",
       "Positive     3441\n",
       "ms              7\n",
       "Name: RESULT, dtype: int64"
      ]
     },
     "execution_count": 55,
     "metadata": {},
     "output_type": "execute_result"
    }
   ],
   "source": [
    "df_covs['RESULT'].value_counts(dropna=False)"
   ]
  },
  {
   "cell_type": "code",
   "execution_count": 56,
   "metadata": {},
   "outputs": [
    {
     "data": {
      "text/plain": [
       "(24156, 15)"
      ]
     },
     "execution_count": 56,
     "metadata": {},
     "output_type": "execute_result"
    }
   ],
   "source": [
    "df_covs.shape"
   ]
  },
  {
   "cell_type": "code",
   "execution_count": 57,
   "metadata": {},
   "outputs": [],
   "source": [
    "top10 = df_covs['COUNT_RES'].value_counts()[:10]"
   ]
  },
  {
   "cell_type": "code",
   "execution_count": 58,
   "metadata": {},
   "outputs": [
    {
     "data": {
      "text/plain": [
       "COUNT_RES  RESULT  \n",
       "Nairobi    Negative    8001\n",
       "           Positive     970\n",
       "           ms             5\n",
       "Kiambu     Negative    4129\n",
       "           Positive    1321\n",
       "           ms             1\n",
       "Mombasa    Negative    3642\n",
       "           Positive     499\n",
       "Nakuru     Negative     937\n",
       "           Positive     238\n",
       "Laikipia   Negative     942\n",
       "           Positive     112\n",
       "Nyeri      Negative     672\n",
       "           Positive      41\n",
       "           ms             1\n",
       "Garissa    Negative     623\n",
       "           Positive      54\n",
       "Kajiado    Negative     480\n",
       "           Positive      48\n",
       "Machakos   Negative     271\n",
       "           Positive      15\n",
       "Murang'a   Negative     213\n",
       "           Positive      34\n",
       "Name: S_NUM, dtype: int64"
      ]
     },
     "execution_count": 58,
     "metadata": {},
     "output_type": "execute_result"
    }
   ],
   "source": [
    "df_pos_count = df_covs.groupby(['COUNT_RES', 'RESULT']).count().T[list(top10.index)].loc['S_NUM']#.sort_values('S_NUM', ascending=False)\n",
    "df_pos_count"
   ]
  },
  {
   "cell_type": "code",
   "execution_count": 57,
   "metadata": {},
   "outputs": [
    {
     "data": {
      "text/plain": [
       "<AxesSubplot:xlabel='COUNT_RES,RESULT'>"
      ]
     },
     "execution_count": 57,
     "metadata": {},
     "output_type": "execute_result"
    },
    {
     "data": {
      "image/png": "[encoded data removed]",
      "text/plain": [
       "<Figure size 432x288 with 1 Axes>"
      ]
     },
     "metadata": {
      "needs_background": "light"
     },
     "output_type": "display_data"
    }
   ],
   "source": [
    "df_pos_count.plot.bar(color=['c', 'b', 'g'], stacked=True)\n"
   ]
  },
  {
   "cell_type": "code",
   "execution_count": 73,
   "metadata": {},
   "outputs": [
    {
     "data": {
      "image/png": "[encoded data removed]",
      "text/plain": [
       "<Figure size 432x288 with 1 Axes>"
      ]
     },
     "metadata": {
      "needs_background": "light"
     },
     "output_type": "display_data"
    }
   ],
   "source": [
    "import math\n",
    "width = df_covs['COUNT_RES'].value_counts()[:10].sort_values(ascending=True)\n",
    "\n",
    "max_count = max(width)\n",
    "# colors = [clr_code[lin.split('(')[0]][1] for lin in width.index]\n",
    "# n = len(lins) - 2\n",
    "m = sum(width)\n",
    "n = df_covs.shape[0]\n",
    "xticks = np.arange(0, (math.ceil(max_count / 500) + 1) * 500, 500)\n",
    "fig, ax =plt.subplots()\n",
    "# ax.set_facecolor(\"#E5E4E2\")##E5E4E2\n",
    "\n",
    "plt.barh(width.index, width, height=0.7, color=['purple', 'm', 'b',\n",
    "                                                'y', 'c', 'k',\n",
    "                                                'brown', 'gray',\n",
    "                                               'pink', 'g'])#, logy=True\n",
    "plt.xticks(xticks, xticks, rotation=90)\n",
    "plt.yticks(width.index, fontsize=7)\n",
    "plt.grid(which='major', axis='x', ls='--', color='lightgray')\n",
    "plt.ylabel('Counties')\n",
    "plt.xlabel(f'Counts (N={m};{round(m/n*100, 1)}%)')\n",
    "plt.title('Top 10 Counties Tested', fontdict)\n",
    "plt.tight_layout()\n",
    "# fig.savefig(f'/home/douso/SarsGenomics/Processed/report-top10Counties_{dt}.png', dpi=300.0)\n",
    "plt.show()"
   ]
  },
  {
   "cell_type": "code",
   "execution_count": 60,
   "metadata": {},
   "outputs": [
    {
     "data": {
      "text/plain": [
       "Negative    20708\n",
       "Positive     3441\n",
       "ms              7\n",
       "Name: RESULT, dtype: int64"
      ]
     },
     "execution_count": 60,
     "metadata": {},
     "output_type": "execute_result"
    }
   ],
   "source": [
    "df_covs['RESULT'].value_counts(dropna=True)#[2]"
   ]
  },
  {
   "cell_type": "code",
   "execution_count": 85,
   "metadata": {},
   "outputs": [
    {
     "data": {
      "image/png": "[encoded data removed]",
      "text/plain": [
       "<Figure size 432x288 with 1 Axes>"
      ]
     },
     "metadata": {},
     "output_type": "display_data"
    }
   ],
   "source": [
    "fig,ax = plt.subplots()\n",
    "\n",
    "data = df_covs['RESULT'].value_counts()[:3]\n",
    "pct = (np.array(data)/np.array(data).sum()*100).round(2)\n",
    "plt.pie(data, labels=[f'Neg ({pct[0]}%)', \n",
    "                      f'Pos ({pct[1]}%)', \n",
    "                      f'Emp ({pct[2]}%)'], labeldistance=1.02, radius=1.5)\n",
    "# ax.set_title('Proportions for Test Outcome', fontdict, pad=1.1)\n",
    "# fig.savefig(f'/home/douso/SarsGenomics/Processed/report-results_{dt}.png', dpi=300)\n",
    "plt.show()"
   ]
  },
  {
   "cell_type": "code",
   "execution_count": 62,
   "metadata": {},
   "outputs": [],
   "source": [
    "df_ts = df_seq_meta.set_index('dt_conf').sort_index()"
   ]
  },
  {
   "cell_type": "code",
   "execution_count": 63,
   "metadata": {},
   "outputs": [
    {
     "data": {
      "text/html": [
       "<div>\n",
       "<style scoped>\n",
       "    .dataframe tbody tr th:only-of-type {\n",
       "        vertical-align: middle;\n",
       "    }\n",
       "\n",
       "    .dataframe tbody tr th {\n",
       "        vertical-align: top;\n",
       "    }\n",
       "\n",
       "    .dataframe thead th {\n",
       "        text-align: right;\n",
       "    }\n",
       "</style>\n",
       "<table border=\"1\" class=\"dataframe\">\n",
       "  <thead>\n",
       "    <tr style=\"text-align: right;\">\n",
       "      <th></th>\n",
       "      <th>sequence_name</th>\n",
       "      <th>clade</th>\n",
       "      <th>lineage</th>\n",
       "      <th>genome_coverage</th>\n",
       "      <th>run_num</th>\n",
       "      <th>seq_dt</th>\n",
       "      <th>seq_tech</th>\n",
       "      <th>age_yrs</th>\n",
       "      <th>county_res</th>\n",
       "    </tr>\n",
       "    <tr>\n",
       "      <th>dt_conf</th>\n",
       "      <th></th>\n",
       "      <th></th>\n",
       "      <th></th>\n",
       "      <th></th>\n",
       "      <th></th>\n",
       "      <th></th>\n",
       "      <th></th>\n",
       "      <th></th>\n",
       "      <th></th>\n",
       "    </tr>\n",
       "  </thead>\n",
       "  <tbody>\n",
       "    <tr>\n",
       "      <th>2020-06-13</th>\n",
       "      <td>COVC00854</td>\n",
       "      <td>20C</td>\n",
       "      <td>B.1</td>\n",
       "      <td>94.9</td>\n",
       "      <td>Run7</td>\n",
       "      <td>18-05-2021</td>\n",
       "      <td>Illumina</td>\n",
       "      <td>23.0</td>\n",
       "      <td>Nairobi</td>\n",
       "    </tr>\n",
       "    <tr>\n",
       "      <th>2020-06-13</th>\n",
       "      <td>COVC00867</td>\n",
       "      <td>20C</td>\n",
       "      <td>B.1.446</td>\n",
       "      <td>68.2</td>\n",
       "      <td>Run7</td>\n",
       "      <td>18-05-2021</td>\n",
       "      <td>Illumina</td>\n",
       "      <td>32.0</td>\n",
       "      <td>Nairobi</td>\n",
       "    </tr>\n",
       "    <tr>\n",
       "      <th>2020-06-13</th>\n",
       "      <td>COVC00893</td>\n",
       "      <td>20C</td>\n",
       "      <td>B.1.446</td>\n",
       "      <td>84.1</td>\n",
       "      <td>Run7</td>\n",
       "      <td>18-05-2021</td>\n",
       "      <td>Illumina</td>\n",
       "      <td>31.0</td>\n",
       "      <td>Nairobi</td>\n",
       "    </tr>\n",
       "    <tr>\n",
       "      <th>2020-06-13</th>\n",
       "      <td>COVC00915</td>\n",
       "      <td>NaN</td>\n",
       "      <td>Failed</td>\n",
       "      <td>0.0</td>\n",
       "      <td>Run7</td>\n",
       "      <td>18-05-2021</td>\n",
       "      <td>Illumina</td>\n",
       "      <td>22.0</td>\n",
       "      <td>Nairobi</td>\n",
       "    </tr>\n",
       "    <tr>\n",
       "      <th>2020-06-14</th>\n",
       "      <td>COVC00998</td>\n",
       "      <td>20C</td>\n",
       "      <td>B.1</td>\n",
       "      <td>94.0</td>\n",
       "      <td>Run7</td>\n",
       "      <td>18-05-2021</td>\n",
       "      <td>Illumina</td>\n",
       "      <td>25.0</td>\n",
       "      <td>Nairobi</td>\n",
       "    </tr>\n",
       "  </tbody>\n",
       "</table>\n",
       "</div>"
      ],
      "text/plain": [
       "           sequence_name clade  lineage  genome_coverage run_num      seq_dt  \\\n",
       "dt_conf                                                                        \n",
       "2020-06-13     COVC00854   20C      B.1             94.9    Run7  18-05-2021   \n",
       "2020-06-13     COVC00867   20C  B.1.446             68.2    Run7  18-05-2021   \n",
       "2020-06-13     COVC00893   20C  B.1.446             84.1    Run7  18-05-2021   \n",
       "2020-06-13     COVC00915   NaN   Failed              0.0    Run7  18-05-2021   \n",
       "2020-06-14     COVC00998   20C      B.1             94.0    Run7  18-05-2021   \n",
       "\n",
       "            seq_tech  age_yrs county_res  \n",
       "dt_conf                                   \n",
       "2020-06-13  Illumina     23.0    Nairobi  \n",
       "2020-06-13  Illumina     32.0    Nairobi  \n",
       "2020-06-13  Illumina     31.0    Nairobi  \n",
       "2020-06-13  Illumina     22.0    Nairobi  \n",
       "2020-06-14  Illumina     25.0    Nairobi  "
      ]
     },
     "execution_count": 63,
     "metadata": {},
     "output_type": "execute_result"
    }
   ],
   "source": [
    "df_ts.head()"
   ]
  },
  {
   "cell_type": "code",
   "execution_count": 64,
   "metadata": {},
   "outputs": [
    {
     "data": {
      "image/png": "[encoded data removed]",
      "text/plain": [
       "<Figure size 720x360 with 1 Axes>"
      ]
     },
     "metadata": {
      "needs_background": "light"
     },
     "output_type": "display_data"
    }
   ],
   "source": [
    "import numpy as np\n",
    "from scipy.interpolate import interp1d\n",
    "\n",
    "fig, ax = plt.subplots(figsize=(10, 5))\n",
    "\n",
    "tests = df_ts['lineage'].resample('W').count()\n",
    "# pos = df_tseries0['RESULT'].resample('W').count()\n",
    "# neg = df_tseries1['RESULT'].resample('W').count()\n",
    "\n",
    "tests.plot(ax=ax, marker='o', linestyle='-', label='tests')\n",
    "# neg.plot(ax=ax, marker='o', linestyle='-', label='negaives')\n",
    "# pos.plot(ax=ax, marker='o', linestyle='-', label='positives')\n",
    "\n",
    "plt.xlabel('Weeks')\n",
    "plt.ylabel('Number of samples')\n",
    "# plt.legend()\n",
    "plt.tight_layout()\n",
    "# fig.savefig(f'/home/douso/Documents/TrendData/plots/draft_cov_trends_plot-line_{dt}.png')\n",
    "plt.show()"
   ]
  },
  {
   "cell_type": "code",
   "execution_count": 112,
   "metadata": {},
   "outputs": [
    {
     "data": {
      "text/plain": [
       "dt_conf\n",
       "2020-06-14     7\n",
       "2020-06-21     8\n",
       "2020-06-28    45\n",
       "2020-07-05     1\n",
       "2020-07-12     4\n",
       "              ..\n",
       "2021-07-11    18\n",
       "2021-07-18     6\n",
       "2021-07-25     4\n",
       "2021-08-01     1\n",
       "2021-08-08     4\n",
       "Freq: W-SUN, Name: lineage, Length: 61, dtype: int64"
      ]
     },
     "execution_count": 112,
     "metadata": {},
     "output_type": "execute_result"
    }
   ],
   "source": [
    "tests"
   ]
  },
  {
   "cell_type": "code",
   "execution_count": 1,
   "metadata": {},
   "outputs": [
    {
     "ename": "NameError",
     "evalue": "name 'plt' is not defined",
     "output_type": "error",
     "traceback": [
      "\u001b[0;31m---------------------------------------------------------------------------\u001b[0m",
      "\u001b[0;31mNameError\u001b[0m                                 Traceback (most recent call last)",
      "\u001b[0;32m<ipython-input-1-77c6b7733fc2>\u001b[0m in \u001b[0;36m<module>\u001b[0;34m\u001b[0m\n\u001b[0;32m----> 1\u001b[0;31m \u001b[0mplt\u001b[0m\u001b[0;34m.\u001b[0m\u001b[0mstyle\u001b[0m\u001b[0;34m.\u001b[0m\u001b[0mavailable\u001b[0m\u001b[0;34m\u001b[0m\u001b[0;34m\u001b[0m\u001b[0m\n\u001b[0m",
      "\u001b[0;31mNameError\u001b[0m: name 'plt' is not defined"
     ]
    }
   ],
   "source": [
    "plt.style.available"
   ]
  },
  {
   "cell_type": "code",
   "execution_count": null,
   "metadata": {},
   "outputs": [],
   "source": [
    "# %matplotlib widget\n",
    "fig, ax = plt.subplots(figsize=(10, 5))\n",
    "\n",
    "tests = df_tseries['RESULT'].resample('W').count()\n",
    "pos = df_tseries0['RESULT'].resample('W').count()\n",
    "neg = df_tseries1['RESULT'].resample('W').count()\n",
    "\n",
    "prop_pos = pos / tests * 100\n",
    "prop_neg = neg / tests * 100\n",
    "\n",
    "prop_pos.plot(ax=ax, marker='o', linestyle='-', label='positives', color='orange')\n",
    "# prop_neg.plot(ax=ax, marker='o', linestyle='-', label='negatives', color='green')\n",
    "# ax.plot(neg, style=\"-o\", label='positives')\n",
    "# ax.plot(pos, style=\"-o\", label='negaives')\n",
    "\n",
    "#plt.ioff()\n",
    "plt.xlabel('Weeks')\n",
    "plt.ylabel('% Proportions')\n",
    "plt.legend()\n",
    "plt.xticks()\n",
    "plt.grid(axis='y', ls='--')\n",
    "plt.show()\n",
    "plt.tight_layout()\n",
    "# fig.savefig(f'/home/douso/Documents/TrendData/plots/draft_cov-pro+_trends_plot-line_{dt}.png')"
   ]
  },
  {
   "cell_type": "raw",
   "metadata": {},
   "source": [
    "[pd.to_datetime(dt).strftime(format='%b-%Y') for dt in xtick.astype(pd.Timestamp)]#.strftime(format='%d-%m-%Y')"
   ]
  },
  {
   "cell_type": "code",
   "execution_count": null,
   "metadata": {},
   "outputs": [],
   "source": [
    "index = np.array(pos.index)"
   ]
  },
  {
   "cell_type": "code",
   "execution_count": null,
   "metadata": {},
   "outputs": [],
   "source": [
    "import numpy as np\n",
    "from scipy.interpolate import interp1d\n",
    "import matplotlib.pyplot as plt\n",
    " \n",
    "# Dataset\n",
    "x=np.arange(46)\n",
    "y=np.array(list(prop_pos)[:-1])\n",
    "\n",
    "start = pd.Timestamp(index[0])\n",
    "end = pd.Timestamp(index[-1])\n",
    "\n",
    "t = np.linspace(start.value, end.value, 23)\n",
    "\n",
    "cubic_interploation_model = interp1d(t, y, kind = \"cubic\")\n",
    " \n",
    "# Plotting the Graph\n",
    "X_=np.linspace(t.min(), t.max(), 5000)\n",
    "Y_=cubic_interploation_model(X_)\n",
    " \n",
    "plt.plot(X_, Y_)\n",
    "plt.title(\"Plot Smooth Curve Using the scipy.interpolate.interp1d Class\")\n",
    "plt.xlabel(\"X\")\n",
    "plt.ylabel(\"Y\")\n",
    "plt.show()"
   ]
  },
  {
   "cell_type": "code",
   "execution_count": null,
   "metadata": {},
   "outputs": [],
   "source": [
    "x = np.arange(len(df_tseries0['RESULT'].resample('W').count()))\n",
    "width = 0.3\n",
    "\n",
    "fig, ax = plt.subplots(figsize=(20, 5))\n",
    "\n",
    "tests = df_tseries['RESULT'].resample('W').count()[:-1]\n",
    "pos = df_tseries0['RESULT'].resample('W').count()\n",
    "neg = df_tseries1['RESULT'].resample('W').count()[:-1]\n",
    "print(len(tests), len(pos), len(neg))\n",
    "\n",
    "# xticks = [i.strftime(format='%d-%m-%y') for i in tests.index]\n",
    "\n",
    "rec1 = ax.bar(x - width/2, tests, width=width, color='darkblue', label='tests', align='center')\n",
    "rec2 = ax.bar(x + width/2, neg, width=width, color='green', label='negatives', align='center')\n",
    "rec3 = ax.bar(x + width*3/2, pos, width=width, color='orange', label='positives', align='center')\n",
    "\n",
    "plt.xlabel('Weeks')\n",
    "plt.xticks(rotation=90)\n",
    "plt.ylabel('Number of samples')\n",
    "plt.legend()\n",
    "plt.show()\n",
    "plt.tight_layout()\n",
    "# fig.savefig(f'/home/douso/Documents/TrendData/plots/draft_cov_trends_plot-bar_{dt}.png')"
   ]
  },
  {
   "cell_type": "code",
   "execution_count": null,
   "metadata": {},
   "outputs": [],
   "source": [
    "x = np.arange(len(df_tseries0['RESULT'].resample('W').count()))\n",
    "width = 0.5\n",
    "\n",
    "fig, ax = plt.subplots(figsize=(20, 5))\n",
    "\n",
    "tests = df_tseries['RESULT'].resample('W').count()[:-1]\n",
    "pos = df_tseries0['RESULT'].resample('W').count()\n",
    "neg = df_tseries1['RESULT'].resample('W').count()[:-1]\n",
    "print(len(tests), len(pos), len(neg))\n",
    "\n",
    "xticks = [i.strftime(format='%d-%m-%y') for i in tests.index]\n",
    "\n",
    "ax.bar(x, pos, width=width, color='orange', label='positives', align='center')\n",
    "ax.bar(x, neg, width=width, color='green', bottom=pos, label='negatives', align='center')\n",
    "#ax.bar(x, tests, width=width, color='darkblue', bottom=neg, label='tests', align='center')\n",
    "\n",
    "ax.set_xticklabels(xticks)\n",
    "plt.xlabel('Weeks')\n",
    "plt.xticks()\n",
    "plt.ylabel('Number of samples')\n",
    "plt.legend()\n",
    "plt.show()\n",
    "plt.tight_layout()\n",
    "# fig.savefig(f'/home/douso/Documents/TrendData/plots/draft_cov_trends_plot-stacked_{dt}.png')"
   ]
  },
  {
   "cell_type": "code",
   "execution_count": null,
   "metadata": {},
   "outputs": [],
   "source": [
    "g = df_tseries.groupby(pd.Grouper(freq='D'))['RESULT'].value_counts().plot(figsize=(10, 5))\n",
    "plt.xticks(rotation=90)"
   ]
  },
  {
   "cell_type": "code",
   "execution_count": null,
   "metadata": {},
   "outputs": [],
   "source": [
    "g"
   ]
  },
  {
   "cell_type": "markdown",
   "metadata": {},
   "source": [
    "### Lineages trend"
   ]
  },
  {
   "cell_type": "code",
   "execution_count": null,
   "metadata": {},
   "outputs": [],
   "source": [
    "df1 = (pd.read_table('/home/douso/Insync/D.Ouso@cgiar.org/OneDrive Biz/\\\n",
    "sequencing_metadata/processed/seq-metadata-SM001.csv', parse_dates=True)\n",
    "       [['Sequence_name', 'Lineage', 'Lab_confirmation_date']])"
   ]
  },
  {
   "cell_type": "code",
   "execution_count": null,
   "metadata": {},
   "outputs": [],
   "source": [
    "df2 = (pd.read_table('/home/douso/Insync/D.Ouso@cgiar.org/OneDrive Biz/\\\n",
    "sequencing_metadata/processed/seq-metadata0-SM002.tsv')\n",
    "[['Sequence_name','Lineage', 'Lab_confirmation_date']])"
   ]
  },
  {
   "cell_type": "code",
   "execution_count": null,
   "metadata": {},
   "outputs": [],
   "source": [
    "dff1 = (df1.assign(Lab_confirmation_date = df1['Lab_confirmation_date']\n",
    "                               .apply(lambda x: pd.Timestamp(x))))"
   ]
  },
  {
   "cell_type": "code",
   "execution_count": null,
   "metadata": {},
   "outputs": [],
   "source": [
    "dff2 = (df2.assign(Lab_confirmation_date = df2['Lab_confirmation_date']\n",
    "                               .apply(lambda x: pd.Timestamp(x))))"
   ]
  },
  {
   "cell_type": "code",
   "execution_count": null,
   "metadata": {},
   "outputs": [],
   "source": [
    "dff2"
   ]
  },
  {
   "cell_type": "code",
   "execution_count": null,
   "metadata": {},
   "outputs": [],
   "source": [
    "dff1"
   ]
  },
  {
   "cell_type": "code",
   "execution_count": null,
   "metadata": {},
   "outputs": [],
   "source": [
    "df_lin = dff1.append(dff2, ignore_index=True, verify_integrity=True)"
   ]
  },
  {
   "cell_type": "code",
   "execution_count": null,
   "metadata": {},
   "outputs": [],
   "source": [
    "df_lin_cln = df_lin[df_lin['Lab_confirmation_date'].notna()]"
   ]
  },
  {
   "cell_type": "code",
   "execution_count": null,
   "metadata": {},
   "outputs": [],
   "source": [
    "df_lin"
   ]
  },
  {
   "cell_type": "code",
   "execution_count": null,
   "metadata": {},
   "outputs": [],
   "source": [
    "df_lin_ts = (df_lin.sort_values('Lab_confirmation_date'))\n",
    "#              .groupby('Lineage'))\n",
    "#              .set_index('Lineage'))\n"
   ]
  },
  {
   "cell_type": "raw",
   "metadata": {},
   "source": [
    "df_lin_ts2 = (df_lin_ts.assign(Lab_confirmation_date = df_lin_ts['Lab_confirmation_date']\n",
    "                               .apply(lambda x: datetime.datetime(x))))\n",
    "#               .set_index('Lab_confirmation_date'))"
   ]
  },
  {
   "cell_type": "code",
   "execution_count": null,
   "metadata": {},
   "outputs": [],
   "source": [
    "df_lin_ts['Sequence_name'].nunique()"
   ]
  },
  {
   "cell_type": "code",
   "execution_count": null,
   "metadata": {},
   "outputs": [],
   "source": [
    "df_lin_ts2 = df_lin_ts[df_lin_ts['Lab_confirmation_date'] != '2021-09-02']"
   ]
  },
  {
   "cell_type": "code",
   "execution_count": null,
   "metadata": {},
   "outputs": [],
   "source": [
    "df_lin_ts2['Sequence_name'].nunique()"
   ]
  },
  {
   "cell_type": "code",
   "execution_count": null,
   "metadata": {},
   "outputs": [],
   "source": [
    "df_lin_grpby_lb_l = df_lin_ts2.groupby(['Lab_confirmation_date', 'Lineage']).count()"
   ]
  },
  {
   "cell_type": "code",
   "execution_count": null,
   "metadata": {},
   "outputs": [],
   "source": [
    "ticks"
   ]
  },
  {
   "cell_type": "code",
   "execution_count": null,
   "metadata": {},
   "outputs": [],
   "source": [
    "df_lin_grpby_lb_l"
   ]
  },
  {
   "cell_type": "code",
   "execution_count": null,
   "metadata": {},
   "outputs": [],
   "source": [
    "ticks = [tup[0] for tup in df_lin_grpby_lb_l.index.to_list()]\n",
    "labels = [','.join([tup[0].strftime(format='%b-%m'), tup[1]]) for tup in df_lin_grpby_lb_l.index.to_list()]"
   ]
  },
  {
   "cell_type": "code",
   "execution_count": null,
   "metadata": {},
   "outputs": [],
   "source": [
    "df_lin_grpby_lb_l.plot(label='Lineages', color='green')\n",
    "# ax.set_xticks(ticks)\n",
    "# xtics = plt.xticks()\n",
    "plt.xticks(np.arange(len(ticks)), labels=labels, rotation=90)\n",
    "plt.xlabel('Test dates, Lineages')\n",
    "plt.legend(['Lineages'])\n",
    "fontdict = {'fontsize': 14,\n",
    "        'fontweight': 3,\n",
    "        'color': 'k'}\n",
    "plt.title('Lineage frequencies across time', fontdict=fontdict)\n",
    "plt.ylabel('Lineage counts')\n",
    "plt.grid(axis='y', ls='--')\n",
    "plt.tight_layout()\n",
    "plt.savefig('/home/douso/Documents/TrendData/plots/trend-analysis2-P002.png', dpi=500)\n",
    "# plt.xticks(ticks=t, labels=l, rotation=90)"
   ]
  },
  {
   "cell_type": "code",
   "execution_count": null,
   "metadata": {},
   "outputs": [],
   "source": [
    "print(len(np.array(df_lin_grpby_lb_l['Sequence_name'])))\n",
    "print(np.array(df_lin_grpby_lb_l['Sequence_name']))\n",
    "print(len(np.linspace(start.value, end.value, 31)))\n",
    "print(np.array(pd.to_datetime(np.linspace(start.value, end.value, 31))))\n",
    "print(len(x))\n",
    "print(x)\n",
    "print(ticks[0], ticks[-1])\n",
    "print(t[0], t[-1])"
   ]
  },
  {
   "cell_type": "code",
   "execution_count": null,
   "metadata": {},
   "outputs": [],
   "source": [
    "len(np.array(df_lin_grpby_lb_l['Sequence_name']))"
   ]
  },
  {
   "cell_type": "code",
   "execution_count": null,
   "metadata": {},
   "outputs": [],
   "source": [
    "import numpy as np\n",
    "from scipy.interpolate import interp1d\n",
    "import matplotlib.pyplot as plt\n",
    "fig, ax = plt.subplots()\n",
    "# Dataset\n",
    "x=np.arange(len(ticks))\n",
    "y=np.array(df_lin_grpby_lb_l['Sequence_name'])\n",
    "\n",
    "start = ticks[0]\n",
    "end = ticks[-1]\n",
    "\n",
    "t = np.linspace(start.value, end.value, 31)\n",
    "\n",
    "cubic_interploation_model = interp1d(t, y, kind = \"cubic\")\n",
    " \n",
    "# Plotting the Graph\n",
    "X_=np.linspace(t.min(), t.max(), 1000)\n",
    "Y_=cubic_interploation_model(X_)\n",
    " \n",
    "\n",
    "plt.plot(X_, Y_, label='Lineages', color='green')\n",
    "plt.xticks(t, labels=labels, rotation=90)\n",
    "plt.xlabel('Test dates, Lineages')\n",
    "plt.legend(['Lineages'])\n",
    "plt.ylabel('Lineage counts')\n",
    "fontdict = {'fontsize': 14,\n",
    "        'fontweight': 3,\n",
    "        'color': 'k'}\n",
    "plt.title('Lineage frequencies across time', fontdict=fontdict)\n",
    "plt.grid(axis='y', ls='--')\n",
    "plt.tight_layout()\n",
    "plt.savefig('/home/douso/Documents/TrendData/plots/trend-analysis-smooth-P002.png', dpi=500)\n",
    "plt.show()\n"
   ]
  },
  {
   "cell_type": "code",
   "execution_count": null,
   "metadata": {},
   "outputs": [],
   "source": []
  },
  {
   "cell_type": "code",
   "execution_count": null,
   "metadata": {},
   "outputs": [],
   "source": [
    "df_lin_grpby2 = df_lin_ts2.groupby('Lineage').count()\n",
    "df_lin_grpby2"
   ]
  },
  {
   "cell_type": "code",
   "execution_count": null,
   "metadata": {},
   "outputs": [],
   "source": [
    "df_lin_grpby.resample('Lineage', 'W').count()"
   ]
  }
 ],
 "metadata": {
  "kernelspec": {
   "display_name": "Python 3",
   "language": "python",
   "name": "python3"
  },
  "language_info": {
   "codemirror_mode": {
    "name": "ipython",
    "version": 3
   },
   "file_extension": ".py",
   "mimetype": "text/x-python",
   "name": "python",
   "nbconvert_exporter": "python",
   "pygments_lexer": "ipython3",
   "version": "3.8.10"
  }
 },
 "nbformat": 4,
 "nbformat_minor": 4
}
