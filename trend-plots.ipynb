{
 "cells": [
  {
   "cell_type": "markdown",
   "metadata": {},
   "source": [
    "$13^{th}$ Aug 2021"
   ]
  },
  {
   "cell_type": "code",
   "execution_count": 1,
   "metadata": {},
   "outputs": [],
   "source": [
    "import pandas as pd\n",
    "import os, glob, math\n",
    "import seaborn as sns\n",
    "import matplotlib.pyplot as plt\n",
    "import numpy as np\n",
    "from datetime import datetime\n",
    "from ipywidgets import widgets, interactive"
   ]
  },
  {
   "cell_type": "code",
   "execution_count": 2,
   "metadata": {},
   "outputs": [],
   "source": [
    "dt = datetime.today().strftime(format='%d-%m-%Y')"
   ]
  },
  {
   "cell_type": "code",
   "execution_count": 3,
   "metadata": {},
   "outputs": [],
   "source": [
    "category = ''\n",
    "ext = 'svg'"
   ]
  },
  {
   "cell_type": "markdown",
   "metadata": {},
   "source": [
    "### **Establish parent directory**"
   ]
  },
  {
   "cell_type": "code",
   "execution_count": 4,
   "metadata": {},
   "outputs": [],
   "source": [
    "#uniqueness in directory and file names is assumed for all analyses\n",
    "sars_dir = 'SARS-CoV-2'\n",
    "run_dir = 'KnowledgeBrief'\n",
    "home_dir = os.getenv('HOME')\n",
    "parent_dir = glob.glob(f'{home_dir}/**/{sars_dir}', recursive=True)[0]"
   ]
  },
  {
   "cell_type": "code",
   "execution_count": 5,
   "metadata": {},
   "outputs": [],
   "source": [
    "def replace_with_who_lin(x):\n",
    "    if x == 'B.1.1.7':\n",
    "        return x.replace(x, 'B.1.1.7(Alpha)')\n",
    "    elif x == 'B.1.617.2':\n",
    "        return x.replace(x, 'B.1.617.2(Delta)')\n",
    "    elif x == 'B.1.351':\n",
    "        return x.replace(x, 'B.1.351(Beta)')\n",
    "    elif x == 'B.1.525':\n",
    "        return x.replace(x, 'B.1.525(Eta)')\n",
    "    elif 'AY' in str(x):\n",
    "        return str(x).replace(str(x), str(x)+'(Delta)')\n",
    "#     elif x == 'AY.12':\n",
    "#         return x.replace(x, 'AY.12(Delta)')\n",
    "    return x\n",
    "    "
   ]
  },
  {
   "cell_type": "code",
   "execution_count": 6,
   "metadata": {},
   "outputs": [],
   "source": [
    "def assign_seq_platform(x):\n",
    "    x = str(x)\n",
    "    if 'ONT' in x: \n",
    "        return x.replace(x, 'ONT')\n",
    "    elif '_NS' in x:\n",
    "        return x.replace(x, 'NextSeq')\n",
    "    return x.replace(x, 'MiSeq')"
   ]
  },
  {
   "cell_type": "raw",
   "metadata": {},
   "source": [
    "covv_seq_tech = (df_seq_summ70.assign(covv_seq_tech=df_seq_summ70['run_num'].\n",
    "                apply(lambda x: assign_seq_platform(x))))\n",
    "                #.replace('Failed', np.NaN)"
   ]
  },
  {
   "cell_type": "raw",
   "metadata": {},
   "source": [
    "clrs = {'TBA01': ('gray', '#808080'),\n",
    " 'TBA02': ('orangered', '#FF4500'),\n",
    " 'TBA03': ('cyan', '#00FFFF'),\n",
    " 'TBA04': ('midnightblue', '#191970'),\n",
    " 'TBA05': ('chocolate', '#D2691E'),\n",
    " 'TBA06': ('darkgreen', '#7FFFD4'),\n",
    " 'TBA07': ('teal', '#008080'),\n",
    " 'TBA08': ('darkseagreen', '#F0FFF0'),\n",
    " 'TBA09': ('slategray', '#708090'),\n",
    " 'TBA10': ('lavender', '#E6E6FA'),\n",
    " 'TBA11': ('orange', '#FFA500'),\n",
    " 'TBA12': ('pink', '#FFC0CB'),\n",
    " 'TBA13': ('seagreen', '#2E8B57'),\n",
    " 'TBA14': ('seashell', '#FFFAF0'),\n",
    " 'TBA15': ('olive', '#808000'),\n",
    " 'TBA16': ('mediumvioletred', '#C71585'),\n",
    " 'TBA17': ('honeydew', '#FFD700'),\n",
    " 'TBA18': ('black', '#000000'),\n",
    " 'TBA19': ('gold', '#8FBC8F'),\n",
    " 'TBA20': ('saddlebrown', '#8B4513'),\n",
    " 'TBA21': ('wheat', '#F5DEB3'),\n",
    " 'TBA22': ('darkgray', '#A9A9A9'),\n",
    " 'TBA23': ('silver', '#C0C0C0'),\n",
    " 'TBA24': ('aquamarine', '#006400'),\n",
    " 'TBA25': ('yellowgreen', '#9ACD32'),\n",
    " 'TBA26': ('tan', '#D2B48C'),\n",
    " 'TBA27': ('indigo', '#4B0082'),\n",
    " 'TBA28': ('mediumpurple', '#9370DB'),\n",
    " 'TBA29': ('blue', '#0000FF'),\n",
    " 'TBA30': ('darkslateblue', '#483D8B'),\n",
    " 'TBA31': ('sienna', '#A0522D'),\n",
    " 'TBA32': ('darkkhaki', '#BDB76B'),\n",
    " 'TBA33': ('khaki', '#F0E68C'),\n",
    " 'TBA34': ('dodgerblue', '#1E90FF'),\n",
    " 'TBA35': ('palevioletred', '#DB7093'),\n",
    " 'TBA37': ('floralwhite', '#6495ED'),\n",
    " 'TBA38': ('green', '#008000'),\n",
    " 'TBA39': ('red', '#AFEEEE'),\n",
    " 'TBA40': ('purple', '#800080'),\n",
    " 'TBA41': ('brown', '#A52A2A'),\n",
    " 'TBA42': ('chocolate', '#D2691E'),\n",
    " 'TBA43': ('steelblue', '#4682B4'),\n",
    " 'TBA44': ('magenta', '#FF00FF'),\n",
    " 'TBA45': ('rosybrown', '#BC8F8F'),\n",
    " 'TBA46': ('goldenrod', '#DAA520'),\n",
    " 'TBA47': ('paleturquoise', '#FF0000'),\n",
    " 'TBA48': ('lime', '#00FF00'),\n",
    " 'TBA49': ('cornflowerblue', '#FFF5EE')}\n",
    "# 'B.1.617.2*(Delta)': ('yellow', '#FFFF00'),\n",
    " \n",
    "avail_clr = [clr for clr in clrs.values()]"
   ]
  },
  {
   "cell_type": "code",
   "execution_count": 7,
   "metadata": {},
   "outputs": [],
   "source": [
    "from pprint import pprint\n",
    "# pprint(clrs)"
   ]
  },
  {
   "cell_type": "code",
   "execution_count": 8,
   "metadata": {},
   "outputs": [],
   "source": [
    "clr_code = {'A': ('midnightblue', '#191970'),\n",
    " 'A.23': ('lime', '#00FF00'),\n",
    " 'A.23.1': ('gray', '#808080'),\n",
    " 'A.25': ('orangered', '#FF4500'),\n",
    " 'AY.16(Delta)': ('saddlebrown', '#8B4513'),\n",
    " 'AY.24(Delta)': ('teal', '#008080'),\n",
    " 'AY.26(Delta)': ('black', '#000000'),\n",
    " 'AY.33(Delta)': ('seagreen', '#2E8B57'),\n",
    " 'AY.34(Delta)': ('steelblue', '#4682B4'),\n",
    " 'AY.37(Delta)': ('yellowgreen', '#9ACD32'),\n",
    " 'AY.4(Delta)': ('mediumvioletred', '#C71585'),\n",
    " 'AY.7.1(Delta)': ('darkgreen', '#7FFFD4'),\n",
    " 'B.1': ('cyan', '#00FFFF'),\n",
    " 'B.1.1': ('chocolate', '#D2691E'),\n",
    " 'B.1.1.1': ('wheat', '#F5DEB3'),\n",
    " 'B.1.1.318': ('slategray', '#708090'),\n",
    " 'B.1.1.7(Alpha)': ('orange', '#FFA500'),\n",
    " 'B.1.143': ('olive', '#808000'),\n",
    " 'B.1.153': ('taffy', '#F96DDA'),\n",
    " 'B.1.160': ('honeydew', '#FFD700'),\n",
    " 'B.1.214': ('gold', '#8FBC8F'),\n",
    " 'B.1.276': ('aquamarine', '#006400'),\n",
    " 'B.1.324': ('magenta', '#FF00FF'),\n",
    " 'B.1.336': ('tan', '#D2B48C'),\n",
    " 'B.1.340': ('darkslateblue', '#483D8B'),\n",
    " 'B.1.343': ('indigo', '#4B0082'),\n",
    " 'B.1.349': ('royal', '#7852A9'),\n",
    " 'B.1.351(Beta)': ('blue', '#0000FF'),\n",
    " 'B.1.390': ('darkkhaki', '#BDB76B'),\n",
    " 'B.1.391': ('darkseagreen', '#F0FFF0'),\n",
    " 'B.1.393': ('sapphire', '#0F52BA'),\n",
    " 'B.1.396': ('dodgerblue', '#1E90FF'),\n",
    " 'B.1.432': ('cornflowerblue', '#FFF5EE'),\n",
    " 'B.1.434': ('palevioletred', '#DB7093'),\n",
    " 'B.1.517': ('seashell', '#FFFAF0'),\n",
    " 'B.1.525(Eta)': ('green', '#008000'),\n",
    " 'B.1.530': ('red', '#AFEEEE'),\n",
    " 'B.1.541': ('cornflowerblue', '#6495ED'),\n",
    " 'B.1.549': ('brown', '#A52A2A'),\n",
    " 'B.1.579': ('khaki', '#F0E68C'),\n",
    " 'B.1.596.1': ('magenta', '#FF00FF'),\n",
    " 'B.1.609': ('sienna', '#A0522D'),\n",
    " 'B.1.617.2(Delta)': ('paleturquoise', '#FF0000'),\n",
    " 'B.1.617.2*(Delta)': ('yellow', '#FFFF00'),\n",
    " 'B.1.635': ('mediumpurple', '#9370DB'),\n",
    " 'Q.8': ('darkgray', '#A9A9A9'),\n",
    " 'TBA1': ('pink', '#FFC0CB'),\n",
    " 'TBA2': ('maya', '#73C2FB'),\n",
    " 'TBA3': ('purple', '#800080'),\n",
    " 'TBA4': ('chocolate', '#D2691E'),\n",
    " 'TBA5': ('black', 'k'),\n",
    " 'TBA6': ('silver', '#C0C0C0'),\n",
    " 'B.1.1.526': ('rosybrown', '#BC8F8F'),\n",
    " 'Unknown': ('goldenrod', '#DAA520')}\n",
    "avail_clr = ['TBA1', 'TBA2', 'TBA3', 'TBA4', 'TBA5', 'TBA6']#, 'TBA7'"
   ]
  },
  {
   "cell_type": "code",
   "execution_count": 9,
   "metadata": {},
   "outputs": [],
   "source": [
    "# pprint(clr_code)"
   ]
  },
  {
   "cell_type": "code",
   "execution_count": 10,
   "metadata": {},
   "outputs": [],
   "source": [
    "title_fontdict = {'fontsize': 12,\n",
    "        'fontweight': 'normal',\n",
    "        'color': 'k',\n",
    "        'horizontalalignment': 'center'}"
   ]
  },
  {
   "cell_type": "code",
   "execution_count": 11,
   "metadata": {},
   "outputs": [],
   "source": [
    "# set(clr_code.keys()) - set(df_seq_summ_who.LIN.value_counts().index)"
   ]
  },
  {
   "cell_type": "code",
   "execution_count": 12,
   "metadata": {},
   "outputs": [],
   "source": [
    "# set(df_seq_summ_who.LIN.value_counts().index) - set(clr_code.keys())"
   ]
  },
  {
   "cell_type": "code",
   "execution_count": 13,
   "metadata": {},
   "outputs": [],
   "source": [
    "df_metadata = pd.read_excel(glob.glob(f'{parent_dir}/**/Outputs/COVID19-resultsCts-merged-cln.xlsx', recursive=True)[0])#usecols=['sequence_name', 'clade', 'lineage', 'genome_coverage'], "
   ]
  },
  {
   "cell_type": "code",
   "execution_count": 14,
   "metadata": {},
   "outputs": [],
   "source": [
    "df_covs = df_metadata#[df_metadata['S_NUM'].str.contains('COVC') == True]#.shape"
   ]
  },
  {
   "cell_type": "code",
   "execution_count": 15,
   "metadata": {},
   "outputs": [],
   "source": [
    "#use a cut-off; per month; plot a pie; \n",
    "# df_covs['COUNT_RES'].value_counts()#.plot.pie()"
   ]
  },
  {
   "cell_type": "raw",
   "metadata": {},
   "source": [
    "#use a cut-off; per month; plot a pie; \n",
    "df_covs['COUNT_RES'].value_counts().sort_index()#.plot.pie()"
   ]
  },
  {
   "cell_type": "code",
   "execution_count": 16,
   "metadata": {},
   "outputs": [
    {
     "data": {
      "text/html": [
       "<div>\n",
       "<style scoped>\n",
       "    .dataframe tbody tr th:only-of-type {\n",
       "        vertical-align: middle;\n",
       "    }\n",
       "\n",
       "    .dataframe tbody tr th {\n",
       "        vertical-align: top;\n",
       "    }\n",
       "\n",
       "    .dataframe thead th {\n",
       "        text-align: right;\n",
       "    }\n",
       "</style>\n",
       "<table border=\"1\" class=\"dataframe\">\n",
       "  <thead>\n",
       "    <tr style=\"text-align: right;\">\n",
       "      <th></th>\n",
       "      <th>S_NUM</th>\n",
       "      <th>AGE_YRS</th>\n",
       "      <th>GEND</th>\n",
       "      <th>OCCU</th>\n",
       "      <th>NAT</th>\n",
       "      <th>COUNT_RES</th>\n",
       "      <th>S_COUNT_RES</th>\n",
       "      <th>TRAV_HIST</th>\n",
       "      <th>TRAV_FROM</th>\n",
       "      <th>QUAR_PLACE</th>\n",
       "      <th>SYMPS</th>\n",
       "      <th>DT_SAM_COLL</th>\n",
       "      <th>DT_SAM_RECEP</th>\n",
       "      <th>RESULT</th>\n",
       "      <th>DT_CONF</th>\n",
       "      <th>Well_Position</th>\n",
       "      <th>Ct_Mean</th>\n",
       "      <th>Dt_Run</th>\n",
       "    </tr>\n",
       "  </thead>\n",
       "  <tbody>\n",
       "  </tbody>\n",
       "</table>\n",
       "</div>"
      ],
      "text/plain": [
       "Empty DataFrame\n",
       "Columns: [S_NUM, AGE_YRS, GEND, OCCU, NAT, COUNT_RES, S_COUNT_RES, TRAV_HIST, TRAV_FROM, QUAR_PLACE, SYMPS, DT_SAM_COLL, DT_SAM_RECEP, RESULT, DT_CONF, Well_Position, Ct_Mean, Dt_Run]\n",
       "Index: []"
      ]
     },
     "execution_count": 16,
     "metadata": {},
     "output_type": "execute_result"
    }
   ],
   "source": [
    "#use a cut-off; per month; plot a pie; \n",
    "df_covs[df_covs['COUNT_RES'] == 'Kajido']#.value_counts()#.plot.pie()"
   ]
  },
  {
   "cell_type": "code",
   "execution_count": 17,
   "metadata": {},
   "outputs": [
    {
     "data": {
      "image/png": "[encoded data removed]",
      "text/plain": [
       "<Figure size 432x720 with 1 Axes>"
      ]
     },
     "metadata": {
      "needs_background": "light"
     },
     "output_type": "display_data"
    }
   ],
   "source": [
    "width = df_covs[df_covs['S_NUM'].str.contains('COV')]['COUNT_RES'].value_counts().sort_values(ascending=True)\n",
    "\n",
    "max_count = max(width)\n",
    "# colors = [clr_code[lin.split('(')[0]][1] for lin in width.index]\n",
    "# n = len(lins) - 2\n",
    "m = sum(width)\n",
    "n = df_covs.shape[0]\n",
    "xticks = np.arange(0, (math.ceil(max_count / 500) + 1) * 500, 500)\n",
    "fig, ax =plt.subplots(figsize=(6,10))\n",
    "# ax.set_facecolor(\"#E5E4E2\")##E5E4E2\n",
    "\n",
    "plt.barh(width.index, width, height=0.7, color=['purple', 'm', 'b',\n",
    "                                                'y', 'c', 'k',\n",
    "                                                'brown', 'gray',\n",
    "                                               'pink', 'g'])#, logy=True\n",
    "plt.xticks(xticks, xticks, rotation=90)\n",
    "plt.yticks(width.index, fontsize=7)\n",
    "# plt.grid(which='major', axis='x', ls='--', color='lightgray')\n",
    "plt.ylabel('Counties')\n",
    "plt.yticks(fontsize=10)\n",
    "plt.xlabel(f'Counts (N={m};{round(m/n*100, 1)}%)')\n",
    "plt.title('Top 10 Counties tested', title_fontdict)\n",
    "plt.tight_layout()\n",
    "# plt.savefig(f\"{glob.glob(f'{parent_dir}/**/PlotsFigures', recursive=True)[0]}/report-top10tested_{dt}.{ext}\")\n",
    "plt.show()"
   ]
  },
  {
   "cell_type": "code",
   "execution_count": 18,
   "metadata": {},
   "outputs": [
    {
     "data": {
      "image/png": "[encoded data removed]",
      "text/plain": [
       "<Figure size 432x288 with 1 Axes>"
      ]
     },
     "metadata": {},
     "output_type": "display_data"
    }
   ],
   "source": [
    "fig,ax = plt.subplots()\n",
    "\n",
    "data = df_covs[df_covs['S_NUM'].str.contains('COV')]['COUNT_RES'].value_counts()\n",
    "# pie_clr = {clr_code[k][1]: k for k in data.index}\n",
    "pct = (np.array(data)/np.array(data).sum()*100).round(1)\n",
    "labels = {}\n",
    "under1 = []\n",
    "for k,v in zip(data.index, pct):\n",
    "    if v >= 1:\n",
    "        labels[k] = f'{v}%: {k}'\n",
    "    else:\n",
    "        under1.append(k)\n",
    "        labels[k] = ''\n",
    "plt.pie(data, wedgeprops=dict(width=1), labels=list(labels.values()), labeldistance=1.02, radius=1.5)#, \n",
    "#        colors=pie_clr)\n",
    "t = ax.text(\n",
    "    0, 0, f'$Tests$ $per$ $county$\\n(N=${data.sum()}$)', ha=\"center\", va=\"center\", size=15,\n",
    "    bbox=dict(boxstyle=\"circle,pad=0.3\", fc=\"lightgray\", ec=\"gray\", lw=1))\n",
    "# t2 = ax.text(\n",
    "#     3, 0, f\"{f'{new_line}'.join(under1)}\", ha='center', va='center',\n",
    "#     bbox=dict(boxstyle=\"round,pad=0.3\", fc=\"lightgray\", ec=\"gray\", lw=1))\n",
    "# ax.annotate(f'Distribution of lineages\\nN={data.sum()}\\n(coverage >= 70%)', (0,0), fontsize=14)\n",
    "# ax.set_title('Proportions for Test Outcome', title_fontdict, pad=1.1)\n",
    "plt.tight_layout()\n",
    "# plt.savefig(f\"{glob.glob(f'{parent_dir}/**/PlotsFigures', recursive=True)[0]}/report-testfreq-pie{category+'_'}{dt}.{ext}\")\n",
    "plt.show()"
   ]
  },
  {
   "cell_type": "markdown",
   "metadata": {},
   "source": [
    "### **Confirm updated MS file**"
   ]
  },
  {
   "cell_type": "code",
   "execution_count": 19,
   "metadata": {},
   "outputs": [],
   "source": [
    "df_seq_summ = pd.read_excel(glob.glob(f'{parent_dir}/**/metadata-seq-MS-ILL-ONT_18-10-2021.xlsx', recursive=True)[0])#usecols=['sequence_name', 'clade', 'lineage', 'genome_coverage'], "
   ]
  },
  {
   "cell_type": "raw",
   "metadata": {},
   "source": [
    "#avail_clr\n",
    "lineages = list(df_seq_summ.LIN.unique())#.head()"
   ]
  },
  {
   "cell_type": "raw",
   "metadata": {},
   "source": [
    "print(f'Available lineages: {len(lineages)}')\n",
    "print(f'Available colours: {len(avail_clr)}')"
   ]
  },
  {
   "cell_type": "raw",
   "metadata": {},
   "source": [
    "try: \n",
    "    lins.remove('None')\n",
    "except: pass"
   ]
  },
  {
   "cell_type": "raw",
   "metadata": {},
   "source": [
    "lins_who = list(map(replace_with_who_lin, lineages))\n",
    "clr_code = {l: c for l,c in zip(lins_who, avail_clr)}\n",
    "clr_code.update({'B.1.617.2*(Delta)':('yellow','#FFFF00')})"
   ]
  },
  {
   "cell_type": "code",
   "execution_count": 20,
   "metadata": {},
   "outputs": [],
   "source": [
    "# pprint(clr_code)"
   ]
  },
  {
   "cell_type": "code",
   "execution_count": 21,
   "metadata": {},
   "outputs": [],
   "source": [
    "mask1 = df_seq_summ['S_NUM'].str.contains('DRC') == False"
   ]
  },
  {
   "cell_type": "code",
   "execution_count": 22,
   "metadata": {},
   "outputs": [],
   "source": [
    "df_seq_summ_ke = df_seq_summ[mask1 == True]"
   ]
  },
  {
   "cell_type": "code",
   "execution_count": 23,
   "metadata": {},
   "outputs": [],
   "source": [
    "mask2 = df_seq_summ_ke['DT_SAM_COLL'] >= pd.to_datetime('2021-01-01 00:00:00')\n",
    "mask3 = df_seq_summ['S_NUM'].str.contains('DRC') == True"
   ]
  },
  {
   "cell_type": "code",
   "execution_count": 24,
   "metadata": {},
   "outputs": [],
   "source": [
    "df_seq_summ2021 = df_seq_summ_ke[mask2]"
   ]
  },
  {
   "cell_type": "code",
   "execution_count": 25,
   "metadata": {},
   "outputs": [],
   "source": [
    "df_seq_summ_drc = df_seq_summ[mask3 == True]"
   ]
  },
  {
   "cell_type": "code",
   "execution_count": 26,
   "metadata": {},
   "outputs": [],
   "source": [
    "df_seq_summ_delta = df_seq_summ_ke.assign(LIN=df_seq_summ_ke.LIN.replace('B.1.617.2', 'B.1.617.2*(Delta)').\n",
    "                                       apply(lambda x: str(x).replace(str(x), 'B.1.617.2*(Delta)') if 'AY' in str(x) else x))"
   ]
  },
  {
   "cell_type": "code",
   "execution_count": 27,
   "metadata": {},
   "outputs": [],
   "source": [
    "df_seq_summ_delta21 = df_seq_summ_ke.assign(LIN=df_seq_summ_ke.LIN.replace('B.1.617.2', 'B.1.617.2*(Delta)').\n",
    "                                       apply(lambda x: str(x).replace(str(x), 'B.1.617.2*(Delta)') if 'AY' in str(x) else x))"
   ]
  },
  {
   "cell_type": "code",
   "execution_count": 28,
   "metadata": {},
   "outputs": [],
   "source": [
    "category = '_deltas'\n",
    "ext = 'svg'"
   ]
  },
  {
   "cell_type": "code",
   "execution_count": 29,
   "metadata": {},
   "outputs": [],
   "source": [
    "if category == '_2021':\n",
    "    df_seq_data = df_seq_summ2021\n",
    "elif category == '_drc':\n",
    "    df_seq_data = df_seq_summ_drc\n",
    "elif category == '_deltas':\n",
    "    df_seq_data = df_seq_summ_delta\n",
    "elif category == '_deltas21':\n",
    "    df_seq_data = df_seq_summ_delta21\n",
    "else:\n",
    "    df_seq_data = df_seq_summ"
   ]
  },
  {
   "cell_type": "code",
   "execution_count": 30,
   "metadata": {},
   "outputs": [],
   "source": [
    "df_seq_summ_who = df_seq_data.assign(LIN=df_seq_data['LIN'].apply(lambda x: replace_with_who_lin(x)))"
   ]
  },
  {
   "cell_type": "code",
   "execution_count": 31,
   "metadata": {},
   "outputs": [],
   "source": [
    "df_seq_summ70 = df_seq_summ_who[df_seq_summ_who['G_COV'] >= 70.0]"
   ]
  },
  {
   "cell_type": "code",
   "execution_count": 32,
   "metadata": {},
   "outputs": [
    {
     "data": {
      "text/plain": [
       "(1193, 35)"
      ]
     },
     "execution_count": 32,
     "metadata": {},
     "output_type": "execute_result"
    }
   ],
   "source": [
    "df_seq_summ70.shape"
   ]
  },
  {
   "cell_type": "code",
   "execution_count": 33,
   "metadata": {},
   "outputs": [],
   "source": [
    "voc_list = ['B.1.1.7(Alpha)', 'B.1.351(Beta)', 'P.1(Gamma)', 'B.1.617.2*(Delta)',\n",
    "            'B.1.617.2(Delta)', 'A23.1', 'B.1.525(Eta)', 'Delta(B.1.617.2*)']"
   ]
  },
  {
   "cell_type": "code",
   "execution_count": 34,
   "metadata": {},
   "outputs": [],
   "source": [
    "df_voc = df_seq_summ70[df_seq_summ70['LIN'].isin(voc_list)].drop_duplicates()"
   ]
  },
  {
   "cell_type": "code",
   "execution_count": 35,
   "metadata": {},
   "outputs": [
    {
     "data": {
      "text/plain": [
       "(656, 35)"
      ]
     },
     "execution_count": 35,
     "metadata": {},
     "output_type": "execute_result"
    }
   ],
   "source": [
    "df_voc.shape"
   ]
  },
  {
   "cell_type": "code",
   "execution_count": 36,
   "metadata": {},
   "outputs": [],
   "source": [
    "df_voc_grp_lin = df_voc.groupby('LIN', dropna=False)['S_NUM'].count().sort_values(ascending=False)"
   ]
  },
  {
   "cell_type": "code",
   "execution_count": 37,
   "metadata": {},
   "outputs": [
    {
     "data": {
      "text/plain": [
       "LIN\n",
       "B.1.617.2*(Delta)    422\n",
       "B.1.1.7(Alpha)       216\n",
       "B.1.351(Beta)          9\n",
       "B.1.525(Eta)           9\n",
       "Name: S_NUM, dtype: int64"
      ]
     },
     "execution_count": 37,
     "metadata": {},
     "output_type": "execute_result"
    }
   ],
   "source": [
    "df_voc_grp_lin.head()"
   ]
  },
  {
   "cell_type": "code",
   "execution_count": 38,
   "metadata": {},
   "outputs": [
    {
     "name": "stderr",
     "output_type": "stream",
     "text": [
      "<ipython-input-38-5ad0444c409c>:8: UserWarning: FixedFormatter should only be used together with FixedLocator\n",
      "  ax.set_xticklabels([d.replace('(', '\\n(') for d in df_voc_grp_lin.to_frame().index])\n"
     ]
    },
    {
     "data": {
      "image/png": "[encoded data removed]",
      "text/plain": [
       "<Figure size 288x360 with 1 Axes>"
      ]
     },
     "metadata": {},
     "output_type": "display_data"
    }
   ],
   "source": [
    "plt.style.use('seaborn')\n",
    "fig,ax = plt.subplots(figsize=(4,5))\n",
    "y = df_voc_grp_lin\n",
    "\n",
    "n = sum(y)\n",
    "g = plt.bar(y.index, y, color=[clr_code[c][1] for c in y.index], width=0.99, ec='k')\n",
    "ax.bar_label(g, label_type='edge', labels=list(y), color='k', fontsize=10)\n",
    "ax.set_xticklabels([d.replace('(', '\\n(') for d in df_voc_grp_lin.to_frame().index])\n",
    "# xticks=ax.get_xticks()\n",
    "# xlabels=['B.1.1.7\\n(Alpha)', 'B.1.617.2\\n(Delta)', 'B.1.351\\n(Beta)', 'B.1.525\\n(Eta)']#[label.get_text().replace(\"(\", \"\\n(\") for label in list(ax.get_xticklabels())]\n",
    "plt.ylabel(f'Counts (N={n})')\n",
    "plt.xlabel('Lineages of concern/interest')\n",
    "# plt.grid('major', axis='y', ls='-.')\n",
    "plt.title('VoC/VoI Lineage counts\\n(coverage >=70%)', title_fontdict)\n",
    "# plt.xticks(xticks, labels=xlabels)\n",
    "plt.xticks(rotation=0)\n",
    "plt.grid(axis='x')\n",
    "plt.tight_layout()\n",
    "# plt.savefig(f\"{glob.glob(f'{parent_dir}/**/PlotsFigures', recursive=True)[0]}/report-VoI-VoC{category+'_'}{dt}.{ext}\")\n",
    "plt.show()\n",
    "#doesn't seem like a good plot, consider pie chart"
   ]
  },
  {
   "cell_type": "raw",
   "metadata": {},
   "source": [
    "for label in ax.get_xticklabels():\n",
    "                  print(label.get_text())"
   ]
  },
  {
   "cell_type": "code",
   "execution_count": 39,
   "metadata": {
    "tags": []
   },
   "outputs": [
    {
     "data": {
      "image/png": "[encoded data removed]",
      "text/plain": [
       "<Figure size 576x396 with 1 Axes>"
      ]
     },
     "metadata": {},
     "output_type": "display_data"
    }
   ],
   "source": [
    "fig,ax = plt.subplots(1,1)\n",
    "plt.hist(df_seq_summ_who['G_COV'], bins=4, ec='k')\n",
    "plt.xlabel('Genome coverage')\n",
    "plt.ylabel(f'Counts (N={df_seq_summ_who.shape[0]-1})')\n",
    "plt.xticks(np.arange(0,105, 5), rotation=90)\n",
    "# plt.yticks(np.arange(0,375, 25))\n",
    "plt.grid('major', axis='y', ls='-.')\n",
    "plt.title('Distribution of Genome Coverage', title_fontdict)\n",
    "# ax.hlines(67, 2, 99, colors='orange', linestyles='--')\n",
    "# plt.annotate('80% coverage threshold', xy=(30, 80))\n",
    "# fig.savefig(f\"{glob.glob(f'{parent_dir}/**/PlotsFigures', recursive=True)[0]}/report-coverage-dist{category+'_'}{dt}.{ext}\")\n",
    "plt.show()\n",
    "\n"
   ]
  },
  {
   "cell_type": "code",
   "execution_count": 40,
   "metadata": {},
   "outputs": [],
   "source": [
    "df_gby_lin = df_seq_summ70.groupby('LIN').count()#, as_index=False"
   ]
  },
  {
   "cell_type": "code",
   "execution_count": 41,
   "metadata": {
    "tags": []
   },
   "outputs": [],
   "source": [
    "clr_code_keys = list(clr_code.keys())"
   ]
  },
  {
   "cell_type": "code",
   "execution_count": 42,
   "metadata": {},
   "outputs": [],
   "source": [
    "lins = df_gby_lin.S_NUM.sort_values(ascending=False)#.index\n",
    "# lins"
   ]
  },
  {
   "cell_type": "code",
   "execution_count": 43,
   "metadata": {},
   "outputs": [
    {
     "data": {
      "text/plain": [
       "{'B.1.596', 'None'}"
      ]
     },
     "execution_count": 43,
     "metadata": {},
     "output_type": "execute_result"
    }
   ],
   "source": [
    "lin_to_be_assinged =  set(lins.index) - set(clr_code_keys)\n",
    "lin_to_be_assinged"
   ]
  },
  {
   "cell_type": "raw",
   "metadata": {},
   "source": [
    "import pprint\n",
    "for lin, clr in zip(lin_to_be_assinged, avail_clr):\n",
    "#     print(lin, clr)\n",
    "    clr_code[lin] = clr_code.pop(clr)\n",
    "    avail_clr.remove(clr)"
   ]
  },
  {
   "cell_type": "raw",
   "metadata": {},
   "source": [
    "# pprint.pprint(clr_code)\n",
    "pprint.pprint(avail_clr)"
   ]
  },
  {
   "cell_type": "code",
   "execution_count": 44,
   "metadata": {},
   "outputs": [],
   "source": [
    "max_count = lins.max()\n",
    "# max_count"
   ]
  },
  {
   "cell_type": "code",
   "execution_count": 45,
   "metadata": {},
   "outputs": [],
   "source": [
    "dt_lins = df_seq_summ_ke[df_seq_summ_ke['G_COV'] >= 70.0].assign(LIN=df_seq_summ_ke.LIN.replace('B.1.617.2', 'B.1.617.2(Delta)').\n",
    "                                       apply(lambda x: str(x).replace(str(x), x+'(Delta)') if 'AY' in str(x) else x))\n",
    "deltas = ['AY.16(Delta)',\n",
    " 'AY.33(Delta)',\n",
    " 'B.1.617.2(Delta)',\n",
    " 'AY.24(Delta)',\n",
    " 'AY.7.1(Delta)',\n",
    " 'AY.26(Delta)',\n",
    " 'AY.4(Delta)',\n",
    " 'AY.34(Delta)',\n",
    " 'AY.37(Delta)']\n",
    "df_delta = dt_lins[dt_lins.LIN.str.contains('Delta') == True]\n",
    "delta_counts = df_delta.LIN.value_counts().to_frame().reset_index()"
   ]
  },
  {
   "cell_type": "raw",
   "metadata": {},
   "source": [
    "import matplotlib.patches as mpatches\n",
    "handles = [clr_code[l][1] for l in data[data['S_NUM'] == 1]['LIN']]\n",
    "handles_rgb = [ImageColor.getcolor(handle, \"RGB\") for handle in handles]\n",
    "labels = data[data['S_NUM'] == 1]['LIN'].tolist()\n",
    "leg = [mpatches.Patch(color=handle, label=label) for handle,label in zip(handles,labels)]"
   ]
  },
  {
   "cell_type": "code",
   "execution_count": 46,
   "metadata": {},
   "outputs": [
    {
     "ename": "KeyError",
     "evalue": "'None'",
     "output_type": "error",
     "traceback": [
      "\u001b[0;31m---------------------------------------------------------------------------\u001b[0m",
      "\u001b[0;31mKeyError\u001b[0m                                  Traceback (most recent call last)",
      "\u001b[0;32m<ipython-input-46-8e53fc0e9c5f>\u001b[0m in \u001b[0;36m<module>\u001b[0;34m\u001b[0m\n\u001b[1;32m      5\u001b[0m \u001b[0;34m\u001b[0m\u001b[0m\n\u001b[1;32m      6\u001b[0m \u001b[0;31m# colors = [clr_code[lin.split('(')[0]][1] for lin in width.index]\u001b[0m\u001b[0;34m\u001b[0m\u001b[0;34m\u001b[0m\u001b[0;34m\u001b[0m\u001b[0m\n\u001b[0;32m----> 7\u001b[0;31m \u001b[0mcolors\u001b[0m \u001b[0;34m=\u001b[0m \u001b[0;34m[\u001b[0m\u001b[0mclr_code\u001b[0m\u001b[0;34m[\u001b[0m\u001b[0mlin\u001b[0m\u001b[0;34m]\u001b[0m\u001b[0;34m[\u001b[0m\u001b[0;36m1\u001b[0m\u001b[0;34m]\u001b[0m \u001b[0;32mfor\u001b[0m \u001b[0mlin\u001b[0m \u001b[0;32min\u001b[0m \u001b[0mwidth\u001b[0m\u001b[0;34m.\u001b[0m\u001b[0mindex\u001b[0m\u001b[0;34m]\u001b[0m\u001b[0;34m\u001b[0m\u001b[0;34m\u001b[0m\u001b[0m\n\u001b[0m\u001b[1;32m      8\u001b[0m \u001b[0mcolor_sns\u001b[0m \u001b[0;34m=\u001b[0m \u001b[0;34m{\u001b[0m\u001b[0mlin\u001b[0m\u001b[0;34m:\u001b[0m \u001b[0mclr_code\u001b[0m\u001b[0;34m[\u001b[0m\u001b[0mlin\u001b[0m\u001b[0;34m]\u001b[0m\u001b[0;34m[\u001b[0m\u001b[0;36m1\u001b[0m\u001b[0;34m]\u001b[0m \u001b[0;32mfor\u001b[0m \u001b[0mlin\u001b[0m \u001b[0;32min\u001b[0m \u001b[0mwidth\u001b[0m\u001b[0;34m.\u001b[0m\u001b[0mindex\u001b[0m\u001b[0;34m}\u001b[0m\u001b[0;34m\u001b[0m\u001b[0;34m\u001b[0m\u001b[0m\n\u001b[1;32m      9\u001b[0m \u001b[0mn\u001b[0m \u001b[0;34m=\u001b[0m \u001b[0mdata\u001b[0m\u001b[0;34m.\u001b[0m\u001b[0mLIN\u001b[0m\u001b[0;34m.\u001b[0m\u001b[0mnunique\u001b[0m\u001b[0;34m(\u001b[0m\u001b[0;34m)\u001b[0m\u001b[0;34m\u001b[0m\u001b[0;34m\u001b[0m\u001b[0m\n",
      "\u001b[0;32m<ipython-input-46-8e53fc0e9c5f>\u001b[0m in \u001b[0;36m<listcomp>\u001b[0;34m(.0)\u001b[0m\n\u001b[1;32m      5\u001b[0m \u001b[0;34m\u001b[0m\u001b[0m\n\u001b[1;32m      6\u001b[0m \u001b[0;31m# colors = [clr_code[lin.split('(')[0]][1] for lin in width.index]\u001b[0m\u001b[0;34m\u001b[0m\u001b[0;34m\u001b[0m\u001b[0;34m\u001b[0m\u001b[0m\n\u001b[0;32m----> 7\u001b[0;31m \u001b[0mcolors\u001b[0m \u001b[0;34m=\u001b[0m \u001b[0;34m[\u001b[0m\u001b[0mclr_code\u001b[0m\u001b[0;34m[\u001b[0m\u001b[0mlin\u001b[0m\u001b[0;34m]\u001b[0m\u001b[0;34m[\u001b[0m\u001b[0;36m1\u001b[0m\u001b[0;34m]\u001b[0m \u001b[0;32mfor\u001b[0m \u001b[0mlin\u001b[0m \u001b[0;32min\u001b[0m \u001b[0mwidth\u001b[0m\u001b[0;34m.\u001b[0m\u001b[0mindex\u001b[0m\u001b[0;34m]\u001b[0m\u001b[0;34m\u001b[0m\u001b[0;34m\u001b[0m\u001b[0m\n\u001b[0m\u001b[1;32m      8\u001b[0m \u001b[0mcolor_sns\u001b[0m \u001b[0;34m=\u001b[0m \u001b[0;34m{\u001b[0m\u001b[0mlin\u001b[0m\u001b[0;34m:\u001b[0m \u001b[0mclr_code\u001b[0m\u001b[0;34m[\u001b[0m\u001b[0mlin\u001b[0m\u001b[0;34m]\u001b[0m\u001b[0;34m[\u001b[0m\u001b[0;36m1\u001b[0m\u001b[0;34m]\u001b[0m \u001b[0;32mfor\u001b[0m \u001b[0mlin\u001b[0m \u001b[0;32min\u001b[0m \u001b[0mwidth\u001b[0m\u001b[0;34m.\u001b[0m\u001b[0mindex\u001b[0m\u001b[0;34m}\u001b[0m\u001b[0;34m\u001b[0m\u001b[0;34m\u001b[0m\u001b[0m\n\u001b[1;32m      9\u001b[0m \u001b[0mn\u001b[0m \u001b[0;34m=\u001b[0m \u001b[0mdata\u001b[0m\u001b[0;34m.\u001b[0m\u001b[0mLIN\u001b[0m\u001b[0;34m.\u001b[0m\u001b[0mnunique\u001b[0m\u001b[0;34m(\u001b[0m\u001b[0;34m)\u001b[0m\u001b[0;34m\u001b[0m\u001b[0;34m\u001b[0m\u001b[0m\n",
      "\u001b[0;31mKeyError\u001b[0m: 'None'"
     ]
    }
   ],
   "source": [
    "plt.style.use('seaborn')\n",
    "width = lins.sort_values(ascending=True)\n",
    "data = lins.to_frame().reset_index()\n",
    "delta_counts = df_delta.LIN.value_counts().to_frame().reset_index()#.rename(columns={'index': 'LIN'})\n",
    "\n",
    "# colors = [clr_code[lin.split('(')[0]][1] for lin in width.index]\n",
    "colors = [clr_code[lin][1] for lin in width.index]\n",
    "color_sns = {lin: clr_code[lin][1] for lin in width.index}\n",
    "n = data.LIN.nunique()\n",
    "nn= delta_counts.LIN.sum()\n",
    "if category == 'drc': n = 'Deltas'\n",
    "m = data.S_NUM.sum()\n",
    "mm = data.LIN.sum()\n",
    "xticks = np.arange(0, (math.ceil(max_count / 5) + 1) * 5, 10)\n",
    "fig, ax =plt.subplots(1, 2, figsize=(8,6), gridspec_kw={'width_ratios': [3, 1]})\n",
    "labels = data[data['S_NUM'] == 1]['LIN'].tolist()\n",
    "# ax.set_facecolor(\"#E5E4E2\")##E5E4E2\n",
    "\n",
    "# plt.barh(width.index, width, height=0.7, log=False, color=colors)#, logy=True\n",
    "# sns.color_palette('bright')\n",
    "count_cut_off = 1\n",
    "sns.barplot(x='S_NUM', y='LIN', data=data[data['S_NUM'] > count_cut_off], palette=color_sns, ax=ax[0])\n",
    "sns.barplot(x='index', y='LIN', data=delta_counts, ax=ax[1], palette=sns.color_palette('hls', 8))\n",
    "# plt.xticks(xticks, xticks, rotation=90)\n",
    "plt.yticks(fontsize=9)# plt.yticks(width.index, fontsize=7)\n",
    "# plt.grid(which='major', axis='x', ls='--', color='w')\n",
    "ax[0].set_ylabel(f'Lineages ({n})')\n",
    "ax[0].set_xlabel(f'Counts (N={m})')\n",
    "ax[0].set_title('Lineage Counts', title_fontdict)\n",
    "for tick in ax[0].yaxis.get_major_ticks():\n",
    "    tick.label.set_fontsize(10)\n",
    "new_line = '\\n'\n",
    "x = '*'\n",
    "if count_cut_off > 1: \n",
    "    eq = '>='\n",
    "else: eq = ''\n",
    "ax[0].text(\n",
    "    300,8.5, f'Counts{new_line}{count_cut_off}{eq}/Lin', ha='center', va='bottom', rotation=0,# size=15,\n",
    "    bbox=dict(boxstyle=\"round,pad=0.3\", ec=None, fc=\"grey\"))\n",
    "ax[0].text(\n",
    "    300,9, f\"{f'{new_line}'.join(labels)}\", ha='center', va='top', rotation=0,# size=15,\n",
    "    bbox=dict(boxstyle=\"round,pad=0.3\", fc=\"w\", ec=\"grey\", lw=1))\n",
    "# ax[0].annotate(f\"{f'Count=1{new_line}'+f'{new_line}'.join(labels)}\", (0,0), xycoords='axes fraction',\n",
    "#             xytext=(0.74, 0.05))\n",
    "ax[0].annotate(f\"{x}$Parental$ $lineage$\", (0,0), xycoords='axes fraction',\n",
    "            xytext=(0.48, 0.1))\n",
    "ax[1].set_ylabel(f'Counts (N={nn})')\n",
    "ax[1].set_xlabel(f'')\n",
    "ax[1].set_xticklabels([d.split('(')[0] for d in delta_counts['index']], rotation=90)\n",
    "ax[1].set_title('Delta lineages', title_fontdict)\n",
    "# fig.suptitle('Lineage Counts')\n",
    "plt.tight_layout()\n",
    "# fig.savefig(f\"{glob.glob(f'{parent_dir}/**/PlotsFigures', recursive=True)[0]}/report-lineages{category+'_'}{dt}.{ext}\")\n",
    "plt.show()\n",
    "#include a subplot of deltas only"
   ]
  },
  {
   "cell_type": "raw",
   "metadata": {},
   "source": [
    "from PIL import ImageColor\n",
    "for handle in handles:\n",
    "    print(ImageColor.getcolor(handle, \"RGB\"))"
   ]
  },
  {
   "cell_type": "raw",
   "metadata": {},
   "source": [
    "def change_width(ax, new_value) :\n",
    "    for patch in ax.patches :\n",
    "        current_width = patch.get_width()\n",
    "        diff = current_width - new_value\n",
    "\n",
    "        # we change the bar width\n",
    "        patch.set_width(new_value)\n",
    "\n",
    "        # we recenter the bar\n",
    "        patch.set_x(patch.get_x() + diff * .5)\n",
    "\n",
    "change_width(ax, .35)\n",
    "plt.show()"
   ]
  },
  {
   "cell_type": "raw",
   "metadata": {},
   "source": [
    "ax[1].get_xticklabels()\n",
    "delta_counts"
   ]
  },
  {
   "cell_type": "code",
   "execution_count": null,
   "metadata": {},
   "outputs": [],
   "source": [
    "fig,ax = plt.subplots()\n",
    "\n",
    "data = df_seq_summ70['LIN'].value_counts()\n",
    "pie_clr = {clr_code[k][1]: k for k in data.index}\n",
    "pct = (np.array(data)/np.array(data).sum()*100).round(1)\n",
    "labels = {}\n",
    "for k,v in zip(data.index, pct):\n",
    "    if v >= 1:\n",
    "        labels[k] = f'{v}%: {k}'\n",
    "    else:\n",
    "        labels[k] = ''\n",
    "plt.pie(data, wedgeprops=dict(width=0.7), labels=list(labels.values()), labeldistance=1.02, radius=1.5, \n",
    "       colors=pie_clr)\n",
    "t = ax.text(\n",
    "    0, 0, f'Distribution of lineages\\ncoverage >= 70%\\n(N={data.sum()})', ha=\"center\", va=\"center\", size=15,\n",
    "    bbox=dict(boxstyle=\"circle,pad=0.3\", fc=\"lightgray\", ec=\"gray\", lw=1))\n",
    "# ax.annotate(f'Distribution of lineages\\nN={data.sum()}\\n(coverage >= 70%)', (0,0), fontsize=14)\n",
    "# ax.set_title('Proportions for Test Outcome', title_fontdict, pad=1.1)\n",
    "plt.tight_layout()\n",
    "# plt.savefig(f\"{glob.glob(f'{parent_dir}/**/PlotsFigures', recursive=True)[0]}/report-linfreq-pie{category+'_'}{dt}.{ext}\")\n",
    "plt.show()"
   ]
  },
  {
   "cell_type": "code",
   "execution_count": null,
   "metadata": {},
   "outputs": [],
   "source": [
    "top10lins = df_seq_summ70['LIN'].value_counts().index[:10].tolist()#.head()\n",
    "top10lins"
   ]
  },
  {
   "cell_type": "code",
   "execution_count": null,
   "metadata": {},
   "outputs": [],
   "source": [
    "df = df_seq_summ70[df_seq_summ70['DT_SAM_COLL'].notna()]\n",
    "df.shape\n",
    "df[df['LIN'].isin(top10lins)].shape"
   ]
  },
  {
   "cell_type": "code",
   "execution_count": null,
   "metadata": {},
   "outputs": [],
   "source": [
    "df_timeidx = df_seq_summ70[df_seq_summ70['DT_SAM_COLL'].notna()]\n",
    "df_timeidx.shape\n",
    "df_timeidx[df_timeidx['LIN'].isin(top10lins)].shape"
   ]
  },
  {
   "cell_type": "code",
   "execution_count": null,
   "metadata": {},
   "outputs": [],
   "source": [
    "plt.style.use('seaborn')\n",
    "# Prepare data\n",
    "df = df_seq_summ70[df_seq_summ70['DT_SAM_COLL'].notna()]\n",
    "\n",
    "x_var = 'DT_SAM_COLL'\n",
    "groupby_var = 'LIN'\n",
    "df_agg = df[df['LIN'].isin(top10lins)].loc[:, [x_var, groupby_var]].groupby(groupby_var)\n",
    "vals = [df[x_var].values.tolist() for i, df in df_agg]\n",
    "\n",
    "colors = {i: clr_code[i][1] for i, df in df_agg}\n",
    "# Draw\n",
    "plt.figure(figsize=(6,4))\n",
    "# colors = [plt.cm.Spectral(i/float(len(vals)-1)) for i in range(len(vals))]\n",
    "n, bins, patches = plt.hist(vals, len(df_agg[x_var].unique()), stacked=True, density=False, color=colors.values(), ec='k')\n",
    "\n",
    "# Decoration\n",
    "plt.legend(colors, title='Lineages', fancybox=True, labelspacing=0.25, ncol=1, fontsize=8)#, ncol=3\n",
    "plt.title(f\"Top 10 lineages by time (coverage >= 70%)\", fontsize=14)\n",
    "plt.xlabel('Date of confirmation')\n",
    "plt.ylabel(f\"Counts (N={df.shape[0]})\")\n",
    "# plt.ylim(0, 40)\n",
    "plt.xticks(ticks=bins, labels=pd.to_datetime(bins).strftime('%Y-%m'), rotation=90, horizontalalignment='right')\n",
    "plt.tight_layout()\n",
    "# plt.savefig(f\"{glob.glob(f'{parent_dir}/**/PlotsFigures', recursive=True)[0]}/report-linXtime{category+'_'}{dt}.{ext}\")\n",
    "plt.show()"
   ]
  },
  {
   "cell_type": "code",
   "execution_count": null,
   "metadata": {},
   "outputs": [],
   "source": [
    "width = df_covs['COUNT_RES'].value_counts()[:10].sort_values(ascending=True)"
   ]
  },
  {
   "cell_type": "code",
   "execution_count": null,
   "metadata": {},
   "outputs": [],
   "source": [
    "top10counties = df_seq_summ70.COUNT_RES.value_counts()[:10].index.tolist()\n",
    "# top10counties"
   ]
  },
  {
   "cell_type": "code",
   "execution_count": null,
   "metadata": {},
   "outputs": [],
   "source": [
    "plt.style.use('seaborn')\n",
    "# Prepare data\n",
    "df_seq_summ10Cs = df_seq_summ70[df_seq_summ70.COUNT_RES.isin(top10counties)]\n",
    "\n",
    "x_var = 'COUNT_RES'\n",
    "groupby_var = 'LIN'\n",
    "df_agg = df_seq_summ10Cs[df_seq_summ10Cs['LIN'].isin(top10lins)].loc[:, [x_var, groupby_var]].groupby(groupby_var)\n",
    "vals = [df_seq_summ10Cs[x_var].values.tolist() for i, df_seq_summ10Cs in df_agg]\n",
    "\n",
    "colors = {i: clr_code[i][1] for i, df_seq_summ10Cs in df_agg}\n",
    "# Draw\n",
    "plt.figure(figsize=(6,4))\n",
    "# colors = [plt.cm.Spectral(i/float(len(vals)-1)) for i in range(len(vals))]\n",
    "n, bins, patches = plt.hist(vals, len(df_agg[x_var].unique()), stacked=True,\n",
    "                            density=False, color=colors.values(), ec='w', rwidth=0.99)\n",
    "\n",
    "# Decoration\n",
    "plt.legend(colors, title='Lineages', fancybox=True, labelspacing=0.3, ncol=1, fontsize=9)#, ncol=3,\n",
    "plt.title(f\"Top 10 lineages by county of residence (coverage >= 70%)\", fontsize=12)\n",
    "plt.xlabel('County of residence')\n",
    "plt.ylabel(f\"Counts (N={df_seq_summ10Cs.shape[0]})\")\n",
    "# plt.ylim(0, 40)\n",
    "plt.xticks(rotation=90)\n",
    "plt.tight_layout()\n",
    "# plt.savefig(f\"{glob.glob(f'{parent_dir}/**/PlotsFigures', recursive=True)[0]}/report-linXtime{category+'_'}{dt}.{ext}\")\n",
    "plt.show()"
   ]
  },
  {
   "cell_type": "raw",
   "metadata": {},
   "source": [
    "vals.sort(key=len)"
   ]
  },
  {
   "cell_type": "code",
   "execution_count": null,
   "metadata": {},
   "outputs": [],
   "source": [
    "df_seq_summ10Ls = df_seq_summ10Cs[df_seq_summ10Cs.LIN.isin(top10lins)]"
   ]
  },
  {
   "cell_type": "code",
   "execution_count": null,
   "metadata": {},
   "outputs": [],
   "source": [
    "row_order = df_seq_summ10Ls.groupby('COUNT_RES').count().S_NUM.sort_values(ascending=False)\n",
    "# row_orderpalette"
   ]
  },
  {
   "cell_type": "code",
   "execution_count": null,
   "metadata": {},
   "outputs": [],
   "source": [
    "df_seq_summ10Ls_ord = df_seq_summ10Ls.assign(COUNT_RES = pd.Categorical(df_seq_summ10Ls.COUNT_RES, categories=row_order.index,ordered=True))"
   ]
  },
  {
   "cell_type": "code",
   "execution_count": null,
   "metadata": {},
   "outputs": [],
   "source": [
    "sr_top10lin = df_seq_summ70['LIN'].value_counts()[:10]\n",
    "top10lin_rev = sr_top10lin.sort_values(ascending=True).index"
   ]
  },
  {
   "cell_type": "code",
   "execution_count": null,
   "metadata": {},
   "outputs": [],
   "source": [
    "sr_top10lin"
   ]
  },
  {
   "cell_type": "code",
   "execution_count": null,
   "metadata": {},
   "outputs": [],
   "source": [
    "df_seq_summ10Ls_srt = df_seq_summ10Ls_ord.rename(columns={'LIN':'Lineages'}).sort_values('COUNT_RES', ascending=False)\n",
    "fig,ax = plt.subplots(figsize=(6,4))\n",
    "# sns.set_palette(sns.color_palette(colors.values()))\n",
    "palette_clr = {l: clr_code[l][1] for l in df_seq_summ10Ls_srt.Lineages.unique()}\n",
    "# sns.set_color_codes('pastel')\n",
    "sns.histplot(df_seq_summ10Ls_srt, x='COUNT_RES', \n",
    "            hue='Lineages',multiple=\"stack\",\n",
    "             hue_order=top10lin_rev,\n",
    "#             stat='percent',\n",
    "#             col_order=row_order,\n",
    "           palette=palette_clr, legend=True)#legend=True, loc='upper right',title='Lineages', ncol=1, borderaxespad=0\n",
    "# ax.get_legend()\n",
    "plt.xticks(rotation=90)\n",
    "plt.ylabel(f'Counts (N={row_order.sum()})')\n",
    "plt.xlabel('Counties')\n",
    "# plt.legend(palette_clr, title='Lineages', fancybox=True, labelspacing=0.25, ncol=1)\n",
    "# plt.legend(df_seq_summ10Ls_srt.LIN.value_counts().sort_values(ascending=True)[-10:].index,\n",
    "#           title='Lineages', ncol=1)#, bbox_to_anchor=(1,1)\n",
    "plt.title('Top 10 lineages by top 10 counties (coverage >= 70%)', fontsize=12)\n",
    "plt.grid(axis='x')\n",
    "plt.tight_layout()\n",
    "# plt.savefig(f\"{glob.glob(f'{parent_dir}/**/PlotsFigures', recursive=True)[0]}/report-linXcounty{category+'_'}{dt}.{ext}\")\n",
    "plt.show()"
   ]
  },
  {
   "cell_type": "code",
   "execution_count": null,
   "metadata": {},
   "outputs": [],
   "source": [
    "legend = ax.get_legend(); handles = legend.legendHandles"
   ]
  },
  {
   "cell_type": "code",
   "execution_count": null,
   "metadata": {},
   "outputs": [],
   "source": [
    "handles"
   ]
  },
  {
   "cell_type": "code",
   "execution_count": null,
   "metadata": {},
   "outputs": [],
   "source": [
    "df_time10 = df_seq_summ70[df_seq_summ70['DT_SAM_COLL'].notna()]#.set_index('DT_CONF').sort_index()"
   ]
  },
  {
   "cell_type": "code",
   "execution_count": null,
   "metadata": {},
   "outputs": [],
   "source": [
    "df_timeidx = df_time10[df_time10['LIN'].isin(top10lins)].set_index('DT_SAM_COLL').sort_index().drop_duplicates()"
   ]
  },
  {
   "cell_type": "code",
   "execution_count": null,
   "metadata": {},
   "outputs": [],
   "source": [
    "# df_timeidx.to_excel('/home/douso/Downloads/df_timeidx2.xlsx')#.head(5)#.LIN"
   ]
  },
  {
   "cell_type": "code",
   "execution_count": null,
   "metadata": {},
   "outputs": [],
   "source": [
    "df_timeidx.shape#.head()#to_excel('/home/douso/see.xlsx')#."
   ]
  },
  {
   "cell_type": "code",
   "execution_count": null,
   "metadata": {},
   "outputs": [],
   "source": [
    "df_ts = df_timeidx[df_timeidx['LIN'].notna()]\n",
    "df_ts.shape"
   ]
  },
  {
   "cell_type": "code",
   "execution_count": null,
   "metadata": {},
   "outputs": [],
   "source": [
    "df_ts2 = df_ts[df_ts['LIN'].isin(top10lins)]\n",
    "df_ts2.shape"
   ]
  },
  {
   "cell_type": "code",
   "execution_count": null,
   "metadata": {},
   "outputs": [],
   "source": [
    "df_ts3 = df_ts2.assign(LIN = pd.Categorical(df_ts2.LIN, categories=top10lins,ordered=True))"
   ]
  },
  {
   "cell_type": "code",
   "execution_count": null,
   "metadata": {},
   "outputs": [],
   "source": [
    "# df_ts3.head()"
   ]
  },
  {
   "cell_type": "code",
   "execution_count": null,
   "metadata": {},
   "outputs": [],
   "source": [
    "fortnightly = df_ts3.resample('2W', closed='right')#['lineage'].value_counts()"
   ]
  },
  {
   "cell_type": "code",
   "execution_count": null,
   "metadata": {},
   "outputs": [],
   "source": [
    "x = fortnightly['LIN'].value_counts()#.to_frame()#.T#.plot.hist(stacked=True)"
   ]
  },
  {
   "cell_type": "code",
   "execution_count": null,
   "metadata": {},
   "outputs": [],
   "source": [
    "x_index = x.index\n",
    "x_counts = list(x)"
   ]
  },
  {
   "cell_type": "code",
   "execution_count": null,
   "metadata": {},
   "outputs": [],
   "source": [
    "dict_={}\n",
    "for idx,lin in zip(x_index, x_counts):\n",
    "    if idx[0] in dict_:\n",
    "        dict_[idx[0]][idx[1]] = lin\n",
    "    else:\n",
    "        dict_[idx[0]] = {}\n",
    "        dict_[idx[0]][idx[1]] = lin"
   ]
  },
  {
   "cell_type": "code",
   "execution_count": null,
   "metadata": {},
   "outputs": [],
   "source": [
    "dt_lin_ts = pd.DataFrame(columns=set(x.index.get_level_values(1)))\n",
    "# data = {l: 0 for l in set(x.index.get_level_values(1))}\n",
    "idx = []\n",
    "for k,v in dict_.items():\n",
    "    data = {l: 0 for l in set(x.index.get_level_values(1))}\n",
    "    data.update(v)\n",
    "    dt_lin_ts = dt_lin_ts.append(data, ignore_index=True)\n",
    "    idx.append(k)#.strftime('%Y-%m-%d'))\n",
    "dt_lin_ts.index=idx\n",
    "# dt_lin_ts"
   ]
  },
  {
   "cell_type": "code",
   "execution_count": null,
   "metadata": {},
   "outputs": [],
   "source": [
    "# plt.style.available\n",
    "lin_colors = {k: clr_code[k][1] for k,v in clr_code.items()}"
   ]
  },
  {
   "cell_type": "code",
   "execution_count": null,
   "metadata": {},
   "outputs": [],
   "source": [
    "dt_lin_ts1 = dt_lin_ts[top10lins]"
   ]
  },
  {
   "cell_type": "code",
   "execution_count": null,
   "metadata": {},
   "outputs": [],
   "source": [
    "dt_lin_ts1.sum()"
   ]
  },
  {
   "cell_type": "code",
   "execution_count": null,
   "metadata": {},
   "outputs": [],
   "source": [
    "# plt.style.use('fivethirtyeight')\n",
    "plt.style.use('seaborn')\n",
    "# plt.style.use('ggplot')\n",
    "xticks = list(map(lambda x: pd.Timestamp(x), list(dt_lin_ts.index)))\n",
    "xlabels = list(map(lambda x: x.strftime('%Y-%m-%d'), list(dt_lin_ts.index)))\n",
    "fig,ax = plt.subplots(figsize=(9,4))\n",
    "dt_lin_ts1.plot.bar(stacked=True, ax=ax, color=lin_colors, ec='k', width=0.99)#, subplots=True\n",
    "ax.set_xticklabels(xlabels)\n",
    "plt.xticks()\n",
    "plt.ylabel(f\"Counts (N={df_ts2.shape[0]})\")\n",
    "plt.legend(title='Lineages', bbox_to_anchor=(1, 1), fancybox=True, ncol=2, loc=1)#bbox_to_anchor = (1, 1), \n",
    "plt.title('Top 10 lineages fortnightly occurence')\n",
    "plt.grid(axis='x')\n",
    "plt.tight_layout()\n",
    "# plt.savefig(f\"{glob.glob(f'{parent_dir}/**/PlotsFigures', recursive=True)[0]}/report-linX2weeks{category+'_'}{dt}.{ext}\")\n",
    "plt.show()"
   ]
  },
  {
   "cell_type": "code",
   "execution_count": null,
   "metadata": {},
   "outputs": [],
   "source": [
    "# plt.style.use('fivethirtyeight')\n",
    "plt.style.use('seaborn')\n",
    "# plt.style.use('ggplot')\n",
    "xticks = list(map(lambda x: pd.Timestamp(x), list(dt_lin_ts.index)))\n",
    "xlabels = list(map(lambda x: x.strftime('%Y-%m-%d'), list(dt_lin_ts.index)))\n",
    "fig,ax = plt.subplots(figsize=(9,4))\n",
    "                               \n",
    "#Get x boundaries\n",
    "start = pd.Timestamp(dt_lin_ts1.index[0])\n",
    "end = pd.Timestamp(dt_lin_ts1.index[-1])\n",
    "\n",
    "#X-locators\n",
    "dt_rng = pd.date_range(start, end, periods=dt_lin_ts1.shape[0], normalize=True)\n",
    "                \n",
    "y=dt_lin_ts1.sum(axis=1)\n",
    "x_interp = np.linspace(start.value, end.value, len(y))   \n",
    "                               \n",
    "#Train model\n",
    "#         cubic_interploation_model = interp1d(x_interp, y, kind = \"cubic\")\n",
    "bspline_interp = make_interp_spline(x_interp, y, k=3)\n",
    "\n",
    "# Plotting the Graph\n",
    "X_=np.linspace(x_interp.min(), x_interp.max(), 300)\n",
    "#         Y_=cubic_interploation_model(X_)\n",
    "Y_=bspline_interp(X_)\n",
    "\n",
    "                               \n",
    "dt_lin_ts1.plot.bar(stacked=True, ax=ax, color=lin_colors, ec='k', width=0.99)#, subplots=True\n",
    "ax.set_xticklabels(xlabels)\n",
    "ax2 = ax.twiny()\n",
    "ax2.plot(Y_)\n",
    "\n",
    "plt.xticks()\n",
    "plt.ylabel(f\"Counts (N={df_ts2.shape[0]})\")\n",
    "ax.legend(title='Lineages', bbox_to_anchor=(1, 1), fancybox=True, ncol=2, loc=1)#bbox_to_anchor = (1, 1), \n",
    "plt.title('Top 10 lineages fortnightly occurence')\n",
    "plt.grid(axis='x')\n",
    "plt.tight_layout()\n",
    "# plt.savefig(f\"{glob.glob(f'{parent_dir}/**/PlotsFigures', recursive=True)[0]}/report-linX2weeks+Trend{category+'_'}{dt}.{ext}\")\n",
    "plt.show()"
   ]
  },
  {
   "cell_type": "code",
   "execution_count": null,
   "metadata": {},
   "outputs": [],
   "source": [
    "Y_"
   ]
  },
  {
   "cell_type": "code",
   "execution_count": null,
   "metadata": {},
   "outputs": [],
   "source": [
    "import numpy as np\n",
    "from scipy.interpolate import interp1d, make_interp_spline\n",
    "import matplotlib.pyplot as plt\n",
    "from ipywidgets import widgets, interactive\n",
    "\n",
    "\n",
    "topX = list(top10lins) + ['All']\n",
    "lineage = widgets.Dropdown(options=topX, value='All', description='Lineages:')\n",
    "interp_points = widgets.IntSlider(value=500, min=100, max=2100, step=500, description='Number of data points:')\n",
    " \n",
    "def graph1(lineage, interp_points):\n",
    "    # Dataset\n",
    "    df_graph = dt_lin_ts\n",
    "    n = df_graph.shape[0]\n",
    "    \n",
    "    #Get x boundaries\n",
    "    start = pd.Timestamp(df_graph.index[0])\n",
    "    end = pd.Timestamp(df_graph.index[-1])\n",
    "    \n",
    "    #X-locators\n",
    "    dt_rng = pd.date_range(start, end, periods=n, normalize=True)\n",
    "    xticks = [pd.Timestamp(dt).value for dt in dt_rng]#dt_lin_ts.index\n",
    "    xlabel = [dt.strftime('%Y-%m') for dt in dt_rng]#dt_lin_ts.index\n",
    "    \n",
    "    #Plot canvas\n",
    "    fig,ax = plt.subplots(figsize=(6,4))\n",
    "    \n",
    "    if lineage == 'All':\n",
    "        lins = df_graph.columns\n",
    "    else:\n",
    "        lins = []; lins.append(lineage)\n",
    "    for lin in lins:\n",
    "#         df_graph += 1\n",
    "        y=df_graph[lin]\n",
    "        x_interp = np.linspace(start.value, end.value, len(y))\n",
    "    \n",
    "        #Train model\n",
    "#         cubic_interploation_model = interp1d(x_interp, y, kind = \"cubic\")\n",
    "        bspline_interp = make_interp_spline(x_interp, y, k=3)\n",
    " \n",
    "        # Plotting the Graph\n",
    "        X_=np.linspace(x_interp.min(), x_interp.max(), interp_points)\n",
    "#         Y_=cubic_interploation_model(X_)\n",
    "        Y_=bspline_interp(X_)\n",
    "\n",
    "        ax.plot(X_, Y_, label=lin, color=lin_colors[lin])\n",
    "        ax.legend()\n",
    "    plt.title('Lineages count over time')\n",
    "# ax.xaxis.set_major_locator(MultipleLocator(20))\n",
    "# ax.xaxis.set_minor_locator(MultipleLocator(4))\n",
    "    plt.xticks(xticks, labels=xlabel, rotation=90)\n",
    "    plt.xlabel(\"Months (fortnightly)\")\n",
    "    plt.ylabel(\"Counts\")\n",
    "    plt.show()"
   ]
  },
  {
   "cell_type": "code",
   "execution_count": null,
   "metadata": {},
   "outputs": [],
   "source": [
    "interactive(graph1, lineage=lineage, interp_points=interp_points)"
   ]
  },
  {
   "cell_type": "code",
   "execution_count": null,
   "metadata": {},
   "outputs": [],
   "source": [
    "from ipywidgets import widgets, interactive"
   ]
  },
  {
   "cell_type": "code",
   "execution_count": null,
   "metadata": {},
   "outputs": [],
   "source": [
    "index = df_ts['LIN'].resample('M', closed='right').count().index"
   ]
  },
  {
   "cell_type": "code",
   "execution_count": null,
   "metadata": {},
   "outputs": [],
   "source": [
    "ticks = [dt.value for dt in index]"
   ]
  },
  {
   "cell_type": "code",
   "execution_count": null,
   "metadata": {},
   "outputs": [],
   "source": [
    "import numpy as np\n",
    "from scipy.interpolate import interp1d\n",
    "import matplotlib.pyplot as plt\n",
    " \n",
    "# Dataset\n",
    "n=df_ts.shape[0]\n",
    "x=np.arange(n)\n",
    "y=np.array(df_ts['LIN'].resample('W', closed='right').count())\n",
    "\n",
    "start = pd.Timestamp(df_ts.index[0])\n",
    "end = pd.Timestamp(df_ts.index[-1])\n",
    "\n",
    "t = np.linspace(start.value, end.value, len(y))\n",
    "\n",
    "cubic_interploation_model = interp1d(t, y, kind = \"cubic\")\n",
    " \n",
    "# Plotting the Graph\n",
    "X_=np.linspace(t.min(), t.max(), 5000)\n",
    "Y_=cubic_interploation_model(X_)\n",
    "\n",
    "fig,ax = plt.subplots()\n",
    "\n",
    "plt.plot(X_, Y_)\n",
    "plt.title(\"Plot Smooth Curve Using the scipy.interpolate.interp1d Class\")\n",
    "# ax.xaxis.set_major_locator(MultipleLocator(20))\n",
    "# ax.xaxis.set_minor_locator(MultipleLocator(4))\n",
    "plt.xticks(ticks, labels=index, rotation=90)\n",
    "plt.xlabel(\"Months\")\n",
    "plt.ylabel(\"Lineage Count\")\n",
    "plt.show()"
   ]
  },
  {
   "cell_type": "code",
   "execution_count": null,
   "metadata": {},
   "outputs": [],
   "source": [
    "start = pd.Timestamp(df_ts.index[0])\n",
    "end = pd.Timestamp(df_ts.index[-1])"
   ]
  },
  {
   "cell_type": "code",
   "execution_count": null,
   "metadata": {},
   "outputs": [],
   "source": [
    "import numpy as np\n",
    "from scipy.interpolate import interp1d\n",
    "\n",
    "fig, ax = plt.subplots(figsize=(10, 5))\n",
    "\n",
    "tests = df_ts['LIN'].resample('W').count()\n",
    "# pos = df_tseries0['RESULT'].resample('W').count()\n",
    "# neg = df_tseries1['RESULT'].resample('W').count()\n",
    "\n",
    "tests.plot(ax=ax, linestyle='-', label='tests')\n",
    "# neg.plot(ax=ax, marker='o', linestyle='-', label='negaives')\n",
    "# pos.plot(ax=ax, marker='o', linestyle='-', label='positives')\n",
    "\n",
    "plt.xlabel('Weeks')\n",
    "plt.ylabel('Number of samples')\n",
    "# plt.legend()\n",
    "plt.tight_layout()\n",
    "# fig.savefig(f'/home/douso/Documents/TrendData/plots/draft_cov_trends_plot-line_{dt}.{ext}')\n",
    "plt.show()"
   ]
  },
  {
   "cell_type": "code",
   "execution_count": null,
   "metadata": {},
   "outputs": [],
   "source": [
    "df_B = pd.DataFrame({'Finland': 1, 'Fiji': 1, 'Australia': 2, 'Sweden': 11, 'United States of America':16, 'Kenya':35}, index=['B.1.596.1'])"
   ]
  },
  {
   "cell_type": "code",
   "execution_count": null,
   "metadata": {},
   "outputs": [],
   "source": [
    "df_B"
   ]
  },
  {
   "cell_type": "code",
   "execution_count": null,
   "metadata": {},
   "outputs": [],
   "source": [
    "dict_ = {'Finland': 1, 'Australia': 2, 'Sweden': 11, 'United States of America':16, 'Kenya':35}"
   ]
  },
  {
   "cell_type": "code",
   "execution_count": null,
   "metadata": {},
   "outputs": [],
   "source": [
    "plt.bar(dict_.keys(), dict_.values())#df_B.T, df_B.T['B.1.596.1'].values())#x=df_B.loc[:], y=df_B.columns, data=df_B)"
   ]
  },
  {
   "cell_type": "code",
   "execution_count": null,
   "metadata": {},
   "outputs": [],
   "source": [
    "fig,ax = plt.subplots()\n",
    "p = sns.barplot(x=df_B.T.index, \n",
    "            y=df_B.T['B.1.596.1'], data=df_B.T, palette='Blues_d', ax=ax)\n",
    "ax.set_xticklabels([d.replace('s ', '\\n') for d in df_B.T.index])\n",
    "# plot.text(range(4), 'test', ha='center')\n",
    "plt.ylabel('B.1.596.1\\nCounts')\n",
    "plt.savefig(f\"{glob.glob(f'{parent_dir}/**/PlotsFigures', recursive=True)[0]}/report-B.1.596.1{category+'_'}{dt}.{ext}\")\n"
   ]
  }
 ],
 "metadata": {
  "kernelspec": {
   "display_name": "Python 3",
   "language": "python",
   "name": "python3"
  },
  "language_info": {
   "codemirror_mode": {
    "name": "ipython",
    "version": 3
   },
   "file_extension": ".py",
   "mimetype": "text/x-python",
   "name": "python",
   "nbconvert_exporter": "python",
   "pygments_lexer": "ipython3",
   "version": "3.8.10"
  }
 },
 "nbformat": 4,
 "nbformat_minor": 4
}
