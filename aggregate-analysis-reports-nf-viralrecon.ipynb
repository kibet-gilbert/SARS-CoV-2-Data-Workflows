{
 "cells": [
  {
   "cell_type": "markdown",
   "metadata": {},
   "source": [
    "## **Notebook for aggregating sequencing reports**"
   ]
  },
  {
   "cell_type": "markdown",
   "metadata": {},
   "source": [
    "### **Packages**"
   ]
  },
  {
   "cell_type": "code",
   "execution_count": 1,
   "metadata": {},
   "outputs": [],
   "source": [
    "import pandas as pd\n",
    "import seaborn as sns\n",
    "import numpy as np\n",
    "import glob, os, re\n",
    "import matplotlib.pyplot as plt\n",
    "from datetime import  datetime\n",
    "from ipywidgets import widgets, interactive\n",
    "from pandas import ExcelWriter"
   ]
  },
  {
   "cell_type": "code",
   "execution_count": 2,
   "metadata": {},
   "outputs": [],
   "source": [
    "dt = datetime.today().strftime(format='%d-%m-%Y')"
   ]
  },
  {
   "cell_type": "markdown",
   "metadata": {},
   "source": [
    "### **Directories & Files**\n",
    "Uniqueness in directory and file names is assumed for all analyses\n",
    "\n",
    "The organisation of the `run_dir`: The directory name MUST be unique and reside anywhere inside `sars_dir` directory\n",
    " \n",
    "| Directory name | File name | File source-tool | File description |\n",
    "| :-------------- | :--------- | :---------------- | :------|\n",
    "|qcs *(QCs)*|`*.tsv`|Quast|Transposed report|\n",
    "|nxt *(nextclade)*|`nxt.tsv`|Nextclade|Renamed `nextclade.tsv` output|\n",
    "|snpEff|`*sneff.vcf`| snpEff|Per-sample unzipped `snpEff` output|\n",
    "|var *(variants)*|`k-per-gene_variant_anns.tsv`|Script: `abstract_snpeff_ann_output.py`|Aggregation of individual `snpEff.vcf` outputs by abstracting gene-mutations|\n",
    "|png *(pangolin)*|`png.csv`|Pangolin|Renamed `Pangolin result.csv` output|\n",
    "|dpt *(coverage depths)*|`amplicon, genome`|Mosdepth|Per-sample amplicon/genome depths<br> ***Cols**:chrom, start, end, region, coverage, sample*|\n",
    "|plt *(plot)*|`*.pdf`|Quast|Heatmap plot for median read depth coverage|"
   ]
  },
  {
   "cell_type": "markdown",
   "metadata": {},
   "source": [
    "### **Preliminary variables**"
   ]
  },
  {
   "cell_type": "code",
   "execution_count": 3,
   "metadata": {},
   "outputs": [],
   "source": [
    "sars_dir = 'SARS-CoV-2' #  name of root directory for all SARS-associated work\n",
    "home_dir = os.getenv('HOME') #  get OS home directory\n",
    "parent_dir = glob.glob(f'{home_dir}/**/{sars_dir}', recursive=True)[0]"
   ]
  },
  {
   "cell_type": "markdown",
   "metadata": {},
   "source": [
    "### **Metadata**"
   ]
  },
  {
   "cell_type": "code",
   "execution_count": 4,
   "metadata": {},
   "outputs": [],
   "source": [
    "# import raw metadata file\n",
    "df_rmd_cln = pd.read_excel(glob.glob(f'{parent_dir}/**/Outputs/COVID19-resultsCts-merged-cln.xlsx', recursive=True)[0]).rename(columns={'S_NUM': 'sample_name'}).drop('abbr', axis=1)"
   ]
  },
  {
   "cell_type": "markdown",
   "metadata": {},
   "source": [
    "### **Functions**"
   ]
  },
  {
   "cell_type": "code",
   "execution_count": 5,
   "metadata": {},
   "outputs": [],
   "source": [
    "# define a func to replace spaces in the header names\n",
    "def tidy_header(df):\n",
    "    df.columns = [col.replace(' ', '_') for col in df.columns]\n",
    "    return df"
   ]
  },
  {
   "cell_type": "code",
   "execution_count": 6,
   "metadata": {},
   "outputs": [],
   "source": [
    "# define func to retrieve particular columns from a df (spaces in col names must be replaced with _ in the input col_list)\n",
    "def get_cols(df, col_list):\n",
    "    new_df = tidy_header(df)\n",
    "    return new_df[col_list]"
   ]
  },
  {
   "cell_type": "code",
   "execution_count": 7,
   "metadata": {},
   "outputs": [],
   "source": [
    "# define a function to replace from a dictionary ('key is what is to be replaced': 'value is the replacement')\n",
    "def replace(string, substitutions):\n",
    "    substrings = sorted(substitutions, key=len, reverse=True)\n",
    "    regex = re.compile('|'.join(map(re.escape, substrings)))\n",
    "    return regex.sub(lambda match: substitutions[match.group(0)], string)"
   ]
  },
  {
   "cell_type": "code",
   "execution_count": 8,
   "metadata": {},
   "outputs": [],
   "source": [
    "# define function to merge variants and nextclade data\n",
    "def merge_varNxt(df_var_cln, df_nxt_cln):\n",
    "    return (df_var_cln.set_index('sample_name').merge(df_nxt_cln\n",
    "          .set_index('seqName'), how='outer', left_index=True, right_index=True)\n",
    "                 .reset_index().rename(columns={'index': 'sample_name'}))"
   ]
  },
  {
   "cell_type": "code",
   "execution_count": 9,
   "metadata": {},
   "outputs": [],
   "source": [
    "# define function to merge pangolin and variants-nextclade data\n",
    "def merge_pngVxt(df_png_cln, df_varNxt):\n",
    "    return (df_png_cln.set_index('Sequence_name').merge(df_varNxt\n",
    "        .set_index('sample_name'), how='outer', left_index=True, right_index=True)\n",
    "            .reset_index().rename(columns={'index': 'Sequence_name'}))\n"
   ]
  },
  {
   "cell_type": "code",
   "execution_count": 10,
   "metadata": {},
   "outputs": [],
   "source": [
    "# define function to merge metadata with cts data\n",
    "def merge_rmdCts(df_rmd_cln, df_cts_cln):\n",
    "    return (df_rmd_cln.set_index('S_NUM').merge(df_cts_cln.set_index('Sample_Name'), how='outer', left_index=True, right_index=True)\n",
    "            .reset_index().rename(columns={'index': 'S_NUM'}))\n"
   ]
  },
  {
   "cell_type": "code",
   "execution_count": 11,
   "metadata": {},
   "outputs": [],
   "source": [
    "# define function to merge metadata and seq data\n",
    "def merge_vnpPmd(df_pngVxt, df_rmdCts):\n",
    "    return (df_pngVxt.set_index('S_NUM')\n",
    "            .merge(df_rmdCts.set_index('S_NUM'), how='left', left_index=True, right_index=True)\n",
    "                 .reset_index().rename(columns={'index': 'S_NUM'}))"
   ]
  },
  {
   "cell_type": "code",
   "execution_count": 12,
   "metadata": {},
   "outputs": [],
   "source": [
    "# define a function to retrieve MoC and all mutations for the s-gene\n",
    "def get_mut_of_concern(ann_file_name, moc_list):\n",
    "\n",
    "    def intersection(x, y):\n",
    "        return list(set(x) & set(y))\n",
    "\n",
    "    moc_list = moc_list\n",
    "#     file_name = 'k-per-gene_variant_anns.tsv'\n",
    "    df = ann_file_name[['sample_name','S']]\n",
    "\n",
    "#     df = pd.read_table(f'{base_dir}/{file_name}')[['sample_name','S']]\n",
    "    mutations = []\n",
    "    moc = []\n",
    "    sample_id = []\n",
    "    for row in df.itertuples():\n",
    "        if isinstance(row.S, str):\n",
    "            sgene = row.S\n",
    "        else: \n",
    "            sgene = str(row.S)\n",
    "        substitutions = sgene.replace(' ', '').split(',')[1:-1]\n",
    "        if len(moc_list) >= len(intersection(moc_list, substitutions)) > 0:\n",
    "            intsct = intersection(moc_list, substitutions)\n",
    "            sample_name = row.sample_name\n",
    "            mutations.append(str(substitutions).replace(\"[\", \"\").replace(\"]\", \"\").replace(\"'\", \"\"))\n",
    "            moc.append(str(intsct).replace(\"[\", \"\").replace(\"]\", \"\").replace(\"'\", \"\"))\n",
    "            sample_id.append(sample_name)\n",
    "        else: pass \n",
    "    df = pd.DataFrame({'Sample_ID': sample_id, 'Mut_of_Concern_(S)': moc, 'All_Mutations_(S)': mutations})\n",
    "    df_fnl = df.assign(Sample_ID = df['Sample_ID'].apply(lambda x: x.split('_')[0].split('.')[0]))\n",
    "    return df_fnl"
   ]
  },
  {
   "cell_type": "code",
   "execution_count": 13,
   "metadata": {},
   "outputs": [],
   "source": [
    "def replace_with_who_lin(x):\n",
    "    if x == 'B.1.1.7':\n",
    "        return x.replace(x, 'B.1.1.7(Alpha)')\n",
    "    elif x == 'B.1.617.2':\n",
    "        return x.replace(x, 'B.1.617.2(Delta)')\n",
    "    elif x == 'B.1.351':\n",
    "        return x.replace(x, 'B.1.351(Beta)')\n",
    "    elif x == 'B.1.525':\n",
    "        return x.replace(x, 'B.1.525(Eta)')\n",
    "    elif 'AY' in str(x):\n",
    "        return str(x).replace(str(x), str(x)+'(Delta)')\n",
    "    elif x == 'B.1.1.529':\n",
    "        return x.replace(x, 'B.1.1.529(Omicron)')\n",
    "    elif 'BA' in str(x):\n",
    "        return str(x).replace(str(x), str(x)+'(Omicron)')\n",
    "    return x   "
   ]
  },
  {
   "cell_type": "markdown",
   "metadata": {},
   "source": [
    "### **Variables**\n",
    "\n",
    "Reassign accordingly..."
   ]
  },
  {
   "cell_type": "code",
   "execution_count": 392,
   "metadata": {},
   "outputs": [],
   "source": [
    "pipeline = 'nf-viralrecon-v2.4.1' #  name and version\n",
    "seq_name = 'seq40' #  seq*\n",
    "tech = 'MinION' #  NextSeq/MiSeq/MinION\n",
    "seq_dt = '01/04/2022' #  DD/MM/YYYY\n",
    "lib_prep = 'NEBNext' #  NEBNext/NEBNext_FS/COVIDSeq/Nextera_XT\n",
    "primer_set = 'ARTIC_V3' #  ARTIC_V3/ARTIC_V4\n",
    "identifier = 'ONT_seq40'#  used in naming file outputs\n",
    "run_dir = 'output_sarsAnalysisAll-ont_results_on_seq40' #  name of the run directory containing viralcon pipeline output as implemented by Kibet"
   ]
  },
  {
   "cell_type": "markdown",
   "metadata": {},
   "source": [
    "### **Sequencing sheet**"
   ]
  },
  {
   "cell_type": "code",
   "execution_count": 393,
   "metadata": {},
   "outputs": [
    {
     "data": {
      "text/html": [
       "<div>\n",
       "<style scoped>\n",
       "    .dataframe tbody tr th:only-of-type {\n",
       "        vertical-align: middle;\n",
       "    }\n",
       "\n",
       "    .dataframe tbody tr th {\n",
       "        vertical-align: top;\n",
       "    }\n",
       "\n",
       "    .dataframe thead th {\n",
       "        text-align: right;\n",
       "    }\n",
       "</style>\n",
       "<table border=\"1\" class=\"dataframe\">\n",
       "  <thead>\n",
       "    <tr style=\"text-align: right;\">\n",
       "      <th></th>\n",
       "      <th>sample_name</th>\n",
       "      <th>idx_plt_pos</th>\n",
       "    </tr>\n",
       "  </thead>\n",
       "  <tbody>\n",
       "    <tr>\n",
       "      <th>0</th>\n",
       "      <td>COVC04003</td>\n",
       "      <td>A1</td>\n",
       "    </tr>\n",
       "    <tr>\n",
       "      <th>1</th>\n",
       "      <td>COVC04466</td>\n",
       "      <td>B1</td>\n",
       "    </tr>\n",
       "  </tbody>\n",
       "</table>\n",
       "</div>"
      ],
      "text/plain": [
       "  sample_name idx_plt_pos\n",
       "0   COVC04003          A1\n",
       "1   COVC04466          B1"
      ]
     },
     "execution_count": 393,
     "metadata": {},
     "output_type": "execute_result"
    }
   ],
   "source": [
    "# import sequencing cheat sheet\n",
    "df_seq_sh = (pd.read_excel(glob.glob(f'{parent_dir}/**/SeqSampleSheets/index_cheat_sheet_{seq_name}.xlsx', recursive=True)[0], usecols=['indexing', 'idx_plt_pos']).\n",
    "             rename(columns={'indexing': 'sample_name'}))\n",
    "df_seq_sh_fnl = df_seq_sh[df_seq_sh['sample_name'].str.contains('COV')]\n",
    "df_seq_sh_fnl.head(2)"
   ]
  },
  {
   "cell_type": "markdown",
   "metadata": {},
   "source": [
    "### **QCstats**"
   ]
  },
  {
   "cell_type": "code",
   "execution_count": 394,
   "metadata": {},
   "outputs": [],
   "source": [
    "# import the collated file for all the multiqc output\n",
    "df_qcs_trans_cols = ['sample_name', 'Genome fraction (%)']# , 'Assembly'\n",
    "df_qcs_trans = pd.read_table(glob.glob(f'{parent_dir}/**/{run_dir}/qcs/transposed_report.tsv', recursive=True)[0])\n",
    "df_qcs_trans2 = df_qcs_trans.assign(sample_name = df_qcs_trans['Assembly'].apply(lambda x: x.split('_')[0].split('.')[0]))[df_qcs_trans_cols].rename(columns={'Genome fraction (%)': 'genome_cov'})\n",
    "df_qcs_trans_fnl = df_qcs_trans2.assign(genome_cov=df_qcs_trans2['genome_cov'].replace('-', np.nan).apply(lambda x: round(float(x),1) if float(x) else np.nan)).rename(columns={'genome_cov': 'Genome fraction (%)'})\n",
    "# df_qcs_trans_fnl['Seq id'] = run_dir\n",
    "# df_qcs_fnl['Analysis type'] = 'Qcs'"
   ]
  },
  {
   "cell_type": "code",
   "execution_count": 395,
   "metadata": {},
   "outputs": [
    {
     "data": {
      "text/html": [
       "<div>\n",
       "<style scoped>\n",
       "    .dataframe tbody tr th:only-of-type {\n",
       "        vertical-align: middle;\n",
       "    }\n",
       "\n",
       "    .dataframe tbody tr th {\n",
       "        vertical-align: top;\n",
       "    }\n",
       "\n",
       "    .dataframe thead th {\n",
       "        text-align: right;\n",
       "    }\n",
       "</style>\n",
       "<table border=\"1\" class=\"dataframe\">\n",
       "  <thead>\n",
       "    <tr style=\"text-align: right;\">\n",
       "      <th></th>\n",
       "      <th>sample_name</th>\n",
       "      <th>Genome fraction (%)</th>\n",
       "    </tr>\n",
       "  </thead>\n",
       "  <tbody>\n",
       "    <tr>\n",
       "      <th>0</th>\n",
       "      <td>COVC05104</td>\n",
       "      <td>98.0</td>\n",
       "    </tr>\n",
       "  </tbody>\n",
       "</table>\n",
       "</div>"
      ],
      "text/plain": [
       "  sample_name  Genome fraction (%)\n",
       "0   COVC05104                 98.0"
      ]
     },
     "execution_count": 395,
     "metadata": {},
     "output_type": "execute_result"
    }
   ],
   "source": [
    "df_qcs_trans_fnl.head(1)"
   ]
  },
  {
   "cell_type": "code",
   "execution_count": 396,
   "metadata": {},
   "outputs": [
    {
     "name": "stdout",
     "output_type": "stream",
     "text": [
      "Yes!\n"
     ]
    }
   ],
   "source": [
    "if 'Seq' or 'Illumina' in tech:\n",
    "    print('Yes!')"
   ]
  },
  {
   "cell_type": "code",
   "execution_count": 397,
   "metadata": {},
   "outputs": [],
   "source": [
    "# import the collated file for all the multiqc output\n",
    "sample_name = 'sample_name'\n",
    "if 'Seq'in tech or 'Illumina' in tech :\n",
    "    df_qcs_cols = ['sample_name', '# Input reads', '# Trimmed reads (fastp)',\n",
    "       '% Mapped reads', '# Mapped reads', '# Trimmed reads (iVar)', \n",
    "       'Coverage median', '% Coverage > 1x', '% Coverage > 10x',\n",
    "       'Pangolin lineage', 'Nextclade clade']#  , 'Sample'\n",
    "else:\n",
    "    df_qcs_cols = ['Sample', '# Mapped reads', 'Coverage median', '% Coverage > 1x', '% Coverage > 10x',\n",
    "       'Pangolin lineage', 'Nextclade clade']\n",
    "    sample_name = 'Sample'\n",
    "\n",
    "df_qcs = pd.read_csv(glob.glob(f'{parent_dir}/**/{run_dir}/qcs/summary_variants_metrics_mqc.csv', recursive=True)[0], sep=',')\n",
    "df_qcs_fnl = df_qcs.assign(sample_name = df_qcs[sample_name].apply(lambda x: x.split('_')[0]))[df_qcs_cols]\n",
    "if tech == 'MinION':\n",
    "    df_qcs_fnl[['# Input reads', '# Trimmed reads (fastp)', '% Mapped reads', '# Trimmed reads (iVar)']] = [np.nan, np.nan, np.nan, np.nan]\n",
    "    df_qcs_fnl = df_qcs_fnl[['Sample', '# Input reads', '# Trimmed reads (fastp)',\n",
    "       '% Mapped reads', '# Mapped reads', '# Trimmed reads (iVar)', \n",
    "       'Coverage median', '% Coverage > 1x', '% Coverage > 10x',\n",
    "       'Pangolin lineage', 'Nextclade clade']].rename(columns={'Sample': 'sample_name'})\n",
    "df_qcs_fnl['Seq id'] = run_dir\n",
    "# df_qcs_fnl['Analysis type'] = 'Qcs'"
   ]
  },
  {
   "cell_type": "code",
   "execution_count": 398,
   "metadata": {},
   "outputs": [
    {
     "data": {
      "text/html": [
       "<div>\n",
       "<style scoped>\n",
       "    .dataframe tbody tr th:only-of-type {\n",
       "        vertical-align: middle;\n",
       "    }\n",
       "\n",
       "    .dataframe tbody tr th {\n",
       "        vertical-align: top;\n",
       "    }\n",
       "\n",
       "    .dataframe thead th {\n",
       "        text-align: right;\n",
       "    }\n",
       "</style>\n",
       "<table border=\"1\" class=\"dataframe\">\n",
       "  <thead>\n",
       "    <tr style=\"text-align: right;\">\n",
       "      <th></th>\n",
       "      <th>sample_name</th>\n",
       "      <th># Input reads</th>\n",
       "      <th># Trimmed reads (fastp)</th>\n",
       "      <th>% Mapped reads</th>\n",
       "      <th># Mapped reads</th>\n",
       "      <th># Trimmed reads (iVar)</th>\n",
       "      <th>Coverage median</th>\n",
       "      <th>% Coverage &gt; 1x</th>\n",
       "      <th>% Coverage &gt; 10x</th>\n",
       "      <th>Pangolin lineage</th>\n",
       "      <th>Nextclade clade</th>\n",
       "      <th>Seq id</th>\n",
       "    </tr>\n",
       "  </thead>\n",
       "  <tbody>\n",
       "    <tr>\n",
       "      <th>0</th>\n",
       "      <td>COVC05103</td>\n",
       "      <td>NaN</td>\n",
       "      <td>NaN</td>\n",
       "      <td>NaN</td>\n",
       "      <td>13268</td>\n",
       "      <td>NaN</td>\n",
       "      <td>133</td>\n",
       "      <td>99.0</td>\n",
       "      <td>98.0</td>\n",
       "      <td>B.1</td>\n",
       "      <td>20C</td>\n",
       "      <td>output_sarsAnalysisAll-ont_results_on_seq40</td>\n",
       "    </tr>\n",
       "  </tbody>\n",
       "</table>\n",
       "</div>"
      ],
      "text/plain": [
       "  sample_name  # Input reads  # Trimmed reads (fastp)  % Mapped reads  \\\n",
       "0   COVC05103            NaN                      NaN             NaN   \n",
       "\n",
       "   # Mapped reads  # Trimmed reads (iVar)  Coverage median  % Coverage > 1x  \\\n",
       "0           13268                     NaN              133             99.0   \n",
       "\n",
       "   % Coverage > 10x Pangolin lineage Nextclade clade  \\\n",
       "0              98.0              B.1             20C   \n",
       "\n",
       "                                        Seq id  \n",
       "0  output_sarsAnalysisAll-ont_results_on_seq40  "
      ]
     },
     "execution_count": 398,
     "metadata": {},
     "output_type": "execute_result"
    }
   ],
   "source": [
    "df_qcs_fnl.head(1)"
   ]
  },
  {
   "cell_type": "code",
   "execution_count": 399,
   "metadata": {},
   "outputs": [],
   "source": [
    "df_seq_qcs = df_seq_sh_fnl.merge(df_qcs_trans_fnl, left_on='sample_name', right_on='sample_name', how='left')#.sort_values('Genome fraction (%)', ascending=False)"
   ]
  },
  {
   "cell_type": "code",
   "execution_count": 400,
   "metadata": {},
   "outputs": [
    {
     "data": {
      "text/html": [
       "<div>\n",
       "<style scoped>\n",
       "    .dataframe tbody tr th:only-of-type {\n",
       "        vertical-align: middle;\n",
       "    }\n",
       "\n",
       "    .dataframe tbody tr th {\n",
       "        vertical-align: top;\n",
       "    }\n",
       "\n",
       "    .dataframe thead th {\n",
       "        text-align: right;\n",
       "    }\n",
       "</style>\n",
       "<table border=\"1\" class=\"dataframe\">\n",
       "  <thead>\n",
       "    <tr style=\"text-align: right;\">\n",
       "      <th></th>\n",
       "      <th>sample_name</th>\n",
       "      <th>idx_plt_pos</th>\n",
       "      <th>Genome fraction (%)</th>\n",
       "    </tr>\n",
       "  </thead>\n",
       "  <tbody>\n",
       "    <tr>\n",
       "      <th>0</th>\n",
       "      <td>COVC04003</td>\n",
       "      <td>A1</td>\n",
       "      <td>NaN</td>\n",
       "    </tr>\n",
       "  </tbody>\n",
       "</table>\n",
       "</div>"
      ],
      "text/plain": [
       "  sample_name idx_plt_pos  Genome fraction (%)\n",
       "0   COVC04003          A1                  NaN"
      ]
     },
     "execution_count": 400,
     "metadata": {},
     "output_type": "execute_result"
    }
   ],
   "source": [
    "df_seq_qcs.head(1)"
   ]
  },
  {
   "cell_type": "code",
   "execution_count": 401,
   "metadata": {},
   "outputs": [],
   "source": [
    "qcStat = df_seq_qcs.merge(df_qcs_fnl, left_on='sample_name', right_on='sample_name', how='left').sort_values('Genome fraction (%)', ascending=False)"
   ]
  },
  {
   "cell_type": "code",
   "execution_count": 402,
   "metadata": {},
   "outputs": [],
   "source": [
    "df_seq_meta = df_seq_qcs.merge(df_rmd_cln, left_on='sample_name', right_on='sample_name', how='left').sort_values('Genome fraction (%)', ascending=False)\n",
    "# df_seq_meta.head()"
   ]
  },
  {
   "cell_type": "code",
   "execution_count": 403,
   "metadata": {},
   "outputs": [
    {
     "data": {
      "text/html": [
       "<div>\n",
       "<style scoped>\n",
       "    .dataframe tbody tr th:only-of-type {\n",
       "        vertical-align: middle;\n",
       "    }\n",
       "\n",
       "    .dataframe tbody tr th {\n",
       "        vertical-align: top;\n",
       "    }\n",
       "\n",
       "    .dataframe thead th {\n",
       "        text-align: right;\n",
       "    }\n",
       "</style>\n",
       "<table border=\"1\" class=\"dataframe\">\n",
       "  <thead>\n",
       "    <tr style=\"text-align: right;\">\n",
       "      <th></th>\n",
       "      <th>sample_name</th>\n",
       "      <th>idx_plt_pos</th>\n",
       "      <th>Genome fraction (%)</th>\n",
       "      <th># Input reads</th>\n",
       "      <th># Trimmed reads (fastp)</th>\n",
       "      <th>% Mapped reads</th>\n",
       "      <th># Mapped reads</th>\n",
       "      <th># Trimmed reads (iVar)</th>\n",
       "      <th>Coverage median</th>\n",
       "      <th>% Coverage &gt; 1x</th>\n",
       "      <th>% Coverage &gt; 10x</th>\n",
       "      <th>Pangolin lineage</th>\n",
       "      <th>Nextclade clade</th>\n",
       "      <th>Seq id</th>\n",
       "    </tr>\n",
       "  </thead>\n",
       "  <tbody>\n",
       "    <tr>\n",
       "      <th>21</th>\n",
       "      <td>COVC11160</td>\n",
       "      <td>F3</td>\n",
       "      <td>99.6</td>\n",
       "      <td>NaN</td>\n",
       "      <td>NaN</td>\n",
       "      <td>NaN</td>\n",
       "      <td>31640.0</td>\n",
       "      <td>NaN</td>\n",
       "      <td>339.0</td>\n",
       "      <td>100.0</td>\n",
       "      <td>100.0</td>\n",
       "      <td>B.1</td>\n",
       "      <td>20A</td>\n",
       "      <td>output_sarsAnalysisAll-ont_results_on_seq40</td>\n",
       "    </tr>\n",
       "  </tbody>\n",
       "</table>\n",
       "</div>"
      ],
      "text/plain": [
       "   sample_name idx_plt_pos  Genome fraction (%)  # Input reads  \\\n",
       "21   COVC11160          F3                 99.6            NaN   \n",
       "\n",
       "    # Trimmed reads (fastp)  % Mapped reads  # Mapped reads  \\\n",
       "21                      NaN             NaN         31640.0   \n",
       "\n",
       "    # Trimmed reads (iVar)  Coverage median  % Coverage > 1x  \\\n",
       "21                     NaN            339.0            100.0   \n",
       "\n",
       "    % Coverage > 10x Pangolin lineage Nextclade clade  \\\n",
       "21             100.0              B.1             20A   \n",
       "\n",
       "                                         Seq id  \n",
       "21  output_sarsAnalysisAll-ont_results_on_seq40  "
      ]
     },
     "execution_count": 403,
     "metadata": {},
     "output_type": "execute_result"
    }
   ],
   "source": [
    "qcStat.head(1)"
   ]
  },
  {
   "cell_type": "markdown",
   "metadata": {},
   "source": [
    "### **Nextclade data**"
   ]
  },
  {
   "cell_type": "code",
   "execution_count": 404,
   "metadata": {},
   "outputs": [],
   "source": [
    "# import Nextclade clade data\n",
    "df_nxt = pd.read_table(glob.glob(f'{parent_dir}/**/{run_dir}/nxt/nxt.tsv', recursive=True)[0])\n",
    "\n",
    "# sep = '.' if 'Seq' in tech else '_'\n",
    "\n",
    "# coverage based on totalMissing col in nexclade output\n",
    "coverage = round(100 - (df_nxt['totalMissing'] / 29903) * 100, 1)\n",
    "df_nxt_cln1 = df_nxt.assign(seqName = df_nxt['seqName'].apply(lambda x: x.split('_')[1].split('.')[0] if len(x.split('_')) > 2 else x.split('/')[0])).rename(columns={'seqName': 'sample_name'})\n",
    "df_nxt_cln2 = df_nxt_cln1.assign(coverage = coverage)\n",
    "df_nxt_fnl = df_nxt_cln1\n",
    "df_nxt_fnl['Seq id'] = run_dir\n",
    "# df_nxt_fnl['Analysis type'] = 'Nxt'"
   ]
  },
  {
   "cell_type": "code",
   "execution_count": 405,
   "metadata": {},
   "outputs": [
    {
     "data": {
      "text/html": [
       "<div>\n",
       "<style scoped>\n",
       "    .dataframe tbody tr th:only-of-type {\n",
       "        vertical-align: middle;\n",
       "    }\n",
       "\n",
       "    .dataframe tbody tr th {\n",
       "        vertical-align: top;\n",
       "    }\n",
       "\n",
       "    .dataframe thead th {\n",
       "        text-align: right;\n",
       "    }\n",
       "</style>\n",
       "<table border=\"1\" class=\"dataframe\">\n",
       "  <thead>\n",
       "    <tr style=\"text-align: right;\">\n",
       "      <th></th>\n",
       "      <th>sample_name</th>\n",
       "      <th>idx_plt_pos</th>\n",
       "      <th>Genome fraction (%)</th>\n",
       "      <th>clade</th>\n",
       "      <th>qc.overallScore</th>\n",
       "      <th>qc.overallStatus</th>\n",
       "      <th>totalSubstitutions</th>\n",
       "      <th>totalDeletions</th>\n",
       "      <th>totalInsertions</th>\n",
       "      <th>totalFrameShifts</th>\n",
       "      <th>...</th>\n",
       "      <th>qc.frameShifts.frameShiftsIgnored</th>\n",
       "      <th>qc.frameShifts.totalFrameShiftsIgnored</th>\n",
       "      <th>qc.frameShifts.score</th>\n",
       "      <th>qc.frameShifts.status</th>\n",
       "      <th>qc.stopCodons.stopCodons</th>\n",
       "      <th>qc.stopCodons.totalStopCodons</th>\n",
       "      <th>qc.stopCodons.score</th>\n",
       "      <th>qc.stopCodons.status</th>\n",
       "      <th>errors</th>\n",
       "      <th>Seq id</th>\n",
       "    </tr>\n",
       "  </thead>\n",
       "  <tbody>\n",
       "    <tr>\n",
       "      <th>21</th>\n",
       "      <td>COVC11160</td>\n",
       "      <td>F3</td>\n",
       "      <td>99.6</td>\n",
       "      <td>20A</td>\n",
       "      <td>0.0</td>\n",
       "      <td>good</td>\n",
       "      <td>12.0</td>\n",
       "      <td>0.0</td>\n",
       "      <td>0.0</td>\n",
       "      <td>0.0</td>\n",
       "      <td>...</td>\n",
       "      <td>NaN</td>\n",
       "      <td>0.0</td>\n",
       "      <td>0.0</td>\n",
       "      <td>good</td>\n",
       "      <td>NaN</td>\n",
       "      <td>0.0</td>\n",
       "      <td>0.0</td>\n",
       "      <td>good</td>\n",
       "      <td>NaN</td>\n",
       "      <td>output_sarsAnalysisAll-ont_results_on_seq40</td>\n",
       "    </tr>\n",
       "  </tbody>\n",
       "</table>\n",
       "<p>1 rows × 65 columns</p>\n",
       "</div>"
      ],
      "text/plain": [
       "   sample_name idx_plt_pos  Genome fraction (%) clade  qc.overallScore  \\\n",
       "21   COVC11160          F3                 99.6   20A              0.0   \n",
       "\n",
       "   qc.overallStatus  totalSubstitutions  totalDeletions  totalInsertions  \\\n",
       "21             good                12.0             0.0              0.0   \n",
       "\n",
       "    totalFrameShifts  ...  qc.frameShifts.frameShiftsIgnored  \\\n",
       "21               0.0  ...                                NaN   \n",
       "\n",
       "    qc.frameShifts.totalFrameShiftsIgnored  qc.frameShifts.score  \\\n",
       "21                                     0.0                   0.0   \n",
       "\n",
       "    qc.frameShifts.status  qc.stopCodons.stopCodons  \\\n",
       "21                   good                       NaN   \n",
       "\n",
       "    qc.stopCodons.totalStopCodons qc.stopCodons.score qc.stopCodons.status  \\\n",
       "21                            0.0                 0.0                 good   \n",
       "\n",
       "    errors                                       Seq id  \n",
       "21     NaN  output_sarsAnalysisAll-ont_results_on_seq40  \n",
       "\n",
       "[1 rows x 65 columns]"
      ]
     },
     "execution_count": 405,
     "metadata": {},
     "output_type": "execute_result"
    }
   ],
   "source": [
    "nextclade = df_seq_qcs.merge(df_nxt_fnl, left_on='sample_name', right_on='sample_name', how='left').sort_values('Genome fraction (%)', ascending=False)\n",
    "nextclade.head(1)"
   ]
  },
  {
   "cell_type": "markdown",
   "metadata": {},
   "source": [
    "### **Variants data**"
   ]
  },
  {
   "cell_type": "code",
   "execution_count": 406,
   "metadata": {},
   "outputs": [],
   "source": [
    "# import the collated file for all the snpEff outputs\n",
    "df_var = pd.read_csv(f\"{glob.glob(f'{parent_dir}/**/{run_dir}/var', recursive=True)[0]}/k-per-gene_variant_anns.tsv\", sep='\\t')\n",
    "df_var_fnl = df_var.assign(sample_name = df_var['sample_name'].apply(lambda x: x.split('_')[0].split('.')[0]))\n",
    "# df_var_fnl['Seq id'] = df_var_fnl.sample_name.\n",
    "# df_var_fnl['Analysis type'] = 'Var'"
   ]
  },
  {
   "cell_type": "code",
   "execution_count": 407,
   "metadata": {},
   "outputs": [
    {
     "data": {
      "text/html": [
       "<div>\n",
       "<style scoped>\n",
       "    .dataframe tbody tr th:only-of-type {\n",
       "        vertical-align: middle;\n",
       "    }\n",
       "\n",
       "    .dataframe tbody tr th {\n",
       "        vertical-align: top;\n",
       "    }\n",
       "\n",
       "    .dataframe thead th {\n",
       "        text-align: right;\n",
       "    }\n",
       "</style>\n",
       "<table border=\"1\" class=\"dataframe\">\n",
       "  <thead>\n",
       "    <tr style=\"text-align: right;\">\n",
       "      <th></th>\n",
       "      <th>sample_name</th>\n",
       "      <th>num_vars</th>\n",
       "      <th>ORF1ab</th>\n",
       "      <th>ORF1a</th>\n",
       "      <th>S</th>\n",
       "      <th>ORF3a</th>\n",
       "      <th>ORF3b</th>\n",
       "      <th>E</th>\n",
       "      <th>M</th>\n",
       "      <th>ORF6</th>\n",
       "      <th>ORF7a</th>\n",
       "      <th>ORF7b</th>\n",
       "      <th>ORF8</th>\n",
       "      <th>N</th>\n",
       "      <th>ORF9a</th>\n",
       "      <th>ORF9b</th>\n",
       "      <th>ORF10</th>\n",
       "    </tr>\n",
       "  </thead>\n",
       "  <tbody>\n",
       "    <tr>\n",
       "      <th>0</th>\n",
       "      <td>COVC11878</td>\n",
       "      <td>13</td>\n",
       "      <td>NC, F924F, T1761I, L4715L, L5833L</td>\n",
       "      <td>NaN</td>\n",
       "      <td>T20T, W152L, Y421Y, D614G, T941A, NC</td>\n",
       "      <td>NaN</td>\n",
       "      <td>NaN</td>\n",
       "      <td>NaN</td>\n",
       "      <td>NaN</td>\n",
       "      <td>NaN</td>\n",
       "      <td>NaN</td>\n",
       "      <td>NaN</td>\n",
       "      <td>T26I</td>\n",
       "      <td>S206F</td>\n",
       "      <td>NaN</td>\n",
       "      <td>NaN</td>\n",
       "      <td>NaN</td>\n",
       "    </tr>\n",
       "  </tbody>\n",
       "</table>\n",
       "</div>"
      ],
      "text/plain": [
       "  sample_name  num_vars                             ORF1ab  ORF1a  \\\n",
       "0   COVC11878        13  NC, F924F, T1761I, L4715L, L5833L    NaN   \n",
       "\n",
       "                                      S ORF3a  ORF3b    E    M  ORF6 ORF7a  \\\n",
       "0  T20T, W152L, Y421Y, D614G, T941A, NC   NaN    NaN  NaN  NaN   NaN   NaN   \n",
       "\n",
       "   ORF7b  ORF8      N  ORF9a  ORF9b ORF10  \n",
       "0    NaN  T26I  S206F    NaN    NaN   NaN  "
      ]
     },
     "execution_count": 407,
     "metadata": {},
     "output_type": "execute_result"
    }
   ],
   "source": [
    "df_var_fnl.head(1)"
   ]
  },
  {
   "cell_type": "raw",
   "metadata": {},
   "source": [
    "# MOH mutations of concern (spike only)\n",
    "moc_list = ['N501Y', 'E484K', 'K417N', 'P681R', 'E484Q', 'L452R', 'A570D', 'D80A', 'Q677H', 'F888L', 'L5F', 'D253G', 'E154K', 'A67V',\n",
    "           'D614G', 'D796Y', 'E484A', 'G339D', 'G446S', 'G496S', 'H655Y', 'L212I', 'L981F', 'N440K', 'N679K', 'N764K', 'N856K',\n",
    "           'N969K', 'P681H', 'Q493R', 'Q498R', 'Q954H', 'S371L', 'S373P', 'S375F', 'S477N', 'T478K', 'T547K', 'T95I', 'Y145D',\n",
    "           'Y505H',  'del142-144', 'del211', 'del69-70', 'ins214EPE']\n",
    "file_name = df_var_fnl\n",
    "df_moc = get_mut_of_concern(file_name, moc_list)"
   ]
  },
  {
   "cell_type": "code",
   "execution_count": 408,
   "metadata": {},
   "outputs": [
    {
     "data": {
      "text/html": [
       "<div>\n",
       "<style scoped>\n",
       "    .dataframe tbody tr th:only-of-type {\n",
       "        vertical-align: middle;\n",
       "    }\n",
       "\n",
       "    .dataframe tbody tr th {\n",
       "        vertical-align: top;\n",
       "    }\n",
       "\n",
       "    .dataframe thead th {\n",
       "        text-align: right;\n",
       "    }\n",
       "</style>\n",
       "<table border=\"1\" class=\"dataframe\">\n",
       "  <thead>\n",
       "    <tr style=\"text-align: right;\">\n",
       "      <th></th>\n",
       "      <th>sample_name</th>\n",
       "      <th>idx_plt_pos</th>\n",
       "      <th>Genome fraction (%)</th>\n",
       "      <th>num_vars</th>\n",
       "      <th>ORF1ab</th>\n",
       "      <th>ORF1a</th>\n",
       "      <th>S</th>\n",
       "      <th>ORF3a</th>\n",
       "      <th>ORF3b</th>\n",
       "      <th>E</th>\n",
       "      <th>M</th>\n",
       "      <th>ORF6</th>\n",
       "      <th>ORF7a</th>\n",
       "      <th>ORF7b</th>\n",
       "      <th>ORF8</th>\n",
       "      <th>N</th>\n",
       "      <th>ORF9a</th>\n",
       "      <th>ORF9b</th>\n",
       "      <th>ORF10</th>\n",
       "    </tr>\n",
       "  </thead>\n",
       "  <tbody>\n",
       "    <tr>\n",
       "      <th>21</th>\n",
       "      <td>COVC11160</td>\n",
       "      <td>F3</td>\n",
       "      <td>99.6</td>\n",
       "      <td>11.0</td>\n",
       "      <td>NC, A181A, L204F, F924F, T4467I, V4677I, L4715L</td>\n",
       "      <td>NaN</td>\n",
       "      <td>D614G, P728P</td>\n",
       "      <td>F114L</td>\n",
       "      <td>NaN</td>\n",
       "      <td>NaN</td>\n",
       "      <td>NaN</td>\n",
       "      <td>NaN</td>\n",
       "      <td>NaN</td>\n",
       "      <td>NaN</td>\n",
       "      <td>NaN</td>\n",
       "      <td>S206F</td>\n",
       "      <td>NaN</td>\n",
       "      <td>NaN</td>\n",
       "      <td>NaN</td>\n",
       "    </tr>\n",
       "  </tbody>\n",
       "</table>\n",
       "</div>"
      ],
      "text/plain": [
       "   sample_name idx_plt_pos  Genome fraction (%)  num_vars  \\\n",
       "21   COVC11160          F3                 99.6      11.0   \n",
       "\n",
       "                                             ORF1ab  ORF1a             S  \\\n",
       "21  NC, A181A, L204F, F924F, T4467I, V4677I, L4715L    NaN  D614G, P728P   \n",
       "\n",
       "    ORF3a  ORF3b    E    M  ORF6 ORF7a  ORF7b ORF8      N  ORF9a  ORF9b ORF10  \n",
       "21  F114L    NaN  NaN  NaN   NaN   NaN    NaN  NaN  S206F    NaN    NaN   NaN  "
      ]
     },
     "execution_count": 408,
     "metadata": {},
     "output_type": "execute_result"
    }
   ],
   "source": [
    "iVar_snpE = df_seq_qcs.merge(df_var_fnl, left_on='sample_name', right_on='sample_name', how='left').sort_values('Genome fraction (%)', ascending=False)\n",
    "iVar_snpE.head(1)"
   ]
  },
  {
   "cell_type": "markdown",
   "metadata": {},
   "source": [
    "### **Pangolin data**"
   ]
  },
  {
   "cell_type": "code",
   "execution_count": 409,
   "metadata": {},
   "outputs": [],
   "source": [
    "# import Pangolin lineage data\n",
    "# df_png = pd.read_csv(glob.glob(f'{parent_dir}/**/{run_dir}/png/png.csv', recursive=True)[0])\n",
    "df_png_web = pd.read_csv(glob.glob(f'{parent_dir}/**/{run_dir}/png/png.csv', recursive=True)[0]).rename(columns={'Sequence name': 'sample_name'})\n",
    "\n",
    "months = {'January': 'Jan', 'February': 'Feb', 'March': 'Mar',\n",
    "         'April': 'Apr', 'June': 'Jun', 'July': 'Jul', 'August': 'Aug',\n",
    "          'September': 'Sep', 'October': 'Oct', 'November': 'Nov', 'December': 'Dec'}\n",
    "# retrieve cols Sequence_name and Lineage (func get_cols replaces col names spaces with _)\n",
    "# cols = ['taxon', 'lineage', 'scorpio_call']#, 'Most_common_countries']\n",
    "# df_png_cln = get_cols(tidy_header(df_png), cols)\n",
    "# df_png_fnl = (df_png_cln.assign(taxon = df_png_cln['taxon']\n",
    "#             .apply(lambda x: '_'.join(x.split('_')[1:2]) if (len(x\n",
    "#             .split('_')) > 2) else x.split('_')[0]))).rename(columns={'taxon': 'sample_name'})\n",
    "df_png_fnl_web = (df_png_web.assign(sample_name = df_png_web['sample_name']\n",
    "                .apply(lambda x: x.split('_')[1].split('.')[0] if len(x.split('_')) > 2 else x.split('/')[0])))\n",
    "# df_png_fnl = df_png_cln1.assign(Date_range=df_png_cln1['Date_range'].apply(lambda x: replace(x, months) if (isinstance(x, str)) else x))\n",
    "df_png_fnl_web['Seq id'] = run_dir\n",
    "# df_png_fnl_web['Analysis type'] = 'Png'"
   ]
  },
  {
   "cell_type": "code",
   "execution_count": 410,
   "metadata": {},
   "outputs": [
    {
     "data": {
      "text/html": [
       "<div>\n",
       "<style scoped>\n",
       "    .dataframe tbody tr th:only-of-type {\n",
       "        vertical-align: middle;\n",
       "    }\n",
       "\n",
       "    .dataframe tbody tr th {\n",
       "        vertical-align: top;\n",
       "    }\n",
       "\n",
       "    .dataframe thead th {\n",
       "        text-align: right;\n",
       "    }\n",
       "</style>\n",
       "<table border=\"1\" class=\"dataframe\">\n",
       "  <thead>\n",
       "    <tr style=\"text-align: right;\">\n",
       "      <th></th>\n",
       "      <th>sample_name</th>\n",
       "      <th>idx_plt_pos</th>\n",
       "      <th>Genome fraction (%)</th>\n",
       "      <th>Lineage</th>\n",
       "      <th>Conflict</th>\n",
       "      <th>Ambiguity score</th>\n",
       "      <th>Scorpio call</th>\n",
       "      <th>Scorpio support</th>\n",
       "      <th>Scorpio conflict</th>\n",
       "      <th>Note</th>\n",
       "      <th>pangolin version</th>\n",
       "      <th>pangolin-data version</th>\n",
       "      <th>Seq id</th>\n",
       "    </tr>\n",
       "  </thead>\n",
       "  <tbody>\n",
       "    <tr>\n",
       "      <th>21</th>\n",
       "      <td>COVC11160</td>\n",
       "      <td>F3</td>\n",
       "      <td>99.6</td>\n",
       "      <td>B.1</td>\n",
       "      <td>0.2</td>\n",
       "      <td>NaN</td>\n",
       "      <td>NaN</td>\n",
       "      <td>NaN</td>\n",
       "      <td>NaN</td>\n",
       "      <td>Usher placements: B.1(4/5) B.1.195(1/5)</td>\n",
       "      <td>4.0.6</td>\n",
       "      <td>v1.9</td>\n",
       "      <td>output_sarsAnalysisAll-ont_results_on_seq40</td>\n",
       "    </tr>\n",
       "  </tbody>\n",
       "</table>\n",
       "</div>"
      ],
      "text/plain": [
       "   sample_name idx_plt_pos  Genome fraction (%) Lineage  Conflict  \\\n",
       "21   COVC11160          F3                 99.6     B.1       0.2   \n",
       "\n",
       "    Ambiguity score  Scorpio call  Scorpio support  Scorpio conflict  \\\n",
       "21              NaN           NaN              NaN               NaN   \n",
       "\n",
       "                                       Note pangolin version  \\\n",
       "21  Usher placements: B.1(4/5) B.1.195(1/5)            4.0.6   \n",
       "\n",
       "   pangolin-data version                                       Seq id  \n",
       "21                  v1.9  output_sarsAnalysisAll-ont_results_on_seq40  "
      ]
     },
     "execution_count": 410,
     "metadata": {},
     "output_type": "execute_result"
    }
   ],
   "source": [
    "pangolin = df_seq_qcs.merge(df_png_fnl_web, left_on='sample_name', right_on='sample_name', how='left').sort_values('Genome fraction (%)', ascending=False)\n",
    "pangolin.head(1)"
   ]
  },
  {
   "cell_type": "markdown",
   "metadata": {},
   "source": [
    "### **Summary: combining data**"
   ]
  },
  {
   "cell_type": "markdown",
   "metadata": {},
   "source": [
    "#### *Merge summary data*"
   ]
  },
  {
   "cell_type": "code",
   "execution_count": 411,
   "metadata": {},
   "outputs": [],
   "source": [
    "pango_summ = pangolin[['sample_name', 'Lineage', 'Scorpio call']]\n",
    "next_summ = nextclade[['sample_name', 'clade']]\n",
    "var_s = iVar_snpE[['sample_name', 'S']]\n",
    "var_summ = var_s.assign(spike_mut = var_s['S'].map(lambda x: int(len(x.split(',')))  if isinstance(x, str) else 0))\n",
    "pango_next = pango_summ.merge(next_summ, left_on='sample_name', right_on='sample_name', how='outer')\n",
    "pn_var = pango_next.merge(var_summ, left_on='sample_name', right_on='sample_name', how='outer')\n",
    "meta_summ = df_seq_meta[['CASE_ID', 'sample_name']]\n",
    "\n",
    "df_comb = df_seq_qcs.merge(pn_var, left_on='sample_name', right_on='sample_name', how='left')\n",
    "summary = (meta_summ.merge(df_comb, left_on='sample_name', right_on='sample_name', how='right').sort_values('Genome fraction (%)', ascending=False)\n",
    "          .rename(columns={'CASE_ID': 'Case id', 'sample_name': 'Unique lab id', 'plt_pos': 'Seq plate pos', 'clade': 'Clade', 'S': 'Spike mutations (snpEff)', 'spike_mut':'Spike mutation count'}))\n",
    "\n",
    "summary[['Seq number', 'Seq platform', 'Seq date', 'Library kit', 'Primer set', 'Analysis pipeline']] = [seq_name, tech, seq_dt, lib_prep, primer_set, pipeline]"
   ]
  },
  {
   "cell_type": "code",
   "execution_count": 412,
   "metadata": {},
   "outputs": [
    {
     "data": {
      "text/html": [
       "<div>\n",
       "<style scoped>\n",
       "    .dataframe tbody tr th:only-of-type {\n",
       "        vertical-align: middle;\n",
       "    }\n",
       "\n",
       "    .dataframe tbody tr th {\n",
       "        vertical-align: top;\n",
       "    }\n",
       "\n",
       "    .dataframe thead th {\n",
       "        text-align: right;\n",
       "    }\n",
       "</style>\n",
       "<table border=\"1\" class=\"dataframe\">\n",
       "  <thead>\n",
       "    <tr style=\"text-align: right;\">\n",
       "      <th></th>\n",
       "      <th>Case id</th>\n",
       "      <th>Unique lab id</th>\n",
       "      <th>idx_plt_pos</th>\n",
       "      <th>Genome fraction (%)</th>\n",
       "      <th>Lineage</th>\n",
       "      <th>Scorpio call</th>\n",
       "      <th>Clade</th>\n",
       "      <th>Spike mutations (snpEff)</th>\n",
       "      <th>Spike mutation count</th>\n",
       "      <th>Seq number</th>\n",
       "      <th>Seq platform</th>\n",
       "      <th>Seq date</th>\n",
       "      <th>Library kit</th>\n",
       "      <th>Primer set</th>\n",
       "      <th>Analysis pipeline</th>\n",
       "    </tr>\n",
       "  </thead>\n",
       "  <tbody>\n",
       "    <tr>\n",
       "      <th>21</th>\n",
       "      <td>NMS/EM/1204</td>\n",
       "      <td>COVC11160</td>\n",
       "      <td>F3</td>\n",
       "      <td>99.6</td>\n",
       "      <td>B.1</td>\n",
       "      <td>NaN</td>\n",
       "      <td>20A</td>\n",
       "      <td>D614G, P728P</td>\n",
       "      <td>2</td>\n",
       "      <td>seq40</td>\n",
       "      <td>MinION</td>\n",
       "      <td>01/04/2022</td>\n",
       "      <td>NEBNext</td>\n",
       "      <td>ARTIC_V3</td>\n",
       "      <td>nf-viralrecon-v2.4.1</td>\n",
       "    </tr>\n",
       "  </tbody>\n",
       "</table>\n",
       "</div>"
      ],
      "text/plain": [
       "        Case id Unique lab id idx_plt_pos  Genome fraction (%) Lineage  \\\n",
       "21  NMS/EM/1204     COVC11160          F3                 99.6     B.1   \n",
       "\n",
       "    Scorpio call Clade Spike mutations (snpEff)  Spike mutation count  \\\n",
       "21           NaN   20A             D614G, P728P                     2   \n",
       "\n",
       "   Seq number Seq platform    Seq date Library kit Primer set  \\\n",
       "21      seq40       MinION  01/04/2022     NEBNext   ARTIC_V3   \n",
       "\n",
       "       Analysis pipeline  \n",
       "21  nf-viralrecon-v2.4.1  "
      ]
     },
     "execution_count": 412,
     "metadata": {},
     "output_type": "execute_result"
    }
   ],
   "source": [
    "summary.head(1)"
   ]
  },
  {
   "cell_type": "markdown",
   "metadata": {},
   "source": [
    "### **Symptoms table**"
   ]
  },
  {
   "cell_type": "code",
   "execution_count": 413,
   "metadata": {},
   "outputs": [
    {
     "data": {
      "text/html": [
       "<div>\n",
       "<style scoped>\n",
       "    .dataframe tbody tr th:only-of-type {\n",
       "        vertical-align: middle;\n",
       "    }\n",
       "\n",
       "    .dataframe tbody tr th {\n",
       "        vertical-align: top;\n",
       "    }\n",
       "\n",
       "    .dataframe thead tr th {\n",
       "        text-align: left;\n",
       "    }\n",
       "</style>\n",
       "<table border=\"1\" class=\"dataframe\">\n",
       "  <thead>\n",
       "    <tr>\n",
       "      <th>abbr</th>\n",
       "      <th>SYMP_CODE</th>\n",
       "      <th>SC_DESC</th>\n",
       "    </tr>\n",
       "    <tr>\n",
       "      <th>desc</th>\n",
       "      <th>Symptom code</th>\n",
       "      <th>Code description</th>\n",
       "    </tr>\n",
       "  </thead>\n",
       "  <tbody>\n",
       "    <tr>\n",
       "      <th>0</th>\n",
       "      <td>GW</td>\n",
       "      <td>General (body) weakness/fatigue/malaise</td>\n",
       "    </tr>\n",
       "    <tr>\n",
       "      <th>1</th>\n",
       "      <td>FC</td>\n",
       "      <td>Fever/Chills</td>\n",
       "    </tr>\n",
       "    <tr>\n",
       "      <th>2</th>\n",
       "      <td>CO</td>\n",
       "      <td>Cough</td>\n",
       "    </tr>\n",
       "    <tr>\n",
       "      <th>3</th>\n",
       "      <td>ST</td>\n",
       "      <td>Sore throat</td>\n",
       "    </tr>\n",
       "    <tr>\n",
       "      <th>4</th>\n",
       "      <td>RN</td>\n",
       "      <td>Runny nose</td>\n",
       "    </tr>\n",
       "  </tbody>\n",
       "</table>\n",
       "</div>"
      ],
      "text/plain": [
       "abbr    SYMP_CODE                                  SC_DESC\n",
       "desc Symptom code                         Code description\n",
       "0              GW  General (body) weakness/fatigue/malaise\n",
       "1              FC                             Fever/Chills\n",
       "2              CO                                    Cough\n",
       "3              ST                              Sore throat\n",
       "4              RN                               Runny nose"
      ]
     },
     "execution_count": 413,
     "metadata": {},
     "output_type": "execute_result"
    }
   ],
   "source": [
    "abbr = ['GW','FC','CO','ST','RN','SB','D','NV','H',\n",
    "        'IC','P','LS','LT','P-M','P-A','P-B','P-C',\n",
    "        'P-J','BA','SZ','HP','TN','DZ','NS']\n",
    "symp = ['General (body) weakness/fatigue/malaise','Fever/Chills',\n",
    "        'Cough','Sore throat','Runny nose','Shortness of breath/Difficulty in breathing',\n",
    "        'Diarrhoea','Nausea/Vomiting','Headache','Irritability/Confusion','Pain','Loss of smell',\n",
    "        'Loss of taste/appetite','Muscular pain','Abdominal pain','Back pain','Chest pain',\n",
    "        'Joint pain','Body aches','Sneezing','Hypertension','Tonsillitis','Dizziness','Night sweats']\n",
    "symp_header = pd.MultiIndex.from_arrays([['SYMP_CODE', 'SC_DESC'], \n",
    "             ['Symptom code', 'Code description']], names=['abbr', 'desc'])\n",
    "symptoms = pd.DataFrame({'a': abbr, 'b': symp})\n",
    "symptoms.columns=symp_header\n",
    "symptoms.head()"
   ]
  },
  {
   "cell_type": "markdown",
   "metadata": {},
   "source": [
    "### **Generate reports**"
   ]
  },
  {
   "cell_type": "code",
   "execution_count": 414,
   "metadata": {},
   "outputs": [],
   "source": [
    "writer = pd.ExcelWriter(f\"{glob.glob(f'{parent_dir}/**/SeqReports', recursive=True)[0]}/{run_dir}.Analysis.QCstats.xlsx\")\n",
    "datasheets = [(qcStat, 'QCstats'), (pangolin, 'pangolinAnalysis'), (nextclade, 'nextcladeAnalysis'), (iVar_snpE, 'snpEffAnnotation'), (df_seq_meta, 'metaData'), (summary, 'summaryReport')]\n",
    "for datasheet in datasheets:\n",
    "    samp_id = 'sample_name' if datasheet[1] != 'summaryReport' else 'Unique lab id'\n",
    "    (datasheet[0].sort_values([samp_id, 'Genome fraction (%)'], ascending=[True, False]).drop_duplicates(samp_id, keep='first').sort_values('Genome fraction (%)', ascending=False)\n",
    "     .to_excel(writer, sheet_name=datasheet[1], index=False, na_rep='NA', float_format='%.1f'))\n",
    "symptoms.to_excel(writer, sheet_name='symptomsDictionary', index=True)\n",
    "writer.save()"
   ]
  },
  {
   "cell_type": "markdown",
   "metadata": {},
   "source": [
    "### **County feedback data**"
   ]
  },
  {
   "cell_type": "code",
   "execution_count": 415,
   "metadata": {},
   "outputs": [],
   "source": [
    "df_counties = df_seq_meta[['CASE_ID', 'sample_name', 'COUNT_RES']]\n",
    "\n",
    "# unique county identifiers\n",
    "reports = [('Homabay', 'HCRH'), ('Migori', 'MCRH'), ('Kisii', 'KCRH'), \n",
    "           ('Nyamira', 'NCRH'), ('Siaya', 'SCRH'), ('KCSS'), ('Bukavu', 'DRC03'),\n",
    "           ('Siaya', 'SIAYA'), ('Bungoma', 'BCRH'), ('Kapenguria', 'WPKRH'),\n",
    "           ('Kitale', 'TNZ'), ('Busia', 'BSCRH'), ('Turkana', 'TCRH'), ('Ethiopia', 'ETH'),\n",
    "           ('Sudan', 'SDN'), ('Eswatini', 'SWZ'), ('Mauritius ', 'MUS'), ('Uganda', 'UGA'),\n",
    "          ('Angola', 'AGO')]\n",
    "codes = set(df_counties.CASE_ID.map(lambda x: str(x).split('/')[0]))\n",
    "\n",
    "for report in reports:\n",
    "    mask1 = df_counties['COUNT_RES'] == report[0]\n",
    "    mask2 = df_counties['CASE_ID'].str.contains(report[1]) == True\n",
    "    mask3 = df_counties['CASE_ID'].str.contains(report[0]) == True\n",
    "#     print(report)\n",
    "    if len(report) != 2 and report[0] in codes:\n",
    "        df_report = df_counties[mask3 == True]['sample_name']\n",
    "        writer = pd.ExcelWriter(f\"{glob.glob(f'{parent_dir}/**/CountyFeedbacks', recursive=True)[0]}/{run_dir}_{report}.Analysis.QCstats.xlsx\")\n",
    "    elif len(report) == 2 and report[1] not in codes: \n",
    "        pass\n",
    "    \n",
    "    elif len(report) == 2 and report[1] in codes:\n",
    "        df_report = df_counties[mask2 == True]['sample_name']\n",
    "        writer = pd.ExcelWriter(f\"{glob.glob(f'{parent_dir}/**/CountyFeedbacks', recursive=True)[0]}/{run_dir}_{report[0]}.Analysis.QCstats.xlsx\")\n",
    "        for datasheet in datasheets:\n",
    "            samp_id = 'sample_name' if datasheet[1] != 'summaryReport' else 'Unique lab id'\n",
    "            (datasheet[0][datasheet[0][samp_id].isin(df_report)].sort_values([samp_id, 'Genome fraction (%)'], ascending=[True, False]).drop_duplicates(samp_id, keep='first')\n",
    "             .sort_values('Genome fraction (%)', ascending=False)\n",
    "             .to_excel(writer, sheet_name=datasheet[1], index=False, na_rep='NA', float_format='%.1f'))\n",
    "        symptoms.to_excel(writer, sheet_name='symptomsDictionary', index=True)\n",
    "        writer.save()    "
   ]
  }
 ],
 "metadata": {
  "kernelspec": {
   "display_name": "Python 3",
   "language": "python",
   "name": "python3"
  },
  "language_info": {
   "codemirror_mode": {
    "name": "ipython",
    "version": 3
   },
   "file_extension": ".py",
   "mimetype": "text/x-python",
   "name": "python",
   "nbconvert_exporter": "python",
   "pygments_lexer": "ipython3",
   "version": "3.8.10"
  }
 },
 "nbformat": 4,
 "nbformat_minor": 4
}
