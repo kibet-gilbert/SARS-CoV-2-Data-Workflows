{
 "cells": [
  {
   "cell_type": "markdown",
   "metadata": {},
   "source": [
    "## **Notebook for aggregating sequencving reports**"
   ]
  },
  {
   "cell_type": "markdown",
   "metadata": {},
   "source": [
    "### **Packages**"
   ]
  },
  {
   "cell_type": "code",
   "execution_count": 1,
   "metadata": {},
   "outputs": [],
   "source": [
    "import pandas as pd\n",
    "import seaborn as sns\n",
    "import numpy as np\n",
    "import glob, os, re\n",
    "import matplotlib.pyplot as plt\n",
    "from datetime import  datetime\n",
    "from ipywidgets import widgets, interactive\n",
    "from pandas import ExcelWriter"
   ]
  },
  {
   "cell_type": "code",
   "execution_count": 2,
   "metadata": {},
   "outputs": [],
   "source": [
    "dt = datetime.today().strftime(format='%d-%m-%Y')"
   ]
  },
  {
   "cell_type": "markdown",
   "metadata": {},
   "source": [
    "### **Directories & Files**\n",
    "Uniqueness in directory and file names is assumed for all analyses\n",
    "\n",
    "The organisation of the `run_dir`: The directory name MUST be unique and reside anywhere inside `sars_dir` directory\n",
    " \n",
    "| Directory name | File name | File source-tool | File description |\n",
    "| :-------------- | :--------- | :---------------- | :------|\n",
    "|amplicon|`*.tsv`|Mosdepth|Per-sample amplicon depths<br> ***Cols**:chrom, start, end, region, coverage, sample*\n",
    "|\n",
    "|genome|`*.tsv`|Mosdepth|Per-sample genome depths<br> ***Cols**:chrom, start, end, coverage, sample*|\n",
    "|nextclade|several| Nextclade|All Nextclade outputs|\n",
    "|pangolin|`*.csv/*.tsv`| Pangolin|Pangolin output in two formats|\n",
    "|snpEff|`*.vcf.gz`| snpEff|Per-sample unzipped snpEff output|\n",
    "\n",
    "Additional directories created inside `run_dir`: Used in the analysis\n",
    "\n",
    "| Directory name | File name | File source-tool | File description |\n",
    "| :-------------- | :--------- | :---------------- | :------|\n",
    "|var|`k-per-gene_variant_anns.tsv`|script: `abstract_snpeff_ann_output.py`|Aggregation of individual `snpEff .vcf` outputs by abstracting gene-mutations|\n",
    "|nxt|`nxt.tsv`|Nextclade|Renamed `Nextclade .tsv` output|\n",
    "|png|`png.csv`|Pangolin|Renamed `Pangolin .csv` output|\n"
   ]
  },
  {
   "cell_type": "markdown",
   "metadata": {},
   "source": [
    "### **Metadata**"
   ]
  },
  {
   "cell_type": "code",
   "execution_count": 56,
   "metadata": {},
   "outputs": [],
   "source": [
    "# import raw metadata file\n",
    "df_rmd_cln = pd.read_excel(glob.glob(f'{parent_dir}/**/Outputs/COVID19-resultsCts-merged-cln.xlsx', recursive=True)[0]).rename(columns={'S_NUM': 'sample_name'})"
   ]
  },
  {
   "cell_type": "markdown",
   "metadata": {},
   "source": [
    "### **Functions**"
   ]
  },
  {
   "cell_type": "code",
   "execution_count": 65,
   "metadata": {},
   "outputs": [],
   "source": [
    "# define a func to replace spaces in the header names\n",
    "def tidy_header(df):\n",
    "    df.columns = [col.replace(' ', '_') for col in df.columns]\n",
    "    return df"
   ]
  },
  {
   "cell_type": "code",
   "execution_count": 66,
   "metadata": {},
   "outputs": [],
   "source": [
    "# define func to retrieve particular columns from a df (spaces in col names must be replaced with _ in the input col_list)\n",
    "def get_cols(df, col_list):\n",
    "    new_df = tidy_header(df)\n",
    "    return new_df[col_list]"
   ]
  },
  {
   "cell_type": "code",
   "execution_count": 67,
   "metadata": {},
   "outputs": [],
   "source": [
    "# define a function to replace from a dictionary ('key is what is to be replaced': 'value is the replacement')\n",
    "def replace(string, substitutions):\n",
    "    substrings = sorted(substitutions, key=len, reverse=True)\n",
    "    regex = re.compile('|'.join(map(re.escape, substrings)))\n",
    "    return regex.sub(lambda match: substitutions[match.group(0)], string)"
   ]
  },
  {
   "cell_type": "code",
   "execution_count": 68,
   "metadata": {},
   "outputs": [],
   "source": [
    "# define function to merge variants and nextclade data\n",
    "def merge_varNxt(df_var_cln, df_nxt_cln):\n",
    "    return (df_var_cln.set_index('sample_name').merge(df_nxt_cln\n",
    "          .set_index('seqName'), how='outer', left_index=True, right_index=True)\n",
    "                 .reset_index().rename(columns={'index': 'sample_name'}))"
   ]
  },
  {
   "cell_type": "code",
   "execution_count": 69,
   "metadata": {},
   "outputs": [],
   "source": [
    "# define function to merge pangolin and variants-nextclade data\n",
    "def merge_pngVxt(df_png_cln, df_varNxt):\n",
    "    return (df_png_cln.set_index('Sequence_name').merge(df_varNxt\n",
    "        .set_index('sample_name'), how='outer', left_index=True, right_index=True)\n",
    "            .reset_index().rename(columns={'index': 'Sequence_name'}))\n"
   ]
  },
  {
   "cell_type": "code",
   "execution_count": 70,
   "metadata": {},
   "outputs": [],
   "source": [
    "# define function to merge metadata with cts data\n",
    "def merge_rmdCts(df_rmd_cln, df_cts_cln):\n",
    "    return (df_rmd_cln.set_index('S_NUM').merge(df_cts_cln.set_index('Sample_Name'), how='outer', left_index=True, right_index=True)\n",
    "            .reset_index().rename(columns={'index': 'S_NUM'}))\n"
   ]
  },
  {
   "cell_type": "code",
   "execution_count": 71,
   "metadata": {},
   "outputs": [],
   "source": [
    "# define function to merge metadata and seq data\n",
    "def merge_vnpPmd(df_pngVxt, df_rmdCts):\n",
    "    return (df_pngVxt.set_index('S_NUM')\n",
    "            .merge(df_rmdCts.set_index('S_NUM'), how='left', left_index=True, right_index=True)\n",
    "                 .reset_index().rename(columns={'index': 'S_NUM'}))"
   ]
  },
  {
   "cell_type": "code",
   "execution_count": 72,
   "metadata": {},
   "outputs": [],
   "source": [
    "# define a function to retrieve MoC and all mutations for the s-gene\n",
    "def get_mut_of_concern(ann_file_name, moc_list):\n",
    "\n",
    "    def intersection(x, y):\n",
    "        return list(set(x) & set(y))\n",
    "\n",
    "    moc_list = moc_list\n",
    "#     file_name = 'k-per-gene_variant_anns.tsv'\n",
    "    df = ann_file_name[['sample_name','S']]\n",
    "\n",
    "#     df = pd.read_table(f'{base_dir}/{file_name}')[['sample_name','S']]\n",
    "    mutations = []\n",
    "    moc = []\n",
    "    sample_id = []\n",
    "    for row in df.itertuples():\n",
    "        if isinstance(row.S, str):\n",
    "            sgene = row.S\n",
    "        else: \n",
    "            sgene = str(row.S)\n",
    "        substitutions = sgene.replace(' ', '').split(',')[1:-1]\n",
    "        if len(moc_list) >= len(intersection(moc_list, substitutions)) > 0:\n",
    "            intsct = intersection(moc_list, substitutions)\n",
    "            sample_name = row.sample_name\n",
    "            mutations.append(str(substitutions).replace(\"[\", \"\").replace(\"]\", \"\").replace(\"'\", \"\"))\n",
    "            moc.append(str(intsct).replace(\"[\", \"\").replace(\"]\", \"\").replace(\"'\", \"\"))\n",
    "            sample_id.append(sample_name)\n",
    "        else: pass \n",
    "    df = pd.DataFrame({'Sample_ID': sample_id, 'Mut_of_Concern_(S)': moc, 'All_Mutations_(S)': mutations})\n",
    "    df_fnl = df.assign(Sample_ID = df['Sample_ID'].apply(lambda x: x.split('_')[0]))\n",
    "    return df_fnl"
   ]
  },
  {
   "cell_type": "code",
   "execution_count": 73,
   "metadata": {},
   "outputs": [],
   "source": [
    "def replace_with_who_lin(x):\n",
    "    if x == 'B.1.1.7':\n",
    "        return x.replace(x, 'B.1.1.7(Alpha)')\n",
    "    elif x == 'B.1.617.2':\n",
    "        return x.replace(x, 'B.1.617.2(Delta)')\n",
    "    elif x == 'B.1.351':\n",
    "        return x.replace(x, 'B.1.351(Beta)')\n",
    "    elif x == 'B.1.525':\n",
    "        return x.replace(x, 'B.1.525(Eta)')\n",
    "    elif 'AY' in str(x):\n",
    "        return str(x).replace(str(x), str(x)+'(Delta)')\n",
    "    return x\n",
    "    \n",
    "    "
   ]
  },
  {
   "cell_type": "markdown",
   "metadata": {},
   "source": [
    "### **Variables**\n",
    "\n",
    "Reassign accordingly..."
   ]
  },
  {
   "cell_type": "code",
   "execution_count": 93,
   "metadata": {},
   "outputs": [],
   "source": [
    "pipeline = 'nf-viralrecon-v2.2'\n",
    "seq_name = 'seq22'#seq*\n",
    "tech = 'MiSeq'#NextSeq/MiSeq/MinION\n",
    "seq_dt = '10/11/2021'#DD/MM/YYYY\n",
    "lib_prep = 'NEBNext'#NEBNext/NEBNext_FS/COVIDSeq/Nextera_XT\n",
    "primer_set = 'ARTIC_V3'#ARTIC_V3/ARTIC_V4\n",
    "identifier = 'ILL_seq22' #used in naming file outputs\n",
    "sars_dir = 'SARS-CoV-2' #name of root directory for all SARS-associated work\n",
    "run_dir = 'output_2021-11-10_run22_miseq' #name of the run directory containing viralcon pipeline output as implemented by Kibet\n",
    "home_dir = os.getenv('HOME') #get OS home directory\n",
    "parent_dir = glob.glob(f'{home_dir}/**/{sars_dir}', recursive=True)[0]"
   ]
  },
  {
   "cell_type": "markdown",
   "metadata": {},
   "source": [
    "### **Sequencing sheet**"
   ]
  },
  {
   "cell_type": "code",
   "execution_count": 95,
   "metadata": {},
   "outputs": [],
   "source": [
    "# import raw metadata file\n",
    "df_seq_sh = (pd.read_excel(glob.glob(f'{parent_dir}/**/SeqSampleSheets/index_cheat_sheet_{seq_name}.xlsx', recursive=True)[0], usecols=['indexing', 'plt_pos']).\n",
    "             rename(columns={'indexing': 'sample_name'}))\n",
    "df_seq_sh_fnl = df_seq_sh[df_seq_sh['sample_name'].str.contains('COV')]"
   ]
  },
  {
   "cell_type": "markdown",
   "metadata": {},
   "source": [
    "### **QCstats**"
   ]
  },
  {
   "cell_type": "code",
   "execution_count": 96,
   "metadata": {},
   "outputs": [],
   "source": [
    "# import the collated file for all the multiqc output\n",
    "df_qcs_trans_cols = ['sample_name', 'Genome fraction (%)']#, 'Assembly'\n",
    "df_qcs_trans = pd.read_table(glob.glob(f'{parent_dir}/**/{run_dir}/qcs/transposed_report.tsv', recursive=True)[0])\n",
    "df_qcs_trans2 = df_qcs_trans.assign(sample_name = df_qcs_trans['Assembly'].apply(lambda x: '_'.join(x.split('_')[:-1]) if (len(x.split('_')) > 2) else x.split('_')[0]))[df_qcs_trans_cols].rename(columns={'Genome fraction (%)': 'genome_cov'})\n",
    "df_qcs_trans_fnl = df_qcs_trans2.assign(genome_cov=df_qcs_trans2['genome_cov'].replace('-', np.nan).apply(lambda x: round(float(x),1) if float(x) else np.nan)).rename(columns={'genome_cov': 'Genome fraction (%)'})\n",
    "# df_qcs_trans_fnl['Seq id'] = run_dir\n",
    "# df_qcs_fnl['Analysis type'] = 'Qcs'"
   ]
  },
  {
   "cell_type": "code",
   "execution_count": 97,
   "metadata": {},
   "outputs": [],
   "source": [
    "# import the collated file for all the multiqc output\n",
    "\n",
    "df_qcs_cols = ['sample_name', '# Input reads', '# Trimmed reads (fastp)',\n",
    "       '% Mapped reads', '# Mapped reads', '# Trimmed reads (iVar)', \n",
    "       'Coverage median', '% Coverage > 1x', '% Coverage > 10x',\n",
    "       'Pangolin lineage (iVar)', 'Nextclade clade (iVar)']#, 'Sample'\n",
    "\n",
    "df_qcs = pd.read_csv(glob.glob(f'{parent_dir}/**/{run_dir}/qcs/summary_variants_metrics_mqc.csv', recursive=True)[0], sep=',')\n",
    "df_qcs_fnl = df_qcs.assign(sample_name = df_qcs['Sample'].apply(lambda x: '_'.join(x.split('_')[:-1]) if (len(x.split('_')) > 2) else x.split('_')[0]))[df_qcs_cols]\n",
    "df_qcs_fnl['Seq id'] = run_dir\n",
    "# df_qcs_fnl['Analysis type'] = 'Qcs'"
   ]
  },
  {
   "cell_type": "code",
   "execution_count": 98,
   "metadata": {},
   "outputs": [],
   "source": [
    "df_seq_qcs = df_seq_sh_fnl.merge(df_qcs_trans_fnl, left_on='sample_name', right_on='sample_name', how='left').sort_values('Genome fraction (%)', ascending=False)"
   ]
  },
  {
   "cell_type": "code",
   "execution_count": 99,
   "metadata": {},
   "outputs": [],
   "source": [
    "qcStat = df_seq_qcs.merge(df_qcs_fnl, left_on='sample_name', right_on='sample_name', how='left').sort_values('Genome fraction (%)', ascending=False)"
   ]
  },
  {
   "cell_type": "code",
   "execution_count": 100,
   "metadata": {},
   "outputs": [],
   "source": [
    "df_seq_meta = df_seq_qcs.merge(df_rmd_cln, left_on='sample_name', right_on='sample_name', how='left').sort_values('Genome fraction (%)', ascending=False)\n",
    "# df_seq_meta.head()"
   ]
  },
  {
   "cell_type": "markdown",
   "metadata": {},
   "source": [
    "### **Nextclade data**"
   ]
  },
  {
   "cell_type": "code",
   "execution_count": 101,
   "metadata": {},
   "outputs": [],
   "source": [
    "# import Nextclade clade data\n",
    "df_nxt = pd.read_table(glob.glob(f'{parent_dir}/**/{run_dir}/nxt/nxt.tsv', recursive=True)[0])\n",
    "\n",
    "# # retrieve cols seqName and clade (func get_cols replaces col name spaces with _)\n",
    "# cols = ['seqName', 'clade', 'totalMissing']\n",
    "# df_nxt_cln = get_cols(df_nxt, cols)\n",
    "coverage = round(100 - (df_nxt['totalMissing'] / 29903) * 100, 1)\n",
    "# # if tech == 'MinION':\n",
    "df_nxt_cln1 = df_nxt.assign(seqName = df_nxt['seqName'].apply(lambda x: '_'.join((x.split('.')[0]).split('_')[1:-1]) if (len(x.split('_')) > 2) else (x.split('/')[0]))).rename(columns={'seqName': 'sample_name'})\n",
    "# # else:\n",
    "# #     df_nxt_cln1 = df_nxt_cln.assign(seqName = df_nxt_cln['seqName'].apply(lambda x: '_'.join((x.split('.')[0]).split('_')[1:-1]) if (len(x.split('_')) > 2) else (x.split('_')[0])))\n",
    "df_nxt_cln2 = df_nxt_cln1.assign(coverage = coverage)\n",
    "df_nxt_fnl = df_nxt_cln1#.assign(tech=tech)\n",
    "df_nxt_fnl['Seq id'] = run_dir\n",
    "# df_nxt_fnl['Analysis type'] = 'Nxt'"
   ]
  },
  {
   "cell_type": "code",
   "execution_count": 102,
   "metadata": {},
   "outputs": [],
   "source": [
    "nextclade = df_seq_qcs.merge(df_nxt_fnl, left_on='sample_name', right_on='sample_name', how='left').sort_values('Genome fraction (%)', ascending=False)"
   ]
  },
  {
   "cell_type": "code",
   "execution_count": 103,
   "metadata": {},
   "outputs": [
    {
     "data": {
      "text/html": [
       "<div>\n",
       "<style scoped>\n",
       "    .dataframe tbody tr th:only-of-type {\n",
       "        vertical-align: middle;\n",
       "    }\n",
       "\n",
       "    .dataframe tbody tr th {\n",
       "        vertical-align: top;\n",
       "    }\n",
       "\n",
       "    .dataframe thead th {\n",
       "        text-align: right;\n",
       "    }\n",
       "</style>\n",
       "<table border=\"1\" class=\"dataframe\">\n",
       "  <thead>\n",
       "    <tr style=\"text-align: right;\">\n",
       "      <th></th>\n",
       "      <th>sample_name</th>\n",
       "      <th>plt_pos</th>\n",
       "      <th>Genome fraction (%)</th>\n",
       "      <th>clade</th>\n",
       "      <th>qc.overallScore</th>\n",
       "      <th>qc.overallStatus</th>\n",
       "      <th>totalSubstitutions</th>\n",
       "      <th>totalDeletions</th>\n",
       "      <th>totalInsertions</th>\n",
       "      <th>totalAminoacidSubstitutions</th>\n",
       "      <th>...</th>\n",
       "      <th>qc.frameShifts.totalFrameShifts</th>\n",
       "      <th>qc.frameShifts.score</th>\n",
       "      <th>qc.frameShifts.status</th>\n",
       "      <th>qc.stopCodons.stopCodons</th>\n",
       "      <th>qc.stopCodons.totalStopCodons</th>\n",
       "      <th>qc.stopCodons.score</th>\n",
       "      <th>qc.stopCodons.status</th>\n",
       "      <th>errors</th>\n",
       "      <th>coverage</th>\n",
       "      <th>Seq id</th>\n",
       "    </tr>\n",
       "  </thead>\n",
       "  <tbody>\n",
       "    <tr>\n",
       "      <th>0</th>\n",
       "      <td>COVS0006</td>\n",
       "      <td>B10</td>\n",
       "      <td>99.7</td>\n",
       "      <td>21A (Delta)</td>\n",
       "      <td>57.812500</td>\n",
       "      <td>mediocre</td>\n",
       "      <td>37</td>\n",
       "      <td>18</td>\n",
       "      <td>0</td>\n",
       "      <td>22</td>\n",
       "      <td>...</td>\n",
       "      <td>1</td>\n",
       "      <td>75.0</td>\n",
       "      <td>mediocre</td>\n",
       "      <td>NaN</td>\n",
       "      <td>0</td>\n",
       "      <td>0.0</td>\n",
       "      <td>good</td>\n",
       "      <td>NaN</td>\n",
       "      <td>99.7</td>\n",
       "      <td>output_2021-11-10_run22_miseq</td>\n",
       "    </tr>\n",
       "    <tr>\n",
       "      <th>1</th>\n",
       "      <td>COVS0019</td>\n",
       "      <td>B12</td>\n",
       "      <td>99.0</td>\n",
       "      <td>20I (Alpha, V1)</td>\n",
       "      <td>406.254444</td>\n",
       "      <td>bad</td>\n",
       "      <td>28</td>\n",
       "      <td>16</td>\n",
       "      <td>0</td>\n",
       "      <td>22</td>\n",
       "      <td>...</td>\n",
       "      <td>0</td>\n",
       "      <td>0.0</td>\n",
       "      <td>good</td>\n",
       "      <td>NaN</td>\n",
       "      <td>0</td>\n",
       "      <td>0.0</td>\n",
       "      <td>good</td>\n",
       "      <td>NaN</td>\n",
       "      <td>98.9</td>\n",
       "      <td>output_2021-11-10_run22_miseq</td>\n",
       "    </tr>\n",
       "    <tr>\n",
       "      <th>2</th>\n",
       "      <td>COVM00711</td>\n",
       "      <td>F9</td>\n",
       "      <td>98.8</td>\n",
       "      <td>21A (Delta)</td>\n",
       "      <td>4.215106</td>\n",
       "      <td>good</td>\n",
       "      <td>38</td>\n",
       "      <td>13</td>\n",
       "      <td>0</td>\n",
       "      <td>28</td>\n",
       "      <td>...</td>\n",
       "      <td>0</td>\n",
       "      <td>0.0</td>\n",
       "      <td>good</td>\n",
       "      <td>NaN</td>\n",
       "      <td>0</td>\n",
       "      <td>0.0</td>\n",
       "      <td>good</td>\n",
       "      <td>NaN</td>\n",
       "      <td>98.8</td>\n",
       "      <td>output_2021-11-10_run22_miseq</td>\n",
       "    </tr>\n",
       "    <tr>\n",
       "      <th>4</th>\n",
       "      <td>COVM00752</td>\n",
       "      <td>G2</td>\n",
       "      <td>98.8</td>\n",
       "      <td>21J (Delta)</td>\n",
       "      <td>196.046145</td>\n",
       "      <td>bad</td>\n",
       "      <td>30</td>\n",
       "      <td>13</td>\n",
       "      <td>0</td>\n",
       "      <td>26</td>\n",
       "      <td>...</td>\n",
       "      <td>0</td>\n",
       "      <td>0.0</td>\n",
       "      <td>good</td>\n",
       "      <td>NaN</td>\n",
       "      <td>0</td>\n",
       "      <td>0.0</td>\n",
       "      <td>good</td>\n",
       "      <td>NaN</td>\n",
       "      <td>98.8</td>\n",
       "      <td>output_2021-11-10_run22_miseq</td>\n",
       "    </tr>\n",
       "    <tr>\n",
       "      <th>3</th>\n",
       "      <td>COVM00764</td>\n",
       "      <td>G6</td>\n",
       "      <td>98.8</td>\n",
       "      <td>21A (Delta)</td>\n",
       "      <td>0.740590</td>\n",
       "      <td>good</td>\n",
       "      <td>38</td>\n",
       "      <td>13</td>\n",
       "      <td>0</td>\n",
       "      <td>27</td>\n",
       "      <td>...</td>\n",
       "      <td>0</td>\n",
       "      <td>0.0</td>\n",
       "      <td>good</td>\n",
       "      <td>NaN</td>\n",
       "      <td>0</td>\n",
       "      <td>0.0</td>\n",
       "      <td>good</td>\n",
       "      <td>NaN</td>\n",
       "      <td>98.8</td>\n",
       "      <td>output_2021-11-10_run22_miseq</td>\n",
       "    </tr>\n",
       "  </tbody>\n",
       "</table>\n",
       "<p>5 rows × 53 columns</p>\n",
       "</div>"
      ],
      "text/plain": [
       "  sample_name plt_pos  Genome fraction (%)            clade  qc.overallScore  \\\n",
       "0    COVS0006     B10                 99.7      21A (Delta)        57.812500   \n",
       "1    COVS0019     B12                 99.0  20I (Alpha, V1)       406.254444   \n",
       "2   COVM00711      F9                 98.8      21A (Delta)         4.215106   \n",
       "4   COVM00752      G2                 98.8      21J (Delta)       196.046145   \n",
       "3   COVM00764      G6                 98.8      21A (Delta)         0.740590   \n",
       "\n",
       "  qc.overallStatus  totalSubstitutions  totalDeletions  totalInsertions  \\\n",
       "0         mediocre                  37              18                0   \n",
       "1              bad                  28              16                0   \n",
       "2             good                  38              13                0   \n",
       "4              bad                  30              13                0   \n",
       "3             good                  38              13                0   \n",
       "\n",
       "   totalAminoacidSubstitutions  ...  qc.frameShifts.totalFrameShifts  \\\n",
       "0                           22  ...                                1   \n",
       "1                           22  ...                                0   \n",
       "2                           28  ...                                0   \n",
       "4                           26  ...                                0   \n",
       "3                           27  ...                                0   \n",
       "\n",
       "   qc.frameShifts.score  qc.frameShifts.status  qc.stopCodons.stopCodons  \\\n",
       "0                  75.0               mediocre                       NaN   \n",
       "1                   0.0                   good                       NaN   \n",
       "2                   0.0                   good                       NaN   \n",
       "4                   0.0                   good                       NaN   \n",
       "3                   0.0                   good                       NaN   \n",
       "\n",
       "  qc.stopCodons.totalStopCodons qc.stopCodons.score qc.stopCodons.status  \\\n",
       "0                             0                 0.0                 good   \n",
       "1                             0                 0.0                 good   \n",
       "2                             0                 0.0                 good   \n",
       "4                             0                 0.0                 good   \n",
       "3                             0                 0.0                 good   \n",
       "\n",
       "  errors coverage                         Seq id  \n",
       "0    NaN     99.7  output_2021-11-10_run22_miseq  \n",
       "1    NaN     98.9  output_2021-11-10_run22_miseq  \n",
       "2    NaN     98.8  output_2021-11-10_run22_miseq  \n",
       "4    NaN     98.8  output_2021-11-10_run22_miseq  \n",
       "3    NaN     98.8  output_2021-11-10_run22_miseq  \n",
       "\n",
       "[5 rows x 53 columns]"
      ]
     },
     "execution_count": 103,
     "metadata": {},
     "output_type": "execute_result"
    }
   ],
   "source": [
    "nextclade.head()"
   ]
  },
  {
   "cell_type": "markdown",
   "metadata": {},
   "source": [
    "### **Variants data**"
   ]
  },
  {
   "cell_type": "code",
   "execution_count": 104,
   "metadata": {},
   "outputs": [],
   "source": [
    "# import the collated file for all the snpEff outputs\n",
    "df_var = pd.read_csv(glob.glob(f'{parent_dir}/**/{run_dir}/var/k-per-gene_variant_anns.tsv', recursive=True)[0], sep='\\t')\n",
    "df_var_fnl = df_var.assign(sample_name = df_var['sample_name'].apply(lambda x: '_'.join(x.split('_')[:-1]) if (len(x.split('_')) > 2) else x.split('_')[0]))\n",
    "df_var_fnl['Seq id'] = run_dir\n",
    "# df_var_fnl['Analysis type'] = 'Var'"
   ]
  },
  {
   "cell_type": "code",
   "execution_count": 105,
   "metadata": {},
   "outputs": [],
   "source": [
    "iVar_snpE = df_seq_qcs.merge(df_var_fnl, left_on='sample_name', right_on='sample_name', how='left').sort_values('Genome fraction (%)', ascending=False)"
   ]
  },
  {
   "cell_type": "markdown",
   "metadata": {},
   "source": [
    "### **Pangolin data**"
   ]
  },
  {
   "cell_type": "code",
   "execution_count": 106,
   "metadata": {},
   "outputs": [],
   "source": [
    "# import Pangolin lineage data\n",
    "df_png = pd.read_csv(glob.glob(f'{parent_dir}/**/{run_dir}/png/png.csv', recursive=True)[0])\n",
    "df_png_web = pd.read_csv(glob.glob(f'{parent_dir}/**/{run_dir}/png/png_web.csv', recursive=True)[0]).rename(columns={'Sequence name': 'sample_name'})\n",
    "# base_dir_pango = '/home/ouso/nextclade_files/batch2/nextclade_files_04-04-2021_11:25'\n",
    "# file_name_pango = 'consensus_pango.xlsx'\n",
    "\n",
    "# df_png = pd.read_excel(f'{base_dir_pango}/{file_name_pango}')\n",
    "months = {'January': 'Jan', 'February': 'Feb', 'March': 'Mar',\n",
    "         'April': 'Apr', 'June': 'Jun', 'July': 'Jul', 'August': 'Aug',\n",
    "          'September': 'Sep', 'October': 'Oct', 'November': 'Nov', 'December': 'Dec'}\n",
    "# retrieve cols Sequence_name and Lineage (func get_cols replaces col names spaces with _)\n",
    "cols = ['taxon', 'lineage', 'scorpio_call']#, 'Most_common_countries']\n",
    "df_png_cln = get_cols(tidy_header(df_png), cols)\n",
    "df_png_fnl = (df_png_cln.assign(taxon = df_png_cln['taxon'].\n",
    "                                apply(lambda x: '_'.join(x.split('_')[1:2]) if (len(x.split('_')) > 2) else x.split('_')[0]))).rename(columns={'taxon': 'sample_name'})\n",
    "df_png_fnl_web = (df_png_web.assign(sample_name = df_png_web['sample_name'].\n",
    "                                apply(lambda x: '_'.join(x.split('_')[1:2]) if (len(x.split('_')) > 2) else x.split('_')[0])))\n",
    "# df_png_fnl = df_png_cln1.assign(Date_range=df_png_cln1['Date_range'].apply(lambda x: replace(x, months) if (isinstance(x, str)) else x))\n",
    "df_png_fnl_web['Seq id'] = run_dir\n",
    "# df_png_fnl_web['Analysis type'] = 'Png'"
   ]
  },
  {
   "cell_type": "code",
   "execution_count": 107,
   "metadata": {},
   "outputs": [],
   "source": [
    "pangolin = df_seq_qcs.merge(df_png_fnl_web, left_on='sample_name', right_on='sample_name', how='left').sort_values('Genome fraction (%)', ascending=False)"
   ]
  },
  {
   "cell_type": "markdown",
   "metadata": {},
   "source": [
    "### **Summary: combining data**"
   ]
  },
  {
   "cell_type": "markdown",
   "metadata": {},
   "source": [
    "#### *Merge summary data*"
   ]
  },
  {
   "cell_type": "code",
   "execution_count": 108,
   "metadata": {},
   "outputs": [],
   "source": [
    "pango_summ = pangolin[['sample_name', 'Lineage', 'Scorpio call']]\n",
    "next_summ = nextclade[['sample_name', 'clade']]\n",
    "var_s = iVar_snpE[['sample_name', 'S']]\n",
    "# spike_count = var_summ['S'].map(lambda x: len(str(x).split(',')))\n",
    "var_summ = var_s.assign(spike_mut = var_s['S'].map(lambda x: int(len(x.split(',')))  if isinstance(x, str) else 0))\n",
    "pango_next = pango_summ.merge(next_summ, left_on='sample_name', right_on='sample_name', how='outer')\n",
    "pn_var = pango_next.merge(var_summ, left_on='sample_name', right_on='sample_name', how='outer')\n",
    "meta_summ = df_seq_meta[['CASE_ID', 'sample_name']]\n",
    "\n",
    "df_comb = df_seq_qcs.merge(pn_var, left_on='sample_name', right_on='sample_name', how='left').sort_values('Genome fraction (%)', ascending=False)\n",
    "summary = (meta_summ.merge(df_comb, left_on='sample_name', right_on='sample_name', how='right').sort_values('Genome fraction (%)', ascending=False)\n",
    "          .rename(columns={'CASE_ID': 'Case id', 'sample_name': 'Unique lab id', 'plt_pos': 'Seq plate pos', 'clade': 'Clade', 'S': 'Spike mutations (snpEff)', 'spike_mut':'Spike mutation count'}))\n",
    "\n",
    "summary[['Seq number', 'Seq platform', 'Seq date', 'Library kit', 'Primer set', 'Analysis pipeline']] = [seq_name, tech, seq_dt, lib_prep, primer_set, pipeline]"
   ]
  },
  {
   "cell_type": "markdown",
   "metadata": {},
   "source": [
    "### **Generate report**"
   ]
  },
  {
   "cell_type": "code",
   "execution_count": 109,
   "metadata": {},
   "outputs": [],
   "source": [
    "writer = pd.ExcelWriter(f\"{glob.glob(f'{parent_dir}/**/SeqReports', recursive=True)[0]}/{run_dir}.Analysis.QCstats.xlsx\")\n",
    "(qcStat.to_excel(writer, sheet_name='QCstats', index=False, na_rep='NA', float_format='%.1f'))\n",
    "\n",
    "(pangolin.to_excel(writer, sheet_name='pangolinAnalysis', index=False, na_rep='NA', float_format='%.1f'))\n",
    "\n",
    "(nextclade.to_excel(writer, sheet_name='nextcladeAnalysis', index=False, na_rep='NA', float_format='%.1f'))\n",
    "\n",
    "(iVar_snpE.to_excel(writer, sheet_name='snpEffAnnotation', index=False, na_rep='NA', float_format='%.1f'))\n",
    "\n",
    "(df_seq_meta.to_excel(writer, sheet_name='metaData', index=False, na_rep='NA', float_format='%.1f'))\n",
    "\n",
    "(summary.to_excel(writer, sheet_name='summaryReport', index=False, na_rep='NA', float_format='%.1f'))\n",
    "\n",
    "writer.save()"
   ]
  },
  {
   "cell_type": "markdown",
   "metadata": {},
   "source": [
    "### **County feedback data**"
   ]
  },
  {
   "cell_type": "code",
   "execution_count": 112,
   "metadata": {},
   "outputs": [],
   "source": [
    "df_raw_meta = df_seq_meta[['CASE_ID', 'sample_name', 'COUNT_RES']]\n",
    "# df_caseidSeq = df_raw_meta.merge(df_vnpPmd_fnl, how='right', left_on='S_NUM', right_on='S_NUM')#.drop('SUM_Y', axis=1)"
   ]
  },
  {
   "cell_type": "code",
   "execution_count": 113,
   "metadata": {},
   "outputs": [],
   "source": [
    "reports = [('Homabay', 'HCRH'), ('Migori', 'MCRH'), ('Kisii', 'KCRH'), \n",
    "           ('Nyamira', 'NCRH'), ('Siaya', 'SCRH'), ('KCSS'), ('Bukavu', 'DRC02')]\n",
    "\n",
    "for report in reports:\n",
    "    mask1 = df_raw_meta['COUNT_RES'] == report[0]\n",
    "    mask2 = df_raw_meta['CASE_ID'].str.contains(report[1]) == True\n",
    "    mask3 = df_raw_meta['CASE_ID'].str.contains(report[0]) == True\n",
    "    if len(report) != 2:\n",
    "        df_report = df_raw_meta[mask3 == True]['sample_name']\n",
    "        writer = pd.ExcelWriter(f\"{glob.glob(f'{parent_dir}/**/CountyFeedbacks', recursive=True)[0]}/{run_dir}_{report}.Analysis.QCstats.xlsx\")\n",
    "    else:\n",
    "        df_report = df_raw_meta[mask2 == True]['sample_name']\n",
    "        writer = pd.ExcelWriter(f\"{glob.glob(f'{parent_dir}/**/CountyFeedbacks', recursive=True)[0]}/{run_dir}_{report[0]}.Analysis.QCstats.xlsx\")\n",
    "    if len(df_report) > 0:\n",
    "#         writer = pd.ExcelWriter(f\"{glob.glob(f'{parent_dir}/**/CountyFeedbacks', recursive=True)[0]}/{run_dir}_{report[0]}.Analysis.QCstats.xlsx\")\n",
    "        (qcStat[qcStat['sample_name'].isin(df_report)].to_excel(writer, sheet_name='QCstats', index=False, na_rep='NA', float_format='%.1f'))\n",
    "\n",
    "        (pangolin[pangolin['sample_name'].isin(df_report)].to_excel(writer, sheet_name='pangolinAnalysis', index=False, na_rep='NA', float_format='%.1f'))\n",
    "\n",
    "        (nextclade[nextclade['sample_name'].isin(df_report)].to_excel(writer, sheet_name='nextcladeAnalysis', index=False, na_rep='NA', float_format='%.1f'))\n",
    "\n",
    "        (iVar_snpE[iVar_snpE['sample_name'].isin(df_report)].to_excel(writer, sheet_name='snpEffAnnotation', index=False, na_rep='NA', float_format='%.1f'))\n",
    "\n",
    "        (df_seq_meta[df_seq_meta['sample_name'].isin(df_report)].to_excel(writer, sheet_name='metaData', index=False, na_rep='NA', float_format='%.1f'))\n",
    "\n",
    "        (summary[summary['Unique lab id'].isin(df_report)].to_excel(writer, sheet_name='summaryReport', index=False, na_rep='NA', float_format='%.1f'))\n",
    "\n",
    "        writer.save()\n",
    "#         df_report.to_excel(f\"{glob.glob(f'{parent_dir}/CountyFeedbacks')[0]}/{seq_name}-results-{report[0]}_{dt}.xlsx\", index=False, float_format='%.1f')\n",
    "    "
   ]
  }
 ],
 "metadata": {
  "kernelspec": {
   "display_name": "Python 3",
   "language": "python",
   "name": "python3"
  },
  "language_info": {
   "codemirror_mode": {
    "name": "ipython",
    "version": 3
   },
   "file_extension": ".py",
   "mimetype": "text/x-python",
   "name": "python",
   "nbconvert_exporter": "python",
   "pygments_lexer": "ipython3",
   "version": "3.8.10"
  }
 },
 "nbformat": 4,
 "nbformat_minor": 4
}
