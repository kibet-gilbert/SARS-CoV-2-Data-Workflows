{
 "cells": [
  {
   "cell_type": "markdown",
   "metadata": {},
   "source": [
    "### Name of run-analysis for seq2"
   ]
  },
  {
   "cell_type": "markdown",
   "metadata": {},
   "source": [
    " - covar_a: raw read input\n",
    " - covar_b: cov-only read input\n",
    " - covar_c: human-contaminants-removed read input"
   ]
  },
  {
   "cell_type": "markdown",
   "metadata": {},
   "source": [
    "### $11^{th}$ May, 2021"
   ]
  },
  {
   "cell_type": "markdown",
   "metadata": {},
   "source": [
    "Renamed the following samples while locally processing the metadata:\n",
    "- 012/IMH/533\n",
    "- 012/IMN/538\n",
    "- 012/IMN/539\n",
    "- 012/IMC/004\n",
    "- 012/IMC/557\n",
    "\n",
    "To:\n",
    "- KEM-012-IMH-533-12756\n",
    "- KEM-012-IMN-538-12761\n",
    "- KEM-012-IMN-539-12762\n",
    "- KEM-012-IMC-004-12773\n",
    "- KEM-012-IMC-557-12780\n",
    "\n",
    "They were in the same batch(KEMRI samples for sequencing) yet lacked most of the metadata"
   ]
  },
  {
   "cell_type": "markdown",
   "metadata": {},
   "source": [
    "### $13^{th}$ May, 2021"
   ]
  },
  {
   "cell_type": "markdown",
   "metadata": {},
   "source": [
    "Repeat results sheets:\n",
    "- COVID-19-Test_result_Reporting_12_06_2020.xlsx\n",
    "- COVID-19-Test_result_Reporting_13_06_2020.xlsx\n",
    "\n",
    "Missing sheet(s):\n",
    "- Between COVC00835 and COVC00930"
   ]
  },
  {
   "cell_type": "code",
   "execution_count": null,
   "metadata": {},
   "outputs": [],
   "source": []
  }
 ],
 "metadata": {
  "kernelspec": {
   "display_name": "Python 3",
   "language": "python",
   "name": "python3"
  },
  "language_info": {
   "codemirror_mode": {
    "name": "ipython",
    "version": 3
   },
   "file_extension": ".py",
   "mimetype": "text/x-python",
   "name": "python",
   "nbconvert_exporter": "python",
   "pygments_lexer": "ipython3",
   "version": "3.8.10"
  }
 },
 "nbformat": 4,
 "nbformat_minor": 4
}
