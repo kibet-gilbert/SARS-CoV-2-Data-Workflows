{
 "cells": [
  {
   "cell_type": "markdown",
   "id": "5adb7940-b891-4208-a8c6-4eb0a18df81f",
   "metadata": {},
   "source": [
    "## GISAID Metadata preparation"
   ]
  },
  {
   "cell_type": "code",
   "execution_count": 1,
   "id": "1b74f807-1cc4-4b55-a65c-c1d35090291f",
   "metadata": {},
   "outputs": [],
   "source": [
    "import pandas as pd"
   ]
  },
  {
   "cell_type": "markdown",
   "id": "44c01462-e623-49f0-bd8b-34036abc0eb8",
   "metadata": {},
   "source": [
    "### Load submission form"
   ]
  },
  {
   "cell_type": "code",
   "execution_count": 2,
   "id": "d2d5834c-7824-4a95-9889-31e5c5577858",
   "metadata": {},
   "outputs": [],
   "source": [
    "parent_dir = '/home/douso/SarsGenomics/Gisaid'\n",
    "df_subf = pd.read_excel(f'{parent_dir}/20210222_EpiCoV.xls', 'Submissions')"
   ]
  },
  {
   "cell_type": "code",
   "execution_count": 3,
   "id": "2631a121-63a8-4ed1-91c3-b4894c93f331",
   "metadata": {},
   "outputs": [
    {
     "data": {
      "text/html": [
       "<div>\n",
       "<style scoped>\n",
       "    .dataframe tbody tr th:only-of-type {\n",
       "        vertical-align: middle;\n",
       "    }\n",
       "\n",
       "    .dataframe tbody tr th {\n",
       "        vertical-align: top;\n",
       "    }\n",
       "\n",
       "    .dataframe thead th {\n",
       "        text-align: right;\n",
       "    }\n",
       "</style>\n",
       "<table border=\"1\" class=\"dataframe\">\n",
       "  <thead>\n",
       "    <tr style=\"text-align: right;\">\n",
       "      <th></th>\n",
       "      <th>submitter</th>\n",
       "      <th>fn</th>\n",
       "      <th>covv_virus_name</th>\n",
       "      <th>covv_type</th>\n",
       "      <th>covv_passage</th>\n",
       "      <th>covv_collection_date</th>\n",
       "      <th>covv_location</th>\n",
       "      <th>covv_add_location</th>\n",
       "      <th>covv_host</th>\n",
       "      <th>covv_add_host_info</th>\n",
       "      <th>...</th>\n",
       "      <th>covv_coverage</th>\n",
       "      <th>covv_orig_lab</th>\n",
       "      <th>covv_orig_lab_addr</th>\n",
       "      <th>covv_provider_sample_id</th>\n",
       "      <th>covv_subm_lab</th>\n",
       "      <th>covv_subm_lab_addr</th>\n",
       "      <th>covv_subm_sample_id</th>\n",
       "      <th>covv_authors</th>\n",
       "      <th>covv_comment</th>\n",
       "      <th>comment_type</th>\n",
       "    </tr>\n",
       "  </thead>\n",
       "  <tbody>\n",
       "    <tr>\n",
       "      <th>0</th>\n",
       "      <td>Submitter</td>\n",
       "      <td>FASTA filename</td>\n",
       "      <td>Virus name</td>\n",
       "      <td>Type</td>\n",
       "      <td>Passage details/history</td>\n",
       "      <td>Collection date</td>\n",
       "      <td>Location</td>\n",
       "      <td>Additional location information</td>\n",
       "      <td>Host</td>\n",
       "      <td>Additional host information</td>\n",
       "      <td>...</td>\n",
       "      <td>Coverage</td>\n",
       "      <td>Originating lab</td>\n",
       "      <td>Address</td>\n",
       "      <td>Sample ID given by originating laboratory</td>\n",
       "      <td>Submitting lab</td>\n",
       "      <td>Address</td>\n",
       "      <td>Sample ID given by the submitting laboratory</td>\n",
       "      <td>Authors</td>\n",
       "      <td>Comment</td>\n",
       "      <td>Comment Icon</td>\n",
       "    </tr>\n",
       "    <tr>\n",
       "      <th>1</th>\n",
       "      <td>GISAID username</td>\n",
       "      <td>all_sequences.fasta</td>\n",
       "      <td>hCoV-19/Country/Identifier/2020</td>\n",
       "      <td>betacoronavirus</td>\n",
       "      <td>e.g. Original, Vero</td>\n",
       "      <td>2020-03-02</td>\n",
       "      <td>e.g. Continent / Country / Region</td>\n",
       "      <td>e.g. Cruise Ship, Convention, Live animal market</td>\n",
       "      <td>e.g. Human, Animal, Environment, Laboratory de...</td>\n",
       "      <td>e.g. Patient infected while traveling in ….</td>\n",
       "      <td>...</td>\n",
       "      <td>e.g. 70x, 1,000x, 10,000x (average)</td>\n",
       "      <td>Where the clinical specimen or virus isolate w...</td>\n",
       "      <td>NaN</td>\n",
       "      <td>NaN</td>\n",
       "      <td>Where sequence data have been generated and su...</td>\n",
       "      <td>NaN</td>\n",
       "      <td>NaN</td>\n",
       "      <td>e.g. Jane Doe, John Doe</td>\n",
       "      <td>NaN</td>\n",
       "      <td>NaN</td>\n",
       "    </tr>\n",
       "  </tbody>\n",
       "</table>\n",
       "<p>2 rows × 30 columns</p>\n",
       "</div>"
      ],
      "text/plain": [
       "         submitter                   fn                  covv_virus_name  \\\n",
       "0        Submitter       FASTA filename                       Virus name   \n",
       "1  GISAID username  all_sequences.fasta  hCoV-19/Country/Identifier/2020   \n",
       "\n",
       "         covv_type             covv_passage covv_collection_date  \\\n",
       "0             Type  Passage details/history      Collection date   \n",
       "1  betacoronavirus      e.g. Original, Vero           2020-03-02   \n",
       "\n",
       "                       covv_location  \\\n",
       "0                           Location   \n",
       "1  e.g. Continent / Country / Region   \n",
       "\n",
       "                                  covv_add_location  \\\n",
       "0                   Additional location information   \n",
       "1  e.g. Cruise Ship, Convention, Live animal market   \n",
       "\n",
       "                                           covv_host  \\\n",
       "0                                               Host   \n",
       "1  e.g. Human, Animal, Environment, Laboratory de...   \n",
       "\n",
       "                              covv_add_host_info  ...  \\\n",
       "0                    Additional host information  ...   \n",
       "1  e.g. Patient infected while traveling in ….    ...   \n",
       "\n",
       "                         covv_coverage  \\\n",
       "0                             Coverage   \n",
       "1  e.g. 70x, 1,000x, 10,000x (average)   \n",
       "\n",
       "                                       covv_orig_lab covv_orig_lab_addr  \\\n",
       "0                                    Originating lab            Address   \n",
       "1  Where the clinical specimen or virus isolate w...                NaN   \n",
       "\n",
       "                     covv_provider_sample_id  \\\n",
       "0  Sample ID given by originating laboratory   \n",
       "1                                        NaN   \n",
       "\n",
       "                                       covv_subm_lab covv_subm_lab_addr  \\\n",
       "0                                     Submitting lab            Address   \n",
       "1  Where sequence data have been generated and su...                NaN   \n",
       "\n",
       "                            covv_subm_sample_id             covv_authors  \\\n",
       "0  Sample ID given by the submitting laboratory                  Authors   \n",
       "1                                           NaN  e.g. Jane Doe, John Doe   \n",
       "\n",
       "  covv_comment  comment_type  \n",
       "0      Comment  Comment Icon  \n",
       "1          NaN           NaN  \n",
       "\n",
       "[2 rows x 30 columns]"
      ]
     },
     "execution_count": 3,
     "metadata": {},
     "output_type": "execute_result"
    }
   ],
   "source": [
    "df_subf.head()"
   ]
  },
  {
   "cell_type": "code",
   "execution_count": 4,
   "id": "be677046-2e9c-4141-bdd2-9a0c6f8167ec",
   "metadata": {},
   "outputs": [
    {
     "data": {
      "text/plain": [
       "Index(['submitter', 'fn', 'covv_virus_name', 'covv_type', 'covv_passage',\n",
       "       'covv_collection_date', 'covv_location', 'covv_add_location',\n",
       "       'covv_host', 'covv_add_host_info', 'covv_sampling_strategy',\n",
       "       'covv_gender', 'covv_patient_age', 'covv_patient_status',\n",
       "       'covv_specimen', 'covv_outbreak', 'covv_last_vaccinated',\n",
       "       'covv_treatment', 'covv_seq_technology', 'covv_assembly_method',\n",
       "       'covv_coverage', 'covv_orig_lab', 'covv_orig_lab_addr',\n",
       "       'covv_provider_sample_id', 'covv_subm_lab', 'covv_subm_lab_addr',\n",
       "       'covv_subm_sample_id', 'covv_authors', 'covv_comment', 'comment_type'],\n",
       "      dtype='object')"
      ]
     },
     "execution_count": 4,
     "metadata": {},
     "output_type": "execute_result"
    }
   ],
   "source": [
    "df_subf.columns"
   ]
  },
  {
   "cell_type": "code",
   "execution_count": null,
   "id": "add87ddc-4248-49e2-ab8d-8fc6a5cef984",
   "metadata": {},
   "outputs": [],
   "source": [
    "['submitter', 'fn', 'covv_virus_name', 'covv_type', 'covv_passage', 'DATE_OF_SAMPLE_COLLECTION', \n",
    " 'NATIONALITY', 'COUNTY_OF_RESIDENCE', 'covv_host', 'covv_add_host_info', 'covv_sampling_strategy',\n",
    " 'GENDER_(M/F)', 'AGE', 'SYMTOMS_SHOWN_(COUGH;FEVER;ETC)', 'covv_specimen', 'covv_outbreak', \n",
    " 'covv_last_vaccinated', 'covv_treatment', 'covv_seq_technology', 'covv_assembly_method', 'covv_coverage', \n",
    " 'covv_orig_lab', 'covv_orig_lab_addr', 'SAMPLE_NUMBER', 'covv_subm_lab', 'covv_subm_lab_addr', \n",
    " 'covv_subm_sample_id', 'covv_authors', 'covv_comment', 'comment_type']"
   ]
  },
  {
   "cell_type": "code",
   "execution_count": null,
   "id": "ea19887c-c8c2-4530-b937-c4b5eb0f3231",
   "metadata": {},
   "outputs": [],
   "source": [
    "['SAMPLE_NUMBER', 'AGE', 'AGE_UNIT_(DAYS/MONTHS/YEARS)', 'GENDER_(M/F)', 'OCCUPATION', 'NATIONALITY', \n",
    "           'COUNTY_OF_RESIDENCE', 'SUB_COUNTY_OF_RESIDENCE', 'HAS_TRAVEL_HOSTORY(LAST_14_DAYS)_Y/N', 'TRAVEL_FROM', \n",
    "           'QUARANTINE_FACILITY/HOSPITAL/HOMESTEAD', 'SYMTOMS_SHOWN_(COUGH;FEVER;ETC)', 'DATE_OF_SAMPLE_COLLECTION', \n",
    "           'DATE_SAMPLE_RECEIVED_IN_THE_LAB', 'RESULT', 'LAB_CONFIRMATION_DATE']"
   ]
  },
  {
   "cell_type": "code",
   "execution_count": null,
   "id": "fea31994-94f2-4797-ab76-4fd369ddba00",
   "metadata": {},
   "outputs": [],
   "source": [
    "submitter = ''\n",
    "fn = ''\n",
    "cvn = 'hCoV-19'\n",
    "vt = 'betacoronavirus'\n",
    "cp = 'Original'\n",
    "ch = 'Human'\n",
    "\n",
    "df_subf['submitter'] = submitter\n",
    "df_subf['fn'] = fn\n",
    "df_subf['covv_virus_name'] = cvn\n",
    "df_subf['covv_type'] = cp\n"
   ]
  }
 ],
 "metadata": {
  "kernelspec": {
   "display_name": "Python 3",
   "language": "python",
   "name": "python3"
  },
  "language_info": {
   "codemirror_mode": {
    "name": "ipython",
    "version": 3
   },
   "file_extension": ".py",
   "mimetype": "text/x-python",
   "name": "python",
   "nbconvert_exporter": "python",
   "pygments_lexer": "ipython3",
   "version": "3.8.10"
  }
 },
 "nbformat": 4,
 "nbformat_minor": 5
}
