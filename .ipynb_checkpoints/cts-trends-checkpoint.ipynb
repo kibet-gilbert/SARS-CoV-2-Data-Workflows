{
 "cells": [
  {
   "cell_type": "markdown",
   "id": "28ee8872-bb08-41db-ab1a-42990bb014d5",
   "metadata": {},
   "source": [
    "### Cts-Genome Coverage Plots"
   ]
  },
  {
   "cell_type": "code",
   "execution_count": 1,
   "id": "eeb15a43-5866-4242-a78e-0de81096df2d",
   "metadata": {},
   "outputs": [],
   "source": [
    "import pandas as pd\n",
    "import numpy as np\n",
    "import seaborn as sns\n",
    "import os, glob\n",
    "import matplotlib.pyplot as plt\n",
    "from datetime import datetime\n",
    "from sklearn.linear_model import LinearRegression\n",
    "from sklearn.metrics import mean_squared_error, r2_score"
   ]
  },
  {
   "cell_type": "code",
   "execution_count": 2,
   "id": "e5d4874f-bf37-4874-ae1a-50945c132104",
   "metadata": {},
   "outputs": [],
   "source": [
    "dt = datetime.today().strftime(format='%d-%m-%Y')"
   ]
  },
  {
   "cell_type": "code",
   "execution_count": 3,
   "id": "4e900e8c-73b0-4045-b69a-1cf9a048a9f6",
   "metadata": {},
   "outputs": [],
   "source": [
    "#uniqueness in directory and file names is assumed for all analyses\n",
    "sars_dir = \"SARS-CoV-2\"\n",
    "home_dir = os.getenv('HOME')\n",
    "parent_dir = glob.glob(f'{home_dir}/**/{sars_dir}', recursive=True)[0]"
   ]
  },
  {
   "cell_type": "code",
   "execution_count": 78,
   "id": "721275be-5664-4c0b-804f-3832082203ef",
   "metadata": {
    "tags": []
   },
   "outputs": [],
   "source": [
    "identifier = 'MinION-seq36' #NextSeq/MiSeq/MinION\n",
    "df_cov = pd.read_excel(f'{parent_dir}/SeqReports/2022-03-01_run36_nanopore.Analysis.QCstats.xlsx', usecols=['sample_name', 'Genome fraction (%)'])"
   ]
  },
  {
   "cell_type": "code",
   "execution_count": 79,
   "id": "63d5ced7-bff9-436f-b998-ef802eb33d75",
   "metadata": {},
   "outputs": [
    {
     "data": {
      "text/html": [
       "<div>\n",
       "<style scoped>\n",
       "    .dataframe tbody tr th:only-of-type {\n",
       "        vertical-align: middle;\n",
       "    }\n",
       "\n",
       "    .dataframe tbody tr th {\n",
       "        vertical-align: top;\n",
       "    }\n",
       "\n",
       "    .dataframe thead th {\n",
       "        text-align: right;\n",
       "    }\n",
       "</style>\n",
       "<table border=\"1\" class=\"dataframe\">\n",
       "  <thead>\n",
       "    <tr style=\"text-align: right;\">\n",
       "      <th></th>\n",
       "      <th>sample_name</th>\n",
       "      <th>Genome fraction (%)</th>\n",
       "    </tr>\n",
       "  </thead>\n",
       "  <tbody>\n",
       "    <tr>\n",
       "      <th>0</th>\n",
       "      <td>COVM02746</td>\n",
       "      <td>95.1</td>\n",
       "    </tr>\n",
       "  </tbody>\n",
       "</table>\n",
       "</div>"
      ],
      "text/plain": [
       "  sample_name  Genome fraction (%)\n",
       "0   COVM02746                 95.1"
      ]
     },
     "execution_count": 79,
     "metadata": {},
     "output_type": "execute_result"
    }
   ],
   "source": [
    "df_cov.head(1)"
   ]
  },
  {
   "cell_type": "code",
   "execution_count": 80,
   "id": "7e649512-005c-4a75-ad3f-d287b83c0fc0",
   "metadata": {},
   "outputs": [],
   "source": [
    "samp_names = list(df_cov['sample_name'])"
   ]
  },
  {
   "cell_type": "code",
   "execution_count": 81,
   "id": "74aba8c4-b485-45ce-8aa6-e86d0cd2d131",
   "metadata": {},
   "outputs": [],
   "source": [
    "df_Cts = pd.read_excel(f\"{glob.glob(f'{parent_dir}/**/Outputs', recursive=True)[0]}/runsheet-cts.xlsx\")[['Sample_Name', 'Well_Position', 'Ct_Mean', 'Dt_Run']]\n",
    "# df_nhrl_Cts = pd.read_excel('/home/douso/Documents/RunSheets/Cts/NHRL-cts.xlsx')\n",
    "# df_Cts = df_covc_Cts.append(df_nhrl_Cts)"
   ]
  },
  {
   "cell_type": "code",
   "execution_count": 82,
   "id": "034a76dd-5042-44dc-b4a6-64e96be677f0",
   "metadata": {},
   "outputs": [],
   "source": [
    "df_ct_cov = (df_Cts.merge(df_cov, how='right', left_on='Sample_Name', \n",
    "            right_on='sample_name').drop('sample_name',axis=1).sort_values('Ct_Mean').fillna(0.0))#[df_Cts['Sample_Name'].isin(samp_names)]"
   ]
  },
  {
   "cell_type": "code",
   "execution_count": 83,
   "id": "5a25450c-80f8-49fa-96e6-31affb568e5a",
   "metadata": {},
   "outputs": [
    {
     "data": {
      "text/html": [
       "<div>\n",
       "<style scoped>\n",
       "    .dataframe tbody tr th:only-of-type {\n",
       "        vertical-align: middle;\n",
       "    }\n",
       "\n",
       "    .dataframe tbody tr th {\n",
       "        vertical-align: top;\n",
       "    }\n",
       "\n",
       "    .dataframe thead th {\n",
       "        text-align: right;\n",
       "    }\n",
       "</style>\n",
       "<table border=\"1\" class=\"dataframe\">\n",
       "  <thead>\n",
       "    <tr style=\"text-align: right;\">\n",
       "      <th></th>\n",
       "      <th>Sample_Name</th>\n",
       "      <th>Well_Position</th>\n",
       "      <th>Ct_Mean</th>\n",
       "      <th>Dt_Run</th>\n",
       "      <th>Genome fraction (%)</th>\n",
       "    </tr>\n",
       "  </thead>\n",
       "  <tbody>\n",
       "    <tr>\n",
       "      <th>0</th>\n",
       "      <td>COVM02746</td>\n",
       "      <td>C02</td>\n",
       "      <td>14.7</td>\n",
       "      <td>2022-02-28 19:24:39</td>\n",
       "      <td>95.1</td>\n",
       "    </tr>\n",
       "    <tr>\n",
       "      <th>13</th>\n",
       "      <td>COVM02766</td>\n",
       "      <td>D10</td>\n",
       "      <td>15.1</td>\n",
       "      <td>2022-02-28 19:24:39</td>\n",
       "      <td>91.5</td>\n",
       "    </tr>\n",
       "    <tr>\n",
       "      <th>10</th>\n",
       "      <td>COVM02728</td>\n",
       "      <td>A08</td>\n",
       "      <td>15.9</td>\n",
       "      <td>2022-02-28 19:24:39</td>\n",
       "      <td>92.5</td>\n",
       "    </tr>\n",
       "    <tr>\n",
       "      <th>2</th>\n",
       "      <td>COVM02727</td>\n",
       "      <td>A07</td>\n",
       "      <td>16.2</td>\n",
       "      <td>2022-02-28 19:24:39</td>\n",
       "      <td>94.2</td>\n",
       "    </tr>\n",
       "    <tr>\n",
       "      <th>14</th>\n",
       "      <td>COVM02737</td>\n",
       "      <td>B05</td>\n",
       "      <td>17.1</td>\n",
       "      <td>2022-02-28 19:24:39</td>\n",
       "      <td>91.5</td>\n",
       "    </tr>\n",
       "  </tbody>\n",
       "</table>\n",
       "</div>"
      ],
      "text/plain": [
       "   Sample_Name Well_Position  Ct_Mean              Dt_Run  Genome fraction (%)\n",
       "0    COVM02746           C02     14.7 2022-02-28 19:24:39                 95.1\n",
       "13   COVM02766           D10     15.1 2022-02-28 19:24:39                 91.5\n",
       "10   COVM02728           A08     15.9 2022-02-28 19:24:39                 92.5\n",
       "2    COVM02727           A07     16.2 2022-02-28 19:24:39                 94.2\n",
       "14   COVM02737           B05     17.1 2022-02-28 19:24:39                 91.5"
      ]
     },
     "execution_count": 83,
     "metadata": {},
     "output_type": "execute_result"
    }
   ],
   "source": [
    "df_ct_cov.head()"
   ]
  },
  {
   "cell_type": "code",
   "execution_count": 84,
   "id": "96251dfc-9fe2-4c37-9bd1-0e3c6be15073",
   "metadata": {},
   "outputs": [],
   "source": [
    "# df_ct_cov.to_excel('/home/douso/Documents/RunSheets/Cts/cts-cov.xlsx', index=False, float_format='%.0f')"
   ]
  },
  {
   "cell_type": "code",
   "execution_count": 85,
   "id": "33f30b1e-a4d1-4db1-b991-4a1d121fcc1d",
   "metadata": {},
   "outputs": [
    {
     "name": "stdout",
     "output_type": "stream",
     "text": [
      "24 3\n",
      "0 2\n"
     ]
    }
   ],
   "source": [
    "mask1 = df_ct_cov['Genome fraction (%)'] >= 80\n",
    "mask2 = df_ct_cov['Ct_Mean'] > 30\n",
    "mask3 = df_ct_cov['Ct_Mean'] <= 35\n",
    "mask4 = df_ct_cov['Genome fraction (%)'] < 80\n",
    "mask5 = df_ct_cov['Ct_Mean'] <= 30\n",
    "mask6 = df_ct_cov['Ct_Mean'] > 35\n",
    "# mask7 = df_ct_cov['G_COV'] > 80\n",
    "# mask8 = df_ct_cov['G_COV'] < 80\n",
    "\n",
    "\n",
    "above30below35_pass = df_ct_cov[mask1 & mask2 & mask3 == True].shape[0]\n",
    "above30below35_fail = df_ct_cov[mask4 & mask2 & mask3 == True].shape[0]\n",
    "below30above80_pass = df_ct_cov[mask5 & mask1 == True].shape[0]\n",
    "below30below80_fail = df_ct_cov[mask5 & mask4 == True].shape[0]\n",
    "above35above80_pass = df_ct_cov[mask6 & mask1 == True].shape[0]\n",
    "above35below80_fail = df_ct_cov[mask6 & mask4 == True].shape[0]\n",
    "\n",
    "print(below30above80_pass, below30below80_fail)\n",
    "print(above35above80_pass, above35below80_fail)"
   ]
  },
  {
   "cell_type": "code",
   "execution_count": 86,
   "id": "b395fe7b-efb3-4f2f-beea-50776031d26a",
   "metadata": {},
   "outputs": [
    {
     "data": {
      "image/png": "[encoded data removed]",
      "text/plain": [
       "<Figure size 432x288 with 1 Axes>"
      ]
     },
     "metadata": {
      "needs_background": "light"
     },
     "output_type": "display_data"
    }
   ],
   "source": [
    "from scipy.interpolate import interp1d, make_interp_spline\n",
    "fig,ax = plt.subplots()\n",
    "lr = LinearRegression()\n",
    "lr.fit(np.array(df_ct_cov['Ct_Mean']).reshape(-1, 1), df_ct_cov['Genome fraction (%)'])\n",
    "\n",
    "\n",
    "y_predicted = lr.predict(np.array(df_ct_cov['Ct_Mean']).reshape(-1, 1))\n",
    "\n",
    "# sns.regplot(x='Ct_Mean', y='Genome fraction (%)', order=2, ci=0, data=df_ct_cov)\n",
    "\n",
    "# x_interp = np.linspace(df_ct_cov['Ct_Mean'].min(), df_ct_cov['Ct_Mean'].max(), len(df_ct_cov['Ct_Mean']))\n",
    "# y_interp = df_ct_cov['Genome fraction (%)']\n",
    "# bspline_interp = make_interp_spline(x_interp, y_interp, k=2)\n",
    "# X_=np.linspace(x_interp.min(), x_interp.max(), 100)\n",
    "# Y_=bspline_interp(X_)\n",
    "N = len(df_ct_cov[\"Ct_Mean\"])\n",
    "\n",
    "plt.plot(df_ct_cov['Ct_Mean'], y_predicted, color='orange', label='Regression line-of-best-fit')\n",
    "\n",
    "# plt.plot(X_, Y_, color='blue', label='Bspline line-of-best-fit')\n",
    "\n",
    "plt.scatter(df_ct_cov['Ct_Mean'], df_ct_cov['Genome fraction (%)'], \n",
    "            c=np.linspace(0, 40, len(df_ct_cov['Ct_Mean'])), \n",
    "            cmap='viridis')#viridis#RdYlBu ,edgecolors='#FFF5EE'\n",
    "# plt.colorbar(label='Cts', location='bottom')\n",
    "ax.text(32.5, 90, s=f'{above30below35_pass}({round(above30below35_pass / N , 2)}%)\\n|30-35|\\n>=80', \n",
    "        ha=\"center\", va=\"center\", rotation=0, fontsize=8, \n",
    "        bbox=dict(boxstyle=\"round,pad=0.05\", fc=\"gray\", alpha=0.2, ec=\"b\", lw=0))\n",
    "ax.text(32.5, 40, s=f'{above30below35_fail}({round(above30below35_fail / N , 2)}%)\\n|30-35|\\n<80', \n",
    "        ha=\"center\", va=\"center\", rotation=90, fontsize=11, \n",
    "        bbox=dict(boxstyle=\"round,pad=0.1\", fc=\"gray\", alpha=0.2, ec=\"b\", lw=0))\n",
    "ax.text(25, 90, s=f'{below30above80_pass}({round(below30above80_pass / N , 2)}%)\\n|<30|\\n>=80', \n",
    "        ha=\"center\", va=\"center\", rotation=0, fontsize=8, \n",
    "        bbox=dict(boxstyle=\"round,pad=0.05\", fc=\"gray\", alpha=0.2, ec=\"b\", lw=0))\n",
    "ax.text(25, 40, s=f'{below30below80_fail}({round(below30below80_fail / N , 2)}%)\\n|<30|\\n<80', \n",
    "        ha=\"center\", va=\"center\", rotation=90, fontsize=11, \n",
    "        bbox=dict(boxstyle=\"round,pad=0.1\", fc=\"gray\", alpha=0.2, ec=\"b\", lw=0))\n",
    "plt.xlabel('Ct')\n",
    "plt.ylabel(f'% Genome coverage (N={N})')\n",
    "plt.hlines(80, 5, 40, linestyles='dashdot', colors='g', label='GISAID coverage cut-off')\n",
    "plt.vlines(30, 5, 99, linestyles='dashed', colors='gray', label='Ct30 cut-off')\n",
    "plt.vlines(35, 5, 99, linestyles='dashed', colors='m', label='Ct35 cut-off')\n",
    "title = identifier.replace('-s', ' S')\n",
    "plt.title(title, fontsize=14)\n",
    "plt.legend()\n",
    "# fig.savefig(f\"{glob.glob(f'{parent_dir}/**/PlotsFigures', recursive=True)[0]}/{identifier}-CTs-report_{dt}.svg\")\n",
    "plt.show()"
   ]
  },
  {
   "cell_type": "code",
   "execution_count": 134,
   "id": "018afc63-4ac6-494d-b200-c9cfa85f12ba",
   "metadata": {
    "tags": []
   },
   "outputs": [],
   "source": [
    "df_cov33 = pd.read_excel(f'{parent_dir}/SeqReports/output_2022-01-19-run33_nextseq.Analysis.QCstats.xlsx', usecols=['sample_name', 'Genome fraction (%)'])['Genome fraction (%)']\n",
    "df_cov34 = pd.read_excel(f'{parent_dir}/SeqReports/output_2022-01-24_run34_nextseq.Analysis.QCstats.xlsx', usecols=['sample_name', 'Genome fraction (%)'])['Genome fraction (%)']\n",
    "df_cov36 = pd.read_excel(f'{parent_dir}/SeqReports/2022-03-01_run36_nanopore.Analysis.QCstats.xlsx', usecols=['sample_name', 'Genome fraction (%)'])['Genome fraction (%)']\n",
    "df_cov37 = pd.read_excel(f'{parent_dir}/SeqReports/2022-03-11_run37_miseq.Analysis.QCstats.xlsx', usecols=['sample_name', 'Genome fraction (%)'])['Genome fraction (%)']\n",
    "df_cov38 = pd.read_excel(f'{parent_dir}/SeqReports/2022-03-20_run38_miseq.Analysis.QCstats.xlsx', usecols=['sample_name', 'Genome fraction (%)'])['Genome fraction (%)'].fillna(0.0)"
   ]
  },
  {
   "cell_type": "code",
   "execution_count": 161,
   "id": "c636e4b1-81f9-45b1-b345-d349b6cc96f5",
   "metadata": {},
   "outputs": [
    {
     "data": {
      "image/png": "[encoded data removed]",
      "text/plain": [
       "<Figure size 576x288 with 1 Axes>"
      ]
     },
     "metadata": {
      "needs_background": "light"
     },
     "output_type": "display_data"
    }
   ],
   "source": [
    "fig, ax = plt.subplots(figsize=(8,4))\n",
    "plt.boxplot([df_cov33, df_cov34, df_cov36, df_cov37, df_cov38], whis=1.5, \n",
    "            labels=['NextSeq33', 'NextSeq34', 'MinION36', 'MiSeq37', 'MiSeq38'], boxprops={'color':'r'})\n",
    "# fig.savefig(f\"{glob.glob(f'{parent_dir}/**/PlotsFigures', recursive=True)[0]}/CTs-boxplot-report_{dt}.svg\")\n",
    "plt.show()"
   ]
  },
  {
   "cell_type": "code",
   "execution_count": 165,
   "id": "885049db-62f8-48a0-8b77-f7051b26123c",
   "metadata": {},
   "outputs": [
    {
     "data": {
      "text/plain": [
       "83.6300873655914"
      ]
     },
     "execution_count": 165,
     "metadata": {},
     "output_type": "execute_result"
    }
   ],
   "source": [
    "df.std()\n",
    "df.mean().mean()"
   ]
  },
  {
   "cell_type": "code",
   "execution_count": 168,
   "id": "3f9f9390-2873-46f1-87de-f6e907b8a57d",
   "metadata": {},
   "outputs": [
    {
     "data": {
      "text/plain": [
       "[<matplotlib.lines.Line2D at 0x7f6d57f1c970>]"
      ]
     },
     "execution_count": 168,
     "metadata": {},
     "output_type": "execute_result"
    },
    {
     "data": {
      "image/png": "[encoded data removed]",
      "text/plain": [
       "<Figure size 432x288 with 1 Axes>"
      ]
     },
     "metadata": {
      "needs_background": "light"
     },
     "output_type": "display_data"
    }
   ],
   "source": [
    "from scipy import stats\n",
    "x = np.linspace(0, 100, 500)\n",
    "pdf = stats.norm.pdf(x, 83.63, 26.12)\n",
    "plt.plot(x, pdf)"
   ]
  },
  {
   "cell_type": "code",
   "execution_count": 167,
   "id": "38d25bc1-20d9-4958-81de-11721c783a35",
   "metadata": {},
   "outputs": [
    {
     "data": {
      "image/png": "[encoded data removed]",
      "text/plain": [
       "<Figure size 432x288 with 1 Axes>"
      ]
     },
     "metadata": {
      "needs_background": "light"
     },
     "output_type": "display_data"
    }
   ],
   "source": [
    "fig, ax = plt.subplots()\n",
    "df = pd.DataFrame({'NextSeq33': df_cov33, 'NextSeq34': df_cov34, 'MinION36': df_cov36, 'MiSeq37':df_cov37, 'MiSeq38':df_cov38})\n",
    "sns.boxplot(data=df)\n",
    "#             color=['b', 'orange', 'green', 'yellow'])\n",
    "plt.ylabel('Genome fraction (%)')\n",
    "# fig.savefig(f\"{glob.glob(f'{parent_dir}/**/PlotsFigures', recursive=True)[0]}/CTs-boxplot-report_{dt}.svg\")\n",
    "plt.show()"
   ]
  }
 ],
 "metadata": {
  "kernelspec": {
   "display_name": "Python 3",
   "language": "python",
   "name": "python3"
  },
  "language_info": {
   "codemirror_mode": {
    "name": "ipython",
    "version": 3
   },
   "file_extension": ".py",
   "mimetype": "text/x-python",
   "name": "python",
   "nbconvert_exporter": "python",
   "pygments_lexer": "ipython3",
   "version": "3.8.10"
  }
 },
 "nbformat": 4,
 "nbformat_minor": 5
}
