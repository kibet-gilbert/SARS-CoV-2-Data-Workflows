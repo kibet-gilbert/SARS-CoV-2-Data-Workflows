{
 "cells": [
  {
   "cell_type": "markdown",
   "id": "18a9638a-7b6d-4170-b957-61839c36c8a6",
   "metadata": {},
   "source": [
    "$19^{th}$ Aug 2021"
   ]
  },
  {
   "cell_type": "code",
   "execution_count": 1,
   "id": "81eba8e0-b303-4751-9c09-33ae0f7500d7",
   "metadata": {},
   "outputs": [],
   "source": [
    "import pandas as pd\n",
    "import seaborn as sns\n",
    "import numpy as np\n",
    "import glob, os, re\n",
    "import matplotlib.pyplot as plt\n",
    "from datetime import  datetime\n",
    "from ipywidgets import widgets, interactive\n",
    "from collections import Counter"
   ]
  },
  {
   "cell_type": "code",
   "execution_count": 2,
   "id": "985bb990-782e-4597-bdea-ffc042a3ba1d",
   "metadata": {},
   "outputs": [],
   "source": [
    "dt = datetime.today().strftime(format='%d-%m-%Y')"
   ]
  },
  {
   "cell_type": "code",
   "execution_count": 3,
   "id": "21b86067-682c-4870-b28a-e2481de0fbac",
   "metadata": {},
   "outputs": [],
   "source": [
    "latest_data = 'metadata-seq-MS-ILL-ONT_uptoseq21_10-11-2021.xlsx'\n",
    "sars_dir = 'SARS-CoV-2' #name of root directory for all SARS-associated work\n",
    "home_dir = os.getenv('HOME') #get OS home directory\n",
    "parent_dir = glob.glob(f'{home_dir}/**/{sars_dir}', recursive=True)[0]"
   ]
  },
  {
   "cell_type": "code",
   "execution_count": 4,
   "id": "bc3bc3b9-5cef-4108-adcd-19ac8ca78478",
   "metadata": {},
   "outputs": [],
   "source": [
    "#load the excel sheet containing the variants information\n",
    "\n",
    "df_meta_seq = pd.read_excel(glob.glob(f'{parent_dir}/**/{latest_data}', recursive=True)[0], usecols=['S_NUM', 'S', 'DT_SAM_COLL', 'G_COV'])"
   ]
  },
  {
   "cell_type": "code",
   "execution_count": 5,
   "id": "a2c5fd69-0430-4d45-aead-09f34a442e8f",
   "metadata": {},
   "outputs": [
    {
     "data": {
      "text/html": [
       "<div>\n",
       "<style scoped>\n",
       "    .dataframe tbody tr th:only-of-type {\n",
       "        vertical-align: middle;\n",
       "    }\n",
       "\n",
       "    .dataframe tbody tr th {\n",
       "        vertical-align: top;\n",
       "    }\n",
       "\n",
       "    .dataframe thead th {\n",
       "        text-align: right;\n",
       "    }\n",
       "</style>\n",
       "<table border=\"1\" class=\"dataframe\">\n",
       "  <thead>\n",
       "    <tr style=\"text-align: right;\">\n",
       "      <th></th>\n",
       "      <th>S_NUM</th>\n",
       "      <th>DT_SAM_COLL</th>\n",
       "      <th>G_COV</th>\n",
       "      <th>S</th>\n",
       "    </tr>\n",
       "  </thead>\n",
       "  <tbody>\n",
       "    <tr>\n",
       "      <th>0</th>\n",
       "      <td>COVC03617</td>\n",
       "      <td>2020-07-06</td>\n",
       "      <td>98.6</td>\n",
       "      <td>D614G</td>\n",
       "    </tr>\n",
       "    <tr>\n",
       "      <th>1</th>\n",
       "      <td>COVC03665</td>\n",
       "      <td>2020-07-06</td>\n",
       "      <td>97.5</td>\n",
       "      <td>A263S, D614G</td>\n",
       "    </tr>\n",
       "    <tr>\n",
       "      <th>2</th>\n",
       "      <td>COVC03696</td>\n",
       "      <td>2020-07-06</td>\n",
       "      <td>98.7</td>\n",
       "      <td>D614G</td>\n",
       "    </tr>\n",
       "    <tr>\n",
       "      <th>3</th>\n",
       "      <td>COVC03723</td>\n",
       "      <td>2020-07-06</td>\n",
       "      <td>98.9</td>\n",
       "      <td>D614G</td>\n",
       "    </tr>\n",
       "    <tr>\n",
       "      <th>4</th>\n",
       "      <td>COVC03813</td>\n",
       "      <td>2020-07-10</td>\n",
       "      <td>97.9</td>\n",
       "      <td>D614G</td>\n",
       "    </tr>\n",
       "  </tbody>\n",
       "</table>\n",
       "</div>"
      ],
      "text/plain": [
       "       S_NUM DT_SAM_COLL  G_COV             S\n",
       "0  COVC03617  2020-07-06   98.6         D614G\n",
       "1  COVC03665  2020-07-06   97.5  A263S, D614G\n",
       "2  COVC03696  2020-07-06   98.7         D614G\n",
       "3  COVC03723  2020-07-06   98.9         D614G\n",
       "4  COVC03813  2020-07-10   97.9         D614G"
      ]
     },
     "execution_count": 5,
     "metadata": {},
     "output_type": "execute_result"
    }
   ],
   "source": [
    "df_meta_seq.head()"
   ]
  },
  {
   "cell_type": "code",
   "execution_count": 6,
   "id": "cbb91047-1dcb-4a46-becf-b7e21795ce7e",
   "metadata": {},
   "outputs": [],
   "source": [
    "df_meta_seq80 = df_meta_seq.replace(pd.NA, np.nan)[df_meta_seq['G_COV'] >= 80]#.sort_values('DT_SAM_COLL')"
   ]
  },
  {
   "cell_type": "code",
   "execution_count": 7,
   "id": "82f6272d-a22e-48ae-b68e-3ecf88e7de12",
   "metadata": {},
   "outputs": [],
   "source": [
    "df_data = df_meta_seq80[df_meta_seq80.index.isin(df_meta_seq80['DT_SAM_COLL'].dropna().index)]"
   ]
  },
  {
   "cell_type": "code",
   "execution_count": 8,
   "id": "0eca08d9-0298-42c6-964a-285417d2dee5",
   "metadata": {},
   "outputs": [],
   "source": [
    "df_data_dt = df_data.assign(DT_SAM_COLL=df_data['DT_SAM_COLL'].apply(lambda x: pd.to_datetime(x, dayfirst=True))).sort_values('DT_SAM_COLL')"
   ]
  },
  {
   "cell_type": "code",
   "execution_count": 9,
   "id": "4f4fa54f-7381-4fde-baaf-bb395ab0c857",
   "metadata": {},
   "outputs": [
    {
     "name": "stdout",
     "output_type": "stream",
     "text": [
      "<class 'pandas.core.frame.DataFrame'>\n",
      "Int64Index: 1274 entries, 0 to 1819\n",
      "Data columns (total 4 columns):\n",
      " #   Column       Non-Null Count  Dtype         \n",
      "---  ------       --------------  -----         \n",
      " 0   S_NUM        1274 non-null   object        \n",
      " 1   DT_SAM_COLL  1274 non-null   datetime64[ns]\n",
      " 2   G_COV        1274 non-null   float64       \n",
      " 3   S            1272 non-null   object        \n",
      "dtypes: datetime64[ns](1), float64(1), object(2)\n",
      "memory usage: 49.8+ KB\n"
     ]
    }
   ],
   "source": [
    "df_data_dt.info()"
   ]
  },
  {
   "cell_type": "code",
   "execution_count": 10,
   "id": "0c3ded89-2cbd-4e21-8b19-252eb461169f",
   "metadata": {},
   "outputs": [
    {
     "data": {
      "text/html": [
       "<div>\n",
       "<style scoped>\n",
       "    .dataframe tbody tr th:only-of-type {\n",
       "        vertical-align: middle;\n",
       "    }\n",
       "\n",
       "    .dataframe tbody tr th {\n",
       "        vertical-align: top;\n",
       "    }\n",
       "\n",
       "    .dataframe thead th {\n",
       "        text-align: right;\n",
       "    }\n",
       "</style>\n",
       "<table border=\"1\" class=\"dataframe\">\n",
       "  <thead>\n",
       "    <tr style=\"text-align: right;\">\n",
       "      <th></th>\n",
       "      <th>S_NUM</th>\n",
       "      <th>DT_SAM_COLL</th>\n",
       "      <th>G_COV</th>\n",
       "      <th>S</th>\n",
       "    </tr>\n",
       "  </thead>\n",
       "  <tbody>\n",
       "    <tr>\n",
       "      <th>1815</th>\n",
       "      <td>COVC24707</td>\n",
       "      <td>2021-10-06</td>\n",
       "      <td>96.0</td>\n",
       "      <td>T19R, L452R, T478K, L518L, D614G, P681R, D950N...</td>\n",
       "    </tr>\n",
       "    <tr>\n",
       "      <th>1816</th>\n",
       "      <td>COVC24708</td>\n",
       "      <td>2021-10-06</td>\n",
       "      <td>82.1</td>\n",
       "      <td>D614G, P681R,</td>\n",
       "    </tr>\n",
       "    <tr>\n",
       "      <th>1817</th>\n",
       "      <td>COVC24710</td>\n",
       "      <td>2021-10-06</td>\n",
       "      <td>95.9</td>\n",
       "      <td>T19R, E156_R158delinsG, L452R, T478K, D614G, P...</td>\n",
       "    </tr>\n",
       "    <tr>\n",
       "      <th>1818</th>\n",
       "      <td>COVC24718</td>\n",
       "      <td>2021-10-08</td>\n",
       "      <td>97.0</td>\n",
       "      <td>T19R, E156_R158delinsG, L452R, T478K, D614G, P...</td>\n",
       "    </tr>\n",
       "    <tr>\n",
       "      <th>1819</th>\n",
       "      <td>COVC24719</td>\n",
       "      <td>2021-10-08</td>\n",
       "      <td>92.6</td>\n",
       "      <td>T19R, L452R, T478K, D614G, P681R, D950N,</td>\n",
       "    </tr>\n",
       "  </tbody>\n",
       "</table>\n",
       "</div>"
      ],
      "text/plain": [
       "          S_NUM DT_SAM_COLL  G_COV  \\\n",
       "1815  COVC24707  2021-10-06   96.0   \n",
       "1816  COVC24708  2021-10-06   82.1   \n",
       "1817  COVC24710  2021-10-06   95.9   \n",
       "1818  COVC24718  2021-10-08   97.0   \n",
       "1819  COVC24719  2021-10-08   92.6   \n",
       "\n",
       "                                                      S  \n",
       "1815  T19R, L452R, T478K, L518L, D614G, P681R, D950N...  \n",
       "1816                                     D614G, P681R,   \n",
       "1817  T19R, E156_R158delinsG, L452R, T478K, D614G, P...  \n",
       "1818  T19R, E156_R158delinsG, L452R, T478K, D614G, P...  \n",
       "1819          T19R, L452R, T478K, D614G, P681R, D950N,   "
      ]
     },
     "execution_count": 10,
     "metadata": {},
     "output_type": "execute_result"
    }
   ],
   "source": [
    "df_data_dt.tail()"
   ]
  },
  {
   "cell_type": "markdown",
   "id": "275c60d1-dbed-4e0c-84eb-4ed177627699",
   "metadata": {},
   "source": [
    "\tS_NUM\tDT_SAM_COLL\tG_COV\tS\n",
    "1066\tCOVC24214\t2021-08-23\t96.7\tT19R, L452R, T478K, D614G, P681R, D950N,\n",
    "1067\tCOVC24215\t2021-08-23\t90.1\tL452R, T478K, D614G, P681R, D950N, S974S,\n",
    "1069\tCOVC24217\t2021-08-23\t93.4\tT19R, L452R, T478K, Q613H, D614G, P681R, D950N...\n",
    "936\tKEMRI_02_91932\t2021-10-02\t98.8\tG257S, D614G, P681H\n",
    "896\tKEMRI_01_89581\t2021-12-01\t96.5\tH69_V70del, D138H, Y145del, N501Y, A570D, D614..."
   ]
  },
  {
   "cell_type": "code",
   "execution_count": 15,
   "id": "6b0f3db1-f4c4-466a-8187-569cea04f05d",
   "metadata": {},
   "outputs": [],
   "source": [
    "df_fort = df_data_dt.resample(rule='4W', closed='right', on='DT_SAM_COLL')"
   ]
  },
  {
   "cell_type": "code",
   "execution_count": 16,
   "id": "23ee47b7-9ecb-43d7-8511-6d15148d9688",
   "metadata": {},
   "outputs": [
    {
     "name": "stdout",
     "output_type": "stream",
     "text": [
      "Initially detected mutation(s) as of 2020-07-12 are:\n",
      "  ['A263S', 'D614G']\n",
      "The counts:\n",
      "  {'A263S': 1, 'D614G': 5}\n",
      "The following new mutation(s) had emerged as of 2020-08-09:\n",
      "  ['A845S', 'F515F', 'G261D', 'L18F', 'N928N', 'R21I', 'S1252F', 'T618T', 'Y28Y']\n",
      "The counts:\n",
      "  {'A845S': 1, 'F515F': 3, 'G261D': 1, 'L18F': 1, 'N928N': 1, 'R21I': 1, 'S1252F': 4, 'T618T': 1, 'Y28Y': 1}\n",
      "The following new mutation(s) had emerged as of 2020-09-06:\n",
      "  ['A846S', 'N394I', 'P728P', 'S691S']\n",
      "The counts:\n",
      "  {'A846S': 1, 'N394I': 1, 'P728P': 4, 'S691S': 1}\n",
      "The following new mutation(s) had emerged as of 2020-10-04:\n",
      "  ['A27S', 'D80Y', 'E484K', 'G1085E', 'G832G', 'P330L', 'P561S', 'Q836R', 'R683R', 'S375S', 'T1273I', 'T638T', 'T73I', 'T941A', 'V1094V', 'V1228L', 'Y421Y']\n",
      "The counts:\n",
      "  {'A27S': 3, 'D80Y': 4, 'E484K': 2, 'G1085E': 1, 'G832G': 1, 'P330L': 1, 'P561S': 1, 'Q836R': 2, 'R683R': 4, 'S375S': 4, 'T1273I': 1, 'T638T': 1, 'T73I': 3, 'T941A': 1, 'V1094V': 4, 'V1228L': 1, 'Y421Y': 1}\n",
      "The following new mutation(s) had emerged as of 2020-11-01:\n",
      "  ['A262T', 'A263T', 'A623S', 'A845A', 'C1235F', 'C671C', 'D53D', 'D571D', 'E554Q', 'E661D', 'F157L', 'F543F', 'G1251V', 'G769V', 'G798S', 'H1083Y', 'H146H', 'H69_V70del', 'I1114I', 'I882V', 'K182R', 'K444N', 'K854N', 'L1200L', 'L242_L244del', 'L5F', 'L841L', 'M153T', 'M731I', 'N360N', 'N501Y', 'N764fs', 'P681H', 'Q1201K', 'Q613H', 'Q675H', 'R246K', 'S1252C', 'S1252P', 'S221S', 'S477N', 'S60S', 'T240I', 'T676S', 'T723T', 'V1264V', 'V213L', 'V367F', 'V952V', 'W258R', 'Y1215Y', 'Y145del']\n",
      "The counts:\n",
      "  {'A262T': 2, 'A263T': 1, 'A623S': 1, 'A845A': 1, 'C1235F': 2, 'C671C': 1, 'D53D': 2, 'D571D': 2, 'E554Q': 4, 'E661D': 2, 'F157L': 1, 'F543F': 1, 'G1251V': 1, 'G769V': 4, 'G798S': 2, 'H1083Y': 2, 'H146H': 1, 'H69_V70del': 5, 'I1114I': 1, 'I882V': 5, 'K182R': 1, 'K444N': 1, 'K854N': 2, 'L1200L': 2, 'L242_L244del': 1, 'L5F': 1, 'L841L': 4, 'M153T': 1, 'M731I': 1, 'N360N': 1, 'N501Y': 5, 'N764fs': 1, 'P681H': 5, 'Q1201K': 4, 'Q613H': 2, 'Q675H': 1, 'R246K': 1, 'S1252C': 1, 'S1252P': 1, 'S221S': 1, 'S477N': 1, 'S60S': 1, 'T240I': 1, 'T676S': 1, 'T723T': 1, 'V1264V': 1, 'V213L': 1, 'V367F': 1, 'V952V': 1, 'W258R': 2, 'Y1215Y': 1, 'Y145del': 4}\n",
      "The following new mutation(s) had emerged as of 2020-11-29:\n",
      "  ['A1174A', 'A520S', 'C361*', 'C361S', 'D568N', 'E484Q', 'E654A', 'F1103L', 'F1148F', 'F400L', 'G72G', 'I1225V', 'K795T', 'L141F', 'L452L', 'L54F', 'L821L', 'N1178N', 'N234N', 'N856N', 'P139P', 'Q271K', 'Q580R', 'Q677H', 'Q836Q', 'R1107M', 'S443A', 'S477I', 'S673T', 'S704S', 'S929T', 'S940S', 'T20T', 'T572I', 'T573I', 'T588T', 'T716I', 'T791I', 'V1068F', 'V1176F', 'V1230V', 'V1264L', 'V382V', 'V620V', 'V70V', 'V83V', 'W152L', 'Y917Y']\n",
      "The counts:\n",
      "  {'A1174A': 1, 'A520S': 1, 'C361*': 1, 'C361S': 2, 'D568N': 1, 'E484Q': 3, 'E654A': 1, 'F1103L': 2, 'F1148F': 1, 'F400L': 1, 'G72G': 1, 'I1225V': 2, 'K795T': 1, 'L141F': 1, 'L452L': 1, 'L54F': 4, 'L821L': 4, 'N1178N': 1, 'N234N': 1, 'N856N': 1, 'P139P': 1, 'Q271K': 1, 'Q580R': 1, 'Q677H': 1, 'Q836Q': 2, 'R1107M': 1, 'S443A': 1, 'S477I': 2, 'S673T': 2, 'S704S': 1, 'S929T': 1, 'S940S': 1, 'T20T': 2, 'T572I': 1, 'T573I': 1, 'T588T': 1, 'T716I': 1, 'T791I': 1, 'V1068F': 2, 'V1176F': 1, 'V1230V': 3, 'V1264L': 1, 'V382V': 1, 'V620V': 1, 'V70V': 1, 'V83V': 1, 'W152L': 1, 'Y917Y': 1}\n",
      "The following new mutation(s) had emerged as of 2020-12-27:\n",
      "  ['A924G', 'I923V', 'N925N']\n",
      "The counts:\n",
      "  {'A924G': 1, 'I923V': 1, 'N925N': 1}\n",
      "The following new mutation(s) had emerged as of 2021-01-24:\n",
      "  ['A570D', 'C301F', 'D1118H', 'D1184Y', 'D138H', 'D950N', 'E156_R158delinsG', 'E780E', 'L24L', 'L277L', 'L452R', 'L582L', 'P681R', 'S256L', 'S31Y', 'S940P', 'S982A', 'T1117I', 'T19R', 'T478K', 'T676I']\n",
      "The counts:\n",
      "  {'A570D': 3, 'C301F': 1, 'D1118H': 3, 'D1184Y': 2, 'D138H': 2, 'D950N': 5, 'E156_R158delinsG': 1, 'E780E': 1, 'L24L': 1, 'L277L': 1, 'L452R': 7, 'L582L': 1, 'P681R': 8, 'S256L': 1, 'S31Y': 1, 'S940P': 1, 'S982A': 2, 'T1117I': 2, 'T19R': 6, 'T478K': 5, 'T676I': 1}\n",
      "The following new mutation(s) had emerged as of 2021-02-21:\n",
      "  ['A1070S', 'A623A', 'A653D', 'A67V', 'A701V', 'D215G', 'D53N', 'D80A', 'E583D', 'F1062F', 'F490S', 'F497I', 'F497Y', 'F888L', 'G1059V', 'G181V', 'G257S', 'G669C', 'G889G', 'H655Y', 'I326F', 'I326fs', 'I410I', 'K417N', 'L1200P', 'L1218I', 'L849L', 'L981I', 'M900fs', 'N196N', 'N536N', 'N658K', 'N919N', 'Q52R', 'R214L', 'R214R', 'R682R', 'S325T', 'S939F', 'T1027I', 'T778I', 'V511E', 'Y144C']\n",
      "The counts:\n",
      "  {'A1070S': 1, 'A623A': 1, 'A653D': 1, 'A67V': 2, 'A701V': 1, 'D215G': 2, 'D53N': 1, 'D80A': 2, 'E583D': 1, 'F1062F': 2, 'F490S': 3, 'F497I': 1, 'F497Y': 1, 'F888L': 2, 'G1059V': 1, 'G181V': 1, 'G257S': 1, 'G669C': 1, 'G889G': 1, 'H655Y': 2, 'I326F': 1, 'I326fs': 1, 'I410I': 2, 'K417N': 2, 'L1200P': 1, 'L1218I': 1, 'L849L': 1, 'L981I': 1, 'M900fs': 2, 'N196N': 1, 'N536N': 1, 'N658K': 1, 'N919N': 1, 'Q52R': 2, 'R214L': 1, 'R214R': 1, 'R682R': 1, 'S325T': 1, 'S939F': 1, 'T1027I': 1, 'T778I': 1, 'V511E': 1, 'Y144C': 1}\n",
      "The following new mutation(s) had emerged as of 2021-03-21:\n",
      "  ['A1190A', 'A163A', 'A363A', 'A575A', 'A647A', 'D1146H', 'D1153A', 'D796H', 'D979D', 'E1202E', 'E156D', 'F140del', 'F306F', 'F32F', 'F58F', 'G1046G', 'G932G', 'H1271fs', 'H146Y', 'I1018I', 'I434fs', 'I692I', 'K206K', 'K921fs', 'L1024L', 'L585L', 'N61N', 'N679S', 'P1079P', 'P1263T', 'P384L', 'P631S', 'Q1005H', 'R102I', 'R190K', 'R34fs', 'S1051S', 'S371S', 'S884F', 'S967S', 'T1238T', 'T208S', 'T76I', 'T883I', 'T95I', 'V1133F', 'V227L', 'V267L', 'V382L', 'V622F', 'V991V']\n",
      "The counts:\n",
      "  {'A1190A': 22, 'A163A': 2, 'A363A': 1, 'A575A': 2, 'A647A': 2, 'D1146H': 1, 'D1153A': 1, 'D796H': 2, 'D979D': 1, 'E1202E': 1, 'E156D': 1, 'F140del': 1, 'F306F': 1, 'F32F': 1, 'F58F': 2, 'G1046G': 1, 'G932G': 1, 'H1271fs': 1, 'H146Y': 1, 'I1018I': 1, 'I434fs': 1, 'I692I': 1, 'K206K': 2, 'K921fs': 1, 'L1024L': 2, 'L585L': 1, 'N61N': 1, 'N679S': 1, 'P1079P': 4, 'P1263T': 4, 'P384L': 1, 'P631S': 13, 'Q1005H': 1, 'R102I': 3, 'R190K': 1, 'R34fs': 1, 'S1051S': 1, 'S371S': 1, 'S884F': 1, 'S967S': 1, 'T1238T': 2, 'T208S': 1, 'T76I': 3, 'T883I': 1, 'T95I': 2, 'V1133F': 1, 'V227L': 1, 'V267L': 1, 'V382L': 1, 'V622F': 2, 'V991V': 1}\n",
      "The following new mutation(s) had emerged as of 2021-04-18:\n",
      "  ['A222V', 'C166C', 'D1146D', 'F562F', 'L242P', 'L425L', 'M1229I', 'N679K', 'S1147S', 'S1242I', 'S151I', 'W152R', 'Y508Y']\n",
      "The counts:\n",
      "  {'A222V': 1, 'C166C': 1, 'D1146D': 3, 'F562F': 1, 'L242P': 1, 'L425L': 1, 'M1229I': 1, 'N679K': 1, 'S1147S': 1, 'S1242I': 2, 'S151I': 1, 'W152R': 1, 'Y508Y': 1}\n",
      "The following new mutation(s) had emerged as of 2021-05-16:\n",
      "  ['F1109L', 'K814R', 'P272H', 'Q414K', 'R214_D215insTDR']\n",
      "The counts:\n",
      "  {'F1109L': 1, 'K814R': 1, 'P272H': 1, 'Q414K': 2, 'R214_D215insTDR': 2}\n",
      "The following new mutation(s) had emerged as of 2021-06-13:\n",
      "  ['D1260E', 'P812S', 'Q14H', 'R408I', 'Y200C']\n",
      "The counts:\n",
      "  {'D1260E': 2, 'P812S': 1, 'Q14H': 1, 'R408I': 1, 'Y200C': 1}\n",
      "The following new mutation(s) had emerged as of 2021-07-11:\n",
      "  ['A522P', 'A706V', 'D253G', 'D428D', 'D808D', 'G257R', 'G446D', 'G446V', 'I472I', 'L1063L', 'L1218L', 'L922F', 'L945L', 'N61fs', 'P1213P', 'R78M', 'V16V']\n",
      "The counts:\n",
      "  {'A522P': 1, 'A706V': 1, 'D253G': 2, 'D428D': 1, 'D808D': 1, 'G257R': 1, 'G446D': 1, 'G446V': 1, 'I472I': 1, 'L1063L': 1, 'L1218L': 2, 'L922F': 1, 'L945L': 1, 'N61fs': 1, 'P1213P': 1, 'R78M': 1, 'V16V': 1}\n",
      "The following new mutation(s) had emerged as of 2021-08-08:\n",
      "  ['A1015A', 'A1078S', 'A243T', 'A263V', 'A27fs', 'A623V', 'A688V', 'A893fs', 'C166fs', 'C361fs', 'C432C', 'D1153Y', 'D1163D', 'D1163N', 'D1163Y', 'D1199D', 'D1259D', 'D215H', 'D228N', 'D290D', 'D420Y', 'D848D', 'D950fs', 'E1151D', 'E1202Q', 'F318S', 'F377L', 'F782F', 'F833F', 'G413G', 'G545C', 'G566G', 'G999G', 'H146Q', 'I1115I', 'I1225T', 'I210N', 'I923I', 'L546L', 'L754L', 'N1158D', 'N354N', 'N542N', 'P26L', 'P337P', 'P384fs', 'P479P', 'P862P', 'P9Q', 'R1091H', 'R357R', 'S605P', 'S974S', 'T29I', 'T302T', 'T547I', 'T696I', 'T761I', 'T778T', 'T827A', 'T95N', 'V1065V', 'V367L', 'Y489Y', 'Y741Y', 'Y789Y']\n",
      "The counts:\n",
      "  {'A1015A': 1, 'A1078S': 1, 'A243T': 1, 'A263V': 1, 'A27fs': 1, 'A623V': 1, 'A688V': 1, 'A893fs': 1, 'C166fs': 1, 'C361fs': 1, 'C432C': 7, 'D1153Y': 1, 'D1163D': 3, 'D1163N': 1, 'D1163Y': 1, 'D1199D': 1, 'D1259D': 1, 'D215H': 1, 'D228N': 1, 'D290D': 1, 'D420Y': 1, 'D848D': 1, 'D950fs': 1, 'E1151D': 1, 'E1202Q': 1, 'F318S': 1, 'F377L': 1, 'F782F': 1, 'F833F': 1, 'G413G': 2, 'G545C': 1, 'G566G': 1, 'G999G': 1, 'H146Q': 1, 'I1115I': 2, 'I1225T': 3, 'I210N': 1, 'I923I': 1, 'L546L': 1, 'L754L': 1, 'N1158D': 1, 'N354N': 1, 'N542N': 2, 'P26L': 1, 'P337P': 1, 'P384fs': 1, 'P479P': 1, 'P862P': 1, 'P9Q': 1, 'R1091H': 1, 'R357R': 1, 'S605P': 1, 'S974S': 1, 'T29I': 1, 'T302T': 1, 'T547I': 1, 'T696I': 1, 'T761I': 1, 'T778T': 1, 'T827A': 1, 'T95N': 1, 'V1065V': 1, 'V367L': 4, 'Y489Y': 1, 'Y741Y': 1, 'Y789Y': 1}\n",
      "The following new mutation(s) had emerged as of 2021-09-05:\n",
      "  ['A348S', 'A575S', 'A684V', 'C1236C', 'C760C', 'D1153D', 'D1259E', 'D53G', 'E484A', 'F2F', 'F374F', 'G1124C', 'G1124V', 'G1219C', 'G142D', 'G219G', 'G757G', 'G999V', 'H1101H', 'H245Y', 'I1221V', 'I584V', 'I997L', 'K1191N', 'K206fs', 'L1063F', 'L368L', 'M1?', 'M869I', 'N1119N', 'N164fs', 'N211N', 'N481_G482delinsS', 'N824N', 'P330S', 'P85S', 'Q1005Q', 'Q314K', 'R346K', 'R567R', 'S514F', 'S514fs', 'S813S', 'T393A', 'T500I', 'T732I', 'T859I', 'T883T', 'V1104L', 'V308V', 'V483I', 'V622V', 'V62G', 'V785V', 'Y707Y']\n",
      "The counts:\n",
      "  {'A348S': 1, 'A575S': 1, 'A684V': 1, 'C1236C': 1, 'C760C': 1, 'D1153D': 1, 'D1259E': 5, 'D53G': 1, 'E484A': 1, 'F2F': 1, 'F374F': 1, 'G1124C': 1, 'G1124V': 1, 'G1219C': 1, 'G142D': 9, 'G219G': 4, 'G757G': 1, 'G999V': 1, 'H1101H': 1, 'H245Y': 1, 'I1221V': 1, 'I584V': 1, 'I997L': 1, 'K1191N': 1, 'K206fs': 1, 'L1063F': 1, 'L368L': 1, 'M1?': 1, 'M869I': 5, 'N1119N': 1, 'N164fs': 1, 'N211N': 1, 'N481_G482delinsS': 1, 'N824N': 2, 'P330S': 1, 'P85S': 1, 'Q1005Q': 1, 'Q314K': 1, 'R346K': 2, 'R567R': 3, 'S514F': 1, 'S514fs': 1, 'S813S': 1, 'T393A': 3, 'T500I': 1, 'T732I': 1, 'T859I': 3, 'T883T': 1, 'V1104L': 2, 'V308V': 1, 'V483I': 1, 'V622V': 1, 'V62G': 1, 'V785V': 4, 'Y707Y': 1}\n",
      "The following new mutation(s) had emerged as of 2021-10-03:\n",
      "  ['A879S', 'D1259Y', 'D936H', 'G446R', 'G932V', 'H1058Y', 'I788N', 'L216F', 'L293L', 'L582F', 'L806L', 'M1237I', 'M1237fs', 'N978fs', 'Q1036H', 'Q1208H', 'S172F', 'S373S', 'T376S', 'T547K', 'Y756Y']\n",
      "The counts:\n",
      "  {'A879S': 1, 'D1259Y': 3, 'D936H': 1, 'G446R': 1, 'G932V': 2, 'H1058Y': 1, 'I788N': 1, 'L216F': 1, 'L293L': 1, 'L582F': 1, 'L806L': 5, 'M1237I': 1, 'M1237fs': 1, 'N978fs': 1, 'Q1036H': 1, 'Q1208H': 1, 'S172F': 1, 'S373S': 1, 'T376S': 1, 'T547K': 2, 'Y756Y': 1}\n",
      "The following new mutation(s) had emerged as of 2021-10-31:\n",
      "  ['A520A', 'E1150D', 'L518L', 'N370N']\n",
      "The counts:\n",
      "  {'A520A': 1, 'E1150D': 1, 'L518L': 1, 'N370N': 1}\n"
     ]
    }
   ],
   "source": [
    "df_spike_trend = pd.DataFrame()\n",
    "count = 1\n",
    "observed_mut = []\n",
    "for i,df in df_fort:\n",
    "#     print(i, df)\n",
    "    spike_mut_list = []\n",
    "    for row in df.itertuples():\n",
    "        if isinstance(row.S, str):\n",
    "            mut_list = row.S.rstrip(', ').split(', ')\n",
    "        else:\n",
    "            pass#mut_list = []; mut_list.append(pd.NA)\n",
    "        spike_mut_list.extend(mut_list)\n",
    "    mut_count = Counter(spike_mut_list)\n",
    "    df_new = pd.DataFrame(mut_count, index=[i])\n",
    "    new_col = set(df_new.columns)\n",
    "    output = sorted(list(new_col)); observed_mut.append(output)\n",
    "    prev_col = set(df_spike_trend.columns)\n",
    "    new_m_prev_col = new_col - prev_col\n",
    "    new_u_prev_col = new_col & prev_col\n",
    "    prev_m_new_prev_col = prev_col - new_u_prev_col\n",
    "    if new_m_prev_col == new_col:\n",
    "        if count == 1:\n",
    "            output = sorted(list(new_col))#; observed_mut.append(output)\n",
    "            print(f'Initially detected mutation(s) as of {i.strftime(\"%Y-%m-%d\")} are:\\n  {output}\\nThe counts:\\n  {dict([(k, mut_count[k]) for k in output])}')\n",
    "        else:\n",
    "            output = sorted(list(new_col))#; observed_mut.append(output)\n",
    "            print(f'No new mutation(s) were detected as of {i.strftime(\"%Y-%m-%d\")}')\n",
    "    elif len(new_m_prev_col) > 0:\n",
    "        output = sorted(list(new_m_prev_col))#; observed_mut.append(output)\n",
    "        print(f'The following new mutation(s) had emerged as of {i.strftime(\"%Y-%m-%d\")}:\\n  {output}\\nThe counts:\\n  {dict([(k, mut_count[k]) for k in output])}')\n",
    "    elif len(new_m_prev_col) == 0:\n",
    "        output = sorted(list(prev_col))#; observed_mut.append(output)\n",
    "        print(f'No new mutation(s) were detected as of {i.strftime(\"%Y-%m-%d\")}')\n",
    "\n",
    "    count += 1\n",
    "    df_spike_trend = df_spike_trend.append(df_new)\n"
   ]
  },
  {
   "cell_type": "markdown",
   "id": "df790ab2-b274-460b-a6ba-32f3f774de7d",
   "metadata": {},
   "source": [
    "### **Regions of interest mutation on spike**\n",
    " - 319-541 - RBD\n",
    " - 613-705 - S1/S2 junction"
   ]
  },
  {
   "cell_type": "code",
   "execution_count": 17,
   "id": "5e647bd7-d09d-4607-91dc-38867144d309",
   "metadata": {},
   "outputs": [
    {
     "name": "stdout",
     "output_type": "stream",
     "text": [
      "The following mutations consistently appeared across 3 periods (are they emerging variants?):\n",
      "{'D614G': 15, 'P728P': 2, 'D80Y': 1, 'G1085E': 1, 'Q836R': 1, 'R683R': 1, 'S375S': 1, 'T73I': 1, 'V1228L': 1, 'L1200L': 1, 'Q1201K': 1, 'A570D': 7, 'D1118H': 7, 'D138H': 6, 'D950N': 8, 'H69_V70del': 7, 'N501Y': 7, 'P681H': 7, 'S982A': 7, 'T19R': 8, 'T478K': 8, 'T716I': 7, 'Y145del': 7, 'A67V': 1, 'A701V': 1, 'D215G': 1, 'D80A': 1, 'E484K': 1, 'F1062F': 1, 'F490S': 5, 'F888L': 1, 'K417N': 1, 'L18F': 1, 'L242_L244del': 1, 'Q677H': 2, 'S940S': 1, 'G1251V': 1, 'G261D': 3, 'L452R': 6, 'P681R': 6, 'S1252C': 1, 'E156_R158delinsG': 3, 'F32F': 3, 'C361*': 1, 'C361S': 1, 'D253G': 1, 'G446V': 2, 'N61fs': 1, 'Q613H': 2, 'V1264L': 2, 'D1163D': 1, 'D215H': 1, 'E661D': 1}\n",
      "\n",
      "\n",
      "The following consistent mutations occur in either the RBD (319-541) or the S1-S2 (613-705) spike regions:\n",
      " {'D614G': 15, 'R683R': 1, 'S375S': 1, 'N501Y': 7, 'P681H': 7, 'T478K': 8, 'A701V': 1, 'E484K': 1, 'F490S': 5, 'K417N': 1, 'Q677H': 2, 'L452R': 6, 'P681R': 6, 'C361*': 1, 'C361S': 1, 'G446V': 2, 'Q613H': 2, 'E661D': 1}\n"
     ]
    }
   ],
   "source": [
    "window_size = 3\n",
    "interest_muts = []\n",
    "for i in range(len(observed_mut) - window_size):\n",
    "    period_slice = []; period_slice.extend(observed_mut[i:i+window_size])\n",
    "#     print(len(period_slice))\n",
    "    counter = Counter()\n",
    "    for period in period_slice: \n",
    "#         print(len(period))\n",
    "        cnt = Counter(period)\n",
    "        counter += cnt\n",
    "#         print(counter)\n",
    "    for k, v in counter.items(): \n",
    "#         print(k,v)\n",
    "        if v == len(period_slice):\n",
    "#             if k not in interest_muts:\n",
    "            interest_muts.append(k)\n",
    "#             else: pass\n",
    "        else: pass\n",
    "print(f'The following mutations consistently appeared across {window_size} periods (are they emerging variants?):\\n{dict(Counter(interest_muts))}')\n",
    "#     print(period_slice)\n",
    "\n",
    "moc_dict = dict(Counter(interest_muts))\n",
    "moc_set = set(list(range(319,542)) + list(range(613,706)))\n",
    "moc_dict_keys = set(moc_dict.keys())\n",
    "\n",
    "moc_p = re.compile(r'[3-7][0-9]{2,2}')\n",
    "moc_mut = set(map(lambda x: int(x), moc_p.findall(str(moc_dict_keys))))\n",
    "\n",
    "moc = moc_set & moc_mut\n",
    "if len(moc) > 0:\n",
    "    p = re.compile('|'.join([str(i) for i in moc]))\n",
    "    moc_fin = {k: v for k,v in moc_dict.items() if p.findall(k)}\n",
    "    print(f'\\n\\nThe following consistent mutations occur in either the RBD (319-541) or the S1-S2 (613-705) spike regions:\\n {moc_fin}')"
   ]
  },
  {
   "cell_type": "code",
   "execution_count": 18,
   "id": "42617cb8-a3ae-4950-a0ac-127c145685d0",
   "metadata": {},
   "outputs": [
    {
     "data": {
      "text/plain": [
       "D614G               1245.0\n",
       "P681R                647.0\n",
       "D950N                617.0\n",
       "L452R                607.0\n",
       "T478K                605.0\n",
       "T19R                 594.0\n",
       "E156_R158delinsG     246.0\n",
       "P681H                237.0\n",
       "H69_V70del           230.0\n",
       "Y145del              230.0\n",
       "D1118H               217.0\n",
       "A570D                216.0\n",
       "S982A                213.0\n",
       "T716I                211.0\n",
       "N501Y                197.0\n",
       "Q613H                 54.0\n",
       "R683R                 41.0\n",
       "D138H                 39.0\n",
       "G261D                 33.0\n",
       "S375S                 27.0\n",
       "dtype: float64"
      ]
     },
     "execution_count": 18,
     "metadata": {},
     "output_type": "execute_result"
    }
   ],
   "source": [
    "df_spike_trend.sum().sort_values(ascending=False)[:20]"
   ]
  }
 ],
 "metadata": {
  "kernelspec": {
   "display_name": "Python 3",
   "language": "python",
   "name": "python3"
  },
  "language_info": {
   "codemirror_mode": {
    "name": "ipython",
    "version": 3
   },
   "file_extension": ".py",
   "mimetype": "text/x-python",
   "name": "python",
   "nbconvert_exporter": "python",
   "pygments_lexer": "ipython3",
   "version": "3.8.10"
  }
 },
 "nbformat": 4,
 "nbformat_minor": 5
}
