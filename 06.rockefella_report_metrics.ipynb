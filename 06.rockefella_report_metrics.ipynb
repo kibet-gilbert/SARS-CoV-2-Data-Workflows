{
 "cells": [
  {
   "cell_type": "markdown",
   "id": "64096008-f2f1-40f3-bf6c-de726eeaa085",
   "metadata": {},
   "source": [
    "## **Rough work and everything**"
   ]
  },
  {
   "cell_type": "code",
   "execution_count": 1,
   "id": "b9e2407c-9746-41c6-b47a-d991b89ed5b4",
   "metadata": {},
   "outputs": [],
   "source": [
    "import pandas as pd\n",
    "import seaborn as sns\n",
    "import numpy as np\n",
    "import glob, os, re\n",
    "import matplotlib.pyplot as plt\n",
    "from datetime import  datetime\n",
    "from ipywidgets import widgets, interactive"
   ]
  },
  {
   "cell_type": "code",
   "execution_count": 2,
   "id": "04036412-5dc1-4e04-8460-5ed64c23d369",
   "metadata": {},
   "outputs": [],
   "source": [
    "dt = datetime.today().strftime(format='%d-%m-%Y')"
   ]
  },
  {
   "cell_type": "markdown",
   "id": "c0d74297-d958-457f-9404-c4bc5a62b927",
   "metadata": {},
   "source": [
    "### **Establish parent directory**"
   ]
  },
  {
   "cell_type": "code",
   "execution_count": 3,
   "id": "e7b26b02-0aba-46b3-850b-f0460ddfee41",
   "metadata": {},
   "outputs": [],
   "source": [
    "#uniqueness in directory and file names is assumed for all analyses\n",
    "sars_dir = \"bioinformatics/github/covid/data/SarsGenomics/SARS-CoV-2\"\n",
    "home_dir = os.getenv('HOME')\n",
    "parent_dir = glob.glob(f'{home_dir}/{sars_dir}', recursive=True)[0]"
   ]
  },
  {
   "cell_type": "markdown",
   "id": "9cf8449a-5d42-494e-8db6-9d14171efba8",
   "metadata": {},
   "source": [
    "### **Metadata**"
   ]
  },
  {
   "cell_type": "code",
   "execution_count": 4,
   "id": "1cd8474f-44ad-451b-8397-6bd2094bd4dc",
   "metadata": {},
   "outputs": [],
   "source": [
    "df_meta = pd.read_excel(glob.glob(f'{parent_dir}/**/COVID19-resultsCts-merged-cln.xlsx', recursive=True)[0])\n",
    "# glob(f'{parent_dir}/**/pc-nc_QC-QA_03-11-2021.xlsx', recursive=True)[0])[['CASE_ID', 'S_NUM']]#, 'G_COV', 'LIN', 'DT_SAM_RECEP', 'DT_SAM_COLL']]"
   ]
  },
  {
   "cell_type": "markdown",
   "id": "63c1f4c2-1712-40e3-ae85-0df8733b4738",
   "metadata": {},
   "source": [
    "## RF Report August"
   ]
  },
  {
   "cell_type": "code",
   "execution_count": 5,
   "id": "07963d94-a5d8-4f89-8b60-a2fe817b4c95",
   "metadata": {},
   "outputs": [],
   "source": [
    "df_seq_summ = pd.read_excel(glob.glob(f'{parent_dir}/Outputs/seq-summary-metadata_seq52_31-08-2022.xlsx')[0])\n",
    "df_prev = pd.read_excel(glob.glob(f'{parent_dir}/RFellerReports/rf-20220831_ILRI_gisaid_submission_12_metadata.xls')[0], \n",
    "                              sheet_name='Submissions', usecols=['covv_provider_sample_id', 'covv_subm_sample_id'])#covv_subm_sample_id"
   ]
  },
  {
   "cell_type": "code",
   "execution_count": 6,
   "id": "f5732288-e711-479b-a47f-02c9fc416841",
   "metadata": {},
   "outputs": [
    {
     "data": {
      "text/html": [
       "<div>\n",
       "<style scoped>\n",
       "    .dataframe tbody tr th:only-of-type {\n",
       "        vertical-align: middle;\n",
       "    }\n",
       "\n",
       "    .dataframe tbody tr th {\n",
       "        vertical-align: top;\n",
       "    }\n",
       "\n",
       "    .dataframe thead th {\n",
       "        text-align: right;\n",
       "    }\n",
       "</style>\n",
       "<table border=\"1\" class=\"dataframe\">\n",
       "  <thead>\n",
       "    <tr style=\"text-align: right;\">\n",
       "      <th></th>\n",
       "      <th>case_id</th>\n",
       "      <th>sequence_name</th>\n",
       "      <th>genome_coverage</th>\n",
       "      <th>lineage</th>\n",
       "      <th>clade</th>\n",
       "      <th>run_num</th>\n",
       "      <th>tech</th>\n",
       "      <th>seq_dt</th>\n",
       "      <th>lib_prep</th>\n",
       "      <th>primer_set</th>\n",
       "      <th>analysis_pipeline</th>\n",
       "      <th>sno.</th>\n",
       "    </tr>\n",
       "  </thead>\n",
       "  <tbody>\n",
       "    <tr>\n",
       "      <th>0</th>\n",
       "      <td>MUS/30826/2022</td>\n",
       "      <td>COVM04097</td>\n",
       "      <td>99.8</td>\n",
       "      <td>BA.2</td>\n",
       "      <td>21L (Omicron)</td>\n",
       "      <td>Run52</td>\n",
       "      <td>NextSeq</td>\n",
       "      <td>23/08/2022</td>\n",
       "      <td>COVIDSeq</td>\n",
       "      <td>ARTIC_V3</td>\n",
       "      <td>nf-viralrecon-v2.5</td>\n",
       "      <td>NaN</td>\n",
       "    </tr>\n",
       "    <tr>\n",
       "      <th>1</th>\n",
       "      <td>MUS/28727/2022</td>\n",
       "      <td>COVM04048</td>\n",
       "      <td>99.8</td>\n",
       "      <td>BA.2</td>\n",
       "      <td>21L (Omicron)</td>\n",
       "      <td>Run52</td>\n",
       "      <td>NextSeq</td>\n",
       "      <td>23/08/2022</td>\n",
       "      <td>COVIDSeq</td>\n",
       "      <td>ARTIC_V3</td>\n",
       "      <td>nf-viralrecon-v2.5</td>\n",
       "      <td>NaN</td>\n",
       "    </tr>\n",
       "  </tbody>\n",
       "</table>\n",
       "</div>"
      ],
      "text/plain": [
       "          case_id sequence_name  genome_coverage lineage          clade  \\\n",
       "0  MUS/30826/2022     COVM04097             99.8    BA.2  21L (Omicron)   \n",
       "1  MUS/28727/2022     COVM04048             99.8    BA.2  21L (Omicron)   \n",
       "\n",
       "  run_num     tech      seq_dt  lib_prep primer_set   analysis_pipeline  sno.  \n",
       "0   Run52  NextSeq  23/08/2022  COVIDSeq   ARTIC_V3  nf-viralrecon-v2.5   NaN  \n",
       "1   Run52  NextSeq  23/08/2022  COVIDSeq   ARTIC_V3  nf-viralrecon-v2.5   NaN  "
      ]
     },
     "execution_count": 6,
     "metadata": {},
     "output_type": "execute_result"
    }
   ],
   "source": [
    "df_seq_summ. head(2)"
   ]
  },
  {
   "cell_type": "code",
   "execution_count": 7,
   "id": "b1e535d4-6131-47eb-890d-c46275f10387",
   "metadata": {},
   "outputs": [
    {
     "data": {
      "text/plain": [
       "array(['Run52'], dtype=object)"
      ]
     },
     "execution_count": 7,
     "metadata": {},
     "output_type": "execute_result"
    }
   ],
   "source": [
    "df_seq_summ.run_num.unique()"
   ]
  },
  {
   "cell_type": "code",
   "execution_count": 8,
   "id": "f8571a68-ba24-45d6-b43a-1787004e6af7",
   "metadata": {},
   "outputs": [],
   "source": [
    "mask1 = df_seq_summ.run_num.isin(['Run52'])#, 'Run41'\n"
   ]
  },
  {
   "cell_type": "code",
   "execution_count": 9,
   "id": "f49e7510-9cad-4745-b63d-b3e16b435dec",
   "metadata": {},
   "outputs": [
    {
     "name": "stdout",
     "output_type": "stream",
     "text": [
      "Total sequenced: 192\n"
     ]
    }
   ],
   "source": [
    "latest_seq = df_seq_summ[mask1 == True]\n",
    "print(f'Total sequenced: {latest_seq.shape[0]}')"
   ]
  },
  {
   "cell_type": "code",
   "execution_count": 10,
   "id": "baf0cf42-e55b-4141-8325-e0b8bf7de577",
   "metadata": {},
   "outputs": [],
   "source": [
    "mask2, msk1, msk2, msk3 = (latest_seq.case_id.str.contains('SWZ/'), latest_seq.case_id.str.contains('MUS/'),\n",
    "latest_seq.case_id.str.contains('MUS/'), latest_seq.case_id.str.contains('AGO/'))\n",
    "# latest_eth = latest_seq[mask2 == True]\n",
    "# latest_eth.shape[0]#latest_seq.shape[0] - "
   ]
  },
  {
   "cell_type": "code",
   "execution_count": 11,
   "id": "2e33ced8-8acf-4450-a68c-c04952af7222",
   "metadata": {},
   "outputs": [
    {
     "name": "stdout",
     "output_type": "stream",
     "text": [
      "Total submitted: 188\n"
     ]
    }
   ],
   "source": [
    "print(f'Total submitted: {df_prev.shape[0] - 1}')"
   ]
  },
  {
   "cell_type": "code",
   "execution_count": 12,
   "id": "b5b8ab51-a31f-4491-b11d-01e19e547d0e",
   "metadata": {},
   "outputs": [
    {
     "data": {
      "text/html": [
       "<div>\n",
       "<style scoped>\n",
       "    .dataframe tbody tr th:only-of-type {\n",
       "        vertical-align: middle;\n",
       "    }\n",
       "\n",
       "    .dataframe tbody tr th {\n",
       "        vertical-align: top;\n",
       "    }\n",
       "\n",
       "    .dataframe thead th {\n",
       "        text-align: right;\n",
       "    }\n",
       "</style>\n",
       "<table border=\"1\" class=\"dataframe\">\n",
       "  <thead>\n",
       "    <tr style=\"text-align: right;\">\n",
       "      <th></th>\n",
       "      <th>covv_provider_sample_id</th>\n",
       "      <th>covv_subm_sample_id</th>\n",
       "    </tr>\n",
       "  </thead>\n",
       "  <tbody>\n",
       "    <tr>\n",
       "      <th>0</th>\n",
       "      <td>Sample ID given by originating laboratory</td>\n",
       "      <td>Sample ID given by the submitting laboratory</td>\n",
       "    </tr>\n",
       "    <tr>\n",
       "      <th>1</th>\n",
       "      <td>COVM03968</td>\n",
       "      <td>COVM03968</td>\n",
       "    </tr>\n",
       "    <tr>\n",
       "      <th>2</th>\n",
       "      <td>COVM03969</td>\n",
       "      <td>COVM03969</td>\n",
       "    </tr>\n",
       "    <tr>\n",
       "      <th>3</th>\n",
       "      <td>COVM03970</td>\n",
       "      <td>COVM03970</td>\n",
       "    </tr>\n",
       "    <tr>\n",
       "      <th>4</th>\n",
       "      <td>MUS/23958/2022</td>\n",
       "      <td>COVM03972</td>\n",
       "    </tr>\n",
       "  </tbody>\n",
       "</table>\n",
       "</div>"
      ],
      "text/plain": [
       "                     covv_provider_sample_id  \\\n",
       "0  Sample ID given by originating laboratory   \n",
       "1                                  COVM03968   \n",
       "2                                  COVM03969   \n",
       "3                                  COVM03970   \n",
       "4                             MUS/23958/2022   \n",
       "\n",
       "                            covv_subm_sample_id  \n",
       "0  Sample ID given by the submitting laboratory  \n",
       "1                                     COVM03968  \n",
       "2                                     COVM03969  \n",
       "3                                     COVM03970  \n",
       "4                                     COVM03972  "
      ]
     },
     "execution_count": 12,
     "metadata": {},
     "output_type": "execute_result"
    }
   ],
   "source": [
    "mask3 = df_meta.S_NUM.isin(df_prev.covv_subm_sample_id)#covv_subm_sample_id\n",
    "df_prev.head()"
   ]
  },
  {
   "cell_type": "code",
   "execution_count": 13,
   "id": "aa34495d-c501-4e79-9d84-1d74803cc98b",
   "metadata": {},
   "outputs": [
    {
     "data": {
      "text/html": [
       "<div>\n",
       "<style scoped>\n",
       "    .dataframe tbody tr th:only-of-type {\n",
       "        vertical-align: middle;\n",
       "    }\n",
       "\n",
       "    .dataframe tbody tr th {\n",
       "        vertical-align: top;\n",
       "    }\n",
       "\n",
       "    .dataframe thead th {\n",
       "        text-align: right;\n",
       "    }\n",
       "</style>\n",
       "<table border=\"1\" class=\"dataframe\">\n",
       "  <thead>\n",
       "    <tr style=\"text-align: right;\">\n",
       "      <th></th>\n",
       "      <th>abbr</th>\n",
       "      <th>S_NUM</th>\n",
       "      <th>CASE_ID</th>\n",
       "      <th>AGE_YRS</th>\n",
       "      <th>GEND</th>\n",
       "      <th>OCCU</th>\n",
       "      <th>NAT</th>\n",
       "      <th>COUNT_RES</th>\n",
       "      <th>S_COUNT_RES</th>\n",
       "      <th>TRAV_HIST</th>\n",
       "      <th>...</th>\n",
       "      <th>SAMP_TYPE</th>\n",
       "      <th>DT_SAM_COLL</th>\n",
       "      <th>DT_SAM_RECEP</th>\n",
       "      <th>RESULT</th>\n",
       "      <th>DT_CONF</th>\n",
       "      <th>VACC_STATUS</th>\n",
       "      <th>VACC_DOS</th>\n",
       "      <th>RTPCR_POS</th>\n",
       "      <th>AVG_Ct</th>\n",
       "      <th>DT_RUN</th>\n",
       "    </tr>\n",
       "  </thead>\n",
       "  <tbody>\n",
       "    <tr>\n",
       "      <th>30131</th>\n",
       "      <td>30129</td>\n",
       "      <td>COVM03968</td>\n",
       "      <td>NYR/5313/2022</td>\n",
       "      <td>42</td>\n",
       "      <td>M</td>\n",
       "      <td>Farmer</td>\n",
       "      <td>Kenya</td>\n",
       "      <td>Nyeri</td>\n",
       "      <td>Tetu</td>\n",
       "      <td>No</td>\n",
       "      <td>...</td>\n",
       "      <td>NP Swab</td>\n",
       "      <td>2022-07-21 00:00:00</td>\n",
       "      <td>2022-07-21 00:00:00</td>\n",
       "      <td>NaN</td>\n",
       "      <td>2022-08-18 00:00:00</td>\n",
       "      <td>No</td>\n",
       "      <td>NaN</td>\n",
       "      <td>A01</td>\n",
       "      <td>NaN</td>\n",
       "      <td>2022-08-18 14:54:03</td>\n",
       "    </tr>\n",
       "    <tr>\n",
       "      <th>30132</th>\n",
       "      <td>30130</td>\n",
       "      <td>COVM03969</td>\n",
       "      <td>NYA/3254/2022</td>\n",
       "      <td>70</td>\n",
       "      <td>F</td>\n",
       "      <td>Farmer</td>\n",
       "      <td>Kenya</td>\n",
       "      <td>Nyandarua</td>\n",
       "      <td>Oljororok</td>\n",
       "      <td>No</td>\n",
       "      <td>...</td>\n",
       "      <td>NP Swab</td>\n",
       "      <td>2022-07-13 00:00:00</td>\n",
       "      <td>2022-07-29 00:00:00</td>\n",
       "      <td>NaN</td>\n",
       "      <td>2022-08-18 00:00:00</td>\n",
       "      <td>Yes</td>\n",
       "      <td>C</td>\n",
       "      <td>A02</td>\n",
       "      <td>NaN</td>\n",
       "      <td>2022-08-18 14:54:03</td>\n",
       "    </tr>\n",
       "  </tbody>\n",
       "</table>\n",
       "<p>2 rows × 23 columns</p>\n",
       "</div>"
      ],
      "text/plain": [
       "        abbr      S_NUM        CASE_ID AGE_YRS GEND    OCCU    NAT  COUNT_RES  \\\n",
       "30131  30129  COVM03968  NYR/5313/2022      42    M  Farmer  Kenya      Nyeri   \n",
       "30132  30130  COVM03969  NYA/3254/2022      70    F  Farmer  Kenya  Nyandarua   \n",
       "\n",
       "      S_COUNT_RES TRAV_HIST  ... SAMP_TYPE          DT_SAM_COLL  \\\n",
       "30131        Tetu        No  ...   NP Swab  2022-07-21 00:00:00   \n",
       "30132   Oljororok        No  ...   NP Swab  2022-07-13 00:00:00   \n",
       "\n",
       "              DT_SAM_RECEP RESULT              DT_CONF VACC_STATUS VACC_DOS  \\\n",
       "30131  2022-07-21 00:00:00    NaN  2022-08-18 00:00:00          No      NaN   \n",
       "30132  2022-07-29 00:00:00    NaN  2022-08-18 00:00:00         Yes        C   \n",
       "\n",
       "      RTPCR_POS AVG_Ct               DT_RUN  \n",
       "30131       A01    NaN  2022-08-18 14:54:03  \n",
       "30132       A02    NaN  2022-08-18 14:54:03  \n",
       "\n",
       "[2 rows x 23 columns]"
      ]
     },
     "execution_count": 13,
     "metadata": {},
     "output_type": "execute_result"
    }
   ],
   "source": [
    "sub_meta = df_meta[mask3 == True]\n",
    "sub_meta.head(2)"
   ]
  },
  {
   "cell_type": "code",
   "execution_count": 14,
   "id": "6fb719b2-dbd8-4689-8f7e-2076d4ba2872",
   "metadata": {},
   "outputs": [
    {
     "name": "stdout",
     "output_type": "stream",
     "text": [
      "<class 'pandas.core.frame.DataFrame'>\n",
      "Int64Index: 188 entries, 30131 to 30327\n",
      "Data columns (total 23 columns):\n",
      " #   Column        Non-Null Count  Dtype \n",
      "---  ------        --------------  ----- \n",
      " 0   abbr          188 non-null    object\n",
      " 1   S_NUM         188 non-null    object\n",
      " 2   CASE_ID       188 non-null    object\n",
      " 3   AGE_YRS       187 non-null    object\n",
      " 4   GEND          188 non-null    object\n",
      " 5   OCCU          3 non-null      object\n",
      " 6   NAT           188 non-null    object\n",
      " 7   COUNT_RES     3 non-null      object\n",
      " 8   S_COUNT_RES   188 non-null    object\n",
      " 9   TRAV_HIST     188 non-null    object\n",
      " 10  TRAV_FROM     0 non-null      object\n",
      " 11  QUAR_PLACE    1 non-null      object\n",
      " 12  SYMPS         2 non-null      object\n",
      " 13  SAMP_TYPE     188 non-null    object\n",
      " 14  DT_SAM_COLL   188 non-null    object\n",
      " 15  DT_SAM_RECEP  188 non-null    object\n",
      " 16  RESULT        0 non-null      object\n",
      " 17  DT_CONF       188 non-null    object\n",
      " 18  VACC_STATUS   188 non-null    object\n",
      " 19  VACC_DOS      107 non-null    object\n",
      " 20  RTPCR_POS     188 non-null    object\n",
      " 21  AVG_Ct        183 non-null    object\n",
      " 22  DT_RUN        188 non-null    object\n",
      "dtypes: object(23)\n",
      "memory usage: 35.2+ KB\n"
     ]
    }
   ],
   "source": [
    "sub_meta.info()"
   ]
  },
  {
   "cell_type": "code",
   "execution_count": 15,
   "id": "01141042-09cc-4f14-b63e-20f79a57946d",
   "metadata": {},
   "outputs": [
    {
     "data": {
      "text/plain": [
       "0"
      ]
     },
     "execution_count": 15,
     "metadata": {},
     "output_type": "execute_result"
    }
   ],
   "source": [
    "sub_meta[sub_meta.DT_SAM_COLL.isna() == True].shape[0]"
   ]
  },
  {
   "cell_type": "code",
   "execution_count": 16,
   "id": "80e0393d-e16c-432c-acf3-be4c6df0410c",
   "metadata": {},
   "outputs": [],
   "source": [
    "sub_fnl = sub_meta[sub_meta.DT_SAM_COLL.isna() == False]\n"
   ]
  },
  {
   "cell_type": "code",
   "execution_count": 17,
   "id": "42227d73-1bfa-4c2f-9a3d-d143e837dc7c",
   "metadata": {},
   "outputs": [
    {
     "data": {
      "text/html": [
       "<div>\n",
       "<style scoped>\n",
       "    .dataframe tbody tr th:only-of-type {\n",
       "        vertical-align: middle;\n",
       "    }\n",
       "\n",
       "    .dataframe tbody tr th {\n",
       "        vertical-align: top;\n",
       "    }\n",
       "\n",
       "    .dataframe thead th {\n",
       "        text-align: right;\n",
       "    }\n",
       "</style>\n",
       "<table border=\"1\" class=\"dataframe\">\n",
       "  <thead>\n",
       "    <tr style=\"text-align: right;\">\n",
       "      <th></th>\n",
       "      <th>abbr</th>\n",
       "      <th>S_NUM</th>\n",
       "      <th>CASE_ID</th>\n",
       "      <th>AGE_YRS</th>\n",
       "      <th>GEND</th>\n",
       "      <th>OCCU</th>\n",
       "      <th>NAT</th>\n",
       "      <th>COUNT_RES</th>\n",
       "      <th>S_COUNT_RES</th>\n",
       "      <th>TRAV_HIST</th>\n",
       "      <th>...</th>\n",
       "      <th>SAMP_TYPE</th>\n",
       "      <th>DT_SAM_COLL</th>\n",
       "      <th>DT_SAM_RECEP</th>\n",
       "      <th>RESULT</th>\n",
       "      <th>DT_CONF</th>\n",
       "      <th>VACC_STATUS</th>\n",
       "      <th>VACC_DOS</th>\n",
       "      <th>RTPCR_POS</th>\n",
       "      <th>AVG_Ct</th>\n",
       "      <th>DT_RUN</th>\n",
       "    </tr>\n",
       "  </thead>\n",
       "  <tbody>\n",
       "    <tr>\n",
       "      <th>30131</th>\n",
       "      <td>30129</td>\n",
       "      <td>COVM03968</td>\n",
       "      <td>NYR/5313/2022</td>\n",
       "      <td>42</td>\n",
       "      <td>M</td>\n",
       "      <td>Farmer</td>\n",
       "      <td>Kenya</td>\n",
       "      <td>Nyeri</td>\n",
       "      <td>Tetu</td>\n",
       "      <td>No</td>\n",
       "      <td>...</td>\n",
       "      <td>NP Swab</td>\n",
       "      <td>2022-07-21 00:00:00</td>\n",
       "      <td>2022-07-21 00:00:00</td>\n",
       "      <td>NaN</td>\n",
       "      <td>2022-08-18 00:00:00</td>\n",
       "      <td>No</td>\n",
       "      <td>NaN</td>\n",
       "      <td>A01</td>\n",
       "      <td>NaN</td>\n",
       "      <td>2022-08-18 14:54:03</td>\n",
       "    </tr>\n",
       "    <tr>\n",
       "      <th>30132</th>\n",
       "      <td>30130</td>\n",
       "      <td>COVM03969</td>\n",
       "      <td>NYA/3254/2022</td>\n",
       "      <td>70</td>\n",
       "      <td>F</td>\n",
       "      <td>Farmer</td>\n",
       "      <td>Kenya</td>\n",
       "      <td>Nyandarua</td>\n",
       "      <td>Oljororok</td>\n",
       "      <td>No</td>\n",
       "      <td>...</td>\n",
       "      <td>NP Swab</td>\n",
       "      <td>2022-07-13 00:00:00</td>\n",
       "      <td>2022-07-29 00:00:00</td>\n",
       "      <td>NaN</td>\n",
       "      <td>2022-08-18 00:00:00</td>\n",
       "      <td>Yes</td>\n",
       "      <td>C</td>\n",
       "      <td>A02</td>\n",
       "      <td>NaN</td>\n",
       "      <td>2022-08-18 14:54:03</td>\n",
       "    </tr>\n",
       "  </tbody>\n",
       "</table>\n",
       "<p>2 rows × 23 columns</p>\n",
       "</div>"
      ],
      "text/plain": [
       "        abbr      S_NUM        CASE_ID AGE_YRS GEND    OCCU    NAT  COUNT_RES  \\\n",
       "30131  30129  COVM03968  NYR/5313/2022      42    M  Farmer  Kenya      Nyeri   \n",
       "30132  30130  COVM03969  NYA/3254/2022      70    F  Farmer  Kenya  Nyandarua   \n",
       "\n",
       "      S_COUNT_RES TRAV_HIST  ... SAMP_TYPE          DT_SAM_COLL  \\\n",
       "30131        Tetu        No  ...   NP Swab  2022-07-21 00:00:00   \n",
       "30132   Oljororok        No  ...   NP Swab  2022-07-13 00:00:00   \n",
       "\n",
       "              DT_SAM_RECEP RESULT              DT_CONF VACC_STATUS VACC_DOS  \\\n",
       "30131  2022-07-21 00:00:00    NaN  2022-08-18 00:00:00          No      NaN   \n",
       "30132  2022-07-29 00:00:00    NaN  2022-08-18 00:00:00         Yes        C   \n",
       "\n",
       "      RTPCR_POS AVG_Ct               DT_RUN  \n",
       "30131       A01    NaN  2022-08-18 14:54:03  \n",
       "30132       A02    NaN  2022-08-18 14:54:03  \n",
       "\n",
       "[2 rows x 23 columns]"
      ]
     },
     "execution_count": 17,
     "metadata": {},
     "output_type": "execute_result"
    }
   ],
   "source": [
    "sub_fnl.head(2)#.DT_SAM_COLL.astype('datetime64[ns]')"
   ]
  },
  {
   "cell_type": "code",
   "execution_count": 18,
   "id": "0b36978c-2ee9-43e3-a7cb-57e0dacf1bd6",
   "metadata": {
    "tags": []
   },
   "outputs": [
    {
     "name": "stdout",
     "output_type": "stream",
     "text": [
      "Local: -44 days +00:00:00\n",
      "Mauritius: -122 days +06:36:58.378378378\n"
     ]
    }
   ],
   "source": [
    "latest_seq = sub_fnl\n",
    "dt_delta = sub_fnl[~sub_fnl.CASE_ID.str.contains('MUS/')].DT_SAM_COLL.astype('datetime64[ns]') - pd.Timestamp('2022-08-31')\n",
    "dt_delta1 = sub_fnl[sub_fnl.CASE_ID.str.contains('MUS/')].DT_SAM_COLL.astype('datetime64[ns]') - pd.Timestamp('2022-08-31')\n",
    "# dt_delta2 = sub_fnl[msk2].DT_SAM_COLL.astype('datetime64[ns]') - pd.Timestamp('2022-06-02')\n",
    "# dt_delta3 = sub_fnl[msk3].DT_SAM_COLL.astype('datetime64[ns]') - pd.Timestamp('2022-06-02')\n",
    "print(f'Local: {dt_delta.mean()}')\n",
    "print(f'Mauritius: {dt_delta1.mean()}')\n",
    "# print(f'Uganda: {dt_delta2.mean()}')\n",
    "# print(f'Angola: {dt_delta3.mean()}')"
   ]
  },
  {
   "cell_type": "code",
   "execution_count": null,
   "id": "0dd8c356-f39a-4ea5-abb8-e97ffce5cca9",
   "metadata": {},
   "outputs": [],
   "source": []
  }
 ],
 "metadata": {
  "kernelspec": {
   "display_name": "Python 3",
   "language": "python",
   "name": "python3"
  },
  "language_info": {
   "codemirror_mode": {
    "name": "ipython",
    "version": 3
   },
   "file_extension": ".py",
   "mimetype": "text/x-python",
   "name": "python",
   "nbconvert_exporter": "python",
   "pygments_lexer": "ipython3",
   "version": "3.10.5"
  }
 },
 "nbformat": 4,
 "nbformat_minor": 5
}
