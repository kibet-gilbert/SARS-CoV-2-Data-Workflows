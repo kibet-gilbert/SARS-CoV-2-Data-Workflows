{
 "cells": [
  {
   "cell_type": "code",
   "execution_count": 5,
   "id": "64d5fec1-3900-4625-821c-0b0ddc152c37",
   "metadata": {},
   "outputs": [],
   "source": [
    "import pandas as pd\n",
    "import numpy as np\n",
    "import os, sys, regex"
   ]
  },
  {
   "cell_type": "code",
   "execution_count": 6,
   "id": "5b2bb802-d250-44ce-a9a9-6b3ae81dbfc8",
   "metadata": {},
   "outputs": [],
   "source": [
    "dala = os.getenv('HOME')"
   ]
  },
  {
   "cell_type": "code",
   "execution_count": 7,
   "id": "14ed0a11-8ed7-49eb-9461-1c68b9f121e3",
   "metadata": {},
   "outputs": [],
   "source": [
    "base_dir = f'{dala}/Documents/RunSheets/AllRunSheets'"
   ]
  },
  {
   "cell_type": "code",
   "execution_count": 8,
   "id": "e78bf069-8d85-49c0-929c-c47bf2f3de73",
   "metadata": {},
   "outputs": [],
   "source": [
    "cols1 = ['Sample_Name', 'Reporter', 'CT', 'Ct_Mean']\n",
    "\n",
    "data = pd.DataFrame(columns=cols1)\n",
    "data_list = []\n",
    "for file in os.listdir(base_dir):\n",
    "    if file.endswith('.xls'):\n",
    "        data_list.append(file)\n",
    "    pass\n",
    "sheets = sorted(data_list)"
   ]
  },
  {
   "cell_type": "code",
   "execution_count": 9,
   "id": "eac2c5b2-9373-473f-a531-bfd6db8dd5dc",
   "metadata": {},
   "outputs": [
    {
     "data": {
      "text/plain": [
       "476"
      ]
     },
     "execution_count": 9,
     "metadata": {},
     "output_type": "execute_result"
    }
   ],
   "source": [
    "len(np.unique(np.array(sheets)))"
   ]
  },
  {
   "cell_type": "code",
   "execution_count": 10,
   "id": "31da7974-189f-47a7-a0aa-212e8ec93b54",
   "metadata": {},
   "outputs": [],
   "source": [
    "cols2 = ['Sample Name', 'Reporter', 'CT', 'Ct Mean', 'Cт', 'Cт Mean']\n",
    "\n",
    "counts = 0\n",
    "\n",
    "for sheet in sheets:\n",
    "    df = pd.read_excel(f'{base_dir}/{sheet}')\n",
    "    count2 = 0\n",
    "#     print(sheet)\n",
    "    for row in df.itertuples():\n",
    "        count2 += 1\n",
    "        if row[1] == 'Well':\n",
    "            df = pd.read_excel(f'{base_dir}/{sheet}', 'Results', header=count2)\n",
    "            cols3 = list(set(df.columns) & set(cols2))\n",
    "#             print(cols3)\n",
    "#             print(list(df.columns))\n",
    "            df2 = df[sorted(cols3)]\n",
    "            df2.columns = sorted(cols1)\n",
    "            data = data.append(df2, ignore_index=True)\n",
    "            counts += 1\n",
    "            break\n",
    "        else: pass"
   ]
  },
  {
   "cell_type": "code",
   "execution_count": 11,
   "id": "70d0504a-4ccf-4db2-adc9-2de3cd5b9b9f",
   "metadata": {},
   "outputs": [
    {
     "name": "stdout",
     "output_type": "stream",
     "text": [
      "number of sheets in folder: 476\n",
      "data rows: 96338\n",
      "sheets processed: 476\n"
     ]
    }
   ],
   "source": [
    "print(f'number of sheets in folder: {len(sheets)}')\n",
    "print(f'data rows: {data.shape[0]}')\n",
    "print(f'sheets processed: {counts}')"
   ]
  },
  {
   "cell_type": "code",
   "execution_count": 12,
   "id": "9e935690-e9c7-4212-9f42-26dd8636b9d0",
   "metadata": {},
   "outputs": [
    {
     "data": {
      "text/html": [
       "<div>\n",
       "<style scoped>\n",
       "    .dataframe tbody tr th:only-of-type {\n",
       "        vertical-align: middle;\n",
       "    }\n",
       "\n",
       "    .dataframe tbody tr th {\n",
       "        vertical-align: top;\n",
       "    }\n",
       "\n",
       "    .dataframe thead th {\n",
       "        text-align: right;\n",
       "    }\n",
       "</style>\n",
       "<table border=\"1\" class=\"dataframe\">\n",
       "  <thead>\n",
       "    <tr style=\"text-align: right;\">\n",
       "      <th></th>\n",
       "      <th>Sample_Name</th>\n",
       "      <th>Reporter</th>\n",
       "      <th>CT</th>\n",
       "      <th>Ct_Mean</th>\n",
       "    </tr>\n",
       "  </thead>\n",
       "  <tbody>\n",
       "    <tr>\n",
       "      <th>0</th>\n",
       "      <td>COVC 13541</td>\n",
       "      <td>FAM</td>\n",
       "      <td>Undetermined</td>\n",
       "      <td>NaN</td>\n",
       "    </tr>\n",
       "    <tr>\n",
       "      <th>1</th>\n",
       "      <td>COVC 13541</td>\n",
       "      <td>VIC</td>\n",
       "      <td>Undetermined</td>\n",
       "      <td>NaN</td>\n",
       "    </tr>\n",
       "    <tr>\n",
       "      <th>2</th>\n",
       "      <td>COVC 13541</td>\n",
       "      <td>CY5</td>\n",
       "      <td>21.914249</td>\n",
       "      <td>21.914249</td>\n",
       "    </tr>\n",
       "    <tr>\n",
       "      <th>3</th>\n",
       "      <td>COVC 13542</td>\n",
       "      <td>FAM</td>\n",
       "      <td>Undetermined</td>\n",
       "      <td>NaN</td>\n",
       "    </tr>\n",
       "    <tr>\n",
       "      <th>4</th>\n",
       "      <td>COVC 13542</td>\n",
       "      <td>VIC</td>\n",
       "      <td>Undetermined</td>\n",
       "      <td>NaN</td>\n",
       "    </tr>\n",
       "    <tr>\n",
       "      <th>5</th>\n",
       "      <td>COVC 13542</td>\n",
       "      <td>CY5</td>\n",
       "      <td>24.626238</td>\n",
       "      <td>24.626238</td>\n",
       "    </tr>\n",
       "    <tr>\n",
       "      <th>6</th>\n",
       "      <td>COVC 13543</td>\n",
       "      <td>FAM</td>\n",
       "      <td>Undetermined</td>\n",
       "      <td>NaN</td>\n",
       "    </tr>\n",
       "    <tr>\n",
       "      <th>7</th>\n",
       "      <td>COVC 13543</td>\n",
       "      <td>VIC</td>\n",
       "      <td>Undetermined</td>\n",
       "      <td>NaN</td>\n",
       "    </tr>\n",
       "    <tr>\n",
       "      <th>8</th>\n",
       "      <td>COVC 13543</td>\n",
       "      <td>CY5</td>\n",
       "      <td>21.624031</td>\n",
       "      <td>21.624031</td>\n",
       "    </tr>\n",
       "    <tr>\n",
       "      <th>9</th>\n",
       "      <td>COVC 13544</td>\n",
       "      <td>FAM</td>\n",
       "      <td>Undetermined</td>\n",
       "      <td>NaN</td>\n",
       "    </tr>\n",
       "    <tr>\n",
       "      <th>10</th>\n",
       "      <td>COVC 13544</td>\n",
       "      <td>VIC</td>\n",
       "      <td>Undetermined</td>\n",
       "      <td>NaN</td>\n",
       "    </tr>\n",
       "    <tr>\n",
       "      <th>11</th>\n",
       "      <td>COVC 13544</td>\n",
       "      <td>CY5</td>\n",
       "      <td>23.537121</td>\n",
       "      <td>23.537121</td>\n",
       "    </tr>\n",
       "    <tr>\n",
       "      <th>12</th>\n",
       "      <td>COVC 13545</td>\n",
       "      <td>FAM</td>\n",
       "      <td>Undetermined</td>\n",
       "      <td>NaN</td>\n",
       "    </tr>\n",
       "    <tr>\n",
       "      <th>13</th>\n",
       "      <td>COVC 13545</td>\n",
       "      <td>VIC</td>\n",
       "      <td>Undetermined</td>\n",
       "      <td>NaN</td>\n",
       "    </tr>\n",
       "    <tr>\n",
       "      <th>14</th>\n",
       "      <td>COVC 13545</td>\n",
       "      <td>CY5</td>\n",
       "      <td>24.225031</td>\n",
       "      <td>24.225031</td>\n",
       "    </tr>\n",
       "  </tbody>\n",
       "</table>\n",
       "</div>"
      ],
      "text/plain": [
       "   Sample_Name Reporter            CT    Ct_Mean\n",
       "0   COVC 13541      FAM  Undetermined        NaN\n",
       "1   COVC 13541      VIC  Undetermined        NaN\n",
       "2   COVC 13541      CY5     21.914249  21.914249\n",
       "3   COVC 13542      FAM  Undetermined        NaN\n",
       "4   COVC 13542      VIC  Undetermined        NaN\n",
       "5   COVC 13542      CY5     24.626238  24.626238\n",
       "6   COVC 13543      FAM  Undetermined        NaN\n",
       "7   COVC 13543      VIC  Undetermined        NaN\n",
       "8   COVC 13543      CY5     21.624031  21.624031\n",
       "9   COVC 13544      FAM  Undetermined        NaN\n",
       "10  COVC 13544      VIC  Undetermined        NaN\n",
       "11  COVC 13544      CY5     23.537121  23.537121\n",
       "12  COVC 13545      FAM  Undetermined        NaN\n",
       "13  COVC 13545      VIC  Undetermined        NaN\n",
       "14  COVC 13545      CY5     24.225031  24.225031"
      ]
     },
     "execution_count": 12,
     "metadata": {},
     "output_type": "execute_result"
    }
   ],
   "source": [
    "data.head(15)"
   ]
  },
  {
   "cell_type": "code",
   "execution_count": 13,
   "id": "08cb04a6-bf7e-4465-8c57-d6668b8ccd69",
   "metadata": {},
   "outputs": [],
   "source": [
    "data2 = data[data['CT'] != 'Undetermined']"
   ]
  },
  {
   "cell_type": "code",
   "execution_count": 14,
   "id": "74fa4ea7-fd9d-45ab-88be-928870b84086",
   "metadata": {},
   "outputs": [],
   "source": [
    "data3 = data2[data2['Reporter'].isin(['FAM', 'VIC', 'ABY']) == True]"
   ]
  },
  {
   "cell_type": "code",
   "execution_count": 15,
   "id": "663abdde-882d-40fb-9959-ab58205bdcfe",
   "metadata": {},
   "outputs": [],
   "source": [
    "data1 = data3[data3['Sample_Name'].isin(['PC', 'NC']) != True]"
   ]
  },
  {
   "cell_type": "code",
   "execution_count": 16,
   "id": "eb75d9f5-4cdd-486c-adef-0907591a568a",
   "metadata": {},
   "outputs": [],
   "source": [
    "data4 = data1[data1.duplicated('Sample_Name', False) == True]"
   ]
  },
  {
   "cell_type": "code",
   "execution_count": 17,
   "id": "6fc8c36d-bc09-4596-be96-63245e6b57fa",
   "metadata": {},
   "outputs": [
    {
     "data": {
      "text/html": [
       "<div>\n",
       "<style scoped>\n",
       "    .dataframe tbody tr th:only-of-type {\n",
       "        vertical-align: middle;\n",
       "    }\n",
       "\n",
       "    .dataframe tbody tr th {\n",
       "        vertical-align: top;\n",
       "    }\n",
       "\n",
       "    .dataframe thead th {\n",
       "        text-align: right;\n",
       "    }\n",
       "</style>\n",
       "<table border=\"1\" class=\"dataframe\">\n",
       "  <thead>\n",
       "    <tr style=\"text-align: right;\">\n",
       "      <th></th>\n",
       "      <th>Sample_Name</th>\n",
       "      <th>Reporter</th>\n",
       "      <th>CT</th>\n",
       "      <th>Ct_Mean</th>\n",
       "    </tr>\n",
       "  </thead>\n",
       "  <tbody>\n",
       "    <tr>\n",
       "      <th>126</th>\n",
       "      <td>COVC 13583</td>\n",
       "      <td>FAM</td>\n",
       "      <td>37.328472</td>\n",
       "      <td>37.328472</td>\n",
       "    </tr>\n",
       "    <tr>\n",
       "      <th>127</th>\n",
       "      <td>COVC 13583</td>\n",
       "      <td>VIC</td>\n",
       "      <td>42.683975</td>\n",
       "      <td>42.683975</td>\n",
       "    </tr>\n",
       "    <tr>\n",
       "      <th>135</th>\n",
       "      <td>COVC 13586</td>\n",
       "      <td>FAM</td>\n",
       "      <td>35.068436</td>\n",
       "      <td>35.068436</td>\n",
       "    </tr>\n",
       "    <tr>\n",
       "      <th>136</th>\n",
       "      <td>COVC 13586</td>\n",
       "      <td>VIC</td>\n",
       "      <td>39.385445</td>\n",
       "      <td>39.385445</td>\n",
       "    </tr>\n",
       "    <tr>\n",
       "      <th>186</th>\n",
       "      <td>COVC 13603</td>\n",
       "      <td>FAM</td>\n",
       "      <td>27.376181</td>\n",
       "      <td>27.376181</td>\n",
       "    </tr>\n",
       "    <tr>\n",
       "      <th>187</th>\n",
       "      <td>COVC 13603</td>\n",
       "      <td>VIC</td>\n",
       "      <td>31.060112</td>\n",
       "      <td>31.060112</td>\n",
       "    </tr>\n",
       "    <tr>\n",
       "      <th>219</th>\n",
       "      <td>COVC 13614</td>\n",
       "      <td>FAM</td>\n",
       "      <td>36.698231</td>\n",
       "      <td>36.698231</td>\n",
       "    </tr>\n",
       "    <tr>\n",
       "      <th>231</th>\n",
       "      <td>COVC 13618</td>\n",
       "      <td>FAM</td>\n",
       "      <td>32.132778</td>\n",
       "      <td>32.132778</td>\n",
       "    </tr>\n",
       "    <tr>\n",
       "      <th>232</th>\n",
       "      <td>COVC 13618</td>\n",
       "      <td>VIC</td>\n",
       "      <td>36.225323</td>\n",
       "      <td>36.225323</td>\n",
       "    </tr>\n",
       "    <tr>\n",
       "      <th>261</th>\n",
       "      <td>COVC 13628</td>\n",
       "      <td>FAM</td>\n",
       "      <td>33.411869</td>\n",
       "      <td>33.411869</td>\n",
       "    </tr>\n",
       "  </tbody>\n",
       "</table>\n",
       "</div>"
      ],
      "text/plain": [
       "    Sample_Name Reporter         CT    Ct_Mean\n",
       "126  COVC 13583      FAM  37.328472  37.328472\n",
       "127  COVC 13583      VIC  42.683975  42.683975\n",
       "135  COVC 13586      FAM  35.068436  35.068436\n",
       "136  COVC 13586      VIC  39.385445  39.385445\n",
       "186  COVC 13603      FAM  27.376181  27.376181\n",
       "187  COVC 13603      VIC  31.060112  31.060112\n",
       "219  COVC 13614      FAM  36.698231  36.698231\n",
       "231  COVC 13618      FAM  32.132778  32.132778\n",
       "232  COVC 13618      VIC  36.225323  36.225323\n",
       "261  COVC 13628      FAM  33.411869  33.411869"
      ]
     },
     "execution_count": 17,
     "metadata": {},
     "output_type": "execute_result"
    }
   ],
   "source": [
    "data4.head(10)"
   ]
  },
  {
   "cell_type": "code",
   "execution_count": 18,
   "id": "bfe233ea-2ba9-4524-9692-f525858f13d8",
   "metadata": {},
   "outputs": [],
   "source": [
    "def cov_rename(x):\n",
    "    try:\n",
    "        if 'COV' not in x and '-R' in x:\n",
    "            x = x.replace('-R', '')\n",
    "        if 'COV' in x and 'COVC' not in x:\n",
    "            x = x.replace('COV', 'COVC')\n",
    "        int(x)\n",
    "        x = str(x).replace(str(x), f'COVC{str(x)}')\n",
    "    except (ValueError, AttributeError, TypeError): x = str(x).replace(' ', '')\n",
    "    return x"
   ]
  },
  {
   "cell_type": "code",
   "execution_count": 19,
   "id": "42a22c2a-c08d-4c71-a8ed-a09736317a0c",
   "metadata": {},
   "outputs": [
    {
     "data": {
      "text/plain": [
       "<module 'regex' from '/home/douso/.local/lib/python3.8/site-packages/regex/__init__.py'>"
      ]
     },
     "execution_count": 19,
     "metadata": {},
     "output_type": "execute_result"
    }
   ],
   "source": [
    "regex"
   ]
  },
  {
   "cell_type": "code",
   "execution_count": 20,
   "id": "f5509031-0758-4a71-9129-0f1c2375142b",
   "metadata": {},
   "outputs": [],
   "source": [
    "def cov_names(x):\n",
    "    x = str(x).upper().strip()\n",
    "    if len(x) == 8:\n",
    "        x = x.replace('COVC', 'COVC0')\n",
    "    elif len(x) == 7:\n",
    "        x = x.replace('COVC', 'COVC00')\n",
    "    elif len(x) == 6:\n",
    "        x = x.replace('COVC', 'COVC000')\n",
    "    elif len(x) == 5:\n",
    "        x = x.replace('COVC', 'COVC0000')\n",
    "    return x"
   ]
  },
  {
   "cell_type": "code",
   "execution_count": 21,
   "id": "d8f774da-9e20-4cbc-be4c-fa1b0176aa23",
   "metadata": {},
   "outputs": [
    {
     "data": {
      "text/plain": [
       "array(['FAM', 'VIC', 'ABY'], dtype=object)"
      ]
     },
     "execution_count": 21,
     "metadata": {},
     "output_type": "execute_result"
    }
   ],
   "source": [
    "data4['Reporter'].unique()"
   ]
  },
  {
   "cell_type": "code",
   "execution_count": 22,
   "id": "3f00d350-ff5f-4197-b999-cc276d284bcd",
   "metadata": {},
   "outputs": [],
   "source": [
    "data5 = data4.assign(Sample_Name=data4['Sample_Name'].apply(lambda x: cov_names(cov_rename(x))))"
   ]
  },
  {
   "cell_type": "code",
   "execution_count": 23,
   "id": "363f8046-8659-41ab-ac65-2e875bfcdfb9",
   "metadata": {},
   "outputs": [
    {
     "data": {
      "text/html": [
       "<div>\n",
       "<style scoped>\n",
       "    .dataframe tbody tr th:only-of-type {\n",
       "        vertical-align: middle;\n",
       "    }\n",
       "\n",
       "    .dataframe tbody tr th {\n",
       "        vertical-align: top;\n",
       "    }\n",
       "\n",
       "    .dataframe thead th {\n",
       "        text-align: right;\n",
       "    }\n",
       "</style>\n",
       "<table border=\"1\" class=\"dataframe\">\n",
       "  <thead>\n",
       "    <tr style=\"text-align: right;\">\n",
       "      <th></th>\n",
       "      <th>Sample_Name</th>\n",
       "      <th>Reporter</th>\n",
       "      <th>CT</th>\n",
       "      <th>Ct_Mean</th>\n",
       "    </tr>\n",
       "  </thead>\n",
       "  <tbody>\n",
       "    <tr>\n",
       "      <th>126</th>\n",
       "      <td>COVC13583</td>\n",
       "      <td>FAM</td>\n",
       "      <td>37.328472</td>\n",
       "      <td>37.328472</td>\n",
       "    </tr>\n",
       "    <tr>\n",
       "      <th>127</th>\n",
       "      <td>COVC13583</td>\n",
       "      <td>VIC</td>\n",
       "      <td>42.683975</td>\n",
       "      <td>42.683975</td>\n",
       "    </tr>\n",
       "    <tr>\n",
       "      <th>135</th>\n",
       "      <td>COVC13586</td>\n",
       "      <td>FAM</td>\n",
       "      <td>35.068436</td>\n",
       "      <td>35.068436</td>\n",
       "    </tr>\n",
       "    <tr>\n",
       "      <th>136</th>\n",
       "      <td>COVC13586</td>\n",
       "      <td>VIC</td>\n",
       "      <td>39.385445</td>\n",
       "      <td>39.385445</td>\n",
       "    </tr>\n",
       "    <tr>\n",
       "      <th>186</th>\n",
       "      <td>COVC13603</td>\n",
       "      <td>FAM</td>\n",
       "      <td>27.376181</td>\n",
       "      <td>27.376181</td>\n",
       "    </tr>\n",
       "  </tbody>\n",
       "</table>\n",
       "</div>"
      ],
      "text/plain": [
       "    Sample_Name Reporter         CT    Ct_Mean\n",
       "126   COVC13583      FAM  37.328472  37.328472\n",
       "127   COVC13583      VIC  42.683975  42.683975\n",
       "135   COVC13586      FAM  35.068436  35.068436\n",
       "136   COVC13586      VIC  39.385445  39.385445\n",
       "186   COVC13603      FAM  27.376181  27.376181"
      ]
     },
     "execution_count": 23,
     "metadata": {},
     "output_type": "execute_result"
    }
   ],
   "source": [
    "data5.head()"
   ]
  },
  {
   "cell_type": "code",
   "execution_count": 24,
   "id": "f58d87d9-e4bc-40eb-a9fb-497e27e8eb32",
   "metadata": {},
   "outputs": [],
   "source": [
    "data6 = data5.sort_values(['Sample_Name', 'Reporter']).groupby('Sample_Name').mean()"
   ]
  },
  {
   "cell_type": "code",
   "execution_count": 25,
   "id": "819d726e-3c39-40a7-8784-12d6ca3d2f8d",
   "metadata": {},
   "outputs": [
    {
     "data": {
      "text/html": [
       "<div>\n",
       "<style scoped>\n",
       "    .dataframe tbody tr th:only-of-type {\n",
       "        vertical-align: middle;\n",
       "    }\n",
       "\n",
       "    .dataframe tbody tr th {\n",
       "        vertical-align: top;\n",
       "    }\n",
       "\n",
       "    .dataframe thead th {\n",
       "        text-align: right;\n",
       "    }\n",
       "</style>\n",
       "<table border=\"1\" class=\"dataframe\">\n",
       "  <thead>\n",
       "    <tr style=\"text-align: right;\">\n",
       "      <th></th>\n",
       "      <th>Ct_Mean</th>\n",
       "    </tr>\n",
       "    <tr>\n",
       "      <th>Sample_Name</th>\n",
       "      <th></th>\n",
       "    </tr>\n",
       "  </thead>\n",
       "  <tbody>\n",
       "    <tr>\n",
       "      <th>A1</th>\n",
       "      <td>33.064911</td>\n",
       "    </tr>\n",
       "    <tr>\n",
       "      <th>BLANKEXTRACTION</th>\n",
       "      <td>32.781662</td>\n",
       "    </tr>\n",
       "    <tr>\n",
       "      <th>C3</th>\n",
       "      <td>33.114729</td>\n",
       "    </tr>\n",
       "    <tr>\n",
       "      <th>COVC00137</th>\n",
       "      <td>37.646282</td>\n",
       "    </tr>\n",
       "    <tr>\n",
       "      <th>COVC00154</th>\n",
       "      <td>35.240269</td>\n",
       "    </tr>\n",
       "    <tr>\n",
       "      <th>...</th>\n",
       "      <td>...</td>\n",
       "    </tr>\n",
       "    <tr>\n",
       "      <th>SEWAGE2_KARBANGI</th>\n",
       "      <td>37.252859</td>\n",
       "    </tr>\n",
       "    <tr>\n",
       "      <th>STD1_2X10^4</th>\n",
       "      <td>25.153202</td>\n",
       "    </tr>\n",
       "    <tr>\n",
       "      <th>STD3_2X10^2</th>\n",
       "      <td>30.812906</td>\n",
       "    </tr>\n",
       "    <tr>\n",
       "      <th>STD4_2X10^1</th>\n",
       "      <td>34.204351</td>\n",
       "    </tr>\n",
       "    <tr>\n",
       "      <th>STD5_2X10^0</th>\n",
       "      <td>36.977416</td>\n",
       "    </tr>\n",
       "  </tbody>\n",
       "</table>\n",
       "<p>4519 rows × 1 columns</p>\n",
       "</div>"
      ],
      "text/plain": [
       "                    Ct_Mean\n",
       "Sample_Name                \n",
       "A1                33.064911\n",
       "BLANKEXTRACTION   32.781662\n",
       "C3                33.114729\n",
       "COVC00137         37.646282\n",
       "COVC00154         35.240269\n",
       "...                     ...\n",
       "SEWAGE2_KARBANGI  37.252859\n",
       "STD1_2X10^4       25.153202\n",
       "STD3_2X10^2       30.812906\n",
       "STD4_2X10^1       34.204351\n",
       "STD5_2X10^0       36.977416\n",
       "\n",
       "[4519 rows x 1 columns]"
      ]
     },
     "execution_count": 25,
     "metadata": {},
     "output_type": "execute_result"
    }
   ],
   "source": [
    "data6#.head()"
   ]
  },
  {
   "cell_type": "code",
   "execution_count": 36,
   "id": "bfb484f4-3cbb-4b80-a913-256a2e9d05ed",
   "metadata": {},
   "outputs": [],
   "source": [
    "data6.reset_index().to_excel(f'{base_dir}/cov-positiveCts.xlsx', index=False)"
   ]
  },
  {
   "cell_type": "raw",
   "id": "5a0ab79b-70d5-418e-af5d-3d3c58089cf8",
   "metadata": {},
   "source": [
    "data7 = data5.set_index('Sample_Name').assign(Ct_Mean = data6 ).reset_index()"
   ]
  },
  {
   "cell_type": "raw",
   "id": "68ada241-8a8c-416d-800b-414a0b9f5804",
   "metadata": {},
   "source": [
    "data7"
   ]
  },
  {
   "cell_type": "raw",
   "id": "d504d193-d520-4f52-b2f8-d8c6fa978f69",
   "metadata": {},
   "source": [
    "data8 = data7.sort_values('Sample_Name').drop_duplicates('Sample_Name')"
   ]
  },
  {
   "cell_type": "raw",
   "id": "9b75e86c-8fcf-4e0e-9dea-1e236faef217",
   "metadata": {},
   "source": [
    "data8[data8['Sample_Name'] == 'COVC22821']"
   ]
  },
  {
   "cell_type": "code",
   "execution_count": 27,
   "id": "625f2fec-c89f-4573-8a64-ccdc0b12dc02",
   "metadata": {},
   "outputs": [],
   "source": [
    "#data8.to_excel('cov-positivesCts.xlsx', index=False)"
   ]
  },
  {
   "cell_type": "code",
   "execution_count": 30,
   "id": "8e491aca-92ab-4e93-9dc7-c3ed3ffee5b4",
   "metadata": {},
   "outputs": [],
   "source": [
    "# biorepo = pd.read_excel('/home/douso/Documents/RunSheets/BioRepository/COVID -19 SAMPLE ARCHIVE.xlsx')"
   ]
  },
  {
   "cell_type": "code",
   "execution_count": 31,
   "id": "7331d081-6fa4-498e-aae0-176000b52bc5",
   "metadata": {},
   "outputs": [
    {
     "data": {
      "text/html": [
       "<div>\n",
       "<style scoped>\n",
       "    .dataframe tbody tr th:only-of-type {\n",
       "        vertical-align: middle;\n",
       "    }\n",
       "\n",
       "    .dataframe tbody tr th {\n",
       "        vertical-align: top;\n",
       "    }\n",
       "\n",
       "    .dataframe thead th {\n",
       "        text-align: right;\n",
       "    }\n",
       "</style>\n",
       "<table border=\"1\" class=\"dataframe\">\n",
       "  <thead>\n",
       "    <tr style=\"text-align: right;\">\n",
       "      <th></th>\n",
       "      <th>Animal ID</th>\n",
       "      <th>Sample Type</th>\n",
       "      <th>Date of sample collection</th>\n",
       "      <th>Date Frozen</th>\n",
       "      <th>Volume aliquoted</th>\n",
       "      <th>Freezer No.</th>\n",
       "      <th>ALIQUOT A Sample ID</th>\n",
       "      <th>ALIQUOT A Storage box</th>\n",
       "      <th>Position in box</th>\n",
       "      <th>ALIQUOT B Sample ID</th>\n",
       "      <th>ALIQUOT B Storage box</th>\n",
       "      <th>Position in box.1</th>\n",
       "      <th>Aliquoted by</th>\n",
       "      <th>Owner</th>\n",
       "      <th>Experiment</th>\n",
       "      <th>Project</th>\n",
       "      <th>Compiled by</th>\n",
       "      <th>Project code</th>\n",
       "      <th>Unnamed: 18</th>\n",
       "    </tr>\n",
       "  </thead>\n",
       "  <tbody>\n",
       "    <tr>\n",
       "      <th>0</th>\n",
       "      <td>Human</td>\n",
       "      <td>Respiratory in VTM</td>\n",
       "      <td>NaT</td>\n",
       "      <td>NaT</td>\n",
       "      <td>Approx 1.2ml</td>\n",
       "      <td>BSL3 Freezer</td>\n",
       "      <td>COVA00001</td>\n",
       "      <td>SARS0001</td>\n",
       "      <td>1A</td>\n",
       "      <td>COVB0001</td>\n",
       "      <td>SARS0002</td>\n",
       "      <td>1A</td>\n",
       "      <td>NaN</td>\n",
       "      <td>Samuel/Edward/MOH</td>\n",
       "      <td>SARS-CoV-2 rt RT-PCR</td>\n",
       "      <td>COVID Diagnosis</td>\n",
       "      <td>stephen</td>\n",
       "      <td>BMZ002501 - COVID</td>\n",
       "      <td>NaN</td>\n",
       "    </tr>\n",
       "    <tr>\n",
       "      <th>1</th>\n",
       "      <td>Human</td>\n",
       "      <td>Respiratory in VTM</td>\n",
       "      <td>NaT</td>\n",
       "      <td>NaT</td>\n",
       "      <td>Approx 1.2ml</td>\n",
       "      <td>BSL3 Freezer</td>\n",
       "      <td>COVA00002</td>\n",
       "      <td>SARS0001</td>\n",
       "      <td>2A</td>\n",
       "      <td>COVB0002</td>\n",
       "      <td>SARS0002</td>\n",
       "      <td>2A</td>\n",
       "      <td>NaN</td>\n",
       "      <td>Samuel/Edward/MOH</td>\n",
       "      <td>SARS-CoV-2 rt RT-PCR</td>\n",
       "      <td>COVID Diagnosis</td>\n",
       "      <td>stephen</td>\n",
       "      <td>BMZ002501 - COVID</td>\n",
       "      <td>NaN</td>\n",
       "    </tr>\n",
       "    <tr>\n",
       "      <th>2</th>\n",
       "      <td>Human</td>\n",
       "      <td>Respiratory in VTM</td>\n",
       "      <td>NaT</td>\n",
       "      <td>NaT</td>\n",
       "      <td>Approx 1.2ml</td>\n",
       "      <td>BSL3 Freezer</td>\n",
       "      <td>COVA00003</td>\n",
       "      <td>SARS0001</td>\n",
       "      <td>3A</td>\n",
       "      <td>COVB0003</td>\n",
       "      <td>SARS0002</td>\n",
       "      <td>3A</td>\n",
       "      <td>NaN</td>\n",
       "      <td>Samuel/Edward/MOH</td>\n",
       "      <td>SARS-CoV-2 rt RT-PCR</td>\n",
       "      <td>COVID Diagnosis</td>\n",
       "      <td>stephen</td>\n",
       "      <td>BMZ002501 - COVID</td>\n",
       "      <td>NaN</td>\n",
       "    </tr>\n",
       "    <tr>\n",
       "      <th>3</th>\n",
       "      <td>Human</td>\n",
       "      <td>Respiratory in VTM</td>\n",
       "      <td>NaT</td>\n",
       "      <td>NaT</td>\n",
       "      <td>Approx 1.2ml</td>\n",
       "      <td>BSL3 Freezer</td>\n",
       "      <td>COVA00004</td>\n",
       "      <td>SARS0001</td>\n",
       "      <td>4A</td>\n",
       "      <td>COVB0004</td>\n",
       "      <td>SARS0002</td>\n",
       "      <td>4A</td>\n",
       "      <td>NaN</td>\n",
       "      <td>Samuel/Edward/MOH</td>\n",
       "      <td>SARS-CoV-2 rt RT-PCR</td>\n",
       "      <td>COVID Diagnosis</td>\n",
       "      <td>stephen</td>\n",
       "      <td>BMZ002501 - COVID</td>\n",
       "      <td>NaN</td>\n",
       "    </tr>\n",
       "    <tr>\n",
       "      <th>4</th>\n",
       "      <td>Human</td>\n",
       "      <td>Respiratory in VTM</td>\n",
       "      <td>NaT</td>\n",
       "      <td>NaT</td>\n",
       "      <td>Approx 1.2ml</td>\n",
       "      <td>BSL3 Freezer</td>\n",
       "      <td>COVA00005</td>\n",
       "      <td>SARS0001</td>\n",
       "      <td>5A</td>\n",
       "      <td>COVB0005</td>\n",
       "      <td>SARS0002</td>\n",
       "      <td>5A</td>\n",
       "      <td>NaN</td>\n",
       "      <td>Samuel/Edward/MOH</td>\n",
       "      <td>SARS-CoV-2 rt RT-PCR</td>\n",
       "      <td>COVID Diagnosis</td>\n",
       "      <td>stephen</td>\n",
       "      <td>BMZ002501 - COVID</td>\n",
       "      <td>NaN</td>\n",
       "    </tr>\n",
       "  </tbody>\n",
       "</table>\n",
       "</div>"
      ],
      "text/plain": [
       "  Animal ID         Sample Type Date of sample collection Date Frozen  \\\n",
       "0     Human  Respiratory in VTM                       NaT         NaT   \n",
       "1     Human  Respiratory in VTM                       NaT         NaT   \n",
       "2     Human  Respiratory in VTM                       NaT         NaT   \n",
       "3     Human  Respiratory in VTM                       NaT         NaT   \n",
       "4     Human  Respiratory in VTM                       NaT         NaT   \n",
       "\n",
       "  Volume aliquoted   Freezer No. ALIQUOT A Sample ID ALIQUOT A Storage box  \\\n",
       "0     Approx 1.2ml  BSL3 Freezer           COVA00001              SARS0001   \n",
       "1     Approx 1.2ml  BSL3 Freezer           COVA00002              SARS0001   \n",
       "2     Approx 1.2ml  BSL3 Freezer           COVA00003              SARS0001   \n",
       "3     Approx 1.2ml  BSL3 Freezer           COVA00004              SARS0001   \n",
       "4     Approx 1.2ml  BSL3 Freezer           COVA00005              SARS0001   \n",
       "\n",
       "  Position in box ALIQUOT B Sample ID ALIQUOT B Storage box Position in box.1  \\\n",
       "0              1A            COVB0001              SARS0002                1A   \n",
       "1              2A            COVB0002              SARS0002                2A   \n",
       "2              3A            COVB0003              SARS0002                3A   \n",
       "3              4A            COVB0004              SARS0002                4A   \n",
       "4              5A            COVB0005              SARS0002                5A   \n",
       "\n",
       "  Aliquoted by              Owner            Experiment          Project  \\\n",
       "0          NaN  Samuel/Edward/MOH  SARS-CoV-2 rt RT-PCR  COVID Diagnosis   \n",
       "1          NaN  Samuel/Edward/MOH  SARS-CoV-2 rt RT-PCR  COVID Diagnosis   \n",
       "2          NaN  Samuel/Edward/MOH  SARS-CoV-2 rt RT-PCR  COVID Diagnosis   \n",
       "3          NaN  Samuel/Edward/MOH  SARS-CoV-2 rt RT-PCR  COVID Diagnosis   \n",
       "4          NaN  Samuel/Edward/MOH  SARS-CoV-2 rt RT-PCR  COVID Diagnosis   \n",
       "\n",
       "  Compiled by       Project code Unnamed: 18  \n",
       "0     stephen  BMZ002501 - COVID         NaN  \n",
       "1     stephen  BMZ002501 - COVID         NaN  \n",
       "2     stephen  BMZ002501 - COVID         NaN  \n",
       "3     stephen  BMZ002501 - COVID         NaN  \n",
       "4     stephen  BMZ002501 - COVID         NaN  "
      ]
     },
     "execution_count": 31,
     "metadata": {},
     "output_type": "execute_result"
    }
   ],
   "source": [
    "# biorepo.head()"
   ]
  },
  {
   "cell_type": "code",
   "execution_count": 32,
   "id": "b62c794c-959b-40e8-81eb-13469a595f54",
   "metadata": {},
   "outputs": [],
   "source": [
    "cols = ['ALIQUOT A Sample ID', 'ALIQUOT A Storage box', 'Position in box',\n",
    "       'ALIQUOT B Sample ID', 'ALIQUOT B Storage box', 'Position in box.1']"
   ]
  },
  {
   "cell_type": "code",
   "execution_count": 33,
   "id": "8f895675-b33b-4a0f-9a75-bffa2b605826",
   "metadata": {},
   "outputs": [],
   "source": [
    "biorepo_loc = biorepo[cols]"
   ]
  },
  {
   "cell_type": "code",
   "execution_count": 34,
   "id": "f038115e-690b-4cb9-a488-810c845bde09",
   "metadata": {},
   "outputs": [
    {
     "data": {
      "text/html": [
       "<div>\n",
       "<style scoped>\n",
       "    .dataframe tbody tr th:only-of-type {\n",
       "        vertical-align: middle;\n",
       "    }\n",
       "\n",
       "    .dataframe tbody tr th {\n",
       "        vertical-align: top;\n",
       "    }\n",
       "\n",
       "    .dataframe thead th {\n",
       "        text-align: right;\n",
       "    }\n",
       "</style>\n",
       "<table border=\"1\" class=\"dataframe\">\n",
       "  <thead>\n",
       "    <tr style=\"text-align: right;\">\n",
       "      <th></th>\n",
       "      <th>ALIQUOT A Sample ID</th>\n",
       "      <th>ALIQUOT A Storage box</th>\n",
       "      <th>Position in box</th>\n",
       "      <th>ALIQUOT B Sample ID</th>\n",
       "      <th>ALIQUOT B Storage box</th>\n",
       "      <th>Position in box.1</th>\n",
       "    </tr>\n",
       "  </thead>\n",
       "  <tbody>\n",
       "    <tr>\n",
       "      <th>0</th>\n",
       "      <td>COVA00001</td>\n",
       "      <td>SARS0001</td>\n",
       "      <td>1A</td>\n",
       "      <td>COVB0001</td>\n",
       "      <td>SARS0002</td>\n",
       "      <td>1A</td>\n",
       "    </tr>\n",
       "    <tr>\n",
       "      <th>1</th>\n",
       "      <td>COVA00002</td>\n",
       "      <td>SARS0001</td>\n",
       "      <td>2A</td>\n",
       "      <td>COVB0002</td>\n",
       "      <td>SARS0002</td>\n",
       "      <td>2A</td>\n",
       "    </tr>\n",
       "    <tr>\n",
       "      <th>2</th>\n",
       "      <td>COVA00003</td>\n",
       "      <td>SARS0001</td>\n",
       "      <td>3A</td>\n",
       "      <td>COVB0003</td>\n",
       "      <td>SARS0002</td>\n",
       "      <td>3A</td>\n",
       "    </tr>\n",
       "    <tr>\n",
       "      <th>3</th>\n",
       "      <td>COVA00004</td>\n",
       "      <td>SARS0001</td>\n",
       "      <td>4A</td>\n",
       "      <td>COVB0004</td>\n",
       "      <td>SARS0002</td>\n",
       "      <td>4A</td>\n",
       "    </tr>\n",
       "    <tr>\n",
       "      <th>4</th>\n",
       "      <td>COVA00005</td>\n",
       "      <td>SARS0001</td>\n",
       "      <td>5A</td>\n",
       "      <td>COVB0005</td>\n",
       "      <td>SARS0002</td>\n",
       "      <td>5A</td>\n",
       "    </tr>\n",
       "  </tbody>\n",
       "</table>\n",
       "</div>"
      ],
      "text/plain": [
       "  ALIQUOT A Sample ID ALIQUOT A Storage box Position in box  \\\n",
       "0           COVA00001              SARS0001              1A   \n",
       "1           COVA00002              SARS0001              2A   \n",
       "2           COVA00003              SARS0001              3A   \n",
       "3           COVA00004              SARS0001              4A   \n",
       "4           COVA00005              SARS0001              5A   \n",
       "\n",
       "  ALIQUOT B Sample ID ALIQUOT B Storage box Position in box.1  \n",
       "0            COVB0001              SARS0002                1A  \n",
       "1            COVB0002              SARS0002                2A  \n",
       "2            COVB0003              SARS0002                3A  \n",
       "3            COVB0004              SARS0002                4A  \n",
       "4            COVB0005              SARS0002                5A  "
      ]
     },
     "execution_count": 34,
     "metadata": {},
     "output_type": "execute_result"
    }
   ],
   "source": [
    "biorepo_loc.head()"
   ]
  },
  {
   "cell_type": "code",
   "execution_count": 37,
   "id": "91fe7d91-8649-466c-b24e-2ef3d7f7db92",
   "metadata": {},
   "outputs": [],
   "source": [
    "cts = pd.read_excel(f'{base_dir}/cov-positiveCts-dedup.xlsx', '30AndBelowCts')"
   ]
  },
  {
   "cell_type": "code",
   "execution_count": 38,
   "id": "32c8aec4-9732-42d4-9b14-e9189da22a14",
   "metadata": {},
   "outputs": [],
   "source": [
    "df_rslt = pd.read_excel('/home/douso/Documents/TrendData/Results/ResultsMerged/COVID19-results-merged.xlsx')"
   ]
  },
  {
   "cell_type": "code",
   "execution_count": 39,
   "id": "439ab8b8-f415-44e1-ab8e-6f6c91ad6f0e",
   "metadata": {},
   "outputs": [
    {
     "data": {
      "text/plain": [
       "array(['Negative', 'Positive', nan, 'neg', 'pos', 'negative', 'positive',\n",
       "       'Neg', 'Pos', 'Inconclusive', 'MS', 'Positve', 'Positive '],\n",
       "      dtype=object)"
      ]
     },
     "execution_count": 39,
     "metadata": {},
     "output_type": "execute_result"
    }
   ],
   "source": [
    "df_rslt['RESULT'].unique()"
   ]
  },
  {
   "cell_type": "code",
   "execution_count": 40,
   "id": "fbc8a8cd-7e5d-445c-b075-36c911725131",
   "metadata": {},
   "outputs": [
    {
     "ename": "KeyError",
     "evalue": "''",
     "output_type": "error",
     "traceback": [
      "\u001b[0;31m---------------------------------------------------------------------------\u001b[0m",
      "\u001b[0;31mKeyError\u001b[0m                                  Traceback (most recent call last)",
      "\u001b[0;32m~/.local/lib/python3.8/site-packages/pandas/core/indexes/base.py\u001b[0m in \u001b[0;36mget_loc\u001b[0;34m(self, key, method, tolerance)\u001b[0m\n\u001b[1;32m   3079\u001b[0m             \u001b[0;32mtry\u001b[0m\u001b[0;34m:\u001b[0m\u001b[0;34m\u001b[0m\u001b[0;34m\u001b[0m\u001b[0m\n\u001b[0;32m-> 3080\u001b[0;31m                 \u001b[0;32mreturn\u001b[0m \u001b[0mself\u001b[0m\u001b[0;34m.\u001b[0m\u001b[0m_engine\u001b[0m\u001b[0;34m.\u001b[0m\u001b[0mget_loc\u001b[0m\u001b[0;34m(\u001b[0m\u001b[0mcasted_key\u001b[0m\u001b[0;34m)\u001b[0m\u001b[0;34m\u001b[0m\u001b[0;34m\u001b[0m\u001b[0m\n\u001b[0m\u001b[1;32m   3081\u001b[0m             \u001b[0;32mexcept\u001b[0m \u001b[0mKeyError\u001b[0m \u001b[0;32mas\u001b[0m \u001b[0merr\u001b[0m\u001b[0;34m:\u001b[0m\u001b[0;34m\u001b[0m\u001b[0;34m\u001b[0m\u001b[0m\n",
      "\u001b[0;32mpandas/_libs/index.pyx\u001b[0m in \u001b[0;36mpandas._libs.index.IndexEngine.get_loc\u001b[0;34m()\u001b[0m\n",
      "\u001b[0;32mpandas/_libs/index.pyx\u001b[0m in \u001b[0;36mpandas._libs.index.IndexEngine.get_loc\u001b[0;34m()\u001b[0m\n",
      "\u001b[0;32mpandas/_libs/hashtable_class_helper.pxi\u001b[0m in \u001b[0;36mpandas._libs.hashtable.PyObjectHashTable.get_item\u001b[0;34m()\u001b[0m\n",
      "\u001b[0;32mpandas/_libs/hashtable_class_helper.pxi\u001b[0m in \u001b[0;36mpandas._libs.hashtable.PyObjectHashTable.get_item\u001b[0;34m()\u001b[0m\n",
      "\u001b[0;31mKeyError\u001b[0m: ''",
      "\nThe above exception was the direct cause of the following exception:\n",
      "\u001b[0;31mKeyError\u001b[0m                                  Traceback (most recent call last)",
      "\u001b[0;32m<ipython-input-40-db3da5c755d3>\u001b[0m in \u001b[0;36m<module>\u001b[0;34m\u001b[0m\n\u001b[0;32m----> 1\u001b[0;31m \u001b[0mdf_rslt_pos\u001b[0m \u001b[0;34m=\u001b[0m \u001b[0mdf_rslt\u001b[0m\u001b[0;34m[\u001b[0m\u001b[0;34m''\u001b[0m\u001b[0;34m]\u001b[0m\u001b[0;34m\u001b[0m\u001b[0;34m\u001b[0m\u001b[0m\n\u001b[0m",
      "\u001b[0;32m~/.local/lib/python3.8/site-packages/pandas/core/frame.py\u001b[0m in \u001b[0;36m__getitem__\u001b[0;34m(self, key)\u001b[0m\n\u001b[1;32m   3022\u001b[0m             \u001b[0;32mif\u001b[0m \u001b[0mself\u001b[0m\u001b[0;34m.\u001b[0m\u001b[0mcolumns\u001b[0m\u001b[0;34m.\u001b[0m\u001b[0mnlevels\u001b[0m \u001b[0;34m>\u001b[0m \u001b[0;36m1\u001b[0m\u001b[0;34m:\u001b[0m\u001b[0;34m\u001b[0m\u001b[0;34m\u001b[0m\u001b[0m\n\u001b[1;32m   3023\u001b[0m                 \u001b[0;32mreturn\u001b[0m \u001b[0mself\u001b[0m\u001b[0;34m.\u001b[0m\u001b[0m_getitem_multilevel\u001b[0m\u001b[0;34m(\u001b[0m\u001b[0mkey\u001b[0m\u001b[0;34m)\u001b[0m\u001b[0;34m\u001b[0m\u001b[0;34m\u001b[0m\u001b[0m\n\u001b[0;32m-> 3024\u001b[0;31m             \u001b[0mindexer\u001b[0m \u001b[0;34m=\u001b[0m \u001b[0mself\u001b[0m\u001b[0;34m.\u001b[0m\u001b[0mcolumns\u001b[0m\u001b[0;34m.\u001b[0m\u001b[0mget_loc\u001b[0m\u001b[0;34m(\u001b[0m\u001b[0mkey\u001b[0m\u001b[0;34m)\u001b[0m\u001b[0;34m\u001b[0m\u001b[0;34m\u001b[0m\u001b[0m\n\u001b[0m\u001b[1;32m   3025\u001b[0m             \u001b[0;32mif\u001b[0m \u001b[0mis_integer\u001b[0m\u001b[0;34m(\u001b[0m\u001b[0mindexer\u001b[0m\u001b[0;34m)\u001b[0m\u001b[0;34m:\u001b[0m\u001b[0;34m\u001b[0m\u001b[0;34m\u001b[0m\u001b[0m\n\u001b[1;32m   3026\u001b[0m                 \u001b[0mindexer\u001b[0m \u001b[0;34m=\u001b[0m \u001b[0;34m[\u001b[0m\u001b[0mindexer\u001b[0m\u001b[0;34m]\u001b[0m\u001b[0;34m\u001b[0m\u001b[0;34m\u001b[0m\u001b[0m\n",
      "\u001b[0;32m~/.local/lib/python3.8/site-packages/pandas/core/indexes/base.py\u001b[0m in \u001b[0;36mget_loc\u001b[0;34m(self, key, method, tolerance)\u001b[0m\n\u001b[1;32m   3080\u001b[0m                 \u001b[0;32mreturn\u001b[0m \u001b[0mself\u001b[0m\u001b[0;34m.\u001b[0m\u001b[0m_engine\u001b[0m\u001b[0;34m.\u001b[0m\u001b[0mget_loc\u001b[0m\u001b[0;34m(\u001b[0m\u001b[0mcasted_key\u001b[0m\u001b[0;34m)\u001b[0m\u001b[0;34m\u001b[0m\u001b[0;34m\u001b[0m\u001b[0m\n\u001b[1;32m   3081\u001b[0m             \u001b[0;32mexcept\u001b[0m \u001b[0mKeyError\u001b[0m \u001b[0;32mas\u001b[0m \u001b[0merr\u001b[0m\u001b[0;34m:\u001b[0m\u001b[0;34m\u001b[0m\u001b[0;34m\u001b[0m\u001b[0m\n\u001b[0;32m-> 3082\u001b[0;31m                 \u001b[0;32mraise\u001b[0m \u001b[0mKeyError\u001b[0m\u001b[0;34m(\u001b[0m\u001b[0mkey\u001b[0m\u001b[0;34m)\u001b[0m \u001b[0;32mfrom\u001b[0m \u001b[0merr\u001b[0m\u001b[0;34m\u001b[0m\u001b[0;34m\u001b[0m\u001b[0m\n\u001b[0m\u001b[1;32m   3083\u001b[0m \u001b[0;34m\u001b[0m\u001b[0m\n\u001b[1;32m   3084\u001b[0m         \u001b[0;32mif\u001b[0m \u001b[0mtolerance\u001b[0m \u001b[0;32mis\u001b[0m \u001b[0;32mnot\u001b[0m \u001b[0;32mNone\u001b[0m\u001b[0;34m:\u001b[0m\u001b[0;34m\u001b[0m\u001b[0;34m\u001b[0m\u001b[0m\n",
      "\u001b[0;31mKeyError\u001b[0m: ''"
     ]
    }
   ],
   "source": [
    "df_rslt_pos = df_rslt['']"
   ]
  },
  {
   "cell_type": "code",
   "execution_count": null,
   "id": "7b40e38e-8e47-49aa-891b-6f4d68202fc8",
   "metadata": {},
   "outputs": [],
   "source": [
    "cts.head()"
   ]
  },
  {
   "cell_type": "code",
   "execution_count": null,
   "id": "9c1d8bbb-87ff-4b3e-9744-aa483a7f4542",
   "metadata": {},
   "outputs": [],
   "source": [
    "def cov_names(x):\n",
    "    x = x.upper()\n",
    "    if len(x) == 9:\n",
    "        x = x.replace('COVC', 'COVA')\n",
    "    elif len(x) == 8:\n",
    "        x = x.replace('COVC', 'COVA0')\n",
    "    elif len(x) == 7:\n",
    "        x = x.replace('COVC', 'COVA00')\n",
    "    elif len(x) == 6:\n",
    "        x = x.replace('COVC', 'COVA000')\n",
    "    elif len(x) == 5:\n",
    "        x = x.replace('COVC', 'COVA0000')\n",
    "    return x"
   ]
  },
  {
   "cell_type": "code",
   "execution_count": null,
   "id": "318cb11c-e7ab-40af-8bc4-3c19bf27caa6",
   "metadata": {},
   "outputs": [],
   "source": [
    "def cov_namesA(x):\n",
    "    x = str(x)\n",
    "    if len(x) == 8:\n",
    "        x = x.replace('COVA', 'COVA0')\n",
    "    elif len(x) == 7:\n",
    "        x = x.replace('COVA', 'COVA00')\n",
    "    elif len(x) == 6:\n",
    "        x = x.replace('COVA', 'COVA000')\n",
    "    elif len(x) == 5:\n",
    "        x = x.replace('COVA', 'COVA0000')\n",
    "    elif len(x) == 4:\n",
    "        x = x.replace('COVA', 'COVA00000')\n",
    "    elif len(x) == 3:\n",
    "        x = x.replace('COVA', 'COVA000000')\n",
    "    elif len(x) == 2:\n",
    "        x = x.replace('COVA', 'COVA0000000')\n",
    "    return x"
   ]
  },
  {
   "cell_type": "code",
   "execution_count": null,
   "id": "093c98d0-98f0-4d51-9cb3-e7ff04767c96",
   "metadata": {},
   "outputs": [],
   "source": [
    "cts_cln = cts.assign(Sample_NameB=cts['Sample_Name'].apply(lambda x: cov_names(x)))"
   ]
  },
  {
   "cell_type": "code",
   "execution_count": null,
   "id": "b191bf97-37d0-4bbe-b266-1d8e23b786c4",
   "metadata": {},
   "outputs": [],
   "source": [
    "cts_cln"
   ]
  },
  {
   "cell_type": "code",
   "execution_count": null,
   "id": "0fd3dcc0-17ae-4ea7-afa0-83131b5ecd87",
   "metadata": {},
   "outputs": [],
   "source": [
    "biorepo_loc_cln = biorepo_loc.assign(ALIQUOT_A_Sample_ID=biorepo_loc['ALIQUOT A Sample ID'].apply(lambda x: cov_namesA(x)))"
   ]
  },
  {
   "cell_type": "code",
   "execution_count": null,
   "id": "cdd23fa5-a7e9-473c-84b1-79f0eb1e776c",
   "metadata": {},
   "outputs": [],
   "source": [
    "biorepo_loc_cln.head()"
   ]
  },
  {
   "cell_type": "code",
   "execution_count": null,
   "id": "05a1aab5-fb77-45d5-a3f3-050342cc2733",
   "metadata": {},
   "outputs": [],
   "source": [
    "# biorepo_loc_cln.to_excel('/home/douso/Documents/RunSheets/BioRepository/COVID-19-Sample-Archive-loc-cln.xlsx')"
   ]
  },
  {
   "cell_type": "code",
   "execution_count": null,
   "id": "a6d3ee72-6cbb-4499-b96e-8f7145f0119e",
   "metadata": {},
   "outputs": [],
   "source": [
    "cts_cln.head()"
   ]
  },
  {
   "cell_type": "code",
   "execution_count": null,
   "id": "00035351-d83f-4efc-b355-0d330332cc91",
   "metadata": {},
   "outputs": [],
   "source": [
    "cts_biorepo = cts_cln.set_index('Sample_NameB').merge(biorepo_loc_cln.set_index('ALIQUOT_A_Sample_ID'), how='inner', left_index=True, right_index=True)"
   ]
  },
  {
   "cell_type": "code",
   "execution_count": null,
   "id": "938478e7-5c0c-437b-90ee-6740f1ac8bf5",
   "metadata": {},
   "outputs": [],
   "source": [
    "cts_biorepo.head()"
   ]
  },
  {
   "cell_type": "code",
   "execution_count": null,
   "id": "d78a3f5b-f4a0-43e4-b279-06ece81e1bd5",
   "metadata": {},
   "outputs": [],
   "source": [
    "seq_all = pd.read_excel('/home/douso/Documents/RunSheets/all-(un)sequenced-covs.xlsx')"
   ]
  },
  {
   "cell_type": "code",
   "execution_count": null,
   "id": "540cd19a-99b0-4cf3-9ea1-d5cac7becb81",
   "metadata": {},
   "outputs": [],
   "source": [
    "seq_all.head()"
   ]
  },
  {
   "cell_type": "code",
   "execution_count": null,
   "id": "946339ba-96d5-43cb-9798-07de55f7aebf",
   "metadata": {},
   "outputs": [],
   "source": [
    "forseq = pd.read_excel('/home/douso/Documents/RunSheets/all-selected-for-sequencing-covs.xlsx')"
   ]
  },
  {
   "cell_type": "code",
   "execution_count": null,
   "id": "ae8c11d8-4a04-4788-b48b-4ef8d7d7d35e",
   "metadata": {},
   "outputs": [],
   "source": [
    "forseq"
   ]
  },
  {
   "cell_type": "code",
   "execution_count": null,
   "id": "9731c4c2-886e-4342-9132-a1d517377afe",
   "metadata": {},
   "outputs": [],
   "source": [
    "df_mar_may = pd.read_excel('/home/douso/Documents/RunSheets/covs_mar-may.xlsx')"
   ]
  },
  {
   "cell_type": "code",
   "execution_count": null,
   "id": "082831e9-f224-40b3-ab80-856d653e3a45",
   "metadata": {},
   "outputs": [],
   "source": [
    "df_mar_may.head()"
   ]
  },
  {
   "cell_type": "code",
   "execution_count": null,
   "id": "5ffafce8-7459-4135-8286-f3fee4b4852d",
   "metadata": {},
   "outputs": [],
   "source": [
    "df_mar_may[df_mar_may['covc'].isin(list(forseq['covc_code'])) == False]"
   ]
  },
  {
   "cell_type": "code",
   "execution_count": null,
   "id": "c3991b89-7ca6-41d5-93f4-a28c4f438e83",
   "metadata": {},
   "outputs": [],
   "source": [
    "sequenced = list(seq_all['covcs'].apply(lambda x: cov_names(x)))"
   ]
  },
  {
   "cell_type": "code",
   "execution_count": null,
   "id": "36c29752-0e3c-4ec8-9758-b1d96eccb0ba",
   "metadata": {},
   "outputs": [],
   "source": [
    "cts_biorepo_srt = (cts_biorepo.reset_index().sort_values('index'))"
   ]
  },
  {
   "cell_type": "code",
   "execution_count": null,
   "id": "47e22c51-8411-412a-bbb7-371eb0959722",
   "metadata": {},
   "outputs": [],
   "source": [
    "cts_biorepo_srt"
   ]
  },
  {
   "cell_type": "code",
   "execution_count": null,
   "id": "0df50e9c-52ea-4c12-a5c5-664b891f20f2",
   "metadata": {},
   "outputs": [],
   "source": [
    "final = cts_biorepo_srt[cts_biorepo_srt['index'].isin(sequenced) == False].sort_values(['index', 'Ct_Mean']).drop_duplicates('index', keep='last')"
   ]
  },
  {
   "cell_type": "code",
   "execution_count": null,
   "id": "0ba73a86-1b6b-4863-ac05-3aa6e9da1317",
   "metadata": {},
   "outputs": [],
   "source": [
    "final#.head()"
   ]
  },
  {
   "cell_type": "code",
   "execution_count": null,
   "id": "52fe8d09-1a27-449e-a1a0-89c3d369182b",
   "metadata": {},
   "outputs": [],
   "source": [
    "final.to_excel('/home/douso/Documents/RunSheets/BioRepository/cov-positiveCtsLocs.xlsx', index=False)"
   ]
  },
  {
   "cell_type": "code",
   "execution_count": 56,
   "id": "e6fd6079-e247-437e-aed1-46a58cbdcc50",
   "metadata": {},
   "outputs": [],
   "source": [
    "df_dts_cln_pos = pd.read_excel('/home/douso/Documents/TrendData/Results/ResultsMerged/COVID19-results-merged-pos.xlsx')"
   ]
  },
  {
   "cell_type": "code",
   "execution_count": 58,
   "id": "9df45e4f-3c4d-4683-a704-2fc5b4e50964",
   "metadata": {},
   "outputs": [],
   "source": [
    "l = list(df_dts_cln_pos['S_NUM'])"
   ]
  },
  {
   "cell_type": "code",
   "execution_count": 61,
   "id": "0751c42f-a446-4031-ac58-b530a6d1c6fa",
   "metadata": {},
   "outputs": [],
   "source": [
    "final_flt = final[final['Sample_Name'].isin(l) == True]"
   ]
  },
  {
   "cell_type": "code",
   "execution_count": 62,
   "id": "7581f725-3719-4d27-b2df-dea53aafe3fe",
   "metadata": {},
   "outputs": [],
   "source": [
    "final_flt.to_excel('/home/douso/Documents/RunSheets/BioRepository/cov-positiveCtsLocs-flt.xlsx', index=False)"
   ]
  }
 ],
 "metadata": {
  "kernelspec": {
   "display_name": "Python 3",
   "language": "python",
   "name": "python3"
  },
  "language_info": {
   "codemirror_mode": {
    "name": "ipython",
    "version": 3
   },
   "file_extension": ".py",
   "mimetype": "text/x-python",
   "name": "python",
   "nbconvert_exporter": "python",
   "pygments_lexer": "ipython3",
   "version": "3.8.10"
  }
 },
 "nbformat": 4,
 "nbformat_minor": 5
}
