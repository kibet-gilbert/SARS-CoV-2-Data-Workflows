{
 "cells": [
  {
   "cell_type": "markdown",
   "id": "18a9638a-7b6d-4170-b957-61839c36c8a6",
   "metadata": {},
   "source": [
    "$19^{th}$ Aug 2021"
   ]
  },
  {
   "cell_type": "code",
   "execution_count": 1,
   "id": "81eba8e0-b303-4751-9c09-33ae0f7500d7",
   "metadata": {},
   "outputs": [],
   "source": [
    "import pandas as pd\n",
    "import numpy as np\n",
    "import re\n",
    "import seaborn as sns\n",
    "import matplotlib.pyplot as plt\n",
    "from collections import Counter\n",
    "from datetime import datetime\n",
    "\n"
   ]
  },
  {
   "cell_type": "code",
   "execution_count": 2,
   "id": "bc3bc3b9-5cef-4108-adcd-19ac8ca78478",
   "metadata": {},
   "outputs": [],
   "source": [
    "#load the excel sheet containing the variants information\n",
    "\n",
    "df_meta_seq = pd.read_excel('/home/douso/SarsGenomics/Processed/metadata-seq-MS-Merge@KB8.xlsx', usecols=['S_NUM', 'S', 'DT_CONF', 'G_COV'])"
   ]
  },
  {
   "cell_type": "code",
   "execution_count": 3,
   "id": "a2c5fd69-0430-4d45-aead-09f34a442e8f",
   "metadata": {},
   "outputs": [
    {
     "data": {
      "text/html": [
       "<div>\n",
       "<style scoped>\n",
       "    .dataframe tbody tr th:only-of-type {\n",
       "        vertical-align: middle;\n",
       "    }\n",
       "\n",
       "    .dataframe tbody tr th {\n",
       "        vertical-align: top;\n",
       "    }\n",
       "\n",
       "    .dataframe thead th {\n",
       "        text-align: right;\n",
       "    }\n",
       "</style>\n",
       "<table border=\"1\" class=\"dataframe\">\n",
       "  <thead>\n",
       "    <tr style=\"text-align: right;\">\n",
       "      <th></th>\n",
       "      <th>S_NUM</th>\n",
       "      <th>DT_CONF</th>\n",
       "      <th>G_COV</th>\n",
       "      <th>S</th>\n",
       "    </tr>\n",
       "  </thead>\n",
       "  <tbody>\n",
       "    <tr>\n",
       "      <th>0</th>\n",
       "      <td>COVC00854</td>\n",
       "      <td>2020-06-13 00:00:00</td>\n",
       "      <td>94.8</td>\n",
       "      <td>D614G,</td>\n",
       "    </tr>\n",
       "    <tr>\n",
       "      <th>1</th>\n",
       "      <td>COVC00867</td>\n",
       "      <td>2020-06-13 00:00:00</td>\n",
       "      <td>66.7</td>\n",
       "      <td>D614G, M900fs, M900fs</td>\n",
       "    </tr>\n",
       "    <tr>\n",
       "      <th>2</th>\n",
       "      <td>COVC00893</td>\n",
       "      <td>2020-06-13 00:00:00</td>\n",
       "      <td>82.6</td>\n",
       "      <td>D614G</td>\n",
       "    </tr>\n",
       "    <tr>\n",
       "      <th>3</th>\n",
       "      <td>COVC00915</td>\n",
       "      <td>2020-06-13 00:00:00</td>\n",
       "      <td>NaN</td>\n",
       "      <td>NaN</td>\n",
       "    </tr>\n",
       "    <tr>\n",
       "      <th>4</th>\n",
       "      <td>COVC00962</td>\n",
       "      <td>2020-06-14 00:00:00</td>\n",
       "      <td>93.3</td>\n",
       "      <td>D614G</td>\n",
       "    </tr>\n",
       "  </tbody>\n",
       "</table>\n",
       "</div>"
      ],
      "text/plain": [
       "       S_NUM              DT_CONF  G_COV                      S\n",
       "0  COVC00854  2020-06-13 00:00:00   94.8                D614G, \n",
       "1  COVC00867  2020-06-13 00:00:00   66.7  D614G, M900fs, M900fs\n",
       "2  COVC00893  2020-06-13 00:00:00   82.6                  D614G\n",
       "3  COVC00915  2020-06-13 00:00:00    NaN                    NaN\n",
       "4  COVC00962  2020-06-14 00:00:00   93.3                  D614G"
      ]
     },
     "execution_count": 3,
     "metadata": {},
     "output_type": "execute_result"
    }
   ],
   "source": [
    "df_meta_seq.head()"
   ]
  },
  {
   "cell_type": "code",
   "execution_count": 117,
   "id": "cbb91047-1dcb-4a46-becf-b7e21795ce7e",
   "metadata": {},
   "outputs": [],
   "source": [
    "df_meta_seq80 = df_meta_seq.replace(pd.NA, np.nan)[df_meta_seq['G_COV'] >= 80]#.sort_values('DT_CONF')"
   ]
  },
  {
   "cell_type": "code",
   "execution_count": 129,
   "id": "82f6272d-a22e-48ae-b68e-3ecf88e7de12",
   "metadata": {},
   "outputs": [],
   "source": [
    "df_data = df_meta_seq80[df_meta_seq80.index.isin(df_meta_seq80['DT_CONF'].dropna().index)]"
   ]
  },
  {
   "cell_type": "code",
   "execution_count": 146,
   "id": "0eca08d9-0298-42c6-964a-285417d2dee5",
   "metadata": {},
   "outputs": [],
   "source": [
    "df_data_dt = df_data.assign(DT_CONF=df_data['DT_CONF'].apply(lambda x: pd.to_datetime(x, dayfirst=True))).sort_values('DT_CONF')"
   ]
  },
  {
   "cell_type": "code",
   "execution_count": 136,
   "id": "4f4fa54f-7381-4fde-baaf-bb395ab0c857",
   "metadata": {},
   "outputs": [
    {
     "name": "stdout",
     "output_type": "stream",
     "text": [
      "<class 'pandas.core.frame.DataFrame'>\n",
      "Int64Index: 713 entries, 0 to 1069\n",
      "Data columns (total 4 columns):\n",
      " #   Column   Non-Null Count  Dtype         \n",
      "---  ------   --------------  -----         \n",
      " 0   S_NUM    713 non-null    object        \n",
      " 1   DT_CONF  713 non-null    datetime64[ns]\n",
      " 2   G_COV    713 non-null    float64       \n",
      " 3   S        710 non-null    object        \n",
      "dtypes: datetime64[ns](1), float64(1), object(2)\n",
      "memory usage: 27.9+ KB\n"
     ]
    }
   ],
   "source": [
    "df_data_dt.info()"
   ]
  },
  {
   "cell_type": "code",
   "execution_count": 147,
   "id": "0c3ded89-2cbd-4e21-8b19-252eb461169f",
   "metadata": {},
   "outputs": [
    {
     "data": {
      "text/html": [
       "<div>\n",
       "<style scoped>\n",
       "    .dataframe tbody tr th:only-of-type {\n",
       "        vertical-align: middle;\n",
       "    }\n",
       "\n",
       "    .dataframe tbody tr th {\n",
       "        vertical-align: top;\n",
       "    }\n",
       "\n",
       "    .dataframe thead th {\n",
       "        text-align: right;\n",
       "    }\n",
       "</style>\n",
       "<table border=\"1\" class=\"dataframe\">\n",
       "  <thead>\n",
       "    <tr style=\"text-align: right;\">\n",
       "      <th></th>\n",
       "      <th>S_NUM</th>\n",
       "      <th>DT_CONF</th>\n",
       "      <th>G_COV</th>\n",
       "      <th>S</th>\n",
       "    </tr>\n",
       "  </thead>\n",
       "  <tbody>\n",
       "    <tr>\n",
       "      <th>1066</th>\n",
       "      <td>COVC24214</td>\n",
       "      <td>2021-08-23</td>\n",
       "      <td>96.7</td>\n",
       "      <td>T19R, L452R, T478K, D614G, P681R, D950N,</td>\n",
       "    </tr>\n",
       "    <tr>\n",
       "      <th>1067</th>\n",
       "      <td>COVC24215</td>\n",
       "      <td>2021-08-23</td>\n",
       "      <td>90.1</td>\n",
       "      <td>L452R, T478K, D614G, P681R, D950N, S974S,</td>\n",
       "    </tr>\n",
       "    <tr>\n",
       "      <th>1069</th>\n",
       "      <td>COVC24217</td>\n",
       "      <td>2021-08-23</td>\n",
       "      <td>93.4</td>\n",
       "      <td>T19R, L452R, T478K, Q613H, D614G, P681R, D950N...</td>\n",
       "    </tr>\n",
       "    <tr>\n",
       "      <th>936</th>\n",
       "      <td>KEMRI_02_91932</td>\n",
       "      <td>2021-10-02</td>\n",
       "      <td>98.8</td>\n",
       "      <td>G257S, D614G, P681H</td>\n",
       "    </tr>\n",
       "    <tr>\n",
       "      <th>896</th>\n",
       "      <td>KEMRI_01_89581</td>\n",
       "      <td>2021-12-01</td>\n",
       "      <td>96.5</td>\n",
       "      <td>H69_V70del, D138H, Y145del, N501Y, A570D, D614...</td>\n",
       "    </tr>\n",
       "  </tbody>\n",
       "</table>\n",
       "</div>"
      ],
      "text/plain": [
       "               S_NUM    DT_CONF  G_COV  \\\n",
       "1066       COVC24214 2021-08-23   96.7   \n",
       "1067       COVC24215 2021-08-23   90.1   \n",
       "1069       COVC24217 2021-08-23   93.4   \n",
       "936   KEMRI_02_91932 2021-10-02   98.8   \n",
       "896   KEMRI_01_89581 2021-12-01   96.5   \n",
       "\n",
       "                                                      S  \n",
       "1066          T19R, L452R, T478K, D614G, P681R, D950N,   \n",
       "1067         L452R, T478K, D614G, P681R, D950N, S974S,   \n",
       "1069  T19R, L452R, T478K, Q613H, D614G, P681R, D950N...  \n",
       "936                                 G257S, D614G, P681H  \n",
       "896   H69_V70del, D138H, Y145del, N501Y, A570D, D614...  "
      ]
     },
     "execution_count": 147,
     "metadata": {},
     "output_type": "execute_result"
    }
   ],
   "source": [
    "df_data_dt.tail()"
   ]
  },
  {
   "cell_type": "markdown",
   "id": "275c60d1-dbed-4e0c-84eb-4ed177627699",
   "metadata": {},
   "source": [
    "\tS_NUM\tDT_CONF\tG_COV\tS\n",
    "1066\tCOVC24214\t2021-08-23\t96.7\tT19R, L452R, T478K, D614G, P681R, D950N,\n",
    "1067\tCOVC24215\t2021-08-23\t90.1\tL452R, T478K, D614G, P681R, D950N, S974S,\n",
    "1069\tCOVC24217\t2021-08-23\t93.4\tT19R, L452R, T478K, Q613H, D614G, P681R, D950N...\n",
    "936\tKEMRI_02_91932\t2021-10-02\t98.8\tG257S, D614G, P681H\n",
    "896\tKEMRI_01_89581\t2021-12-01\t96.5\tH69_V70del, D138H, Y145del, N501Y, A570D, D614..."
   ]
  },
  {
   "cell_type": "code",
   "execution_count": 148,
   "id": "6b0f3db1-f4c4-466a-8187-569cea04f05d",
   "metadata": {},
   "outputs": [],
   "source": [
    "df_fort = df_data_dt.resample(rule='2W', closed='right', on='DT_CONF')"
   ]
  },
  {
   "cell_type": "code",
   "execution_count": 267,
   "id": "23ee47b7-9ecb-43d7-8511-6d15148d9688",
   "metadata": {},
   "outputs": [
    {
     "name": "stdout",
     "output_type": "stream",
     "text": [
      "Initially detected mutation(s) as of 2020-06-14 are:\n",
      "  ['D614G']\n",
      "The counts:\n",
      "  {'D614G': 5}\n",
      "The following new mutation(s) identified as of 2020-06-28:\n",
      "  ['G1251V', 'N679K', 'S637S', 'T1116N']\n",
      "The counts:\n",
      "  {'G1251V': 1, 'N679K': 1, 'S637S': 1, 'T1116N': 1}\n",
      "The following new mutation(s) identified as of 2020-07-12:\n",
      "  ['A263S']\n",
      "The counts:\n",
      "  {'A263S': 1}\n",
      "The following new mutation(s) identified as of 2020-07-26:\n",
      "  ['F515F', 'L18F', 'N928N', 'R21I', 'S1252F', 'T618T']\n",
      "The counts:\n",
      "  {'F515F': 3, 'L18F': 1, 'N928N': 1, 'R21I': 1, 'S1252F': 4, 'T618T': 1}\n",
      "The following new mutation(s) identified as of 2020-08-09:\n",
      "  ['A845S']\n",
      "The counts:\n",
      "  {'A845S': 1}\n",
      "The following new mutation(s) identified as of 2020-08-23:\n",
      "  ['A846S', 'N394I', 'P728P', 'S691S', 'Y28Y']\n",
      "The counts:\n",
      "  {'A846S': 1, 'N394I': 1, 'P728P': 4, 'S691S': 1, 'Y28Y': 1}\n",
      "No new mutation(s) were detected as of 2020-09-06\n",
      "No new mutation(s) were detected as of 2020-09-20\n",
      "The following new mutation(s) identified as of 2020-10-04:\n",
      "  ['D796Y', 'D80Y', 'E484K', 'G1085E', 'P561S', 'S375S', 'V1228L']\n",
      "The counts:\n",
      "  {'D796Y': 1, 'D80Y': 2, 'E484K': 2, 'G1085E': 1, 'P561S': 1, 'S375S': 2, 'V1228L': 1}\n",
      "The following new mutation(s) identified as of 2020-10-18:\n",
      "  ['A222V', 'A27S', 'A411A', 'D571D', 'E554Q', 'F543F', 'G832G', 'I1018I', 'I882V', 'Q52E', 'Q836R', 'R683R', 'S1252P', 'T1273I', 'T638T', 'T941A', 'V1094V', 'W152L', 'Y421Y']\n",
      "The counts:\n",
      "  {'A222V': 1, 'A27S': 5, 'A411A': 1, 'D571D': 1, 'E554Q': 4, 'F543F': 1, 'G832G': 1, 'I1018I': 1, 'I882V': 4, 'Q52E': 1, 'Q836R': 1, 'R683R': 12, 'S1252P': 1, 'T1273I': 1, 'T638T': 1, 'T941A': 1, 'V1094V': 4, 'W152L': 1, 'Y421Y': 1}\n",
      "The following new mutation(s) identified as of 2020-11-01:\n",
      "  ['A623S', 'A672A', 'A845A', 'C1235F', 'D53D', 'F157L', 'G769V', 'G798S', 'H146H', 'H69_V70del', 'I1114I', 'I410I', 'K182R', 'K854N', 'L1200L', 'L54F', 'L5F', 'L841L', 'M153T', 'M731I', 'N501Y', 'P681H', 'Q1201K', 'Q613H', 'Q675H', 'S1252C', 'S221S', 'S477N', 'S477T', 'S60S', 'T240I', 'T676S', 'T73I', 'V1264V', 'V367F', 'V952V', 'Y1215Y', 'Y145del']\n",
      "The counts:\n",
      "  {'A623S': 1, 'A672A': 2, 'A845A': 1, 'C1235F': 2, 'D53D': 2, 'F157L': 1, 'G769V': 4, 'G798S': 1, 'H146H': 1, 'H69_V70del': 5, 'I1114I': 1, 'I410I': 2, 'K182R': 1, 'K854N': 2, 'L1200L': 2, 'L54F': 1, 'L5F': 1, 'L841L': 2, 'M153T': 1, 'M731I': 1, 'N501Y': 4, 'P681H': 4, 'Q1201K': 3, 'Q613H': 2, 'Q675H': 2, 'S1252C': 4, 'S221S': 1, 'S477N': 1, 'S477T': 1, 'S60S': 1, 'T240I': 1, 'T676S': 1, 'T73I': 3, 'V1264V': 1, 'V367F': 1, 'V952V': 1, 'Y1215Y': 1, 'Y145del': 3}\n",
      "The following new mutation(s) identified as of 2020-11-15:\n",
      "  ['A1174A', 'A520S', 'A570D', 'A684V', 'C361*', 'C361S', 'C671C', 'D1041fs', 'E484Q', 'F400L', 'F55F', 'G261D', 'I1225V', 'K444N', 'K795T', 'L517I', 'L821L', 'N360N', 'N856N', 'Q580R', 'Q677H', 'Q836Q', 'R246K', 'S254F', 'S366S', 'S477I', 'S704S', 'S939F', 'S940S', 'S982A', 'T20T', 'T573I', 'T588T', 'T723T', 'V382V', 'V83V', 'W258R']\n",
      "The counts:\n",
      "  {'A1174A': 1, 'A520S': 1, 'A570D': 1, 'A684V': 1, 'C361*': 1, 'C361S': 2, 'C671C': 1, 'D1041fs': 1, 'E484Q': 1, 'F400L': 1, 'F55F': 1, 'G261D': 2, 'I1225V': 1, 'K444N': 1, 'K795T': 1, 'L517I': 1, 'L821L': 3, 'N360N': 1, 'N856N': 1, 'Q580R': 1, 'Q677H': 1, 'Q836Q': 1, 'R246K': 2, 'S254F': 1, 'S366S': 1, 'S477I': 2, 'S704S': 1, 'S939F': 1, 'S940S': 1, 'S982A': 1, 'T20T': 1, 'T573I': 1, 'T588T': 1, 'T723T': 1, 'V382V': 1, 'V83V': 1, 'W258R': 2}\n",
      "The following new mutation(s) identified as of 2020-11-29:\n",
      "  ['D1146H', 'E654A', 'E661D', 'F1103L', 'F1148F', 'H1083Y', 'L141F', 'N1178N', 'S673T', 'S929T', 'T572I', 'T724T', 'T732T', 'T791I', 'V1176F', 'V1230V', 'V620V', 'V70V']\n",
      "The counts:\n",
      "  {'D1146H': 1, 'E654A': 1, 'E661D': 1, 'F1103L': 1, 'F1148F': 2, 'H1083Y': 1, 'L141F': 1, 'N1178N': 1, 'S673T': 2, 'S929T': 1, 'T572I': 1, 'T724T': 1, 'T732T': 1, 'T791I': 1, 'V1176F': 1, 'V1230V': 3, 'V620V': 1, 'V70V': 1}\n",
      "No new mutation(s) were detected as of 2020-12-13\n",
      "The following new mutation(s) identified as of 2020-12-27:\n",
      "  ['N1187N', 'V1164F']\n",
      "The counts:\n",
      "  {'N1187N': 1, 'V1164F': 1}\n",
      "The following new mutation(s) identified as of 2021-01-10:\n",
      "  ['L277L', 'P681R', 'T716I']\n",
      "The counts:\n",
      "  {'L277L': 1, 'P681R': 1, 'T716I': 1}\n",
      "The following new mutation(s) identified as of 2021-01-24:\n",
      "  ['A924G', 'D1118H', 'D1184Y', 'D138H', 'I923V', 'L24L', 'L452R', 'L582L', 'N925N', 'S31Y', 'S940P', 'T1117I', 'T676I']\n",
      "The counts:\n",
      "  {'A924G': 1, 'D1118H': 1, 'D1184Y': 2, 'D138H': 1, 'I923V': 1, 'L24L': 1, 'L452R': 1, 'L582L': 1, 'N925N': 1, 'S31Y': 1, 'S940P': 1, 'T1117I': 2, 'T676I': 1}\n",
      "The following new mutation(s) identified as of 2021-02-07:\n",
      "  ['A1070S', 'A623A', 'F497I', 'F497Y', 'L849L', 'N196N', 'N919N', 'R214L']\n",
      "The counts:\n",
      "  {'A1070S': 1, 'A623A': 1, 'F497I': 1, 'F497Y': 1, 'L849L': 1, 'N196N': 1, 'N919N': 1, 'R214L': 1}\n",
      "The following new mutation(s) identified as of 2021-02-21:\n",
      "  ['A653D', 'A67V', 'D215G', 'D53N', 'D80A', 'D950N', 'F1062F', 'F490S', 'F888L', 'G1059V', 'G181V', 'G669C', 'G889G', 'I326F', 'I326fs', 'K417N', 'L1200P', 'L1218I', 'L242_L244del', 'L981I', 'M900fs', 'N536N', 'N658K', 'Q52R', 'R214R', 'R682R', 'S325T', 'T1027I', 'T19R', 'T478K', 'V511E']\n",
      "The counts:\n",
      "  {'A653D': 1, 'A67V': 1, 'D215G': 1, 'D53N': 1, 'D80A': 1, 'D950N': 1, 'F1062F': 1, 'F490S': 3, 'F888L': 1, 'G1059V': 1, 'G181V': 1, 'G669C': 1, 'G889G': 1, 'I326F': 1, 'I326fs': 1, 'K417N': 1, 'L1200P': 1, 'L1218I': 1, 'L242_L244del': 1, 'L981I': 1, 'M900fs': 2, 'N536N': 1, 'N658K': 1, 'Q52R': 1, 'R214R': 1, 'R682R': 1, 'S325T': 1, 'T1027I': 1, 'T19R': 1, 'T478K': 1, 'V511E': 1}\n",
      "The following new mutation(s) identified as of 2021-03-07:\n",
      "  ['A1190A', 'E583D', 'K921fs', 'L1024L', 'Q1005H']\n",
      "The counts:\n",
      "  {'A1190A': 1, 'E583D': 3, 'K921fs': 1, 'L1024L': 2, 'Q1005H': 1}\n",
      "The following new mutation(s) identified as of 2021-03-21:\n",
      "  ['A163A', 'A575A', 'A647A', 'A668A', 'A668T', 'A701V', 'A879V', 'D1153A', 'D796H', 'D979D', 'E1202E', 'E156D', 'F140del', 'F58F', 'G1046G', 'G932G', 'H146Y', 'H655Y', 'K150N', 'K206K', 'L110F', 'L546S', 'L585L', 'N61N', 'P1079P', 'P1263T', 'R102I', 'R190K', 'S1051S', 'S371S', 'S884F', 'T1238T', 'T208S', 'T76I', 'T95I', 'V1133F', 'V143fs', 'V267L', 'V382L', 'V622F', 'V991V', 'Y144fs']\n",
      "The counts:\n",
      "  {'A163A': 2, 'A575A': 2, 'A647A': 1, 'A668A': 1, 'A668T': 1, 'A701V': 6, 'A879V': 1, 'D1153A': 1, 'D796H': 2, 'D979D': 1, 'E1202E': 1, 'E156D': 1, 'F140del': 1, 'F58F': 2, 'G1046G': 1, 'G932G': 1, 'H146Y': 1, 'H655Y': 1, 'K150N': 1, 'K206K': 1, 'L110F': 1, 'L546S': 1, 'L585L': 1, 'N61N': 1, 'P1079P': 1, 'P1263T': 4, 'R102I': 1, 'R190K': 1, 'S1051S': 1, 'S371S': 2, 'S884F': 1, 'T1238T': 2, 'T208S': 1, 'T76I': 1, 'T95I': 3, 'V1133F': 1, 'V143fs': 1, 'V267L': 1, 'V382L': 1, 'V622F': 2, 'V991V': 1, 'Y144fs': 1}\n",
      "The following new mutation(s) identified as of 2021-04-04:\n",
      "  ['C166C', 'D1146D', 'L242P', 'L425L', 'N679S', 'P384L', 'P631S', 'R34fs', 'T883I', 'V70I', 'W152R', 'Y144S']\n",
      "The counts:\n",
      "  {'C166C': 1, 'D1146D': 3, 'L242P': 1, 'L425L': 1, 'N679S': 1, 'P384L': 2, 'P631S': 12, 'R34fs': 1, 'T883I': 1, 'V70I': 1, 'W152R': 1, 'Y144S': 1}\n",
      "The following new mutation(s) identified as of 2021-04-18:\n",
      "  ['F562F', 'M1229I']\n",
      "The counts:\n",
      "  {'F562F': 1, 'M1229I': 1}\n",
      "The following new mutation(s) identified as of 2021-05-02:\n",
      "  ['F1109L', 'K814R', 'S1242I']\n",
      "The counts:\n",
      "  {'F1109L': 1, 'K814R': 1, 'S1242I': 2}\n",
      "No new mutation(s) were detected as of 2021-05-16\n",
      "No new mutation(s) were detected as of 2021-05-30\n",
      "No new mutation(s) were detected as of 2021-06-13\n",
      "No new mutation(s) were detected as of 2021-06-27\n",
      "The following new mutation(s) identified as of 2021-07-11:\n",
      "  ['E156_R158delinsG', 'G446D', 'N61fs']\n",
      "The counts:\n",
      "  {'E156_R158delinsG': 10, 'G446D': 1, 'N61fs': 1}\n",
      "The following new mutation(s) identified as of 2021-07-25:\n",
      "  ['A263V', 'A522P', 'F32F', 'T696I']\n",
      "The counts:\n",
      "  {'A263V': 1, 'A522P': 1, 'F32F': 1, 'T696I': 1}\n",
      "The following new mutation(s) identified as of 2021-08-08:\n",
      "  ['D1199D', 'D848D', 'L1218L', 'P26L', 'S974S', 'T29I', 'T827A', 'V1264L', 'Y741Y']\n",
      "The counts:\n",
      "  {'D1199D': 1, 'D848D': 1, 'L1218L': 1, 'P26L': 1, 'S974S': 1, 'T29I': 1, 'T827A': 1, 'V1264L': 2, 'Y741Y': 1}\n",
      "The following new mutation(s) identified as of 2021-08-22:\n",
      "  ['A706V', 'D1260E', 'G1124V', 'G257R', 'I1225T', 'I997L', 'L922F', 'P812S', 'Q14H', 'R408I', 'S1147S', 'S967S', 'Y200C']\n",
      "The counts:\n",
      "  {'A706V': 1, 'D1260E': 2, 'G1124V': 1, 'G257R': 1, 'I1225T': 1, 'I997L': 1, 'L922F': 1, 'P812S': 1, 'Q14H': 1, 'R408I': 1, 'S1147S': 1, 'S967S': 1, 'Y200C': 1}\n",
      "No new mutation(s) were detected as of 2021-09-05\n",
      "No new mutation(s) were detected as of 2021-09-19\n",
      "The following new mutation(s) identified as of 2021-10-03:\n",
      "  ['G257S']\n",
      "The counts:\n",
      "  {'G257S': 1}\n",
      "No new mutation(s) were detected as of 2021-10-17\n",
      "No new mutation(s) were detected as of 2021-10-31\n",
      "No new mutation(s) were detected as of 2021-11-14\n",
      "No new mutation(s) were detected as of 2021-11-28\n",
      "No new mutation(s) were detected as of 2021-12-12\n"
     ]
    }
   ],
   "source": [
    "df_spike_trend = pd.DataFrame()\n",
    "count = 1\n",
    "observed_mut = []\n",
    "for i,df in df_fort:\n",
    "#     print(i, df)\n",
    "    spike_mut_list = []\n",
    "    for row in df.itertuples():\n",
    "        if isinstance(row.S, str):\n",
    "            mut_list = row.S.rstrip(', ').split(', ')\n",
    "        else:\n",
    "            pass#mut_list = []; mut_list.append(pd.NA)\n",
    "        spike_mut_list.extend(mut_list)\n",
    "    mut_count = Counter(spike_mut_list)\n",
    "    df_new = pd.DataFrame(mut_count, index=[i])\n",
    "    new_col = set(df_new.columns)\n",
    "    output = sorted(list(new_col)); observed_mut.append(output)\n",
    "    prev_col = set(df_spike_trend.columns)\n",
    "    new_m_prev_col = new_col - prev_col\n",
    "    new_u_prev_col = new_col & prev_col\n",
    "    prev_m_new_prev_col = prev_col - new_u_prev_col\n",
    "    if new_m_prev_col == new_col:\n",
    "        if count == 1:\n",
    "            output = sorted(list(new_col))#; observed_mut.append(output)\n",
    "            print(f'Initially detected mutation(s) as of {i.strftime(\"%Y-%m-%d\")} are:\\n  {output}\\nThe counts:\\n  {dict([(k, mut_count[k]) for k in output])}')\n",
    "        else:\n",
    "            output = sorted(list(new_col))#; observed_mut.append(output)\n",
    "            print(f'No new mutation(s) were detected as of {i.strftime(\"%Y-%m-%d\")}')\n",
    "    elif len(new_m_prev_col) > 0:\n",
    "        output = sorted(list(new_m_prev_col))#; observed_mut.append(output)\n",
    "        print(f'The following new mutation(s) identified as of {i.strftime(\"%Y-%m-%d\")}:\\n  {output}\\nThe counts:\\n  {dict([(k, mut_count[k]) for k in output])}')\n",
    "    elif len(new_m_prev_col) == 0:\n",
    "        output = sorted(list(prev_col))#; observed_mut.append(output)\n",
    "        print(f'No new mutation(s) were detected as of {i.strftime(\"%Y-%m-%d\")}')\n",
    "\n",
    "    count += 1\n",
    "    df_spike_trend = df_spike_trend.append(df_new)\n"
   ]
  },
  {
   "cell_type": "markdown",
   "id": "df790ab2-b274-460b-a6ba-32f3f774de7d",
   "metadata": {},
   "source": [
    "### **Regions of interest mutation on spike**\n",
    "319-541 - RBD\n",
    "613-705 - S1/S2 junction"
   ]
  },
  {
   "cell_type": "code",
   "execution_count": 450,
   "id": "5e647bd7-d09d-4607-91dc-38867144d309",
   "metadata": {},
   "outputs": [
    {
     "name": "stdout",
     "output_type": "stream",
     "text": [
      "The following mutations consistently appeared across 3 periods (are they emerging variants?):\n",
      "{'D614G': 23, 'G1085E': 2, 'P728P': 3, 'V1228L': 2, 'D571D': 2, 'R683R': 2, 'D80Y': 2, 'I1114I': 1, 'L1200L': 1, 'L54F': 1, 'L841L': 1, 'P681H': 8, 'Q1201K': 1, 'S375S': 2, 'T73I': 1, 'Y145del': 8, 'T716I': 8, 'A570D': 7, 'D1118H': 7, 'H69_V70del': 7, 'E484K': 3, 'N501Y': 6, 'S982A': 6, 'A67V': 2, 'F1062F': 2, 'F888L': 3, 'Q52R': 1, 'Q677H': 2, 'A1190A': 2, 'A845A': 1, 'E583D': 1, 'F157L': 1, 'H146H': 1, 'P681R': 6, 'Q613H': 2, 'V367F': 1, 'D138H': 2, 'G1251V': 2, 'S1252C': 2, 'D950N': 3, 'E156_R158delinsG': 2, 'L452R': 3, 'T19R': 3, 'T478K': 3}\n",
      "\n",
      "\n",
      "The following consistent mutations occur in either the RBD (319-541) or the S1-S2 (613-705) spike regions:\n",
      " {'D614G': 23, 'R683R': 2, 'P681H': 8, 'S375S': 2, 'E484K': 3, 'N501Y': 6, 'Q677H': 2, 'P681R': 6, 'Q613H': 2, 'V367F': 1, 'L452R': 3, 'T478K': 3}\n"
     ]
    }
   ],
   "source": [
    "window_size = 3\n",
    "interest_muts = []\n",
    "for i in range(len(observed_mut) - window_size):\n",
    "    period_slice = []; period_slice.extend(observed_mut[i:i+window_size])\n",
    "#     print(len(period_slice))\n",
    "    counter = Counter()\n",
    "    for period in period_slice: \n",
    "#         print(len(period))\n",
    "        cnt = Counter(period)\n",
    "        counter += cnt\n",
    "#         print(counter)\n",
    "    for k, v in counter.items(): \n",
    "#         print(k,v)\n",
    "        if v == len(period_slice):\n",
    "#             if k not in interest_muts:\n",
    "            interest_muts.append(k)\n",
    "#             else: pass\n",
    "        else: pass\n",
    "print(f'The following mutations consistently appeared across {window_size} periods (are they emerging variants?):\\n{dict(Counter(interest_muts))}')\n",
    "#     print(period_slice)\n",
    "\n",
    "moc_dict = dict(Counter(interest_muts))\n",
    "moc_set = set(list(range(319,542)) + list(range(613,706)))\n",
    "moc_dict_keys = set(moc_dict.keys())\n",
    "\n",
    "moc_p = re.compile(r'[3-7][0-9]{2,2}')\n",
    "moc_mut = set(map(lambda x: int(x), moc_p.findall(str(moc_dict_keys))))\n",
    "\n",
    "moc = moc_set & moc_mut\n",
    "if len(moc) > 0:\n",
    "    p = re.compile('|'.join([str(i) for i in moc]))\n",
    "    moc_fin = {k: v for k,v in moc_dict.items() if p.findall(k)}\n",
    "    print(f'\\n\\nThe following consistent mutations occur in either the RBD (319-541) or the S1-S2 (613-705) spike regions:\\n {moc_fin}')"
   ]
  },
  {
   "cell_type": "code",
   "execution_count": 266,
   "id": "42617cb8-a3ae-4950-a0ac-127c145685d0",
   "metadata": {},
   "outputs": [
    {
     "data": {
      "text/plain": [
       "D614G         681.0\n",
       "Y145del       209.0\n",
       "H69_V70del    207.0\n",
       "P681H         203.0\n",
       "D1118H        194.0\n",
       "A570D         190.0\n",
       "S982A         188.0\n",
       "N501Y         173.0\n",
       "T716I         165.0\n",
       "P681R         108.0\n",
       "dtype: float64"
      ]
     },
     "execution_count": 266,
     "metadata": {},
     "output_type": "execute_result"
    }
   ],
   "source": [
    "df_spike_trend.sum().sort_values(ascending=False)[:10]"
   ]
  }
 ],
 "metadata": {
  "kernelspec": {
   "display_name": "Python 3",
   "language": "python",
   "name": "python3"
  },
  "language_info": {
   "codemirror_mode": {
    "name": "ipython",
    "version": 3
   },
   "file_extension": ".py",
   "mimetype": "text/x-python",
   "name": "python",
   "nbconvert_exporter": "python",
   "pygments_lexer": "ipython3",
   "version": "3.8.10"
  }
 },
 "nbformat": 4,
 "nbformat_minor": 5
}
