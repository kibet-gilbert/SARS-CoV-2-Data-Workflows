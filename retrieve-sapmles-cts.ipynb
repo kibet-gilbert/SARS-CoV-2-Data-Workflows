{
 "cells": [
  {
   "cell_type": "code",
   "execution_count": 1,
   "id": "7e87b743-1b37-4d32-b2e5-1529b7414688",
   "metadata": {},
   "outputs": [],
   "source": [
    "import pandas as pd\n",
    "import seaborn as sns\n",
    "import numpy as np\n",
    "import glob, os, re\n",
    "import matplotlib.pyplot as plt\n",
    "from datetime import  datetime\n",
    "from ipywidgets import widgets, interactive"
   ]
  },
  {
   "cell_type": "code",
   "execution_count": 2,
   "id": "e0c64f10-9c02-40a6-8cf0-ad7ee2d25d6b",
   "metadata": {
    "tags": []
   },
   "outputs": [],
   "source": [
    "dt = datetime.today().strftime(format='%d-%m-%Y')"
   ]
  },
  {
   "cell_type": "code",
   "execution_count": 3,
   "id": "d503fd25-c90f-4fc4-a9ca-c80e212f8bbc",
   "metadata": {},
   "outputs": [],
   "source": [
    "def get_upper_alpha_seq():\n",
    "    letters = []\n",
    "    for c in range(65, 91):\n",
    "        letters.append(chr(c))\n",
    "    return letters"
   ]
  },
  {
   "cell_type": "raw",
   "id": "25df3371-d503-4838-a032-2d3aa4bc615e",
   "metadata": {},
   "source": [
    "for c in range(32, 124):\n",
    "        print(chr(c), end='')"
   ]
  },
  {
   "cell_type": "code",
   "execution_count": 4,
   "id": "b67e5ee5-a8cd-4a3e-9dc8-bdccaca3ea60",
   "metadata": {},
   "outputs": [],
   "source": [
    "def cov_rename(x):\n",
    "    try:\n",
    "        if 'COV' not in x and '-R' in x:\n",
    "            x = x.replace('-R', '')\n",
    "        if 'COV' in x and 'COVC' not in x and 'COVM' not in x and 'COVE' not in x:\n",
    "            x = x.replace('COV', 'COVC')\n",
    "        int(x)\n",
    "        x = str(x).replace(str(x), f'COVC{str(x)}')\n",
    "    except (ValueError, AttributeError, TypeError): x = str(x).replace(' ', '')\n",
    "    return x.replace('COVC_', 'COVC0')"
   ]
  },
  {
   "cell_type": "raw",
   "id": "d54dcd1a-808f-4d75-8d75-53d09fc84b65",
   "metadata": {},
   "source": [
    "def cov_rename(x):\n",
    "    if 'COV' in str(x) and 'COVC' not in str(x):\n",
    "        return str(x).replace('COV', 'COVC')\n",
    "    return x"
   ]
  },
  {
   "cell_type": "code",
   "execution_count": 5,
   "id": "5034f34b-4109-441f-9559-e0812b9cb89f",
   "metadata": {},
   "outputs": [],
   "source": [
    "def cov_names(x):\n",
    "    cov_id = str(x).upper().replace(' ', '').rstrip(f'#-_{get_upper_alpha_seq()}')\n",
    "    if len(cov_id) == 8:\n",
    "        return cov_id.replace('COVC', 'COVC0')\n",
    "    elif len(cov_id) == 7:\n",
    "        return cov_id.replace('COVC', 'COVC00')\n",
    "    elif len(cov_id) == 6:\n",
    "        return cov_id.replace('COVC', 'COVC000')\n",
    "    elif len(cov_id) == 5:\n",
    "        return cov_id.replace('COVC', 'COVC0000')\n",
    "    return cov_id"
   ]
  },
  {
   "cell_type": "markdown",
   "id": "7870448a-3590-4f13-84cd-6ab31fb2d12e",
   "metadata": {},
   "source": [
    "### **Establish parent directory**"
   ]
  },
  {
   "cell_type": "code",
   "execution_count": 6,
   "id": "1d6b98bc-31ec-4680-84c7-4928e03ed316",
   "metadata": {},
   "outputs": [],
   "source": [
    "#uniqueness in directory and file names is assumed for all analyses\n",
    "sars_dir = \"SARS-CoV-2\"\n",
    "home_dir = os.getenv('HOME')\n",
    "parent_dir = glob.glob(f'{home_dir}/**/{sars_dir}', recursive=True)[0]"
   ]
  },
  {
   "cell_type": "code",
   "execution_count": 7,
   "id": "e78bf069-8d85-49c0-929c-c47bf2f3de73",
   "metadata": {
    "tags": []
   },
   "outputs": [],
   "source": [
    "cols1 = ['Sample_Name', 'Reporter', 'CT', 'Ct_Mean', 'Well_Position']\n",
    "\n",
    "data = pd.DataFrame(columns=cols1)\n",
    "data_list = []\n",
    "for file in os.listdir(glob.glob(f'{parent_dir}/**/RunSheetsDB')[0]):\n",
    "    if file.endswith('.xls'):\n",
    "        data_list.append(file)\n",
    "    pass\n",
    "sheets = sorted(data_list)"
   ]
  },
  {
   "cell_type": "code",
   "execution_count": 8,
   "id": "eac2c5b2-9373-473f-a531-bfd6db8dd5dc",
   "metadata": {},
   "outputs": [
    {
     "data": {
      "text/plain": [
       "617"
      ]
     },
     "execution_count": 8,
     "metadata": {},
     "output_type": "execute_result"
    }
   ],
   "source": [
    "len(np.unique(np.array(sheets)))"
   ]
  },
  {
   "cell_type": "code",
   "execution_count": 9,
   "id": "002064ac-6d62-4019-a35d-a93bdbba2620",
   "metadata": {},
   "outputs": [
    {
     "data": {
      "text/html": [
       "<div>\n",
       "<style scoped>\n",
       "    .dataframe tbody tr th:only-of-type {\n",
       "        vertical-align: middle;\n",
       "    }\n",
       "\n",
       "    .dataframe tbody tr th {\n",
       "        vertical-align: top;\n",
       "    }\n",
       "\n",
       "    .dataframe thead th {\n",
       "        text-align: right;\n",
       "    }\n",
       "</style>\n",
       "<table border=\"1\" class=\"dataframe\">\n",
       "  <thead>\n",
       "    <tr style=\"text-align: right;\">\n",
       "      <th></th>\n",
       "      <th>Sample_Name</th>\n",
       "      <th>Reporter</th>\n",
       "      <th>CT</th>\n",
       "      <th>Ct_Mean</th>\n",
       "      <th>Well_Position</th>\n",
       "    </tr>\n",
       "  </thead>\n",
       "  <tbody>\n",
       "  </tbody>\n",
       "</table>\n",
       "</div>"
      ],
      "text/plain": [
       "Empty DataFrame\n",
       "Columns: [Sample_Name, Reporter, CT, Ct_Mean, Well_Position]\n",
       "Index: []"
      ]
     },
     "execution_count": 9,
     "metadata": {},
     "output_type": "execute_result"
    }
   ],
   "source": [
    "data.head()"
   ]
  },
  {
   "cell_type": "code",
   "execution_count": 10,
   "id": "84da2d80-5f1e-4a31-b19a-e19ee1c29a8a",
   "metadata": {},
   "outputs": [
    {
     "data": {
      "text/plain": [
       "'2020-10-29 15:46:45'"
      ]
     },
     "execution_count": 10,
     "metadata": {},
     "output_type": "execute_result"
    }
   ],
   "source": [
    "' '.join('2020-10-29 15:46:45 PM EAT'.split(' ')[:-2])"
   ]
  },
  {
   "cell_type": "code",
   "execution_count": 11,
   "id": "4159ac15-87a8-4935-9994-23fd7d11ddbd",
   "metadata": {},
   "outputs": [
    {
     "data": {
      "text/plain": [
       "Timestamp('2020-10-29 15:46:45')"
      ]
     },
     "execution_count": 11,
     "metadata": {},
     "output_type": "execute_result"
    }
   ],
   "source": [
    "pd.to_datetime(' '.join('2020-10-29 15:46:45 PM EAT'.split(' ')[:-2]), yearfirst=True)"
   ]
  },
  {
   "cell_type": "code",
   "execution_count": 12,
   "id": "31da7974-189f-47a7-a0aa-212e8ec93b54",
   "metadata": {},
   "outputs": [],
   "source": [
    "cols2 = ['Sample Name', 'Reporter', 'CT', 'Ct Mean', 'Cт', 'Cт Mean', 'Well']\n",
    "cols2b = ['Sample Name', 'Reporter', 'CT', 'Ct Mean', 'Cт', 'Cт Mean', 'Well Position']\n",
    "\n",
    "counts = 0\n",
    "\n",
    "for sheet in sheets:\n",
    "    df = pd.read_excel(f\"{glob.glob(f'{parent_dir}/**/RunSheetsDB')[0]}/{sheet}\")\n",
    "    count2 = 0\n",
    "#     print(sheet)\n",
    "    try:\n",
    "        for row in df.itertuples():\n",
    "            count2 += 1\n",
    "            if row[1] == 'Experiment Run End Time':\n",
    "                expt_run_date = pd.to_datetime(' '.join(row[2].split(' ')[:-2]), yearfirst=True)\n",
    "            if row[1] == 'Well' and row[2] != 'Well Position':\n",
    "                df = pd.read_excel(f\"{glob.glob(f'{parent_dir}/**/RunSheetsDB')[0]}/{sheet}\", header=count2)\n",
    "                cols3 = list(set(df.columns) & set(cols2))\n",
    "    #             print(cols3)\n",
    "                df2 = df[sorted(cols3)]\n",
    "                df2.columns = sorted(cols1)\n",
    "                df3 = df2.assign(Dt_Run=expt_run_date)\n",
    "                data = data.append(df3, ignore_index=True)\n",
    "                counts += 1\n",
    "                break\n",
    "            if row[1] == 'Well' and row[2] == 'Well Position':\n",
    "                df = pd.read_excel(f\"{glob.glob(f'{parent_dir}/**/RunSheetsDB')[0]}/{sheet}\", 'Results', header=count2)\n",
    "                cols3 = list(set(df.columns) & set(cols2b))\n",
    "    #             print(cols3)\n",
    "    #             print(list(df.columns))\n",
    "                df2 = df[sorted(cols3)]\n",
    "                df2.columns = sorted(cols1)\n",
    "                df3 = df2.assign(Dt_Run=expt_run_date)\n",
    "                data = data.append(df3, ignore_index=True)\n",
    "                counts += 1\n",
    "                break\n",
    "    except:\n",
    "        print(sheet)\n",
    "        pass"
   ]
  },
  {
   "cell_type": "code",
   "execution_count": 13,
   "id": "70d0504a-4ccf-4db2-adc9-2de3cd5b9b9f",
   "metadata": {},
   "outputs": [
    {
     "name": "stdout",
     "output_type": "stream",
     "text": [
      "number of sheets in folder: 617\n",
      "data rows: 116109\n",
      "sheets processed: 617\n"
     ]
    }
   ],
   "source": [
    "print(f'number of sheets in folder: {len(sheets)}')\n",
    "print(f'data rows: {data.shape[0]}')\n",
    "print(f'sheets processed: {counts}')"
   ]
  },
  {
   "cell_type": "code",
   "execution_count": 14,
   "id": "647c0a65-6313-4328-b411-c05000a339c3",
   "metadata": {},
   "outputs": [
    {
     "data": {
      "text/plain": [
       "PC              1819\n",
       "NC              1818\n",
       "NTC               87\n",
       "COVC22959         72\n",
       "Std1_2 x10^4      49\n",
       "                ... \n",
       "PC-3               3\n",
       "COVC 5576          3\n",
       "COVC17967          3\n",
       "COVC8669           2\n",
       "covc003            1\n",
       "Name: Sample_Name, Length: 29367, dtype: int64"
      ]
     },
     "execution_count": 14,
     "metadata": {},
     "output_type": "execute_result"
    }
   ],
   "source": [
    "data.Sample_Name.value_counts()"
   ]
  },
  {
   "cell_type": "code",
   "execution_count": 15,
   "id": "9e935690-e9c7-4212-9f42-26dd8636b9d0",
   "metadata": {},
   "outputs": [
    {
     "name": "stdout",
     "output_type": "stream",
     "text": [
      "<class 'pandas.core.frame.DataFrame'>\n",
      "RangeIndex: 116109 entries, 0 to 116108\n",
      "Data columns (total 6 columns):\n",
      " #   Column         Non-Null Count   Dtype         \n",
      "---  ------         --------------   -----         \n",
      " 0   Sample_Name    114558 non-null  object        \n",
      " 1   Reporter       114824 non-null  object        \n",
      " 2   CT             114095 non-null  object        \n",
      " 3   Ct_Mean        59647 non-null   float64       \n",
      " 4   Well_Position  116109 non-null  object        \n",
      " 5   Dt_Run         114721 non-null  datetime64[ns]\n",
      "dtypes: datetime64[ns](1), float64(1), object(4)\n",
      "memory usage: 5.3+ MB\n"
     ]
    }
   ],
   "source": [
    "data.info()#.nunique()#.head(15)"
   ]
  },
  {
   "cell_type": "code",
   "execution_count": 16,
   "id": "09a4ecd0-16f6-4da1-8095-47415de34a1f",
   "metadata": {},
   "outputs": [],
   "source": [
    "df_x = data.assign(Sample_Name=data['Sample_Name'].apply(lambda x: cov_names(cov_rename(x))))\n",
    "df_x.sort_values('Dt_Run', ascending=False).to_excel(f\"{glob.glob(f'{parent_dir}/Outputs')[0]}/runsheet-raw-cts.xlsx\", index=False, float_format='%.1f')"
   ]
  },
  {
   "cell_type": "code",
   "execution_count": 17,
   "id": "f3d257c2-3fad-43ee-9f02-9b628866a5f1",
   "metadata": {},
   "outputs": [],
   "source": [
    "# undetermined_ids = list(data[data['CT'] == 'Undetermined']['Sample_Name'].unique())#.astype(list)"
   ]
  },
  {
   "cell_type": "code",
   "execution_count": 18,
   "id": "08cb04a6-bf7e-4465-8c57-d6668b8ccd69",
   "metadata": {},
   "outputs": [],
   "source": [
    "data2 = df_x[df_x['CT'] != 'Undetermined']"
   ]
  },
  {
   "cell_type": "code",
   "execution_count": 19,
   "id": "74fa4ea7-fd9d-45ab-88be-928870b84086",
   "metadata": {},
   "outputs": [],
   "source": [
    "data3 = data2[data2['Reporter'].isin(['FAM', 'VIC', 'ABY', 'TAMRA']) == True]\n",
    "dataqc = data2[data2['Reporter'].isin(['CY5', 'JUN', 'FAM', 'VIC']) == True]"
   ]
  },
  {
   "cell_type": "code",
   "execution_count": 20,
   "id": "663abdde-882d-40fb-9959-ab58205bdcfe",
   "metadata": {},
   "outputs": [],
   "source": [
    "data1 = data3[data3['Sample_Name'].isin(['PC', 'NC']) != True].drop_duplicates()"
   ]
  },
  {
   "cell_type": "code",
   "execution_count": 21,
   "id": "93194759-3ce4-4c8a-93f9-fe918f8e3ffe",
   "metadata": {},
   "outputs": [],
   "source": [
    "dataCtrl = dataqc[dataqc['Sample_Name'].isin(['PC', 'NC']) == True]\n",
    "(dataCtrl.to_excel(f\"{glob.glob(f'{parent_dir}/**/Outputs', recursive=True)[0]}/pc-nc_QC-QA_{dt}.xlsx\"\n",
    "                     , index=False, na_rep='NA', float_format='%.1f'))"
   ]
  },
  {
   "cell_type": "code",
   "execution_count": 22,
   "id": "e63972ac-9cc8-4c40-b72f-4d8eb498a176",
   "metadata": {},
   "outputs": [
    {
     "data": {
      "text/plain": [
       "Series([], Name: Sample_Name, dtype: int64)"
      ]
     },
     "execution_count": 22,
     "metadata": {},
     "output_type": "execute_result"
    }
   ],
   "source": [
    "dataCtrl.Sample_Name.value_counts()"
   ]
  },
  {
   "cell_type": "code",
   "execution_count": 23,
   "id": "eb75d9f5-4cdd-486c-adef-0907591a568a",
   "metadata": {},
   "outputs": [],
   "source": [
    "data4 = data1[data1.duplicated('Sample_Name', False) == True]"
   ]
  },
  {
   "cell_type": "code",
   "execution_count": 24,
   "id": "6ff86d07-10df-47f6-8ec0-28f1b75df823",
   "metadata": {},
   "outputs": [
    {
     "data": {
      "text/html": [
       "<div>\n",
       "<style scoped>\n",
       "    .dataframe tbody tr th:only-of-type {\n",
       "        vertical-align: middle;\n",
       "    }\n",
       "\n",
       "    .dataframe tbody tr th {\n",
       "        vertical-align: top;\n",
       "    }\n",
       "\n",
       "    .dataframe thead th {\n",
       "        text-align: right;\n",
       "    }\n",
       "</style>\n",
       "<table border=\"1\" class=\"dataframe\">\n",
       "  <thead>\n",
       "    <tr style=\"text-align: right;\">\n",
       "      <th></th>\n",
       "      <th>Sample_Name</th>\n",
       "      <th>Reporter</th>\n",
       "      <th>CT</th>\n",
       "      <th>Ct_Mean</th>\n",
       "      <th>Well_Position</th>\n",
       "      <th>Dt_Run</th>\n",
       "    </tr>\n",
       "  </thead>\n",
       "  <tbody>\n",
       "    <tr>\n",
       "      <th>126</th>\n",
       "      <td>COVC13583</td>\n",
       "      <td>FAM</td>\n",
       "      <td>37.328472</td>\n",
       "      <td>37.328472</td>\n",
       "      <td>D7</td>\n",
       "      <td>2020-10-12 15:33:47</td>\n",
       "    </tr>\n",
       "    <tr>\n",
       "      <th>127</th>\n",
       "      <td>COVC13583</td>\n",
       "      <td>VIC</td>\n",
       "      <td>42.683975</td>\n",
       "      <td>42.683975</td>\n",
       "      <td>D7</td>\n",
       "      <td>2020-10-12 15:33:47</td>\n",
       "    </tr>\n",
       "  </tbody>\n",
       "</table>\n",
       "</div>"
      ],
      "text/plain": [
       "    Sample_Name Reporter         CT    Ct_Mean Well_Position  \\\n",
       "126   COVC13583      FAM  37.328472  37.328472            D7   \n",
       "127   COVC13583      VIC  42.683975  42.683975            D7   \n",
       "\n",
       "                 Dt_Run  \n",
       "126 2020-10-12 15:33:47  \n",
       "127 2020-10-12 15:33:47  "
      ]
     },
     "execution_count": 24,
     "metadata": {},
     "output_type": "execute_result"
    }
   ],
   "source": [
    "data4.head(2)"
   ]
  },
  {
   "cell_type": "code",
   "execution_count": 25,
   "id": "7bbdff20-d5ef-4910-930c-bb8c4ea4295d",
   "metadata": {},
   "outputs": [],
   "source": [
    "df_qc_dup = data4.groupby('Sample_Name').count()"
   ]
  },
  {
   "cell_type": "code",
   "execution_count": 26,
   "id": "8ab8b43b-9f8b-4ee3-a0b9-1a2314c10f06",
   "metadata": {},
   "outputs": [],
   "source": [
    "mask = df_qc_dup.Reporter >= 3\n",
    "mask1 = df_qc_dup.Reporter % 3 == 0\n",
    "df_qc_dup1 = df_qc_dup[mask & mask1 == True]\n",
    "# df_qc_dup1.to_excel(f\"{glob.glob(f'{parent_dir}/Outputs')[0]}/runsheet-duplicate_qc.xlsx\", index=True, float_format='%.1f')\n",
    "df_qc_dup2 = (data4[data4.Sample_Name.isin(df_qc_dup1.index) & data4.Sample_Name.str.contains('COV')]\n",
    ".sort_values(['Sample_Name', 'Dt_Run'])\n",
    ".drop_duplicates(['Sample_Name', 'Dt_Run'], keep='first'))\n",
    "(df_qc_dup2[df_qc_dup2.duplicated('Sample_Name',keep=False)]\n",
    ".to_excel(f\"{glob.glob(f'{parent_dir}/Outputs')[0]}/runsheet-duplicates-qc-{dt}.xlsx\", index=False))"
   ]
  },
  {
   "cell_type": "code",
   "execution_count": 27,
   "id": "6fc8c36d-bc09-4596-be96-63245e6b57fa",
   "metadata": {},
   "outputs": [
    {
     "data": {
      "text/html": [
       "<div>\n",
       "<style scoped>\n",
       "    .dataframe tbody tr th:only-of-type {\n",
       "        vertical-align: middle;\n",
       "    }\n",
       "\n",
       "    .dataframe tbody tr th {\n",
       "        vertical-align: top;\n",
       "    }\n",
       "\n",
       "    .dataframe thead th {\n",
       "        text-align: right;\n",
       "    }\n",
       "</style>\n",
       "<table border=\"1\" class=\"dataframe\">\n",
       "  <thead>\n",
       "    <tr style=\"text-align: right;\">\n",
       "      <th></th>\n",
       "      <th>Sample_Name</th>\n",
       "      <th>Reporter</th>\n",
       "      <th>CT</th>\n",
       "      <th>Ct_Mean</th>\n",
       "      <th>Well_Position</th>\n",
       "      <th>Dt_Run</th>\n",
       "    </tr>\n",
       "  </thead>\n",
       "  <tbody>\n",
       "    <tr>\n",
       "      <th>126</th>\n",
       "      <td>COVC13583</td>\n",
       "      <td>FAM</td>\n",
       "      <td>37.328472</td>\n",
       "      <td>37.328472</td>\n",
       "      <td>D7</td>\n",
       "      <td>2020-10-12 15:33:47</td>\n",
       "    </tr>\n",
       "    <tr>\n",
       "      <th>127</th>\n",
       "      <td>COVC13583</td>\n",
       "      <td>VIC</td>\n",
       "      <td>42.683975</td>\n",
       "      <td>42.683975</td>\n",
       "      <td>D7</td>\n",
       "      <td>2020-10-12 15:33:47</td>\n",
       "    </tr>\n",
       "  </tbody>\n",
       "</table>\n",
       "</div>"
      ],
      "text/plain": [
       "    Sample_Name Reporter         CT    Ct_Mean Well_Position  \\\n",
       "126   COVC13583      FAM  37.328472  37.328472            D7   \n",
       "127   COVC13583      VIC  42.683975  42.683975            D7   \n",
       "\n",
       "                 Dt_Run  \n",
       "126 2020-10-12 15:33:47  \n",
       "127 2020-10-12 15:33:47  "
      ]
     },
     "execution_count": 27,
     "metadata": {},
     "output_type": "execute_result"
    }
   ],
   "source": [
    "data4.head(2)"
   ]
  },
  {
   "cell_type": "code",
   "execution_count": 28,
   "id": "d8f774da-9e20-4cbc-be4c-fa1b0176aa23",
   "metadata": {},
   "outputs": [
    {
     "data": {
      "text/plain": [
       "array(['FAM', 'VIC', 'TAMRA', 'ABY'], dtype=object)"
      ]
     },
     "execution_count": 28,
     "metadata": {},
     "output_type": "execute_result"
    }
   ],
   "source": [
    "data4['Reporter'].unique()"
   ]
  },
  {
   "cell_type": "code",
   "execution_count": 29,
   "id": "3f00d350-ff5f-4197-b999-cc276d284bcd",
   "metadata": {},
   "outputs": [],
   "source": [
    "data5 = data4.assign(Sample_Name=data4['Sample_Name'].apply(lambda x: cov_names(cov_rename(x))))"
   ]
  },
  {
   "cell_type": "code",
   "execution_count": 30,
   "id": "363f8046-8659-41ab-ac65-2e875bfcdfb9",
   "metadata": {},
   "outputs": [
    {
     "data": {
      "text/html": [
       "<div>\n",
       "<style scoped>\n",
       "    .dataframe tbody tr th:only-of-type {\n",
       "        vertical-align: middle;\n",
       "    }\n",
       "\n",
       "    .dataframe tbody tr th {\n",
       "        vertical-align: top;\n",
       "    }\n",
       "\n",
       "    .dataframe thead th {\n",
       "        text-align: right;\n",
       "    }\n",
       "</style>\n",
       "<table border=\"1\" class=\"dataframe\">\n",
       "  <thead>\n",
       "    <tr style=\"text-align: right;\">\n",
       "      <th></th>\n",
       "      <th>Sample_Name</th>\n",
       "      <th>Reporter</th>\n",
       "      <th>CT</th>\n",
       "      <th>Ct_Mean</th>\n",
       "      <th>Well_Position</th>\n",
       "      <th>Dt_Run</th>\n",
       "    </tr>\n",
       "  </thead>\n",
       "  <tbody>\n",
       "    <tr>\n",
       "      <th>126</th>\n",
       "      <td>COVC13583</td>\n",
       "      <td>FAM</td>\n",
       "      <td>37.328472</td>\n",
       "      <td>37.328472</td>\n",
       "      <td>D7</td>\n",
       "      <td>2020-10-12 15:33:47</td>\n",
       "    </tr>\n",
       "    <tr>\n",
       "      <th>127</th>\n",
       "      <td>COVC13583</td>\n",
       "      <td>VIC</td>\n",
       "      <td>42.683975</td>\n",
       "      <td>42.683975</td>\n",
       "      <td>D7</td>\n",
       "      <td>2020-10-12 15:33:47</td>\n",
       "    </tr>\n",
       "    <tr>\n",
       "      <th>135</th>\n",
       "      <td>COVC13586</td>\n",
       "      <td>FAM</td>\n",
       "      <td>35.068436</td>\n",
       "      <td>35.068436</td>\n",
       "      <td>D10</td>\n",
       "      <td>2020-10-12 15:33:47</td>\n",
       "    </tr>\n",
       "    <tr>\n",
       "      <th>136</th>\n",
       "      <td>COVC13586</td>\n",
       "      <td>VIC</td>\n",
       "      <td>39.385445</td>\n",
       "      <td>39.385445</td>\n",
       "      <td>D10</td>\n",
       "      <td>2020-10-12 15:33:47</td>\n",
       "    </tr>\n",
       "    <tr>\n",
       "      <th>186</th>\n",
       "      <td>COVC13603</td>\n",
       "      <td>FAM</td>\n",
       "      <td>27.376181</td>\n",
       "      <td>27.376181</td>\n",
       "      <td>F3</td>\n",
       "      <td>2020-10-12 15:33:47</td>\n",
       "    </tr>\n",
       "  </tbody>\n",
       "</table>\n",
       "</div>"
      ],
      "text/plain": [
       "    Sample_Name Reporter         CT    Ct_Mean Well_Position  \\\n",
       "126   COVC13583      FAM  37.328472  37.328472            D7   \n",
       "127   COVC13583      VIC  42.683975  42.683975            D7   \n",
       "135   COVC13586      FAM  35.068436  35.068436           D10   \n",
       "136   COVC13586      VIC  39.385445  39.385445           D10   \n",
       "186   COVC13603      FAM  27.376181  27.376181            F3   \n",
       "\n",
       "                 Dt_Run  \n",
       "126 2020-10-12 15:33:47  \n",
       "127 2020-10-12 15:33:47  \n",
       "135 2020-10-12 15:33:47  \n",
       "136 2020-10-12 15:33:47  \n",
       "186 2020-10-12 15:33:47  "
      ]
     },
     "execution_count": 30,
     "metadata": {},
     "output_type": "execute_result"
    }
   ],
   "source": [
    "data5.head()"
   ]
  },
  {
   "cell_type": "raw",
   "id": "79de3842-6b9a-464a-b20d-26f6aa1ff1b0",
   "metadata": {},
   "source": [
    "data5.sort_values('Dt_Run', ascending=False).to_excel(f\"{glob.glob(f'{parent_dir}/Outputs')[0]}/runsheet-raw-cts.xlsx\", index=False, float_format='%.1f')"
   ]
  },
  {
   "cell_type": "code",
   "execution_count": 31,
   "id": "f000906f-e7c6-4685-8d1f-29effccfac5d",
   "metadata": {},
   "outputs": [],
   "source": [
    "data6 = (data5.sort_values(['Sample_Name', 'Reporter', 'Dt_Run'])\n",
    " .drop_duplicates(['Sample_Name', 'Reporter'], keep='last', inplace=False)) # in case of re-test, use the latest repeat"
   ]
  },
  {
   "cell_type": "code",
   "execution_count": 32,
   "id": "617835ea-d5d7-4c14-b3e8-e13e45b591de",
   "metadata": {},
   "outputs": [
    {
     "data": {
      "text/html": [
       "<div>\n",
       "<style scoped>\n",
       "    .dataframe tbody tr th:only-of-type {\n",
       "        vertical-align: middle;\n",
       "    }\n",
       "\n",
       "    .dataframe tbody tr th {\n",
       "        vertical-align: top;\n",
       "    }\n",
       "\n",
       "    .dataframe thead th {\n",
       "        text-align: right;\n",
       "    }\n",
       "</style>\n",
       "<table border=\"1\" class=\"dataframe\">\n",
       "  <thead>\n",
       "    <tr style=\"text-align: right;\">\n",
       "      <th></th>\n",
       "      <th>Sample_Name</th>\n",
       "      <th>Reporter</th>\n",
       "      <th>CT</th>\n",
       "      <th>Ct_Mean</th>\n",
       "      <th>Well_Position</th>\n",
       "      <th>Dt_Run</th>\n",
       "    </tr>\n",
       "  </thead>\n",
       "  <tbody>\n",
       "    <tr>\n",
       "      <th>75818</th>\n",
       "      <td></td>\n",
       "      <td>ABY</td>\n",
       "      <td>22.829493</td>\n",
       "      <td>22.829493</td>\n",
       "      <td>B10</td>\n",
       "      <td>NaT</td>\n",
       "    </tr>\n",
       "    <tr>\n",
       "      <th>116106</th>\n",
       "      <td></td>\n",
       "      <td>FAM</td>\n",
       "      <td>NaN</td>\n",
       "      <td>NaN</td>\n",
       "      <td>H12</td>\n",
       "      <td>NaT</td>\n",
       "    </tr>\n",
       "  </tbody>\n",
       "</table>\n",
       "</div>"
      ],
      "text/plain": [
       "       Sample_Name Reporter         CT    Ct_Mean Well_Position Dt_Run\n",
       "75818                   ABY  22.829493  22.829493           B10    NaT\n",
       "116106                  FAM        NaN        NaN           H12    NaT"
      ]
     },
     "execution_count": 32,
     "metadata": {},
     "output_type": "execute_result"
    }
   ],
   "source": [
    "data6.head(2)#[data6['Sample_Name'].str.contains('COVC') == False]#['Dt_Run'].unique()"
   ]
  },
  {
   "cell_type": "code",
   "execution_count": 33,
   "id": "17affa65-c43e-45aa-8b99-9b42ef080fe1",
   "metadata": {},
   "outputs": [],
   "source": [
    "data7 = data6.sort_values(['Sample_Name']).groupby('Sample_Name', as_index=False).mean()"
   ]
  },
  {
   "cell_type": "code",
   "execution_count": 34,
   "id": "819d726e-3c39-40a7-8784-12d6ca3d2f8d",
   "metadata": {},
   "outputs": [
    {
     "data": {
      "text/html": [
       "<div>\n",
       "<style scoped>\n",
       "    .dataframe tbody tr th:only-of-type {\n",
       "        vertical-align: middle;\n",
       "    }\n",
       "\n",
       "    .dataframe tbody tr th {\n",
       "        vertical-align: top;\n",
       "    }\n",
       "\n",
       "    .dataframe thead th {\n",
       "        text-align: right;\n",
       "    }\n",
       "</style>\n",
       "<table border=\"1\" class=\"dataframe\">\n",
       "  <thead>\n",
       "    <tr style=\"text-align: right;\">\n",
       "      <th></th>\n",
       "      <th>Sample_Name</th>\n",
       "      <th>Ct_Mean</th>\n",
       "    </tr>\n",
       "  </thead>\n",
       "  <tbody>\n",
       "    <tr>\n",
       "      <th>0</th>\n",
       "      <td></td>\n",
       "      <td>20.821227</td>\n",
       "    </tr>\n",
       "    <tr>\n",
       "      <th>1</th>\n",
       "      <td>A1</td>\n",
       "      <td>33.064911</td>\n",
       "    </tr>\n",
       "    <tr>\n",
       "      <th>2</th>\n",
       "      <td>C3</td>\n",
       "      <td>33.114729</td>\n",
       "    </tr>\n",
       "    <tr>\n",
       "      <th>3</th>\n",
       "      <td>COVC00137</td>\n",
       "      <td>37.646282</td>\n",
       "    </tr>\n",
       "    <tr>\n",
       "      <th>4</th>\n",
       "      <td>COVC00154</td>\n",
       "      <td>35.240269</td>\n",
       "    </tr>\n",
       "  </tbody>\n",
       "</table>\n",
       "</div>"
      ],
      "text/plain": [
       "  Sample_Name    Ct_Mean\n",
       "0              20.821227\n",
       "1          A1  33.064911\n",
       "2          C3  33.114729\n",
       "3   COVC00137  37.646282\n",
       "4   COVC00154  35.240269"
      ]
     },
     "execution_count": 34,
     "metadata": {},
     "output_type": "execute_result"
    }
   ],
   "source": [
    "data7.head()"
   ]
  },
  {
   "cell_type": "code",
   "execution_count": 35,
   "id": "703e10f9-4084-4f94-a89d-e1be2986a619",
   "metadata": {},
   "outputs": [
    {
     "data": {
      "text/html": [
       "<div>\n",
       "<style scoped>\n",
       "    .dataframe tbody tr th:only-of-type {\n",
       "        vertical-align: middle;\n",
       "    }\n",
       "\n",
       "    .dataframe tbody tr th {\n",
       "        vertical-align: top;\n",
       "    }\n",
       "\n",
       "    .dataframe thead th {\n",
       "        text-align: right;\n",
       "    }\n",
       "</style>\n",
       "<table border=\"1\" class=\"dataframe\">\n",
       "  <thead>\n",
       "    <tr style=\"text-align: right;\">\n",
       "      <th></th>\n",
       "      <th>Sample_Name</th>\n",
       "      <th>Ct_Mean</th>\n",
       "      <th>Well_Position</th>\n",
       "      <th>Dt_Run</th>\n",
       "    </tr>\n",
       "  </thead>\n",
       "  <tbody>\n",
       "    <tr>\n",
       "      <th>0</th>\n",
       "      <td></td>\n",
       "      <td>20.821227</td>\n",
       "      <td>H12</td>\n",
       "      <td>NaT</td>\n",
       "    </tr>\n",
       "    <tr>\n",
       "      <th>1</th>\n",
       "      <td>A1</td>\n",
       "      <td>33.064911</td>\n",
       "      <td>D1</td>\n",
       "      <td>2021-06-30 18:48:52</td>\n",
       "    </tr>\n",
       "    <tr>\n",
       "      <th>2</th>\n",
       "      <td>C3</td>\n",
       "      <td>33.114729</td>\n",
       "      <td>D3</td>\n",
       "      <td>2021-06-30 18:48:52</td>\n",
       "    </tr>\n",
       "    <tr>\n",
       "      <th>3</th>\n",
       "      <td>COVC00137</td>\n",
       "      <td>37.646282</td>\n",
       "      <td>D9</td>\n",
       "      <td>2020-06-03 17:04:05</td>\n",
       "    </tr>\n",
       "    <tr>\n",
       "      <th>4</th>\n",
       "      <td>COVC00154</td>\n",
       "      <td>35.240269</td>\n",
       "      <td>F2</td>\n",
       "      <td>2020-06-03 17:04:05</td>\n",
       "    </tr>\n",
       "    <tr>\n",
       "      <th>...</th>\n",
       "      <td>...</td>\n",
       "      <td>...</td>\n",
       "      <td>...</td>\n",
       "      <td>...</td>\n",
       "    </tr>\n",
       "    <tr>\n",
       "      <th>7484</th>\n",
       "      <td>SEWAGE2</td>\n",
       "      <td>37.252859</td>\n",
       "      <td>H2</td>\n",
       "      <td>2021-04-08 15:47:49</td>\n",
       "    </tr>\n",
       "    <tr>\n",
       "      <th>7485</th>\n",
       "      <td>STD1_2X10^4</td>\n",
       "      <td>24.886887</td>\n",
       "      <td>G1</td>\n",
       "      <td>2021-04-07 15:53:47</td>\n",
       "    </tr>\n",
       "    <tr>\n",
       "      <th>7486</th>\n",
       "      <td>STD3_2X10^2</td>\n",
       "      <td>31.178442</td>\n",
       "      <td>F3</td>\n",
       "      <td>2021-04-07 15:53:47</td>\n",
       "    </tr>\n",
       "    <tr>\n",
       "      <th>7487</th>\n",
       "      <td>STD4_2X10^1</td>\n",
       "      <td>33.965820</td>\n",
       "      <td>F4</td>\n",
       "      <td>2021-04-07 15:53:47</td>\n",
       "    </tr>\n",
       "    <tr>\n",
       "      <th>7488</th>\n",
       "      <td>STD5_2X10^0</td>\n",
       "      <td>36.818306</td>\n",
       "      <td>H3</td>\n",
       "      <td>2021-04-07 15:53:47</td>\n",
       "    </tr>\n",
       "  </tbody>\n",
       "</table>\n",
       "<p>7489 rows × 4 columns</p>\n",
       "</div>"
      ],
      "text/plain": [
       "      Sample_Name    Ct_Mean Well_Position              Dt_Run\n",
       "0                  20.821227           H12                 NaT\n",
       "1              A1  33.064911            D1 2021-06-30 18:48:52\n",
       "2              C3  33.114729            D3 2021-06-30 18:48:52\n",
       "3       COVC00137  37.646282            D9 2020-06-03 17:04:05\n",
       "4       COVC00154  35.240269            F2 2020-06-03 17:04:05\n",
       "...           ...        ...           ...                 ...\n",
       "7484      SEWAGE2  37.252859            H2 2021-04-08 15:47:49\n",
       "7485  STD1_2X10^4  24.886887            G1 2021-04-07 15:53:47\n",
       "7486  STD3_2X10^2  31.178442            F3 2021-04-07 15:53:47\n",
       "7487  STD4_2X10^1  33.965820            F4 2021-04-07 15:53:47\n",
       "7488  STD5_2X10^0  36.818306            H3 2021-04-07 15:53:47\n",
       "\n",
       "[7489 rows x 4 columns]"
      ]
     },
     "execution_count": 35,
     "metadata": {},
     "output_type": "execute_result"
    }
   ],
   "source": [
    "data8 = data7.merge(data6[['Sample_Name', 'Well_Position', 'Dt_Run']].sort_values(['Sample_Name', 'Dt_Run']).drop_duplicates('Sample_Name', keep='last'),\n",
    "                   how='left', on='Sample_Name')#.to_frame()\n",
    "data8"
   ]
  },
  {
   "cell_type": "code",
   "execution_count": 36,
   "id": "4ec1c526-2d4b-4038-98e4-2eb10566a2c1",
   "metadata": {},
   "outputs": [],
   "source": [
    "data9 = data8.assign(Well_Position=data8.Well_Position.apply(lambda x: '0'.join(list(x)) if len(x.strip()) <= 2 else x))"
   ]
  },
  {
   "cell_type": "code",
   "execution_count": 37,
   "id": "da48825c-6341-4a04-8ca6-d4a5a73a94d0",
   "metadata": {},
   "outputs": [],
   "source": [
    "df_cts = data9[data9['Sample_Name'].str.contains('COV') == True]"
   ]
  },
  {
   "cell_type": "code",
   "execution_count": 38,
   "id": "235ecfd7-8c98-4480-be66-2746c51d0688",
   "metadata": {},
   "outputs": [],
   "source": [
    "data9.sort_values(['Dt_Run', 'Sample_Name']).to_excel(f\"{glob.glob(f'{parent_dir}/Outputs')[0]}/runsheet-cts.xlsx\", index=False, float_format='%.1f')"
   ]
  }
 ],
 "metadata": {
  "kernelspec": {
   "display_name": "Python 3",
   "language": "python",
   "name": "python3"
  },
  "language_info": {
   "codemirror_mode": {
    "name": "ipython",
    "version": 3
   },
   "file_extension": ".py",
   "mimetype": "text/x-python",
   "name": "python",
   "nbconvert_exporter": "python",
   "pygments_lexer": "ipython3",
   "version": "3.8.10"
  }
 },
 "nbformat": 4,
 "nbformat_minor": 5
}
