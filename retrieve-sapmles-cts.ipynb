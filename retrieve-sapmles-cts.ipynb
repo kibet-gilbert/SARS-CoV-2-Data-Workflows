{
 "cells": [
  {
   "cell_type": "code",
   "execution_count": 31,
   "id": "64d5fec1-3900-4625-821c-0b0ddc152c37",
   "metadata": {},
   "outputs": [],
   "source": [
    "import pandas as pd\n",
    "import numpy as np\n",
    "import os, sys, regex"
   ]
  },
  {
   "cell_type": "code",
   "execution_count": 32,
   "id": "5b2bb802-d250-44ce-a9a9-6b3ae81dbfc8",
   "metadata": {},
   "outputs": [],
   "source": [
    "dala = os.getenv('HOME')"
   ]
  },
  {
   "cell_type": "code",
   "execution_count": 33,
   "id": "14ed0a11-8ed7-49eb-9461-1c68b9f121e3",
   "metadata": {},
   "outputs": [],
   "source": [
    "base_dir = f'{dala}/Documents/RunSheets/AllRunsheets'"
   ]
  },
  {
   "cell_type": "code",
   "execution_count": 34,
   "id": "e78bf069-8d85-49c0-929c-c47bf2f3de73",
   "metadata": {
    "tags": []
   },
   "outputs": [],
   "source": [
    "cols1 = ['Sample_Name', 'Reporter', 'CT', 'Ct_Mean']\n",
    "\n",
    "data = pd.DataFrame(columns=cols1)\n",
    "data_list = []\n",
    "for file in os.listdir(base_dir):\n",
    "    if file.endswith('.xls'):\n",
    "        data_list.append(file)\n",
    "    pass\n",
    "sheets = sorted(data_list)"
   ]
  },
  {
   "cell_type": "code",
   "execution_count": 35,
   "id": "eac2c5b2-9373-473f-a531-bfd6db8dd5dc",
   "metadata": {},
   "outputs": [
    {
     "data": {
      "text/plain": [
       "428"
      ]
     },
     "execution_count": 35,
     "metadata": {},
     "output_type": "execute_result"
    }
   ],
   "source": [
    "len(np.unique(np.array(sheets)))"
   ]
  },
  {
   "cell_type": "code",
   "execution_count": 36,
   "id": "84da2d80-5f1e-4a31-b19a-e19ee1c29a8a",
   "metadata": {},
   "outputs": [
    {
     "data": {
      "text/plain": [
       "'2020-10-29 15:46:45'"
      ]
     },
     "execution_count": 36,
     "metadata": {},
     "output_type": "execute_result"
    }
   ],
   "source": [
    "' '.join('2020-10-29 15:46:45 PM EAT'.split(' ')[:-2])"
   ]
  },
  {
   "cell_type": "code",
   "execution_count": 37,
   "id": "4159ac15-87a8-4935-9994-23fd7d11ddbd",
   "metadata": {},
   "outputs": [
    {
     "data": {
      "text/plain": [
       "Timestamp('2020-10-29 15:46:45')"
      ]
     },
     "execution_count": 37,
     "metadata": {},
     "output_type": "execute_result"
    }
   ],
   "source": [
    "pd.to_datetime(' '.join('2020-10-29 15:46:45 PM EAT'.split(' ')[:-2]), yearfirst=True)"
   ]
  },
  {
   "cell_type": "code",
   "execution_count": 38,
   "id": "31da7974-189f-47a7-a0aa-212e8ec93b54",
   "metadata": {},
   "outputs": [],
   "source": [
    "cols2 = ['Sample Name', 'Reporter', 'CT', 'Ct Mean', 'Cт', 'Cт Mean']\n",
    "\n",
    "counts = 0\n",
    "\n",
    "for sheet in sheets:\n",
    "    df = pd.read_excel(f'{base_dir}/{sheet}')\n",
    "    count2 = 0\n",
    "#     print(sheet)\n",
    "    for row in df.itertuples():\n",
    "        count2 += 1\n",
    "        if row[1] == 'Experiment Run End Time':\n",
    "            expt_run_date = pd.to_datetime(' '.join(row[2].split(' ')[:-2]), yearfirst=True)\n",
    "        elif row[1] == 'Well':\n",
    "            df = pd.read_excel(f'{base_dir}/{sheet}', 'Results', header=count2)\n",
    "            cols3 = list(set(df.columns) & set(cols2))\n",
    "#             print(cols3)\n",
    "#             print(list(df.columns))\n",
    "            df2 = df[sorted(cols3)]\n",
    "            df2.columns = sorted(cols1)\n",
    "            df3 = df2.assign(Dt_Run=expt_run_date)\n",
    "            data = data.append(df3, ignore_index=True)\n",
    "            counts += 1\n",
    "            break\n",
    "        else: pass"
   ]
  },
  {
   "cell_type": "code",
   "execution_count": 39,
   "id": "70d0504a-4ccf-4db2-adc9-2de3cd5b9b9f",
   "metadata": {},
   "outputs": [
    {
     "name": "stdout",
     "output_type": "stream",
     "text": [
      "number of sheets in folder: 428\n",
      "data rows: 86834\n",
      "sheets processed: 428\n"
     ]
    }
   ],
   "source": [
    "print(f'number of sheets in folder: {len(sheets)}')\n",
    "print(f'data rows: {data.shape[0]}')\n",
    "print(f'sheets processed: {counts}')"
   ]
  },
  {
   "cell_type": "code",
   "execution_count": 40,
   "id": "647c0a65-6313-4328-b411-c05000a339c3",
   "metadata": {},
   "outputs": [
    {
     "data": {
      "text/html": [
       "<div>\n",
       "<style scoped>\n",
       "    .dataframe tbody tr th:only-of-type {\n",
       "        vertical-align: middle;\n",
       "    }\n",
       "\n",
       "    .dataframe tbody tr th {\n",
       "        vertical-align: top;\n",
       "    }\n",
       "\n",
       "    .dataframe thead th {\n",
       "        text-align: right;\n",
       "    }\n",
       "</style>\n",
       "<table border=\"1\" class=\"dataframe\">\n",
       "  <thead>\n",
       "    <tr style=\"text-align: right;\">\n",
       "      <th></th>\n",
       "      <th>Sample_Name</th>\n",
       "      <th>Reporter</th>\n",
       "      <th>CT</th>\n",
       "      <th>Ct_Mean</th>\n",
       "      <th>Dt_Run</th>\n",
       "    </tr>\n",
       "  </thead>\n",
       "  <tbody>\n",
       "    <tr>\n",
       "      <th>0</th>\n",
       "      <td>COVC 22771</td>\n",
       "      <td>FAM</td>\n",
       "      <td>Undetermined</td>\n",
       "      <td>NaN</td>\n",
       "      <td>2021-01-01 18:53:31</td>\n",
       "    </tr>\n",
       "    <tr>\n",
       "      <th>1</th>\n",
       "      <td>COVC 22771</td>\n",
       "      <td>VIC</td>\n",
       "      <td>Undetermined</td>\n",
       "      <td>NaN</td>\n",
       "      <td>2021-01-01 18:53:31</td>\n",
       "    </tr>\n",
       "    <tr>\n",
       "      <th>2</th>\n",
       "      <td>COVC 22771</td>\n",
       "      <td>CY5</td>\n",
       "      <td>27.861502</td>\n",
       "      <td>27.861502</td>\n",
       "      <td>2021-01-01 18:53:31</td>\n",
       "    </tr>\n",
       "    <tr>\n",
       "      <th>3</th>\n",
       "      <td>COVC 22772</td>\n",
       "      <td>FAM</td>\n",
       "      <td>Undetermined</td>\n",
       "      <td>NaN</td>\n",
       "      <td>2021-01-01 18:53:31</td>\n",
       "    </tr>\n",
       "    <tr>\n",
       "      <th>4</th>\n",
       "      <td>COVC 22772</td>\n",
       "      <td>VIC</td>\n",
       "      <td>Undetermined</td>\n",
       "      <td>NaN</td>\n",
       "      <td>2021-01-01 18:53:31</td>\n",
       "    </tr>\n",
       "  </tbody>\n",
       "</table>\n",
       "</div>"
      ],
      "text/plain": [
       "  Sample_Name Reporter            CT    Ct_Mean              Dt_Run\n",
       "0  COVC 22771      FAM  Undetermined        NaN 2021-01-01 18:53:31\n",
       "1  COVC 22771      VIC  Undetermined        NaN 2021-01-01 18:53:31\n",
       "2  COVC 22771      CY5     27.861502  27.861502 2021-01-01 18:53:31\n",
       "3  COVC 22772      FAM  Undetermined        NaN 2021-01-01 18:53:31\n",
       "4  COVC 22772      VIC  Undetermined        NaN 2021-01-01 18:53:31"
      ]
     },
     "execution_count": 40,
     "metadata": {},
     "output_type": "execute_result"
    }
   ],
   "source": [
    "data.head()"
   ]
  },
  {
   "cell_type": "code",
   "execution_count": 41,
   "id": "9e935690-e9c7-4212-9f42-26dd8636b9d0",
   "metadata": {},
   "outputs": [
    {
     "name": "stdout",
     "output_type": "stream",
     "text": [
      "<class 'pandas.core.frame.DataFrame'>\n",
      "RangeIndex: 86834 entries, 0 to 86833\n",
      "Data columns (total 5 columns):\n",
      " #   Column       Non-Null Count  Dtype         \n",
      "---  ------       --------------  -----         \n",
      " 0   Sample_Name  85355 non-null  object        \n",
      " 1   Reporter     85555 non-null  object        \n",
      " 2   CT           85264 non-null  object        \n",
      " 3   Ct_Mean      40290 non-null  float64       \n",
      " 4   Dt_Run       85734 non-null  datetime64[ns]\n",
      "dtypes: datetime64[ns](1), float64(1), object(3)\n",
      "memory usage: 3.3+ MB\n"
     ]
    }
   ],
   "source": [
    "data.info()#.nunique()#.head(15)"
   ]
  },
  {
   "cell_type": "code",
   "execution_count": 42,
   "id": "f3d257c2-3fad-43ee-9f02-9b628866a5f1",
   "metadata": {},
   "outputs": [],
   "source": [
    "# undetermined_ids = list(data[data['CT'] == 'Undetermined']['Sample_Name'].unique())#.astype(list)"
   ]
  },
  {
   "cell_type": "code",
   "execution_count": 43,
   "id": "08cb04a6-bf7e-4465-8c57-d6668b8ccd69",
   "metadata": {},
   "outputs": [],
   "source": [
    "data2 = data[data['CT'] != 'Undetermined']"
   ]
  },
  {
   "cell_type": "code",
   "execution_count": 44,
   "id": "74fa4ea7-fd9d-45ab-88be-928870b84086",
   "metadata": {},
   "outputs": [],
   "source": [
    "data3 = data2[data2['Reporter'].isin(['FAM', 'VIC', 'ABY']) == True]"
   ]
  },
  {
   "cell_type": "code",
   "execution_count": 45,
   "id": "663abdde-882d-40fb-9959-ab58205bdcfe",
   "metadata": {},
   "outputs": [],
   "source": [
    "data1 = data3[data3['Sample_Name'].isin(['PC', 'NC']) != True]"
   ]
  },
  {
   "cell_type": "code",
   "execution_count": 46,
   "id": "eb75d9f5-4cdd-486c-adef-0907591a568a",
   "metadata": {},
   "outputs": [],
   "source": [
    "data4 = data1[data1.duplicated('Sample_Name', False) == True]"
   ]
  },
  {
   "cell_type": "code",
   "execution_count": 47,
   "id": "6fc8c36d-bc09-4596-be96-63245e6b57fa",
   "metadata": {},
   "outputs": [
    {
     "data": {
      "text/html": [
       "<div>\n",
       "<style scoped>\n",
       "    .dataframe tbody tr th:only-of-type {\n",
       "        vertical-align: middle;\n",
       "    }\n",
       "\n",
       "    .dataframe tbody tr th {\n",
       "        vertical-align: top;\n",
       "    }\n",
       "\n",
       "    .dataframe thead th {\n",
       "        text-align: right;\n",
       "    }\n",
       "</style>\n",
       "<table border=\"1\" class=\"dataframe\">\n",
       "  <thead>\n",
       "    <tr style=\"text-align: right;\">\n",
       "      <th></th>\n",
       "      <th>Sample_Name</th>\n",
       "      <th>Reporter</th>\n",
       "      <th>CT</th>\n",
       "      <th>Ct_Mean</th>\n",
       "      <th>Dt_Run</th>\n",
       "    </tr>\n",
       "  </thead>\n",
       "  <tbody>\n",
       "    <tr>\n",
       "      <th>12</th>\n",
       "      <td>COVC 22775</td>\n",
       "      <td>FAM</td>\n",
       "      <td>30.944201</td>\n",
       "      <td>30.944201</td>\n",
       "      <td>2021-01-01 18:53:31</td>\n",
       "    </tr>\n",
       "    <tr>\n",
       "      <th>13</th>\n",
       "      <td>COVC 22775</td>\n",
       "      <td>VIC</td>\n",
       "      <td>33.318077</td>\n",
       "      <td>33.318077</td>\n",
       "      <td>2021-01-01 18:53:31</td>\n",
       "    </tr>\n",
       "    <tr>\n",
       "      <th>15</th>\n",
       "      <td>COVC 22776</td>\n",
       "      <td>FAM</td>\n",
       "      <td>27.315727</td>\n",
       "      <td>27.315727</td>\n",
       "      <td>2021-01-01 18:53:31</td>\n",
       "    </tr>\n",
       "    <tr>\n",
       "      <th>16</th>\n",
       "      <td>COVC 22776</td>\n",
       "      <td>VIC</td>\n",
       "      <td>30.182444</td>\n",
       "      <td>30.182444</td>\n",
       "      <td>2021-01-01 18:53:31</td>\n",
       "    </tr>\n",
       "    <tr>\n",
       "      <th>18</th>\n",
       "      <td>COVC 22777</td>\n",
       "      <td>FAM</td>\n",
       "      <td>27.839359</td>\n",
       "      <td>27.839359</td>\n",
       "      <td>2021-01-01 18:53:31</td>\n",
       "    </tr>\n",
       "    <tr>\n",
       "      <th>19</th>\n",
       "      <td>COVC 22777</td>\n",
       "      <td>VIC</td>\n",
       "      <td>30.251589</td>\n",
       "      <td>30.251589</td>\n",
       "      <td>2021-01-01 18:53:31</td>\n",
       "    </tr>\n",
       "    <tr>\n",
       "      <th>27</th>\n",
       "      <td>COVC 22434-PC</td>\n",
       "      <td>FAM</td>\n",
       "      <td>30.890799</td>\n",
       "      <td>30.890799</td>\n",
       "      <td>2021-01-01 18:53:31</td>\n",
       "    </tr>\n",
       "    <tr>\n",
       "      <th>28</th>\n",
       "      <td>COVC 22434-PC</td>\n",
       "      <td>VIC</td>\n",
       "      <td>32.892776</td>\n",
       "      <td>32.892776</td>\n",
       "      <td>2021-01-01 18:53:31</td>\n",
       "    </tr>\n",
       "    <tr>\n",
       "      <th>45</th>\n",
       "      <td>COVC22918</td>\n",
       "      <td>FAM</td>\n",
       "      <td>39.543823</td>\n",
       "      <td>39.543823</td>\n",
       "      <td>2021-02-01 17:26:49</td>\n",
       "    </tr>\n",
       "    <tr>\n",
       "      <th>46</th>\n",
       "      <td>COVC22918</td>\n",
       "      <td>VIC</td>\n",
       "      <td>40.423973</td>\n",
       "      <td>40.423973</td>\n",
       "      <td>2021-02-01 17:26:49</td>\n",
       "    </tr>\n",
       "  </tbody>\n",
       "</table>\n",
       "</div>"
      ],
      "text/plain": [
       "      Sample_Name Reporter         CT    Ct_Mean              Dt_Run\n",
       "12     COVC 22775      FAM  30.944201  30.944201 2021-01-01 18:53:31\n",
       "13     COVC 22775      VIC  33.318077  33.318077 2021-01-01 18:53:31\n",
       "15     COVC 22776      FAM  27.315727  27.315727 2021-01-01 18:53:31\n",
       "16     COVC 22776      VIC  30.182444  30.182444 2021-01-01 18:53:31\n",
       "18     COVC 22777      FAM  27.839359  27.839359 2021-01-01 18:53:31\n",
       "19     COVC 22777      VIC  30.251589  30.251589 2021-01-01 18:53:31\n",
       "27  COVC 22434-PC      FAM  30.890799  30.890799 2021-01-01 18:53:31\n",
       "28  COVC 22434-PC      VIC  32.892776  32.892776 2021-01-01 18:53:31\n",
       "45      COVC22918      FAM  39.543823  39.543823 2021-02-01 17:26:49\n",
       "46      COVC22918      VIC  40.423973  40.423973 2021-02-01 17:26:49"
      ]
     },
     "execution_count": 47,
     "metadata": {},
     "output_type": "execute_result"
    }
   ],
   "source": [
    "data4.head(10)"
   ]
  },
  {
   "cell_type": "code",
   "execution_count": 48,
   "id": "1cabf184-3b47-4175-945c-63d15adb0d7c",
   "metadata": {},
   "outputs": [],
   "source": [
    "def get_upper_alpha_seq():\n",
    "    letters = []\n",
    "    for c in range(65, 91):\n",
    "        letters.append(chr(c))\n",
    "    return letters"
   ]
  },
  {
   "cell_type": "raw",
   "id": "5a544c3b-3448-4605-916b-ee90b9269c54",
   "metadata": {},
   "source": [
    "for c in range(32, 124):\n",
    "        print(chr(c), end='')"
   ]
  },
  {
   "cell_type": "code",
   "execution_count": 49,
   "id": "7fd41f71-6a06-42d3-ad8f-bfbd6fdaae32",
   "metadata": {},
   "outputs": [],
   "source": [
    "def cov_rename(x):\n",
    "    try:\n",
    "        if 'COV' not in x and '-R' in x:\n",
    "            x = x.replace('-R', '')\n",
    "        if 'COV' in x and 'COVC' not in x:\n",
    "            x = x.replace('COV', 'COVC')\n",
    "        int(x)\n",
    "        x = str(x).replace(str(x), f'COVC{str(x)}')\n",
    "    except (ValueError, AttributeError, TypeError): x = str(x).replace(' ', '')\n",
    "    return x"
   ]
  },
  {
   "cell_type": "raw",
   "id": "e35d9bc0-cd48-4dd3-97c1-afcd6d29df07",
   "metadata": {},
   "source": [
    "def cov_rename(x):\n",
    "    if 'COV' in str(x) and 'COVC' not in str(x):\n",
    "        return str(x).replace('COV', 'COVC')\n",
    "    return x"
   ]
  },
  {
   "cell_type": "code",
   "execution_count": 50,
   "id": "f5509031-0758-4a71-9129-0f1c2375142b",
   "metadata": {},
   "outputs": [],
   "source": [
    "def cov_names(x):\n",
    "    cov_id = str(x).upper().replace(' ', '').rstrip(f'#-_{get_upper_alpha_seq()}')\n",
    "    if len(cov_id) == 8:\n",
    "        return cov_id.replace('COVC', 'COVC0')\n",
    "    elif len(cov_id) == 7:\n",
    "        return cov_id.replace('COVC', 'COVC00')\n",
    "    elif len(cov_id) == 6:\n",
    "        return cov_id.replace('COVC', 'COVC000')\n",
    "    elif len(cov_id) == 5:\n",
    "        return cov_id.replace('COVC', 'COVC0000')\n",
    "    return cov_id"
   ]
  },
  {
   "cell_type": "code",
   "execution_count": 51,
   "id": "d8f774da-9e20-4cbc-be4c-fa1b0176aa23",
   "metadata": {},
   "outputs": [
    {
     "data": {
      "text/plain": [
       "array(['FAM', 'VIC', 'ABY'], dtype=object)"
      ]
     },
     "execution_count": 51,
     "metadata": {},
     "output_type": "execute_result"
    }
   ],
   "source": [
    "data4['Reporter'].unique()"
   ]
  },
  {
   "cell_type": "code",
   "execution_count": 52,
   "id": "3f00d350-ff5f-4197-b999-cc276d284bcd",
   "metadata": {},
   "outputs": [],
   "source": [
    "data5 = data4.assign(Sample_Name=data4['Sample_Name'].apply(lambda x: cov_names(cov_rename(x))))"
   ]
  },
  {
   "cell_type": "code",
   "execution_count": 53,
   "id": "363f8046-8659-41ab-ac65-2e875bfcdfb9",
   "metadata": {},
   "outputs": [
    {
     "data": {
      "text/html": [
       "<div>\n",
       "<style scoped>\n",
       "    .dataframe tbody tr th:only-of-type {\n",
       "        vertical-align: middle;\n",
       "    }\n",
       "\n",
       "    .dataframe tbody tr th {\n",
       "        vertical-align: top;\n",
       "    }\n",
       "\n",
       "    .dataframe thead th {\n",
       "        text-align: right;\n",
       "    }\n",
       "</style>\n",
       "<table border=\"1\" class=\"dataframe\">\n",
       "  <thead>\n",
       "    <tr style=\"text-align: right;\">\n",
       "      <th></th>\n",
       "      <th>Sample_Name</th>\n",
       "      <th>Reporter</th>\n",
       "      <th>CT</th>\n",
       "      <th>Ct_Mean</th>\n",
       "      <th>Dt_Run</th>\n",
       "    </tr>\n",
       "  </thead>\n",
       "  <tbody>\n",
       "    <tr>\n",
       "      <th>12</th>\n",
       "      <td>COVC22775</td>\n",
       "      <td>FAM</td>\n",
       "      <td>30.944201</td>\n",
       "      <td>30.944201</td>\n",
       "      <td>2021-01-01 18:53:31</td>\n",
       "    </tr>\n",
       "    <tr>\n",
       "      <th>13</th>\n",
       "      <td>COVC22775</td>\n",
       "      <td>VIC</td>\n",
       "      <td>33.318077</td>\n",
       "      <td>33.318077</td>\n",
       "      <td>2021-01-01 18:53:31</td>\n",
       "    </tr>\n",
       "    <tr>\n",
       "      <th>15</th>\n",
       "      <td>COVC22776</td>\n",
       "      <td>FAM</td>\n",
       "      <td>27.315727</td>\n",
       "      <td>27.315727</td>\n",
       "      <td>2021-01-01 18:53:31</td>\n",
       "    </tr>\n",
       "    <tr>\n",
       "      <th>16</th>\n",
       "      <td>COVC22776</td>\n",
       "      <td>VIC</td>\n",
       "      <td>30.182444</td>\n",
       "      <td>30.182444</td>\n",
       "      <td>2021-01-01 18:53:31</td>\n",
       "    </tr>\n",
       "    <tr>\n",
       "      <th>18</th>\n",
       "      <td>COVC22777</td>\n",
       "      <td>FAM</td>\n",
       "      <td>27.839359</td>\n",
       "      <td>27.839359</td>\n",
       "      <td>2021-01-01 18:53:31</td>\n",
       "    </tr>\n",
       "  </tbody>\n",
       "</table>\n",
       "</div>"
      ],
      "text/plain": [
       "   Sample_Name Reporter         CT    Ct_Mean              Dt_Run\n",
       "12   COVC22775      FAM  30.944201  30.944201 2021-01-01 18:53:31\n",
       "13   COVC22775      VIC  33.318077  33.318077 2021-01-01 18:53:31\n",
       "15   COVC22776      FAM  27.315727  27.315727 2021-01-01 18:53:31\n",
       "16   COVC22776      VIC  30.182444  30.182444 2021-01-01 18:53:31\n",
       "18   COVC22777      FAM  27.839359  27.839359 2021-01-01 18:53:31"
      ]
     },
     "execution_count": 53,
     "metadata": {},
     "output_type": "execute_result"
    }
   ],
   "source": [
    "data5.head()"
   ]
  },
  {
   "cell_type": "code",
   "execution_count": 54,
   "id": "f000906f-e7c6-4685-8d1f-29effccfac5d",
   "metadata": {},
   "outputs": [],
   "source": [
    "(data5.sort_values(['Sample_Name', 'Reporter', 'Dt_Run'])\n",
    " .drop_duplicates(['Sample_Name', 'Reporter'], keep='last', inplace=True))"
   ]
  },
  {
   "cell_type": "code",
   "execution_count": 55,
   "id": "617835ea-d5d7-4c14-b3e8-e13e45b591de",
   "metadata": {},
   "outputs": [
    {
     "data": {
      "text/html": [
       "<div>\n",
       "<style scoped>\n",
       "    .dataframe tbody tr th:only-of-type {\n",
       "        vertical-align: middle;\n",
       "    }\n",
       "\n",
       "    .dataframe tbody tr th {\n",
       "        vertical-align: top;\n",
       "    }\n",
       "\n",
       "    .dataframe thead th {\n",
       "        text-align: right;\n",
       "    }\n",
       "</style>\n",
       "<table border=\"1\" class=\"dataframe\">\n",
       "  <thead>\n",
       "    <tr style=\"text-align: right;\">\n",
       "      <th></th>\n",
       "      <th>Sample_Name</th>\n",
       "      <th>Reporter</th>\n",
       "      <th>CT</th>\n",
       "      <th>Ct_Mean</th>\n",
       "      <th>Dt_Run</th>\n",
       "    </tr>\n",
       "  </thead>\n",
       "  <tbody>\n",
       "    <tr>\n",
       "      <th>367</th>\n",
       "      <td>CTRL1</td>\n",
       "      <td>ABY</td>\n",
       "      <td>18.343365</td>\n",
       "      <td>18.343365</td>\n",
       "      <td>2020-07-01 17:52:31</td>\n",
       "    </tr>\n",
       "    <tr>\n",
       "      <th>371</th>\n",
       "      <td>CTRL2</td>\n",
       "      <td>ABY</td>\n",
       "      <td>10.159125</td>\n",
       "      <td>10.159125</td>\n",
       "      <td>2020-07-01 17:52:31</td>\n",
       "    </tr>\n",
       "    <tr>\n",
       "      <th>1833</th>\n",
       "      <td></td>\n",
       "      <td>FAM</td>\n",
       "      <td>37.978046</td>\n",
       "      <td>37.978046</td>\n",
       "      <td>2020-09-01 14:29:39</td>\n",
       "    </tr>\n",
       "    <tr>\n",
       "      <th>1834</th>\n",
       "      <td></td>\n",
       "      <td>VIC</td>\n",
       "      <td>40.32642</td>\n",
       "      <td>40.326420</td>\n",
       "      <td>2020-09-01 14:29:39</td>\n",
       "    </tr>\n",
       "    <tr>\n",
       "      <th>2163</th>\n",
       "      <td></td>\n",
       "      <td>FAM</td>\n",
       "      <td>32.339165</td>\n",
       "      <td>32.339165</td>\n",
       "      <td>2020-10-01 21:17:06</td>\n",
       "    </tr>\n",
       "    <tr>\n",
       "      <th>...</th>\n",
       "      <td>...</td>\n",
       "      <td>...</td>\n",
       "      <td>...</td>\n",
       "      <td>...</td>\n",
       "      <td>...</td>\n",
       "    </tr>\n",
       "    <tr>\n",
       "      <th>78077</th>\n",
       "      <td>SAMPLE7</td>\n",
       "      <td>VIC</td>\n",
       "      <td>23.493408</td>\n",
       "      <td>23.493408</td>\n",
       "      <td>2021-05-28 17:52:48</td>\n",
       "    </tr>\n",
       "    <tr>\n",
       "      <th>78079</th>\n",
       "      <td>SAMPLE8</td>\n",
       "      <td>FAM</td>\n",
       "      <td>19.822842</td>\n",
       "      <td>19.822842</td>\n",
       "      <td>2021-05-28 17:52:48</td>\n",
       "    </tr>\n",
       "    <tr>\n",
       "      <th>78080</th>\n",
       "      <td>SAMPLE8</td>\n",
       "      <td>VIC</td>\n",
       "      <td>21.812548</td>\n",
       "      <td>21.812548</td>\n",
       "      <td>2021-05-28 17:52:48</td>\n",
       "    </tr>\n",
       "    <tr>\n",
       "      <th>78094</th>\n",
       "      <td>SAMPLE13</td>\n",
       "      <td>FAM</td>\n",
       "      <td>22.972322</td>\n",
       "      <td>22.972322</td>\n",
       "      <td>2021-05-28 17:52:48</td>\n",
       "    </tr>\n",
       "    <tr>\n",
       "      <th>78095</th>\n",
       "      <td>SAMPLE13</td>\n",
       "      <td>VIC</td>\n",
       "      <td>23.929182</td>\n",
       "      <td>23.929182</td>\n",
       "      <td>2021-05-28 17:52:48</td>\n",
       "    </tr>\n",
       "  </tbody>\n",
       "</table>\n",
       "<p>584 rows × 5 columns</p>\n",
       "</div>"
      ],
      "text/plain": [
       "      Sample_Name Reporter         CT    Ct_Mean              Dt_Run\n",
       "367         CTRL1      ABY  18.343365  18.343365 2020-07-01 17:52:31\n",
       "371         CTRL2      ABY  10.159125  10.159125 2020-07-01 17:52:31\n",
       "1833                   FAM  37.978046  37.978046 2020-09-01 14:29:39\n",
       "1834                   VIC   40.32642  40.326420 2020-09-01 14:29:39\n",
       "2163                   FAM  32.339165  32.339165 2020-10-01 21:17:06\n",
       "...           ...      ...        ...        ...                 ...\n",
       "78077     SAMPLE7      VIC  23.493408  23.493408 2021-05-28 17:52:48\n",
       "78079     SAMPLE8      FAM  19.822842  19.822842 2021-05-28 17:52:48\n",
       "78080     SAMPLE8      VIC  21.812548  21.812548 2021-05-28 17:52:48\n",
       "78094    SAMPLE13      FAM  22.972322  22.972322 2021-05-28 17:52:48\n",
       "78095    SAMPLE13      VIC  23.929182  23.929182 2021-05-28 17:52:48\n",
       "\n",
       "[584 rows x 5 columns]"
      ]
     },
     "execution_count": 55,
     "metadata": {},
     "output_type": "execute_result"
    }
   ],
   "source": [
    "data5[data5['Sample_Name'].str.contains('COVC') == False]#['Dt_Run'].unique()"
   ]
  },
  {
   "cell_type": "code",
   "execution_count": 56,
   "id": "17affa65-c43e-45aa-8b99-9b42ef080fe1",
   "metadata": {},
   "outputs": [],
   "source": [
    "data6 = data5.sort_values(['Sample_Name']).groupby('Sample_Name').mean()"
   ]
  },
  {
   "cell_type": "code",
   "execution_count": 57,
   "id": "819d726e-3c39-40a7-8784-12d6ca3d2f8d",
   "metadata": {},
   "outputs": [
    {
     "data": {
      "text/html": [
       "<div>\n",
       "<style scoped>\n",
       "    .dataframe tbody tr th:only-of-type {\n",
       "        vertical-align: middle;\n",
       "    }\n",
       "\n",
       "    .dataframe tbody tr th {\n",
       "        vertical-align: top;\n",
       "    }\n",
       "\n",
       "    .dataframe thead th {\n",
       "        text-align: right;\n",
       "    }\n",
       "</style>\n",
       "<table border=\"1\" class=\"dataframe\">\n",
       "  <thead>\n",
       "    <tr style=\"text-align: right;\">\n",
       "      <th></th>\n",
       "      <th>Ct_Mean</th>\n",
       "    </tr>\n",
       "    <tr>\n",
       "      <th>Sample_Name</th>\n",
       "      <th></th>\n",
       "    </tr>\n",
       "  </thead>\n",
       "  <tbody>\n",
       "    <tr>\n",
       "      <th></th>\n",
       "      <td>27.688557</td>\n",
       "    </tr>\n",
       "    <tr>\n",
       "      <th>COVC00137</th>\n",
       "      <td>37.646282</td>\n",
       "    </tr>\n",
       "    <tr>\n",
       "      <th>COVC00154</th>\n",
       "      <td>35.240269</td>\n",
       "    </tr>\n",
       "    <tr>\n",
       "      <th>COVC00744</th>\n",
       "      <td>34.715912</td>\n",
       "    </tr>\n",
       "    <tr>\n",
       "      <th>COVC00762</th>\n",
       "      <td>36.049999</td>\n",
       "    </tr>\n",
       "    <tr>\n",
       "      <th>...</th>\n",
       "      <td>...</td>\n",
       "    </tr>\n",
       "    <tr>\n",
       "      <th>SEWAGE2</th>\n",
       "      <td>37.252859</td>\n",
       "    </tr>\n",
       "    <tr>\n",
       "      <th>STD1_2X10^4</th>\n",
       "      <td>25.153202</td>\n",
       "    </tr>\n",
       "    <tr>\n",
       "      <th>STD3_2X10^2</th>\n",
       "      <td>30.812906</td>\n",
       "    </tr>\n",
       "    <tr>\n",
       "      <th>STD4_2X10^1</th>\n",
       "      <td>34.204351</td>\n",
       "    </tr>\n",
       "    <tr>\n",
       "      <th>STD5_2X10^0</th>\n",
       "      <td>36.977416</td>\n",
       "    </tr>\n",
       "  </tbody>\n",
       "</table>\n",
       "<p>4185 rows × 1 columns</p>\n",
       "</div>"
      ],
      "text/plain": [
       "               Ct_Mean\n",
       "Sample_Name           \n",
       "             27.688557\n",
       "COVC00137    37.646282\n",
       "COVC00154    35.240269\n",
       "COVC00744    34.715912\n",
       "COVC00762    36.049999\n",
       "...                ...\n",
       "SEWAGE2      37.252859\n",
       "STD1_2X10^4  25.153202\n",
       "STD3_2X10^2  30.812906\n",
       "STD4_2X10^1  34.204351\n",
       "STD5_2X10^0  36.977416\n",
       "\n",
       "[4185 rows x 1 columns]"
      ]
     },
     "execution_count": 57,
     "metadata": {},
     "output_type": "execute_result"
    }
   ],
   "source": [
    "data6#.head()"
   ]
  },
  {
   "cell_type": "code",
   "execution_count": 58,
   "id": "0f8656f9-ed96-4d50-b42a-fe26c2a2b109",
   "metadata": {},
   "outputs": [],
   "source": [
    "df_cts = data6.reset_index()[data6.reset_index()['Sample_Name'].str.contains('COV') == True]"
   ]
  },
  {
   "cell_type": "code",
   "execution_count": 59,
   "id": "2e8038ae-1cc4-4be9-a351-f091d3c34642",
   "metadata": {},
   "outputs": [
    {
     "data": {
      "text/html": [
       "<div>\n",
       "<style scoped>\n",
       "    .dataframe tbody tr th:only-of-type {\n",
       "        vertical-align: middle;\n",
       "    }\n",
       "\n",
       "    .dataframe tbody tr th {\n",
       "        vertical-align: top;\n",
       "    }\n",
       "\n",
       "    .dataframe thead th {\n",
       "        text-align: right;\n",
       "    }\n",
       "</style>\n",
       "<table border=\"1\" class=\"dataframe\">\n",
       "  <thead>\n",
       "    <tr style=\"text-align: right;\">\n",
       "      <th></th>\n",
       "      <th>Sample_Name</th>\n",
       "      <th>Ct_Mean</th>\n",
       "    </tr>\n",
       "  </thead>\n",
       "  <tbody>\n",
       "    <tr>\n",
       "      <th>1</th>\n",
       "      <td>COVC00137</td>\n",
       "      <td>37.646282</td>\n",
       "    </tr>\n",
       "    <tr>\n",
       "      <th>2</th>\n",
       "      <td>COVC00154</td>\n",
       "      <td>35.240269</td>\n",
       "    </tr>\n",
       "    <tr>\n",
       "      <th>3</th>\n",
       "      <td>COVC00744</td>\n",
       "      <td>34.715912</td>\n",
       "    </tr>\n",
       "    <tr>\n",
       "      <th>4</th>\n",
       "      <td>COVC00762</td>\n",
       "      <td>36.049999</td>\n",
       "    </tr>\n",
       "    <tr>\n",
       "      <th>5</th>\n",
       "      <td>COVC00767</td>\n",
       "      <td>34.074465</td>\n",
       "    </tr>\n",
       "    <tr>\n",
       "      <th>...</th>\n",
       "      <td>...</td>\n",
       "      <td>...</td>\n",
       "    </tr>\n",
       "    <tr>\n",
       "      <th>4032</th>\n",
       "      <td>COVC_8176</td>\n",
       "      <td>35.033876</td>\n",
       "    </tr>\n",
       "    <tr>\n",
       "      <th>4033</th>\n",
       "      <td>COVC_8177</td>\n",
       "      <td>25.184707</td>\n",
       "    </tr>\n",
       "    <tr>\n",
       "      <th>4034</th>\n",
       "      <td>COVC_8191</td>\n",
       "      <td>23.228168</td>\n",
       "    </tr>\n",
       "    <tr>\n",
       "      <th>4035</th>\n",
       "      <td>COVC_8193</td>\n",
       "      <td>26.923361</td>\n",
       "    </tr>\n",
       "    <tr>\n",
       "      <th>4036</th>\n",
       "      <td>COVC_8209</td>\n",
       "      <td>17.952588</td>\n",
       "    </tr>\n",
       "  </tbody>\n",
       "</table>\n",
       "<p>4036 rows × 2 columns</p>\n",
       "</div>"
      ],
      "text/plain": [
       "     Sample_Name    Ct_Mean\n",
       "1      COVC00137  37.646282\n",
       "2      COVC00154  35.240269\n",
       "3      COVC00744  34.715912\n",
       "4      COVC00762  36.049999\n",
       "5      COVC00767  34.074465\n",
       "...          ...        ...\n",
       "4032   COVC_8176  35.033876\n",
       "4033   COVC_8177  25.184707\n",
       "4034   COVC_8191  23.228168\n",
       "4035   COVC_8193  26.923361\n",
       "4036   COVC_8209  17.952588\n",
       "\n",
       "[4036 rows x 2 columns]"
      ]
     },
     "execution_count": 59,
     "metadata": {},
     "output_type": "execute_result"
    }
   ],
   "source": [
    "df_cts"
   ]
  },
  {
   "cell_type": "code",
   "execution_count": 60,
   "id": "235ecfd7-8c98-4480-be66-2746c51d0688",
   "metadata": {},
   "outputs": [],
   "source": [
    "df_cts.to_excel('/home/douso/Documents/RunSheets/Cts/runsheet-cts.xlsx', index=False, float_format='%.1f')"
   ]
  }
 ],
 "metadata": {
  "kernelspec": {
   "display_name": "Python 3",
   "language": "python",
   "name": "python3"
  },
  "language_info": {
   "codemirror_mode": {
    "name": "ipython",
    "version": 3
   },
   "file_extension": ".py",
   "mimetype": "text/x-python",
   "name": "python",
   "nbconvert_exporter": "python",
   "pygments_lexer": "ipython3",
   "version": "3.8.5"
  }
 },
 "nbformat": 4,
 "nbformat_minor": 5
}
