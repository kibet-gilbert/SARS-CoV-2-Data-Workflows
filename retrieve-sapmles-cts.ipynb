{
 "cells": [
  {
   "cell_type": "code",
   "execution_count": 1,
   "id": "64d5fec1-3900-4625-821c-0b0ddc152c37",
   "metadata": {},
   "outputs": [],
   "source": [
    "import pandas as pd\n",
    "import numpy as np\n",
    "import os, sys, regex"
   ]
  },
  {
   "cell_type": "code",
   "execution_count": 2,
   "id": "5b2bb802-d250-44ce-a9a9-6b3ae81dbfc8",
   "metadata": {},
   "outputs": [],
   "source": [
    "dala = os.getenv('HOME')"
   ]
  },
  {
   "cell_type": "code",
   "execution_count": 6,
   "id": "14ed0a11-8ed7-49eb-9461-1c68b9f121e3",
   "metadata": {},
   "outputs": [],
   "source": [
    "base_dir = f'{dala}/Documents/RunSheets/AllRunSheets'"
   ]
  },
  {
   "cell_type": "code",
   "execution_count": 7,
   "id": "e78bf069-8d85-49c0-929c-c47bf2f3de73",
   "metadata": {
    "tags": []
   },
   "outputs": [],
   "source": [
    "cols1 = ['Sample_Name', 'Reporter', 'CT', 'Ct_Mean']\n",
    "\n",
    "data = pd.DataFrame(columns=cols1)\n",
    "data_list = []\n",
    "for file in os.listdir(base_dir):\n",
    "    if file.endswith('.xls'):\n",
    "        data_list.append(file)\n",
    "    pass\n",
    "sheets = sorted(data_list)"
   ]
  },
  {
   "cell_type": "code",
   "execution_count": 8,
   "id": "eac2c5b2-9373-473f-a531-bfd6db8dd5dc",
   "metadata": {},
   "outputs": [
    {
     "data": {
      "text/plain": [
       "476"
      ]
     },
     "execution_count": 8,
     "metadata": {},
     "output_type": "execute_result"
    }
   ],
   "source": [
    "len(np.unique(np.array(sheets)))"
   ]
  },
  {
   "cell_type": "code",
   "execution_count": 9,
   "id": "84da2d80-5f1e-4a31-b19a-e19ee1c29a8a",
   "metadata": {},
   "outputs": [
    {
     "data": {
      "text/plain": [
       "'2020-10-29 15:46:45'"
      ]
     },
     "execution_count": 9,
     "metadata": {},
     "output_type": "execute_result"
    }
   ],
   "source": [
    "' '.join('2020-10-29 15:46:45 PM EAT'.split(' ')[:-2])"
   ]
  },
  {
   "cell_type": "code",
   "execution_count": 10,
   "id": "4159ac15-87a8-4935-9994-23fd7d11ddbd",
   "metadata": {},
   "outputs": [
    {
     "data": {
      "text/plain": [
       "Timestamp('2020-10-29 15:46:45')"
      ]
     },
     "execution_count": 10,
     "metadata": {},
     "output_type": "execute_result"
    }
   ],
   "source": [
    "pd.to_datetime(' '.join('2020-10-29 15:46:45 PM EAT'.split(' ')[:-2]), yearfirst=True)"
   ]
  },
  {
   "cell_type": "code",
   "execution_count": 11,
   "id": "31da7974-189f-47a7-a0aa-212e8ec93b54",
   "metadata": {},
   "outputs": [],
   "source": [
    "cols2 = ['Sample Name', 'Reporter', 'CT', 'Ct Mean', 'Cт', 'Cт Mean']\n",
    "\n",
    "counts = 0\n",
    "\n",
    "for sheet in sheets:\n",
    "    df = pd.read_excel(f'{base_dir}/{sheet}')\n",
    "    count2 = 0\n",
    "#     print(sheet)\n",
    "    for row in df.itertuples():\n",
    "        count2 += 1\n",
    "        if row[1] == 'Experiment Run End Time':\n",
    "            expt_run_date = pd.to_datetime(' '.join(row[2].split(' ')[:-2]), yearfirst=True)\n",
    "        elif row[1] == 'Well':\n",
    "            df = pd.read_excel(f'{base_dir}/{sheet}', 'Results', header=count2)\n",
    "            cols3 = list(set(df.columns) & set(cols2))\n",
    "#             print(cols3)\n",
    "#             print(list(df.columns))\n",
    "            df2 = df[sorted(cols3)]\n",
    "            df2.columns = sorted(cols1)\n",
    "            df3 = df2.assign(Dt_Run=expt_run_date)\n",
    "            data = data.append(df3, ignore_index=True)\n",
    "            counts += 1\n",
    "            break\n",
    "        else: pass"
   ]
  },
  {
   "cell_type": "code",
   "execution_count": 12,
   "id": "70d0504a-4ccf-4db2-adc9-2de3cd5b9b9f",
   "metadata": {},
   "outputs": [
    {
     "name": "stdout",
     "output_type": "stream",
     "text": [
      "number of sheets in folder: 476\n",
      "data rows: 96338\n",
      "sheets processed: 476\n"
     ]
    }
   ],
   "source": [
    "print(f'number of sheets in folder: {len(sheets)}')\n",
    "print(f'data rows: {data.shape[0]}')\n",
    "print(f'sheets processed: {counts}')"
   ]
  },
  {
   "cell_type": "code",
   "execution_count": 13,
   "id": "647c0a65-6313-4328-b411-c05000a339c3",
   "metadata": {},
   "outputs": [
    {
     "data": {
      "text/html": [
       "<div>\n",
       "<style scoped>\n",
       "    .dataframe tbody tr th:only-of-type {\n",
       "        vertical-align: middle;\n",
       "    }\n",
       "\n",
       "    .dataframe tbody tr th {\n",
       "        vertical-align: top;\n",
       "    }\n",
       "\n",
       "    .dataframe thead th {\n",
       "        text-align: right;\n",
       "    }\n",
       "</style>\n",
       "<table border=\"1\" class=\"dataframe\">\n",
       "  <thead>\n",
       "    <tr style=\"text-align: right;\">\n",
       "      <th></th>\n",
       "      <th>Sample_Name</th>\n",
       "      <th>Reporter</th>\n",
       "      <th>CT</th>\n",
       "      <th>Ct_Mean</th>\n",
       "      <th>Dt_Run</th>\n",
       "    </tr>\n",
       "  </thead>\n",
       "  <tbody>\n",
       "    <tr>\n",
       "      <th>0</th>\n",
       "      <td>COVC 13541</td>\n",
       "      <td>FAM</td>\n",
       "      <td>Undetermined</td>\n",
       "      <td>NaN</td>\n",
       "      <td>2020-10-12 15:33:47</td>\n",
       "    </tr>\n",
       "    <tr>\n",
       "      <th>1</th>\n",
       "      <td>COVC 13541</td>\n",
       "      <td>VIC</td>\n",
       "      <td>Undetermined</td>\n",
       "      <td>NaN</td>\n",
       "      <td>2020-10-12 15:33:47</td>\n",
       "    </tr>\n",
       "    <tr>\n",
       "      <th>2</th>\n",
       "      <td>COVC 13541</td>\n",
       "      <td>CY5</td>\n",
       "      <td>21.914249</td>\n",
       "      <td>21.914249</td>\n",
       "      <td>2020-10-12 15:33:47</td>\n",
       "    </tr>\n",
       "    <tr>\n",
       "      <th>3</th>\n",
       "      <td>COVC 13542</td>\n",
       "      <td>FAM</td>\n",
       "      <td>Undetermined</td>\n",
       "      <td>NaN</td>\n",
       "      <td>2020-10-12 15:33:47</td>\n",
       "    </tr>\n",
       "    <tr>\n",
       "      <th>4</th>\n",
       "      <td>COVC 13542</td>\n",
       "      <td>VIC</td>\n",
       "      <td>Undetermined</td>\n",
       "      <td>NaN</td>\n",
       "      <td>2020-10-12 15:33:47</td>\n",
       "    </tr>\n",
       "  </tbody>\n",
       "</table>\n",
       "</div>"
      ],
      "text/plain": [
       "  Sample_Name Reporter            CT    Ct_Mean              Dt_Run\n",
       "0  COVC 13541      FAM  Undetermined        NaN 2020-10-12 15:33:47\n",
       "1  COVC 13541      VIC  Undetermined        NaN 2020-10-12 15:33:47\n",
       "2  COVC 13541      CY5     21.914249  21.914249 2020-10-12 15:33:47\n",
       "3  COVC 13542      FAM  Undetermined        NaN 2020-10-12 15:33:47\n",
       "4  COVC 13542      VIC  Undetermined        NaN 2020-10-12 15:33:47"
      ]
     },
     "execution_count": 13,
     "metadata": {},
     "output_type": "execute_result"
    }
   ],
   "source": [
    "data.head()"
   ]
  },
  {
   "cell_type": "code",
   "execution_count": 14,
   "id": "9e935690-e9c7-4212-9f42-26dd8636b9d0",
   "metadata": {},
   "outputs": [
    {
     "name": "stdout",
     "output_type": "stream",
     "text": [
      "<class 'pandas.core.frame.DataFrame'>\n",
      "RangeIndex: 96338 entries, 0 to 96337\n",
      "Data columns (total 5 columns):\n",
      " #   Column       Non-Null Count  Dtype         \n",
      "---  ------       --------------  -----         \n",
      " 0   Sample_Name  94859 non-null  object        \n",
      " 1   Reporter     95057 non-null  object        \n",
      " 2   CT           94766 non-null  object        \n",
      " 3   Ct_Mean      44674 non-null  float64       \n",
      " 4   Dt_Run       95238 non-null  datetime64[ns]\n",
      "dtypes: datetime64[ns](1), float64(1), object(3)\n",
      "memory usage: 3.7+ MB\n"
     ]
    }
   ],
   "source": [
    "data.info()#.nunique()#.head(15)"
   ]
  },
  {
   "cell_type": "code",
   "execution_count": 15,
   "id": "f3d257c2-3fad-43ee-9f02-9b628866a5f1",
   "metadata": {},
   "outputs": [],
   "source": [
    "# undetermined_ids = list(data[data['CT'] == 'Undetermined']['Sample_Name'].unique())#.astype(list)"
   ]
  },
  {
   "cell_type": "code",
   "execution_count": 16,
   "id": "08cb04a6-bf7e-4465-8c57-d6668b8ccd69",
   "metadata": {},
   "outputs": [],
   "source": [
    "data2 = data[data['CT'] != 'Undetermined']"
   ]
  },
  {
   "cell_type": "code",
   "execution_count": 17,
   "id": "74fa4ea7-fd9d-45ab-88be-928870b84086",
   "metadata": {},
   "outputs": [],
   "source": [
    "data3 = data2[data2['Reporter'].isin(['FAM', 'VIC', 'ABY']) == True]"
   ]
  },
  {
   "cell_type": "code",
   "execution_count": 18,
   "id": "663abdde-882d-40fb-9959-ab58205bdcfe",
   "metadata": {},
   "outputs": [],
   "source": [
    "data1 = data3[data3['Sample_Name'].isin(['PC', 'NC']) != True]"
   ]
  },
  {
   "cell_type": "code",
   "execution_count": 19,
   "id": "eb75d9f5-4cdd-486c-adef-0907591a568a",
   "metadata": {},
   "outputs": [],
   "source": [
    "data4 = data1[data1.duplicated('Sample_Name', False) == True]"
   ]
  },
  {
   "cell_type": "code",
   "execution_count": 20,
   "id": "6fc8c36d-bc09-4596-be96-63245e6b57fa",
   "metadata": {},
   "outputs": [
    {
     "data": {
      "text/html": [
       "<div>\n",
       "<style scoped>\n",
       "    .dataframe tbody tr th:only-of-type {\n",
       "        vertical-align: middle;\n",
       "    }\n",
       "\n",
       "    .dataframe tbody tr th {\n",
       "        vertical-align: top;\n",
       "    }\n",
       "\n",
       "    .dataframe thead th {\n",
       "        text-align: right;\n",
       "    }\n",
       "</style>\n",
       "<table border=\"1\" class=\"dataframe\">\n",
       "  <thead>\n",
       "    <tr style=\"text-align: right;\">\n",
       "      <th></th>\n",
       "      <th>Sample_Name</th>\n",
       "      <th>Reporter</th>\n",
       "      <th>CT</th>\n",
       "      <th>Ct_Mean</th>\n",
       "      <th>Dt_Run</th>\n",
       "    </tr>\n",
       "  </thead>\n",
       "  <tbody>\n",
       "    <tr>\n",
       "      <th>126</th>\n",
       "      <td>COVC 13583</td>\n",
       "      <td>FAM</td>\n",
       "      <td>37.328472</td>\n",
       "      <td>37.328472</td>\n",
       "      <td>2020-10-12 15:33:47</td>\n",
       "    </tr>\n",
       "    <tr>\n",
       "      <th>127</th>\n",
       "      <td>COVC 13583</td>\n",
       "      <td>VIC</td>\n",
       "      <td>42.683975</td>\n",
       "      <td>42.683975</td>\n",
       "      <td>2020-10-12 15:33:47</td>\n",
       "    </tr>\n",
       "    <tr>\n",
       "      <th>135</th>\n",
       "      <td>COVC 13586</td>\n",
       "      <td>FAM</td>\n",
       "      <td>35.068436</td>\n",
       "      <td>35.068436</td>\n",
       "      <td>2020-10-12 15:33:47</td>\n",
       "    </tr>\n",
       "    <tr>\n",
       "      <th>136</th>\n",
       "      <td>COVC 13586</td>\n",
       "      <td>VIC</td>\n",
       "      <td>39.385445</td>\n",
       "      <td>39.385445</td>\n",
       "      <td>2020-10-12 15:33:47</td>\n",
       "    </tr>\n",
       "    <tr>\n",
       "      <th>186</th>\n",
       "      <td>COVC 13603</td>\n",
       "      <td>FAM</td>\n",
       "      <td>27.376181</td>\n",
       "      <td>27.376181</td>\n",
       "      <td>2020-10-12 15:33:47</td>\n",
       "    </tr>\n",
       "    <tr>\n",
       "      <th>187</th>\n",
       "      <td>COVC 13603</td>\n",
       "      <td>VIC</td>\n",
       "      <td>31.060112</td>\n",
       "      <td>31.060112</td>\n",
       "      <td>2020-10-12 15:33:47</td>\n",
       "    </tr>\n",
       "    <tr>\n",
       "      <th>219</th>\n",
       "      <td>COVC 13614</td>\n",
       "      <td>FAM</td>\n",
       "      <td>36.698231</td>\n",
       "      <td>36.698231</td>\n",
       "      <td>2020-10-12 15:33:47</td>\n",
       "    </tr>\n",
       "    <tr>\n",
       "      <th>231</th>\n",
       "      <td>COVC 13618</td>\n",
       "      <td>FAM</td>\n",
       "      <td>32.132778</td>\n",
       "      <td>32.132778</td>\n",
       "      <td>2020-10-12 15:33:47</td>\n",
       "    </tr>\n",
       "    <tr>\n",
       "      <th>232</th>\n",
       "      <td>COVC 13618</td>\n",
       "      <td>VIC</td>\n",
       "      <td>36.225323</td>\n",
       "      <td>36.225323</td>\n",
       "      <td>2020-10-12 15:33:47</td>\n",
       "    </tr>\n",
       "    <tr>\n",
       "      <th>261</th>\n",
       "      <td>COVC 13628</td>\n",
       "      <td>FAM</td>\n",
       "      <td>33.411869</td>\n",
       "      <td>33.411869</td>\n",
       "      <td>2020-10-12 15:33:47</td>\n",
       "    </tr>\n",
       "  </tbody>\n",
       "</table>\n",
       "</div>"
      ],
      "text/plain": [
       "    Sample_Name Reporter         CT    Ct_Mean              Dt_Run\n",
       "126  COVC 13583      FAM  37.328472  37.328472 2020-10-12 15:33:47\n",
       "127  COVC 13583      VIC  42.683975  42.683975 2020-10-12 15:33:47\n",
       "135  COVC 13586      FAM  35.068436  35.068436 2020-10-12 15:33:47\n",
       "136  COVC 13586      VIC  39.385445  39.385445 2020-10-12 15:33:47\n",
       "186  COVC 13603      FAM  27.376181  27.376181 2020-10-12 15:33:47\n",
       "187  COVC 13603      VIC  31.060112  31.060112 2020-10-12 15:33:47\n",
       "219  COVC 13614      FAM  36.698231  36.698231 2020-10-12 15:33:47\n",
       "231  COVC 13618      FAM  32.132778  32.132778 2020-10-12 15:33:47\n",
       "232  COVC 13618      VIC  36.225323  36.225323 2020-10-12 15:33:47\n",
       "261  COVC 13628      FAM  33.411869  33.411869 2020-10-12 15:33:47"
      ]
     },
     "execution_count": 20,
     "metadata": {},
     "output_type": "execute_result"
    }
   ],
   "source": [
    "data4.head(10)"
   ]
  },
  {
   "cell_type": "code",
   "execution_count": 21,
   "id": "1cabf184-3b47-4175-945c-63d15adb0d7c",
   "metadata": {},
   "outputs": [],
   "source": [
    "def get_upper_alpha_seq():\n",
    "    letters = []\n",
    "    for c in range(65, 91):\n",
    "        letters.append(chr(c))\n",
    "    return letters"
   ]
  },
  {
   "cell_type": "raw",
   "id": "5a544c3b-3448-4605-916b-ee90b9269c54",
   "metadata": {},
   "source": [
    "for c in range(32, 124):\n",
    "        print(chr(c), end='')"
   ]
  },
  {
   "cell_type": "code",
   "execution_count": 22,
   "id": "7fd41f71-6a06-42d3-ad8f-bfbd6fdaae32",
   "metadata": {},
   "outputs": [],
   "source": [
    "def cov_rename(x):\n",
    "    try:\n",
    "        if 'COV' not in x and '-R' in x:\n",
    "            x = x.replace('-R', '')\n",
    "        if 'COV' in x and 'COVC' not in x:\n",
    "            x = x.replace('COV', 'COVC')\n",
    "        int(x)\n",
    "        x = str(x).replace(str(x), f'COVC{str(x)}')\n",
    "    except (ValueError, AttributeError, TypeError): x = str(x).replace(' ', '')\n",
    "    return x"
   ]
  },
  {
   "cell_type": "raw",
   "id": "e35d9bc0-cd48-4dd3-97c1-afcd6d29df07",
   "metadata": {},
   "source": [
    "def cov_rename(x):\n",
    "    if 'COV' in str(x) and 'COVC' not in str(x):\n",
    "        return str(x).replace('COV', 'COVC')\n",
    "    return x"
   ]
  },
  {
   "cell_type": "code",
   "execution_count": 23,
   "id": "f5509031-0758-4a71-9129-0f1c2375142b",
   "metadata": {},
   "outputs": [],
   "source": [
    "def cov_names(x):\n",
    "    cov_id = str(x).upper().replace(' ', '').rstrip(f'#-_{get_upper_alpha_seq()}')\n",
    "    if len(cov_id) == 8:\n",
    "        return cov_id.replace('COVC', 'COVC0')\n",
    "    elif len(cov_id) == 7:\n",
    "        return cov_id.replace('COVC', 'COVC00')\n",
    "    elif len(cov_id) == 6:\n",
    "        return cov_id.replace('COVC', 'COVC000')\n",
    "    elif len(cov_id) == 5:\n",
    "        return cov_id.replace('COVC', 'COVC0000')\n",
    "    return cov_id"
   ]
  },
  {
   "cell_type": "code",
   "execution_count": 24,
   "id": "d8f774da-9e20-4cbc-be4c-fa1b0176aa23",
   "metadata": {},
   "outputs": [
    {
     "data": {
      "text/plain": [
       "array(['FAM', 'VIC', 'ABY'], dtype=object)"
      ]
     },
     "execution_count": 24,
     "metadata": {},
     "output_type": "execute_result"
    }
   ],
   "source": [
    "data4['Reporter'].unique()"
   ]
  },
  {
   "cell_type": "code",
   "execution_count": 25,
   "id": "3f00d350-ff5f-4197-b999-cc276d284bcd",
   "metadata": {},
   "outputs": [],
   "source": [
    "data5 = data4.assign(Sample_Name=data4['Sample_Name'].apply(lambda x: cov_names(cov_rename(x))))"
   ]
  },
  {
   "cell_type": "code",
   "execution_count": 26,
   "id": "363f8046-8659-41ab-ac65-2e875bfcdfb9",
   "metadata": {},
   "outputs": [
    {
     "data": {
      "text/html": [
       "<div>\n",
       "<style scoped>\n",
       "    .dataframe tbody tr th:only-of-type {\n",
       "        vertical-align: middle;\n",
       "    }\n",
       "\n",
       "    .dataframe tbody tr th {\n",
       "        vertical-align: top;\n",
       "    }\n",
       "\n",
       "    .dataframe thead th {\n",
       "        text-align: right;\n",
       "    }\n",
       "</style>\n",
       "<table border=\"1\" class=\"dataframe\">\n",
       "  <thead>\n",
       "    <tr style=\"text-align: right;\">\n",
       "      <th></th>\n",
       "      <th>Sample_Name</th>\n",
       "      <th>Reporter</th>\n",
       "      <th>CT</th>\n",
       "      <th>Ct_Mean</th>\n",
       "      <th>Dt_Run</th>\n",
       "    </tr>\n",
       "  </thead>\n",
       "  <tbody>\n",
       "    <tr>\n",
       "      <th>126</th>\n",
       "      <td>COVC13583</td>\n",
       "      <td>FAM</td>\n",
       "      <td>37.328472</td>\n",
       "      <td>37.328472</td>\n",
       "      <td>2020-10-12 15:33:47</td>\n",
       "    </tr>\n",
       "    <tr>\n",
       "      <th>127</th>\n",
       "      <td>COVC13583</td>\n",
       "      <td>VIC</td>\n",
       "      <td>42.683975</td>\n",
       "      <td>42.683975</td>\n",
       "      <td>2020-10-12 15:33:47</td>\n",
       "    </tr>\n",
       "    <tr>\n",
       "      <th>135</th>\n",
       "      <td>COVC13586</td>\n",
       "      <td>FAM</td>\n",
       "      <td>35.068436</td>\n",
       "      <td>35.068436</td>\n",
       "      <td>2020-10-12 15:33:47</td>\n",
       "    </tr>\n",
       "    <tr>\n",
       "      <th>136</th>\n",
       "      <td>COVC13586</td>\n",
       "      <td>VIC</td>\n",
       "      <td>39.385445</td>\n",
       "      <td>39.385445</td>\n",
       "      <td>2020-10-12 15:33:47</td>\n",
       "    </tr>\n",
       "    <tr>\n",
       "      <th>186</th>\n",
       "      <td>COVC13603</td>\n",
       "      <td>FAM</td>\n",
       "      <td>27.376181</td>\n",
       "      <td>27.376181</td>\n",
       "      <td>2020-10-12 15:33:47</td>\n",
       "    </tr>\n",
       "  </tbody>\n",
       "</table>\n",
       "</div>"
      ],
      "text/plain": [
       "    Sample_Name Reporter         CT    Ct_Mean              Dt_Run\n",
       "126   COVC13583      FAM  37.328472  37.328472 2020-10-12 15:33:47\n",
       "127   COVC13583      VIC  42.683975  42.683975 2020-10-12 15:33:47\n",
       "135   COVC13586      FAM  35.068436  35.068436 2020-10-12 15:33:47\n",
       "136   COVC13586      VIC  39.385445  39.385445 2020-10-12 15:33:47\n",
       "186   COVC13603      FAM  27.376181  27.376181 2020-10-12 15:33:47"
      ]
     },
     "execution_count": 26,
     "metadata": {},
     "output_type": "execute_result"
    }
   ],
   "source": [
    "data5.head()"
   ]
  },
  {
   "cell_type": "code",
   "execution_count": 27,
   "id": "f000906f-e7c6-4685-8d1f-29effccfac5d",
   "metadata": {},
   "outputs": [],
   "source": [
    "(data5.sort_values(['Sample_Name', 'Reporter', 'Dt_Run'])\n",
    " .drop_duplicates(['Sample_Name', 'Reporter'], keep='last', inplace=True))"
   ]
  },
  {
   "cell_type": "code",
   "execution_count": 28,
   "id": "617835ea-d5d7-4c14-b3e8-e13e45b591de",
   "metadata": {},
   "outputs": [
    {
     "data": {
      "text/html": [
       "<div>\n",
       "<style scoped>\n",
       "    .dataframe tbody tr th:only-of-type {\n",
       "        vertical-align: middle;\n",
       "    }\n",
       "\n",
       "    .dataframe tbody tr th {\n",
       "        vertical-align: top;\n",
       "    }\n",
       "\n",
       "    .dataframe thead th {\n",
       "        text-align: right;\n",
       "    }\n",
       "</style>\n",
       "<table border=\"1\" class=\"dataframe\">\n",
       "  <thead>\n",
       "    <tr style=\"text-align: right;\">\n",
       "      <th></th>\n",
       "      <th>Sample_Name</th>\n",
       "      <th>Reporter</th>\n",
       "      <th>CT</th>\n",
       "      <th>Ct_Mean</th>\n",
       "      <th>Dt_Run</th>\n",
       "    </tr>\n",
       "  </thead>\n",
       "  <tbody>\n",
       "    <tr>\n",
       "      <th>2505</th>\n",
       "      <td></td>\n",
       "      <td>FAM</td>\n",
       "      <td>39.200447</td>\n",
       "      <td>39.200447</td>\n",
       "      <td>2020-10-14 21:36:34</td>\n",
       "    </tr>\n",
       "    <tr>\n",
       "      <th>2508</th>\n",
       "      <td></td>\n",
       "      <td>FAM</td>\n",
       "      <td>30.585463</td>\n",
       "      <td>30.585463</td>\n",
       "      <td>2020-10-14 21:36:34</td>\n",
       "    </tr>\n",
       "    <tr>\n",
       "      <th>2509</th>\n",
       "      <td></td>\n",
       "      <td>VIC</td>\n",
       "      <td>30.394487</td>\n",
       "      <td>30.394487</td>\n",
       "      <td>2020-10-14 21:36:34</td>\n",
       "    </tr>\n",
       "    <tr>\n",
       "      <th>4074</th>\n",
       "      <td></td>\n",
       "      <td>FAM</td>\n",
       "      <td>30.16593</td>\n",
       "      <td>30.165930</td>\n",
       "      <td>2020-10-10 15:10:47</td>\n",
       "    </tr>\n",
       "    <tr>\n",
       "      <th>4075</th>\n",
       "      <td></td>\n",
       "      <td>VIC</td>\n",
       "      <td>31.120264</td>\n",
       "      <td>31.120264</td>\n",
       "      <td>2020-10-10 15:10:47</td>\n",
       "    </tr>\n",
       "    <tr>\n",
       "      <th>...</th>\n",
       "      <td>...</td>\n",
       "      <td>...</td>\n",
       "      <td>...</td>\n",
       "      <td>...</td>\n",
       "      <td>...</td>\n",
       "    </tr>\n",
       "    <tr>\n",
       "      <th>93388</th>\n",
       "      <td>C3</td>\n",
       "      <td>VIC</td>\n",
       "      <td>35.654247</td>\n",
       "      <td>34.974087</td>\n",
       "      <td>2021-06-30 18:48:52</td>\n",
       "    </tr>\n",
       "    <tr>\n",
       "      <th>93393</th>\n",
       "      <td>E5</td>\n",
       "      <td>FAM</td>\n",
       "      <td>33.77232</td>\n",
       "      <td>32.318531</td>\n",
       "      <td>2021-06-30 18:48:52</td>\n",
       "    </tr>\n",
       "    <tr>\n",
       "      <th>93394</th>\n",
       "      <td>E5</td>\n",
       "      <td>VIC</td>\n",
       "      <td>37.229836</td>\n",
       "      <td>35.226273</td>\n",
       "      <td>2021-06-30 18:48:52</td>\n",
       "    </tr>\n",
       "    <tr>\n",
       "      <th>93396</th>\n",
       "      <td></td>\n",
       "      <td>FAM</td>\n",
       "      <td>31.103909</td>\n",
       "      <td>29.397940</td>\n",
       "      <td>2021-06-30 18:48:52</td>\n",
       "    </tr>\n",
       "    <tr>\n",
       "      <th>93397</th>\n",
       "      <td></td>\n",
       "      <td>VIC</td>\n",
       "      <td>34.592579</td>\n",
       "      <td>32.493515</td>\n",
       "      <td>2021-06-30 18:48:52</td>\n",
       "    </tr>\n",
       "  </tbody>\n",
       "</table>\n",
       "<p>618 rows × 5 columns</p>\n",
       "</div>"
      ],
      "text/plain": [
       "      Sample_Name Reporter         CT    Ct_Mean              Dt_Run\n",
       "2505                   FAM  39.200447  39.200447 2020-10-14 21:36:34\n",
       "2508                   FAM  30.585463  30.585463 2020-10-14 21:36:34\n",
       "2509                   VIC  30.394487  30.394487 2020-10-14 21:36:34\n",
       "4074                   FAM   30.16593  30.165930 2020-10-10 15:10:47\n",
       "4075                   VIC  31.120264  31.120264 2020-10-10 15:10:47\n",
       "...           ...      ...        ...        ...                 ...\n",
       "93388          C3      VIC  35.654247  34.974087 2021-06-30 18:48:52\n",
       "93393          E5      FAM   33.77232  32.318531 2021-06-30 18:48:52\n",
       "93394          E5      VIC  37.229836  35.226273 2021-06-30 18:48:52\n",
       "93396                  FAM  31.103909  29.397940 2021-06-30 18:48:52\n",
       "93397                  VIC  34.592579  32.493515 2021-06-30 18:48:52\n",
       "\n",
       "[618 rows x 5 columns]"
      ]
     },
     "execution_count": 28,
     "metadata": {},
     "output_type": "execute_result"
    }
   ],
   "source": [
    "data5[data5['Sample_Name'].str.contains('COVC') == False]#['Dt_Run'].unique()"
   ]
  },
  {
   "cell_type": "code",
   "execution_count": 29,
   "id": "17affa65-c43e-45aa-8b99-9b42ef080fe1",
   "metadata": {},
   "outputs": [],
   "source": [
    "data6 = data5.sort_values(['Sample_Name']).groupby('Sample_Name').mean()"
   ]
  },
  {
   "cell_type": "code",
   "execution_count": 30,
   "id": "819d726e-3c39-40a7-8784-12d6ca3d2f8d",
   "metadata": {},
   "outputs": [
    {
     "data": {
      "text/html": [
       "<div>\n",
       "<style scoped>\n",
       "    .dataframe tbody tr th:only-of-type {\n",
       "        vertical-align: middle;\n",
       "    }\n",
       "\n",
       "    .dataframe tbody tr th {\n",
       "        vertical-align: top;\n",
       "    }\n",
       "\n",
       "    .dataframe thead th {\n",
       "        text-align: right;\n",
       "    }\n",
       "</style>\n",
       "<table border=\"1\" class=\"dataframe\">\n",
       "  <thead>\n",
       "    <tr style=\"text-align: right;\">\n",
       "      <th></th>\n",
       "      <th>Ct_Mean</th>\n",
       "    </tr>\n",
       "    <tr>\n",
       "      <th>Sample_Name</th>\n",
       "      <th></th>\n",
       "    </tr>\n",
       "  </thead>\n",
       "  <tbody>\n",
       "    <tr>\n",
       "      <th></th>\n",
       "      <td>28.180588</td>\n",
       "    </tr>\n",
       "    <tr>\n",
       "      <th>A1</th>\n",
       "      <td>33.064911</td>\n",
       "    </tr>\n",
       "    <tr>\n",
       "      <th>C3</th>\n",
       "      <td>33.114729</td>\n",
       "    </tr>\n",
       "    <tr>\n",
       "      <th>COVC00137</th>\n",
       "      <td>37.646282</td>\n",
       "    </tr>\n",
       "    <tr>\n",
       "      <th>COVC00154</th>\n",
       "      <td>35.240269</td>\n",
       "    </tr>\n",
       "  </tbody>\n",
       "</table>\n",
       "</div>"
      ],
      "text/plain": [
       "               Ct_Mean\n",
       "Sample_Name           \n",
       "             28.180588\n",
       "A1           33.064911\n",
       "C3           33.114729\n",
       "COVC00137    37.646282\n",
       "COVC00154    35.240269"
      ]
     },
     "execution_count": 30,
     "metadata": {},
     "output_type": "execute_result"
    }
   ],
   "source": [
    "data6.head()"
   ]
  },
  {
   "cell_type": "code",
   "execution_count": 31,
   "id": "0f8656f9-ed96-4d50-b42a-fe26c2a2b109",
   "metadata": {},
   "outputs": [],
   "source": [
    "df_cts = data6.reset_index()[data6.reset_index()['Sample_Name'].str.contains('COV') == True]"
   ]
  },
  {
   "cell_type": "code",
   "execution_count": 32,
   "id": "2e8038ae-1cc4-4be9-a351-f091d3c34642",
   "metadata": {},
   "outputs": [
    {
     "data": {
      "text/html": [
       "<div>\n",
       "<style scoped>\n",
       "    .dataframe tbody tr th:only-of-type {\n",
       "        vertical-align: middle;\n",
       "    }\n",
       "\n",
       "    .dataframe tbody tr th {\n",
       "        vertical-align: top;\n",
       "    }\n",
       "\n",
       "    .dataframe thead th {\n",
       "        text-align: right;\n",
       "    }\n",
       "</style>\n",
       "<table border=\"1\" class=\"dataframe\">\n",
       "  <thead>\n",
       "    <tr style=\"text-align: right;\">\n",
       "      <th></th>\n",
       "      <th>Sample_Name</th>\n",
       "      <th>Ct_Mean</th>\n",
       "    </tr>\n",
       "  </thead>\n",
       "  <tbody>\n",
       "    <tr>\n",
       "      <th>3</th>\n",
       "      <td>COVC00137</td>\n",
       "      <td>37.646282</td>\n",
       "    </tr>\n",
       "    <tr>\n",
       "      <th>4</th>\n",
       "      <td>COVC00154</td>\n",
       "      <td>35.240269</td>\n",
       "    </tr>\n",
       "    <tr>\n",
       "      <th>5</th>\n",
       "      <td>COVC00744</td>\n",
       "      <td>34.715912</td>\n",
       "    </tr>\n",
       "    <tr>\n",
       "      <th>6</th>\n",
       "      <td>COVC00762</td>\n",
       "      <td>36.049999</td>\n",
       "    </tr>\n",
       "    <tr>\n",
       "      <th>7</th>\n",
       "      <td>COVC00767</td>\n",
       "      <td>34.074465</td>\n",
       "    </tr>\n",
       "    <tr>\n",
       "      <th>...</th>\n",
       "      <td>...</td>\n",
       "      <td>...</td>\n",
       "    </tr>\n",
       "    <tr>\n",
       "      <th>4268</th>\n",
       "      <td>COVC_8176</td>\n",
       "      <td>35.033876</td>\n",
       "    </tr>\n",
       "    <tr>\n",
       "      <th>4269</th>\n",
       "      <td>COVC_8177</td>\n",
       "      <td>25.184707</td>\n",
       "    </tr>\n",
       "    <tr>\n",
       "      <th>4270</th>\n",
       "      <td>COVC_8191</td>\n",
       "      <td>23.228168</td>\n",
       "    </tr>\n",
       "    <tr>\n",
       "      <th>4271</th>\n",
       "      <td>COVC_8193</td>\n",
       "      <td>26.923361</td>\n",
       "    </tr>\n",
       "    <tr>\n",
       "      <th>4272</th>\n",
       "      <td>COVC_8209</td>\n",
       "      <td>17.952588</td>\n",
       "    </tr>\n",
       "  </tbody>\n",
       "</table>\n",
       "<p>4270 rows × 2 columns</p>\n",
       "</div>"
      ],
      "text/plain": [
       "     Sample_Name    Ct_Mean\n",
       "3      COVC00137  37.646282\n",
       "4      COVC00154  35.240269\n",
       "5      COVC00744  34.715912\n",
       "6      COVC00762  36.049999\n",
       "7      COVC00767  34.074465\n",
       "...          ...        ...\n",
       "4268   COVC_8176  35.033876\n",
       "4269   COVC_8177  25.184707\n",
       "4270   COVC_8191  23.228168\n",
       "4271   COVC_8193  26.923361\n",
       "4272   COVC_8209  17.952588\n",
       "\n",
       "[4270 rows x 2 columns]"
      ]
     },
     "execution_count": 32,
     "metadata": {},
     "output_type": "execute_result"
    }
   ],
   "source": [
    "df_cts"
   ]
  },
  {
   "cell_type": "code",
   "execution_count": 33,
   "id": "235ecfd7-8c98-4480-be66-2746c51d0688",
   "metadata": {},
   "outputs": [],
   "source": [
    "df_cts.to_excel('/home/douso/Documents/RunSheets/Cts/runsheet-cts.xlsx', index=False, float_format='%.1f')"
   ]
  }
 ],
 "metadata": {
  "kernelspec": {
   "display_name": "Python 3",
   "language": "python",
   "name": "python3"
  },
  "language_info": {
   "codemirror_mode": {
    "name": "ipython",
    "version": 3
   },
   "file_extension": ".py",
   "mimetype": "text/x-python",
   "name": "python",
   "nbconvert_exporter": "python",
   "pygments_lexer": "ipython3",
   "version": "3.8.10"
  }
 },
 "nbformat": 4,
 "nbformat_minor": 5
}
