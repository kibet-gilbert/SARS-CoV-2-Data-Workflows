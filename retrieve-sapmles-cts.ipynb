{
 "cells": [
  {
   "cell_type": "code",
   "execution_count": 1,
   "id": "64d5fec1-3900-4625-821c-0b0ddc152c37",
   "metadata": {},
   "outputs": [],
   "source": [
    "import pandas as pd\n",
    "import numpy as np\n",
    "import os, sys, regex"
   ]
  },
  {
   "cell_type": "code",
   "execution_count": 2,
   "id": "5b2bb802-d250-44ce-a9a9-6b3ae81dbfc8",
   "metadata": {},
   "outputs": [],
   "source": [
    "dala = os.getenv('HOME')"
   ]
  },
  {
   "cell_type": "code",
   "execution_count": 3,
   "id": "14ed0a11-8ed7-49eb-9461-1c68b9f121e3",
   "metadata": {},
   "outputs": [],
   "source": [
    "base_dir = f'{dala}/Documents/RunSheets/AllRunSheets'"
   ]
  },
  {
   "cell_type": "code",
   "execution_count": 4,
   "id": "e78bf069-8d85-49c0-929c-c47bf2f3de73",
   "metadata": {
    "tags": []
   },
   "outputs": [],
   "source": [
    "cols1 = ['Sample_Name', 'Reporter', 'CT', 'Ct_Mean', 'Well_Position']\n",
    "\n",
    "data = pd.DataFrame(columns=cols1)\n",
    "data_list = []\n",
    "for file in os.listdir(base_dir):\n",
    "    if file.endswith('.xls'):\n",
    "        data_list.append(file)\n",
    "    pass\n",
    "sheets = sorted(data_list)"
   ]
  },
  {
   "cell_type": "code",
   "execution_count": 5,
   "id": "eac2c5b2-9373-473f-a531-bfd6db8dd5dc",
   "metadata": {},
   "outputs": [
    {
     "data": {
      "text/plain": [
       "499"
      ]
     },
     "execution_count": 5,
     "metadata": {},
     "output_type": "execute_result"
    }
   ],
   "source": [
    "len(np.unique(np.array(sheets)))"
   ]
  },
  {
   "cell_type": "code",
   "execution_count": 6,
   "id": "002064ac-6d62-4019-a35d-a93bdbba2620",
   "metadata": {},
   "outputs": [
    {
     "data": {
      "text/html": [
       "<div>\n",
       "<style scoped>\n",
       "    .dataframe tbody tr th:only-of-type {\n",
       "        vertical-align: middle;\n",
       "    }\n",
       "\n",
       "    .dataframe tbody tr th {\n",
       "        vertical-align: top;\n",
       "    }\n",
       "\n",
       "    .dataframe thead th {\n",
       "        text-align: right;\n",
       "    }\n",
       "</style>\n",
       "<table border=\"1\" class=\"dataframe\">\n",
       "  <thead>\n",
       "    <tr style=\"text-align: right;\">\n",
       "      <th></th>\n",
       "      <th>Sample_Name</th>\n",
       "      <th>Reporter</th>\n",
       "      <th>CT</th>\n",
       "      <th>Ct_Mean</th>\n",
       "      <th>Well_Position</th>\n",
       "    </tr>\n",
       "  </thead>\n",
       "  <tbody>\n",
       "  </tbody>\n",
       "</table>\n",
       "</div>"
      ],
      "text/plain": [
       "Empty DataFrame\n",
       "Columns: [Sample_Name, Reporter, CT, Ct_Mean, Well_Position]\n",
       "Index: []"
      ]
     },
     "execution_count": 6,
     "metadata": {},
     "output_type": "execute_result"
    }
   ],
   "source": [
    "data.head()"
   ]
  },
  {
   "cell_type": "code",
   "execution_count": 7,
   "id": "84da2d80-5f1e-4a31-b19a-e19ee1c29a8a",
   "metadata": {},
   "outputs": [
    {
     "data": {
      "text/plain": [
       "'2020-10-29 15:46:45'"
      ]
     },
     "execution_count": 7,
     "metadata": {},
     "output_type": "execute_result"
    }
   ],
   "source": [
    "' '.join('2020-10-29 15:46:45 PM EAT'.split(' ')[:-2])"
   ]
  },
  {
   "cell_type": "code",
   "execution_count": 8,
   "id": "4159ac15-87a8-4935-9994-23fd7d11ddbd",
   "metadata": {},
   "outputs": [
    {
     "data": {
      "text/plain": [
       "Timestamp('2020-10-29 15:46:45')"
      ]
     },
     "execution_count": 8,
     "metadata": {},
     "output_type": "execute_result"
    }
   ],
   "source": [
    "pd.to_datetime(' '.join('2020-10-29 15:46:45 PM EAT'.split(' ')[:-2]), yearfirst=True)"
   ]
  },
  {
   "cell_type": "code",
   "execution_count": 9,
   "id": "31da7974-189f-47a7-a0aa-212e8ec93b54",
   "metadata": {},
   "outputs": [],
   "source": [
    "cols2 = ['Sample Name', 'Reporter', 'CT', 'Ct Mean', 'Cт', 'Cт Mean', 'Well']\n",
    "cols2b = ['Sample Name', 'Reporter', 'CT', 'Ct Mean', 'Cт', 'Cт Mean', 'Well Position']\n",
    "\n",
    "counts = 0\n",
    "\n",
    "for sheet in sheets:\n",
    "    df = pd.read_excel(f'{base_dir}/{sheet}')\n",
    "    count2 = 0\n",
    "#     print(sheet)\n",
    "    try:\n",
    "        for row in df.itertuples():\n",
    "            count2 += 1\n",
    "            if row[1] == 'Experiment Run End Time':\n",
    "                expt_run_date = pd.to_datetime(' '.join(row[2].split(' ')[:-2]), yearfirst=True)\n",
    "            if row[1] == 'Well' and row[2] != 'Well Position':\n",
    "                df = pd.read_excel(f'{base_dir}/{sheet}', 'Results', header=count2)\n",
    "                cols3 = list(set(df.columns) & set(cols2))\n",
    "    #             print(cols3)\n",
    "                df2 = df[sorted(cols3)]\n",
    "                df2.columns = sorted(cols1)\n",
    "                df3 = df2.assign(Dt_Run=expt_run_date)\n",
    "                data = data.append(df3, ignore_index=True)\n",
    "                counts += 1\n",
    "                break\n",
    "            if row[1] == 'Well' and row[2] == 'Well Position':\n",
    "                df = pd.read_excel(f'{base_dir}/{sheet}', 'Results', header=count2)\n",
    "                cols3 = list(set(df.columns) & set(cols2b))\n",
    "    #             print(cols3)\n",
    "    #             print(list(df.columns))\n",
    "                df2 = df[sorted(cols3)]\n",
    "                df2.columns = sorted(cols1)\n",
    "                df3 = df2.assign(Dt_Run=expt_run_date)\n",
    "                data = data.append(df3, ignore_index=True)\n",
    "                counts += 1\n",
    "                break\n",
    "    except:\n",
    "        print(sheet)\n",
    "        pass"
   ]
  },
  {
   "cell_type": "code",
   "execution_count": 10,
   "id": "70d0504a-4ccf-4db2-adc9-2de3cd5b9b9f",
   "metadata": {},
   "outputs": [
    {
     "name": "stdout",
     "output_type": "stream",
     "text": [
      "number of sheets in folder: 499\n",
      "data rows: 98816\n",
      "sheets processed: 499\n"
     ]
    }
   ],
   "source": [
    "print(f'number of sheets in folder: {len(sheets)}')\n",
    "print(f'data rows: {data.shape[0]}')\n",
    "print(f'sheets processed: {counts}')"
   ]
  },
  {
   "cell_type": "code",
   "execution_count": 11,
   "id": "647c0a65-6313-4328-b411-c05000a339c3",
   "metadata": {},
   "outputs": [
    {
     "data": {
      "text/html": [
       "<div>\n",
       "<style scoped>\n",
       "    .dataframe tbody tr th:only-of-type {\n",
       "        vertical-align: middle;\n",
       "    }\n",
       "\n",
       "    .dataframe tbody tr th {\n",
       "        vertical-align: top;\n",
       "    }\n",
       "\n",
       "    .dataframe thead th {\n",
       "        text-align: right;\n",
       "    }\n",
       "</style>\n",
       "<table border=\"1\" class=\"dataframe\">\n",
       "  <thead>\n",
       "    <tr style=\"text-align: right;\">\n",
       "      <th></th>\n",
       "      <th>Sample_Name</th>\n",
       "      <th>Reporter</th>\n",
       "      <th>CT</th>\n",
       "      <th>Ct_Mean</th>\n",
       "      <th>Well_Position</th>\n",
       "      <th>Dt_Run</th>\n",
       "    </tr>\n",
       "  </thead>\n",
       "  <tbody>\n",
       "    <tr>\n",
       "      <th>0</th>\n",
       "      <td>COVC 13541</td>\n",
       "      <td>FAM</td>\n",
       "      <td>Undetermined</td>\n",
       "      <td>NaN</td>\n",
       "      <td>A1</td>\n",
       "      <td>2020-10-12 15:33:47</td>\n",
       "    </tr>\n",
       "    <tr>\n",
       "      <th>1</th>\n",
       "      <td>COVC 13541</td>\n",
       "      <td>VIC</td>\n",
       "      <td>Undetermined</td>\n",
       "      <td>NaN</td>\n",
       "      <td>A1</td>\n",
       "      <td>2020-10-12 15:33:47</td>\n",
       "    </tr>\n",
       "    <tr>\n",
       "      <th>2</th>\n",
       "      <td>COVC 13541</td>\n",
       "      <td>CY5</td>\n",
       "      <td>21.914249</td>\n",
       "      <td>21.914249</td>\n",
       "      <td>A1</td>\n",
       "      <td>2020-10-12 15:33:47</td>\n",
       "    </tr>\n",
       "    <tr>\n",
       "      <th>3</th>\n",
       "      <td>COVC 13542</td>\n",
       "      <td>FAM</td>\n",
       "      <td>Undetermined</td>\n",
       "      <td>NaN</td>\n",
       "      <td>A2</td>\n",
       "      <td>2020-10-12 15:33:47</td>\n",
       "    </tr>\n",
       "    <tr>\n",
       "      <th>4</th>\n",
       "      <td>COVC 13542</td>\n",
       "      <td>VIC</td>\n",
       "      <td>Undetermined</td>\n",
       "      <td>NaN</td>\n",
       "      <td>A2</td>\n",
       "      <td>2020-10-12 15:33:47</td>\n",
       "    </tr>\n",
       "  </tbody>\n",
       "</table>\n",
       "</div>"
      ],
      "text/plain": [
       "  Sample_Name Reporter            CT    Ct_Mean Well_Position  \\\n",
       "0  COVC 13541      FAM  Undetermined        NaN            A1   \n",
       "1  COVC 13541      VIC  Undetermined        NaN            A1   \n",
       "2  COVC 13541      CY5     21.914249  21.914249            A1   \n",
       "3  COVC 13542      FAM  Undetermined        NaN            A2   \n",
       "4  COVC 13542      VIC  Undetermined        NaN            A2   \n",
       "\n",
       "               Dt_Run  \n",
       "0 2020-10-12 15:33:47  \n",
       "1 2020-10-12 15:33:47  \n",
       "2 2020-10-12 15:33:47  \n",
       "3 2020-10-12 15:33:47  \n",
       "4 2020-10-12 15:33:47  "
      ]
     },
     "execution_count": 11,
     "metadata": {},
     "output_type": "execute_result"
    }
   ],
   "source": [
    "data.head()"
   ]
  },
  {
   "cell_type": "code",
   "execution_count": 12,
   "id": "9e935690-e9c7-4212-9f42-26dd8636b9d0",
   "metadata": {},
   "outputs": [
    {
     "name": "stdout",
     "output_type": "stream",
     "text": [
      "<class 'pandas.core.frame.DataFrame'>\n",
      "RangeIndex: 98816 entries, 0 to 98815\n",
      "Data columns (total 6 columns):\n",
      " #   Column         Non-Null Count  Dtype         \n",
      "---  ------         --------------  -----         \n",
      " 0   Sample_Name    97334 non-null  object        \n",
      " 1   Reporter       97535 non-null  object        \n",
      " 2   CT             96956 non-null  object        \n",
      " 3   Ct_Mean        45963 non-null  float64       \n",
      " 4   Well_Position  98816 non-null  object        \n",
      " 5   Dt_Run         97428 non-null  datetime64[ns]\n",
      "dtypes: datetime64[ns](1), float64(1), object(4)\n",
      "memory usage: 4.5+ MB\n"
     ]
    }
   ],
   "source": [
    "data.info()#.nunique()#.head(15)"
   ]
  },
  {
   "cell_type": "code",
   "execution_count": 13,
   "id": "f3d257c2-3fad-43ee-9f02-9b628866a5f1",
   "metadata": {},
   "outputs": [],
   "source": [
    "# undetermined_ids = list(data[data['CT'] == 'Undetermined']['Sample_Name'].unique())#.astype(list)"
   ]
  },
  {
   "cell_type": "code",
   "execution_count": 14,
   "id": "08cb04a6-bf7e-4465-8c57-d6668b8ccd69",
   "metadata": {},
   "outputs": [],
   "source": [
    "data2 = data[data['CT'] != 'Undetermined']"
   ]
  },
  {
   "cell_type": "code",
   "execution_count": 15,
   "id": "74fa4ea7-fd9d-45ab-88be-928870b84086",
   "metadata": {},
   "outputs": [],
   "source": [
    "data3 = data2[data2['Reporter'].isin(['FAM', 'VIC', 'ABY', 'TAMRA']) == True]"
   ]
  },
  {
   "cell_type": "code",
   "execution_count": 16,
   "id": "663abdde-882d-40fb-9959-ab58205bdcfe",
   "metadata": {},
   "outputs": [],
   "source": [
    "data1 = data3[data3['Sample_Name'].isin(['PC', 'NC']) != True]"
   ]
  },
  {
   "cell_type": "code",
   "execution_count": 17,
   "id": "eb75d9f5-4cdd-486c-adef-0907591a568a",
   "metadata": {},
   "outputs": [],
   "source": [
    "data4 = data1[data1.duplicated('Sample_Name', False) == True]"
   ]
  },
  {
   "cell_type": "code",
   "execution_count": 18,
   "id": "6fc8c36d-bc09-4596-be96-63245e6b57fa",
   "metadata": {},
   "outputs": [
    {
     "data": {
      "text/html": [
       "<div>\n",
       "<style scoped>\n",
       "    .dataframe tbody tr th:only-of-type {\n",
       "        vertical-align: middle;\n",
       "    }\n",
       "\n",
       "    .dataframe tbody tr th {\n",
       "        vertical-align: top;\n",
       "    }\n",
       "\n",
       "    .dataframe thead th {\n",
       "        text-align: right;\n",
       "    }\n",
       "</style>\n",
       "<table border=\"1\" class=\"dataframe\">\n",
       "  <thead>\n",
       "    <tr style=\"text-align: right;\">\n",
       "      <th></th>\n",
       "      <th>Sample_Name</th>\n",
       "      <th>Reporter</th>\n",
       "      <th>CT</th>\n",
       "      <th>Ct_Mean</th>\n",
       "      <th>Well_Position</th>\n",
       "      <th>Dt_Run</th>\n",
       "    </tr>\n",
       "  </thead>\n",
       "  <tbody>\n",
       "    <tr>\n",
       "      <th>126</th>\n",
       "      <td>COVC 13583</td>\n",
       "      <td>FAM</td>\n",
       "      <td>37.328472</td>\n",
       "      <td>37.328472</td>\n",
       "      <td>D7</td>\n",
       "      <td>2020-10-12 15:33:47</td>\n",
       "    </tr>\n",
       "    <tr>\n",
       "      <th>127</th>\n",
       "      <td>COVC 13583</td>\n",
       "      <td>VIC</td>\n",
       "      <td>42.683975</td>\n",
       "      <td>42.683975</td>\n",
       "      <td>D7</td>\n",
       "      <td>2020-10-12 15:33:47</td>\n",
       "    </tr>\n",
       "    <tr>\n",
       "      <th>135</th>\n",
       "      <td>COVC 13586</td>\n",
       "      <td>FAM</td>\n",
       "      <td>35.068436</td>\n",
       "      <td>35.068436</td>\n",
       "      <td>D10</td>\n",
       "      <td>2020-10-12 15:33:47</td>\n",
       "    </tr>\n",
       "    <tr>\n",
       "      <th>136</th>\n",
       "      <td>COVC 13586</td>\n",
       "      <td>VIC</td>\n",
       "      <td>39.385445</td>\n",
       "      <td>39.385445</td>\n",
       "      <td>D10</td>\n",
       "      <td>2020-10-12 15:33:47</td>\n",
       "    </tr>\n",
       "    <tr>\n",
       "      <th>186</th>\n",
       "      <td>COVC 13603</td>\n",
       "      <td>FAM</td>\n",
       "      <td>27.376181</td>\n",
       "      <td>27.376181</td>\n",
       "      <td>F3</td>\n",
       "      <td>2020-10-12 15:33:47</td>\n",
       "    </tr>\n",
       "    <tr>\n",
       "      <th>187</th>\n",
       "      <td>COVC 13603</td>\n",
       "      <td>VIC</td>\n",
       "      <td>31.060112</td>\n",
       "      <td>31.060112</td>\n",
       "      <td>F3</td>\n",
       "      <td>2020-10-12 15:33:47</td>\n",
       "    </tr>\n",
       "    <tr>\n",
       "      <th>219</th>\n",
       "      <td>COVC 13614</td>\n",
       "      <td>FAM</td>\n",
       "      <td>36.698231</td>\n",
       "      <td>36.698231</td>\n",
       "      <td>G2</td>\n",
       "      <td>2020-10-12 15:33:47</td>\n",
       "    </tr>\n",
       "    <tr>\n",
       "      <th>231</th>\n",
       "      <td>COVC 13618</td>\n",
       "      <td>FAM</td>\n",
       "      <td>32.132778</td>\n",
       "      <td>32.132778</td>\n",
       "      <td>G6</td>\n",
       "      <td>2020-10-12 15:33:47</td>\n",
       "    </tr>\n",
       "    <tr>\n",
       "      <th>232</th>\n",
       "      <td>COVC 13618</td>\n",
       "      <td>VIC</td>\n",
       "      <td>36.225323</td>\n",
       "      <td>36.225323</td>\n",
       "      <td>G6</td>\n",
       "      <td>2020-10-12 15:33:47</td>\n",
       "    </tr>\n",
       "    <tr>\n",
       "      <th>261</th>\n",
       "      <td>COVC 13628</td>\n",
       "      <td>FAM</td>\n",
       "      <td>33.411869</td>\n",
       "      <td>33.411869</td>\n",
       "      <td>H4</td>\n",
       "      <td>2020-10-12 15:33:47</td>\n",
       "    </tr>\n",
       "  </tbody>\n",
       "</table>\n",
       "</div>"
      ],
      "text/plain": [
       "    Sample_Name Reporter         CT    Ct_Mean Well_Position  \\\n",
       "126  COVC 13583      FAM  37.328472  37.328472            D7   \n",
       "127  COVC 13583      VIC  42.683975  42.683975            D7   \n",
       "135  COVC 13586      FAM  35.068436  35.068436           D10   \n",
       "136  COVC 13586      VIC  39.385445  39.385445           D10   \n",
       "186  COVC 13603      FAM  27.376181  27.376181            F3   \n",
       "187  COVC 13603      VIC  31.060112  31.060112            F3   \n",
       "219  COVC 13614      FAM  36.698231  36.698231            G2   \n",
       "231  COVC 13618      FAM  32.132778  32.132778            G6   \n",
       "232  COVC 13618      VIC  36.225323  36.225323            G6   \n",
       "261  COVC 13628      FAM  33.411869  33.411869            H4   \n",
       "\n",
       "                 Dt_Run  \n",
       "126 2020-10-12 15:33:47  \n",
       "127 2020-10-12 15:33:47  \n",
       "135 2020-10-12 15:33:47  \n",
       "136 2020-10-12 15:33:47  \n",
       "186 2020-10-12 15:33:47  \n",
       "187 2020-10-12 15:33:47  \n",
       "219 2020-10-12 15:33:47  \n",
       "231 2020-10-12 15:33:47  \n",
       "232 2020-10-12 15:33:47  \n",
       "261 2020-10-12 15:33:47  "
      ]
     },
     "execution_count": 18,
     "metadata": {},
     "output_type": "execute_result"
    }
   ],
   "source": [
    "data4.head(10)"
   ]
  },
  {
   "cell_type": "code",
   "execution_count": 19,
   "id": "1cabf184-3b47-4175-945c-63d15adb0d7c",
   "metadata": {},
   "outputs": [],
   "source": [
    "def get_upper_alpha_seq():\n",
    "    letters = []\n",
    "    for c in range(65, 91):\n",
    "        letters.append(chr(c))\n",
    "    return letters"
   ]
  },
  {
   "cell_type": "raw",
   "id": "5a544c3b-3448-4605-916b-ee90b9269c54",
   "metadata": {},
   "source": [
    "for c in range(32, 124):\n",
    "        print(chr(c), end='')"
   ]
  },
  {
   "cell_type": "code",
   "execution_count": 20,
   "id": "7fd41f71-6a06-42d3-ad8f-bfbd6fdaae32",
   "metadata": {},
   "outputs": [],
   "source": [
    "def cov_rename(x):\n",
    "    try:\n",
    "        if 'COV' not in x and '-R' in x:\n",
    "            x = x.replace('-R', '')\n",
    "        if 'COV' in x and 'COVC' not in x:\n",
    "            x = x.replace('COV', 'COVC')\n",
    "        int(x)\n",
    "        x = str(x).replace(str(x), f'COVC{str(x)}')\n",
    "    except (ValueError, AttributeError, TypeError): x = str(x).replace(' ', '')\n",
    "    return x.replace('COVC_', 'COVC0')"
   ]
  },
  {
   "cell_type": "raw",
   "id": "e35d9bc0-cd48-4dd3-97c1-afcd6d29df07",
   "metadata": {},
   "source": [
    "def cov_rename(x):\n",
    "    if 'COV' in str(x) and 'COVC' not in str(x):\n",
    "        return str(x).replace('COV', 'COVC')\n",
    "    return x"
   ]
  },
  {
   "cell_type": "code",
   "execution_count": 21,
   "id": "f5509031-0758-4a71-9129-0f1c2375142b",
   "metadata": {},
   "outputs": [],
   "source": [
    "def cov_names(x):\n",
    "    cov_id = str(x).upper().replace(' ', '').rstrip(f'#-_{get_upper_alpha_seq()}')\n",
    "    if len(cov_id) == 8:\n",
    "        return cov_id.replace('COVC', 'COVC0')\n",
    "    elif len(cov_id) == 7:\n",
    "        return cov_id.replace('COVC', 'COVC00')\n",
    "    elif len(cov_id) == 6:\n",
    "        return cov_id.replace('COVC', 'COVC000')\n",
    "    elif len(cov_id) == 5:\n",
    "        return cov_id.replace('COVC', 'COVC0000')\n",
    "    return cov_id"
   ]
  },
  {
   "cell_type": "code",
   "execution_count": 22,
   "id": "d8f774da-9e20-4cbc-be4c-fa1b0176aa23",
   "metadata": {},
   "outputs": [
    {
     "data": {
      "text/plain": [
       "array(['FAM', 'VIC', 'ABY', 'TAMRA'], dtype=object)"
      ]
     },
     "execution_count": 22,
     "metadata": {},
     "output_type": "execute_result"
    }
   ],
   "source": [
    "data4['Reporter'].unique()"
   ]
  },
  {
   "cell_type": "code",
   "execution_count": 23,
   "id": "3f00d350-ff5f-4197-b999-cc276d284bcd",
   "metadata": {},
   "outputs": [],
   "source": [
    "data5 = data4.assign(Sample_Name=data4['Sample_Name'].apply(lambda x: cov_names(cov_rename(x))))"
   ]
  },
  {
   "cell_type": "code",
   "execution_count": 24,
   "id": "363f8046-8659-41ab-ac65-2e875bfcdfb9",
   "metadata": {},
   "outputs": [
    {
     "data": {
      "text/html": [
       "<div>\n",
       "<style scoped>\n",
       "    .dataframe tbody tr th:only-of-type {\n",
       "        vertical-align: middle;\n",
       "    }\n",
       "\n",
       "    .dataframe tbody tr th {\n",
       "        vertical-align: top;\n",
       "    }\n",
       "\n",
       "    .dataframe thead th {\n",
       "        text-align: right;\n",
       "    }\n",
       "</style>\n",
       "<table border=\"1\" class=\"dataframe\">\n",
       "  <thead>\n",
       "    <tr style=\"text-align: right;\">\n",
       "      <th></th>\n",
       "      <th>Sample_Name</th>\n",
       "      <th>Reporter</th>\n",
       "      <th>CT</th>\n",
       "      <th>Ct_Mean</th>\n",
       "      <th>Well_Position</th>\n",
       "      <th>Dt_Run</th>\n",
       "    </tr>\n",
       "  </thead>\n",
       "  <tbody>\n",
       "    <tr>\n",
       "      <th>126</th>\n",
       "      <td>COVC13583</td>\n",
       "      <td>FAM</td>\n",
       "      <td>37.328472</td>\n",
       "      <td>37.328472</td>\n",
       "      <td>D7</td>\n",
       "      <td>2020-10-12 15:33:47</td>\n",
       "    </tr>\n",
       "    <tr>\n",
       "      <th>127</th>\n",
       "      <td>COVC13583</td>\n",
       "      <td>VIC</td>\n",
       "      <td>42.683975</td>\n",
       "      <td>42.683975</td>\n",
       "      <td>D7</td>\n",
       "      <td>2020-10-12 15:33:47</td>\n",
       "    </tr>\n",
       "    <tr>\n",
       "      <th>135</th>\n",
       "      <td>COVC13586</td>\n",
       "      <td>FAM</td>\n",
       "      <td>35.068436</td>\n",
       "      <td>35.068436</td>\n",
       "      <td>D10</td>\n",
       "      <td>2020-10-12 15:33:47</td>\n",
       "    </tr>\n",
       "    <tr>\n",
       "      <th>136</th>\n",
       "      <td>COVC13586</td>\n",
       "      <td>VIC</td>\n",
       "      <td>39.385445</td>\n",
       "      <td>39.385445</td>\n",
       "      <td>D10</td>\n",
       "      <td>2020-10-12 15:33:47</td>\n",
       "    </tr>\n",
       "    <tr>\n",
       "      <th>186</th>\n",
       "      <td>COVC13603</td>\n",
       "      <td>FAM</td>\n",
       "      <td>27.376181</td>\n",
       "      <td>27.376181</td>\n",
       "      <td>F3</td>\n",
       "      <td>2020-10-12 15:33:47</td>\n",
       "    </tr>\n",
       "  </tbody>\n",
       "</table>\n",
       "</div>"
      ],
      "text/plain": [
       "    Sample_Name Reporter         CT    Ct_Mean Well_Position  \\\n",
       "126   COVC13583      FAM  37.328472  37.328472            D7   \n",
       "127   COVC13583      VIC  42.683975  42.683975            D7   \n",
       "135   COVC13586      FAM  35.068436  35.068436           D10   \n",
       "136   COVC13586      VIC  39.385445  39.385445           D10   \n",
       "186   COVC13603      FAM  27.376181  27.376181            F3   \n",
       "\n",
       "                 Dt_Run  \n",
       "126 2020-10-12 15:33:47  \n",
       "127 2020-10-12 15:33:47  \n",
       "135 2020-10-12 15:33:47  \n",
       "136 2020-10-12 15:33:47  \n",
       "186 2020-10-12 15:33:47  "
      ]
     },
     "execution_count": 24,
     "metadata": {},
     "output_type": "execute_result"
    }
   ],
   "source": [
    "data5.head()"
   ]
  },
  {
   "cell_type": "code",
   "execution_count": 25,
   "id": "f000906f-e7c6-4685-8d1f-29effccfac5d",
   "metadata": {},
   "outputs": [],
   "source": [
    "data6 = (data5.sort_values(['Sample_Name', 'Reporter', 'Dt_Run'])\n",
    " .drop_duplicates(['Sample_Name', 'Reporter'], keep='last', inplace=False))"
   ]
  },
  {
   "cell_type": "code",
   "execution_count": 26,
   "id": "617835ea-d5d7-4c14-b3e8-e13e45b591de",
   "metadata": {},
   "outputs": [
    {
     "data": {
      "text/html": [
       "<div>\n",
       "<style scoped>\n",
       "    .dataframe tbody tr th:only-of-type {\n",
       "        vertical-align: middle;\n",
       "    }\n",
       "\n",
       "    .dataframe tbody tr th {\n",
       "        vertical-align: top;\n",
       "    }\n",
       "\n",
       "    .dataframe thead th {\n",
       "        text-align: right;\n",
       "    }\n",
       "</style>\n",
       "<table border=\"1\" class=\"dataframe\">\n",
       "  <thead>\n",
       "    <tr style=\"text-align: right;\">\n",
       "      <th></th>\n",
       "      <th>Sample_Name</th>\n",
       "      <th>Reporter</th>\n",
       "      <th>CT</th>\n",
       "      <th>Ct_Mean</th>\n",
       "      <th>Well_Position</th>\n",
       "      <th>Dt_Run</th>\n",
       "    </tr>\n",
       "  </thead>\n",
       "  <tbody>\n",
       "    <tr>\n",
       "      <th>37317</th>\n",
       "      <td></td>\n",
       "      <td>ABY</td>\n",
       "      <td>22.004671</td>\n",
       "      <td>22.004671</td>\n",
       "      <td>H12</td>\n",
       "      <td>NaT</td>\n",
       "    </tr>\n",
       "    <tr>\n",
       "      <th>98546</th>\n",
       "      <td></td>\n",
       "      <td>FAM</td>\n",
       "      <td>NaN</td>\n",
       "      <td>NaN</td>\n",
       "      <td>A7</td>\n",
       "      <td>NaT</td>\n",
       "    </tr>\n",
       "    <tr>\n",
       "      <th>98547</th>\n",
       "      <td></td>\n",
       "      <td>VIC</td>\n",
       "      <td>NaN</td>\n",
       "      <td>NaN</td>\n",
       "      <td>A7</td>\n",
       "      <td>NaT</td>\n",
       "    </tr>\n",
       "    <tr>\n",
       "      <th>94554</th>\n",
       "      <td>A1</td>\n",
       "      <td>FAM</td>\n",
       "      <td>33.489597</td>\n",
       "      <td>31.697639</td>\n",
       "      <td>D1</td>\n",
       "      <td>2021-06-30 18:48:52</td>\n",
       "    </tr>\n",
       "    <tr>\n",
       "      <th>94555</th>\n",
       "      <td>A1</td>\n",
       "      <td>VIC</td>\n",
       "      <td>36.625538</td>\n",
       "      <td>34.432182</td>\n",
       "      <td>D1</td>\n",
       "      <td>2021-06-30 18:48:52</td>\n",
       "    </tr>\n",
       "    <tr>\n",
       "      <th>...</th>\n",
       "      <td>...</td>\n",
       "      <td>...</td>\n",
       "      <td>...</td>\n",
       "      <td>...</td>\n",
       "      <td>...</td>\n",
       "      <td>...</td>\n",
       "    </tr>\n",
       "    <tr>\n",
       "      <th>30332</th>\n",
       "      <td>SEWAGE2</td>\n",
       "      <td>VIC</td>\n",
       "      <td>37.116642</td>\n",
       "      <td>37.116642</td>\n",
       "      <td>H2</td>\n",
       "      <td>2021-04-08 15:47:49</td>\n",
       "    </tr>\n",
       "    <tr>\n",
       "      <th>27645</th>\n",
       "      <td>STD1_2X10^4</td>\n",
       "      <td>FAM</td>\n",
       "      <td>23.268881</td>\n",
       "      <td>24.886887</td>\n",
       "      <td>G1</td>\n",
       "      <td>2021-04-07 15:53:47</td>\n",
       "    </tr>\n",
       "    <tr>\n",
       "      <th>27633</th>\n",
       "      <td>STD3_2X10^2</td>\n",
       "      <td>FAM</td>\n",
       "      <td>31.191376</td>\n",
       "      <td>31.178442</td>\n",
       "      <td>F3</td>\n",
       "      <td>2021-04-07 15:53:47</td>\n",
       "    </tr>\n",
       "    <tr>\n",
       "      <th>27636</th>\n",
       "      <td>STD4_2X10^1</td>\n",
       "      <td>FAM</td>\n",
       "      <td>34.213322</td>\n",
       "      <td>33.965820</td>\n",
       "      <td>F4</td>\n",
       "      <td>2021-04-07 15:53:47</td>\n",
       "    </tr>\n",
       "    <tr>\n",
       "      <th>27676</th>\n",
       "      <td>STD5_2X10^0</td>\n",
       "      <td>FAM</td>\n",
       "      <td>36.225498</td>\n",
       "      <td>36.818306</td>\n",
       "      <td>H3</td>\n",
       "      <td>2021-04-07 15:53:47</td>\n",
       "    </tr>\n",
       "  </tbody>\n",
       "</table>\n",
       "<p>9309 rows × 6 columns</p>\n",
       "</div>"
      ],
      "text/plain": [
       "       Sample_Name Reporter         CT    Ct_Mean Well_Position  \\\n",
       "37317                   ABY  22.004671  22.004671           H12   \n",
       "98546                   FAM        NaN        NaN            A7   \n",
       "98547                   VIC        NaN        NaN            A7   \n",
       "94554           A1      FAM  33.489597  31.697639            D1   \n",
       "94555           A1      VIC  36.625538  34.432182            D1   \n",
       "...            ...      ...        ...        ...           ...   \n",
       "30332      SEWAGE2      VIC  37.116642  37.116642            H2   \n",
       "27645  STD1_2X10^4      FAM  23.268881  24.886887            G1   \n",
       "27633  STD3_2X10^2      FAM  31.191376  31.178442            F3   \n",
       "27636  STD4_2X10^1      FAM  34.213322  33.965820            F4   \n",
       "27676  STD5_2X10^0      FAM  36.225498  36.818306            H3   \n",
       "\n",
       "                   Dt_Run  \n",
       "37317                 NaT  \n",
       "98546                 NaT  \n",
       "98547                 NaT  \n",
       "94554 2021-06-30 18:48:52  \n",
       "94555 2021-06-30 18:48:52  \n",
       "...                   ...  \n",
       "30332 2021-04-08 15:47:49  \n",
       "27645 2021-04-07 15:53:47  \n",
       "27633 2021-04-07 15:53:47  \n",
       "27636 2021-04-07 15:53:47  \n",
       "27676 2021-04-07 15:53:47  \n",
       "\n",
       "[9309 rows x 6 columns]"
      ]
     },
     "execution_count": 26,
     "metadata": {},
     "output_type": "execute_result"
    }
   ],
   "source": [
    "data6#[data6['Sample_Name'].str.contains('COVC') == False]#['Dt_Run'].unique()"
   ]
  },
  {
   "cell_type": "code",
   "execution_count": 27,
   "id": "17affa65-c43e-45aa-8b99-9b42ef080fe1",
   "metadata": {},
   "outputs": [],
   "source": [
    "data7 = data6.sort_values(['Sample_Name']).groupby('Sample_Name').mean()"
   ]
  },
  {
   "cell_type": "code",
   "execution_count": 28,
   "id": "819d726e-3c39-40a7-8784-12d6ca3d2f8d",
   "metadata": {},
   "outputs": [
    {
     "data": {
      "text/html": [
       "<div>\n",
       "<style scoped>\n",
       "    .dataframe tbody tr th:only-of-type {\n",
       "        vertical-align: middle;\n",
       "    }\n",
       "\n",
       "    .dataframe tbody tr th {\n",
       "        vertical-align: top;\n",
       "    }\n",
       "\n",
       "    .dataframe thead th {\n",
       "        text-align: right;\n",
       "    }\n",
       "</style>\n",
       "<table border=\"1\" class=\"dataframe\">\n",
       "  <thead>\n",
       "    <tr style=\"text-align: right;\">\n",
       "      <th></th>\n",
       "      <th>Ct_Mean</th>\n",
       "    </tr>\n",
       "    <tr>\n",
       "      <th>Sample_Name</th>\n",
       "      <th></th>\n",
       "    </tr>\n",
       "  </thead>\n",
       "  <tbody>\n",
       "    <tr>\n",
       "      <th></th>\n",
       "      <td>22.004671</td>\n",
       "    </tr>\n",
       "    <tr>\n",
       "      <th>A1</th>\n",
       "      <td>33.064911</td>\n",
       "    </tr>\n",
       "    <tr>\n",
       "      <th>C3</th>\n",
       "      <td>33.114729</td>\n",
       "    </tr>\n",
       "    <tr>\n",
       "      <th>COVC00137</th>\n",
       "      <td>37.646282</td>\n",
       "    </tr>\n",
       "    <tr>\n",
       "      <th>COVC00154</th>\n",
       "      <td>35.240269</td>\n",
       "    </tr>\n",
       "  </tbody>\n",
       "</table>\n",
       "</div>"
      ],
      "text/plain": [
       "               Ct_Mean\n",
       "Sample_Name           \n",
       "             22.004671\n",
       "A1           33.064911\n",
       "C3           33.114729\n",
       "COVC00137    37.646282\n",
       "COVC00154    35.240269"
      ]
     },
     "execution_count": 28,
     "metadata": {},
     "output_type": "execute_result"
    }
   ],
   "source": [
    "data7.head()"
   ]
  },
  {
   "cell_type": "code",
   "execution_count": 29,
   "id": "703e10f9-4084-4f94-a89d-e1be2986a619",
   "metadata": {},
   "outputs": [
    {
     "data": {
      "text/html": [
       "<div>\n",
       "<style scoped>\n",
       "    .dataframe tbody tr th:only-of-type {\n",
       "        vertical-align: middle;\n",
       "    }\n",
       "\n",
       "    .dataframe tbody tr th {\n",
       "        vertical-align: top;\n",
       "    }\n",
       "\n",
       "    .dataframe thead th {\n",
       "        text-align: right;\n",
       "    }\n",
       "</style>\n",
       "<table border=\"1\" class=\"dataframe\">\n",
       "  <thead>\n",
       "    <tr style=\"text-align: right;\">\n",
       "      <th></th>\n",
       "      <th>Sample_Name</th>\n",
       "      <th>Reporter</th>\n",
       "      <th>CT</th>\n",
       "      <th>Ct_Mean</th>\n",
       "      <th>Well_Position</th>\n",
       "      <th>Dt_Run</th>\n",
       "    </tr>\n",
       "  </thead>\n",
       "  <tbody>\n",
       "    <tr>\n",
       "      <th>98547</th>\n",
       "      <td></td>\n",
       "      <td>VIC</td>\n",
       "      <td>NaN</td>\n",
       "      <td>NaN</td>\n",
       "      <td>A7</td>\n",
       "      <td>NaT</td>\n",
       "    </tr>\n",
       "    <tr>\n",
       "      <th>94555</th>\n",
       "      <td>A1</td>\n",
       "      <td>VIC</td>\n",
       "      <td>36.625538</td>\n",
       "      <td>34.432182</td>\n",
       "      <td>D1</td>\n",
       "      <td>2021-06-30 18:48:52</td>\n",
       "    </tr>\n",
       "    <tr>\n",
       "      <th>94561</th>\n",
       "      <td>C3</td>\n",
       "      <td>VIC</td>\n",
       "      <td>35.654247</td>\n",
       "      <td>34.974087</td>\n",
       "      <td>D3</td>\n",
       "      <td>2021-06-30 18:48:52</td>\n",
       "    </tr>\n",
       "    <tr>\n",
       "      <th>12797</th>\n",
       "      <td>COVC00137</td>\n",
       "      <td>VIC</td>\n",
       "      <td>39.514957</td>\n",
       "      <td>39.514957</td>\n",
       "      <td>D9</td>\n",
       "      <td>2020-06-03 17:04:05</td>\n",
       "    </tr>\n",
       "    <tr>\n",
       "      <th>12848</th>\n",
       "      <td>COVC00154</td>\n",
       "      <td>VIC</td>\n",
       "      <td>36.905937</td>\n",
       "      <td>36.905937</td>\n",
       "      <td>F2</td>\n",
       "      <td>2020-06-03 17:04:05</td>\n",
       "    </tr>\n",
       "    <tr>\n",
       "      <th>...</th>\n",
       "      <td>...</td>\n",
       "      <td>...</td>\n",
       "      <td>...</td>\n",
       "      <td>...</td>\n",
       "      <td>...</td>\n",
       "      <td>...</td>\n",
       "    </tr>\n",
       "    <tr>\n",
       "      <th>30332</th>\n",
       "      <td>SEWAGE2</td>\n",
       "      <td>VIC</td>\n",
       "      <td>37.116642</td>\n",
       "      <td>37.116642</td>\n",
       "      <td>H2</td>\n",
       "      <td>2021-04-08 15:47:49</td>\n",
       "    </tr>\n",
       "    <tr>\n",
       "      <th>27645</th>\n",
       "      <td>STD1_2X10^4</td>\n",
       "      <td>FAM</td>\n",
       "      <td>23.268881</td>\n",
       "      <td>24.886887</td>\n",
       "      <td>G1</td>\n",
       "      <td>2021-04-07 15:53:47</td>\n",
       "    </tr>\n",
       "    <tr>\n",
       "      <th>27633</th>\n",
       "      <td>STD3_2X10^2</td>\n",
       "      <td>FAM</td>\n",
       "      <td>31.191376</td>\n",
       "      <td>31.178442</td>\n",
       "      <td>F3</td>\n",
       "      <td>2021-04-07 15:53:47</td>\n",
       "    </tr>\n",
       "    <tr>\n",
       "      <th>27636</th>\n",
       "      <td>STD4_2X10^1</td>\n",
       "      <td>FAM</td>\n",
       "      <td>34.213322</td>\n",
       "      <td>33.965820</td>\n",
       "      <td>F4</td>\n",
       "      <td>2021-04-07 15:53:47</td>\n",
       "    </tr>\n",
       "    <tr>\n",
       "      <th>27676</th>\n",
       "      <td>STD5_2X10^0</td>\n",
       "      <td>FAM</td>\n",
       "      <td>36.225498</td>\n",
       "      <td>36.818306</td>\n",
       "      <td>H3</td>\n",
       "      <td>2021-04-07 15:53:47</td>\n",
       "    </tr>\n",
       "  </tbody>\n",
       "</table>\n",
       "<p>4694 rows × 6 columns</p>\n",
       "</div>"
      ],
      "text/plain": [
       "       Sample_Name Reporter         CT    Ct_Mean Well_Position  \\\n",
       "98547                   VIC        NaN        NaN            A7   \n",
       "94555           A1      VIC  36.625538  34.432182            D1   \n",
       "94561           C3      VIC  35.654247  34.974087            D3   \n",
       "12797    COVC00137      VIC  39.514957  39.514957            D9   \n",
       "12848    COVC00154      VIC  36.905937  36.905937            F2   \n",
       "...            ...      ...        ...        ...           ...   \n",
       "30332      SEWAGE2      VIC  37.116642  37.116642            H2   \n",
       "27645  STD1_2X10^4      FAM  23.268881  24.886887            G1   \n",
       "27633  STD3_2X10^2      FAM  31.191376  31.178442            F3   \n",
       "27636  STD4_2X10^1      FAM  34.213322  33.965820            F4   \n",
       "27676  STD5_2X10^0      FAM  36.225498  36.818306            H3   \n",
       "\n",
       "                   Dt_Run  \n",
       "98547                 NaT  \n",
       "94555 2021-06-30 18:48:52  \n",
       "94561 2021-06-30 18:48:52  \n",
       "12797 2020-06-03 17:04:05  \n",
       "12848 2020-06-03 17:04:05  \n",
       "...                   ...  \n",
       "30332 2021-04-08 15:47:49  \n",
       "27645 2021-04-07 15:53:47  \n",
       "27633 2021-04-07 15:53:47  \n",
       "27636 2021-04-07 15:53:47  \n",
       "27676 2021-04-07 15:53:47  \n",
       "\n",
       "[4694 rows x 6 columns]"
      ]
     },
     "execution_count": 29,
     "metadata": {},
     "output_type": "execute_result"
    }
   ],
   "source": [
    "data8 = data6.sort_values(['Sample_Name', 'Dt_Run']).drop_duplicates('Sample_Name', keep='last')#.to_frame()\n",
    "data8"
   ]
  },
  {
   "cell_type": "code",
   "execution_count": 30,
   "id": "e8aa6472-9891-42c5-9e99-43699b958e7a",
   "metadata": {},
   "outputs": [],
   "source": [
    "data9 = data8[['Sample_Name', 'Well_Position', 'Dt_Run']].merge(data7, how='right', left_on='Sample_Name', right_index=True)"
   ]
  },
  {
   "cell_type": "code",
   "execution_count": 31,
   "id": "da48825c-6341-4a04-8ca6-d4a5a73a94d0",
   "metadata": {},
   "outputs": [],
   "source": [
    "df_cts = data9[data9['Sample_Name'].str.contains('COV') == True]"
   ]
  },
  {
   "cell_type": "code",
   "execution_count": 32,
   "id": "235ecfd7-8c98-4480-be66-2746c51d0688",
   "metadata": {},
   "outputs": [],
   "source": [
    "df_cts.sort_values('Dt_Run').to_excel('/home/douso/Documents/RunSheets/Cts/runsheet-cts.xlsx', index=False, float_format='%.1f')"
   ]
  }
 ],
 "metadata": {
  "kernelspec": {
   "display_name": "Python 3",
   "language": "python",
   "name": "python3"
  },
  "language_info": {
   "codemirror_mode": {
    "name": "ipython",
    "version": 3
   },
   "file_extension": ".py",
   "mimetype": "text/x-python",
   "name": "python",
   "nbconvert_exporter": "python",
   "pygments_lexer": "ipython3",
   "version": "3.8.10"
  }
 },
 "nbformat": 4,
 "nbformat_minor": 5
}
