{
 "cells": [
  {
   "cell_type": "markdown",
   "metadata": {},
   "source": [
    "## **Notebook for analysing nf pipeline output**"
   ]
  },
  {
   "cell_type": "markdown",
   "metadata": {},
   "source": [
    "### **Packages**"
   ]
  },
  {
   "cell_type": "code",
   "execution_count": 1,
   "metadata": {},
   "outputs": [],
   "source": [
    "import pandas as pd\n",
    "import seaborn as sns\n",
    "import numpy as np\n",
    "import glob, os, re\n",
    "import matplotlib.pyplot as plt\n",
    "from datetime import  datetime\n",
    "from ipywidgets import widgets, interactive"
   ]
  },
  {
   "cell_type": "code",
   "execution_count": 2,
   "metadata": {},
   "outputs": [],
   "source": [
    "dt = datetime.today().strftime(format='%d-%m-%Y')"
   ]
  },
  {
   "cell_type": "markdown",
   "metadata": {},
   "source": [
    "### **Directories & Files**\n",
    "Uniqueness in directory and file names is assumed for all analyses\n",
    "\n",
    "The organisation of the `run_dir`: The directory name MUST be unique and reside anywhere inside `sars_dir` directory\n",
    " \n",
    "| Directory name | File name | File source-tool | File description |\n",
    "| :-------------- | :--------- | :---------------- | :------|\n",
    "|amplicon|`*.tsv`|Mosdepth|Per-sample amplicon depths<br> ***Cols**:chrom, start, end, region, coverage, sample*\n",
    "|\n",
    "|genome|`*.tsv`|Mosdepth|Per-sample genome depths<br> ***Cols**:chrom, start, end, coverage, sample*|\n",
    "|nextclade|several| Nextclade|All Nextclade outputs|\n",
    "|pangolin|`*.csv/*.tsv`| Pangolin|Pangolin output in two formats|\n",
    "|snpEff|`*.vcf.gz`| snpEff|Per-sample unzipped snpEff output|\n",
    "\n",
    "Additional directories created inside `run_dir`: Used in the analysis\n",
    "\n",
    "| Directory name | File name | File source-tool | File description |\n",
    "| :-------------- | :--------- | :---------------- | :------|\n",
    "|var|`k-per-gene_variant_anns.tsv`|script: `abstract_snpeff_ann_output.py`|Aggregation of individual `snpEff .vcf` outputs by abstracting gene-mutations|\n",
    "|nxt|`nxt.tsv`|Nextclade|Renamed `Nextclade .tsv` output|\n",
    "|png|`png.csv`|Pangolin|Renamed `Pangolin .csv` output|\n"
   ]
  },
  {
   "cell_type": "markdown",
   "metadata": {},
   "source": [
    "### **Variables**\n",
    "\n",
    "Reassign accordingly..."
   ]
  },
  {
   "cell_type": "code",
   "execution_count": 3,
   "metadata": {},
   "outputs": [],
   "source": [
    "seq_name = 'seq21'#seq*\n",
    "tech = 'MinION'#NextSeq/MiSeq/MinION\n",
    "seq_dt = '29/10/2021'#DD/MM/YYYY\n",
    "lib_prep = 'NEBNext'#NEBNext/NEBNext_FS/COVIDSeq/Nextera_XT\n",
    "primer_set = 'ARTIC_V3'#ARTIC_V3/ARTIC_V4\n",
    "identifier = 'ONT_seq21' #used in naming file outputs\n",
    "sars_dir = 'SARS-CoV-2' #name of root directory for all SARS-associated work\n",
    "run_dir = '2021-10-29_run21_nanopore' #name of the run directory containing viralcon pipeline output as implemented by Kibet\n",
    "home_dir = os.getenv('HOME') #get OS home directory\n",
    "parent_dir = glob.glob(f'{home_dir}/**/{sars_dir}', recursive=True)[0]"
   ]
  },
  {
   "cell_type": "markdown",
   "metadata": {},
   "source": [
    "### **Functions**"
   ]
  },
  {
   "cell_type": "code",
   "execution_count": 4,
   "metadata": {},
   "outputs": [],
   "source": [
    "# define a func to replace spaces in the header names\n",
    "def tidy_header(df):\n",
    "    df.columns = [col.replace(' ', '_') for col in df.columns]\n",
    "    return df"
   ]
  },
  {
   "cell_type": "code",
   "execution_count": 5,
   "metadata": {},
   "outputs": [],
   "source": [
    "# define func to retrieve particular columns from a df (spaces in col names must be replaced with _ in the input col_list)\n",
    "def get_cols(df, col_list):\n",
    "    new_df = tidy_header(df)\n",
    "    return new_df[col_list]"
   ]
  },
  {
   "cell_type": "code",
   "execution_count": 6,
   "metadata": {},
   "outputs": [],
   "source": [
    "# define a function to replace from a dictionary ('key is what is to be replaced': 'value is the replacement')\n",
    "def replace(string, substitutions):\n",
    "    substrings = sorted(substitutions, key=len, reverse=True)\n",
    "    regex = re.compile('|'.join(map(re.escape, substrings)))\n",
    "    return regex.sub(lambda match: substitutions[match.group(0)], string)"
   ]
  },
  {
   "cell_type": "code",
   "execution_count": 7,
   "metadata": {},
   "outputs": [],
   "source": [
    "# define function to merge variants and nextclade data\n",
    "def merge_varNxt(df_var_cln, df_nxt_cln):\n",
    "    return (df_var_cln.set_index('sample_name').merge(df_nxt_cln\n",
    "          .set_index('seqName'), how='outer', left_index=True, right_index=True)\n",
    "                 .reset_index().rename(columns={'index': 'sample_name'}))"
   ]
  },
  {
   "cell_type": "code",
   "execution_count": 8,
   "metadata": {},
   "outputs": [],
   "source": [
    "# define function to merge pangolin and variants-nextclade data\n",
    "def merge_pngVxt(df_png_cln, df_varNxt):\n",
    "    return (df_png_cln.set_index('Sequence_name').merge(df_varNxt\n",
    "        .set_index('sample_name'), how='outer', left_index=True, right_index=True)\n",
    "            .reset_index().rename(columns={'index': 'Sequence_name'}))\n"
   ]
  },
  {
   "cell_type": "code",
   "execution_count": 9,
   "metadata": {},
   "outputs": [],
   "source": [
    "# define function to merge metadata with cts data\n",
    "def merge_rmdCts(df_rmd_cln, df_cts_cln):\n",
    "    return (df_rmd_cln.set_index('S_NUM').merge(df_cts_cln.set_index('Sample_Name'), how='outer', left_index=True, right_index=True)\n",
    "            .reset_index().rename(columns={'index': 'S_NUM'}))\n"
   ]
  },
  {
   "cell_type": "code",
   "execution_count": 10,
   "metadata": {},
   "outputs": [],
   "source": [
    "# define function to merge metadata and seq data\n",
    "def merge_vnpPmd(df_pngVxt, df_rmdCts):\n",
    "    return (df_pngVxt.set_index('S_NUM')\n",
    "            .merge(df_rmdCts.set_index('S_NUM'), how='left', left_index=True, right_index=True)\n",
    "                 .reset_index().rename(columns={'index': 'S_NUM'}))"
   ]
  },
  {
   "cell_type": "code",
   "execution_count": 11,
   "metadata": {},
   "outputs": [],
   "source": [
    "# define a function to retrieve MoC and all mutations for the s-gene\n",
    "def get_mut_of_concern(ann_file_name, moc_list):\n",
    "\n",
    "    def intersection(x, y):\n",
    "        return list(set(x) & set(y))\n",
    "\n",
    "    moc_list = moc_list\n",
    "#     file_name = 'k-per-gene_variant_anns.tsv'\n",
    "    df = ann_file_name[['sample_name','S']]\n",
    "\n",
    "#     df = pd.read_table(f'{base_dir}/{file_name}')[['sample_name','S']]\n",
    "    mutations = []\n",
    "    moc = []\n",
    "    sample_id = []\n",
    "    for row in df.itertuples():\n",
    "        if isinstance(row.S, str):\n",
    "            sgene = row.S\n",
    "        else: \n",
    "            sgene = str(row.S)\n",
    "        substitutions = sgene.replace(' ', '').split(',')[1:-1]\n",
    "        if len(moc_list) >= len(intersection(moc_list, substitutions)) > 0:\n",
    "            intsct = intersection(moc_list, substitutions)\n",
    "            sample_name = row.sample_name\n",
    "            mutations.append(str(substitutions).replace(\"[\", \"\").replace(\"]\", \"\").replace(\"'\", \"\"))\n",
    "            moc.append(str(intsct).replace(\"[\", \"\").replace(\"]\", \"\").replace(\"'\", \"\"))\n",
    "            sample_id.append(sample_name)\n",
    "        else: pass \n",
    "    df = pd.DataFrame({'Sample_ID': sample_id, 'Mut_of_Concern_(S)': moc, 'All_Mutations_(S)': mutations})\n",
    "    df_fnl = df.assign(Sample_ID = df['Sample_ID'].apply(lambda x: x.split('_')[0]))\n",
    "    return df_fnl"
   ]
  },
  {
   "cell_type": "code",
   "execution_count": 12,
   "metadata": {},
   "outputs": [],
   "source": [
    "def replace_with_who_lin(x):\n",
    "    if x == 'B.1.1.7':\n",
    "        return x.replace(x, 'B.1.1.7(Alpha)')\n",
    "    elif x == 'B.1.617.2':\n",
    "        return x.replace(x, 'B.1.617.2(Delta)')\n",
    "    elif x == 'B.1.351':\n",
    "        return x.replace(x, 'B.1.351(Beta)')\n",
    "    elif x == 'B.1.525':\n",
    "        return x.replace(x, 'B.1.525(Eta)')\n",
    "    elif 'AY' in str(x):\n",
    "        return str(x).replace(str(x), str(x)+'(Delta)')\n",
    "    return x\n",
    "    \n",
    "    "
   ]
  },
  {
   "cell_type": "markdown",
   "metadata": {},
   "source": [
    "### **Depth plots**"
   ]
  },
  {
   "cell_type": "raw",
   "metadata": {},
   "source": [
    "# plot primer depths across samples-GK\n",
    "\n",
    "suffix = '.amplicon.regions.coverage.tsv'\n",
    "files = os.listdir(glob.glob(f'{parent_dir}/**/{run_dir}/dpt', recursive=True)[0])\n",
    "data = []\n",
    "for file in files:\n",
    "    if file.endswith(suffix):\n",
    "        data.append(file)\n",
    "    else: pass\n",
    "a = len(data)\n",
    "b, c = 1, -1\n",
    "fig, axs = plt.subplots(a, b, figsize=(20,180)) \n",
    "\n",
    "xtick = np.arange(0, 98)\n",
    "xlabel = np.arange(1, 99)\n",
    "\n",
    "for file in data:\n",
    "    c += 1\n",
    "    sample_name = file.split('_')[0]\n",
    "    sample_df = pd.read_table(glob.glob(f'{parent_dir}/**/{run_dir}/dpt/{file}', recursive=True)[0])\n",
    "    sample_df2 = sample_df[['region', 'coverage']]\n",
    "    sample_df2.plot(logy=True, ax=axs[c], sharex=True, sharey=False) \n",
    "    axs[c].legend([sample_name], loc='lower left')\n",
    "plt.xlabel('Primer name')\n",
    "plt.ylabel('Read coverage')\n",
    "plt.xticks(xtick, xlabel, rotation=45)\n",
    "plt.tight_layout()\n",
    "plt.show()\n",
    "#fig.savesample_df2fig('avg_kit_coverage2.png')\n"
   ]
  },
  {
   "cell_type": "raw",
   "metadata": {},
   "source": [
    "# plot read depths-GK\n",
    "suffix = '.genome.regions.coverage.tsv'\n",
    "files = os.listdir(glob.glob(f'{parent_dir}/**/{run_dir}/dpt', recursive=True)[0])\n",
    "data = []\n",
    "for file in files:\n",
    "    if file.endswith(suffix):\n",
    "        data.append(file)\n",
    "    else: pass\n",
    "a = len(data)\n",
    "b, c = 1, -1\n",
    "\n",
    "fig, axs = plt.subplots(a, b, figsize=(20, 180))\n",
    "\n",
    "xtick = range(0, 30200, 200)\n",
    "\n",
    "for file in data:\n",
    "    c += 1\n",
    "    sample_name = file.split('_')[0]\n",
    "    try:\n",
    "        df1 = pd.read_table(glob.glob(f'{parent_dir}/**/{run_dir}/dpt/{file}', recursive=True)[0])\n",
    "        d = df1['coverage'].to_frame()\n",
    "        d.set_index(np.arange(0, 30000, 200)).plot(logy=True, ax=axs[c], sharex=True, color='orange')\n",
    "        axs[c].legend([sample_name], loc='lower left')\n",
    "        text = file.split('_')[1]\n",
    "        plt.ylabel('Read coverage')\n",
    "    except TypeError:\n",
    "            print(f'no numeric data to plot for {file}')\n",
    "    finally: pass\n",
    "plt.xlabel('Genome position')\n",
    "plt.xticks(xtick, rotation=90)\n",
    "plt.tight_layout()\n",
    "plt.show()\n",
    "#fig.savefig('avg_kit_coverage.png')"
   ]
  },
  {
   "cell_type": "markdown",
   "metadata": {},
   "source": [
    "### **Variants data**"
   ]
  },
  {
   "cell_type": "code",
   "execution_count": 14,
   "metadata": {},
   "outputs": [],
   "source": [
    "# import the collated file for all the snpEff outputs\n",
    "df_var = pd.read_csv(glob.glob(f'{parent_dir}/**/{run_dir}/var/k-per-gene_variant_anns.tsv', recursive=True)[0], sep='\\t')\n",
    "df_var_fnl = df_var.assign(sample_name = df_var['sample_name'].apply(lambda x: '_'.join(x.split('_')[:-1]) if (len(x.split('_')) > 2) else x.split('_')[0]))"
   ]
  },
  {
   "cell_type": "code",
   "execution_count": 15,
   "metadata": {},
   "outputs": [
    {
     "data": {
      "text/html": [
       "<div>\n",
       "<style scoped>\n",
       "    .dataframe tbody tr th:only-of-type {\n",
       "        vertical-align: middle;\n",
       "    }\n",
       "\n",
       "    .dataframe tbody tr th {\n",
       "        vertical-align: top;\n",
       "    }\n",
       "\n",
       "    .dataframe thead th {\n",
       "        text-align: right;\n",
       "    }\n",
       "</style>\n",
       "<table border=\"1\" class=\"dataframe\">\n",
       "  <thead>\n",
       "    <tr style=\"text-align: right;\">\n",
       "      <th></th>\n",
       "      <th>sample_name</th>\n",
       "      <th>num_vars</th>\n",
       "      <th>ORF1ab</th>\n",
       "      <th>ORF1a</th>\n",
       "      <th>S</th>\n",
       "      <th>ORF3a</th>\n",
       "      <th>ORF3b</th>\n",
       "      <th>E</th>\n",
       "      <th>M</th>\n",
       "      <th>ORF6</th>\n",
       "      <th>ORF7a</th>\n",
       "      <th>ORF7b</th>\n",
       "      <th>ORF8</th>\n",
       "      <th>N</th>\n",
       "      <th>ORF9a</th>\n",
       "      <th>ORF9b</th>\n",
       "      <th>ORF10</th>\n",
       "    </tr>\n",
       "  </thead>\n",
       "  <tbody>\n",
       "    <tr>\n",
       "      <th>0</th>\n",
       "      <td>COVM01413</td>\n",
       "      <td>31</td>\n",
       "      <td>G30D, G30D, F924F, A1306S, P2046L, P2287S, D29...</td>\n",
       "      <td>NaN</td>\n",
       "      <td>T19R, D428D, L452R, T478K, D614G, P681R, D950N,</td>\n",
       "      <td>S26L</td>\n",
       "      <td>NaN</td>\n",
       "      <td>NaN</td>\n",
       "      <td>I82T</td>\n",
       "      <td>NaN</td>\n",
       "      <td>V82A, T120I</td>\n",
       "      <td>NaN</td>\n",
       "      <td>D119_F120del</td>\n",
       "      <td>D63G, D377Y</td>\n",
       "      <td>NaN</td>\n",
       "      <td>NaN</td>\n",
       "      <td>NaN</td>\n",
       "    </tr>\n",
       "    <tr>\n",
       "      <th>1</th>\n",
       "      <td>COVC24707</td>\n",
       "      <td>41</td>\n",
       "      <td>F924F, A1306S, F1925F, P2046L, P2287S, M2365I,...</td>\n",
       "      <td>NaN</td>\n",
       "      <td>T19R, L452R, T478K, L518L, D614G, P681R, D950N...</td>\n",
       "      <td>S26L</td>\n",
       "      <td>NaN</td>\n",
       "      <td>NaN</td>\n",
       "      <td>I82T</td>\n",
       "      <td>NaN</td>\n",
       "      <td>V82A, T120I</td>\n",
       "      <td>NaN</td>\n",
       "      <td>D119_F120del</td>\n",
       "      <td>D63G, S193I, R203M, G215C, D377Y</td>\n",
       "      <td>NaN</td>\n",
       "      <td>NaN</td>\n",
       "      <td>NaN</td>\n",
       "    </tr>\n",
       "    <tr>\n",
       "      <th>2</th>\n",
       "      <td>COVM01324</td>\n",
       "      <td>42</td>\n",
       "      <td>G146C, R184H, K261N, F548F, F548F, Q611H, F924...</td>\n",
       "      <td>NaN</td>\n",
       "      <td>T19R, E156_R158delinsG, L452R, T478K, D614G, P...</td>\n",
       "      <td>S26L, D27H</td>\n",
       "      <td>NaN</td>\n",
       "      <td>NaN</td>\n",
       "      <td>I82T, Y199Y</td>\n",
       "      <td>NaN</td>\n",
       "      <td>V82A, T120I</td>\n",
       "      <td>NaN</td>\n",
       "      <td>D119_F120del</td>\n",
       "      <td>D63G, R203M, G215C, D377Y</td>\n",
       "      <td>NaN</td>\n",
       "      <td>NaN</td>\n",
       "      <td>NaN</td>\n",
       "    </tr>\n",
       "    <tr>\n",
       "      <th>3</th>\n",
       "      <td>COVM01366</td>\n",
       "      <td>22</td>\n",
       "      <td>F924F, T1881I, V3689V, L4715L, A5062A, H5401Y</td>\n",
       "      <td>NaN</td>\n",
       "      <td>T19R, E156_R158delinsG, L452R, T478K, D614G, P...</td>\n",
       "      <td>S26L</td>\n",
       "      <td>NaN</td>\n",
       "      <td>NaN</td>\n",
       "      <td>I82T</td>\n",
       "      <td>NaN</td>\n",
       "      <td>V82A, T120I</td>\n",
       "      <td>NaN</td>\n",
       "      <td>D119_F120del</td>\n",
       "      <td>D63G, R203M, G215C, D377Y</td>\n",
       "      <td>NaN</td>\n",
       "      <td>NaN</td>\n",
       "      <td>NaN</td>\n",
       "    </tr>\n",
       "    <tr>\n",
       "      <th>4</th>\n",
       "      <td>COVM01362</td>\n",
       "      <td>34</td>\n",
       "      <td>F924F, A1306S, P1961P, P2046L, T2068T, P2287S,...</td>\n",
       "      <td>NaN</td>\n",
       "      <td>T19R, E156_R158delinsG, L452R, T478K, D614G, P...</td>\n",
       "      <td>S26L</td>\n",
       "      <td>NaN</td>\n",
       "      <td>NaN</td>\n",
       "      <td>I82T</td>\n",
       "      <td>NaN</td>\n",
       "      <td>V82A, T120I</td>\n",
       "      <td>NaN</td>\n",
       "      <td>D119_F120del</td>\n",
       "      <td>D63G, D377Y</td>\n",
       "      <td>NaN</td>\n",
       "      <td>NaN</td>\n",
       "      <td>NaN</td>\n",
       "    </tr>\n",
       "  </tbody>\n",
       "</table>\n",
       "</div>"
      ],
      "text/plain": [
       "  sample_name  num_vars                                             ORF1ab  \\\n",
       "0   COVM01413        31  G30D, G30D, F924F, A1306S, P2046L, P2287S, D29...   \n",
       "1   COVC24707        41  F924F, A1306S, F1925F, P2046L, P2287S, M2365I,...   \n",
       "2   COVM01324        42  G146C, R184H, K261N, F548F, F548F, Q611H, F924...   \n",
       "3   COVM01366        22      F924F, T1881I, V3689V, L4715L, A5062A, H5401Y   \n",
       "4   COVM01362        34  F924F, A1306S, P1961P, P2046L, T2068T, P2287S,...   \n",
       "\n",
       "   ORF1a                                                  S       ORF3a  \\\n",
       "0    NaN   T19R, D428D, L452R, T478K, D614G, P681R, D950N,         S26L   \n",
       "1    NaN  T19R, L452R, T478K, L518L, D614G, P681R, D950N...        S26L   \n",
       "2    NaN  T19R, E156_R158delinsG, L452R, T478K, D614G, P...  S26L, D27H   \n",
       "3    NaN  T19R, E156_R158delinsG, L452R, T478K, D614G, P...        S26L   \n",
       "4    NaN  T19R, E156_R158delinsG, L452R, T478K, D614G, P...        S26L   \n",
       "\n",
       "   ORF3b    E            M ORF6        ORF7a  ORF7b          ORF8  \\\n",
       "0    NaN  NaN         I82T  NaN  V82A, T120I    NaN  D119_F120del   \n",
       "1    NaN  NaN         I82T  NaN  V82A, T120I    NaN  D119_F120del   \n",
       "2    NaN  NaN  I82T, Y199Y  NaN  V82A, T120I    NaN  D119_F120del   \n",
       "3    NaN  NaN         I82T  NaN  V82A, T120I    NaN  D119_F120del   \n",
       "4    NaN  NaN         I82T  NaN  V82A, T120I    NaN  D119_F120del   \n",
       "\n",
       "                                  N  ORF9a  ORF9b ORF10  \n",
       "0                       D63G, D377Y    NaN    NaN   NaN  \n",
       "1  D63G, S193I, R203M, G215C, D377Y    NaN    NaN   NaN  \n",
       "2         D63G, R203M, G215C, D377Y    NaN    NaN   NaN  \n",
       "3         D63G, R203M, G215C, D377Y    NaN    NaN   NaN  \n",
       "4                       D63G, D377Y    NaN    NaN   NaN  "
      ]
     },
     "execution_count": 15,
     "metadata": {},
     "output_type": "execute_result"
    }
   ],
   "source": [
    "df_var_fnl.head()"
   ]
  },
  {
   "cell_type": "markdown",
   "metadata": {},
   "source": [
    "### **Nextclade data**"
   ]
  },
  {
   "cell_type": "code",
   "execution_count": 38,
   "metadata": {},
   "outputs": [],
   "source": [
    "# import Nextclade clade data\n",
    "df_nxt = pd.read_table(glob.glob(f'{parent_dir}/**/{run_dir}/nxt/nxt.tsv', recursive=True)[0])\n",
    "\n",
    "# retrieve cols seqName and clade (func get_cols replaces col name spaces with _)\n",
    "cols = ['seqName', 'clade', 'totalMissing']\n",
    "df_nxt_cln = get_cols(df_nxt, cols)\n",
    "coverage = round(100 - (df_nxt_cln['totalMissing'] / 29903) * 100, 1)\n",
    "if tech == 'MinION':\n",
    "    df_nxt_cln1 = df_nxt_cln.assign(seqName = df_nxt_cln['seqName'].apply(lambda x: '_'.join((x.split('.')[0]).split('_')[1:-1]) if (len(x.split('_')) > 2) else (x.split('/')[0])))\n",
    "else:\n",
    "    df_nxt_cln1 = df_nxt_cln.assign(seqName = df_nxt_cln['seqName'].apply(lambda x: '_'.join((x.split('.')[0]).split('_')[1:-1]) if (len(x.split('_')) > 2) else (x.split('_')[0])))\n",
    "df_nxt_cln2 = df_nxt_cln1.assign(coverage = coverage).drop('totalMissing', axis=1)\n",
    "df_nxt_fnl = df_nxt_cln2#.assign(tech=tech)"
   ]
  },
  {
   "cell_type": "code",
   "execution_count": 39,
   "metadata": {},
   "outputs": [
    {
     "data": {
      "text/html": [
       "<div>\n",
       "<style scoped>\n",
       "    .dataframe tbody tr th:only-of-type {\n",
       "        vertical-align: middle;\n",
       "    }\n",
       "\n",
       "    .dataframe tbody tr th {\n",
       "        vertical-align: top;\n",
       "    }\n",
       "\n",
       "    .dataframe thead th {\n",
       "        text-align: right;\n",
       "    }\n",
       "</style>\n",
       "<table border=\"1\" class=\"dataframe\">\n",
       "  <thead>\n",
       "    <tr style=\"text-align: right;\">\n",
       "      <th></th>\n",
       "      <th>seqName</th>\n",
       "      <th>clade</th>\n",
       "      <th>coverage</th>\n",
       "    </tr>\n",
       "  </thead>\n",
       "  <tbody>\n",
       "    <tr>\n",
       "      <th>91</th>\n",
       "      <td>COVM01413</td>\n",
       "      <td>21J (Delta)</td>\n",
       "      <td>83.3</td>\n",
       "    </tr>\n",
       "    <tr>\n",
       "      <th>92</th>\n",
       "      <td>COVM01415</td>\n",
       "      <td>20I (Alpha, V1)</td>\n",
       "      <td>55.2</td>\n",
       "    </tr>\n",
       "    <tr>\n",
       "      <th>93</th>\n",
       "      <td>COVM01417</td>\n",
       "      <td>21A (Delta)</td>\n",
       "      <td>96.0</td>\n",
       "    </tr>\n",
       "    <tr>\n",
       "      <th>94</th>\n",
       "      <td>COVM01412</td>\n",
       "      <td>20I (Alpha, V1)</td>\n",
       "      <td>98.9</td>\n",
       "    </tr>\n",
       "    <tr>\n",
       "      <th>95</th>\n",
       "      <td>COVM01416</td>\n",
       "      <td>20I (Alpha, V1)</td>\n",
       "      <td>98.0</td>\n",
       "    </tr>\n",
       "  </tbody>\n",
       "</table>\n",
       "</div>"
      ],
      "text/plain": [
       "      seqName            clade  coverage\n",
       "91  COVM01413      21J (Delta)      83.3\n",
       "92  COVM01415  20I (Alpha, V1)      55.2\n",
       "93  COVM01417      21A (Delta)      96.0\n",
       "94  COVM01412  20I (Alpha, V1)      98.9\n",
       "95  COVM01416  20I (Alpha, V1)      98.0"
      ]
     },
     "execution_count": 39,
     "metadata": {},
     "output_type": "execute_result"
    }
   ],
   "source": [
    "df_nxt_fnl.tail()"
   ]
  },
  {
   "cell_type": "markdown",
   "metadata": {},
   "source": [
    "### **Pangolin data Ran: 27-10-2021**"
   ]
  },
  {
   "cell_type": "code",
   "execution_count": 40,
   "metadata": {},
   "outputs": [],
   "source": [
    "# import Pangolin lineage data\n",
    "df_png = pd.read_csv(glob.glob(f'{parent_dir}/**/{run_dir}/png/png.csv', recursive=True)[0])\n",
    "# base_dir_pango = '/home/ouso/nextclade_files/batch2/nextclade_files_04-04-2021_11:25'\n",
    "# file_name_pango = 'consensus_pango.xlsx'\n",
    "\n",
    "# df_png = pd.read_excel(f'{base_dir_pango}/{file_name_pango}')\n",
    "months = {'January': 'Jan', 'February': 'Feb', 'March': 'Mar',\n",
    "         'April': 'Apr', 'June': 'Jun', 'July': 'Jul', 'August': 'Aug',\n",
    "          'September': 'Sep', 'October': 'Oct', 'November': 'Nov', 'December': 'Dec'}\n",
    "# retrieve cols Sequence_name and Lineage (func get_cols replaces col names spaces with _)\n",
    "cols = ['Sequence_name', 'Lineage', 'Scorpio_call']#, 'Most_common_countries']\n",
    "df_png_cln = get_cols(tidy_header(df_png), cols)\n",
    "df_png_fnl = df_png_cln.assign(Sequence_name = df_png_cln['Sequence_name'].apply(lambda x: '_'.join(x.split('_')[:-1]) if (len(x.split('_')) > 2) else x.split('_')[0]))\n",
    "# df_png_fnl = df_png_cln1.assign(Date_range=df_png_cln1['Date_range'].apply(lambda x: replace(x, months) if (isinstance(x, str)) else x))"
   ]
  },
  {
   "cell_type": "code",
   "execution_count": 41,
   "metadata": {},
   "outputs": [
    {
     "data": {
      "text/html": [
       "<div>\n",
       "<style scoped>\n",
       "    .dataframe tbody tr th:only-of-type {\n",
       "        vertical-align: middle;\n",
       "    }\n",
       "\n",
       "    .dataframe tbody tr th {\n",
       "        vertical-align: top;\n",
       "    }\n",
       "\n",
       "    .dataframe thead th {\n",
       "        text-align: right;\n",
       "    }\n",
       "</style>\n",
       "<table border=\"1\" class=\"dataframe\">\n",
       "  <thead>\n",
       "    <tr style=\"text-align: right;\">\n",
       "      <th></th>\n",
       "      <th>Sequence_name</th>\n",
       "      <th>Lineage</th>\n",
       "      <th>Scorpio_call</th>\n",
       "    </tr>\n",
       "  </thead>\n",
       "  <tbody>\n",
       "    <tr>\n",
       "      <th>0</th>\n",
       "      <td>COVC24700</td>\n",
       "      <td>AY.5</td>\n",
       "      <td>Delta (B.1.617.2-like)</td>\n",
       "    </tr>\n",
       "    <tr>\n",
       "      <th>1</th>\n",
       "      <td>COVC24702</td>\n",
       "      <td>AY.41</td>\n",
       "      <td>Delta (B.1.617.2-like)</td>\n",
       "    </tr>\n",
       "    <tr>\n",
       "      <th>2</th>\n",
       "      <td>COVC24703</td>\n",
       "      <td>AY.41</td>\n",
       "      <td>Delta (B.1.617.2-like)</td>\n",
       "    </tr>\n",
       "    <tr>\n",
       "      <th>3</th>\n",
       "      <td>COVC24704</td>\n",
       "      <td>AY.5</td>\n",
       "      <td>Delta (B.1.617.2-like)</td>\n",
       "    </tr>\n",
       "    <tr>\n",
       "      <th>4</th>\n",
       "      <td>COVC24705</td>\n",
       "      <td>AY.16</td>\n",
       "      <td>Delta (B.1.617.2-like)</td>\n",
       "    </tr>\n",
       "  </tbody>\n",
       "</table>\n",
       "</div>"
      ],
      "text/plain": [
       "  Sequence_name Lineage            Scorpio_call\n",
       "0     COVC24700    AY.5  Delta (B.1.617.2-like)\n",
       "1     COVC24702   AY.41  Delta (B.1.617.2-like)\n",
       "2     COVC24703   AY.41  Delta (B.1.617.2-like)\n",
       "3     COVC24704    AY.5  Delta (B.1.617.2-like)\n",
       "4     COVC24705   AY.16  Delta (B.1.617.2-like)"
      ]
     },
     "execution_count": 41,
     "metadata": {},
     "output_type": "execute_result"
    }
   ],
   "source": [
    "df_png_fnl.head()"
   ]
  },
  {
   "cell_type": "markdown",
   "metadata": {},
   "source": [
    "### **Metadata**"
   ]
  },
  {
   "cell_type": "code",
   "execution_count": 42,
   "metadata": {},
   "outputs": [],
   "source": [
    "# import raw metadata file\n",
    "df_rmd_cln = pd.read_excel(glob.glob(f'{parent_dir}/**/Outputs/COVID19-resultsCts-merged-cln.xlsx', recursive=True)[0])"
   ]
  },
  {
   "cell_type": "code",
   "execution_count": 43,
   "metadata": {},
   "outputs": [
    {
     "data": {
      "text/html": [
       "<div>\n",
       "<style scoped>\n",
       "    .dataframe tbody tr th:only-of-type {\n",
       "        vertical-align: middle;\n",
       "    }\n",
       "\n",
       "    .dataframe tbody tr th {\n",
       "        vertical-align: top;\n",
       "    }\n",
       "\n",
       "    .dataframe thead th {\n",
       "        text-align: right;\n",
       "    }\n",
       "</style>\n",
       "<table border=\"1\" class=\"dataframe\">\n",
       "  <thead>\n",
       "    <tr style=\"text-align: right;\">\n",
       "      <th></th>\n",
       "      <th>S_NUM</th>\n",
       "      <th>CASE_ID</th>\n",
       "      <th>AGE_YRS</th>\n",
       "      <th>GEND</th>\n",
       "      <th>OCCU</th>\n",
       "      <th>NAT</th>\n",
       "      <th>COUNT_RES</th>\n",
       "      <th>S_COUNT_RES</th>\n",
       "      <th>TRAV_HIST</th>\n",
       "      <th>TRAV_FROM</th>\n",
       "      <th>QUAR_PLACE</th>\n",
       "      <th>SYMPS</th>\n",
       "      <th>DT_SAM_COLL</th>\n",
       "      <th>DT_SAM_RECEP</th>\n",
       "      <th>RESULT</th>\n",
       "      <th>DT_CONF</th>\n",
       "      <th>Well_Position</th>\n",
       "      <th>AVG_Ct</th>\n",
       "      <th>Dt_Run</th>\n",
       "    </tr>\n",
       "  </thead>\n",
       "  <tbody>\n",
       "    <tr>\n",
       "      <th>0</th>\n",
       "      <td>A1</td>\n",
       "      <td>NaN</td>\n",
       "      <td>NaN</td>\n",
       "      <td>NaN</td>\n",
       "      <td>NaN</td>\n",
       "      <td>NaN</td>\n",
       "      <td>NaN</td>\n",
       "      <td>NaN</td>\n",
       "      <td>NaN</td>\n",
       "      <td>NaN</td>\n",
       "      <td>NaN</td>\n",
       "      <td>NaN</td>\n",
       "      <td>NaT</td>\n",
       "      <td>NaT</td>\n",
       "      <td>NaN</td>\n",
       "      <td>NaT</td>\n",
       "      <td>D01</td>\n",
       "      <td>34.4</td>\n",
       "      <td>2021-06-30 18:48:52</td>\n",
       "    </tr>\n",
       "    <tr>\n",
       "      <th>1</th>\n",
       "      <td>C3</td>\n",
       "      <td>NaN</td>\n",
       "      <td>NaN</td>\n",
       "      <td>NaN</td>\n",
       "      <td>NaN</td>\n",
       "      <td>NaN</td>\n",
       "      <td>NaN</td>\n",
       "      <td>NaN</td>\n",
       "      <td>NaN</td>\n",
       "      <td>NaN</td>\n",
       "      <td>NaN</td>\n",
       "      <td>NaN</td>\n",
       "      <td>NaT</td>\n",
       "      <td>NaT</td>\n",
       "      <td>NaN</td>\n",
       "      <td>NaT</td>\n",
       "      <td>D03</td>\n",
       "      <td>35.0</td>\n",
       "      <td>2021-06-30 18:48:52</td>\n",
       "    </tr>\n",
       "    <tr>\n",
       "      <th>2</th>\n",
       "      <td>COVC00001</td>\n",
       "      <td>NaN</td>\n",
       "      <td>35.0</td>\n",
       "      <td>F</td>\n",
       "      <td>Refugee</td>\n",
       "      <td>NaN</td>\n",
       "      <td>Garissa</td>\n",
       "      <td>Dadaab</td>\n",
       "      <td>No</td>\n",
       "      <td>NaN</td>\n",
       "      <td>NaN</td>\n",
       "      <td>NaN</td>\n",
       "      <td>NaT</td>\n",
       "      <td>NaT</td>\n",
       "      <td>Negative</td>\n",
       "      <td>2020-06-02</td>\n",
       "      <td>NaN</td>\n",
       "      <td>NaN</td>\n",
       "      <td>NaT</td>\n",
       "    </tr>\n",
       "    <tr>\n",
       "      <th>3</th>\n",
       "      <td>COVC00002</td>\n",
       "      <td>NaN</td>\n",
       "      <td>29.0</td>\n",
       "      <td>M</td>\n",
       "      <td>Refugee</td>\n",
       "      <td>NaN</td>\n",
       "      <td>Garissa</td>\n",
       "      <td>Dadaab</td>\n",
       "      <td>No</td>\n",
       "      <td>NaN</td>\n",
       "      <td>NaN</td>\n",
       "      <td>NaN</td>\n",
       "      <td>NaT</td>\n",
       "      <td>NaT</td>\n",
       "      <td>Negative</td>\n",
       "      <td>2020-06-02</td>\n",
       "      <td>NaN</td>\n",
       "      <td>NaN</td>\n",
       "      <td>NaT</td>\n",
       "    </tr>\n",
       "    <tr>\n",
       "      <th>4</th>\n",
       "      <td>COVC00003</td>\n",
       "      <td>NaN</td>\n",
       "      <td>50.0</td>\n",
       "      <td>M</td>\n",
       "      <td>Refugee</td>\n",
       "      <td>NaN</td>\n",
       "      <td>Garissa</td>\n",
       "      <td>Dadaab</td>\n",
       "      <td>No</td>\n",
       "      <td>NaN</td>\n",
       "      <td>NaN</td>\n",
       "      <td>NaN</td>\n",
       "      <td>NaT</td>\n",
       "      <td>NaT</td>\n",
       "      <td>Negative</td>\n",
       "      <td>2020-06-02</td>\n",
       "      <td>NaN</td>\n",
       "      <td>NaN</td>\n",
       "      <td>NaT</td>\n",
       "    </tr>\n",
       "  </tbody>\n",
       "</table>\n",
       "</div>"
      ],
      "text/plain": [
       "       S_NUM CASE_ID  AGE_YRS GEND     OCCU  NAT COUNT_RES S_COUNT_RES  \\\n",
       "0         A1     NaN      NaN  NaN      NaN  NaN       NaN         NaN   \n",
       "1         C3     NaN      NaN  NaN      NaN  NaN       NaN         NaN   \n",
       "2  COVC00001     NaN     35.0    F  Refugee  NaN   Garissa      Dadaab   \n",
       "3  COVC00002     NaN     29.0    M  Refugee  NaN   Garissa      Dadaab   \n",
       "4  COVC00003     NaN     50.0    M  Refugee  NaN   Garissa      Dadaab   \n",
       "\n",
       "  TRAV_HIST TRAV_FROM QUAR_PLACE SYMPS DT_SAM_COLL DT_SAM_RECEP    RESULT  \\\n",
       "0       NaN       NaN        NaN   NaN         NaT          NaT       NaN   \n",
       "1       NaN       NaN        NaN   NaN         NaT          NaT       NaN   \n",
       "2        No       NaN        NaN   NaN         NaT          NaT  Negative   \n",
       "3        No       NaN        NaN   NaN         NaT          NaT  Negative   \n",
       "4        No       NaN        NaN   NaN         NaT          NaT  Negative   \n",
       "\n",
       "     DT_CONF Well_Position  AVG_Ct              Dt_Run  \n",
       "0        NaT           D01    34.4 2021-06-30 18:48:52  \n",
       "1        NaT           D03    35.0 2021-06-30 18:48:52  \n",
       "2 2020-06-02           NaN     NaN                 NaT  \n",
       "3 2020-06-02           NaN     NaN                 NaT  \n",
       "4 2020-06-02           NaN     NaN                 NaT  "
      ]
     },
     "execution_count": 43,
     "metadata": {},
     "output_type": "execute_result"
    }
   ],
   "source": [
    "df_rmd_cln.head()"
   ]
  },
  {
   "cell_type": "markdown",
   "metadata": {},
   "source": [
    "### **Combining data**"
   ]
  },
  {
   "cell_type": "markdown",
   "metadata": {},
   "source": [
    "#### *Merge Variants and Nextclade data*"
   ]
  },
  {
   "cell_type": "code",
   "execution_count": 44,
   "metadata": {},
   "outputs": [],
   "source": [
    "# merge the nextclade data to the pangolin data\n",
    "df_varNxt = merge_varNxt(df_var_fnl, df_nxt_fnl)"
   ]
  },
  {
   "cell_type": "code",
   "execution_count": 45,
   "metadata": {},
   "outputs": [
    {
     "data": {
      "text/html": [
       "<div>\n",
       "<style scoped>\n",
       "    .dataframe tbody tr th:only-of-type {\n",
       "        vertical-align: middle;\n",
       "    }\n",
       "\n",
       "    .dataframe tbody tr th {\n",
       "        vertical-align: top;\n",
       "    }\n",
       "\n",
       "    .dataframe thead th {\n",
       "        text-align: right;\n",
       "    }\n",
       "</style>\n",
       "<table border=\"1\" class=\"dataframe\">\n",
       "  <thead>\n",
       "    <tr style=\"text-align: right;\">\n",
       "      <th></th>\n",
       "      <th>sample_name</th>\n",
       "      <th>num_vars</th>\n",
       "      <th>ORF1ab</th>\n",
       "      <th>ORF1a</th>\n",
       "      <th>S</th>\n",
       "      <th>ORF3a</th>\n",
       "      <th>ORF3b</th>\n",
       "      <th>E</th>\n",
       "      <th>M</th>\n",
       "      <th>ORF6</th>\n",
       "      <th>ORF7a</th>\n",
       "      <th>ORF7b</th>\n",
       "      <th>ORF8</th>\n",
       "      <th>N</th>\n",
       "      <th>ORF9a</th>\n",
       "      <th>ORF9b</th>\n",
       "      <th>ORF10</th>\n",
       "      <th>clade</th>\n",
       "      <th>coverage</th>\n",
       "    </tr>\n",
       "  </thead>\n",
       "  <tbody>\n",
       "    <tr>\n",
       "      <th>0</th>\n",
       "      <td>COVC24700</td>\n",
       "      <td>40</td>\n",
       "      <td>K261N, K510K, F548F, F548F, F924F, A1306S, C18...</td>\n",
       "      <td>NaN</td>\n",
       "      <td>T19R, L452R, T478K, D614G, P681R, D950N,</td>\n",
       "      <td>S26L</td>\n",
       "      <td>NaN</td>\n",
       "      <td>NaN</td>\n",
       "      <td>I82T</td>\n",
       "      <td>NaN</td>\n",
       "      <td>V82A, T120I</td>\n",
       "      <td>NaN</td>\n",
       "      <td>D119_F120del</td>\n",
       "      <td>D63G, D377Y</td>\n",
       "      <td>NaN</td>\n",
       "      <td>NaN</td>\n",
       "      <td>NaN</td>\n",
       "      <td>21J (Delta)</td>\n",
       "      <td>93.2</td>\n",
       "    </tr>\n",
       "    <tr>\n",
       "      <th>1</th>\n",
       "      <td>COVC24701</td>\n",
       "      <td>0</td>\n",
       "      <td>NaN</td>\n",
       "      <td>NaN</td>\n",
       "      <td>NaN</td>\n",
       "      <td>NaN</td>\n",
       "      <td>NaN</td>\n",
       "      <td>NaN</td>\n",
       "      <td>NaN</td>\n",
       "      <td>NaN</td>\n",
       "      <td>NaN</td>\n",
       "      <td>NaN</td>\n",
       "      <td>NaN</td>\n",
       "      <td>NaN</td>\n",
       "      <td>NaN</td>\n",
       "      <td>NaN</td>\n",
       "      <td>NaN</td>\n",
       "      <td>19A</td>\n",
       "      <td>3.5</td>\n",
       "    </tr>\n",
       "    <tr>\n",
       "      <th>2</th>\n",
       "      <td>COVC24702</td>\n",
       "      <td>40</td>\n",
       "      <td>K261N, K510K, F548F, F548F, F924F, A1306S, C18...</td>\n",
       "      <td>NaN</td>\n",
       "      <td>T19R, L452R, T478K, D614G, P681R, D950N,</td>\n",
       "      <td>S26L</td>\n",
       "      <td>NaN</td>\n",
       "      <td>NaN</td>\n",
       "      <td>I82T</td>\n",
       "      <td>NaN</td>\n",
       "      <td>V82A, T120I</td>\n",
       "      <td>NaN</td>\n",
       "      <td>D119_F120del</td>\n",
       "      <td>D63G, R203M, G215C</td>\n",
       "      <td>NaN</td>\n",
       "      <td>NaN</td>\n",
       "      <td>NaN</td>\n",
       "      <td>21J (Delta)</td>\n",
       "      <td>94.5</td>\n",
       "    </tr>\n",
       "    <tr>\n",
       "      <th>3</th>\n",
       "      <td>COVC24703</td>\n",
       "      <td>36</td>\n",
       "      <td>K261N, K510K, F548F, F548F, F924F, A1306S, C18...</td>\n",
       "      <td>NaN</td>\n",
       "      <td>D614G, P681R,</td>\n",
       "      <td>S26L</td>\n",
       "      <td>NaN</td>\n",
       "      <td>NaN</td>\n",
       "      <td>I82T</td>\n",
       "      <td>NaN</td>\n",
       "      <td>NaN</td>\n",
       "      <td>NaN</td>\n",
       "      <td>D119_F120del</td>\n",
       "      <td>D63G, R203M, G215C</td>\n",
       "      <td>NaN</td>\n",
       "      <td>NaN</td>\n",
       "      <td>NaN</td>\n",
       "      <td>21J (Delta)</td>\n",
       "      <td>81.8</td>\n",
       "    </tr>\n",
       "    <tr>\n",
       "      <th>4</th>\n",
       "      <td>COVC24704</td>\n",
       "      <td>40</td>\n",
       "      <td>K261N, K510K, F548F, F548F, F924F, A1306S, C18...</td>\n",
       "      <td>NaN</td>\n",
       "      <td>T19R, L452R, T478K, D614G, P681R, D950N,</td>\n",
       "      <td>S26L</td>\n",
       "      <td>NaN</td>\n",
       "      <td>NaN</td>\n",
       "      <td>I82T</td>\n",
       "      <td>NaN</td>\n",
       "      <td>V82A, T120I</td>\n",
       "      <td>NaN</td>\n",
       "      <td>D119_F120del</td>\n",
       "      <td>D63G, D377Y</td>\n",
       "      <td>NaN</td>\n",
       "      <td>NaN</td>\n",
       "      <td>NaN</td>\n",
       "      <td>21J (Delta)</td>\n",
       "      <td>95.1</td>\n",
       "    </tr>\n",
       "  </tbody>\n",
       "</table>\n",
       "</div>"
      ],
      "text/plain": [
       "  sample_name  num_vars                                             ORF1ab  \\\n",
       "0   COVC24700        40  K261N, K510K, F548F, F548F, F924F, A1306S, C18...   \n",
       "1   COVC24701         0                                                NaN   \n",
       "2   COVC24702        40  K261N, K510K, F548F, F548F, F924F, A1306S, C18...   \n",
       "3   COVC24703        36  K261N, K510K, F548F, F548F, F924F, A1306S, C18...   \n",
       "4   COVC24704        40  K261N, K510K, F548F, F548F, F924F, A1306S, C18...   \n",
       "\n",
       "   ORF1a                                          S ORF3a  ORF3b    E     M  \\\n",
       "0    NaN  T19R, L452R, T478K, D614G, P681R, D950N,   S26L    NaN  NaN  I82T   \n",
       "1    NaN                                        NaN   NaN    NaN  NaN   NaN   \n",
       "2    NaN  T19R, L452R, T478K, D614G, P681R, D950N,   S26L    NaN  NaN  I82T   \n",
       "3    NaN                             D614G, P681R,   S26L    NaN  NaN  I82T   \n",
       "4    NaN  T19R, L452R, T478K, D614G, P681R, D950N,   S26L    NaN  NaN  I82T   \n",
       "\n",
       "  ORF6        ORF7a  ORF7b          ORF8                   N  ORF9a  ORF9b  \\\n",
       "0  NaN  V82A, T120I    NaN  D119_F120del         D63G, D377Y    NaN    NaN   \n",
       "1  NaN          NaN    NaN           NaN                 NaN    NaN    NaN   \n",
       "2  NaN  V82A, T120I    NaN  D119_F120del  D63G, R203M, G215C    NaN    NaN   \n",
       "3  NaN          NaN    NaN  D119_F120del  D63G, R203M, G215C    NaN    NaN   \n",
       "4  NaN  V82A, T120I    NaN  D119_F120del         D63G, D377Y    NaN    NaN   \n",
       "\n",
       "  ORF10        clade  coverage  \n",
       "0   NaN  21J (Delta)      93.2  \n",
       "1   NaN          19A       3.5  \n",
       "2   NaN  21J (Delta)      94.5  \n",
       "3   NaN  21J (Delta)      81.8  \n",
       "4   NaN  21J (Delta)      95.1  "
      ]
     },
     "execution_count": 45,
     "metadata": {},
     "output_type": "execute_result"
    }
   ],
   "source": [
    "df_varNxt.head()"
   ]
  },
  {
   "cell_type": "markdown",
   "metadata": {},
   "source": [
    "#### *Merge pango and var-nextclade data*"
   ]
  },
  {
   "cell_type": "code",
   "execution_count": 46,
   "metadata": {},
   "outputs": [],
   "source": [
    "# merge the variants-nextclade data to the pangolin data (prioritise pango - left join)\n",
    "df_pngVxt = merge_pngVxt(df_png_fnl, df_varNxt)"
   ]
  },
  {
   "cell_type": "code",
   "execution_count": 47,
   "metadata": {},
   "outputs": [
    {
     "data": {
      "text/html": [
       "<div>\n",
       "<style scoped>\n",
       "    .dataframe tbody tr th:only-of-type {\n",
       "        vertical-align: middle;\n",
       "    }\n",
       "\n",
       "    .dataframe tbody tr th {\n",
       "        vertical-align: top;\n",
       "    }\n",
       "\n",
       "    .dataframe thead th {\n",
       "        text-align: right;\n",
       "    }\n",
       "</style>\n",
       "<table border=\"1\" class=\"dataframe\">\n",
       "  <thead>\n",
       "    <tr style=\"text-align: right;\">\n",
       "      <th></th>\n",
       "      <th>Sequence_name</th>\n",
       "      <th>Lineage</th>\n",
       "      <th>Scorpio_call</th>\n",
       "      <th>num_vars</th>\n",
       "      <th>ORF1ab</th>\n",
       "      <th>ORF1a</th>\n",
       "      <th>S</th>\n",
       "      <th>ORF3a</th>\n",
       "      <th>ORF3b</th>\n",
       "      <th>E</th>\n",
       "      <th>...</th>\n",
       "      <th>ORF6</th>\n",
       "      <th>ORF7a</th>\n",
       "      <th>ORF7b</th>\n",
       "      <th>ORF8</th>\n",
       "      <th>N</th>\n",
       "      <th>ORF9a</th>\n",
       "      <th>ORF9b</th>\n",
       "      <th>ORF10</th>\n",
       "      <th>clade</th>\n",
       "      <th>coverage</th>\n",
       "    </tr>\n",
       "  </thead>\n",
       "  <tbody>\n",
       "    <tr>\n",
       "      <th>0</th>\n",
       "      <td>COVC24700</td>\n",
       "      <td>AY.5</td>\n",
       "      <td>Delta (B.1.617.2-like)</td>\n",
       "      <td>40</td>\n",
       "      <td>K261N, K510K, F548F, F548F, F924F, A1306S, C18...</td>\n",
       "      <td>NaN</td>\n",
       "      <td>T19R, L452R, T478K, D614G, P681R, D950N,</td>\n",
       "      <td>S26L</td>\n",
       "      <td>NaN</td>\n",
       "      <td>NaN</td>\n",
       "      <td>...</td>\n",
       "      <td>NaN</td>\n",
       "      <td>V82A, T120I</td>\n",
       "      <td>NaN</td>\n",
       "      <td>D119_F120del</td>\n",
       "      <td>D63G, D377Y</td>\n",
       "      <td>NaN</td>\n",
       "      <td>NaN</td>\n",
       "      <td>NaN</td>\n",
       "      <td>21J (Delta)</td>\n",
       "      <td>93.2</td>\n",
       "    </tr>\n",
       "    <tr>\n",
       "      <th>1</th>\n",
       "      <td>COVC24701</td>\n",
       "      <td>NaN</td>\n",
       "      <td>NaN</td>\n",
       "      <td>0</td>\n",
       "      <td>NaN</td>\n",
       "      <td>NaN</td>\n",
       "      <td>NaN</td>\n",
       "      <td>NaN</td>\n",
       "      <td>NaN</td>\n",
       "      <td>NaN</td>\n",
       "      <td>...</td>\n",
       "      <td>NaN</td>\n",
       "      <td>NaN</td>\n",
       "      <td>NaN</td>\n",
       "      <td>NaN</td>\n",
       "      <td>NaN</td>\n",
       "      <td>NaN</td>\n",
       "      <td>NaN</td>\n",
       "      <td>NaN</td>\n",
       "      <td>19A</td>\n",
       "      <td>3.5</td>\n",
       "    </tr>\n",
       "    <tr>\n",
       "      <th>2</th>\n",
       "      <td>COVC24702</td>\n",
       "      <td>AY.41</td>\n",
       "      <td>Delta (B.1.617.2-like)</td>\n",
       "      <td>40</td>\n",
       "      <td>K261N, K510K, F548F, F548F, F924F, A1306S, C18...</td>\n",
       "      <td>NaN</td>\n",
       "      <td>T19R, L452R, T478K, D614G, P681R, D950N,</td>\n",
       "      <td>S26L</td>\n",
       "      <td>NaN</td>\n",
       "      <td>NaN</td>\n",
       "      <td>...</td>\n",
       "      <td>NaN</td>\n",
       "      <td>V82A, T120I</td>\n",
       "      <td>NaN</td>\n",
       "      <td>D119_F120del</td>\n",
       "      <td>D63G, R203M, G215C</td>\n",
       "      <td>NaN</td>\n",
       "      <td>NaN</td>\n",
       "      <td>NaN</td>\n",
       "      <td>21J (Delta)</td>\n",
       "      <td>94.5</td>\n",
       "    </tr>\n",
       "    <tr>\n",
       "      <th>3</th>\n",
       "      <td>COVC24703</td>\n",
       "      <td>AY.41</td>\n",
       "      <td>Delta (B.1.617.2-like)</td>\n",
       "      <td>36</td>\n",
       "      <td>K261N, K510K, F548F, F548F, F924F, A1306S, C18...</td>\n",
       "      <td>NaN</td>\n",
       "      <td>D614G, P681R,</td>\n",
       "      <td>S26L</td>\n",
       "      <td>NaN</td>\n",
       "      <td>NaN</td>\n",
       "      <td>...</td>\n",
       "      <td>NaN</td>\n",
       "      <td>NaN</td>\n",
       "      <td>NaN</td>\n",
       "      <td>D119_F120del</td>\n",
       "      <td>D63G, R203M, G215C</td>\n",
       "      <td>NaN</td>\n",
       "      <td>NaN</td>\n",
       "      <td>NaN</td>\n",
       "      <td>21J (Delta)</td>\n",
       "      <td>81.8</td>\n",
       "    </tr>\n",
       "    <tr>\n",
       "      <th>4</th>\n",
       "      <td>COVC24704</td>\n",
       "      <td>AY.5</td>\n",
       "      <td>Delta (B.1.617.2-like)</td>\n",
       "      <td>40</td>\n",
       "      <td>K261N, K510K, F548F, F548F, F924F, A1306S, C18...</td>\n",
       "      <td>NaN</td>\n",
       "      <td>T19R, L452R, T478K, D614G, P681R, D950N,</td>\n",
       "      <td>S26L</td>\n",
       "      <td>NaN</td>\n",
       "      <td>NaN</td>\n",
       "      <td>...</td>\n",
       "      <td>NaN</td>\n",
       "      <td>V82A, T120I</td>\n",
       "      <td>NaN</td>\n",
       "      <td>D119_F120del</td>\n",
       "      <td>D63G, D377Y</td>\n",
       "      <td>NaN</td>\n",
       "      <td>NaN</td>\n",
       "      <td>NaN</td>\n",
       "      <td>21J (Delta)</td>\n",
       "      <td>95.1</td>\n",
       "    </tr>\n",
       "  </tbody>\n",
       "</table>\n",
       "<p>5 rows × 21 columns</p>\n",
       "</div>"
      ],
      "text/plain": [
       "  Sequence_name Lineage            Scorpio_call  num_vars  \\\n",
       "0     COVC24700    AY.5  Delta (B.1.617.2-like)        40   \n",
       "1     COVC24701     NaN                     NaN         0   \n",
       "2     COVC24702   AY.41  Delta (B.1.617.2-like)        40   \n",
       "3     COVC24703   AY.41  Delta (B.1.617.2-like)        36   \n",
       "4     COVC24704    AY.5  Delta (B.1.617.2-like)        40   \n",
       "\n",
       "                                              ORF1ab  ORF1a  \\\n",
       "0  K261N, K510K, F548F, F548F, F924F, A1306S, C18...    NaN   \n",
       "1                                                NaN    NaN   \n",
       "2  K261N, K510K, F548F, F548F, F924F, A1306S, C18...    NaN   \n",
       "3  K261N, K510K, F548F, F548F, F924F, A1306S, C18...    NaN   \n",
       "4  K261N, K510K, F548F, F548F, F924F, A1306S, C18...    NaN   \n",
       "\n",
       "                                           S ORF3a  ORF3b    E  ... ORF6  \\\n",
       "0  T19R, L452R, T478K, D614G, P681R, D950N,   S26L    NaN  NaN  ...  NaN   \n",
       "1                                        NaN   NaN    NaN  NaN  ...  NaN   \n",
       "2  T19R, L452R, T478K, D614G, P681R, D950N,   S26L    NaN  NaN  ...  NaN   \n",
       "3                             D614G, P681R,   S26L    NaN  NaN  ...  NaN   \n",
       "4  T19R, L452R, T478K, D614G, P681R, D950N,   S26L    NaN  NaN  ...  NaN   \n",
       "\n",
       "         ORF7a ORF7b          ORF8                   N ORF9a  ORF9b  ORF10  \\\n",
       "0  V82A, T120I   NaN  D119_F120del         D63G, D377Y   NaN    NaN    NaN   \n",
       "1          NaN   NaN           NaN                 NaN   NaN    NaN    NaN   \n",
       "2  V82A, T120I   NaN  D119_F120del  D63G, R203M, G215C   NaN    NaN    NaN   \n",
       "3          NaN   NaN  D119_F120del  D63G, R203M, G215C   NaN    NaN    NaN   \n",
       "4  V82A, T120I   NaN  D119_F120del         D63G, D377Y   NaN    NaN    NaN   \n",
       "\n",
       "         clade coverage  \n",
       "0  21J (Delta)     93.2  \n",
       "1          19A      3.5  \n",
       "2  21J (Delta)     94.5  \n",
       "3  21J (Delta)     81.8  \n",
       "4  21J (Delta)     95.1  \n",
       "\n",
       "[5 rows x 21 columns]"
      ]
     },
     "execution_count": 47,
     "metadata": {},
     "output_type": "execute_result"
    }
   ],
   "source": [
    "df_pngVxt.head()"
   ]
  },
  {
   "cell_type": "code",
   "execution_count": 48,
   "metadata": {},
   "outputs": [
    {
     "data": {
      "text/plain": [
       "Index(['Sequence_name', 'Lineage', 'Scorpio_call', 'num_vars', 'ORF1ab',\n",
       "       'ORF1a', 'S', 'ORF3a', 'ORF3b', 'E', 'M', 'ORF6', 'ORF7a', 'ORF7b',\n",
       "       'ORF8', 'N', 'ORF9a', 'ORF9b', 'ORF10', 'clade', 'coverage'],\n",
       "      dtype='object')"
      ]
     },
     "execution_count": 48,
     "metadata": {},
     "output_type": "execute_result"
    }
   ],
   "source": [
    "df_pngVxt.columns"
   ]
  },
  {
   "cell_type": "code",
   "execution_count": 49,
   "metadata": {},
   "outputs": [],
   "source": [
    "df_pngVxt_cols_rename = ['S_NUM', 'LIN', 'SCORP_CALL',\n",
    "       'N_VAR', 'ORF1ab', 'ORF1a', 'S', 'ORF3a', 'ORF3b', 'E', 'M', 'ORF6',\n",
    "       'ORF7a', 'ORF7b', 'ORF8', 'N', 'ORF9a', 'ORF9b', 'ORF10', 'CLADE',\n",
    "       'G_COV']\n",
    "df_pngVxt.columns = df_pngVxt_cols_rename"
   ]
  },
  {
   "cell_type": "markdown",
   "metadata": {},
   "source": [
    "#### *Merge sequence/var-nxt-png (pngVxt) and  metadata (df_rmd_cln)*"
   ]
  },
  {
   "cell_type": "code",
   "execution_count": 50,
   "metadata": {},
   "outputs": [],
   "source": [
    "# merge metadata with seq data\n",
    "df_vnpPmd = merge_vnpPmd(df_pngVxt, df_rmd_cln)"
   ]
  },
  {
   "cell_type": "markdown",
   "metadata": {},
   "source": [
    "### **QC whether all samples sequenced had metadata**"
   ]
  },
  {
   "cell_type": "code",
   "execution_count": 51,
   "metadata": {},
   "outputs": [
    {
     "name": "stdout",
     "output_type": "stream",
     "text": [
      "The following samples may be lacking pre-seq metadata, please verify:\n",
      "set()\n"
     ]
    }
   ],
   "source": [
    "codes_fnl = set(df_vnpPmd['S_NUM'])\n",
    "codes_metadata = set(df_rmd_cln['S_NUM'])\n",
    "codes_union = codes_fnl & codes_metadata\n",
    "if codes_fnl - codes_union == {}:\n",
    "    print('All the samples in the the analysis were in the pre-seq metadata')\n",
    "else:\n",
    "    print(f'The following samples may be lacking pre-seq metadata, please verify:\\n{codes_fnl - codes_union}')\n",
    "    "
   ]
  },
  {
   "cell_type": "markdown",
   "metadata": {},
   "source": [
    "### **Re-order df_vnpPmd columns and export merged metadata and sequencing data**"
   ]
  },
  {
   "cell_type": "code",
   "execution_count": 52,
   "metadata": {},
   "outputs": [],
   "source": [
    "header_MS = ['CASE_ID', 'S_NUM', 'AGE_YRS', 'GEND', 'OCCU', 'NAT', 'COUNT_RES', 'TRAV_HIST',\n",
    "               'TRAV_FROM', 'QUAR_PLACE', 'SYMPS', 'DT_SAM_COLL', 'DT_SAM_RECEP', 'RESULT', \n",
    "               'DT_CONF', 'AVG_Ct', 'LIN', 'SCORP_CALL', 'CLADE', 'G_COV', 'N_VAR',\n",
    "               'S', 'ORF1ab', 'ORF1a', 'ORF3a', 'ORF3b', 'E', 'M', 'ORF6', 'ORF7a', 'ORF7b', \n",
    "               'ORF8', 'N', 'ORF9a', 'ORF9b', 'ORF10']"
   ]
  },
  {
   "cell_type": "code",
   "execution_count": 53,
   "metadata": {},
   "outputs": [],
   "source": [
    "header_policy = ['CASE_ID', 'S_NUM', 'AGE_YRS', 'GEND', 'OCCU', 'NAT', 'COUNT_RES', 'TRAV_HIST',\n",
    "               'TRAV_FROM', 'QUAR_PLACE', 'SYMPS', 'DT_SAM_COLL', 'DT_SAM_RECEP', 'RESULT', \n",
    "               'DT_CONF', 'AVG_Ct']"
   ]
  },
  {
   "cell_type": "code",
   "execution_count": 54,
   "metadata": {},
   "outputs": [],
   "source": [
    "#export limited metadata\n",
    "df_vnpPmd_fnl1 = df_vnpPmd[header_policy].sort_values('S_NUM').drop_duplicates('S_NUM')\n",
    "df_vnpPmd_fnl1[['SEQ#', 'SEQ_MCHN', 'DT_SEQ', 'LIB_KIT', 'PRM_SET']] = [seq_name, tech, seq_dt, lib_prep, primer_set]\n",
    "(df_vnpPmd_fnl1\n",
    ".to_excel(f\"{glob.glob(f'{parent_dir}/**/KnowledgeBrief', recursive=True)[0]}/policy-brief-M-{identifier}_{dt}.xlsx\"\n",
    "                     , index=False, na_rep='N/A', float_format='%.1f'))"
   ]
  },
  {
   "cell_type": "code",
   "execution_count": 55,
   "metadata": {},
   "outputs": [],
   "source": [
    "#export full metadata\n",
    "df_vnpPmd_fnl = df_vnpPmd[header_MS].sort_values('S_NUM').drop_duplicates('S_NUM')\n",
    "df_vnpPmd_fnl[['SEQ#', 'SEQ_MCHN', 'DT_SEQ', 'LIB_KIT', 'PRM_SET']] = [seq_name, tech, seq_dt, lib_prep, primer_set]\n",
    "(df_vnpPmd_fnl\n",
    ".to_excel(f\"{glob.glob(f'{parent_dir}/**/KnowledgeBrief', recursive=True)[0]}/metadata-seq-MS-{identifier}_{dt}.xlsx\"\n",
    "                     , index=False, na_rep='NA', float_format='%.1f'))\n",
    "# df_vnpPmd_fnl.head()"
   ]
  },
  {
   "cell_type": "code",
   "execution_count": 56,
   "metadata": {},
   "outputs": [
    {
     "data": {
      "text/html": [
       "<div>\n",
       "<style scoped>\n",
       "    .dataframe tbody tr th:only-of-type {\n",
       "        vertical-align: middle;\n",
       "    }\n",
       "\n",
       "    .dataframe tbody tr th {\n",
       "        vertical-align: top;\n",
       "    }\n",
       "\n",
       "    .dataframe thead th {\n",
       "        text-align: right;\n",
       "    }\n",
       "</style>\n",
       "<table border=\"1\" class=\"dataframe\">\n",
       "  <thead>\n",
       "    <tr style=\"text-align: right;\">\n",
       "      <th></th>\n",
       "      <th>CASE_ID</th>\n",
       "      <th>S_NUM</th>\n",
       "      <th>AGE_YRS</th>\n",
       "      <th>GEND</th>\n",
       "      <th>OCCU</th>\n",
       "      <th>NAT</th>\n",
       "      <th>COUNT_RES</th>\n",
       "      <th>TRAV_HIST</th>\n",
       "      <th>TRAV_FROM</th>\n",
       "      <th>QUAR_PLACE</th>\n",
       "      <th>...</th>\n",
       "      <th>ORF8</th>\n",
       "      <th>N</th>\n",
       "      <th>ORF9a</th>\n",
       "      <th>ORF9b</th>\n",
       "      <th>ORF10</th>\n",
       "      <th>SEQ#</th>\n",
       "      <th>SEQ_MCHN</th>\n",
       "      <th>DT_SEQ</th>\n",
       "      <th>LIB_KIT</th>\n",
       "      <th>PRM_SET</th>\n",
       "    </tr>\n",
       "  </thead>\n",
       "  <tbody>\n",
       "    <tr>\n",
       "      <th>0</th>\n",
       "      <td>MCRH/MIG/19012</td>\n",
       "      <td>COVC24700</td>\n",
       "      <td>22.0</td>\n",
       "      <td>M</td>\n",
       "      <td>NaN</td>\n",
       "      <td>Kenya</td>\n",
       "      <td>Migori</td>\n",
       "      <td>No</td>\n",
       "      <td>NaN</td>\n",
       "      <td>NaN</td>\n",
       "      <td>...</td>\n",
       "      <td>D119_F120del</td>\n",
       "      <td>D63G, D377Y</td>\n",
       "      <td>NaN</td>\n",
       "      <td>NaN</td>\n",
       "      <td>NaN</td>\n",
       "      <td>seq21</td>\n",
       "      <td>MinION</td>\n",
       "      <td>29/10/2021</td>\n",
       "      <td>NEBNext</td>\n",
       "      <td>ARTIC_V3</td>\n",
       "    </tr>\n",
       "    <tr>\n",
       "      <th>1</th>\n",
       "      <td>MCRH/MIG/19013</td>\n",
       "      <td>COVC24701</td>\n",
       "      <td>11.0</td>\n",
       "      <td>M</td>\n",
       "      <td>NaN</td>\n",
       "      <td>Kenya</td>\n",
       "      <td>Migori</td>\n",
       "      <td>No</td>\n",
       "      <td>NaN</td>\n",
       "      <td>NaN</td>\n",
       "      <td>...</td>\n",
       "      <td>NaN</td>\n",
       "      <td>NaN</td>\n",
       "      <td>NaN</td>\n",
       "      <td>NaN</td>\n",
       "      <td>NaN</td>\n",
       "      <td>seq21</td>\n",
       "      <td>MinION</td>\n",
       "      <td>29/10/2021</td>\n",
       "      <td>NEBNext</td>\n",
       "      <td>ARTIC_V3</td>\n",
       "    </tr>\n",
       "    <tr>\n",
       "      <th>2</th>\n",
       "      <td>MCRH/MIG/19014</td>\n",
       "      <td>COVC24702</td>\n",
       "      <td>22.0</td>\n",
       "      <td>M</td>\n",
       "      <td>NaN</td>\n",
       "      <td>Kenya</td>\n",
       "      <td>Migori</td>\n",
       "      <td>No</td>\n",
       "      <td>NaN</td>\n",
       "      <td>NaN</td>\n",
       "      <td>...</td>\n",
       "      <td>D119_F120del</td>\n",
       "      <td>D63G, R203M, G215C</td>\n",
       "      <td>NaN</td>\n",
       "      <td>NaN</td>\n",
       "      <td>NaN</td>\n",
       "      <td>seq21</td>\n",
       "      <td>MinION</td>\n",
       "      <td>29/10/2021</td>\n",
       "      <td>NEBNext</td>\n",
       "      <td>ARTIC_V3</td>\n",
       "    </tr>\n",
       "    <tr>\n",
       "      <th>3</th>\n",
       "      <td>MCRH/MIG/19015</td>\n",
       "      <td>COVC24703</td>\n",
       "      <td>40.0</td>\n",
       "      <td>M</td>\n",
       "      <td>NaN</td>\n",
       "      <td>Kenya</td>\n",
       "      <td>Migori</td>\n",
       "      <td>No</td>\n",
       "      <td>NaN</td>\n",
       "      <td>NaN</td>\n",
       "      <td>...</td>\n",
       "      <td>D119_F120del</td>\n",
       "      <td>D63G, R203M, G215C</td>\n",
       "      <td>NaN</td>\n",
       "      <td>NaN</td>\n",
       "      <td>NaN</td>\n",
       "      <td>seq21</td>\n",
       "      <td>MinION</td>\n",
       "      <td>29/10/2021</td>\n",
       "      <td>NEBNext</td>\n",
       "      <td>ARTIC_V3</td>\n",
       "    </tr>\n",
       "    <tr>\n",
       "      <th>4</th>\n",
       "      <td>MCRH/MIG/19017</td>\n",
       "      <td>COVC24704</td>\n",
       "      <td>22.0</td>\n",
       "      <td>M</td>\n",
       "      <td>NaN</td>\n",
       "      <td>Kenya</td>\n",
       "      <td>Migori</td>\n",
       "      <td>No</td>\n",
       "      <td>NaN</td>\n",
       "      <td>NaN</td>\n",
       "      <td>...</td>\n",
       "      <td>D119_F120del</td>\n",
       "      <td>D63G, D377Y</td>\n",
       "      <td>NaN</td>\n",
       "      <td>NaN</td>\n",
       "      <td>NaN</td>\n",
       "      <td>seq21</td>\n",
       "      <td>MinION</td>\n",
       "      <td>29/10/2021</td>\n",
       "      <td>NEBNext</td>\n",
       "      <td>ARTIC_V3</td>\n",
       "    </tr>\n",
       "  </tbody>\n",
       "</table>\n",
       "<p>5 rows × 41 columns</p>\n",
       "</div>"
      ],
      "text/plain": [
       "          CASE_ID      S_NUM  AGE_YRS GEND OCCU    NAT COUNT_RES TRAV_HIST  \\\n",
       "0  MCRH/MIG/19012  COVC24700     22.0    M  NaN  Kenya    Migori        No   \n",
       "1  MCRH/MIG/19013  COVC24701     11.0    M  NaN  Kenya    Migori        No   \n",
       "2  MCRH/MIG/19014  COVC24702     22.0    M  NaN  Kenya    Migori        No   \n",
       "3  MCRH/MIG/19015  COVC24703     40.0    M  NaN  Kenya    Migori        No   \n",
       "4  MCRH/MIG/19017  COVC24704     22.0    M  NaN  Kenya    Migori        No   \n",
       "\n",
       "  TRAV_FROM QUAR_PLACE  ...          ORF8                   N ORF9a ORF9b  \\\n",
       "0       NaN        NaN  ...  D119_F120del         D63G, D377Y   NaN   NaN   \n",
       "1       NaN        NaN  ...           NaN                 NaN   NaN   NaN   \n",
       "2       NaN        NaN  ...  D119_F120del  D63G, R203M, G215C   NaN   NaN   \n",
       "3       NaN        NaN  ...  D119_F120del  D63G, R203M, G215C   NaN   NaN   \n",
       "4       NaN        NaN  ...  D119_F120del         D63G, D377Y   NaN   NaN   \n",
       "\n",
       "  ORF10   SEQ# SEQ_MCHN      DT_SEQ  LIB_KIT   PRM_SET  \n",
       "0   NaN  seq21   MinION  29/10/2021  NEBNext  ARTIC_V3  \n",
       "1   NaN  seq21   MinION  29/10/2021  NEBNext  ARTIC_V3  \n",
       "2   NaN  seq21   MinION  29/10/2021  NEBNext  ARTIC_V3  \n",
       "3   NaN  seq21   MinION  29/10/2021  NEBNext  ARTIC_V3  \n",
       "4   NaN  seq21   MinION  29/10/2021  NEBNext  ARTIC_V3  \n",
       "\n",
       "[5 rows x 41 columns]"
      ]
     },
     "execution_count": 56,
     "metadata": {},
     "output_type": "execute_result"
    }
   ],
   "source": [
    "df_vnpPmd_fnl.head()"
   ]
  },
  {
   "cell_type": "markdown",
   "metadata": {},
   "source": [
    "### **County feedback data**"
   ]
  },
  {
   "cell_type": "code",
   "execution_count": 57,
   "metadata": {},
   "outputs": [],
   "source": [
    "df_raw_meta = df_vnpPmd_fnl[['CASE_ID', 'S_NUM']]\n",
    "df_caseidSeq = df_raw_meta.merge(df_vnpPmd_fnl, how='right', left_on='S_NUM', right_on='S_NUM')#.drop('SUM_Y', axis=1)"
   ]
  },
  {
   "cell_type": "code",
   "execution_count": 58,
   "metadata": {},
   "outputs": [
    {
     "data": {
      "text/plain": [
       "Index(['CASE_ID', 'S_NUM', 'AGE_YRS', 'GEND', 'OCCU', 'NAT', 'COUNT_RES',\n",
       "       'TRAV_HIST', 'TRAV_FROM', 'QUAR_PLACE', 'SYMPS', 'DT_SAM_COLL',\n",
       "       'DT_SAM_RECEP', 'RESULT', 'DT_CONF', 'AVG_Ct', 'LIN', 'SCORP_CALL',\n",
       "       'CLADE', 'G_COV', 'N_VAR', 'S', 'ORF1ab', 'ORF1a', 'ORF3a', 'ORF3b',\n",
       "       'E', 'M', 'ORF6', 'ORF7a', 'ORF7b', 'ORF8', 'N', 'ORF9a', 'ORF9b',\n",
       "       'ORF10', 'SEQ#', 'SEQ_MCHN', 'DT_SEQ', 'LIB_KIT', 'PRM_SET'],\n",
       "      dtype='object')"
      ]
     },
     "execution_count": 58,
     "metadata": {},
     "output_type": "execute_result"
    }
   ],
   "source": [
    "df_vnpPmd_fnl.columns"
   ]
  },
  {
   "cell_type": "code",
   "execution_count": 61,
   "metadata": {},
   "outputs": [],
   "source": [
    "reports = [('Homabay', 'HBCTRH'), ('Migori', 'MCRH'), ('Kisii', 'KCRH'), \n",
    "           ('Nyamira', 'NCRH'), ('Siaya', 'SCRH'), ('KCSS')]\n",
    "\n",
    "for report in reports:\n",
    "    mask1 = df_vnpPmd_fnl['COUNT_RES'] == report[0]\n",
    "    mask2 = df_vnpPmd_fnl['CASE_ID'].str.contains(report[1]) == True\n",
    "    mask3 = df_vnpPmd_fnl['CASE_ID'].str.contains(report[0]) == True\n",
    "    if len(report) != 2:\n",
    "        df_report = df_vnpPmd_fnl[mask3 == True]\n",
    "    else:\n",
    "        df_report = df_vnpPmd_fnl[mask2 == True]\n",
    "    if df_report.shape[0] > 0:\n",
    "        df_report.to_excel(f\"{glob.glob(f'{parent_dir}/CountyFeedbacks')[0]}/{seq_name}-results-{report[0]}_{dt}.xlsx\", index=False, float_format='%.1f')\n",
    "    "
   ]
  },
  {
   "cell_type": "markdown",
   "metadata": {},
   "source": [
    "### **CDC VoI**"
   ]
  },
  {
   "cell_type": "code",
   "execution_count": 62,
   "metadata": {},
   "outputs": [],
   "source": [
    "gamma = ['L18F', 'T20N', 'P26S', 'D138Y', 'R190S', 'K417T', 'E484K', 'N501Y', 'D614G', 'H655Y', 'T1027I']\n",
    "delta = ['T19R', '(V70F*)', 'T95I', 'G142D', 'E156-', 'F157-', 'R158G', '(A222V*)', '(W258L*)', '(K417N*)', \n",
    "         'L452R', 'T478K', 'D614G', 'P681R', 'D950N']\n",
    "beta = ['D80A', 'D215G', '241del', '242del', '243del', 'K417N', 'E484K', 'N501Y', 'D614G', 'A701V']\n",
    "alpha = ['69del', '70del', '144del', '(E484K*)', '(S494P*)', 'N501Y', 'A570D', 'D614G', 'P681H', 'T716I', 'S982A', 'D1118H', '(K1191N*)']"
   ]
  },
  {
   "cell_type": "raw",
   "metadata": {},
   "source": [
    "set(gamma) & set(delta) & set(beta) & set(alpha)"
   ]
  },
  {
   "cell_type": "markdown",
   "metadata": {},
   "source": [
    "### **CDC VoC**"
   ]
  },
  {
   "cell_type": "code",
   "execution_count": 63,
   "metadata": {},
   "outputs": [],
   "source": [
    "B16173 = ['T19R', 'G142D', 'L452R', 'E484Q', 'D614G', 'P681R', 'D950N']\n",
    "kappa = ['(T95I)', 'G142D', 'E154K', 'L452R', 'E484Q', 'D614G', 'P681R', 'Q1071H']\n",
    "iota = ['L5F', '(D80G*)', 'T95I', '(Y144-*)', '(F157S*)', 'D253G', '(L452R*)', '(S477N*)', \n",
    "        'E484K', 'D614G', 'A701V', '(T859N*)', '(D950H*)', '(Q957R*)']\n",
    "eta = ['A67V', '69del', '70del', '144del', 'E484K', 'D614G', 'Q677H', 'F888L']"
   ]
  },
  {
   "cell_type": "raw",
   "metadata": {},
   "source": [
    "set(B16173) & set(kappa) & set(iota) & set(eta)"
   ]
  },
  {
   "cell_type": "code",
   "execution_count": 64,
   "metadata": {},
   "outputs": [],
   "source": [
    "x = (set(gamma).union(set(delta)).union(set(beta)).union(set(alpha))).union(set(B16173).union(set(kappa)).union(set(iota)).union(set(eta)))\n",
    "# x"
   ]
  },
  {
   "cell_type": "markdown",
   "metadata": {},
   "source": [
    "### **Variants of Concern or under investigation**\n",
    " - N501Y (B.1.1.7): UK variant (Alpha)\n",
    " - N501Y, E484K, *K417N (B.1.351): SA variant (Beta)\n",
    " - N501Y, E484K (P.1): Brazilian variant (Gamma)\n",
    " - P681R, E484Q, L452R (B.1.617.2): *Indian variant (Delta)\n",
    " - F157L, V367F, Q613H, P681R (A23.1): Ugandan\n",
    " - E484K, Q677H, F888L (B.1.525): Multiple (Eta)\n",
    " - L5F, T95I, D253G, A701V (B.1.526): USA (Iota)\n",
    " - G142D, E154K, Q1071H ('B.1.617.1'): Indian (Kappa)"
   ]
  },
  {
   "cell_type": "code",
   "execution_count": 65,
   "metadata": {},
   "outputs": [],
   "source": [
    "# MOH mutations of concern (spike only)\n",
    "moc_list = ['N501Y', 'E484K', 'K417N', 'P681R', 'E484Q', 'L452R', 'A570D', 'D80A', 'Q677H', 'F888L', 'L5F', 'D253G', 'E154K', 'A67V']\n",
    "file_name = df_var_fnl\n",
    "df_moc = get_mut_of_concern(file_name, moc_list)"
   ]
  },
  {
   "cell_type": "code",
   "execution_count": 66,
   "metadata": {},
   "outputs": [
    {
     "data": {
      "text/html": [
       "<div>\n",
       "<style scoped>\n",
       "    .dataframe tbody tr th:only-of-type {\n",
       "        vertical-align: middle;\n",
       "    }\n",
       "\n",
       "    .dataframe tbody tr th {\n",
       "        vertical-align: top;\n",
       "    }\n",
       "\n",
       "    .dataframe thead th {\n",
       "        text-align: right;\n",
       "    }\n",
       "</style>\n",
       "<table border=\"1\" class=\"dataframe\">\n",
       "  <thead>\n",
       "    <tr style=\"text-align: right;\">\n",
       "      <th></th>\n",
       "      <th>Sample_ID</th>\n",
       "      <th>Mut_of_Concern_(S)</th>\n",
       "      <th>All_Mutations_(S)</th>\n",
       "    </tr>\n",
       "  </thead>\n",
       "  <tbody>\n",
       "    <tr>\n",
       "      <th>0</th>\n",
       "      <td>COVM01413</td>\n",
       "      <td>L452R, P681R</td>\n",
       "      <td>D428D, L452R, T478K, D614G, P681R, D950N</td>\n",
       "    </tr>\n",
       "    <tr>\n",
       "      <th>1</th>\n",
       "      <td>COVC24707</td>\n",
       "      <td>L452R, P681R</td>\n",
       "      <td>L452R, T478K, L518L, D614G, P681R, D950N,</td>\n",
       "    </tr>\n",
       "    <tr>\n",
       "      <th>2</th>\n",
       "      <td>COVM01324</td>\n",
       "      <td>L452R, P681R</td>\n",
       "      <td>E156_R158delinsG, L452R, T478K, D614G, P681R, ...</td>\n",
       "    </tr>\n",
       "    <tr>\n",
       "      <th>3</th>\n",
       "      <td>COVM01366</td>\n",
       "      <td>L452R, P681R</td>\n",
       "      <td>E156_R158delinsG, L452R, T478K, D614G, P681R, ...</td>\n",
       "    </tr>\n",
       "    <tr>\n",
       "      <th>4</th>\n",
       "      <td>COVM01362</td>\n",
       "      <td>L452R, P681R</td>\n",
       "      <td>E156_R158delinsG, L452R, T478K, D614G, P681R, ...</td>\n",
       "    </tr>\n",
       "  </tbody>\n",
       "</table>\n",
       "</div>"
      ],
      "text/plain": [
       "   Sample_ID Mut_of_Concern_(S)  \\\n",
       "0  COVM01413       L452R, P681R   \n",
       "1  COVC24707       L452R, P681R   \n",
       "2  COVM01324       L452R, P681R   \n",
       "3  COVM01366       L452R, P681R   \n",
       "4  COVM01362       L452R, P681R   \n",
       "\n",
       "                                   All_Mutations_(S)  \n",
       "0           D428D, L452R, T478K, D614G, P681R, D950N  \n",
       "1         L452R, T478K, L518L, D614G, P681R, D950N,   \n",
       "2  E156_R158delinsG, L452R, T478K, D614G, P681R, ...  \n",
       "3  E156_R158delinsG, L452R, T478K, D614G, P681R, ...  \n",
       "4  E156_R158delinsG, L452R, T478K, D614G, P681R, ...  "
      ]
     },
     "execution_count": 66,
     "metadata": {},
     "output_type": "execute_result"
    }
   ],
   "source": [
    "df_moc.head()"
   ]
  },
  {
   "cell_type": "markdown",
   "metadata": {},
   "source": [
    "### **Subsample brief data**"
   ]
  },
  {
   "cell_type": "code",
   "execution_count": 67,
   "metadata": {},
   "outputs": [],
   "source": [
    "#reorder columns and shrink data\n",
    "cols = ['S_NUM', 'G_COV', 'DT_SAM_COLL', 'DT_SAM_RECEP', 'LIN', 'CLADE', 'SCORP_CALL', 'COUNT_RES'\n",
    "        , 'GEND', 'NAT']"
   ]
  },
  {
   "cell_type": "code",
   "execution_count": 68,
   "metadata": {},
   "outputs": [],
   "source": [
    "#filter reporting coverage (>=70)\n",
    "df_brief = df_vnpPmd[cols][df_vnpPmd[cols]['G_COV'] >= 70]"
   ]
  },
  {
   "cell_type": "code",
   "execution_count": 69,
   "metadata": {},
   "outputs": [
    {
     "data": {
      "text/html": [
       "<div>\n",
       "<style scoped>\n",
       "    .dataframe tbody tr th:only-of-type {\n",
       "        vertical-align: middle;\n",
       "    }\n",
       "\n",
       "    .dataframe tbody tr th {\n",
       "        vertical-align: top;\n",
       "    }\n",
       "\n",
       "    .dataframe thead th {\n",
       "        text-align: right;\n",
       "    }\n",
       "</style>\n",
       "<table border=\"1\" class=\"dataframe\">\n",
       "  <thead>\n",
       "    <tr style=\"text-align: right;\">\n",
       "      <th></th>\n",
       "      <th>S_NUM</th>\n",
       "      <th>G_COV</th>\n",
       "      <th>DT_SAM_COLL</th>\n",
       "      <th>DT_SAM_RECEP</th>\n",
       "      <th>LIN</th>\n",
       "      <th>CLADE</th>\n",
       "      <th>SCORP_CALL</th>\n",
       "      <th>COUNT_RES</th>\n",
       "      <th>GEND</th>\n",
       "      <th>NAT</th>\n",
       "    </tr>\n",
       "  </thead>\n",
       "  <tbody>\n",
       "    <tr>\n",
       "      <th>0</th>\n",
       "      <td>COVC24700</td>\n",
       "      <td>93.2</td>\n",
       "      <td>2021-10-04</td>\n",
       "      <td>2021-10-08</td>\n",
       "      <td>AY.5</td>\n",
       "      <td>21J (Delta)</td>\n",
       "      <td>Delta (B.1.617.2-like)</td>\n",
       "      <td>Migori</td>\n",
       "      <td>M</td>\n",
       "      <td>Kenya</td>\n",
       "    </tr>\n",
       "    <tr>\n",
       "      <th>2</th>\n",
       "      <td>COVC24702</td>\n",
       "      <td>94.5</td>\n",
       "      <td>2021-10-04</td>\n",
       "      <td>2021-10-08</td>\n",
       "      <td>AY.41</td>\n",
       "      <td>21J (Delta)</td>\n",
       "      <td>Delta (B.1.617.2-like)</td>\n",
       "      <td>Migori</td>\n",
       "      <td>M</td>\n",
       "      <td>Kenya</td>\n",
       "    </tr>\n",
       "    <tr>\n",
       "      <th>3</th>\n",
       "      <td>COVC24703</td>\n",
       "      <td>81.8</td>\n",
       "      <td>2021-10-05</td>\n",
       "      <td>2021-10-08</td>\n",
       "      <td>AY.41</td>\n",
       "      <td>21J (Delta)</td>\n",
       "      <td>Delta (B.1.617.2-like)</td>\n",
       "      <td>Migori</td>\n",
       "      <td>M</td>\n",
       "      <td>Kenya</td>\n",
       "    </tr>\n",
       "    <tr>\n",
       "      <th>4</th>\n",
       "      <td>COVC24704</td>\n",
       "      <td>95.1</td>\n",
       "      <td>2021-10-05</td>\n",
       "      <td>2021-10-08</td>\n",
       "      <td>AY.5</td>\n",
       "      <td>21J (Delta)</td>\n",
       "      <td>Delta (B.1.617.2-like)</td>\n",
       "      <td>Migori</td>\n",
       "      <td>M</td>\n",
       "      <td>Kenya</td>\n",
       "    </tr>\n",
       "    <tr>\n",
       "      <th>5</th>\n",
       "      <td>COVC24705</td>\n",
       "      <td>92.7</td>\n",
       "      <td>2021-10-05</td>\n",
       "      <td>2021-10-08</td>\n",
       "      <td>AY.16</td>\n",
       "      <td>21A (Delta)</td>\n",
       "      <td>Delta (B.1.617.2-like)</td>\n",
       "      <td>Migori</td>\n",
       "      <td>M</td>\n",
       "      <td>Kenya</td>\n",
       "    </tr>\n",
       "  </tbody>\n",
       "</table>\n",
       "</div>"
      ],
      "text/plain": [
       "       S_NUM  G_COV DT_SAM_COLL DT_SAM_RECEP    LIN        CLADE  \\\n",
       "0  COVC24700   93.2  2021-10-04   2021-10-08   AY.5  21J (Delta)   \n",
       "2  COVC24702   94.5  2021-10-04   2021-10-08  AY.41  21J (Delta)   \n",
       "3  COVC24703   81.8  2021-10-05   2021-10-08  AY.41  21J (Delta)   \n",
       "4  COVC24704   95.1  2021-10-05   2021-10-08   AY.5  21J (Delta)   \n",
       "5  COVC24705   92.7  2021-10-05   2021-10-08  AY.16  21A (Delta)   \n",
       "\n",
       "               SCORP_CALL COUNT_RES GEND    NAT  \n",
       "0  Delta (B.1.617.2-like)    Migori    M  Kenya  \n",
       "2  Delta (B.1.617.2-like)    Migori    M  Kenya  \n",
       "3  Delta (B.1.617.2-like)    Migori    M  Kenya  \n",
       "4  Delta (B.1.617.2-like)    Migori    M  Kenya  \n",
       "5  Delta (B.1.617.2-like)    Migori    M  Kenya  "
      ]
     },
     "execution_count": 69,
     "metadata": {},
     "output_type": "execute_result"
    }
   ],
   "source": [
    "df_brief.head()"
   ]
  },
  {
   "cell_type": "markdown",
   "metadata": {},
   "source": [
    "### **Merge df_brief with df_moc**"
   ]
  },
  {
   "cell_type": "code",
   "execution_count": 70,
   "metadata": {},
   "outputs": [],
   "source": [
    "df_brfMoc = (df_brief.merge(df_moc, how='left', left_on='S_NUM', right_on='Sample_ID'))\n",
    "df_brfMoc_fnl = (df_brfMoc.fillna('N/A')\n",
    "                 .loc[df_brfMoc['S_NUM'] != 'Undetermined']# removes \"undetermined\"\n",
    "                 .drop(['Sample_ID', 'All_Mutations_(S)'], axis=1)\n",
    "                 .drop_duplicates('S_NUM', ignore_index=True))"
   ]
  },
  {
   "cell_type": "markdown",
   "metadata": {},
   "source": [
    "### **Policy brief report**"
   ]
  },
  {
   "cell_type": "code",
   "execution_count": 71,
   "metadata": {},
   "outputs": [],
   "source": [
    "#rename columns\n",
    "cols = ['Sequence Name', 'Coverage', 'Date Collection (dd-mm-yyyy)', 'Date Received (dd-mm-yyyy)', 'Pango Lineage Annotation', 'Next Clade Lineage Annotation', 'WHO Annotation','Sample County of Origin', 'Gender', 'Subject Country of Origin', 'MoC-S-Protein']\n",
    "df_brfMoc_fnl.columns = cols"
   ]
  },
  {
   "cell_type": "code",
   "execution_count": 72,
   "metadata": {
    "tags": []
   },
   "outputs": [
    {
     "data": {
      "text/html": [
       "<div>\n",
       "<style scoped>\n",
       "    .dataframe tbody tr th:only-of-type {\n",
       "        vertical-align: middle;\n",
       "    }\n",
       "\n",
       "    .dataframe tbody tr th {\n",
       "        vertical-align: top;\n",
       "    }\n",
       "\n",
       "    .dataframe thead th {\n",
       "        text-align: right;\n",
       "    }\n",
       "</style>\n",
       "<table border=\"1\" class=\"dataframe\">\n",
       "  <thead>\n",
       "    <tr style=\"text-align: right;\">\n",
       "      <th></th>\n",
       "      <th>Sequence Name</th>\n",
       "      <th>coverage</th>\n",
       "      <th>Date Collection (dd-mm-yyyy)</th>\n",
       "      <th>Date Received (dd-mm-yyyy)</th>\n",
       "      <th>Pango Lineage Annotation</th>\n",
       "      <th>Next Clade Lineage Annotation</th>\n",
       "      <th>WHO Annotation</th>\n",
       "      <th>Sample County of Origin</th>\n",
       "      <th>Gender</th>\n",
       "      <th>Subject Country of Origin</th>\n",
       "      <th>MoC-S-Protein</th>\n",
       "    </tr>\n",
       "  </thead>\n",
       "  <tbody>\n",
       "    <tr>\n",
       "      <th>0</th>\n",
       "      <td>COVC24700</td>\n",
       "      <td>93.2</td>\n",
       "      <td>2021-10-04 00:00:00</td>\n",
       "      <td>2021-10-08</td>\n",
       "      <td>AY.5</td>\n",
       "      <td>21J (Delta)</td>\n",
       "      <td>Delta (B.1.617.2-like)</td>\n",
       "      <td>Migori</td>\n",
       "      <td>M</td>\n",
       "      <td>Kenya</td>\n",
       "      <td>L452R, P681R</td>\n",
       "    </tr>\n",
       "    <tr>\n",
       "      <th>1</th>\n",
       "      <td>COVC24702</td>\n",
       "      <td>94.5</td>\n",
       "      <td>2021-10-04 00:00:00</td>\n",
       "      <td>2021-10-08</td>\n",
       "      <td>AY.41</td>\n",
       "      <td>21J (Delta)</td>\n",
       "      <td>Delta (B.1.617.2-like)</td>\n",
       "      <td>Migori</td>\n",
       "      <td>M</td>\n",
       "      <td>Kenya</td>\n",
       "      <td>L452R, P681R</td>\n",
       "    </tr>\n",
       "    <tr>\n",
       "      <th>2</th>\n",
       "      <td>COVC24703</td>\n",
       "      <td>81.8</td>\n",
       "      <td>2021-10-05 00:00:00</td>\n",
       "      <td>2021-10-08</td>\n",
       "      <td>AY.41</td>\n",
       "      <td>21J (Delta)</td>\n",
       "      <td>Delta (B.1.617.2-like)</td>\n",
       "      <td>Migori</td>\n",
       "      <td>M</td>\n",
       "      <td>Kenya</td>\n",
       "      <td>P681R</td>\n",
       "    </tr>\n",
       "    <tr>\n",
       "      <th>3</th>\n",
       "      <td>COVC24704</td>\n",
       "      <td>95.1</td>\n",
       "      <td>2021-10-05 00:00:00</td>\n",
       "      <td>2021-10-08</td>\n",
       "      <td>AY.5</td>\n",
       "      <td>21J (Delta)</td>\n",
       "      <td>Delta (B.1.617.2-like)</td>\n",
       "      <td>Migori</td>\n",
       "      <td>M</td>\n",
       "      <td>Kenya</td>\n",
       "      <td>L452R, P681R</td>\n",
       "    </tr>\n",
       "    <tr>\n",
       "      <th>4</th>\n",
       "      <td>COVC24705</td>\n",
       "      <td>92.7</td>\n",
       "      <td>2021-10-05 00:00:00</td>\n",
       "      <td>2021-10-08</td>\n",
       "      <td>AY.16</td>\n",
       "      <td>21A (Delta)</td>\n",
       "      <td>Delta (B.1.617.2-like)</td>\n",
       "      <td>Migori</td>\n",
       "      <td>M</td>\n",
       "      <td>Kenya</td>\n",
       "      <td>L452R, P681R</td>\n",
       "    </tr>\n",
       "  </tbody>\n",
       "</table>\n",
       "</div>"
      ],
      "text/plain": [
       "  Sequence Name  coverage Date Collection (dd-mm-yyyy)  \\\n",
       "0     COVC24700      93.2          2021-10-04 00:00:00   \n",
       "1     COVC24702      94.5          2021-10-04 00:00:00   \n",
       "2     COVC24703      81.8          2021-10-05 00:00:00   \n",
       "3     COVC24704      95.1          2021-10-05 00:00:00   \n",
       "4     COVC24705      92.7          2021-10-05 00:00:00   \n",
       "\n",
       "  Date Received (dd-mm-yyyy) Pango Lineage Annotation  \\\n",
       "0                 2021-10-08                     AY.5   \n",
       "1                 2021-10-08                    AY.41   \n",
       "2                 2021-10-08                    AY.41   \n",
       "3                 2021-10-08                     AY.5   \n",
       "4                 2021-10-08                    AY.16   \n",
       "\n",
       "  Next Clade Lineage Annotation          WHO Annotation  \\\n",
       "0                   21J (Delta)  Delta (B.1.617.2-like)   \n",
       "1                   21J (Delta)  Delta (B.1.617.2-like)   \n",
       "2                   21J (Delta)  Delta (B.1.617.2-like)   \n",
       "3                   21J (Delta)  Delta (B.1.617.2-like)   \n",
       "4                   21A (Delta)  Delta (B.1.617.2-like)   \n",
       "\n",
       "  Sample County of Origin Gender Subject Country of Origin MoC-S-Protein  \n",
       "0                  Migori      M                     Kenya  L452R, P681R  \n",
       "1                  Migori      M                     Kenya  L452R, P681R  \n",
       "2                  Migori      M                     Kenya         P681R  \n",
       "3                  Migori      M                     Kenya  L452R, P681R  \n",
       "4                  Migori      M                     Kenya  L452R, P681R  "
      ]
     },
     "execution_count": 72,
     "metadata": {},
     "output_type": "execute_result"
    }
   ],
   "source": [
    "df_brfMoc_fnl.head()"
   ]
  },
  {
   "cell_type": "markdown",
   "metadata": {},
   "source": [
    "### **Reformat dates for KB**"
   ]
  },
  {
   "cell_type": "code",
   "execution_count": 73,
   "metadata": {},
   "outputs": [],
   "source": [
    "def format_dates(x):\n",
    "    if isinstance(x, pd.Timestamp):\n",
    "        return x#x = x.strftime(format='%d-%m-%Y')\n",
    "    return x\n",
    "    "
   ]
  },
  {
   "cell_type": "code",
   "execution_count": 74,
   "metadata": {},
   "outputs": [],
   "source": [
    "df_brfMoc_fnl['Date Collection (dd-mm-yyyy)'] = (df_brfMoc_fnl['Date Collection (dd-mm-yyyy)']\n",
    "                                                 .map(lambda x: pd.NaT if (x == 'Nil') else format_dates(pd\n",
    "                                                      .to_datetime(x, errors='coerce', dayfirst=True))))"
   ]
  },
  {
   "cell_type": "code",
   "execution_count": 75,
   "metadata": {},
   "outputs": [],
   "source": [
    "df_brfMoc_fnl['Date Received (dd-mm-yyyy)'] = (df_brfMoc_fnl['Date Received (dd-mm-yyyy)']\n",
    "                                                 .map(lambda x: pd.NaT if (x == 'Nil') else format_dates(pd\n",
    "                                                      .to_datetime(x, errors='coerce', dayfirst=True))))"
   ]
  },
  {
   "cell_type": "code",
   "execution_count": 76,
   "metadata": {},
   "outputs": [],
   "source": [
    "df_report_fnl = df_brfMoc_fnl"
   ]
  },
  {
   "cell_type": "code",
   "execution_count": 77,
   "metadata": {},
   "outputs": [
    {
     "data": {
      "text/html": [
       "<div>\n",
       "<style scoped>\n",
       "    .dataframe tbody tr th:only-of-type {\n",
       "        vertical-align: middle;\n",
       "    }\n",
       "\n",
       "    .dataframe tbody tr th {\n",
       "        vertical-align: top;\n",
       "    }\n",
       "\n",
       "    .dataframe thead th {\n",
       "        text-align: right;\n",
       "    }\n",
       "</style>\n",
       "<table border=\"1\" class=\"dataframe\">\n",
       "  <thead>\n",
       "    <tr style=\"text-align: right;\">\n",
       "      <th></th>\n",
       "      <th>Sequence Name</th>\n",
       "      <th>coverage</th>\n",
       "      <th>Date Collection (dd-mm-yyyy)</th>\n",
       "      <th>Date Received (dd-mm-yyyy)</th>\n",
       "      <th>Pango Lineage Annotation</th>\n",
       "      <th>Next Clade Lineage Annotation</th>\n",
       "      <th>WHO Annotation</th>\n",
       "      <th>Sample County of Origin</th>\n",
       "      <th>Gender</th>\n",
       "      <th>Subject Country of Origin</th>\n",
       "      <th>MoC-S-Protein</th>\n",
       "    </tr>\n",
       "  </thead>\n",
       "  <tbody>\n",
       "    <tr>\n",
       "      <th>0</th>\n",
       "      <td>COVC24700</td>\n",
       "      <td>93.2</td>\n",
       "      <td>2021-10-04</td>\n",
       "      <td>2021-10-08</td>\n",
       "      <td>AY.5</td>\n",
       "      <td>21J (Delta)</td>\n",
       "      <td>Delta (B.1.617.2-like)</td>\n",
       "      <td>Migori</td>\n",
       "      <td>M</td>\n",
       "      <td>Kenya</td>\n",
       "      <td>L452R, P681R</td>\n",
       "    </tr>\n",
       "    <tr>\n",
       "      <th>1</th>\n",
       "      <td>COVC24702</td>\n",
       "      <td>94.5</td>\n",
       "      <td>2021-10-04</td>\n",
       "      <td>2021-10-08</td>\n",
       "      <td>AY.41</td>\n",
       "      <td>21J (Delta)</td>\n",
       "      <td>Delta (B.1.617.2-like)</td>\n",
       "      <td>Migori</td>\n",
       "      <td>M</td>\n",
       "      <td>Kenya</td>\n",
       "      <td>L452R, P681R</td>\n",
       "    </tr>\n",
       "    <tr>\n",
       "      <th>2</th>\n",
       "      <td>COVC24703</td>\n",
       "      <td>81.8</td>\n",
       "      <td>2021-10-05</td>\n",
       "      <td>2021-10-08</td>\n",
       "      <td>AY.41</td>\n",
       "      <td>21J (Delta)</td>\n",
       "      <td>Delta (B.1.617.2-like)</td>\n",
       "      <td>Migori</td>\n",
       "      <td>M</td>\n",
       "      <td>Kenya</td>\n",
       "      <td>P681R</td>\n",
       "    </tr>\n",
       "    <tr>\n",
       "      <th>3</th>\n",
       "      <td>COVC24704</td>\n",
       "      <td>95.1</td>\n",
       "      <td>2021-10-05</td>\n",
       "      <td>2021-10-08</td>\n",
       "      <td>AY.5</td>\n",
       "      <td>21J (Delta)</td>\n",
       "      <td>Delta (B.1.617.2-like)</td>\n",
       "      <td>Migori</td>\n",
       "      <td>M</td>\n",
       "      <td>Kenya</td>\n",
       "      <td>L452R, P681R</td>\n",
       "    </tr>\n",
       "    <tr>\n",
       "      <th>4</th>\n",
       "      <td>COVC24705</td>\n",
       "      <td>92.7</td>\n",
       "      <td>2021-10-05</td>\n",
       "      <td>2021-10-08</td>\n",
       "      <td>AY.16</td>\n",
       "      <td>21A (Delta)</td>\n",
       "      <td>Delta (B.1.617.2-like)</td>\n",
       "      <td>Migori</td>\n",
       "      <td>M</td>\n",
       "      <td>Kenya</td>\n",
       "      <td>L452R, P681R</td>\n",
       "    </tr>\n",
       "  </tbody>\n",
       "</table>\n",
       "</div>"
      ],
      "text/plain": [
       "  Sequence Name  coverage Date Collection (dd-mm-yyyy)  \\\n",
       "0     COVC24700      93.2                   2021-10-04   \n",
       "1     COVC24702      94.5                   2021-10-04   \n",
       "2     COVC24703      81.8                   2021-10-05   \n",
       "3     COVC24704      95.1                   2021-10-05   \n",
       "4     COVC24705      92.7                   2021-10-05   \n",
       "\n",
       "  Date Received (dd-mm-yyyy) Pango Lineage Annotation  \\\n",
       "0                 2021-10-08                     AY.5   \n",
       "1                 2021-10-08                    AY.41   \n",
       "2                 2021-10-08                    AY.41   \n",
       "3                 2021-10-08                     AY.5   \n",
       "4                 2021-10-08                    AY.16   \n",
       "\n",
       "  Next Clade Lineage Annotation          WHO Annotation  \\\n",
       "0                   21J (Delta)  Delta (B.1.617.2-like)   \n",
       "1                   21J (Delta)  Delta (B.1.617.2-like)   \n",
       "2                   21J (Delta)  Delta (B.1.617.2-like)   \n",
       "3                   21J (Delta)  Delta (B.1.617.2-like)   \n",
       "4                   21A (Delta)  Delta (B.1.617.2-like)   \n",
       "\n",
       "  Sample County of Origin Gender Subject Country of Origin MoC-S-Protein  \n",
       "0                  Migori      M                     Kenya  L452R, P681R  \n",
       "1                  Migori      M                     Kenya  L452R, P681R  \n",
       "2                  Migori      M                     Kenya         P681R  \n",
       "3                  Migori      M                     Kenya  L452R, P681R  \n",
       "4                  Migori      M                     Kenya  L452R, P681R  "
      ]
     },
     "execution_count": 77,
     "metadata": {},
     "output_type": "execute_result"
    }
   ],
   "source": [
    "df_report_fnl.head()"
   ]
  },
  {
   "cell_type": "code",
   "execution_count": 78,
   "metadata": {},
   "outputs": [],
   "source": [
    "df_report_fnl.to_excel(f\"{glob.glob(f'{parent_dir}/**/KnowledgeBrief', recursive=True)[0]}/policy-brief-T-{identifier}_{dt}.xlsx\"\n",
    "                     , index=False, na_rep='N/A', float_format='%.1f')"
   ]
  },
  {
   "cell_type": "code",
   "execution_count": 79,
   "metadata": {},
   "outputs": [
    {
     "data": {
      "text/plain": [
       "Nairobi    74\n",
       "Migori      9\n",
       "Kiambu      2\n",
       "Nyamira     2\n",
       "Unknown     1\n",
       "Name: Sample County of Origin, dtype: int64"
      ]
     },
     "execution_count": 79,
     "metadata": {},
     "output_type": "execute_result"
    }
   ],
   "source": [
    "(df_report_fnl['Sample County of Origin']\n",
    " .value_counts())"
   ]
  },
  {
   "cell_type": "markdown",
   "metadata": {},
   "source": [
    "### **Visualisation**"
   ]
  },
  {
   "cell_type": "code",
   "execution_count": 80,
   "metadata": {},
   "outputs": [],
   "source": [
    "clr_code = {'TBA48': ('lime', '#00FF00'),\n",
    " 'TBA01': ('gray', '#808080'),\n",
    " 'TBA02': ('orangered', '#FF4500'),\n",
    " 'TBA03': ('cyan', '#00FFFF'),\n",
    " 'TBA05': ('chocolate', '#D2691E'),\n",
    " 'TBA07': ('teal', '#008080'),\n",
    " 'TBA09': ('slategray', '#708090'),\n",
    " 'TBA11': ('orange', '#FFA500'),\n",
    " 'TBA13': ('seagreen', '#2E8B57'),\n",
    " 'TBA15': ('olive', '#808000'),\n",
    " 'TBA17': ('honeydew', '#FFD700'),\n",
    " 'TBA19': ('gold', '#8FBC8F'),\n",
    " 'TBA24': ('aquamarine', '#006400'),\n",
    " 'TBA25': ('yellowgreen', '#9ACD32'),\n",
    " 'TBA26': ('tan', '#D2B48C'),\n",
    " 'TBA27': ('indigo', '#4B0082'),\n",
    " 'TBA28': ('mediumpurple', '#9370DB'),\n",
    " 'TBA29': ('blue', '#0000FF'),\n",
    " 'TBA30': ('darkslateblue', '#483D8B'),\n",
    " 'TBA31': ('sienna', '#A0522D'),#'TBA32': ('darkkhaki', '#BDB76B'),\n",
    " 'TBA33': ('khaki', '#F0E68C'),\n",
    " 'TBA34': ('dodgerblue', '#1E90FF'),\n",
    " 'TBA35': ('palevioletred', '#DB7093'),\n",
    " 'TBA36': ('yellow', '#FFFF00'),\n",
    " 'TBA37': ('floralwhite', '#6495ED'),\n",
    " 'TBA38': ('green', '#008000'),\n",
    " 'TBA39': ('red', '#AFEEEE'),\n",
    " 'TBA40': ('purple', '#800080'),\n",
    " 'TBA41': ('brown', '#A52A2A'),\n",
    " 'TBA42': ('chocolate', '#D2691E'),\n",
    " 'TBA43': ('steelblue', '#4682B4'),\n",
    " 'TBA44': ('magenta', '#FF00FF'),\n",
    " 'TBA45': ('rosybrown', '#BC8F8F'),\n",
    " 'TBA46': ('goldenrod', '#DAA520'),\n",
    " 'TBA47': ('paleturquoise', '#FF0000'),\n",
    " 'TBA10': ('lavender', '#E6E6FA'),\n",
    " 'TBA12': ('pink', '#FFC0CB'),\n",
    " 'TBA14': ('seashell', '#FFFAF0'),\n",
    " 'TBA16': ('mediumvioletred', '#C71585'),\n",
    " 'TBA18': ('black', '#000000'),#'TBA2': ('cornflowerblue', '#FFF5EE'),\n",
    " 'TBA20': ('saddlebrown', '#8B4513'),\n",
    " 'TBA21': ('wheat', '#F5DEB3'),\n",
    " 'TBA22': ('slategray', '#708090'),\n",
    " 'TBA23': ('silver', '#C0C0C0'),\n",
    " 'TBA04': ('midnightblue', '#191970'),\n",
    " 'TBA06': ('darkgreen', '#7FFFD4'),\n",
    " 'TBA08': ('darkseagreen', '#F0FFF0')}#BLUES NEXT B.1.361\n",
    "avail_clr = list(clr_code.keys())"
   ]
  },
  {
   "cell_type": "code",
   "execution_count": 81,
   "metadata": {},
   "outputs": [],
   "source": [
    "grpby_lins = (df_report_fnl.groupby('Pango Lineage Annotation')\n",
    "        .count().sort_values('coverage', ascending=False))"
   ]
  },
  {
   "cell_type": "code",
   "execution_count": 82,
   "metadata": {},
   "outputs": [],
   "source": [
    "max_count = grpby_lins['Sequence Name'].max()"
   ]
  },
  {
   "cell_type": "code",
   "execution_count": 83,
   "metadata": {},
   "outputs": [
    {
     "data": {
      "text/plain": [
       "34"
      ]
     },
     "execution_count": 83,
     "metadata": {},
     "output_type": "execute_result"
    }
   ],
   "source": [
    "max_count"
   ]
  },
  {
   "cell_type": "code",
   "execution_count": 84,
   "metadata": {
    "tags": []
   },
   "outputs": [],
   "source": [
    "clr_code_keys = list(clr_code.keys())"
   ]
  },
  {
   "cell_type": "code",
   "execution_count": 85,
   "metadata": {
    "tags": []
   },
   "outputs": [],
   "source": [
    "lins = list(grpby_lins.index)"
   ]
  },
  {
   "cell_type": "code",
   "execution_count": 86,
   "metadata": {},
   "outputs": [
    {
     "data": {
      "text/plain": [
       "{'AY.13',\n",
       " 'AY.16',\n",
       " 'AY.23',\n",
       " 'AY.33',\n",
       " 'AY.39.1',\n",
       " 'AY.41',\n",
       " 'AY.5',\n",
       " 'B.1.1.318',\n",
       " 'B.1.1.7',\n",
       " 'B.1.617.2'}"
      ]
     },
     "execution_count": 86,
     "metadata": {},
     "output_type": "execute_result"
    }
   ],
   "source": [
    "lin_tba =  set(lins) - set(clr_code_keys)\n",
    "lin_tba"
   ]
  },
  {
   "cell_type": "code",
   "execution_count": 87,
   "metadata": {},
   "outputs": [
    {
     "name": "stdout",
     "output_type": "stream",
     "text": [
      "length of lins to be assigned: 10\n",
      "length of colours available: 47\n"
     ]
    }
   ],
   "source": [
    "print(f'length of lins to be assigned: {len(lin_tba)}')\n",
    "print(f'length of colours available: {len(avail_clr)}')"
   ]
  },
  {
   "cell_type": "code",
   "execution_count": 88,
   "metadata": {},
   "outputs": [],
   "source": [
    "lin_clrs = {}\n",
    "for z in zip(lins, avail_clr):\n",
    "#     print(z)\n",
    "    lin_clrs[z[0]] = clr_code[z[1]][1]\n",
    "#     clr_code.pop(z[1])\n",
    "#     avail_clr.remove(z[1])\n",
    "# lin_clrs"
   ]
  },
  {
   "cell_type": "code",
   "execution_count": 89,
   "metadata": {},
   "outputs": [
    {
     "name": "stdout",
     "output_type": "stream",
     "text": [
      "{'AY.13': '#D2691E',\n",
      " 'AY.16': '#808080',\n",
      " 'AY.23': '#008080',\n",
      " 'AY.33': '#00FFFF',\n",
      " 'AY.39.1': '#2E8B57',\n",
      " 'AY.41': '#708090',\n",
      " 'AY.5': '#FF4500',\n",
      " 'B.1.1.318': '#808000',\n",
      " 'B.1.1.7': '#FFA500',\n",
      " 'B.1.617.2': '#00FF00'}\n"
     ]
    }
   ],
   "source": [
    "import pprint\n",
    "# pprint.pprint(clr_code)\n",
    "# pprint.pprint(avail_clr)\n",
    "pprint.pprint(lin_clrs)"
   ]
  },
  {
   "cell_type": "code",
   "execution_count": 90,
   "metadata": {
    "tags": []
   },
   "outputs": [],
   "source": [
    "xlabels = list(map(replace_with_who_lin,list(grpby_lins.sort_index().index)))"
   ]
  },
  {
   "cell_type": "code",
   "execution_count": 91,
   "metadata": {},
   "outputs": [],
   "source": [
    "lins = (df_report_fnl.groupby('Pango Lineage Annotation').count()\n",
    " .coverage.sort_index())"
   ]
  },
  {
   "cell_type": "code",
   "execution_count": 92,
   "metadata": {},
   "outputs": [],
   "source": [
    "lins.index=xlabels"
   ]
  },
  {
   "cell_type": "code",
   "execution_count": 93,
   "metadata": {},
   "outputs": [
    {
     "data": {
      "text/plain": [
       "B.1.617.2(Delta)    34\n",
       "AY.16(Delta)        25\n",
       "AY.5(Delta)         16\n",
       "AY.33(Delta)         3\n",
       "AY.13(Delta)         2\n",
       "AY.23(Delta)         2\n",
       "AY.41(Delta)         2\n",
       "B.1.1.7(Alpha)       2\n",
       "AY.39.1(Delta)       1\n",
       "B.1.1.318            1\n",
       "Name: coverage, dtype: int64"
      ]
     },
     "execution_count": 93,
     "metadata": {},
     "output_type": "execute_result"
    }
   ],
   "source": [
    "lins.sort_values(ascending=False)"
   ]
  },
  {
   "cell_type": "code",
   "execution_count": 94,
   "metadata": {},
   "outputs": [
    {
     "data": {
      "image/png": "[encoded data removed]",
      "text/plain": [
       "<Figure size 432x288 with 1 Axes>"
      ]
     },
     "metadata": {
      "needs_background": "light"
     },
     "output_type": "display_data"
    }
   ],
   "source": [
    "import math\n",
    "# plot lineage frequencies\n",
    "width = lins.sort_values(ascending=True)\n",
    "\n",
    "colors = [lin_clrs[lin.split('(')[0]] for lin in list(width.index)]\n",
    "# colors = [clr[1] for clr in clr_code.values()]\n",
    "n = lins.sum()\n",
    "xticks = np.arange(0, (math.ceil(max_count / 5) + 1) * 5, 5)\n",
    "fig, ax = plt.subplots()\n",
    "# (df_report_fnl['Pango Lineage Annotation']\n",
    "#  .value_counts()\n",
    "#  .sort_values(ascending=False)\n",
    "plt.barh(width.index, width, color=colors)\n",
    "plt.title('Lineage frequencies')\n",
    "plt.ylabel('Lineages')\n",
    "plt.xticks(xticks, xticks)\n",
    "plt.yticks(width.index, fontsize=8)\n",
    "plt.xlabel(f'Counts (N={n})')\n",
    "plt.grid('major', axis='x', ls='-.')\n",
    "plt.tight_layout()\n",
    "# fig.savefig('/home/douso/SarsGenomics/Processed/policy-brief-P-ONTh.png')\n",
    "plt.show()"
   ]
  },
  {
   "cell_type": "code",
   "execution_count": 95,
   "metadata": {},
   "outputs": [
    {
     "data": {
      "image/png": "[encoded data removed]",
      "text/plain": [
       "<Figure size 432x288 with 1 Axes>"
      ]
     },
     "metadata": {
      "needs_background": "light"
     },
     "output_type": "display_data"
    }
   ],
   "source": [
    "import math\n",
    "# plot lineage frequencies\n",
    "width = lins.sort_values(ascending=False)\n",
    "\n",
    "colors = [lin_clrs[lin.split('(')[0]] for lin in list(width.index)]\n",
    "n = df_report_fnl['Pango Lineage Annotation'].count()\n",
    "yticks = np.arange(0, (math.ceil(max_count / 5) + 1) * 5, 5)\n",
    "fig, ax = plt.subplots()\n",
    "# (df_report_fnl['Pango Lineage Annotation']\n",
    "#  .value_counts().\n",
    "width.plot(kind='bar', ax=ax, color=colors)\n",
    "plt.title('Lineage frequencies')\n",
    "plt.xlabel('Lineages')\n",
    "plt.yticks(yticks)\n",
    "plt.xticks(ticks=range(len(lins)), rotation=90, labels=width.index)\n",
    "plt.ylabel(f'Counts  (N={n})')\n",
    "plt.tight_layout()\n",
    "# fig.savefig('/home/douso/SarsGenomics/Processed/policy-brief-P-ONT.png')\n",
    "plt.show()"
   ]
  },
  {
   "cell_type": "code",
   "execution_count": 96,
   "metadata": {},
   "outputs": [],
   "source": [
    "row_order = df_report_fnl.groupby('Sample County of Origin').count()[['Sequence Name']].sort_values('Sequence Name', ascending=False).index"
   ]
  },
  {
   "cell_type": "code",
   "execution_count": 97,
   "metadata": {},
   "outputs": [],
   "source": [
    "df_report_fnl['Sample County of Origin'] = pd.Categorical(df_report_fnl['Sample County of Origin'], categories=row_order,ordered=True)"
   ]
  },
  {
   "cell_type": "code",
   "execution_count": 98,
   "metadata": {
    "tags": []
   },
   "outputs": [
    {
     "data": {
      "image/png": "[encoded data removed]",
      "text/plain": [
       "<Figure size 432x288 with 1 Axes>"
      ]
     },
     "metadata": {
      "needs_background": "light"
     },
     "output_type": "display_data"
    }
   ],
   "source": [
    "df_seq_summ10Ls_srt = df_report_fnl.rename(columns={'Pango Lineage Annotation':'Lineages'})#.sort_values('Sample County of Origin', ascending=False)\n",
    "fig,ax = plt.subplots(figsize=(6,4))\n",
    "# sns.set_palette(sns.color_palette(colors.values()))\n",
    "palette_clr = colors# {l: colors[l] for l in df_seq_summ10Ls_srt.Lineages.unique()}\n",
    "# sns.set_color_codes('pastel')\n",
    "sns.histplot(df_seq_summ10Ls_srt, x='Sample County of Origin', \n",
    "            hue='Lineages',multiple=\"stack\",\n",
    "             hue_order=reversed(df_report_fnl['Pango Lineage Annotation'].value_counts().index),\n",
    "           palette=palette_clr, ax=ax, legend=True)#legend=True, loc='upper right',title='Lineages', ncol=1, borderaxespad=0\n",
    "# ax.get_legend()\n",
    "l = ax.get_legend()\n",
    "h = l.legendHandles\n",
    "plt.xticks(rotation=90)\n",
    "plt.ylabel(f'Counts (N={df_seq_summ10Ls_srt.shape[0]})')\n",
    "plt.xlabel('Counties')\n",
    "# l.remove()\n",
    "plt.legend(h, [t.get_text() for t in l.texts], title='Lineages', fancybox=True, ncol=2)#, loc=(1.01, 0.03)labelspacing=0.25, \n",
    "# plt.legend(df_seq_summ10Ls_srt.LIN.value_counts().sort_values(ascending=True)[-10:].index,\n",
    "#           title='Lineages', ncol=1)#, bbox_to_anchor=(1,1)\n",
    "plt.title('Lineages by counties (coverage >= 70%)', fontsize=12)\n",
    "plt.grid(axis='y')\n",
    "plt.tight_layout()\n",
    "# plt.savefig(f\"{glob.glob(f'{parent_dir}/**/KnowledgeBrief', recursive=True)[0]}/policy-linXcounty{category+'_'}{dt}.{ext}\")\n",
    "plt.show()"
   ]
  }
 ],
 "metadata": {
  "kernelspec": {
   "display_name": "Python 3",
   "language": "python",
   "name": "python3"
  },
  "language_info": {
   "codemirror_mode": {
    "name": "ipython",
    "version": 3
   },
   "file_extension": ".py",
   "mimetype": "text/x-python",
   "name": "python",
   "nbconvert_exporter": "python",
   "pygments_lexer": "ipython3",
   "version": "3.8.10"
  }
 },
 "nbformat": 4,
 "nbformat_minor": 4
}
